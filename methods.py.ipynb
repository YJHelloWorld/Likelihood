{
 "cells": [
  {
   "cell_type": "markdown",
   "metadata": {
    "ExecuteTime": {
     "end_time": "2020-06-19T15:15:30.771549Z",
     "start_time": "2020-06-19T15:15:30.768071Z"
    }
   },
   "source": [
    "# Code"
   ]
  },
  {
   "cell_type": "code",
   "execution_count": 22,
   "metadata": {
    "ExecuteTime": {
     "end_time": "2020-06-22T19:54:54.870475Z",
     "start_time": "2020-06-22T19:54:54.865309Z"
    }
   },
   "outputs": [],
   "source": [
    "from ps_estimator import pstimator \n",
    "import bandpowers\n",
    "import utils"
   ]
  },
  {
   "cell_type": "code",
   "execution_count": 514,
   "metadata": {
    "ExecuteTime": {
     "end_time": "2020-06-25T18:03:48.129892Z",
     "start_time": "2020-06-25T18:03:48.119306Z"
    }
   },
   "outputs": [],
   "source": [
    "import numpy as np\n",
    "import pymaster as nmt\n",
    "import healpy as hp\n",
    "import numpy as np\n",
    "import matplotlib.pyplot as plt \n",
    "import imp\n",
    "import camb\n",
    "\n",
    "from astropy.io import fits as fits\n",
    "\n",
    "from scipy.linalg import sqrtm\n",
    "\n",
    "from numpy import linalg as LA\n",
    "%matplotlib inline"
   ]
  },
  {
   "cell_type": "code",
   "execution_count": 3,
   "metadata": {
    "ExecuteTime": {
     "end_time": "2020-06-22T19:49:33.910354Z",
     "start_time": "2020-06-22T19:49:33.906054Z"
    }
   },
   "outputs": [],
   "source": [
    "nside = 128\n",
    "nmtlmax = 201\n",
    "lmin = 2\n",
    "lmax = 1521"
   ]
  },
  {
   "cell_type": "code",
   "execution_count": 1083,
   "metadata": {
    "ExecuteTime": {
     "end_time": "2020-06-29T16:47:41.090532Z",
     "start_time": "2020-06-29T16:47:41.086942Z"
    }
   },
   "outputs": [],
   "source": [
    "SamNum = 500"
   ]
  },
  {
   "cell_type": "code",
   "execution_count": 1076,
   "metadata": {
    "ExecuteTime": {
     "end_time": "2020-06-29T16:44:20.431131Z",
     "start_time": "2020-06-29T16:44:20.427007Z"
    }
   },
   "outputs": [],
   "source": [
    "Nf = 2\n",
    "\n",
    "nf_ind = int(Nf*(Nf+1)/2)"
   ]
  },
  {
   "cell_type": "code",
   "execution_count": 1229,
   "metadata": {
    "ExecuteTime": {
     "end_time": "2020-06-30T19:28:36.823808Z",
     "start_time": "2020-06-30T19:28:36.817969Z"
    }
   },
   "outputs": [],
   "source": [
    "b = nmt.NmtBin(nside, nlb=20, is_Dell=True, lmax=nmtlmax)\n",
    "leff = b.get_effective_ells()\n",
    "lbin = len(leff)\n",
    "b_ind = np.arange(1,lbin+1)"
   ]
  },
  {
   "cell_type": "code",
   "execution_count": 580,
   "metadata": {
    "ExecuteTime": {
     "end_time": "2020-06-26T15:41:41.657353Z",
     "start_time": "2020-06-26T15:41:41.623613Z"
    }
   },
   "outputs": [
    {
     "name": "stdout",
     "output_type": "stream",
     "text": [
      "NSIDE = 128\n",
      "ORDERING = RING in fits file\n",
      "INDXSCHM = IMPLICIT\n"
     ]
    }
   ],
   "source": [
    "ali_ma = hp.read_map('/fnx/jianyao/Likelihood_data/ABSData/ali_mask.fits', field = None)"
   ]
  },
  {
   "cell_type": "markdown",
   "metadata": {
    "heading_collapsed": true
   },
   "source": [
    "## window function"
   ]
  },
  {
   "cell_type": "markdown",
   "metadata": {
    "hidden": true
   },
   "source": [
    " equal weight for each $\\ell$ in a $\\ell$-bin\n",
    " \n",
    " for bin_width = 20, weight = 1/20 = 0.05"
   ]
  },
  {
   "cell_type": "markdown",
   "metadata": {
    "hidden": true
   },
   "source": [
    "### code"
   ]
  },
  {
   "cell_type": "code",
   "execution_count": 45,
   "metadata": {
    "ExecuteTime": {
     "end_time": "2020-06-19T17:16:06.669436Z",
     "start_time": "2020-06-19T17:16:06.657817Z"
    },
    "hidden": true
   },
   "outputs": [],
   "source": [
    "b = nmt.NmtBin(nside, nlb=20, is_Dell=True, lmax=nmtlmax)\n",
    "leff = b.get_effective_ells()\n",
    "nb = len(leff)\n",
    "for i in range(nb):\n",
    "\n",
    "    bpwf = np.zeros(lmax-lmin+2)\n",
    "    lrange = b.get_ell_list(i)\n",
    "    w = b.get_weight_list(i) ## weights for each ell in i-th bin\n",
    "    bpwf[lrange-lmin+1] = w\n",
    "    l = np.arange(1, lmax-lmin+3)\n",
    "\n",
    "    bpwf = np.array([l, bpwf]).T\n",
    "    \n",
    "    # print(np.shape(bpwf))\n",
    "    # np.savetxt(data_dir+'AliCPT_bpwf_bin%s.txt'%(i+1), bpwf, fmt=['%d', '%.10e', '%.10e', '%.10e'])\n",
    "    # np.savetxt(data_dir + 'AliCPT_bpwf_bin%s.txt' % (i + 1), bpwf, fmt=['%d', '%.10e', '%.10e', '%.10e', '%.10e', '%.10e', '%.10e'])\n",
    "#     np.savetxt(data_dir+'AliCPT_bpwf_bin%s.txt'%(i+1), bpwf, fmt=['%d', '%.10e'])"
   ]
  },
  {
   "cell_type": "markdown",
   "metadata": {
    "ExecuteTime": {
     "end_time": "2020-06-29T16:20:41.171172Z",
     "start_time": "2020-06-29T16:20:41.167602Z"
    }
   },
   "source": [
    "## 2fre-full-sky-data"
   ]
  },
  {
   "cell_type": "markdown",
   "metadata": {
    "ExecuteTime": {
     "end_time": "2020-06-29T16:44:07.572296Z",
     "start_time": "2020-06-29T16:44:07.567790Z"
    }
   },
   "source": [
    "BB cross-frequency bandpower spectra\n",
    "\n",
    "- Cl_hat : (lbin, Nf, Nf)\n",
    "\n",
    "- Cl_f :  ((lbin, Nf, Nf))\n",
    "\n",
    "- Cl_th : ((lbin, Nf, Nf))\n"
   ]
  },
  {
   "cell_type": "code",
   "execution_count": 859,
   "metadata": {
    "ExecuteTime": {
     "end_time": "2020-06-27T21:36:51.400120Z",
     "start_time": "2020-06-27T21:36:51.394243Z"
    }
   },
   "outputs": [],
   "source": [
    "## cl_fiducial\n",
    "cl_f_all = np.load('/fnx/jianyao/Likelihood_data/Bandpowers/0627_2fre_fullsky/cl_f_all.npy')\n",
    "cl_f = np.mean(cl_f_all, axis = 0)"
   ]
  },
  {
   "cell_type": "code",
   "execution_count": 861,
   "metadata": {
    "ExecuteTime": {
     "end_time": "2020-06-27T21:36:53.442580Z",
     "start_time": "2020-06-27T21:36:53.439185Z"
    }
   },
   "outputs": [
    {
     "data": {
      "text/plain": [
       "(3, 10, 2, 2)"
      ]
     },
     "execution_count": 861,
     "metadata": {},
     "output_type": "execute_result"
    }
   ],
   "source": [
    "cl_f.shape"
   ]
  },
  {
   "cell_type": "code",
   "execution_count": 1100,
   "metadata": {
    "ExecuteTime": {
     "end_time": "2020-06-29T19:22:05.181926Z",
     "start_time": "2020-06-29T19:22:05.174550Z"
    }
   },
   "outputs": [],
   "source": [
    "## cl_th\n",
    "\n",
    "cl_camb = np.load('/fnx/jianyao/Likelihood_data/Bandpowers/0627_2fre_fullsky/cl_camb_BB_2fre.npy')\n",
    "\n",
    "nl_all = np.load('/fnx/jianyao/Likelihood_data/Bandpowers/0627_2fre_fullsky/nl_all.npy')\n",
    "nl_mean = np.mean(nl_all, axis = 0) ## EE EB BB\n",
    "\n",
    "cl_th_BB = cl_camb + nl_mean[2]"
   ]
  },
  {
   "cell_type": "code",
   "execution_count": null,
   "metadata": {},
   "outputs": [],
   "source": []
  },
  {
   "cell_type": "code",
   "execution_count": 856,
   "metadata": {
    "ExecuteTime": {
     "end_time": "2020-06-27T21:36:30.744287Z",
     "start_time": "2020-06-27T21:36:30.737438Z"
    }
   },
   "outputs": [],
   "source": [
    "### 观测数据应该只有一幅。。。\n",
    "\n",
    "cl_hat_all = np.load('/fnx/jianyao/Likelihood_data/Bandpowers/0627_2fre_fullsky/cl_hat_all.npy')\n",
    "cl_hat = np.mean(cl_hat_all, axis = 0)\n",
    "cl_hat_0 = cl_hat_all[1]"
   ]
  },
  {
   "cell_type": "code",
   "execution_count": 1082,
   "metadata": {
    "ExecuteTime": {
     "end_time": "2020-06-29T16:47:06.210771Z",
     "start_time": "2020-06-29T16:47:06.205020Z"
    }
   },
   "outputs": [
    {
     "name": "stdout",
     "output_type": "stream",
     "text": [
      "Cl_hat: (3, 10, 2, 2) \n",
      "Cl_f: (3, 10, 2, 2) \n",
      "Cl_th_BB: (10, 2, 2)\n"
     ]
    }
   ],
   "source": [
    "print('Cl_hat:',cl_hat_0.shape,'\\n'\n",
    "'Cl_f:',cl_f.shape,'\\n'\n",
    "'Cl_th_BB:',cl_th_BB.shape)"
   ]
  },
  {
   "cell_type": "markdown",
   "metadata": {
    "ExecuteTime": {
     "end_time": "2020-06-25T15:14:40.084618Z",
     "start_time": "2020-06-25T15:14:40.075679Z"
    }
   },
   "source": [
    "$$\\left(X_b^{30*30}, X_b^{95*95}, X_b^{150*150}, X_b^{353*353}, X_b^{30*95}, X_b^{95*150},X_b^{150*353},X_b^{30*150},X_b^{95*353},X_b^{30*353} \\right)=\\textrm{vecp}\\left((\\mathcal{D}_b^f)^{1/2}{\\bf U}_b\\,g({\\bf D}_b){\\bf U}_b^{\\dagger}(\\mathcal{D}_b^f)^{1/2}\\right)$$"
   ]
  },
  {
   "cell_type": "code",
   "execution_count": 1070,
   "metadata": {
    "ExecuteTime": {
     "end_time": "2020-06-29T15:59:07.538033Z",
     "start_time": "2020-06-29T15:59:07.351826Z"
    }
   },
   "outputs": [],
   "source": [
    "#(cl_hat_all, nf_ind, Nmode,lbin, SamNum)\n",
    "\n",
    "marry = utils.Marray_EEfirst(cl_f_all, nf_ind, 3, lbin, cl_f_all.shape[0]) ## (Nmode*lbin*nf_ind, SamNum)\n",
    "\n",
    "cov_mat_BB = np.cov(marry[lbin*nf_ind*2:]) ##(select BB mode)\n",
    "\n",
    "M_inv = utils.Minv(cov_mat_BB, lbin, nf_ind)"
   ]
  },
  {
   "cell_type": "code",
   "execution_count": 1138,
   "metadata": {
    "ExecuteTime": {
     "end_time": "2020-06-29T19:53:58.449805Z",
     "start_time": "2020-06-29T19:53:58.176760Z"
    }
   },
   "outputs": [
    {
     "data": {
      "text/plain": [
       "<matplotlib.image.AxesImage at 0x7fa33cf47a90>"
      ]
     },
     "execution_count": 1138,
     "metadata": {},
     "output_type": "execute_result"
    },
    {
     "data": {
      "image/png": "[encoded data removed]",
      "text/plain": [
       "<Figure size 720x576 with 1 Axes>"
      ]
     },
     "metadata": {
      "needs_background": "light"
     },
     "output_type": "display_data"
    }
   ],
   "source": [
    "plt.figure(figsize = (10, 8))\n",
    "plt.imshow(cov_mat_BB, cmap = 'coolwarm')"
   ]
  },
  {
   "cell_type": "markdown",
   "metadata": {
    "ExecuteTime": {
     "end_time": "2020-06-29T18:54:20.176579Z",
     "start_time": "2020-06-29T18:54:20.172917Z"
    }
   },
   "source": [
    "## 2-fre Ali-sky"
   ]
  },
  {
   "cell_type": "code",
   "execution_count": 1149,
   "metadata": {
    "ExecuteTime": {
     "end_time": "2020-06-29T20:19:53.353782Z",
     "start_time": "2020-06-29T20:19:53.340644Z"
    }
   },
   "outputs": [],
   "source": [
    "path = '/fnx/jianyao/Likelihood_data/Bandpowers/0629_2fre_Ali'\n",
    "\n",
    "cl_f_all_ali = np.load('%s/cl_f_all.npy'%path); cl_f_ali = np.mean(cl_f_all, axis = 0)\n",
    "\n",
    "cl_hat_all_ali = np.load('%s/cl_hat_all.npy'%path)\n",
    "cl_hat_0_ali = cl_hat_all_ali[2]\n",
    "\n",
    "nl_all_ali = np.load('%s/nl_all.npy'%path)\n",
    "nl_mean_ali = np.mean(nl_all_ali, axis = 0) ## EE EB BB\n",
    "\n",
    "cl_camb = np.load('/fnx/jianyao/Likelihood_data/Bandpowers/0627_2fre_fullsky/cl_camb_BB_2fre.npy')\n",
    "cl_th_BB_ali = cl_camb + nl_mean_ali[2]"
   ]
  },
  {
   "cell_type": "code",
   "execution_count": 1150,
   "metadata": {
    "ExecuteTime": {
     "end_time": "2020-06-29T20:19:54.325301Z",
     "start_time": "2020-06-29T20:19:54.180647Z"
    }
   },
   "outputs": [],
   "source": [
    "marry_ali = utils.Marray_EEfirst(cl_f_all_ali, nf_ind, 3, lbin, cl_f_all_ali.shape[0]) ## (Nmode*lbin*nf_ind, SamNum)\n",
    "\n",
    "cov_mat_BB_ali = np.cov(marry_ali[lbin*nf_ind*2:]) ##(select BB mode)\n",
    "\n",
    "M_inv_ali = utils.Minv(cov_mat_BB_ali, lbin, nf_ind)"
   ]
  },
  {
   "cell_type": "code",
   "execution_count": 1218,
   "metadata": {
    "ExecuteTime": {
     "end_time": "2020-06-30T00:51:30.390098Z",
     "start_time": "2020-06-30T00:51:30.376644Z"
    }
   },
   "outputs": [],
   "source": [
    "evaluateL = utils.evaluateLikelihood\n",
    "\n",
    "def r_like(cl_hat_0, cl_f, nl_mean, M_inv):\n",
    "# Initiating the logarithmic likelihood arrays\n",
    "    logLike = np.zeros(len(rlist))\n",
    "\n",
    "    # loop over r values\n",
    "    for i in range(len(rlist)):\n",
    "\n",
    "        r_i  =  rlist[i]\n",
    "        bb_tensor = bb_05[0:nmtlmax+1]*r_i/0.05 \n",
    "\n",
    "        bb_camb = bb_tensor + lensingB[2][0:nmtlmax+1] ## tensor BB + lensing BB \n",
    "\n",
    "        cl_th_i = b.bin_cell(bb_camb[0:nmtlmax+1])  ## theoretical bandpower \n",
    "        cl_th_test = np.ones((lbin, Nf, Nf));  ## BB cross power spectra\n",
    "        for ell in range(lbin):\n",
    "            cl_th_test[ell] *= cl_th_i[ell]\n",
    "\n",
    "        # add Noise bias N_l to expectation values.\n",
    "        C_l = cl_th_test + nl_mean[2]\n",
    "\n",
    "        logL = evaluateL(C_l, cl_hat_0[2], cl_f[2], M_inv)\n",
    "        logLike[i] = np.real(logL)\n",
    "    \n",
    "    r_max = np.argsort(logLike)[-1]\n",
    "    return rlist[r_max]"
   ]
  },
  {
   "cell_type": "code",
   "execution_count": 1219,
   "metadata": {
    "ExecuteTime": {
     "end_time": "2020-06-30T01:24:23.296742Z",
     "start_time": "2020-06-30T00:55:22.101594Z"
    }
   },
   "outputs": [],
   "source": [
    "Nreal = 50\n",
    "\n",
    "r_rec_ali = np.ones(Nreal)\n",
    "for i in range(Nreal):\n",
    "    r_rec_ali[i] = r_like(cl_hat_all_ali[i], cl_f_ali, nl_mean_ali, M_inv_ali)"
   ]
  },
  {
   "cell_type": "code",
   "execution_count": 1277,
   "metadata": {
    "ExecuteTime": {
     "end_time": "2020-06-30T21:02:54.493916Z",
     "start_time": "2020-06-30T21:02:54.487169Z"
    }
   },
   "outputs": [
    {
     "name": "stdout",
     "output_type": "stream",
     "text": [
      "Ali 0.05087200000000001 0.0029419748469353036 \n",
      " full_sky 0.05000999999999999 0.0010577806956075537\n"
     ]
    }
   ],
   "source": [
    "print('Ali', np.mean(r_rec_ali),\n",
    "np.std(r_rec_ali), '\\n',\n",
    "    \n",
    "'full_sky',\n",
    "np.mean(r_rec),\n",
    "np.std(r_rec))"
   ]
  },
  {
   "cell_type": "code",
   "execution_count": 1264,
   "metadata": {
    "ExecuteTime": {
     "end_time": "2020-06-30T20:59:07.279076Z",
     "start_time": "2020-06-30T20:59:07.031066Z"
    }
   },
   "outputs": [
    {
     "data": {
      "image/png": "[encoded data removed]",
      "text/plain": [
       "<Figure size 432x288 with 1 Axes>"
      ]
     },
     "metadata": {
      "needs_background": "light"
     },
     "output_type": "display_data"
    }
   ],
   "source": [
    "plt.hist(r_rec)\n",
    "plt.savefig('./fig_results/0630_histgram_full_sky.pdf', format = 'pdf')"
   ]
  },
  {
   "cell_type": "code",
   "execution_count": null,
   "metadata": {},
   "outputs": [],
   "source": []
  },
  {
   "cell_type": "code",
   "execution_count": 1263,
   "metadata": {
    "ExecuteTime": {
     "end_time": "2020-06-30T20:58:54.528229Z",
     "start_time": "2020-06-30T20:58:54.297483Z"
    }
   },
   "outputs": [
    {
     "data": {
      "image/png": "[encoded data removed]",
      "text/plain": [
       "<Figure size 432x288 with 1 Axes>"
      ]
     },
     "metadata": {
      "needs_background": "light"
     },
     "output_type": "display_data"
    }
   ],
   "source": [
    "plt.hist(r_rec_ali, bins=10)\n",
    "plt.savefig('./fig_results/0630_histgram_ali_sky.pdf', format = 'pdf')"
   ]
  },
  {
   "cell_type": "code",
   "execution_count": 1261,
   "metadata": {
    "ExecuteTime": {
     "end_time": "2020-06-30T20:57:37.903453Z",
     "start_time": "2020-06-30T20:57:37.585603Z"
    }
   },
   "outputs": [
    {
     "data": {
      "image/png": "[encoded data removed]",
      "text/plain": [
       "<Figure size 720x576 with 1 Axes>"
      ]
     },
     "metadata": {
      "needs_background": "light"
     },
     "output_type": "display_data"
    }
   ],
   "source": [
    "plt.figure(figsize = (10, 8))\n",
    "for i in range(Nreal):\n",
    "    plt.axvline(r_rec_ali[i],c='b', ls='--')\n",
    "plt.xlim(0.045, 0.055)\n",
    "\n",
    "plt.axvline(0.05, c='r', lw = 3,ls='-')\n",
    "plt.title('Different CMB and noise realizations for Ali Sky', fontsize = 16)\n",
    "plt.xlabel(r'Tensor-to-scalar ratio $r$', size=16)\n",
    "plt.savefig('./fig_results/0630_constrains_on_r_Ali_sky_different_realizations.pdf', format = 'pdf')"
   ]
  },
  {
   "cell_type": "code",
   "execution_count": null,
   "metadata": {},
   "outputs": [],
   "source": []
  },
  {
   "cell_type": "markdown",
   "metadata": {
    "ExecuteTime": {
     "end_time": "2020-06-21T16:08:16.690241Z",
     "start_time": "2020-06-21T16:08:16.686732Z"
    }
   },
   "source": [
    "## Bandpower covariance matrix"
   ]
  },
  {
   "cell_type": "markdown",
   "metadata": {
    "ExecuteTime": {
     "end_time": "2020-06-21T18:29:01.657538Z",
     "start_time": "2020-06-21T18:29:01.498905Z"
    }
   },
   "source": [
    "10 bins, 10-fre cross, SamNum BB"
   ]
  },
  {
   "cell_type": "markdown",
   "metadata": {},
   "source": [
    "> /home/yao/Desktop/likelihood/ali_joint_analysis/CosmoMC_AliCPT/data/AliCPT_Plk/AliCPT_covmat.dat\n",
    "\n",
    "$234 \\times 234$\n",
    "\n",
    "(39x6) * (39x6)\n",
    "\n",
    "39-bin; bin_width = 20, nmtlmax = 800 \n",
    "\n",
    "Ali_95_BxAli_95_B Ali_95_BxAli_150_B Ali_95_BxAli_353_B Ali_150_BxAli_150_B Ali_150_BxAli_353_B Ali_353_BxAli_353_B"
   ]
  },
  {
   "cell_type": "markdown",
   "metadata": {
    "heading_collapsed": true
   },
   "source": [
    "### Get arrays for Covariance matrix"
   ]
  },
  {
   "cell_type": "code",
   "execution_count": 1073,
   "metadata": {
    "ExecuteTime": {
     "end_time": "2020-06-29T15:59:54.388110Z",
     "start_time": "2020-06-29T15:59:54.377985Z"
    },
    "hidden": true
   },
   "outputs": [],
   "source": [
    "def Marray_lfirst(cl_f_all, nf_ind, Nmode,lbin, SamNum):\n",
    "    \n",
    "    '''\n",
    "    Input\n",
    "    --------------------------------\n",
    "    nf_ind : number of independent frequencies cross\n",
    "    Nmode: number of modes, e.g., EE,EB,BB\n",
    "    SamNum: number of realizations\n",
    "    cl_hat_all: cl_hat that consists of all the realizations (20, 3, 10, 4, 4);(SamNum, Nmode, lbin, Nf, Nf)\n",
    "    \n",
    "    Output\n",
    "    --------------------------------\n",
    "    \n",
    "    '''  \n",
    "    vecp = utils.vecp\n",
    "    marray = np.zeros(((lbin*Nmode*nf_ind), SamNum)) # mode(EE, EB, BB), l-bin, nf independent corr between frequencies \n",
    "    for n in range(SamNum):\n",
    "\n",
    "        for ell in range(lbin):\n",
    "\n",
    "            cl_flat = np.zeros((Nmode, nf_ind)) ## collect independent corr for each mode\n",
    "\n",
    "            for mode in range(Nmode):\n",
    "\n",
    "                cl_flat[mode] = vecp(cl_f_all[n][mode][ell])\n",
    "\n",
    "            marray[ell*Nmode*nf_ind:(ell+1)*Nmode*nf_ind,n] = cl_flat.flatten()\n",
    "    \n",
    "    return marray"
   ]
  },
  {
   "cell_type": "code",
   "execution_count": 984,
   "metadata": {
    "ExecuteTime": {
     "end_time": "2020-06-29T01:02:24.774780Z",
     "start_time": "2020-06-29T01:02:24.770785Z"
    },
    "hidden": true
   },
   "outputs": [],
   "source": [
    "vecp = utils.vecp"
   ]
  },
  {
   "cell_type": "code",
   "execution_count": 1072,
   "metadata": {
    "ExecuteTime": {
     "end_time": "2020-06-29T15:59:27.622538Z",
     "start_time": "2020-06-29T15:59:27.613068Z"
    },
    "hidden": true
   },
   "outputs": [],
   "source": [
    "def Marray_EEfirst(cl_f_all, nf_ind, Nmode,lbin, SamNum):\n",
    "\n",
    "    marray = np.zeros(((Nmode*lbin*nf_ind), SamNum)) # mode(EE, EB, BB), l-bin, nf independent corr between frequencies \n",
    "    for n in range(SamNum):\n",
    "\n",
    "        for mode in range(Nmode):    \n",
    "\n",
    "            cl_flat = np.zeros((lbin, nf_ind)) ## collect independent corr for each l-bin\n",
    "\n",
    "            for ell in range(lbin):\n",
    "                cl_flat[ell] = vecp(cl_f_all[n][mode][ell])# - nl_mean[2][ell] ) ##########!!!!!!!!!!!!!!!!!! need to subtract noise?? 06.27\n",
    "\n",
    "            marray[mode*lbin*nf_ind:(mode+1)*lbin*nf_ind,n] = cl_flat.flatten()\n",
    "            \n",
    "    return marray"
   ]
  },
  {
   "cell_type": "markdown",
   "metadata": {},
   "source": [
    "### Figures"
   ]
  },
  {
   "cell_type": "code",
   "execution_count": 116,
   "metadata": {
    "ExecuteTime": {
     "end_time": "2020-06-24T13:27:28.532819Z",
     "start_time": "2020-06-24T13:27:28.245337Z"
    }
   },
   "outputs": [],
   "source": [
    "marry = Marray_EEfirst(4, 3, 10, cl_hat_all.shape[0], cl_hat_all)"
   ]
  },
  {
   "cell_type": "code",
   "execution_count": 1278,
   "metadata": {
    "ExecuteTime": {
     "end_time": "2020-06-30T21:03:45.541418Z",
     "start_time": "2020-06-30T21:03:45.537895Z"
    }
   },
   "outputs": [],
   "source": [
    "# cov_marry = np.corrcoef(marry)\n",
    "# plt.figure(figsize = (10,10))\n",
    "# plt.imshow(cov_marry, cmap = 'coolwarm', vmin = -1, vmax = 1)\n",
    "# plt.colorbar()\n",
    "# plt.title('lbin , mode, frequency (10*3*10)', fontsize = 20)\n",
    "# plt.savefig('./fig_results/covariance_matrix_lbin_first.pdf', format = 'pdf')"
   ]
  },
  {
   "cell_type": "code",
   "execution_count": 1280,
   "metadata": {
    "ExecuteTime": {
     "end_time": "2020-06-30T21:04:00.775454Z",
     "start_time": "2020-06-30T21:04:00.772175Z"
    }
   },
   "outputs": [],
   "source": [
    "# cov_marry = np.corrcoef(marry)\n",
    "# plt.figure(figsize = (10,10))\n",
    "# plt.imshow(cov_marry, cmap = 'coolwarm', vmin = -1, vmax = 1)\n",
    "# plt.colorbar()\n",
    "# plt.title('mode , lbin, frequency', fontsize = 20)\n",
    "# plt.annotate(s = '',xy=(0.07,0.08), xytext=(0.33,0.08),arrowprops=dict(arrowstyle='<->'), xycoords = 'figure fraction')\n",
    "# plt.annotate(s = '',xy=(0.33,0.08), xytext=(0.59,0.08),arrowprops=dict(arrowstyle='<->'), xycoords = 'figure fraction')\n",
    "# plt.annotate(s = '',xy=(0.585,0.08), xytext=(0.84,0.08),arrowprops=dict(arrowstyle='<->'), xycoords = 'figure fraction')\n",
    "# plt.text(45, 340, 'EE', fontsize = '15')\n",
    "# plt.text(145, 340, 'EB', fontsize = '15')\n",
    "# plt.text(245, 340, 'BB', fontsize = '15')\n",
    "\n",
    "# plt.annotate(s = '',xy=(0.07,0.125), xytext=(0.105,0.125),arrowprops=dict(arrowstyle='<->'), xycoords = 'figure fraction')\n",
    "# plt.annotate(s = '',xy=(0.105,0.125), xytext=(0.140,0.125),arrowprops=dict(arrowstyle='<->'), xycoords = 'figure fraction')\n",
    "\n",
    "# plt.text(0, 320, '$\\ell$1', fontsize = '15')\n",
    "        \n",
    "# plt.text(12, 320, '$\\ell$2', fontsize = '15')\n",
    "          \n",
    "# plt.savefig('./fig_results/covariance_matrix_EE_first.pdf', format = 'pdf')"
   ]
  },
  {
   "cell_type": "code",
   "execution_count": 1281,
   "metadata": {
    "ExecuteTime": {
     "end_time": "2020-06-30T21:04:05.223293Z",
     "start_time": "2020-06-30T21:04:05.219949Z"
    }
   },
   "outputs": [],
   "source": [
    "# ## 20 realizations\n",
    "\n",
    "# plt.figure(figsize = (10,10))\n",
    "# plt.imshow(cov_mat_BB, cmap = 'coolwarm', vmin = -1, vmax = 1)\n",
    "# plt.colorbar()"
   ]
  },
  {
   "cell_type": "code",
   "execution_count": 489,
   "metadata": {
    "ExecuteTime": {
     "end_time": "2020-06-25T16:46:29.036041Z",
     "start_time": "2020-06-25T16:46:29.029905Z"
    }
   },
   "outputs": [
    {
     "data": {
      "text/plain": [
       "(300, 500)"
      ]
     },
     "execution_count": 489,
     "metadata": {},
     "output_type": "execute_result"
    }
   ],
   "source": [
    "marry.shape"
   ]
  },
  {
   "cell_type": "code",
   "execution_count": 33,
   "metadata": {
    "ExecuteTime": {
     "end_time": "2020-06-22T20:18:07.983782Z",
     "start_time": "2020-06-22T20:18:07.971286Z"
    }
   },
   "outputs": [],
   "source": [
    "cov_mat =  np.corrcoef(marray)## full covariance matrix\n",
    "# \n",
    "# np.corrcoef(marray)"
   ]
  },
  {
   "cell_type": "code",
   "execution_count": 1282,
   "metadata": {
    "ExecuteTime": {
     "end_time": "2020-06-30T21:04:10.034680Z",
     "start_time": "2020-06-30T21:04:10.030558Z"
    }
   },
   "outputs": [],
   "source": [
    "# plt.figure(figsize = (10,10))\n",
    "# plt.imshow(cov_mat, cmap = 'coolwarm', vmin = -1, vmax = 1)\n",
    "# plt.colorbar()\n",
    "# # plt.text(0,-5,'EE')\n",
    "# # plt.xticks([100], 'hh')\n",
    "# # plt.xlim(-10, 310)\n",
    "# # plt.ylim(-10, 310)\n",
    "\n",
    "# plt.annotate(s = '',xy=(0.07,0.08), xytext=(0.33,0.08),arrowprops=dict(arrowstyle='<->'), xycoords = 'figure fraction')\n",
    "# plt.annotate(s = '',xy=(0.33,0.08), xytext=(0.59,0.08),arrowprops=dict(arrowstyle='<->'), xycoords = 'figure fraction')\n",
    "# plt.annotate(s = '',xy=(0.585,0.08), xytext=(0.84,0.08),arrowprops=dict(arrowstyle='<->'), xycoords = 'figure fraction')\n",
    "# plt.text(45, 340, 'EE', fontsize = '15')\n",
    "# plt.text(145, 340, 'EB', fontsize = '15')\n",
    "# plt.text(245, 340, 'BB', fontsize = '15')\n",
    "\n",
    "# plt.annotate(s = '',xy=(0.07,0.125), xytext=(0.105,0.125),arrowprops=dict(arrowstyle='<->'), xycoords = 'figure fraction')\n",
    "# plt.annotate(s = '',xy=(0.105,0.125), xytext=(0.140,0.125),arrowprops=dict(arrowstyle='<->'), xycoords = 'figure fraction')\n",
    "\n",
    "# plt.text(0, 320, '$\\ell$1', fontsize = '15')\n",
    "# plt.text(12, 320, '$\\ell$2', fontsize = '15')"
   ]
  },
  {
   "cell_type": "markdown",
   "metadata": {},
   "source": [
    "### calculate the covariance matrix"
   ]
  },
  {
   "cell_type": "code",
   "execution_count": null,
   "metadata": {},
   "outputs": [],
   "source": []
  },
  {
   "cell_type": "markdown",
   "metadata": {
    "heading_collapsed": true
   },
   "source": [
    "### reorganize M_inv to (lbin, lbin, nf_ind, nf_ind)for the Likelihood calculation "
   ]
  },
  {
   "cell_type": "markdown",
   "metadata": {
    "ExecuteTime": {
     "end_time": "2020-06-25T17:31:29.322944Z",
     "start_time": "2020-06-25T17:31:29.319051Z"
    },
    "heading_collapsed": true,
    "hidden": true
   },
   "source": [
    "##### for EE first"
   ]
  },
  {
   "cell_type": "code",
   "execution_count": 557,
   "metadata": {
    "ExecuteTime": {
     "end_time": "2020-06-26T15:17:18.077483Z",
     "start_time": "2020-06-26T15:17:18.018126Z"
    },
    "hidden": true
   },
   "outputs": [],
   "source": [
    "cov_mat_inv = LA.inv(cov_mat_BB)\n",
    "M_inv = np.ones((lbin, lbin, nf_ind, nf_ind))\n",
    "\n",
    "### for EE first\n",
    "\n",
    "for ell in range(lbin*nf_ind):\n",
    "    i = ell//10; j = ell%10;\n",
    "    for fre in range(nf_ind):\n",
    "        \n",
    "        M_inv[i, j] = np.triu(cov_mat_inv[ell, nf_ind*fre:nf_ind*(fre+1)])\n",
    "        \n",
    "## only BB"
   ]
  },
  {
   "cell_type": "markdown",
   "metadata": {
    "heading_collapsed": true,
    "hidden": true
   },
   "source": [
    "##### for l-bin first"
   ]
  },
  {
   "cell_type": "code",
   "execution_count": 1057,
   "metadata": {
    "ExecuteTime": {
     "end_time": "2020-06-29T15:37:16.477358Z",
     "start_time": "2020-06-29T15:37:16.473129Z"
    },
    "hidden": true
   },
   "outputs": [],
   "source": [
    "M_inv = utils.Minv(cov_mat_BB, lbin, nf_ind)"
   ]
  },
  {
   "cell_type": "markdown",
   "metadata": {},
   "source": [
    "### Test for  Likelihood"
   ]
  },
  {
   "cell_type": "markdown",
   "metadata": {},
   "source": [
    "#### BB mode"
   ]
  },
  {
   "cell_type": "code",
   "execution_count": 649,
   "metadata": {
    "ExecuteTime": {
     "end_time": "2020-06-26T16:35:06.958005Z",
     "start_time": "2020-06-26T16:35:06.947729Z"
    }
   },
   "outputs": [],
   "source": [
    "def GenBB(r = 0.05, raw_cl = True):\n",
    "    '''\n",
    "    Generate the theoretical power spectra using camb\n",
    "    '''\n",
    "    \n",
    "    pars = camb.CAMBparams()\n",
    "    pars.set_cosmology(H0=67.26, ombh2=0.022, omch2=0.1199, mnu=0.06, omk=0, tau=0.078)\n",
    "    pars.InitPower.set_params(As=2.19856*1e-9, ns=0.9652, r = r)\n",
    "    pars.set_for_lmax(3000, lens_potential_accuracy=1)\n",
    "    pars.WantTensors = True\n",
    "    \n",
    "    results = camb.get_results(pars)\n",
    "    powers =results.get_cmb_power_spectra(pars, CMB_unit='muK', raw_cl=raw_cl)\n",
    "    \n",
    "    totCL=powers['tensor'] ## TT EE BB TE\n",
    "#     ell = np.arange(len(totCL.T[0]))\n",
    "    return totCL.T[2]"
   ]
  },
  {
   "cell_type": "code",
   "execution_count": 626,
   "metadata": {
    "ExecuteTime": {
     "end_time": "2020-06-26T16:25:59.255690Z",
     "start_time": "2020-06-26T16:25:59.252010Z"
    }
   },
   "outputs": [],
   "source": [
    "r = 0.05"
   ]
  },
  {
   "cell_type": "code",
   "execution_count": 656,
   "metadata": {
    "ExecuteTime": {
     "end_time": "2020-06-26T16:37:56.244318Z",
     "start_time": "2020-06-26T16:37:53.963310Z"
    }
   },
   "outputs": [],
   "source": [
    "bb = GenBB(0.05, raw_cl=False)\n",
    "bb_06 = GenBB(0.06, raw_cl=False)"
   ]
  },
  {
   "cell_type": "code",
   "execution_count": 659,
   "metadata": {
    "ExecuteTime": {
     "end_time": "2020-06-26T16:38:38.358303Z",
     "start_time": "2020-06-26T16:38:38.153987Z"
    }
   },
   "outputs": [
    {
     "name": "stderr",
     "output_type": "stream",
     "text": [
      "/home/jianyao/anaconda3/lib/python3.7/site-packages/ipykernel_launcher.py:1: RuntimeWarning: invalid value encountered in true_divide\n",
      "  \"\"\"Entry point for launching an IPython kernel.\n"
     ]
    },
    {
     "data": {
      "text/plain": [
       "[<matplotlib.lines.Line2D at 0x7fa33e3567f0>]"
      ]
     },
     "execution_count": 659,
     "metadata": {},
     "output_type": "execute_result"
    },
    {
     "data": {
      "image/png": "[encoded data removed]",
      "text/plain": [
       "<Figure size 432x288 with 1 Axes>"
      ]
     },
     "metadata": {
      "needs_background": "light"
     },
     "output_type": "display_data"
    }
   ],
   "source": [
    "plt.plot(bb_06/bb)"
   ]
  },
  {
   "cell_type": "code",
   "execution_count": 691,
   "metadata": {
    "ExecuteTime": {
     "end_time": "2020-06-26T17:09:47.324736Z",
     "start_time": "2020-06-26T17:09:47.318359Z"
    }
   },
   "outputs": [
    {
     "data": {
      "text/plain": [
       "array([0.00219406, 0.00042306, 0.0008092 , 0.00138481, 0.0021608 ,\n",
       "       0.00313533, 0.00429503, 0.00563341, 0.00718524, 0.00949875])"
      ]
     },
     "execution_count": 691,
     "metadata": {},
     "output_type": "execute_result"
    }
   ],
   "source": [
    "nl_mean[2][:,1,1]"
   ]
  },
  {
   "cell_type": "code",
   "execution_count": 697,
   "metadata": {
    "ExecuteTime": {
     "end_time": "2020-06-26T17:11:18.715659Z",
     "start_time": "2020-06-26T17:11:18.268631Z"
    }
   },
   "outputs": [
    {
     "data": {
      "text/plain": [
       "[<matplotlib.lines.Line2D at 0x7fa33df5da90>]"
      ]
     },
     "execution_count": 697,
     "metadata": {},
     "output_type": "execute_result"
    },
    {
     "data": {
      "image/png": "[encoded data removed]",
      "text/plain": [
       "<Figure size 432x288 with 1 Axes>"
      ]
     },
     "metadata": {
      "needs_background": "light"
     },
     "output_type": "display_data"
    }
   ],
   "source": [
    "# plt.loglog(total[:,2])\n",
    "plt.loglog(bb)\n",
    "plt.loglog(bb_06)\n",
    "\n",
    "plt.loglog(est.ell_n, nl_mean[2][:,1,1])"
   ]
  },
  {
   "cell_type": "code",
   "execution_count": null,
   "metadata": {},
   "outputs": [],
   "source": []
  },
  {
   "cell_type": "code",
   "execution_count": 1086,
   "metadata": {
    "ExecuteTime": {
     "end_time": "2020-06-29T19:16:31.307438Z",
     "start_time": "2020-06-29T19:16:30.114068Z"
    }
   },
   "outputs": [],
   "source": [
    "lensingB = utils.Gencl(r = 0, raw_cl = True)"
   ]
  },
  {
   "cell_type": "markdown",
   "metadata": {},
   "source": [
    "#### evaluate L "
   ]
  },
  {
   "cell_type": "code",
   "execution_count": null,
   "metadata": {},
   "outputs": [],
   "source": []
  },
  {
   "cell_type": "markdown",
   "metadata": {},
   "source": [
    "def evaluateLikelihood(C_l,C_l_hat,C_fl,M_inv)"
   ]
  },
  {
   "cell_type": "code",
   "execution_count": 1168,
   "metadata": {
    "ExecuteTime": {
     "end_time": "2020-06-29T21:06:06.140245Z",
     "start_time": "2020-06-29T21:06:06.136247Z"
    }
   },
   "outputs": [],
   "source": [
    "rlist = np.arange(0, 0.1, 0.0001)"
   ]
  },
  {
   "cell_type": "code",
   "execution_count": 803,
   "metadata": {
    "ExecuteTime": {
     "end_time": "2020-06-27T19:55:19.320590Z",
     "start_time": "2020-06-27T19:55:19.316706Z"
    }
   },
   "outputs": [],
   "source": []
  },
  {
   "cell_type": "code",
   "execution_count": 660,
   "metadata": {
    "ExecuteTime": {
     "end_time": "2020-06-26T16:41:00.078123Z",
     "start_time": "2020-06-26T16:40:58.872229Z"
    }
   },
   "outputs": [],
   "source": [
    "bb_05 = GenBB(0.05, raw_cl = True) ##only tensor BB"
   ]
  },
  {
   "cell_type": "code",
   "execution_count": null,
   "metadata": {},
   "outputs": [],
   "source": []
  },
  {
   "cell_type": "code",
   "execution_count": 1181,
   "metadata": {
    "ExecuteTime": {
     "end_time": "2020-06-29T23:42:28.227373Z",
     "start_time": "2020-06-29T23:42:28.216385Z"
    }
   },
   "outputs": [],
   "source": [
    "def r_like(cl_hat_0):\n",
    "# Initiating the logarithmic likelihood arrays\n",
    "    logLike = np.zeros(len(rlist))\n",
    "\n",
    "    # loop over r values\n",
    "    for i in range(len(rlist)):\n",
    "\n",
    "        r_i  =  rlist[i]\n",
    "        bb_tensor = bb_05[0:nmtlmax+1]*r_i/0.05 \n",
    "\n",
    "        bb_camb = bb_tensor + lensingB[2][0:nmtlmax+1] ## tensor BB + lensing BB \n",
    "\n",
    "        cl_th_i = b.bin_cell(bb_camb[0:nmtlmax+1])  ## theoretical bandpower \n",
    "        cl_th_test = np.ones((lbin, Nf, Nf));  ## BB cross power spectra\n",
    "        for ell in range(lbin):\n",
    "            cl_th_test[ell] *= cl_th_i[ell]\n",
    "\n",
    "        # add Noise bias N_l to expectation values.\n",
    "        C_l = cl_th_test + nl_mean[2]\n",
    "\n",
    "        logL = evaluateL(C_l, cl_hat_0[2], cl_f[2], M_inv)\n",
    "        logLike[i] = np.real(logL)\n",
    "    \n",
    "    r_max = np.argsort(logLike)[-1]\n",
    "    return rlist[r_max]"
   ]
  },
  {
   "cell_type": "code",
   "execution_count": 1186,
   "metadata": {
    "ExecuteTime": {
     "end_time": "2020-06-30T00:27:24.035363Z",
     "start_time": "2020-06-29T23:58:18.225417Z"
    }
   },
   "outputs": [],
   "source": [
    "Nreal = 50\n",
    "\n",
    "r_rec = np.ones(Nreal)\n",
    "for i in range(Nreal):\n",
    "    r_rec[i] = r_like(cl_hat_all[i], cl_f, nl_mean, M_inv)"
   ]
  },
  {
   "cell_type": "code",
   "execution_count": 1256,
   "metadata": {
    "ExecuteTime": {
     "end_time": "2020-06-30T20:08:33.692537Z",
     "start_time": "2020-06-30T20:08:33.685730Z"
    }
   },
   "outputs": [
    {
     "data": {
      "text/plain": [
       "0.0010577806956075537"
      ]
     },
     "execution_count": 1256,
     "metadata": {},
     "output_type": "execute_result"
    }
   ],
   "source": [
    "np.std(r_rec)"
   ]
  },
  {
   "cell_type": "code",
   "execution_count": 1200,
   "metadata": {
    "ExecuteTime": {
     "end_time": "2020-06-30T00:31:08.427363Z",
     "start_time": "2020-06-30T00:31:08.420574Z"
    }
   },
   "outputs": [
    {
     "data": {
      "text/plain": [
       "0.05000999999999999"
      ]
     },
     "execution_count": 1200,
     "metadata": {},
     "output_type": "execute_result"
    }
   ],
   "source": [
    "np.mean(r_rec)"
   ]
  },
  {
   "cell_type": "code",
   "execution_count": 1262,
   "metadata": {
    "ExecuteTime": {
     "end_time": "2020-06-30T20:57:54.997909Z",
     "start_time": "2020-06-30T20:57:54.702804Z"
    }
   },
   "outputs": [
    {
     "data": {
      "image/png": "[encoded data removed]",
      "text/plain": [
       "<Figure size 720x576 with 1 Axes>"
      ]
     },
     "metadata": {
      "needs_background": "light"
     },
     "output_type": "display_data"
    }
   ],
   "source": [
    "plt.figure(figsize = (10, 8))\n",
    "for i in range(Nreal):\n",
    "    plt.axvline(r_rec[i],c='b', ls='--')\n",
    "plt.xlim(0.045, 0.055)\n",
    "\n",
    "plt.axvline(0.05, c='r', lw = 3,ls='-')\n",
    "plt.savefig('./fig_results/0630_constrains_on_r_full_sky_different_realizations.pdf', format = 'pdf')"
   ]
  },
  {
   "cell_type": "code",
   "execution_count": 1257,
   "metadata": {
    "ExecuteTime": {
     "end_time": "2020-06-30T20:08:54.057034Z",
     "start_time": "2020-06-30T20:08:54.050203Z"
    }
   },
   "outputs": [
    {
     "data": {
      "text/plain": [
       "0.001799999999999996"
      ]
     },
     "execution_count": 1257,
     "metadata": {},
     "output_type": "execute_result"
    }
   ],
   "source": [
    "rlist[548] - rlist[530]"
   ]
  },
  {
   "cell_type": "code",
   "execution_count": 1176,
   "metadata": {
    "ExecuteTime": {
     "end_time": "2020-06-29T23:34:31.047424Z",
     "start_time": "2020-06-29T23:34:30.820978Z"
    }
   },
   "outputs": [
    {
     "data": {
      "text/plain": [
       "Text(0.5, 1.0, 'Constraints on $r$ for full-sky')"
      ]
     },
     "execution_count": 1176,
     "metadata": {},
     "output_type": "execute_result"
    },
    {
     "data": {
      "image/png": "[encoded data removed]",
      "text/plain": [
       "<Figure size 720x576 with 1 Axes>"
      ]
     },
     "metadata": {
      "needs_background": "light"
     },
     "output_type": "display_data"
    }
   ],
   "source": [
    "plt.figure(figsize = (10, 8))\n",
    "plt.plot(rlist, np.exp(logLike))\n",
    "# plt.yscale('log')\n",
    "plt.axvline(0.05, c='r', ls='--')\n",
    "\n",
    "plt.axvline(rlist[513], c='k', ls='--')\n",
    "\n",
    "plt.axvline(rlist[548], c='k', ls='--')\n",
    "\n",
    "plt.axvline(rlist[530], c='b', ls='--')\n",
    "\n",
    "plt.xlim([0.04, 0.06])\n",
    "# plt.ylim([0, 0.07])\n",
    "# plt.yticks([])\n",
    "plt.xlabel(r'Tensor-to-scalar ratio $r$', size=16)\n",
    "# plt.ylabel(r'Probability', size=16)\n",
    "plt.title(r'Constraints on $r$ for full-sky', size=16)\n",
    "# plt.text(0.052, 1.0, 'r = 0.05', fontsize = 20)\n",
    "\n",
    "# plt.savefig('./fig_results/constraints_on_r_full_sky.pdf', format = 'pdf')"
   ]
  },
  {
   "cell_type": "markdown",
   "metadata": {},
   "source": [
    "## $\\chi^2$ test"
   ]
  },
  {
   "cell_type": "code",
   "execution_count": 1225,
   "metadata": {
    "ExecuteTime": {
     "end_time": "2020-06-30T19:21:33.027624Z",
     "start_time": "2020-06-30T19:20:57.897663Z"
    }
   },
   "outputs": [
    {
     "data": {
      "text/plain": [
       "0.053000000000000005"
      ]
     },
     "execution_count": 1225,
     "metadata": {},
     "output_type": "execute_result"
    }
   ],
   "source": [
    "r_like(cl_hat_all[1], cl_f, nl_mean, M_inv)"
   ]
  },
  {
   "cell_type": "code",
   "execution_count": 1227,
   "metadata": {
    "ExecuteTime": {
     "end_time": "2020-06-30T19:23:44.320483Z",
     "start_time": "2020-06-30T19:23:44.310005Z"
    }
   },
   "outputs": [],
   "source": [
    "cmb_1 = np.load('/fnx/jianyao/Likelihood_data/Simulations/CMB/cmb_maps_mc_%03d.npy'%1)"
   ]
  },
  {
   "cell_type": "code",
   "execution_count": 1240,
   "metadata": {
    "ExecuteTime": {
     "end_time": "2020-06-30T19:36:25.830230Z",
     "start_time": "2020-06-30T19:36:25.826146Z"
    }
   },
   "outputs": [],
   "source": [
    "ell = np.arange(nmtlmax + 1)"
   ]
  },
  {
   "cell_type": "code",
   "execution_count": 1234,
   "metadata": {
    "ExecuteTime": {
     "end_time": "2020-06-30T19:32:20.356311Z",
     "start_time": "2020-06-30T19:32:19.600427Z"
    }
   },
   "outputs": [],
   "source": [
    "cls = hp.anafast(cmb_1, lmax = nmtlmax)"
   ]
  },
  {
   "cell_type": "code",
   "execution_count": 1241,
   "metadata": {
    "ExecuteTime": {
     "end_time": "2020-06-30T19:36:48.223753Z",
     "start_time": "2020-06-30T19:36:48.213591Z"
    }
   },
   "outputs": [],
   "source": [
    "hp.anafast?"
   ]
  },
  {
   "cell_type": "code",
   "execution_count": 1238,
   "metadata": {
    "ExecuteTime": {
     "end_time": "2020-06-30T19:35:46.070231Z",
     "start_time": "2020-06-30T19:35:44.905469Z"
    }
   },
   "outputs": [],
   "source": [
    "cl_r = utils.Gencl(r = 0.05, raw_cl = False)"
   ]
  },
  {
   "cell_type": "code",
   "execution_count": 1244,
   "metadata": {
    "ExecuteTime": {
     "end_time": "2020-06-30T19:38:06.605415Z",
     "start_time": "2020-06-30T19:38:05.357775Z"
    }
   },
   "outputs": [],
   "source": [
    "cl_r_53 = utils.Gencl(r = 0.053, raw_cl = False)"
   ]
  },
  {
   "cell_type": "code",
   "execution_count": 1250,
   "metadata": {
    "ExecuteTime": {
     "end_time": "2020-06-30T19:55:00.130448Z",
     "start_time": "2020-06-30T19:54:59.678440Z"
    }
   },
   "outputs": [
    {
     "data": {
      "text/plain": [
       "(1, 202)"
      ]
     },
     "execution_count": 1250,
     "metadata": {},
     "output_type": "execute_result"
    },
    {
     "data": {
      "image/png": "[encoded data removed]",
      "text/plain": [
       "<Figure size 720x576 with 1 Axes>"
      ]
     },
     "metadata": {
      "needs_background": "light"
     },
     "output_type": "display_data"
    }
   ],
   "source": [
    "plt.figure(figsize=(10, 8))\n",
    "plt.loglog(cl_r[2])\n",
    "plt.loglog(cl_r_53[2])\n",
    "\n",
    "plt.loglog(ell, ell*(ell+1)/2/np.pi*cls[2])\n",
    "\n",
    "plt.xlim(1, nmtlmax+1)"
   ]
  },
  {
   "cell_type": "code",
   "execution_count": null,
   "metadata": {},
   "outputs": [],
   "source": []
  }
 ],
 "metadata": {
  "kernelspec": {
   "display_name": "Python 3",
   "language": "python",
   "name": "python3"
  },
  "language_info": {
   "codemirror_mode": {
    "name": "ipython",
    "version": 3
   },
   "file_extension": ".py",
   "mimetype": "text/x-python",
   "name": "python",
   "nbconvert_exporter": "python",
   "pygments_lexer": "ipython3",
   "version": "3.7.3"
  },
  "toc": {
   "base_numbering": 1,
   "nav_menu": {},
   "number_sections": true,
   "sideBar": false,
   "skip_h1_title": false,
   "title_cell": "Table of Contents",
   "title_sidebar": "Contents",
   "toc_cell": false,
   "toc_position": {
    "height": "384px",
    "left": "1558px",
    "top": "110px",
    "width": "340px"
   },
   "toc_section_display": true,
   "toc_window_display": true
  },
  "varInspector": {
   "cols": {
    "lenName": 16,
    "lenType": 16,
    "lenVar": 40
   },
   "kernels_config": {
    "python": {
     "delete_cmd_postfix": "",
     "delete_cmd_prefix": "del ",
     "library": "var_list.py",
     "varRefreshCmd": "print(var_dic_list())"
    },
    "r": {
     "delete_cmd_postfix": ") ",
     "delete_cmd_prefix": "rm(",
     "library": "var_list.r",
     "varRefreshCmd": "cat(var_dic_list()) "
    }
   },
   "position": {
    "height": "449px",
    "left": "1015px",
    "right": "20px",
    "top": "341px",
    "width": "454px"
   },
   "types_to_exclude": [
    "module",
    "function",
    "builtin_function_or_method",
    "instance",
    "_Feature"
   ],
   "window_display": false
  }
 },
 "nbformat": 4,
 "nbformat_minor": 2
}
