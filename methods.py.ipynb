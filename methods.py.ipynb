{
 "cells": [
  {
   "cell_type": "markdown",
   "metadata": {
    "ExecuteTime": {
     "end_time": "2020-06-19T15:15:30.771549Z",
     "start_time": "2020-06-19T15:15:30.768071Z"
    }
   },
   "source": [
    "# Code"
   ]
  },
  {
   "cell_type": "code",
   "execution_count": 22,
   "metadata": {
    "ExecuteTime": {
     "end_time": "2020-06-22T19:54:54.870475Z",
     "start_time": "2020-06-22T19:54:54.865309Z"
    }
   },
   "outputs": [],
   "source": [
    "from ps_estimator import pstimator \n",
    "import bandpowers\n",
    "import utils"
   ]
  },
  {
   "cell_type": "code",
   "execution_count": 514,
   "metadata": {
    "ExecuteTime": {
     "end_time": "2020-06-25T18:03:48.129892Z",
     "start_time": "2020-06-25T18:03:48.119306Z"
    }
   },
   "outputs": [],
   "source": [
    "import numpy as np\n",
    "import pymaster as nmt\n",
    "import healpy as hp\n",
    "import numpy as np\n",
    "import matplotlib.pyplot as plt \n",
    "import imp\n",
    "import camb\n",
    "\n",
    "from astropy.io import fits as fits\n",
    "\n",
    "from scipy.linalg import sqrtm\n",
    "\n",
    "from numpy import linalg as LA\n",
    "%matplotlib inline"
   ]
  },
  {
   "cell_type": "code",
   "execution_count": 3,
   "metadata": {
    "ExecuteTime": {
     "end_time": "2020-06-22T19:49:33.910354Z",
     "start_time": "2020-06-22T19:49:33.906054Z"
    }
   },
   "outputs": [],
   "source": [
    "nside = 128\n",
    "nmtlmax = 201\n",
    "lmin = 2\n",
    "lmax = 1521"
   ]
  },
  {
   "cell_type": "code",
   "execution_count": 1083,
   "metadata": {
    "ExecuteTime": {
     "end_time": "2020-06-29T16:47:41.090532Z",
     "start_time": "2020-06-29T16:47:41.086942Z"
    }
   },
   "outputs": [],
   "source": [
    "SamNum = 500"
   ]
  },
  {
   "cell_type": "code",
   "execution_count": 1076,
   "metadata": {
    "ExecuteTime": {
     "end_time": "2020-06-29T16:44:20.431131Z",
     "start_time": "2020-06-29T16:44:20.427007Z"
    }
   },
   "outputs": [],
   "source": [
    "Nf = 2\n",
    "\n",
    "nf_ind = int(Nf*(Nf+1)/2)"
   ]
  },
  {
   "cell_type": "code",
   "execution_count": 1229,
   "metadata": {
    "ExecuteTime": {
     "end_time": "2020-06-30T19:28:36.823808Z",
     "start_time": "2020-06-30T19:28:36.817969Z"
    }
   },
   "outputs": [],
   "source": [
    "b = nmt.NmtBin(nside, nlb=20, is_Dell=True, lmax=nmtlmax)\n",
    "leff = b.get_effective_ells()\n",
    "lbin = len(leff)\n",
    "b_ind = np.arange(1,lbin+1)"
   ]
  },
  {
   "cell_type": "code",
   "execution_count": 580,
   "metadata": {
    "ExecuteTime": {
     "end_time": "2020-06-26T15:41:41.657353Z",
     "start_time": "2020-06-26T15:41:41.623613Z"
    }
   },
   "outputs": [
    {
     "name": "stdout",
     "output_type": "stream",
     "text": [
      "NSIDE = 128\n",
      "ORDERING = RING in fits file\n",
      "INDXSCHM = IMPLICIT\n"
     ]
    }
   ],
   "source": [
    "ali_ma = hp.read_map('/fnx/jianyao/Likelihood_data/ABSData/ali_mask.fits', field = None)"
   ]
  },
  {
   "cell_type": "markdown",
   "metadata": {
    "heading_collapsed": true
   },
   "source": [
    "## window function"
   ]
  },
  {
   "cell_type": "markdown",
   "metadata": {
    "hidden": true
   },
   "source": [
    " equal weight for each $\\ell$ in a $\\ell$-bin\n",
    " \n",
    " for bin_width = 20, weight = 1/20 = 0.05"
   ]
  },
  {
   "cell_type": "markdown",
   "metadata": {
    "hidden": true
   },
   "source": [
    "### code"
   ]
  },
  {
   "cell_type": "code",
   "execution_count": 45,
   "metadata": {
    "ExecuteTime": {
     "end_time": "2020-06-19T17:16:06.669436Z",
     "start_time": "2020-06-19T17:16:06.657817Z"
    },
    "hidden": true
   },
   "outputs": [],
   "source": [
    "b = nmt.NmtBin(nside, nlb=20, is_Dell=True, lmax=nmtlmax)\n",
    "leff = b.get_effective_ells()\n",
    "nb = len(leff)\n",
    "for i in range(nb):\n",
    "\n",
    "    bpwf = np.zeros(lmax-lmin+2)\n",
    "    lrange = b.get_ell_list(i)\n",
    "    w = b.get_weight_list(i) ## weights for each ell in i-th bin\n",
    "    bpwf[lrange-lmin+1] = w\n",
    "    l = np.arange(1, lmax-lmin+3)\n",
    "\n",
    "    bpwf = np.array([l, bpwf]).T\n",
    "    \n",
    "    # print(np.shape(bpwf))\n",
    "    # np.savetxt(data_dir+'AliCPT_bpwf_bin%s.txt'%(i+1), bpwf, fmt=['%d', '%.10e', '%.10e', '%.10e'])\n",
    "    # np.savetxt(data_dir + 'AliCPT_bpwf_bin%s.txt' % (i + 1), bpwf, fmt=['%d', '%.10e', '%.10e', '%.10e', '%.10e', '%.10e', '%.10e'])\n",
    "#     np.savetxt(data_dir+'AliCPT_bpwf_bin%s.txt'%(i+1), bpwf, fmt=['%d', '%.10e'])"
   ]
  },
  {
   "cell_type": "markdown",
   "metadata": {
    "ExecuteTime": {
     "end_time": "2020-06-29T16:20:41.171172Z",
     "start_time": "2020-06-29T16:20:41.167602Z"
    }
   },
   "source": [
    "## 2fre-full-sky-data"
   ]
  },
  {
   "cell_type": "markdown",
   "metadata": {
    "ExecuteTime": {
     "end_time": "2020-06-29T16:44:07.572296Z",
     "start_time": "2020-06-29T16:44:07.567790Z"
    }
   },
   "source": [
    "BB cross-frequency bandpower spectra\n",
    "\n",
    "- Cl_hat : (lbin, Nf, Nf)\n",
    "\n",
    "- Cl_f :  ((lbin, Nf, Nf))\n",
    "\n",
    "- Cl_th : ((lbin, Nf, Nf))\n"
   ]
  },
  {
   "cell_type": "code",
   "execution_count": 859,
   "metadata": {
    "ExecuteTime": {
     "end_time": "2020-06-27T21:36:51.400120Z",
     "start_time": "2020-06-27T21:36:51.394243Z"
    }
   },
   "outputs": [],
   "source": [
    "## cl_fiducial\n",
    "cl_f_all = np.load('/fnx/jianyao/Likelihood_data/Bandpowers/0627_2fre_fullsky/cl_f_all.npy')\n",
    "cl_f = np.mean(cl_f_all, axis = 0)"
   ]
  },
  {
   "cell_type": "code",
   "execution_count": 861,
   "metadata": {
    "ExecuteTime": {
     "end_time": "2020-06-27T21:36:53.442580Z",
     "start_time": "2020-06-27T21:36:53.439185Z"
    }
   },
   "outputs": [
    {
     "data": {
      "text/plain": [
       "(3, 10, 2, 2)"
      ]
     },
     "execution_count": 861,
     "metadata": {},
     "output_type": "execute_result"
    }
   ],
   "source": [
    "cl_f.shape"
   ]
  },
  {
   "cell_type": "code",
   "execution_count": 1100,
   "metadata": {
    "ExecuteTime": {
     "end_time": "2020-06-29T19:22:05.181926Z",
     "start_time": "2020-06-29T19:22:05.174550Z"
    }
   },
   "outputs": [],
   "source": [
    "## cl_th\n",
    "\n",
    "cl_camb = np.load('/fnx/jianyao/Likelihood_data/Bandpowers/0627_2fre_fullsky/cl_camb_BB_2fre.npy')\n",
    "\n",
    "nl_all = np.load('/fnx/jianyao/Likelihood_data/Bandpowers/0627_2fre_fullsky/nl_all.npy')\n",
    "nl_mean = np.mean(nl_all, axis = 0) ## EE EB BB\n",
    "\n",
    "cl_th_BB = cl_camb + nl_mean[2]"
   ]
  },
  {
   "cell_type": "code",
   "execution_count": null,
   "metadata": {},
   "outputs": [],
   "source": []
  },
  {
   "cell_type": "code",
   "execution_count": 856,
   "metadata": {
    "ExecuteTime": {
     "end_time": "2020-06-27T21:36:30.744287Z",
     "start_time": "2020-06-27T21:36:30.737438Z"
    }
   },
   "outputs": [],
   "source": [
    "### 观测数据应该只有一幅。。。\n",
    "\n",
    "cl_hat_all = np.load('/fnx/jianyao/Likelihood_data/Bandpowers/0627_2fre_fullsky/cl_hat_all.npy')\n",
    "cl_hat = np.mean(cl_hat_all, axis = 0)\n",
    "cl_hat_0 = cl_hat_all[1]"
   ]
  },
  {
   "cell_type": "code",
   "execution_count": 1082,
   "metadata": {
    "ExecuteTime": {
     "end_time": "2020-06-29T16:47:06.210771Z",
     "start_time": "2020-06-29T16:47:06.205020Z"
    }
   },
   "outputs": [
    {
     "name": "stdout",
     "output_type": "stream",
     "text": [
      "Cl_hat: (3, 10, 2, 2) \n",
      "Cl_f: (3, 10, 2, 2) \n",
      "Cl_th_BB: (10, 2, 2)\n"
     ]
    }
   ],
   "source": [
    "print('Cl_hat:',cl_hat_0.shape,'\\n'\n",
    "'Cl_f:',cl_f.shape,'\\n'\n",
    "'Cl_th_BB:',cl_th_BB.shape)"
   ]
  },
  {
   "cell_type": "markdown",
   "metadata": {
    "ExecuteTime": {
     "end_time": "2020-06-25T15:14:40.084618Z",
     "start_time": "2020-06-25T15:14:40.075679Z"
    }
   },
   "source": [
    "$$\\left(X_b^{30*30}, X_b^{95*95}, X_b^{150*150}, X_b^{353*353}, X_b^{30*95}, X_b^{95*150},X_b^{150*353},X_b^{30*150},X_b^{95*353},X_b^{30*353} \\right)=\\textrm{vecp}\\left((\\mathcal{D}_b^f)^{1/2}{\\bf U}_b\\,g({\\bf D}_b){\\bf U}_b^{\\dagger}(\\mathcal{D}_b^f)^{1/2}\\right)$$"
   ]
  },
  {
   "cell_type": "code",
   "execution_count": 1070,
   "metadata": {
    "ExecuteTime": {
     "end_time": "2020-06-29T15:59:07.538033Z",
     "start_time": "2020-06-29T15:59:07.351826Z"
    }
   },
   "outputs": [],
   "source": [
    "#(cl_hat_all, nf_ind, Nmode,lbin, SamNum)\n",
    "\n",
    "marry = utils.Marray_EEfirst(cl_f_all, nf_ind, 3, lbin, cl_f_all.shape[0]) ## (Nmode*lbin*nf_ind, SamNum)\n",
    "\n",
    "cov_mat_BB = np.cov(marry[lbin*nf_ind*2:]) ##(select BB mode)\n",
    "\n",
    "M_inv = utils.Minv(cov_mat_BB, lbin, nf_ind)"
   ]
  },
  {
   "cell_type": "code",
   "execution_count": 1138,
   "metadata": {
    "ExecuteTime": {
     "end_time": "2020-06-29T19:53:58.449805Z",
     "start_time": "2020-06-29T19:53:58.176760Z"
    }
   },
   "outputs": [
    {
     "data": {
      "text/plain": [
       "<matplotlib.image.AxesImage at 0x7fa33cf47a90>"
      ]
     },
     "execution_count": 1138,
     "metadata": {},
     "output_type": "execute_result"
    },
    {
     "data": {
      "image/png": "[encoded data removed]",
      "text/plain": [
       "<Figure size 720x576 with 1 Axes>"
      ]
     },
     "metadata": {
      "needs_background": "light"
     },
     "output_type": "display_data"
    }
   ],
   "source": [
    "plt.figure(figsize = (10, 8))\n",
    "plt.imshow(cov_mat_BB, cmap = 'coolwarm')"
   ]
  },
  {
   "cell_type": "markdown",
   "metadata": {
    "ExecuteTime": {
     "end_time": "2020-06-29T18:54:20.176579Z",
     "start_time": "2020-06-29T18:54:20.172917Z"
    }
   },
   "source": [
    "## 2-fre Ali-sky"
   ]
  },
  {
   "cell_type": "markdown",
   "metadata": {},
   "source": [
    "### cl_f, r=0.05"
   ]
  },
  {
   "cell_type": "code",
   "execution_count": 1310,
   "metadata": {
    "ExecuteTime": {
     "end_time": "2020-07-01T19:08:39.992717Z",
     "start_time": "2020-07-01T19:08:39.979401Z"
    }
   },
   "outputs": [],
   "source": [
    "path = '/fnx/jianyao/Likelihood_data/Bandpowers/0629_2fre_Ali'\n",
    "\n",
    "cl_f_all_ali = np.load('%s/cl_f_all.npy'%path); cl_f_ali = np.mean(cl_f_all_ali, axis = 0)\n",
    "\n",
    "cl_hat_all_ali = np.load('%s/cl_hat_all.npy'%path)\n",
    "cl_hat_0_ali = cl_hat_all_ali[2]\n",
    "\n",
    "nl_all_ali = np.load('%s/nl_all.npy'%path)\n",
    "nl_mean_ali = np.mean(nl_all_ali, axis = 0) ## EE EB BB\n",
    "\n",
    "cl_camb = np.load('/fnx/jianyao/Likelihood_data/Bandpowers/0627_2fre_fullsky/cl_camb_BB_2fre.npy')\n",
    "cl_th_BB_ali = cl_camb + nl_mean_ali[2]"
   ]
  },
  {
   "cell_type": "code",
   "execution_count": 1311,
   "metadata": {
    "ExecuteTime": {
     "end_time": "2020-07-01T19:08:41.324806Z",
     "start_time": "2020-07-01T19:08:41.209478Z"
    }
   },
   "outputs": [],
   "source": [
    "marry_ali = utils.Marray_EEfirst(cl_f_all_ali, nf_ind, 3, lbin, cl_f_all_ali.shape[0]) ## (Nmode*lbin*nf_ind, SamNum)\n",
    "\n",
    "cov_mat_BB_ali = np.cov(marry_ali[lbin*nf_ind*2:]) ##(select BB mode)\n",
    "\n",
    "M_inv_ali = utils.Minv(cov_mat_BB_ali, lbin, nf_ind)"
   ]
  },
  {
   "cell_type": "markdown",
   "metadata": {},
   "source": [
    "### cl_f, r = 0.01; 2020/07/01"
   ]
  },
  {
   "cell_type": "code",
   "execution_count": 1321,
   "metadata": {
    "ExecuteTime": {
     "end_time": "2020-07-01T19:41:11.334916Z",
     "start_time": "2020-07-01T19:41:11.328880Z"
    }
   },
   "outputs": [],
   "source": [
    "cl_f_all_ali_0p01 = np.load('/fnx/jianyao/Likelihood_data/Bandpowers/0629_2fre_Ali/cl_f_0p01_all.npy')\n",
    "cl_f_ali_0p01 = np.mean(cl_f_all_ali_0p01, axis = 0)"
   ]
  },
  {
   "cell_type": "code",
   "execution_count": 1322,
   "metadata": {
    "ExecuteTime": {
     "end_time": "2020-07-01T19:41:19.341452Z",
     "start_time": "2020-07-01T19:41:19.132894Z"
    }
   },
   "outputs": [],
   "source": [
    "marry_ali_0p01 = utils.Marray_EEfirst(cl_f_all_ali_0p01, nf_ind, 3, lbin, cl_f_all_ali_0p01.shape[0]) ## (Nmode*lbin*nf_ind, SamNum)\n",
    "\n",
    "cov_mat_BB_ali_0p01 = np.cov(marry_ali_0p01[lbin*nf_ind*2:]) ##(select BB mode)\n",
    "\n",
    "M_inv_ali_0p01 = utils.Minv(cov_mat_BB_ali_0p01, lbin, nf_ind)"
   ]
  },
  {
   "cell_type": "code",
   "execution_count": 1324,
   "metadata": {
    "ExecuteTime": {
     "end_time": "2020-07-01T20:54:46.840227Z",
     "start_time": "2020-07-01T20:25:40.322552Z"
    }
   },
   "outputs": [],
   "source": [
    "Nreal = 50\n",
    "### begin with the first bin, which may encounter negative eiven-values sometime.\n",
    "r_rec_ali_0p01 = np.ones(Nreal)\n",
    "for i in range(Nreal):\n",
    "    r_rec_ali_0p01[i] = r_like(cl_hat_all_ali[i], cl_f_ali_0p01, nl_mean_ali, M_inv_ali_0p01, sbin = 1)"
   ]
  },
  {
   "cell_type": "code",
   "execution_count": 1326,
   "metadata": {
    "ExecuteTime": {
     "end_time": "2020-07-01T21:17:13.032140Z",
     "start_time": "2020-07-01T21:17:13.025868Z"
    }
   },
   "outputs": [
    {
     "data": {
      "text/plain": [
       "0.050658"
      ]
     },
     "execution_count": 1326,
     "metadata": {},
     "output_type": "execute_result"
    }
   ],
   "source": [
    "np.mean(r_rec_ali_0p01)"
   ]
  },
  {
   "cell_type": "code",
   "execution_count": 1327,
   "metadata": {
    "ExecuteTime": {
     "end_time": "2020-07-01T21:17:36.998717Z",
     "start_time": "2020-07-01T21:17:36.992349Z"
    }
   },
   "outputs": [
    {
     "data": {
      "text/plain": [
       "0.05088400000000001"
      ]
     },
     "execution_count": 1327,
     "metadata": {},
     "output_type": "execute_result"
    }
   ],
   "source": [
    "np.mean(r_rec_ali)"
   ]
  },
  {
   "cell_type": "code",
   "execution_count": 1329,
   "metadata": {
    "ExecuteTime": {
     "end_time": "2020-07-01T21:18:07.251273Z",
     "start_time": "2020-07-01T21:18:07.244633Z"
    }
   },
   "outputs": [
    {
     "data": {
      "text/plain": [
       "0.0029464799337514586"
      ]
     },
     "execution_count": 1329,
     "metadata": {},
     "output_type": "execute_result"
    }
   ],
   "source": [
    "np.std(r_rec_ali)"
   ]
  },
  {
   "cell_type": "code",
   "execution_count": 1330,
   "metadata": {
    "ExecuteTime": {
     "end_time": "2020-07-01T21:18:20.694538Z",
     "start_time": "2020-07-01T21:18:20.688124Z"
    }
   },
   "outputs": [
    {
     "data": {
      "text/plain": [
       "0.003415967798443071"
      ]
     },
     "execution_count": 1330,
     "metadata": {},
     "output_type": "execute_result"
    }
   ],
   "source": [
    "np.std(r_rec_ali_0p01)"
   ]
  },
  {
   "cell_type": "code",
   "execution_count": null,
   "metadata": {},
   "outputs": [],
   "source": []
  },
  {
   "cell_type": "code",
   "execution_count": 1328,
   "metadata": {
    "ExecuteTime": {
     "end_time": "2020-07-01T21:17:38.420328Z",
     "start_time": "2020-07-01T21:17:38.251306Z"
    }
   },
   "outputs": [
    {
     "data": {
      "text/plain": [
       "Text(0.5, 0, 'Tensor-to-scalar ratio $r$')"
      ]
     },
     "execution_count": 1328,
     "metadata": {},
     "output_type": "execute_result"
    },
    {
     "data": {
      "image/png": "[encoded data removed]",
      "text/plain": [
       "<Figure size 720x576 with 1 Axes>"
      ]
     },
     "metadata": {
      "needs_background": "light"
     },
     "output_type": "display_data"
    }
   ],
   "source": [
    "plt.figure(figsize = (10, 8))\n",
    "for i in range(Nreal):\n",
    "    plt.axvline(r_rec_ali_0p01[i],c='b', ls='--')\n",
    "plt.xlim(0.045, 0.055)\n",
    "\n",
    "plt.axvline(0.05, c='r', lw = 3,ls='-')\n",
    "plt.title('Different CMB and noise realizations for Ali Sky', fontsize = 16)\n",
    "plt.xlabel(r'Tensor-to-scalar ratio $r$', size=16)"
   ]
  },
  {
   "cell_type": "code",
   "execution_count": null,
   "metadata": {},
   "outputs": [],
   "source": []
  },
  {
   "cell_type": "code",
   "execution_count": 1285,
   "metadata": {
    "ExecuteTime": {
     "end_time": "2020-06-30T21:11:24.523683Z",
     "start_time": "2020-06-30T21:11:24.517250Z"
    }
   },
   "outputs": [
    {
     "data": {
      "text/plain": [
       "(3, 10, 2, 2)"
      ]
     },
     "execution_count": 1285,
     "metadata": {},
     "output_type": "execute_result"
    }
   ],
   "source": [
    "nl_mean.shape"
   ]
  },
  {
   "cell_type": "code",
   "execution_count": 1289,
   "metadata": {
    "ExecuteTime": {
     "end_time": "2020-06-30T21:16:33.416451Z",
     "start_time": "2020-06-30T21:16:33.411107Z"
    },
    "code_folding": []
   },
   "outputs": [],
   "source": [
    "evaluateL = utils.evaluateLikelihood\n",
    "\n",
    "def r_like(cl_hat_0, cl_f, nl_mean, M_inv, sbin):\n",
    "# Initiating the logarithmic likelihood arrays\n",
    "    logLike = np.zeros(len(rlist))\n",
    "\n",
    "    # loop over r values\n",
    "    for i in range(len(rlist)):\n",
    "\n",
    "        r_i  =  rlist[i]\n",
    "        bb_tensor = bb_05[0:nmtlmax+1]*r_i/0.05 \n",
    "\n",
    "        bb_camb = bb_tensor + lensingB[2][0:nmtlmax+1] ## tensor BB + lensing BB \n",
    "\n",
    "        cl_th_i = b.bin_cell(bb_camb[0:nmtlmax+1])  ## theoretical bandpower \n",
    "        cl_th_test = np.ones((lbin, Nf, Nf));  ## BB cross power spectra\n",
    "        for ell in range(lbin):\n",
    "            cl_th_test[ell] *= cl_th_i[ell]\n",
    "\n",
    "        # add Noise bias N_l to expectation values.\n",
    "        C_l = cl_th_test + nl_mean[2]\n",
    "\n",
    "        logL = evaluateL(C_l, cl_hat_0[2], cl_f[2], M_inv, sbin)\n",
    "        logLike[i] = np.real(logL)\n",
    "    \n",
    "    r_max = np.argsort(logLike)[-1]\n",
    "    return rlist[r_max]"
   ]
  },
  {
   "cell_type": "code",
   "execution_count": null,
   "metadata": {},
   "outputs": [],
   "source": []
  },
  {
   "cell_type": "code",
   "execution_count": 1290,
   "metadata": {
    "ExecuteTime": {
     "end_time": "2020-06-30T21:52:21.895241Z",
     "start_time": "2020-06-30T21:16:39.488836Z"
    }
   },
   "outputs": [
    {
     "name": "stderr",
     "output_type": "stream",
     "text": [
      "/home/jianyao/Likelihood/utils.py:55: RuntimeWarning: invalid value encountered in log\n",
      "  gd = np.sign(np.diag(d) - 1) * np.sqrt(2 * (np.diag(d) - np.log(np.diag(d)) - 1))\n"
     ]
    }
   ],
   "source": [
    "Nreal = 50\n",
    "### begin with the first bin, which may encounter negative eiven-values sometime.\n",
    "r_rec_ali_0bin = np.ones(Nreal)\n",
    "for i in range(Nreal):\n",
    "    r_rec_ali_0bin[i] = r_like(cl_hat_all_ali[i], cl_f_ali, nl_mean_ali, M_inv_ali, sbin = 0)"
   ]
  },
  {
   "cell_type": "code",
   "execution_count": 1303,
   "metadata": {
    "ExecuteTime": {
     "end_time": "2020-07-01T14:23:19.983530Z",
     "start_time": "2020-07-01T14:23:19.955769Z"
    },
    "collapsed": true
   },
   "outputs": [
    {
     "name": "stdout",
     "output_type": "stream",
     "text": [
      "[0.00289777 0.00029402]\n",
      "[0.00136805 0.00092418]\n",
      "[0.00329711 0.00016062]\n",
      "[0.00323808 0.00032465]\n",
      "[0.00609118 0.00057367]\n",
      "[0.00293192 0.00117498]\n",
      "[1.09151197e-03 1.15780299e-05]\n",
      "[0.00114612 0.00013751]\n",
      "[0.00047411 0.00752107]\n",
      "[0.00399521 0.00027286]\n",
      "[0.00075935 0.00026439]\n",
      "[-2.81299057e-05  6.43173527e-03]\n",
      "[3.53613840e-05 5.17467343e-03]\n",
      "[-6.56753478e-05  2.26924254e-03]\n",
      "[-0.00011945  0.0017162 ]\n",
      "[0.00202027 0.0001356 ]\n",
      "[ 3.01095699e-03 -6.25213620e-05]\n",
      "[0.00025225 0.00315406]\n",
      "[0.00170123 0.00052035]\n",
      "[-0.0001134   0.00067347]\n",
      "[0.00428753 0.00059694]\n",
      "[1.52142448e-05 1.20057576e-04]\n",
      "[0.00235357 0.00137886]\n",
      "[ 0.00046258 -0.00014552]\n",
      "[0.00025125 0.01120999]\n",
      "[2.29834408e-03 5.81058047e-05]\n",
      "[-0.00019415  0.00114606]\n",
      "[0.00052818 0.00045962]\n",
      "[0.00031446 0.00278454]\n",
      "[0.00109901 0.00032158]\n",
      "[0.00072347 0.00028649]\n",
      "[1.08318652e-03 4.25340185e-05]\n",
      "[3.66150034e-03 5.10030565e-05]\n",
      "[0.00252894 0.0004881 ]\n",
      "[-6.91646416e-05  3.65205179e-03]\n",
      "[0.00180813 0.00064303]\n",
      "[0.00288896 0.00011457]\n",
      "[0.00024194 0.00043379]\n",
      "[3.40037592e-06 8.84283530e-04]\n",
      "[0.00015515 0.00267056]\n",
      "[0.0031381  0.00012291]\n",
      "[6.77878245e-05 1.78969914e-03]\n",
      "[0.00063783 0.00199654]\n",
      "[4.32514593e-05 2.89225184e-03]\n",
      "[0.00023026 0.0027344 ]\n",
      "[0.00012164 0.0016773 ]\n",
      "[-2.06493842e-05  1.13949853e-03]\n",
      "[0.00022621 0.00210826]\n",
      "[ 8.89609589e-04 -6.22800355e-05]\n",
      "[0.00768757 0.00016799]\n"
     ]
    }
   ],
   "source": [
    "for i in range(Nreal):\n",
    "    print(LA.eigvals(cl_hat_all_ali[i][2][0]))"
   ]
  },
  {
   "cell_type": "code",
   "execution_count": 1304,
   "metadata": {
    "ExecuteTime": {
     "end_time": "2020-07-01T14:26:21.688447Z",
     "start_time": "2020-07-01T14:25:38.588715Z"
    }
   },
   "outputs": [
    {
     "name": "stderr",
     "output_type": "stream",
     "text": [
      "/home/jianyao/Likelihood/utils.py:55: RuntimeWarning: invalid value encountered in log\n",
      "  gd = np.sign(np.diag(d) - 1) * np.sqrt(2 * (np.diag(d) - np.log(np.diag(d)) - 1))\n"
     ]
    },
    {
     "data": {
      "text/plain": [
       "0.0999"
      ]
     },
     "execution_count": 1304,
     "metadata": {},
     "output_type": "execute_result"
    }
   ],
   "source": [
    "r_like(cl_hat_all_ali[11], cl_f_ali, nl_mean_ali, M_inv_ali, sbin = 0)"
   ]
  },
  {
   "cell_type": "code",
   "execution_count": 1292,
   "metadata": {
    "ExecuteTime": {
     "end_time": "2020-07-01T13:43:03.102146Z",
     "start_time": "2020-07-01T13:43:03.094945Z"
    }
   },
   "outputs": [
    {
     "data": {
      "text/plain": [
       "array([0.05  , 0.0527, 0.0487, 0.0514, 0.0485, 0.0541, 0.0503, 0.0556,\n",
       "       0.0464, 0.0498, 0.05  , 0.0999, 0.0518, 0.0999, 0.0999, 0.0508,\n",
       "       0.0999, 0.0503, 0.051 , 0.0999, 0.0554, 0.0502, 0.0483, 0.0999,\n",
       "       0.0476, 0.0534, 0.0999, 0.0557, 0.0504, 0.0528, 0.0545, 0.0536,\n",
       "       0.0464, 0.0495, 0.0999, 0.05  , 0.051 , 0.0475, 0.0532, 0.0463,\n",
       "       0.0469, 0.0532, 0.0525, 0.0532, 0.049 , 0.0541, 0.0999, 0.0571,\n",
       "       0.0999, 0.0511])"
      ]
     },
     "execution_count": 1292,
     "metadata": {},
     "output_type": "execute_result"
    }
   ],
   "source": [
    "r_rec_ali_0bin"
   ]
  },
  {
   "cell_type": "code",
   "execution_count": 1295,
   "metadata": {
    "ExecuteTime": {
     "end_time": "2020-07-01T13:44:44.456403Z",
     "start_time": "2020-07-01T13:44:44.175677Z"
    }
   },
   "outputs": [
    {
     "data": {
      "text/plain": [
       "Text(0.5, 0, 'Tensor-to-scalar ratio $r$')"
      ]
     },
     "execution_count": 1295,
     "metadata": {},
     "output_type": "execute_result"
    },
    {
     "data": {
      "image/png": "[encoded data removed]",
      "text/plain": [
       "<Figure size 720x576 with 1 Axes>"
      ]
     },
     "metadata": {
      "needs_background": "light"
     },
     "output_type": "display_data"
    }
   ],
   "source": [
    "plt.figure(figsize = (10, 8))\n",
    "for i in range(Nreal):\n",
    "    plt.axvline(r_rec_ali_0bin[i],c='b', ls='--')\n",
    "plt.xlim(0.045, 0.055)\n",
    "\n",
    "plt.axvline(0.05, c='r', lw = 3,ls='-')\n",
    "plt.title('Different CMB and noise realizations for Ali Sky', fontsize = 16)\n",
    "plt.xlabel(r'Tensor-to-scalar ratio $r$', size=16)"
   ]
  },
  {
   "cell_type": "code",
   "execution_count": null,
   "metadata": {},
   "outputs": [],
   "source": []
  },
  {
   "cell_type": "code",
   "execution_count": 1312,
   "metadata": {
    "ExecuteTime": {
     "end_time": "2020-07-01T19:38:15.492699Z",
     "start_time": "2020-07-01T19:08:58.944815Z"
    }
   },
   "outputs": [],
   "source": [
    "Nreal = 50\n",
    "\n",
    "r_rec_ali = np.ones(Nreal)\n",
    "for i in range(Nreal):\n",
    "    r_rec_ali[i] = r_like(cl_hat_all_ali[i], cl_f_ali, nl_mean_ali, M_inv_ali, sbin = 1)"
   ]
  },
  {
   "cell_type": "code",
   "execution_count": 1277,
   "metadata": {
    "ExecuteTime": {
     "end_time": "2020-06-30T21:02:54.493916Z",
     "start_time": "2020-06-30T21:02:54.487169Z"
    }
   },
   "outputs": [
    {
     "name": "stdout",
     "output_type": "stream",
     "text": [
      "Ali 0.05087200000000001 0.0029419748469353036 \n",
      " full_sky 0.05000999999999999 0.0010577806956075537\n"
     ]
    }
   ],
   "source": [
    "print('Ali', np.mean(r_rec_ali),\n",
    "np.std(r_rec_ali), '\\n',\n",
    "    \n",
    "'full_sky',\n",
    "np.mean(r_rec),\n",
    "np.std(r_rec))"
   ]
  },
  {
   "cell_type": "code",
   "execution_count": 1264,
   "metadata": {
    "ExecuteTime": {
     "end_time": "2020-06-30T20:59:07.279076Z",
     "start_time": "2020-06-30T20:59:07.031066Z"
    }
   },
   "outputs": [
    {
     "data": {
      "image/png": "[encoded data removed]",
      "text/plain": [
       "<Figure size 432x288 with 1 Axes>"
      ]
     },
     "metadata": {
      "needs_background": "light"
     },
     "output_type": "display_data"
    }
   ],
   "source": [
    "plt.hist(r_rec)\n",
    "plt.savefig('./fig_results/0630_histgram_full_sky.pdf', format = 'pdf')"
   ]
  },
  {
   "cell_type": "code",
   "execution_count": 1318,
   "metadata": {
    "ExecuteTime": {
     "end_time": "2020-07-01T19:40:17.659286Z",
     "start_time": "2020-07-01T19:40:17.446492Z"
    }
   },
   "outputs": [
    {
     "data": {
      "image/png": "[encoded data removed]",
      "text/plain": [
       "<Figure size 432x288 with 1 Axes>"
      ]
     },
     "metadata": {
      "needs_background": "light"
     },
     "output_type": "display_data"
    }
   ],
   "source": [
    "plt.hist(r_rec_ali, bins=10)\n",
    "plt.savefig('./fig_results/0630_histgram_ali_sky.pdf', format = 'pdf')"
   ]
  },
  {
   "cell_type": "code",
   "execution_count": 1313,
   "metadata": {
    "ExecuteTime": {
     "end_time": "2020-07-01T19:38:16.643669Z",
     "start_time": "2020-07-01T19:38:16.467331Z"
    }
   },
   "outputs": [
    {
     "data": {
      "text/plain": [
       "Text(0.5, 0, 'Tensor-to-scalar ratio $r$')"
      ]
     },
     "execution_count": 1313,
     "metadata": {},
     "output_type": "execute_result"
    },
    {
     "data": {
      "image/png": "[encoded data removed]",
      "text/plain": [
       "<Figure size 720x576 with 1 Axes>"
      ]
     },
     "metadata": {
      "needs_background": "light"
     },
     "output_type": "display_data"
    }
   ],
   "source": [
    "plt.figure(figsize = (10, 8))\n",
    "for i in range(Nreal):\n",
    "    plt.axvline(r_rec_ali[i],c='b', ls='--')\n",
    "plt.xlim(0.045, 0.055)\n",
    "\n",
    "plt.axvline(0.05, c='r', lw = 3,ls='-')\n",
    "plt.title('Different CMB and noise realizations for Ali Sky', fontsize = 16)\n",
    "plt.xlabel(r'Tensor-to-scalar ratio $r$', size=16)\n",
    "# plt.savefig('./fig_results/0630_constrains_on_r_Ali_sky_different_realizations.pdf', format = 'pdf')"
   ]
  },
  {
   "cell_type": "code",
   "execution_count": null,
   "metadata": {},
   "outputs": [],
   "source": []
  },
  {
   "cell_type": "markdown",
   "metadata": {
    "ExecuteTime": {
     "end_time": "2020-06-21T16:08:16.690241Z",
     "start_time": "2020-06-21T16:08:16.686732Z"
    }
   },
   "source": [
    "## Bandpower covariance matrix"
   ]
  },
  {
   "cell_type": "markdown",
   "metadata": {
    "ExecuteTime": {
     "end_time": "2020-06-21T18:29:01.657538Z",
     "start_time": "2020-06-21T18:29:01.498905Z"
    }
   },
   "source": [
    "10 bins, 10-fre cross, SamNum BB"
   ]
  },
  {
   "cell_type": "markdown",
   "metadata": {},
   "source": [
    "> /home/yao/Desktop/likelihood/ali_joint_analysis/CosmoMC_AliCPT/data/AliCPT_Plk/AliCPT_covmat.dat\n",
    "\n",
    "$234 \\times 234$\n",
    "\n",
    "(39x6) * (39x6)\n",
    "\n",
    "39-bin; bin_width = 20, nmtlmax = 800 \n",
    "\n",
    "Ali_95_BxAli_95_B Ali_95_BxAli_150_B Ali_95_BxAli_353_B Ali_150_BxAli_150_B Ali_150_BxAli_353_B Ali_353_BxAli_353_B"
   ]
  },
  {
   "cell_type": "markdown",
   "metadata": {
    "heading_collapsed": true
   },
   "source": [
    "### Get arrays for Covariance matrix"
   ]
  },
  {
   "cell_type": "code",
   "execution_count": 1073,
   "metadata": {
    "ExecuteTime": {
     "end_time": "2020-06-29T15:59:54.388110Z",
     "start_time": "2020-06-29T15:59:54.377985Z"
    },
    "hidden": true
   },
   "outputs": [],
   "source": [
    "def Marray_lfirst(cl_f_all, nf_ind, Nmode,lbin, SamNum):\n",
    "    \n",
    "    '''\n",
    "    Input\n",
    "    --------------------------------\n",
    "    nf_ind : number of independent frequencies cross\n",
    "    Nmode: number of modes, e.g., EE,EB,BB\n",
    "    SamNum: number of realizations\n",
    "    cl_hat_all: cl_hat that consists of all the realizations (20, 3, 10, 4, 4);(SamNum, Nmode, lbin, Nf, Nf)\n",
    "    \n",
    "    Output\n",
    "    --------------------------------\n",
    "    \n",
    "    '''  \n",
    "    vecp = utils.vecp\n",
    "    marray = np.zeros(((lbin*Nmode*nf_ind), SamNum)) # mode(EE, EB, BB), l-bin, nf independent corr between frequencies \n",
    "    for n in range(SamNum):\n",
    "\n",
    "        for ell in range(lbin):\n",
    "\n",
    "            cl_flat = np.zeros((Nmode, nf_ind)) ## collect independent corr for each mode\n",
    "\n",
    "            for mode in range(Nmode):\n",
    "\n",
    "                cl_flat[mode] = vecp(cl_f_all[n][mode][ell])\n",
    "\n",
    "            marray[ell*Nmode*nf_ind:(ell+1)*Nmode*nf_ind,n] = cl_flat.flatten()\n",
    "    \n",
    "    return marray"
   ]
  },
  {
   "cell_type": "code",
   "execution_count": 984,
   "metadata": {
    "ExecuteTime": {
     "end_time": "2020-06-29T01:02:24.774780Z",
     "start_time": "2020-06-29T01:02:24.770785Z"
    },
    "hidden": true
   },
   "outputs": [],
   "source": [
    "vecp = utils.vecp"
   ]
  },
  {
   "cell_type": "code",
   "execution_count": 1072,
   "metadata": {
    "ExecuteTime": {
     "end_time": "2020-06-29T15:59:27.622538Z",
     "start_time": "2020-06-29T15:59:27.613068Z"
    },
    "hidden": true
   },
   "outputs": [],
   "source": [
    "def Marray_EEfirst(cl_f_all, nf_ind, Nmode,lbin, SamNum):\n",
    "\n",
    "    marray = np.zeros(((Nmode*lbin*nf_ind), SamNum)) # mode(EE, EB, BB), l-bin, nf independent corr between frequencies \n",
    "    for n in range(SamNum):\n",
    "\n",
    "        for mode in range(Nmode):    \n",
    "\n",
    "            cl_flat = np.zeros((lbin, nf_ind)) ## collect independent corr for each l-bin\n",
    "\n",
    "            for ell in range(lbin):\n",
    "                cl_flat[ell] = vecp(cl_f_all[n][mode][ell])# - nl_mean[2][ell] ) ##########!!!!!!!!!!!!!!!!!! need to subtract noise?? 06.27\n",
    "\n",
    "            marray[mode*lbin*nf_ind:(mode+1)*lbin*nf_ind,n] = cl_flat.flatten()\n",
    "            \n",
    "    return marray"
   ]
  },
  {
   "cell_type": "markdown",
   "metadata": {
    "heading_collapsed": true
   },
   "source": [
    "### Figures"
   ]
  },
  {
   "cell_type": "code",
   "execution_count": 116,
   "metadata": {
    "ExecuteTime": {
     "end_time": "2020-06-24T13:27:28.532819Z",
     "start_time": "2020-06-24T13:27:28.245337Z"
    },
    "hidden": true
   },
   "outputs": [],
   "source": [
    "marry = Marray_EEfirst(4, 3, 10, cl_hat_all.shape[0], cl_hat_all)"
   ]
  },
  {
   "cell_type": "code",
   "execution_count": 1278,
   "metadata": {
    "ExecuteTime": {
     "end_time": "2020-06-30T21:03:45.541418Z",
     "start_time": "2020-06-30T21:03:45.537895Z"
    },
    "hidden": true
   },
   "outputs": [],
   "source": [
    "# cov_marry = np.corrcoef(marry)\n",
    "# plt.figure(figsize = (10,10))\n",
    "# plt.imshow(cov_marry, cmap = 'coolwarm', vmin = -1, vmax = 1)\n",
    "# plt.colorbar()\n",
    "# plt.title('lbin , mode, frequency (10*3*10)', fontsize = 20)\n",
    "# plt.savefig('./fig_results/covariance_matrix_lbin_first.pdf', format = 'pdf')"
   ]
  },
  {
   "cell_type": "code",
   "execution_count": 1280,
   "metadata": {
    "ExecuteTime": {
     "end_time": "2020-06-30T21:04:00.775454Z",
     "start_time": "2020-06-30T21:04:00.772175Z"
    },
    "hidden": true
   },
   "outputs": [],
   "source": [
    "# cov_marry = np.corrcoef(marry)\n",
    "# plt.figure(figsize = (10,10))\n",
    "# plt.imshow(cov_marry, cmap = 'coolwarm', vmin = -1, vmax = 1)\n",
    "# plt.colorbar()\n",
    "# plt.title('mode , lbin, frequency', fontsize = 20)\n",
    "# plt.annotate(s = '',xy=(0.07,0.08), xytext=(0.33,0.08),arrowprops=dict(arrowstyle='<->'), xycoords = 'figure fraction')\n",
    "# plt.annotate(s = '',xy=(0.33,0.08), xytext=(0.59,0.08),arrowprops=dict(arrowstyle='<->'), xycoords = 'figure fraction')\n",
    "# plt.annotate(s = '',xy=(0.585,0.08), xytext=(0.84,0.08),arrowprops=dict(arrowstyle='<->'), xycoords = 'figure fraction')\n",
    "# plt.text(45, 340, 'EE', fontsize = '15')\n",
    "# plt.text(145, 340, 'EB', fontsize = '15')\n",
    "# plt.text(245, 340, 'BB', fontsize = '15')\n",
    "\n",
    "# plt.annotate(s = '',xy=(0.07,0.125), xytext=(0.105,0.125),arrowprops=dict(arrowstyle='<->'), xycoords = 'figure fraction')\n",
    "# plt.annotate(s = '',xy=(0.105,0.125), xytext=(0.140,0.125),arrowprops=dict(arrowstyle='<->'), xycoords = 'figure fraction')\n",
    "\n",
    "# plt.text(0, 320, '$\\ell$1', fontsize = '15')\n",
    "        \n",
    "# plt.text(12, 320, '$\\ell$2', fontsize = '15')\n",
    "          \n",
    "# plt.savefig('./fig_results/covariance_matrix_EE_first.pdf', format = 'pdf')"
   ]
  },
  {
   "cell_type": "code",
   "execution_count": 1281,
   "metadata": {
    "ExecuteTime": {
     "end_time": "2020-06-30T21:04:05.223293Z",
     "start_time": "2020-06-30T21:04:05.219949Z"
    },
    "hidden": true
   },
   "outputs": [],
   "source": [
    "# ## 20 realizations\n",
    "\n",
    "# plt.figure(figsize = (10,10))\n",
    "# plt.imshow(cov_mat_BB, cmap = 'coolwarm', vmin = -1, vmax = 1)\n",
    "# plt.colorbar()"
   ]
  },
  {
   "cell_type": "code",
   "execution_count": 489,
   "metadata": {
    "ExecuteTime": {
     "end_time": "2020-06-25T16:46:29.036041Z",
     "start_time": "2020-06-25T16:46:29.029905Z"
    },
    "hidden": true
   },
   "outputs": [
    {
     "data": {
      "text/plain": [
       "(300, 500)"
      ]
     },
     "execution_count": 489,
     "metadata": {},
     "output_type": "execute_result"
    }
   ],
   "source": [
    "marry.shape"
   ]
  },
  {
   "cell_type": "code",
   "execution_count": 33,
   "metadata": {
    "ExecuteTime": {
     "end_time": "2020-06-22T20:18:07.983782Z",
     "start_time": "2020-06-22T20:18:07.971286Z"
    },
    "hidden": true
   },
   "outputs": [],
   "source": [
    "cov_mat =  np.corrcoef(marray)## full covariance matrix\n",
    "# \n",
    "# np.corrcoef(marray)"
   ]
  },
  {
   "cell_type": "code",
   "execution_count": 1282,
   "metadata": {
    "ExecuteTime": {
     "end_time": "2020-06-30T21:04:10.034680Z",
     "start_time": "2020-06-30T21:04:10.030558Z"
    },
    "hidden": true
   },
   "outputs": [],
   "source": [
    "# plt.figure(figsize = (10,10))\n",
    "# plt.imshow(cov_mat, cmap = 'coolwarm', vmin = -1, vmax = 1)\n",
    "# plt.colorbar()\n",
    "# # plt.text(0,-5,'EE')\n",
    "# # plt.xticks([100], 'hh')\n",
    "# # plt.xlim(-10, 310)\n",
    "# # plt.ylim(-10, 310)\n",
    "\n",
    "# plt.annotate(s = '',xy=(0.07,0.08), xytext=(0.33,0.08),arrowprops=dict(arrowstyle='<->'), xycoords = 'figure fraction')\n",
    "# plt.annotate(s = '',xy=(0.33,0.08), xytext=(0.59,0.08),arrowprops=dict(arrowstyle='<->'), xycoords = 'figure fraction')\n",
    "# plt.annotate(s = '',xy=(0.585,0.08), xytext=(0.84,0.08),arrowprops=dict(arrowstyle='<->'), xycoords = 'figure fraction')\n",
    "# plt.text(45, 340, 'EE', fontsize = '15')\n",
    "# plt.text(145, 340, 'EB', fontsize = '15')\n",
    "# plt.text(245, 340, 'BB', fontsize = '15')\n",
    "\n",
    "# plt.annotate(s = '',xy=(0.07,0.125), xytext=(0.105,0.125),arrowprops=dict(arrowstyle='<->'), xycoords = 'figure fraction')\n",
    "# plt.annotate(s = '',xy=(0.105,0.125), xytext=(0.140,0.125),arrowprops=dict(arrowstyle='<->'), xycoords = 'figure fraction')\n",
    "\n",
    "# plt.text(0, 320, '$\\ell$1', fontsize = '15')\n",
    "# plt.text(12, 320, '$\\ell$2', fontsize = '15')"
   ]
  },
  {
   "cell_type": "markdown",
   "metadata": {},
   "source": [
    "### calculate the covariance matrix"
   ]
  },
  {
   "cell_type": "code",
   "execution_count": null,
   "metadata": {},
   "outputs": [],
   "source": []
  },
  {
   "cell_type": "markdown",
   "metadata": {
    "heading_collapsed": true
   },
   "source": [
    "### reorganize M_inv to (lbin, lbin, nf_ind, nf_ind)for the Likelihood calculation "
   ]
  },
  {
   "cell_type": "markdown",
   "metadata": {
    "ExecuteTime": {
     "end_time": "2020-06-25T17:31:29.322944Z",
     "start_time": "2020-06-25T17:31:29.319051Z"
    },
    "heading_collapsed": true,
    "hidden": true
   },
   "source": [
    "##### for EE first"
   ]
  },
  {
   "cell_type": "code",
   "execution_count": 557,
   "metadata": {
    "ExecuteTime": {
     "end_time": "2020-06-26T15:17:18.077483Z",
     "start_time": "2020-06-26T15:17:18.018126Z"
    },
    "hidden": true
   },
   "outputs": [],
   "source": [
    "cov_mat_inv = LA.inv(cov_mat_BB)\n",
    "M_inv = np.ones((lbin, lbin, nf_ind, nf_ind))\n",
    "\n",
    "### for EE first\n",
    "\n",
    "for ell in range(lbin*nf_ind):\n",
    "    i = ell//10; j = ell%10;\n",
    "    for fre in range(nf_ind):\n",
    "        \n",
    "        M_inv[i, j] = np.triu(cov_mat_inv[ell, nf_ind*fre:nf_ind*(fre+1)])\n",
    "        \n",
    "## only BB"
   ]
  },
  {
   "cell_type": "markdown",
   "metadata": {
    "heading_collapsed": true,
    "hidden": true
   },
   "source": [
    "##### for l-bin first"
   ]
  },
  {
   "cell_type": "code",
   "execution_count": 1057,
   "metadata": {
    "ExecuteTime": {
     "end_time": "2020-06-29T15:37:16.477358Z",
     "start_time": "2020-06-29T15:37:16.473129Z"
    },
    "hidden": true
   },
   "outputs": [],
   "source": [
    "M_inv = utils.Minv(cov_mat_BB, lbin, nf_ind)"
   ]
  },
  {
   "cell_type": "markdown",
   "metadata": {},
   "source": [
    "### Test for  Likelihood"
   ]
  },
  {
   "cell_type": "markdown",
   "metadata": {},
   "source": [
    "#### BB mode"
   ]
  },
  {
   "cell_type": "code",
   "execution_count": 649,
   "metadata": {
    "ExecuteTime": {
     "end_time": "2020-06-26T16:35:06.958005Z",
     "start_time": "2020-06-26T16:35:06.947729Z"
    }
   },
   "outputs": [],
   "source": [
    "def GenBB(r = 0.05, raw_cl = True):\n",
    "    '''\n",
    "    Generate the theoretical power spectra using camb\n",
    "    '''\n",
    "    \n",
    "    pars = camb.CAMBparams()\n",
    "    pars.set_cosmology(H0=67.26, ombh2=0.022, omch2=0.1199, mnu=0.06, omk=0, tau=0.078)\n",
    "    pars.InitPower.set_params(As=2.19856*1e-9, ns=0.9652, r = r)\n",
    "    pars.set_for_lmax(3000, lens_potential_accuracy=1)\n",
    "    pars.WantTensors = True\n",
    "    \n",
    "    results = camb.get_results(pars)\n",
    "    powers =results.get_cmb_power_spectra(pars, CMB_unit='muK', raw_cl=raw_cl)\n",
    "    \n",
    "    totCL=powers['tensor'] ## TT EE BB TE\n",
    "#     ell = np.arange(len(totCL.T[0]))\n",
    "    return totCL.T[2]"
   ]
  },
  {
   "cell_type": "code",
   "execution_count": 626,
   "metadata": {
    "ExecuteTime": {
     "end_time": "2020-06-26T16:25:59.255690Z",
     "start_time": "2020-06-26T16:25:59.252010Z"
    }
   },
   "outputs": [],
   "source": [
    "r = 0.05"
   ]
  },
  {
   "cell_type": "code",
   "execution_count": 656,
   "metadata": {
    "ExecuteTime": {
     "end_time": "2020-06-26T16:37:56.244318Z",
     "start_time": "2020-06-26T16:37:53.963310Z"
    }
   },
   "outputs": [],
   "source": [
    "bb = GenBB(0.05, raw_cl=False)\n",
    "bb_06 = GenBB(0.06, raw_cl=False)"
   ]
  },
  {
   "cell_type": "code",
   "execution_count": 659,
   "metadata": {
    "ExecuteTime": {
     "end_time": "2020-06-26T16:38:38.358303Z",
     "start_time": "2020-06-26T16:38:38.153987Z"
    }
   },
   "outputs": [
    {
     "name": "stderr",
     "output_type": "stream",
     "text": [
      "/home/jianyao/anaconda3/lib/python3.7/site-packages/ipykernel_launcher.py:1: RuntimeWarning: invalid value encountered in true_divide\n",
      "  \"\"\"Entry point for launching an IPython kernel.\n"
     ]
    },
    {
     "data": {
      "text/plain": [
       "[<matplotlib.lines.Line2D at 0x7fa33e3567f0>]"
      ]
     },
     "execution_count": 659,
     "metadata": {},
     "output_type": "execute_result"
    },
    {
     "data": {
      "image/png": "[encoded data removed]",
      "text/plain": [
       "<Figure size 432x288 with 1 Axes>"
      ]
     },
     "metadata": {
      "needs_background": "light"
     },
     "output_type": "display_data"
    }
   ],
   "source": [
    "plt.plot(bb_06/bb)"
   ]
  },
  {
   "cell_type": "code",
   "execution_count": 691,
   "metadata": {
    "ExecuteTime": {
     "end_time": "2020-06-26T17:09:47.324736Z",
     "start_time": "2020-06-26T17:09:47.318359Z"
    }
   },
   "outputs": [
    {
     "data": {
      "text/plain": [
       "array([0.00219406, 0.00042306, 0.0008092 , 0.00138481, 0.0021608 ,\n",
       "       0.00313533, 0.00429503, 0.00563341, 0.00718524, 0.00949875])"
      ]
     },
     "execution_count": 691,
     "metadata": {},
     "output_type": "execute_result"
    }
   ],
   "source": [
    "nl_mean[2][:,1,1]"
   ]
  },
  {
   "cell_type": "code",
   "execution_count": 697,
   "metadata": {
    "ExecuteTime": {
     "end_time": "2020-06-26T17:11:18.715659Z",
     "start_time": "2020-06-26T17:11:18.268631Z"
    }
   },
   "outputs": [
    {
     "data": {
      "text/plain": [
       "[<matplotlib.lines.Line2D at 0x7fa33df5da90>]"
      ]
     },
     "execution_count": 697,
     "metadata": {},
     "output_type": "execute_result"
    },
    {
     "data": {
      "image/png": "[encoded data removed]",
      "text/plain": [
       "<Figure size 432x288 with 1 Axes>"
      ]
     },
     "metadata": {
      "needs_background": "light"
     },
     "output_type": "display_data"
    }
   ],
   "source": [
    "# plt.loglog(total[:,2])\n",
    "plt.loglog(bb)\n",
    "plt.loglog(bb_06)\n",
    "\n",
    "plt.loglog(est.ell_n, nl_mean[2][:,1,1])"
   ]
  },
  {
   "cell_type": "code",
   "execution_count": null,
   "metadata": {},
   "outputs": [],
   "source": []
  },
  {
   "cell_type": "code",
   "execution_count": 1086,
   "metadata": {
    "ExecuteTime": {
     "end_time": "2020-06-29T19:16:31.307438Z",
     "start_time": "2020-06-29T19:16:30.114068Z"
    }
   },
   "outputs": [],
   "source": [
    "lensingB = utils.Gencl(r = 0, raw_cl = True)"
   ]
  },
  {
   "cell_type": "markdown",
   "metadata": {},
   "source": [
    "#### evaluate L "
   ]
  },
  {
   "cell_type": "code",
   "execution_count": null,
   "metadata": {},
   "outputs": [],
   "source": []
  },
  {
   "cell_type": "markdown",
   "metadata": {},
   "source": [
    "def evaluateLikelihood(C_l,C_l_hat,C_fl,M_inv)"
   ]
  },
  {
   "cell_type": "code",
   "execution_count": 1168,
   "metadata": {
    "ExecuteTime": {
     "end_time": "2020-06-29T21:06:06.140245Z",
     "start_time": "2020-06-29T21:06:06.136247Z"
    }
   },
   "outputs": [],
   "source": [
    "rlist = np.arange(0, 0.1, 0.0001)"
   ]
  },
  {
   "cell_type": "code",
   "execution_count": 803,
   "metadata": {
    "ExecuteTime": {
     "end_time": "2020-06-27T19:55:19.320590Z",
     "start_time": "2020-06-27T19:55:19.316706Z"
    }
   },
   "outputs": [],
   "source": []
  },
  {
   "cell_type": "code",
   "execution_count": 660,
   "metadata": {
    "ExecuteTime": {
     "end_time": "2020-06-26T16:41:00.078123Z",
     "start_time": "2020-06-26T16:40:58.872229Z"
    }
   },
   "outputs": [],
   "source": [
    "bb_05 = GenBB(0.05, raw_cl = True) ##only tensor BB"
   ]
  },
  {
   "cell_type": "code",
   "execution_count": null,
   "metadata": {
    "ExecuteTime": {
     "end_time": "2020-06-30T21:52:22.739856Z",
     "start_time": "2020-06-30T21:52:22.730688Z"
    }
   },
   "outputs": [],
   "source": []
  },
  {
   "cell_type": "code",
   "execution_count": 1309,
   "metadata": {
    "ExecuteTime": {
     "end_time": "2020-07-01T16:03:30.123077Z",
     "start_time": "2020-07-01T15:27:49.314912Z"
    }
   },
   "outputs": [],
   "source": [
    "Nreal = 50\n",
    "\n",
    "r_rec = np.ones(Nreal)\n",
    "for i in range(Nreal):\n",
    "    r_rec[i] = r_like(cl_hat_all[i], cl_f, nl_mean, M_inv, sbin = 0)"
   ]
  },
  {
   "cell_type": "code",
   "execution_count": 1256,
   "metadata": {
    "ExecuteTime": {
     "end_time": "2020-06-30T20:08:33.692537Z",
     "start_time": "2020-06-30T20:08:33.685730Z"
    }
   },
   "outputs": [
    {
     "data": {
      "text/plain": [
       "0.0010577806956075537"
      ]
     },
     "execution_count": 1256,
     "metadata": {},
     "output_type": "execute_result"
    }
   ],
   "source": [
    "np.std(r_rec)"
   ]
  },
  {
   "cell_type": "code",
   "execution_count": 1200,
   "metadata": {
    "ExecuteTime": {
     "end_time": "2020-06-30T00:31:08.427363Z",
     "start_time": "2020-06-30T00:31:08.420574Z"
    }
   },
   "outputs": [
    {
     "data": {
      "text/plain": [
       "0.05000999999999999"
      ]
     },
     "execution_count": 1200,
     "metadata": {},
     "output_type": "execute_result"
    }
   ],
   "source": [
    "np.mean(r_rec)"
   ]
  },
  {
   "cell_type": "code",
   "execution_count": 1262,
   "metadata": {
    "ExecuteTime": {
     "end_time": "2020-06-30T20:57:54.997909Z",
     "start_time": "2020-06-30T20:57:54.702804Z"
    }
   },
   "outputs": [
    {
     "data": {
      "image/png": "[encoded data removed]",
      "text/plain": [
       "<Figure size 720x576 with 1 Axes>"
      ]
     },
     "metadata": {
      "needs_background": "light"
     },
     "output_type": "display_data"
    }
   ],
   "source": [
    "plt.figure(figsize = (10, 8))\n",
    "for i in range(Nreal):\n",
    "    plt.axvline(r_rec[i],c='b', ls='--')\n",
    "plt.xlim(0.045, 0.055)\n",
    "\n",
    "plt.axvline(0.05, c='r', lw = 3,ls='-')\n",
    "plt.savefig('./fig_results/0630_constrains_on_r_full_sky_different_realizations.pdf', format = 'pdf')"
   ]
  },
  {
   "cell_type": "code",
   "execution_count": 1257,
   "metadata": {
    "ExecuteTime": {
     "end_time": "2020-06-30T20:08:54.057034Z",
     "start_time": "2020-06-30T20:08:54.050203Z"
    }
   },
   "outputs": [
    {
     "data": {
      "text/plain": [
       "0.001799999999999996"
      ]
     },
     "execution_count": 1257,
     "metadata": {},
     "output_type": "execute_result"
    }
   ],
   "source": [
    "rlist[548] - rlist[530]"
   ]
  },
  {
   "cell_type": "code",
   "execution_count": 1176,
   "metadata": {
    "ExecuteTime": {
     "end_time": "2020-06-29T23:34:31.047424Z",
     "start_time": "2020-06-29T23:34:30.820978Z"
    }
   },
   "outputs": [
    {
     "data": {
      "text/plain": [
       "Text(0.5, 1.0, 'Constraints on $r$ for full-sky')"
      ]
     },
     "execution_count": 1176,
     "metadata": {},
     "output_type": "execute_result"
    },
    {
     "data": {
      "image/png": "[encoded data removed]",
      "text/plain": [
       "<Figure size 720x576 with 1 Axes>"
      ]
     },
     "metadata": {
      "needs_background": "light"
     },
     "output_type": "display_data"
    }
   ],
   "source": [
    "plt.figure(figsize = (10, 8))\n",
    "plt.plot(rlist, np.exp(logLike))\n",
    "# plt.yscale('log')\n",
    "plt.axvline(0.05, c='r', ls='--')\n",
    "\n",
    "plt.axvline(rlist[513], c='k', ls='--')\n",
    "\n",
    "plt.axvline(rlist[548], c='k', ls='--')\n",
    "\n",
    "plt.axvline(rlist[530], c='b', ls='--')\n",
    "\n",
    "plt.xlim([0.04, 0.06])\n",
    "# plt.ylim([0, 0.07])\n",
    "# plt.yticks([])\n",
    "plt.xlabel(r'Tensor-to-scalar ratio $r$', size=16)\n",
    "# plt.ylabel(r'Probability', size=16)\n",
    "plt.title(r'Constraints on $r$ for full-sky', size=16)\n",
    "# plt.text(0.052, 1.0, 'r = 0.05', fontsize = 20)\n",
    "\n",
    "# plt.savefig('./fig_results/constraints_on_r_full_sky.pdf', format = 'pdf')"
   ]
  },
  {
   "cell_type": "markdown",
   "metadata": {},
   "source": [
    "## $\\chi^2$ test"
   ]
  },
  {
   "cell_type": "code",
   "execution_count": 1225,
   "metadata": {
    "ExecuteTime": {
     "end_time": "2020-06-30T19:21:33.027624Z",
     "start_time": "2020-06-30T19:20:57.897663Z"
    }
   },
   "outputs": [
    {
     "data": {
      "text/plain": [
       "0.053000000000000005"
      ]
     },
     "execution_count": 1225,
     "metadata": {},
     "output_type": "execute_result"
    }
   ],
   "source": [
    "r_like(cl_hat_all[1], cl_f, nl_mean, M_inv)"
   ]
  },
  {
   "cell_type": "code",
   "execution_count": 1227,
   "metadata": {
    "ExecuteTime": {
     "end_time": "2020-06-30T19:23:44.320483Z",
     "start_time": "2020-06-30T19:23:44.310005Z"
    }
   },
   "outputs": [],
   "source": [
    "cmb_1 = np.load('/fnx/jianyao/Likelihood_data/Simulations/CMB/cmb_maps_mc_%03d.npy'%1)"
   ]
  },
  {
   "cell_type": "code",
   "execution_count": 1240,
   "metadata": {
    "ExecuteTime": {
     "end_time": "2020-06-30T19:36:25.830230Z",
     "start_time": "2020-06-30T19:36:25.826146Z"
    }
   },
   "outputs": [],
   "source": [
    "ell = np.arange(nmtlmax + 1)"
   ]
  },
  {
   "cell_type": "code",
   "execution_count": 1234,
   "metadata": {
    "ExecuteTime": {
     "end_time": "2020-06-30T19:32:20.356311Z",
     "start_time": "2020-06-30T19:32:19.600427Z"
    }
   },
   "outputs": [],
   "source": [
    "cls = hp.anafast(cmb_1, lmax = nmtlmax)"
   ]
  },
  {
   "cell_type": "code",
   "execution_count": 1241,
   "metadata": {
    "ExecuteTime": {
     "end_time": "2020-06-30T19:36:48.223753Z",
     "start_time": "2020-06-30T19:36:48.213591Z"
    }
   },
   "outputs": [],
   "source": [
    "hp.anafast?"
   ]
  },
  {
   "cell_type": "code",
   "execution_count": 1238,
   "metadata": {
    "ExecuteTime": {
     "end_time": "2020-06-30T19:35:46.070231Z",
     "start_time": "2020-06-30T19:35:44.905469Z"
    }
   },
   "outputs": [],
   "source": [
    "cl_r = utils.Gencl(r = 0.05, raw_cl = False)"
   ]
  },
  {
   "cell_type": "code",
   "execution_count": 1244,
   "metadata": {
    "ExecuteTime": {
     "end_time": "2020-06-30T19:38:06.605415Z",
     "start_time": "2020-06-30T19:38:05.357775Z"
    }
   },
   "outputs": [],
   "source": [
    "cl_r_53 = utils.Gencl(r = 0.053, raw_cl = False)"
   ]
  },
  {
   "cell_type": "code",
   "execution_count": 1250,
   "metadata": {
    "ExecuteTime": {
     "end_time": "2020-06-30T19:55:00.130448Z",
     "start_time": "2020-06-30T19:54:59.678440Z"
    }
   },
   "outputs": [
    {
     "data": {
      "text/plain": [
       "(1, 202)"
      ]
     },
     "execution_count": 1250,
     "metadata": {},
     "output_type": "execute_result"
    },
    {
     "data": {
      "image/png": "[encoded data removed]",
      "text/plain": [
       "<Figure size 720x576 with 1 Axes>"
      ]
     },
     "metadata": {
      "needs_background": "light"
     },
     "output_type": "display_data"
    }
   ],
   "source": [
    "plt.figure(figsize=(10, 8))\n",
    "plt.loglog(cl_r[2])\n",
    "plt.loglog(cl_r_53[2])\n",
    "\n",
    "plt.loglog(ell, ell*(ell+1)/2/np.pi*cls[2])\n",
    "\n",
    "plt.xlim(1, nmtlmax+1)"
   ]
  },
  {
   "cell_type": "code",
   "execution_count": 1306,
   "metadata": {
    "ExecuteTime": {
     "end_time": "2020-07-01T15:03:31.672921Z",
     "start_time": "2020-07-01T14:28:03.208425Z"
    }
   },
   "outputs": [],
   "source": [
    "Nreal = 50\n",
    "\n",
    "r_rec_0bin = np.ones(Nreal)\n",
    "for i in range(Nreal):\n",
    "    r_rec_0bin[i] = r_like(cl_hat_all[i], cl_f, nl_mean, M_inv, sbin=0)"
   ]
  },
  {
   "cell_type": "code",
   "execution_count": 1307,
   "metadata": {
    "ExecuteTime": {
     "end_time": "2020-07-01T15:27:19.206662Z",
     "start_time": "2020-07-01T15:27:18.956786Z"
    }
   },
   "outputs": [
    {
     "data": {
      "text/plain": [
       "<matplotlib.lines.Line2D at 0x7fa33b46bc50>"
      ]
     },
     "execution_count": 1307,
     "metadata": {},
     "output_type": "execute_result"
    },
    {
     "data": {
      "image/png": "[encoded data removed]",
      "text/plain": [
       "<Figure size 720x576 with 1 Axes>"
      ]
     },
     "metadata": {
      "needs_background": "light"
     },
     "output_type": "display_data"
    }
   ],
   "source": [
    "plt.figure(figsize = (10, 8))\n",
    "for i in range(Nreal):\n",
    "    plt.axvline(r_rec_0bin[i],c='b', ls='--')\n",
    "plt.xlim(0.045, 0.055)\n",
    "\n",
    "plt.axvline(0.05, c='r', lw = 3,ls='-')"
   ]
  },
  {
   "cell_type": "code",
   "execution_count": 1502,
   "metadata": {
    "ExecuteTime": {
     "end_time": "2020-07-02T20:24:48.978628Z",
     "start_time": "2020-07-02T20:24:48.972158Z"
    }
   },
   "outputs": [
    {
     "data": {
      "text/plain": [
       "0.050658"
      ]
     },
     "execution_count": 1502,
     "metadata": {},
     "output_type": "execute_result"
    }
   ],
   "source": [
    "np.mean(r_rec_ali_0p01)"
   ]
  },
  {
   "cell_type": "code",
   "execution_count": 1503,
   "metadata": {
    "ExecuteTime": {
     "end_time": "2020-07-02T20:24:58.541911Z",
     "start_time": "2020-07-02T20:24:58.535960Z"
    }
   },
   "outputs": [
    {
     "data": {
      "text/plain": [
       "0.05088400000000001"
      ]
     },
     "execution_count": 1503,
     "metadata": {},
     "output_type": "execute_result"
    }
   ],
   "source": [
    "np.mean(r_rec_ali)"
   ]
  },
  {
   "cell_type": "markdown",
   "metadata": {
    "heading_collapsed": true
   },
   "source": [
    "## likeli class"
   ]
  },
  {
   "cell_type": "code",
   "execution_count": null,
   "metadata": {
    "hidden": true
   },
   "outputs": [],
   "source": [
    "evaluateL = utils.evaluateLikelihood\n",
    "\n",
    "def r_like(cl_hat_0, cl_f, nl_mean, M_inv, sbin):\n",
    "# Initiating the logarithmic likelihood arrays\n",
    "    logLike = np.zeros(len(rlist))\n",
    "\n",
    "    # loop over r values\n",
    "    for i in range(len(rlist)):\n",
    "\n",
    "        r_i  =  rlist[i]\n",
    "        bb_tensor = bb_05[0:nmtlmax+1]*r_i/0.05 \n",
    "\n",
    "        bb_camb = bb_tensor + lensingB[2][0:nmtlmax+1] ## tensor BB + lensing BB \n",
    "\n",
    "        cl_th_i = b.bin_cell(bb_camb[0:nmtlmax+1])  ## theoretical bandpower \n",
    "        cl_th_test = np.ones((lbin, Nf, Nf));  ## BB cross power spectra\n",
    "        for ell in range(lbin):\n",
    "            cl_th_test[ell] *= cl_th_i[ell]\n",
    "\n",
    "        # add Noise bias N_l to expectation values.\n",
    "        C_l = cl_th_test + nl_mean[2]\n",
    "\n",
    "        logL = evaluateL(C_l, cl_hat_0[2], cl_f[2], M_inv, sbin)\n",
    "        logLike[i] = np.real(logL)\n",
    "    \n",
    "    r_max = np.argsort(logLike)[-1]\n",
    "    return rlist[r_max]"
   ]
  },
  {
   "cell_type": "code",
   "execution_count": 1386,
   "metadata": {
    "ExecuteTime": {
     "end_time": "2020-07-02T00:48:08.047777Z",
     "start_time": "2020-07-02T00:48:08.001043Z"
    },
    "hidden": true
   },
   "outputs": [
    {
     "data": {
      "text/plain": [
       "-475.2943076307971"
      ]
     },
     "execution_count": 1386,
     "metadata": {},
     "output_type": "execute_result"
    }
   ],
   "source": [
    "evaluateL(C_l, cl_hat_0[2], cl_f[2], M_inv, sbin = 0)"
   ]
  },
  {
   "cell_type": "code",
   "execution_count": 1389,
   "metadata": {
    "ExecuteTime": {
     "end_time": "2020-07-02T00:49:17.871124Z",
     "start_time": "2020-07-02T00:49:17.863383Z"
    },
    "hidden": true
   },
   "outputs": [
    {
     "data": {
      "text/plain": [
       "<module 'logLikeli' from '/home/jianyao/Likelihood/logLikeli.py'>"
      ]
     },
     "execution_count": 1389,
     "metadata": {},
     "output_type": "execute_result"
    }
   ],
   "source": [
    "imp.reload(logLikeli)"
   ]
  },
  {
   "cell_type": "code",
   "execution_count": 1390,
   "metadata": {
    "ExecuteTime": {
     "end_time": "2020-07-02T00:49:22.174524Z",
     "start_time": "2020-07-02T00:49:22.170859Z"
    },
    "hidden": true
   },
   "outputs": [],
   "source": [
    "lll = logLikeli.logLike(2, 10)"
   ]
  },
  {
   "cell_type": "code",
   "execution_count": 1384,
   "metadata": {
    "ExecuteTime": {
     "end_time": "2020-07-02T00:48:02.755151Z",
     "start_time": "2020-07-02T00:48:02.655528Z"
    },
    "hidden": true
   },
   "outputs": [
    {
     "data": {
      "text/plain": [
       "-475.2943076307971"
      ]
     },
     "execution_count": 1384,
     "metadata": {},
     "output_type": "execute_result"
    }
   ],
   "source": [
    "### (self, cl_th, cl_hat, cl_f_all, SamNum, sbin, M_inv = None)\n",
    "\n",
    "lll.run(C_l, cl_hat_0, 0, cl_f, m_inv = M_inv)"
   ]
  },
  {
   "cell_type": "code",
   "execution_count": 1392,
   "metadata": {
    "ExecuteTime": {
     "end_time": "2020-07-02T00:49:26.931574Z",
     "start_time": "2020-07-02T00:49:26.680702Z"
    },
    "hidden": true
   },
   "outputs": [
    {
     "data": {
      "text/plain": [
       "-475.2943076307976"
      ]
     },
     "execution_count": 1392,
     "metadata": {},
     "output_type": "execute_result"
    }
   ],
   "source": [
    "lll.run(C_l, cl_hat_0, 0, cl_f_all = cl_f_all, SamNum=500)"
   ]
  },
  {
   "cell_type": "code",
   "execution_count": null,
   "metadata": {
    "hidden": true
   },
   "outputs": [],
   "source": []
  },
  {
   "cell_type": "markdown",
   "metadata": {
    "ExecuteTime": {
     "end_time": "2020-07-02T19:03:33.390330Z",
     "start_time": "2020-07-02T19:03:33.386385Z"
    }
   },
   "source": [
    "## dynesty"
   ]
  },
  {
   "cell_type": "code",
   "execution_count": 1546,
   "metadata": {
    "ExecuteTime": {
     "end_time": "2020-07-03T16:21:01.347780Z",
     "start_time": "2020-07-03T16:21:01.328431Z"
    }
   },
   "outputs": [],
   "source": [
    "import dynesty\n",
    "from dynesty import plotting as dyplot\n",
    "## import planck function \n",
    "from pysm.common import B as pf"
   ]
  },
  {
   "cell_type": "markdown",
   "metadata": {},
   "source": [
    "### No foreground for Ali Sky"
   ]
  },
  {
   "cell_type": "code",
   "execution_count": 1811,
   "metadata": {
    "ExecuteTime": {
     "end_time": "2020-07-04T14:08:14.566857Z",
     "start_time": "2020-07-04T14:08:14.554475Z"
    }
   },
   "outputs": [
    {
     "data": {
      "text/plain": [
       "<module 'utils' from '/home/jianyao/Likelihood/utils.py'>"
      ]
     },
     "execution_count": 1811,
     "metadata": {},
     "output_type": "execute_result"
    }
   ],
   "source": [
    "imp.reload(utils)"
   ]
  },
  {
   "cell_type": "code",
   "execution_count": 1812,
   "metadata": {
    "ExecuteTime": {
     "end_time": "2020-07-04T14:08:16.028542Z",
     "start_time": "2020-07-04T14:08:16.026455Z"
    }
   },
   "outputs": [],
   "source": [
    "from utils import testL as testL"
   ]
  },
  {
   "cell_type": "code",
   "execution_count": 1800,
   "metadata": {
    "ExecuteTime": {
     "end_time": "2020-07-04T14:06:05.663430Z",
     "start_time": "2020-07-04T14:06:05.653219Z"
    }
   },
   "outputs": [],
   "source": [
    "def log_lcmb(cube):\n",
    "    r_i = cube;\n",
    "    bb_tensor = bb_05[0:nmtlmax+1]*r_i/0.05 \n",
    "\n",
    "    bb_camb = bb_tensor + lensingB[2][0:nmtlmax+1] ## tensor BB + lensing BB \n",
    "\n",
    "    cl_th_i = b.bin_cell(bb_camb[0:nmtlmax+1])  ## theoretical bandpower \n",
    "    cl_th_test = np.ones((lbin, Nf, Nf));  ## BB cross power spectra\n",
    "    for ell in range(lbin):\n",
    "        cl_th_test[ell] *= cl_th_i[ell]\n",
    "\n",
    "    # add Noise bias N_l to expectation values.\n",
    "    C_l = cl_th_test + nl_mean[2]\n",
    "\n",
    "    logL = testL(cl_hat_all_ali[10][2], cl_f_ali[2], C_l, Nf = Nf, M = cov_mat_BB_ali, sbin = 1)\n",
    "    \n",
    "    return np.real(logL)\n",
    "\n",
    "def prior_cmb(cube):\n",
    "    r = cube*0.1\n",
    "   \n",
    "    return r"
   ]
  },
  {
   "cell_type": "code",
   "execution_count": 1814,
   "metadata": {
    "ExecuteTime": {
     "end_time": "2020-07-04T14:09:24.428094Z",
     "start_time": "2020-07-04T14:08:23.740218Z"
    }
   },
   "outputs": [
    {
     "name": "stderr",
     "output_type": "stream",
     "text": [
      "1555it [00:58, 28.89it/s, +53 | bound: 1 | nc: 1 | ncall: 14782 | eff(%): 10.878 | loglstar:   -inf < -25.892 <    inf | logz: -28.955 +/-  0.111 | dlogz:  0.346 >  0.409]\n"
     ]
    }
   ],
   "source": [
    "sampler = dynesty.NestedSampler(log_lcmb, prior_cmb, 1, nlive=400)\n",
    "sampler.run_nested()\n",
    "results = sampler.results"
   ]
  },
  {
   "cell_type": "code",
   "execution_count": 1815,
   "metadata": {
    "ExecuteTime": {
     "end_time": "2020-07-04T14:09:35.201646Z",
     "start_time": "2020-07-04T14:09:34.852217Z"
    }
   },
   "outputs": [
    {
     "name": "stdout",
     "output_type": "stream",
     "text": [
      "Quantiles:\n",
      "$x_{1}$ [(0.025, 0.04532592216035105), (0.5, 0.05026943659451321), (0.975, 0.05538515298345002)]\n"
     ]
    },
    {
     "data": {
      "text/plain": [
       "(<Figure size 864x216 with 2 Axes>,\n",
       " array([<matplotlib.axes._subplots.AxesSubplot object at 0x7fa330012b70>,\n",
       "        <matplotlib.axes._subplots.AxesSubplot object at 0x7fa32fe60fd0>],\n",
       "       dtype=object))"
      ]
     },
     "execution_count": 1815,
     "metadata": {},
     "output_type": "execute_result"
    },
    {
     "data": {
      "image/png": "[encoded data removed]",
      "text/plain": [
       "<Figure size 864x216 with 2 Axes>"
      ]
     },
     "metadata": {
      "needs_background": "light"
     },
     "output_type": "display_data"
    }
   ],
   "source": [
    "dyplot.traceplot(results, truths=np.ones(1)*0.050,\n",
    "                             truth_color='black', show_titles=True,\n",
    "                             trace_cmap='coolwarm', title_fmt='.4f',connect=True, verbose = True)"
   ]
  },
  {
   "cell_type": "code",
   "execution_count": 1622,
   "metadata": {
    "ExecuteTime": {
     "end_time": "2020-07-03T20:45:14.991091Z",
     "start_time": "2020-07-03T20:36:53.784170Z"
    }
   },
   "outputs": [
    {
     "name": "stderr",
     "output_type": "stream",
     "text": [
      "1535it [08:06,  3.15it/s, +400 | bound: 1 | nc: 1 | ncall: 14398 | eff(%): 13.439 | loglstar:   -inf < -25.815 <    inf | logz: -28.566 +/-  0.085 | dlogz:  0.001 >  0.409]\n"
     ]
    }
   ],
   "source": [
    "sampler = dynesty.NestedSampler(log_lcmb, prior_cmb, 1, nlive=400)\n",
    "sampler.run_nested()\n",
    "results = sampler.results"
   ]
  },
  {
   "cell_type": "code",
   "execution_count": 1623,
   "metadata": {
    "ExecuteTime": {
     "end_time": "2020-07-03T20:53:45.710747Z",
     "start_time": "2020-07-03T20:53:45.339369Z"
    }
   },
   "outputs": [
    {
     "name": "stdout",
     "output_type": "stream",
     "text": [
      "Quantiles:\n",
      "$x_{1}$ [(0.025, 0.044986234416837835), (0.5, 0.050320591297871455), (0.975, 0.0558252969006828)]\n"
     ]
    },
    {
     "data": {
      "text/plain": [
       "(<Figure size 864x216 with 2 Axes>,\n",
       " array([<matplotlib.axes._subplots.AxesSubplot object at 0x7fa33020b198>,\n",
       "        <matplotlib.axes._subplots.AxesSubplot object at 0x7fa330383748>],\n",
       "       dtype=object))"
      ]
     },
     "execution_count": 1623,
     "metadata": {},
     "output_type": "execute_result"
    },
    {
     "data": {
      "image/png": "[encoded data removed]",
      "text/plain": [
       "<Figure size 864x216 with 2 Axes>"
      ]
     },
     "metadata": {
      "needs_background": "light"
     },
     "output_type": "display_data"
    }
   ],
   "source": [
    "dyplot.traceplot(results, truths=np.ones(1)*0.050,\n",
    "                             truth_color='black', show_titles=True,\n",
    "                             trace_cmap='coolwarm', title_fmt='.4f',connect=True, verbose = True)"
   ]
  },
  {
   "cell_type": "markdown",
   "metadata": {},
   "source": [
    "### Foreground"
   ]
  },
  {
   "cell_type": "code",
   "execution_count": 1570,
   "metadata": {
    "ExecuteTime": {
     "end_time": "2020-07-03T16:30:42.853909Z",
     "start_time": "2020-07-03T16:30:42.839607Z"
    }
   },
   "outputs": [],
   "source": [
    "def dust_ps(A_d, beta_d, lbin, nu = [95, 150], nu0 = 353, T_d = 19.6):\n",
    "    \n",
    "    '''\n",
    "    Input\n",
    "    -------------------------\n",
    "    A_d : PS template at reference frequency at each lbin.\n",
    "    beta_d : spectra index to be determined from likelihood analyis.\n",
    "    \n",
    "    Output\n",
    "    -------------------------\n",
    "    Cross power spectra for dust component.\n",
    "    \n",
    "    '''\n",
    "    Nf = len(nu)\n",
    "    dl = np.ones((lbin, Nf, Nf));\n",
    "    \n",
    "    b0 = pf(nu0, T_d); \n",
    "    b12 = np.ones(Nf); b12[0] = pf(nu[0], T_d); b12[1] = pf(nu[1], T_d)\n",
    "    \n",
    "    factors = np.ones((Nf, Nf))\n",
    "    for i in range(Nf):\n",
    "        for j in range(Nf):\n",
    "            factors[i][j] = b12[i]*b12[j]/b0**2\n",
    "    \n",
    "    for ell in range(lbin):\n",
    "        \n",
    "        for i in range(Nf): \n",
    "            for j in range(Nf):\n",
    "                \n",
    "                dl[ell, i,j] = A_d[ell]*(nu[i]*nu[j]/nu0**2)**(beta_d - 2)*factors[i,j]\n",
    "                \n",
    "    return dl"
   ]
  },
  {
   "cell_type": "code",
   "execution_count": 1566,
   "metadata": {
    "ExecuteTime": {
     "end_time": "2020-07-03T16:30:15.861738Z",
     "start_time": "2020-07-03T16:30:15.855237Z"
    }
   },
   "outputs": [],
   "source": [
    "A_d = np.load('/fnx/jianyao/Likelihood_data/Bandpowers/0629_2fre_Ali/dust_353_BB.npy')\n",
    "\n",
    "dust_dl = np.load('/fnx/jianyao/Likelihood_data/Bandpowers/0629_2fre_Ali/dust_BB_cross_fre.npy')"
   ]
  },
  {
   "cell_type": "code",
   "execution_count": 1597,
   "metadata": {
    "ExecuteTime": {
     "end_time": "2020-07-03T20:05:42.084255Z",
     "start_time": "2020-07-03T20:05:42.078199Z"
    }
   },
   "outputs": [
    {
     "data": {
      "text/plain": [
       "array([[[ 7.029674  , 13.35627219],\n",
       "        [13.35627219, 25.37671119]],\n",
       "\n",
       "       [[ 2.19739704,  4.17502048],\n",
       "        [ 4.17502048,  7.93247453]],\n",
       "\n",
       "       [[ 2.14303509,  4.07173362],\n",
       "        [ 4.07173362,  7.73623108]],\n",
       "\n",
       "       [[ 2.31494429,  4.39835845],\n",
       "        [ 4.39835845,  8.35681322]],\n",
       "\n",
       "       [[ 1.911114  ,  3.63108713],\n",
       "        [ 3.63108713,  6.89900955]],\n",
       "\n",
       "       [[ 1.75989987,  3.34378262],\n",
       "        [ 3.34378262,  6.35313541]],\n",
       "\n",
       "       [[ 1.57134033,  2.98552239],\n",
       "        [ 2.98552239,  5.6724465 ]],\n",
       "\n",
       "       [[ 1.49802241,  2.84621948],\n",
       "        [ 2.84621948,  5.40777312]],\n",
       "\n",
       "       [[ 1.48948738,  2.83000305],\n",
       "        [ 2.83000305,  5.37696215]],\n",
       "\n",
       "       [[ 1.44405843,  2.74368874],\n",
       "        [ 2.74368874,  5.21296629]]])"
      ]
     },
     "execution_count": 1597,
     "metadata": {},
     "output_type": "execute_result"
    }
   ],
   "source": [
    "dust_ps(A_d, 1.56, lbin, Nf)"
   ]
  },
  {
   "cell_type": "code",
   "execution_count": 1599,
   "metadata": {
    "ExecuteTime": {
     "end_time": "2020-07-03T20:06:00.967944Z",
     "start_time": "2020-07-03T20:06:00.960780Z"
    }
   },
   "outputs": [
    {
     "data": {
      "text/plain": [
       "array([[[0.00066733, 0.00056867],\n",
       "        [0.00056867, 0.00065759]],\n",
       "\n",
       "       [[0.00193103, 0.00141376],\n",
       "        [0.00141376, 0.00189434]],\n",
       "\n",
       "       [[0.00452808, 0.00316118],\n",
       "        [0.00316118, 0.00444992]],\n",
       "\n",
       "       [[0.00734666, 0.00486945],\n",
       "        [0.00486945, 0.00754134]],\n",
       "\n",
       "       [[0.01009585, 0.00623404],\n",
       "        [0.00623404, 0.01030538]],\n",
       "\n",
       "       [[0.01348759, 0.00752691],\n",
       "        [0.00752691, 0.01322749]],\n",
       "\n",
       "       [[0.01630266, 0.00810139],\n",
       "        [0.00810139, 0.01629297]],\n",
       "\n",
       "       [[0.02100159, 0.00990698],\n",
       "        [0.00990698, 0.02084487]],\n",
       "\n",
       "       [[0.02586639, 0.01171331],\n",
       "        [0.01171331, 0.0257791 ]],\n",
       "\n",
       "       [[0.03093041, 0.01380437],\n",
       "        [0.01380437, 0.03117565]]])"
      ]
     },
     "execution_count": 1599,
     "metadata": {},
     "output_type": "execute_result"
    }
   ],
   "source": [
    "cl_hat_all[10][2]"
   ]
  },
  {
   "cell_type": "code",
   "execution_count": 1606,
   "metadata": {
    "ExecuteTime": {
     "end_time": "2020-07-03T20:07:39.248641Z",
     "start_time": "2020-07-03T20:07:39.240669Z"
    }
   },
   "outputs": [
    {
     "data": {
      "text/plain": [
       "array([[-1.36445911e-01,  1.65773794e+01],\n",
       "       [-4.20282280e-02,  5.18469037e+00],\n",
       "       [-3.99274037e-02,  5.06061122e+00],\n",
       "       [-4.18846533e-02,  5.47050564e+00],\n",
       "       [-3.24883531e-02,  4.52222431e+00],\n",
       "       [-2.74240199e-02,  4.16984419e+00],\n",
       "       [-2.13858394e-02,  3.72872086e+00],\n",
       "       [-1.68959886e-02,  3.56202043e+00],\n",
       "       [-1.34426611e-02,  3.54840608e+00],\n",
       "       [-9.25546620e-03,  3.44843923e+00]])"
      ]
     },
     "execution_count": 1606,
     "metadata": {},
     "output_type": "execute_result"
    }
   ],
   "source": [
    "LA.eigvals(cl_hat_fore - dust_ps(A_d, 2, lbin, Nf))"
   ]
  },
  {
   "cell_type": "code",
   "execution_count": 1611,
   "metadata": {
    "ExecuteTime": {
     "end_time": "2020-07-03T20:08:31.996640Z",
     "start_time": "2020-07-03T20:08:31.989458Z"
    }
   },
   "outputs": [
    {
     "data": {
      "text/plain": [
       "array([[-3.55271368e-15,  3.06037975e+01],\n",
       "       [ 0.00000000e+00,  9.56640291e+00],\n",
       "       [-8.88178420e-16,  9.32973731e+00],\n",
       "       [ 0.00000000e+00,  1.00781467e+01],\n",
       "       [ 0.00000000e+00,  8.32006518e+00],\n",
       "       [ 8.88178420e-16,  7.66175206e+00],\n",
       "       [-8.88178420e-16,  6.84085508e+00],\n",
       "       [ 0.00000000e+00,  6.52166437e+00],\n",
       "       [ 8.88178420e-16,  6.48450697e+00],\n",
       "       [-8.88178420e-16,  6.28673130e+00]])"
      ]
     },
     "execution_count": 1611,
     "metadata": {},
     "output_type": "execute_result"
    }
   ],
   "source": [
    "LA.eigvals(dust_ps(A_d, 1.59, lbin, Nf))"
   ]
  },
  {
   "cell_type": "code",
   "execution_count": null,
   "metadata": {},
   "outputs": [],
   "source": []
  },
  {
   "cell_type": "code",
   "execution_count": 1579,
   "metadata": {
    "ExecuteTime": {
     "end_time": "2020-07-03T19:55:55.689508Z",
     "start_time": "2020-07-03T19:55:55.676384Z"
    },
    "code_folding": []
   },
   "outputs": [],
   "source": [
    "cl_hat_fore = cl_hat_all[10][2] + dust_dl\n",
    "\n",
    "def log_likelihood(cube):\n",
    "    r_i = cube[0];\n",
    "    beta_d = cube[1];\n",
    "    \n",
    "    bb_tensor = bb_05[0:nmtlmax+1]*r_i/0.05 \n",
    "\n",
    "    bb_camb = bb_tensor + lensingB[2][0:nmtlmax+1] ## tensor BB + lensing BB \n",
    "\n",
    "    cl_th_i = b.bin_cell(bb_camb[0:nmtlmax+1])  ## theoretical bandpower \n",
    "    cl_th_test = np.ones((lbin, Nf, Nf));  ## BB cross power spectra\n",
    "    for ell in range(lbin):\n",
    "        cl_th_test[ell] *= cl_th_i[ell]\n",
    "\n",
    "    # add Noise bias N_l to expectation values.\n",
    "    C_l = cl_th_test + nl_mean[2]\n",
    "\n",
    "    logL = evaluateL(C_l,cl_hat_fore - dust_ps(A_d, beta_d, lbin, Nf), cl_f[2], M_inv, sbin = 1)\n",
    "    \n",
    "    return np.real(logL)\n",
    "\n",
    "def prior(cube):\n",
    "    r = cube[0]*0.1;\n",
    "    beta_d = cube[1]/100.0 + 0.05\n",
    "   \n",
    "    return [r, beta_d]"
   ]
  },
  {
   "cell_type": "code",
   "execution_count": 1602,
   "metadata": {
    "ExecuteTime": {
     "end_time": "2020-07-03T20:06:25.013338Z",
     "start_time": "2020-07-03T20:06:24.946040Z"
    }
   },
   "outputs": [
    {
     "data": {
      "text/plain": [
       "-1e+20"
      ]
     },
     "execution_count": 1602,
     "metadata": {},
     "output_type": "execute_result"
    }
   ],
   "source": [
    "log_likelihood([0.05, 2.0])"
   ]
  },
  {
   "cell_type": "code",
   "execution_count": 1643,
   "metadata": {
    "ExecuteTime": {
     "end_time": "2020-07-04T01:10:41.332695Z",
     "start_time": "2020-07-04T01:10:41.327106Z"
    }
   },
   "outputs": [
    {
     "data": {
      "text/plain": [
       "8.822333333333335"
      ]
     },
     "execution_count": 1643,
     "metadata": {},
     "output_type": "execute_result"
    }
   ],
   "source": [
    "35*1e-3*15124/60"
   ]
  },
  {
   "cell_type": "code",
   "execution_count": 1529,
   "metadata": {
    "ExecuteTime": {
     "end_time": "2020-07-02T21:35:30.343112Z",
     "start_time": "2020-07-02T21:26:43.215553Z"
    }
   },
   "outputs": [
    {
     "name": "stderr",
     "output_type": "stream",
     "text": [
      "1863it [08:33,  3.63it/s, +400 | bound: 2 | nc: 1 | ncall: 15124 | eff(%): 14.963 | loglstar:   -inf < -9.603 <    inf | logz: -13.171 +/-  0.105 | dlogz:  0.001 >  0.409]\n"
     ]
    }
   ],
   "source": [
    "sampler = dynesty.NestedSampler(log_likelihood, prior, 1, nlive=400)\n",
    "sampler.run_nested()\n",
    "results = sampler.results"
   ]
  },
  {
   "cell_type": "code",
   "execution_count": 1530,
   "metadata": {
    "ExecuteTime": {
     "end_time": "2020-07-02T21:38:25.177062Z",
     "start_time": "2020-07-02T21:38:25.170783Z"
    }
   },
   "outputs": [
    {
     "name": "stdout",
     "output_type": "stream",
     "text": [
      "Summary\n",
      "=======\n",
      "nlive: 400\n",
      "niter: 1863\n",
      "ncall: 15124\n",
      "eff(%): 14.963\n",
      "logz: -13.171 +/-  0.105\n"
     ]
    }
   ],
   "source": [
    "results.summary()"
   ]
  },
  {
   "cell_type": "code",
   "execution_count": 1507,
   "metadata": {
    "ExecuteTime": {
     "end_time": "2020-07-02T20:28:48.315512Z",
     "start_time": "2020-07-02T20:28:48.309400Z"
    }
   },
   "outputs": [
    {
     "data": {
      "text/plain": [
       "array([[0.0009167 ],\n",
       "       [0.00104032],\n",
       "       [0.00107128],\n",
       "       ...,\n",
       "       [0.05304441],\n",
       "       [0.05303888],\n",
       "       [0.05304214]])"
      ]
     },
     "execution_count": 1507,
     "metadata": {},
     "output_type": "execute_result"
    }
   ],
   "source": [
    "results['samples']"
   ]
  },
  {
   "cell_type": "code",
   "execution_count": 1537,
   "metadata": {
    "ExecuteTime": {
     "end_time": "2020-07-02T21:57:30.956766Z",
     "start_time": "2020-07-02T21:57:30.578485Z"
    }
   },
   "outputs": [
    {
     "name": "stdout",
     "output_type": "stream",
     "text": [
      "Quantiles:\n",
      "$x_{1}$ [(0.025, 0.04807001534691511), (0.5, 0.050385843928015296), (0.975, 0.052777179721707784)]\n"
     ]
    },
    {
     "data": {
      "text/plain": [
       "(<Figure size 864x216 with 2 Axes>,\n",
       " array([<matplotlib.axes._subplots.AxesSubplot object at 0x7fa330312278>,\n",
       "        <matplotlib.axes._subplots.AxesSubplot object at 0x7fa3302fb5f8>],\n",
       "       dtype=object))"
      ]
     },
     "execution_count": 1537,
     "metadata": {},
     "output_type": "execute_result"
    },
    {
     "data": {
      "image/png": "[encoded data removed]",
      "text/plain": [
       "<Figure size 864x216 with 2 Axes>"
      ]
     },
     "metadata": {
      "needs_background": "light"
     },
     "output_type": "display_data"
    }
   ],
   "source": [
    "dyplot.traceplot(results, truths=np.ones(1)*0.050,\n",
    "                             truth_color='black', show_titles=True,\n",
    "                             trace_cmap='coolwarm', title_fmt='.4f',connect=True, verbose = True)"
   ]
  },
  {
   "cell_type": "code",
   "execution_count": 1538,
   "metadata": {
    "ExecuteTime": {
     "end_time": "2020-07-02T22:15:15.330331Z",
     "start_time": "2020-07-02T22:15:14.732385Z"
    }
   },
   "outputs": [
    {
     "data": {
      "text/plain": [
       "(<Figure size 1152x1152 with 4 Axes>,\n",
       " array([<matplotlib.axes._subplots.AxesSubplot object at 0x7fa330262ef0>,\n",
       "        <matplotlib.axes._subplots.AxesSubplot object at 0x7fa330268048>,\n",
       "        <matplotlib.axes._subplots.AxesSubplot object at 0x7fa3301e8470>,\n",
       "        <matplotlib.axes._subplots.AxesSubplot object at 0x7fa3301f59e8>],\n",
       "       dtype=object))"
      ]
     },
     "execution_count": 1538,
     "metadata": {},
     "output_type": "execute_result"
    },
    {
     "data": {
      "image/png": "[encoded data removed]",
      "text/plain": [
       "<Figure size 1152x1152 with 4 Axes>"
      ]
     },
     "metadata": {
      "needs_background": "light"
     },
     "output_type": "display_data"
    }
   ],
   "source": [
    "dyplot.runplot(results)"
   ]
  },
  {
   "cell_type": "code",
   "execution_count": null,
   "metadata": {},
   "outputs": [],
   "source": []
  },
  {
   "cell_type": "code",
   "execution_count": 1532,
   "metadata": {
    "ExecuteTime": {
     "end_time": "2020-07-02T21:54:13.207184Z",
     "start_time": "2020-07-02T21:54:13.199765Z"
    }
   },
   "outputs": [],
   "source": [
    "from dynesty import utils as dyfunc \n",
    "\n",
    "samples, weights = results.samples, np.exp(results.logwt - results.logz[-1])\n",
    "mean, cov = dyfunc.mean_and_cov(samples, weights) "
   ]
  },
  {
   "cell_type": "code",
   "execution_count": 1533,
   "metadata": {
    "ExecuteTime": {
     "end_time": "2020-07-02T21:54:13.934107Z",
     "start_time": "2020-07-02T21:54:13.930581Z"
    }
   },
   "outputs": [
    {
     "data": {
      "text/plain": [
       "array([0.05038273])"
      ]
     },
     "execution_count": 1533,
     "metadata": {},
     "output_type": "execute_result"
    }
   ],
   "source": [
    "mean"
   ]
  },
  {
   "cell_type": "code",
   "execution_count": 1513,
   "metadata": {
    "ExecuteTime": {
     "end_time": "2020-07-02T20:44:31.530395Z",
     "start_time": "2020-07-02T20:44:31.523700Z"
    }
   },
   "outputs": [
    {
     "data": {
      "text/plain": [
       "array([[0.00118992]])"
      ]
     },
     "execution_count": 1513,
     "metadata": {},
     "output_type": "execute_result"
    }
   ],
   "source": [
    "np.sqrt(cov)"
   ]
  },
  {
   "cell_type": "markdown",
   "metadata": {},
   "source": [
    "## Test evaluate likelihood function"
   ]
  },
  {
   "cell_type": "code",
   "execution_count": 1733,
   "metadata": {
    "ExecuteTime": {
     "end_time": "2020-07-04T13:36:22.876898Z",
     "start_time": "2020-07-04T13:36:22.872767Z"
    }
   },
   "outputs": [],
   "source": [
    "from utils import calc_vecp as calc_vecp"
   ]
  },
  {
   "cell_type": "code",
   "execution_count": 1735,
   "metadata": {
    "ExecuteTime": {
     "end_time": "2020-07-04T13:36:47.981889Z",
     "start_time": "2020-07-04T13:36:47.966457Z"
    }
   },
   "outputs": [],
   "source": []
  },
  {
   "cell_type": "code",
   "execution_count": null,
   "metadata": {},
   "outputs": [],
   "source": []
  },
  {
   "cell_type": "code",
   "execution_count": 1678,
   "metadata": {
    "ExecuteTime": {
     "end_time": "2020-07-04T13:06:13.646512Z",
     "start_time": "2020-07-04T13:06:13.640248Z"
    }
   },
   "outputs": [],
   "source": [
    "l = 5\n",
    "C_fl_12 = sqrtm(cl_f_ali[2][l])\n",
    "C_l_inv = LA.pinv(cl_th_BB[l])\n",
    "C_l_inv_12= sqrtm(C_l_inv)"
   ]
  },
  {
   "cell_type": "code",
   "execution_count": 1689,
   "metadata": {
    "ExecuteTime": {
     "end_time": "2020-07-04T13:09:04.502532Z",
     "start_time": "2020-07-04T13:09:02.499951Z"
    }
   },
   "outputs": [
    {
     "name": "stdout",
     "output_type": "stream",
     "text": [
      "2.35 µs ± 107 ns per loop (mean ± std. dev. of 7 runs, 100000 loops each)\n"
     ]
    }
   ],
   "source": [
    "%%timeit\n",
    "res = np.dot(C_l_inv_12, np.dot(cl_hat_all_ali[10][2][l], C_l_inv_12))"
   ]
  },
  {
   "cell_type": "code",
   "execution_count": 1744,
   "metadata": {
    "ExecuteTime": {
     "end_time": "2020-07-04T13:43:12.868597Z",
     "start_time": "2020-07-04T13:43:12.862975Z"
    }
   },
   "outputs": [
    {
     "data": {
      "text/plain": [
       "matrix([[0.12369272, 0.03321448],\n",
       "        [0.04139739, 0.09602783]])"
      ]
     },
     "execution_count": 1744,
     "metadata": {},
     "output_type": "execute_result"
    }
   ],
   "source": [
    "# %%timeit\n",
    "(cl_hat_all_ali[10][2][l]*np.matrix(C_l_inv_12))"
   ]
  },
  {
   "cell_type": "code",
   "execution_count": 1747,
   "metadata": {
    "ExecuteTime": {
     "end_time": "2020-07-04T13:43:36.512539Z",
     "start_time": "2020-07-04T13:43:33.053311Z"
    }
   },
   "outputs": [
    {
     "name": "stdout",
     "output_type": "stream",
     "text": [
      "3.99 µs ± 130 ns per loop (mean ± std. dev. of 7 runs, 100000 loops each)\n"
     ]
    }
   ],
   "source": [
    "%%timeit\n",
    "np.matrix(C_l_inv_12)"
   ]
  },
  {
   "cell_type": "code",
   "execution_count": 1749,
   "metadata": {
    "ExecuteTime": {
     "end_time": "2020-07-04T13:43:59.847643Z",
     "start_time": "2020-07-04T13:43:58.191312Z"
    }
   },
   "outputs": [
    {
     "name": "stdout",
     "output_type": "stream",
     "text": [
      "19.3 ns ± 1.05 ns per loop (mean ± std. dev. of 7 runs, 10000000 loops each)\n"
     ]
    }
   ],
   "source": [
    "%%timeit\n",
    "C_l_inv_12"
   ]
  },
  {
   "cell_type": "code",
   "execution_count": 1739,
   "metadata": {
    "ExecuteTime": {
     "end_time": "2020-07-04T13:41:29.154954Z",
     "start_time": "2020-07-04T13:41:27.808074Z"
    }
   },
   "outputs": [
    {
     "name": "stdout",
     "output_type": "stream",
     "text": [
      "1.57 µs ± 70.8 ns per loop (mean ± std. dev. of 7 runs, 100000 loops each)\n"
     ]
    }
   ],
   "source": [
    "%%timeit\n",
    "np.dot(cl_hat_all_ali[10][2][l], C_l_inv_12)"
   ]
  },
  {
   "cell_type": "code",
   "execution_count": 1778,
   "metadata": {
    "ExecuteTime": {
     "end_time": "2020-07-04T13:55:12.471190Z",
     "start_time": "2020-07-04T13:55:12.461792Z"
    }
   },
   "outputs": [],
   "source": []
  },
  {
   "cell_type": "code",
   "execution_count": 1764,
   "metadata": {
    "ExecuteTime": {
     "end_time": "2020-07-04T13:52:23.708472Z",
     "start_time": "2020-07-04T13:52:20.441048Z"
    }
   },
   "outputs": [
    {
     "name": "stdout",
     "output_type": "stream",
     "text": [
      "3.99 ms ± 80.8 µs per loop (mean ± std. dev. of 7 runs, 100 loops each)\n"
     ]
    }
   ],
   "source": [
    "%%timeit\n",
    "testl2(cl_hat_all_ali[10][2], cl_f_ali[2],cl_th_BB, Nf= 2,M = cov_mat_BB_ali)"
   ]
  },
  {
   "cell_type": "code",
   "execution_count": 1779,
   "metadata": {
    "ExecuteTime": {
     "end_time": "2020-07-04T13:55:14.301042Z",
     "start_time": "2020-07-04T13:55:14.284360Z"
    }
   },
   "outputs": [
    {
     "data": {
      "text/plain": [
       "matrix([[-20.74091421]])"
      ]
     },
     "execution_count": 1779,
     "metadata": {},
     "output_type": "execute_result"
    }
   ],
   "source": [
    "testl2(cl_hat_all_ali[10][2], cl_f_ali[2],cl_th_BB, Nf= 2,M = cov_mat_BB_ali, sbin = 3)"
   ]
  },
  {
   "cell_type": "code",
   "execution_count": null,
   "metadata": {},
   "outputs": [],
   "source": []
  },
  {
   "cell_type": "code",
   "execution_count": 1631,
   "metadata": {
    "ExecuteTime": {
     "end_time": "2020-07-03T20:58:28.568354Z",
     "start_time": "2020-07-03T20:58:28.563642Z"
    }
   },
   "outputs": [],
   "source": [
    "def testl(C_l,C_l_hat,C_fl,M_inv, sbin = 0):\n",
    "    '''\n",
    "     To evaluate the likelihood itself.\n",
    "     \n",
    "     ------------------------------------------\n",
    "     Input\n",
    "     \n",
    "     sbin: start-bin number\n",
    "    '''\n",
    "    logL = 0; lbin = C_l.shape[0]\n",
    "    # Calculate X vector (Eq 8) for each l, lp\n",
    "    for l in range(sbin, lbin):\n",
    "        X = calc_vecp(l,C_l_hat,C_fl,C_l)\n",
    "        \n",
    "        for lp in range(sbin, lbin):\n",
    "            Xp = calc_vecp(lp,C_l_hat,C_fl,C_l)\n",
    "            M_inv_pp = M_inv[l,lp,:,:]\n",
    "            # calculate loglikelihood (Eq 7)\n",
    "            thislogL = (-0.5)*np.dot(X,np.dot(M_inv_pp,Xp))\n",
    "            logL = logL + thislogL\n",
    "\n",
    "    if np.isnan(logL):\n",
    "        logL = -1e20\n",
    "\n",
    "    logL = np.real(logL)\n",
    "    return logL"
   ]
  },
  {
   "cell_type": "code",
   "execution_count": 1656,
   "metadata": {
    "ExecuteTime": {
     "end_time": "2020-07-04T12:53:44.739650Z",
     "start_time": "2020-07-04T12:53:44.722239Z"
    }
   },
   "outputs": [],
   "source": [
    "Xa = np.ones(10*3)\n",
    "for i in range(10):\n",
    "    Xa[i*3:(i+1)*3] = calc_vecp(i, cl_hat_all_ali[10][2], cl_f_ali[2],cl_th_BB)"
   ]
  },
  {
   "cell_type": "code",
   "execution_count": 1756,
   "metadata": {
    "ExecuteTime": {
     "end_time": "2020-07-04T13:47:41.196796Z",
     "start_time": "2020-07-04T13:47:41.189766Z"
    }
   },
   "outputs": [
    {
     "data": {
      "text/plain": [
       "matrix([[-30.35307159]])"
      ]
     },
     "execution_count": 1756,
     "metadata": {},
     "output_type": "execute_result"
    }
   ],
   "source": [
    "-0.5*(np.matrix(Xa)*LA.inv(cov_mat_BB_ali))*np.transpose(np.matrix(Xa))"
   ]
  },
  {
   "cell_type": "code",
   "execution_count": null,
   "metadata": {},
   "outputs": [],
   "source": []
  },
  {
   "cell_type": "code",
   "execution_count": 1652,
   "metadata": {
    "ExecuteTime": {
     "end_time": "2020-07-04T01:23:03.911780Z",
     "start_time": "2020-07-04T01:23:03.901896Z"
    }
   },
   "outputs": [
    {
     "data": {
      "text/plain": [
       "array([ 5108.80085759,  3156.86552666, -9920.18350298])"
      ]
     },
     "execution_count": 1652,
     "metadata": {},
     "output_type": "execute_result"
    }
   ],
   "source": [
    "np.dot(M_inv_ali[0,0], calc_vecp(0, cl_hat_all_ali[10][2], cl_f_ali[2],cl_th_BB))"
   ]
  },
  {
   "cell_type": "code",
   "execution_count": 1653,
   "metadata": {
    "ExecuteTime": {
     "end_time": "2020-07-04T01:23:17.376534Z",
     "start_time": "2020-07-04T01:23:17.370197Z"
    }
   },
   "outputs": [],
   "source": [
    "np.dot?"
   ]
  },
  {
   "cell_type": "code",
   "execution_count": 1780,
   "metadata": {
    "ExecuteTime": {
     "end_time": "2020-07-04T13:55:19.749055Z",
     "start_time": "2020-07-04T13:55:19.688540Z"
    }
   },
   "outputs": [
    {
     "data": {
      "text/plain": [
       "-20.74091420519425"
      ]
     },
     "execution_count": 1780,
     "metadata": {},
     "output_type": "execute_result"
    }
   ],
   "source": [
    "# %%timeit\n",
    "testl(cl_th_BB, cl_hat_all_ali[10][2], cl_f_ali[2], M_inv_ali, sbin = 3)"
   ]
  }
 ],
 "metadata": {
  "kernelspec": {
   "display_name": "Python 3",
   "language": "python",
   "name": "python3"
  },
  "language_info": {
   "codemirror_mode": {
    "name": "ipython",
    "version": 3
   },
   "file_extension": ".py",
   "mimetype": "text/x-python",
   "name": "python",
   "nbconvert_exporter": "python",
   "pygments_lexer": "ipython3",
   "version": "3.7.3"
  },
  "toc": {
   "base_numbering": 1,
   "nav_menu": {},
   "number_sections": true,
   "sideBar": false,
   "skip_h1_title": false,
   "title_cell": "Table of Contents",
   "title_sidebar": "Contents",
   "toc_cell": false,
   "toc_position": {
    "height": "384px",
    "left": "1580px",
    "top": "110px",
    "width": "340px"
   },
   "toc_section_display": true,
   "toc_window_display": true
  },
  "varInspector": {
   "cols": {
    "lenName": 16,
    "lenType": 16,
    "lenVar": 40
   },
   "kernels_config": {
    "python": {
     "delete_cmd_postfix": "",
     "delete_cmd_prefix": "del ",
     "library": "var_list.py",
     "varRefreshCmd": "print(var_dic_list())"
    },
    "r": {
     "delete_cmd_postfix": ") ",
     "delete_cmd_prefix": "rm(",
     "library": "var_list.r",
     "varRefreshCmd": "cat(var_dic_list()) "
    }
   },
   "position": {
    "height": "449px",
    "left": "1015px",
    "right": "20px",
    "top": "341px",
    "width": "454px"
   },
   "types_to_exclude": [
    "module",
    "function",
    "builtin_function_or_method",
    "instance",
    "_Feature"
   ],
   "window_display": false
  }
 },
 "nbformat": 4,
 "nbformat_minor": 2
}
