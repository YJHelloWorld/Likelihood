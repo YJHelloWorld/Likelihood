{
 "cells": [
  {
   "cell_type": "markdown",
   "metadata": {
    "ExecuteTime": {
     "end_time": "2020-06-19T15:15:30.771549Z",
     "start_time": "2020-06-19T15:15:30.768071Z"
    }
   },
   "source": [
    "# Code"
   ]
  },
  {
   "cell_type": "code",
   "execution_count": 22,
   "metadata": {
    "ExecuteTime": {
     "end_time": "2020-06-22T19:54:54.870475Z",
     "start_time": "2020-06-22T19:54:54.865309Z"
    }
   },
   "outputs": [],
   "source": [
    "from ps_estimator import pstimator \n",
    "import bandpowers\n",
    "import utils"
   ]
  },
  {
   "cell_type": "code",
   "execution_count": 514,
   "metadata": {
    "ExecuteTime": {
     "end_time": "2020-06-25T18:03:48.129892Z",
     "start_time": "2020-06-25T18:03:48.119306Z"
    }
   },
   "outputs": [],
   "source": [
    "import numpy as np\n",
    "import pymaster as nmt\n",
    "import healpy as hp\n",
    "import numpy as np\n",
    "import matplotlib.pyplot as plt \n",
    "import imp\n",
    "import camb\n",
    "\n",
    "from astropy.io import fits as fits\n",
    "\n",
    "from scipy.linalg import sqrtm\n",
    "\n",
    "from numpy import linalg as LA\n",
    "%matplotlib inline"
   ]
  },
  {
   "cell_type": "code",
   "execution_count": 3,
   "metadata": {
    "ExecuteTime": {
     "end_time": "2020-06-22T19:49:33.910354Z",
     "start_time": "2020-06-22T19:49:33.906054Z"
    }
   },
   "outputs": [],
   "source": [
    "nside = 128\n",
    "nmtlmax = 201\n",
    "lmin = 2\n",
    "lmax = 1521"
   ]
  },
  {
   "cell_type": "code",
   "execution_count": 1083,
   "metadata": {
    "ExecuteTime": {
     "end_time": "2020-06-29T16:47:41.090532Z",
     "start_time": "2020-06-29T16:47:41.086942Z"
    }
   },
   "outputs": [],
   "source": [
    "SamNum = 500"
   ]
  },
  {
   "cell_type": "code",
   "execution_count": 1076,
   "metadata": {
    "ExecuteTime": {
     "end_time": "2020-06-29T16:44:20.431131Z",
     "start_time": "2020-06-29T16:44:20.427007Z"
    }
   },
   "outputs": [],
   "source": [
    "Nf = 2\n",
    "\n",
    "nf_ind = int(Nf*(Nf+1)/2)"
   ]
  },
  {
   "cell_type": "code",
   "execution_count": 1229,
   "metadata": {
    "ExecuteTime": {
     "end_time": "2020-06-30T19:28:36.823808Z",
     "start_time": "2020-06-30T19:28:36.817969Z"
    }
   },
   "outputs": [],
   "source": [
    "b = nmt.NmtBin(nside, nlb=20, is_Dell=True, lmax=nmtlmax)\n",
    "leff = b.get_effective_ells()\n",
    "lbin = len(leff)\n",
    "b_ind = np.arange(1,lbin+1)"
   ]
  },
  {
   "cell_type": "code",
   "execution_count": 580,
   "metadata": {
    "ExecuteTime": {
     "end_time": "2020-06-26T15:41:41.657353Z",
     "start_time": "2020-06-26T15:41:41.623613Z"
    }
   },
   "outputs": [
    {
     "name": "stdout",
     "output_type": "stream",
     "text": [
      "NSIDE = 128\n",
      "ORDERING = RING in fits file\n",
      "INDXSCHM = IMPLICIT\n"
     ]
    }
   ],
   "source": [
    "ali_ma = hp.read_map('/fnx/jianyao/Likelihood_data/ABSData/ali_mask.fits', field = None)"
   ]
  },
  {
   "cell_type": "markdown",
   "metadata": {
    "heading_collapsed": true
   },
   "source": [
    "## window function"
   ]
  },
  {
   "cell_type": "markdown",
   "metadata": {
    "hidden": true
   },
   "source": [
    " equal weight for each $\\ell$ in a $\\ell$-bin\n",
    " \n",
    " for bin_width = 20, weight = 1/20 = 0.05"
   ]
  },
  {
   "cell_type": "markdown",
   "metadata": {
    "hidden": true
   },
   "source": [
    "### code"
   ]
  },
  {
   "cell_type": "code",
   "execution_count": 45,
   "metadata": {
    "ExecuteTime": {
     "end_time": "2020-06-19T17:16:06.669436Z",
     "start_time": "2020-06-19T17:16:06.657817Z"
    },
    "hidden": true
   },
   "outputs": [],
   "source": [
    "b = nmt.NmtBin(nside, nlb=20, is_Dell=True, lmax=nmtlmax)\n",
    "leff = b.get_effective_ells()\n",
    "nb = len(leff)\n",
    "for i in range(nb):\n",
    "\n",
    "    bpwf = np.zeros(lmax-lmin+2)\n",
    "    lrange = b.get_ell_list(i)\n",
    "    w = b.get_weight_list(i) ## weights for each ell in i-th bin\n",
    "    bpwf[lrange-lmin+1] = w\n",
    "    l = np.arange(1, lmax-lmin+3)\n",
    "\n",
    "    bpwf = np.array([l, bpwf]).T\n",
    "    \n",
    "    # print(np.shape(bpwf))\n",
    "    # np.savetxt(data_dir+'AliCPT_bpwf_bin%s.txt'%(i+1), bpwf, fmt=['%d', '%.10e', '%.10e', '%.10e'])\n",
    "    # np.savetxt(data_dir + 'AliCPT_bpwf_bin%s.txt' % (i + 1), bpwf, fmt=['%d', '%.10e', '%.10e', '%.10e', '%.10e', '%.10e', '%.10e'])\n",
    "#     np.savetxt(data_dir+'AliCPT_bpwf_bin%s.txt'%(i+1), bpwf, fmt=['%d', '%.10e'])"
   ]
  },
  {
   "cell_type": "markdown",
   "metadata": {
    "ExecuteTime": {
     "end_time": "2020-06-29T16:20:41.171172Z",
     "start_time": "2020-06-29T16:20:41.167602Z"
    },
    "heading_collapsed": true
   },
   "source": [
    "## 2fre-full-sky-data"
   ]
  },
  {
   "cell_type": "markdown",
   "metadata": {
    "ExecuteTime": {
     "end_time": "2020-06-29T16:44:07.572296Z",
     "start_time": "2020-06-29T16:44:07.567790Z"
    },
    "hidden": true
   },
   "source": [
    "BB cross-frequency bandpower spectra\n",
    "\n",
    "- Cl_hat : (lbin, Nf, Nf)\n",
    "\n",
    "- Cl_f :  ((lbin, Nf, Nf))\n",
    "\n",
    "- Cl_th : ((lbin, Nf, Nf))\n"
   ]
  },
  {
   "cell_type": "code",
   "execution_count": 859,
   "metadata": {
    "ExecuteTime": {
     "end_time": "2020-06-27T21:36:51.400120Z",
     "start_time": "2020-06-27T21:36:51.394243Z"
    },
    "hidden": true
   },
   "outputs": [],
   "source": [
    "## cl_fiducial\n",
    "cl_f_all = np.load('/fnx/jianyao/Likelihood_data/Bandpowers/0627_2fre_fullsky/cl_f_all.npy')\n",
    "cl_f = np.mean(cl_f_all, axis = 0)"
   ]
  },
  {
   "cell_type": "code",
   "execution_count": 861,
   "metadata": {
    "ExecuteTime": {
     "end_time": "2020-06-27T21:36:53.442580Z",
     "start_time": "2020-06-27T21:36:53.439185Z"
    },
    "hidden": true
   },
   "outputs": [
    {
     "data": {
      "text/plain": [
       "(3, 10, 2, 2)"
      ]
     },
     "execution_count": 861,
     "metadata": {},
     "output_type": "execute_result"
    }
   ],
   "source": [
    "cl_f.shape"
   ]
  },
  {
   "cell_type": "code",
   "execution_count": 1100,
   "metadata": {
    "ExecuteTime": {
     "end_time": "2020-06-29T19:22:05.181926Z",
     "start_time": "2020-06-29T19:22:05.174550Z"
    },
    "hidden": true
   },
   "outputs": [],
   "source": [
    "## cl_th\n",
    "\n",
    "cl_camb = np.load('/fnx/jianyao/Likelihood_data/Bandpowers/0627_2fre_fullsky/cl_camb_BB_2fre.npy')\n",
    "\n",
    "nl_all = np.load('/fnx/jianyao/Likelihood_data/Bandpowers/0627_2fre_fullsky/nl_all.npy')\n",
    "nl_mean = np.mean(nl_all, axis = 0) ## EE EB BB\n",
    "\n",
    "cl_th_BB = cl_camb + nl_mean[2]"
   ]
  },
  {
   "cell_type": "code",
   "execution_count": null,
   "metadata": {
    "hidden": true
   },
   "outputs": [],
   "source": []
  },
  {
   "cell_type": "code",
   "execution_count": 856,
   "metadata": {
    "ExecuteTime": {
     "end_time": "2020-06-27T21:36:30.744287Z",
     "start_time": "2020-06-27T21:36:30.737438Z"
    },
    "hidden": true
   },
   "outputs": [],
   "source": [
    "### 观测数据应该只有一幅。。。\n",
    "\n",
    "cl_hat_all = np.load('/fnx/jianyao/Likelihood_data/Bandpowers/0627_2fre_fullsky/cl_hat_all.npy')\n",
    "cl_hat = np.mean(cl_hat_all, axis = 0)\n",
    "cl_hat_0 = cl_hat_all[1]"
   ]
  },
  {
   "cell_type": "code",
   "execution_count": 1082,
   "metadata": {
    "ExecuteTime": {
     "end_time": "2020-06-29T16:47:06.210771Z",
     "start_time": "2020-06-29T16:47:06.205020Z"
    },
    "hidden": true
   },
   "outputs": [
    {
     "name": "stdout",
     "output_type": "stream",
     "text": [
      "Cl_hat: (3, 10, 2, 2) \n",
      "Cl_f: (3, 10, 2, 2) \n",
      "Cl_th_BB: (10, 2, 2)\n"
     ]
    }
   ],
   "source": [
    "print('Cl_hat:',cl_hat_0.shape,'\\n'\n",
    "'Cl_f:',cl_f.shape,'\\n'\n",
    "'Cl_th_BB:',cl_th_BB.shape)"
   ]
  },
  {
   "cell_type": "markdown",
   "metadata": {
    "ExecuteTime": {
     "end_time": "2020-06-25T15:14:40.084618Z",
     "start_time": "2020-06-25T15:14:40.075679Z"
    },
    "hidden": true
   },
   "source": [
    "$$\\left(X_b^{30*30}, X_b^{95*95}, X_b^{150*150}, X_b^{353*353}, X_b^{30*95}, X_b^{95*150},X_b^{150*353},X_b^{30*150},X_b^{95*353},X_b^{30*353} \\right)=\\textrm{vecp}\\left((\\mathcal{D}_b^f)^{1/2}{\\bf U}_b\\,g({\\bf D}_b){\\bf U}_b^{\\dagger}(\\mathcal{D}_b^f)^{1/2}\\right)$$"
   ]
  },
  {
   "cell_type": "code",
   "execution_count": 1070,
   "metadata": {
    "ExecuteTime": {
     "end_time": "2020-06-29T15:59:07.538033Z",
     "start_time": "2020-06-29T15:59:07.351826Z"
    },
    "hidden": true
   },
   "outputs": [],
   "source": [
    "#(cl_hat_all, nf_ind, Nmode,lbin, SamNum)\n",
    "\n",
    "marry = utils.Marray_EEfirst(cl_f_all, nf_ind, 3, lbin, cl_f_all.shape[0]) ## (Nmode*lbin*nf_ind, SamNum)\n",
    "\n",
    "cov_mat_BB = np.cov(marry[lbin*nf_ind*2:]) ##(select BB mode)\n",
    "\n",
    "M_inv = utils.Minv(cov_mat_BB, lbin, nf_ind)"
   ]
  },
  {
   "cell_type": "code",
   "execution_count": 1138,
   "metadata": {
    "ExecuteTime": {
     "end_time": "2020-06-29T19:53:58.449805Z",
     "start_time": "2020-06-29T19:53:58.176760Z"
    },
    "hidden": true
   },
   "outputs": [
    {
     "data": {
      "text/plain": [
       "<matplotlib.image.AxesImage at 0x7fa33cf47a90>"
      ]
     },
     "execution_count": 1138,
     "metadata": {},
     "output_type": "execute_result"
    },
    {
     "data": {
      "image/png": "[encoded data removed]",
      "text/plain": [
       "<Figure size 720x576 with 1 Axes>"
      ]
     },
     "metadata": {
      "needs_background": "light"
     },
     "output_type": "display_data"
    }
   ],
   "source": [
    "plt.figure(figsize = (10, 8))\n",
    "plt.imshow(cov_mat_BB, cmap = 'coolwarm')"
   ]
  },
  {
   "cell_type": "markdown",
   "metadata": {
    "ExecuteTime": {
     "end_time": "2020-06-29T18:54:20.176579Z",
     "start_time": "2020-06-29T18:54:20.172917Z"
    }
   },
   "source": [
    "## 2-fre Ali-sky"
   ]
  },
  {
   "cell_type": "markdown",
   "metadata": {},
   "source": [
    "### cl_f, r=0.05"
   ]
  },
  {
   "cell_type": "code",
   "execution_count": 2347,
   "metadata": {
    "ExecuteTime": {
     "end_time": "2020-07-10T11:26:03.565645Z",
     "start_time": "2020-07-10T11:26:03.558357Z"
    }
   },
   "outputs": [],
   "source": [
    "cl_hat_all_ali_cmb = np.load('/fnx/jianyao/Likelihood_data/Bandpowers/0710_2fre_Ali_real_fore_and_noise/cl_hat_fore_all.npy')"
   ]
  },
  {
   "cell_type": "code",
   "execution_count": 2354,
   "metadata": {
    "ExecuteTime": {
     "end_time": "2020-07-10T11:27:20.251521Z",
     "start_time": "2020-07-10T11:27:20.244769Z"
    }
   },
   "outputs": [
    {
     "data": {
      "text/plain": [
       "array([[[0.0022263 , 0.00148726],\n",
       "        [0.00148726, 0.00123143]],\n",
       "\n",
       "       [[0.00201661, 0.001548  ],\n",
       "        [0.001548  , 0.00189776]],\n",
       "\n",
       "       [[0.00443232, 0.00328435],\n",
       "        [0.00328435, 0.00465149]],\n",
       "\n",
       "       [[0.00737714, 0.00486793],\n",
       "        [0.00486793, 0.00707464]],\n",
       "\n",
       "       [[0.00945758, 0.00535849],\n",
       "        [0.00535849, 0.00921741]],\n",
       "\n",
       "       [[0.01302078, 0.00727254],\n",
       "        [0.00727254, 0.01365647]],\n",
       "\n",
       "       [[0.01648406, 0.00700875],\n",
       "        [0.00700875, 0.01656972]],\n",
       "\n",
       "       [[0.02255319, 0.01042678],\n",
       "        [0.01042678, 0.02010186]],\n",
       "\n",
       "       [[0.02569619, 0.01038106],\n",
       "        [0.01038106, 0.02538244]],\n",
       "\n",
       "       [[0.0331454 , 0.01418036],\n",
       "        [0.01418036, 0.03324744]]])"
      ]
     },
     "execution_count": 2354,
     "metadata": {},
     "output_type": "execute_result"
    }
   ],
   "source": [
    "cl_hat_0_ali[2]"
   ]
  },
  {
   "cell_type": "code",
   "execution_count": null,
   "metadata": {},
   "outputs": [],
   "source": []
  },
  {
   "cell_type": "code",
   "execution_count": 2357,
   "metadata": {
    "ExecuteTime": {
     "end_time": "2020-07-10T11:27:35.759475Z",
     "start_time": "2020-07-10T11:27:35.751994Z"
    },
    "scrolled": true
   },
   "outputs": [
    {
     "data": {
      "text/plain": [
       "array([[[0.11975746, 0.24438628],\n",
       "        [0.24438628, 0.51773412]],\n",
       "\n",
       "       [[0.02675066, 0.05973178],\n",
       "        [0.05973178, 0.14671534]],\n",
       "\n",
       "       [[0.0245959 , 0.05554754],\n",
       "        [0.05554754, 0.14311586]],\n",
       "\n",
       "       [[0.02752233, 0.0613643 ],\n",
       "        [0.0613643 , 0.15819525]],\n",
       "\n",
       "       [[0.02856126, 0.05727029],\n",
       "        [0.05727029, 0.13882876]],\n",
       "\n",
       "       [[0.02892178, 0.05514717],\n",
       "        [0.05514717, 0.13194784]],\n",
       "\n",
       "       [[0.0307978 , 0.05165311],\n",
       "        [0.05165311, 0.12042482]],\n",
       "\n",
       "       [[0.03167606, 0.04947233],\n",
       "        [0.04947233, 0.11345249]],\n",
       "\n",
       "       [[0.03329576, 0.04920857],\n",
       "        [0.04920857, 0.11521529]],\n",
       "\n",
       "       [[0.0390524 , 0.05064009],\n",
       "        [0.05064009, 0.11376704]]])"
      ]
     },
     "execution_count": 2357,
     "metadata": {},
     "output_type": "execute_result"
    }
   ],
   "source": [
    "cl_hat_all_ali_cmb[10][2]"
   ]
  },
  {
   "cell_type": "code",
   "execution_count": null,
   "metadata": {},
   "outputs": [],
   "source": []
  },
  {
   "cell_type": "code",
   "execution_count": 2351,
   "metadata": {
    "ExecuteTime": {
     "end_time": "2020-07-10T11:26:43.523520Z",
     "start_time": "2020-07-10T11:26:43.512976Z"
    }
   },
   "outputs": [],
   "source": [
    "path = '/fnx/jianyao/Likelihood_data/Bandpowers/0629_2fre_Ali'\n",
    "\n",
    "cl_f_all_ali = np.load('%s/cl_f_all.npy'%path); cl_f_ali = np.mean(cl_f_all_ali, axis = 0)\n",
    "\n",
    "cl_hat_all_ali = np.load('%s/cl_hat_all.npy'%path)\n",
    "cl_hat_0_ali = cl_hat_all_ali[2]\n",
    "\n",
    "nl_all_ali = np.load('%s/nl_all.npy'%path)\n",
    "nl_mean_ali = np.mean(nl_all_ali, axis = 0) ## EE EB BB\n",
    "\n",
    "cl_camb = np.load('/fnx/jianyao/Likelihood_data/Bandpowers/0627_2fre_fullsky/cl_camb_BB_2fre.npy')\n",
    "cl_th_BB_ali = cl_camb + nl_mean_ali[2]"
   ]
  },
  {
   "cell_type": "code",
   "execution_count": 2294,
   "metadata": {
    "ExecuteTime": {
     "end_time": "2020-07-09T20:01:31.980657Z",
     "start_time": "2020-07-09T20:01:31.792663Z"
    }
   },
   "outputs": [],
   "source": [
    "marry_ali = utils.Marray_EEfirst(cl_f_all_ali, nf_ind, 3, lbin, cl_f_all_ali.shape[0]) ## (Nmode*lbin*nf_ind, SamNum)\n",
    "\n",
    "cov_mat_BB_ali = np.cov(marry_ali[lbin*nf_ind*2:]) ##(select BB mode)\n",
    "\n",
    "M_inv_ali = utils.Minv(cov_mat_BB_ali, lbin, nf_ind)"
   ]
  },
  {
   "cell_type": "markdown",
   "metadata": {
    "heading_collapsed": true
   },
   "source": [
    "### cl_f, r = 0.01; 2020/07/01"
   ]
  },
  {
   "cell_type": "code",
   "execution_count": 1321,
   "metadata": {
    "ExecuteTime": {
     "end_time": "2020-07-01T19:41:11.334916Z",
     "start_time": "2020-07-01T19:41:11.328880Z"
    },
    "hidden": true
   },
   "outputs": [],
   "source": [
    "cl_f_all_ali_0p01 = np.load('/fnx/jianyao/Likelihood_data/Bandpowers/0629_2fre_Ali/cl_f_0p01_all.npy')\n",
    "cl_f_ali_0p01 = np.mean(cl_f_all_ali_0p01, axis = 0)"
   ]
  },
  {
   "cell_type": "code",
   "execution_count": 1322,
   "metadata": {
    "ExecuteTime": {
     "end_time": "2020-07-01T19:41:19.341452Z",
     "start_time": "2020-07-01T19:41:19.132894Z"
    },
    "hidden": true
   },
   "outputs": [],
   "source": [
    "marry_ali_0p01 = utils.Marray_EEfirst(cl_f_all_ali_0p01, nf_ind, 3, lbin, cl_f_all_ali_0p01.shape[0]) ## (Nmode*lbin*nf_ind, SamNum)\n",
    "\n",
    "cov_mat_BB_ali_0p01 = np.cov(marry_ali_0p01[lbin*nf_ind*2:]) ##(select BB mode)\n",
    "\n",
    "M_inv_ali_0p01 = utils.Minv(cov_mat_BB_ali_0p01, lbin, nf_ind)"
   ]
  },
  {
   "cell_type": "code",
   "execution_count": 1324,
   "metadata": {
    "ExecuteTime": {
     "end_time": "2020-07-01T20:54:46.840227Z",
     "start_time": "2020-07-01T20:25:40.322552Z"
    },
    "hidden": true
   },
   "outputs": [],
   "source": [
    "Nreal = 50\n",
    "### begin with the first bin, which may encounter negative eiven-values sometime.\n",
    "r_rec_ali_0p01 = np.ones(Nreal)\n",
    "for i in range(Nreal):\n",
    "    r_rec_ali_0p01[i] = r_like(cl_hat_all_ali[i], cl_f_ali_0p01, nl_mean_ali, M_inv_ali_0p01, sbin = 1)"
   ]
  },
  {
   "cell_type": "code",
   "execution_count": 1326,
   "metadata": {
    "ExecuteTime": {
     "end_time": "2020-07-01T21:17:13.032140Z",
     "start_time": "2020-07-01T21:17:13.025868Z"
    },
    "hidden": true
   },
   "outputs": [
    {
     "data": {
      "text/plain": [
       "0.050658"
      ]
     },
     "execution_count": 1326,
     "metadata": {},
     "output_type": "execute_result"
    }
   ],
   "source": [
    "np.mean(r_rec_ali_0p01)"
   ]
  },
  {
   "cell_type": "code",
   "execution_count": 1327,
   "metadata": {
    "ExecuteTime": {
     "end_time": "2020-07-01T21:17:36.998717Z",
     "start_time": "2020-07-01T21:17:36.992349Z"
    },
    "hidden": true
   },
   "outputs": [
    {
     "data": {
      "text/plain": [
       "0.05088400000000001"
      ]
     },
     "execution_count": 1327,
     "metadata": {},
     "output_type": "execute_result"
    }
   ],
   "source": [
    "np.mean(r_rec_ali)"
   ]
  },
  {
   "cell_type": "code",
   "execution_count": 1329,
   "metadata": {
    "ExecuteTime": {
     "end_time": "2020-07-01T21:18:07.251273Z",
     "start_time": "2020-07-01T21:18:07.244633Z"
    },
    "hidden": true
   },
   "outputs": [
    {
     "data": {
      "text/plain": [
       "0.0029464799337514586"
      ]
     },
     "execution_count": 1329,
     "metadata": {},
     "output_type": "execute_result"
    }
   ],
   "source": [
    "np.std(r_rec_ali)"
   ]
  },
  {
   "cell_type": "code",
   "execution_count": 1330,
   "metadata": {
    "ExecuteTime": {
     "end_time": "2020-07-01T21:18:20.694538Z",
     "start_time": "2020-07-01T21:18:20.688124Z"
    },
    "hidden": true
   },
   "outputs": [
    {
     "data": {
      "text/plain": [
       "0.003415967798443071"
      ]
     },
     "execution_count": 1330,
     "metadata": {},
     "output_type": "execute_result"
    }
   ],
   "source": [
    "np.std(r_rec_ali_0p01)"
   ]
  },
  {
   "cell_type": "code",
   "execution_count": null,
   "metadata": {
    "hidden": true
   },
   "outputs": [],
   "source": []
  },
  {
   "cell_type": "code",
   "execution_count": 1328,
   "metadata": {
    "ExecuteTime": {
     "end_time": "2020-07-01T21:17:38.420328Z",
     "start_time": "2020-07-01T21:17:38.251306Z"
    },
    "hidden": true
   },
   "outputs": [
    {
     "data": {
      "text/plain": [
       "Text(0.5, 0, 'Tensor-to-scalar ratio $r$')"
      ]
     },
     "execution_count": 1328,
     "metadata": {},
     "output_type": "execute_result"
    },
    {
     "data": {
      "image/png": "[encoded data removed]",
      "text/plain": [
       "<Figure size 720x576 with 1 Axes>"
      ]
     },
     "metadata": {
      "needs_background": "light"
     },
     "output_type": "display_data"
    }
   ],
   "source": [
    "plt.figure(figsize = (10, 8))\n",
    "for i in range(Nreal):\n",
    "    plt.axvline(r_rec_ali_0p01[i],c='b', ls='--')\n",
    "plt.xlim(0.045, 0.055)\n",
    "\n",
    "plt.axvline(0.05, c='r', lw = 3,ls='-')\n",
    "plt.title('Different CMB and noise realizations for Ali Sky', fontsize = 16)\n",
    "plt.xlabel(r'Tensor-to-scalar ratio $r$', size=16)"
   ]
  },
  {
   "cell_type": "code",
   "execution_count": null,
   "metadata": {
    "hidden": true
   },
   "outputs": [],
   "source": []
  },
  {
   "cell_type": "code",
   "execution_count": 1285,
   "metadata": {
    "ExecuteTime": {
     "end_time": "2020-06-30T21:11:24.523683Z",
     "start_time": "2020-06-30T21:11:24.517250Z"
    },
    "hidden": true
   },
   "outputs": [
    {
     "data": {
      "text/plain": [
       "(3, 10, 2, 2)"
      ]
     },
     "execution_count": 1285,
     "metadata": {},
     "output_type": "execute_result"
    }
   ],
   "source": [
    "nl_mean.shape"
   ]
  },
  {
   "cell_type": "code",
   "execution_count": 1289,
   "metadata": {
    "ExecuteTime": {
     "end_time": "2020-06-30T21:16:33.416451Z",
     "start_time": "2020-06-30T21:16:33.411107Z"
    },
    "code_folding": [],
    "hidden": true
   },
   "outputs": [],
   "source": [
    "evaluateL = utils.evaluateLikelihood\n",
    "\n",
    "def r_like(cl_hat_0, cl_f, nl_mean, M_inv, sbin):\n",
    "# Initiating the logarithmic likelihood arrays\n",
    "    logLike = np.zeros(len(rlist))\n",
    "\n",
    "    # loop over r values\n",
    "    for i in range(len(rlist)):\n",
    "\n",
    "        r_i  =  rlist[i]\n",
    "        bb_tensor = bb_05[0:nmtlmax+1]*r_i/0.05 \n",
    "\n",
    "        bb_camb = bb_tensor + lensingB[2][0:nmtlmax+1] ## tensor BB + lensing BB \n",
    "\n",
    "        cl_th_i = b.bin_cell(bb_camb[0:nmtlmax+1])  ## theoretical bandpower \n",
    "        cl_th_test = np.ones((lbin, Nf, Nf));  ## BB cross power spectra\n",
    "        for ell in range(lbin):\n",
    "            cl_th_test[ell] *= cl_th_i[ell]\n",
    "\n",
    "        # add Noise bias N_l to expectation values.\n",
    "        C_l = cl_th_test + nl_mean[2]\n",
    "\n",
    "        logL = evaluateL(C_l, cl_hat_0[2], cl_f[2], M_inv, sbin)\n",
    "        logLike[i] = np.real(logL)\n",
    "    \n",
    "    r_max = np.argsort(logLike)[-1]\n",
    "    return rlist[r_max]"
   ]
  },
  {
   "cell_type": "code",
   "execution_count": null,
   "metadata": {
    "hidden": true
   },
   "outputs": [],
   "source": []
  },
  {
   "cell_type": "code",
   "execution_count": 1290,
   "metadata": {
    "ExecuteTime": {
     "end_time": "2020-06-30T21:52:21.895241Z",
     "start_time": "2020-06-30T21:16:39.488836Z"
    },
    "hidden": true
   },
   "outputs": [
    {
     "name": "stderr",
     "output_type": "stream",
     "text": [
      "/home/jianyao/Likelihood/utils.py:55: RuntimeWarning: invalid value encountered in log\n",
      "  gd = np.sign(np.diag(d) - 1) * np.sqrt(2 * (np.diag(d) - np.log(np.diag(d)) - 1))\n"
     ]
    }
   ],
   "source": [
    "Nreal = 50\n",
    "### begin with the first bin, which may encounter negative eiven-values sometime.\n",
    "r_rec_ali_0bin = np.ones(Nreal)\n",
    "for i in range(Nreal):\n",
    "    r_rec_ali_0bin[i] = r_like(cl_hat_all_ali[i], cl_f_ali, nl_mean_ali, M_inv_ali, sbin = 0)"
   ]
  },
  {
   "cell_type": "code",
   "execution_count": 1303,
   "metadata": {
    "ExecuteTime": {
     "end_time": "2020-07-01T14:23:19.983530Z",
     "start_time": "2020-07-01T14:23:19.955769Z"
    },
    "collapsed": true,
    "hidden": true
   },
   "outputs": [
    {
     "name": "stdout",
     "output_type": "stream",
     "text": [
      "[0.00289777 0.00029402]\n",
      "[0.00136805 0.00092418]\n",
      "[0.00329711 0.00016062]\n",
      "[0.00323808 0.00032465]\n",
      "[0.00609118 0.00057367]\n",
      "[0.00293192 0.00117498]\n",
      "[1.09151197e-03 1.15780299e-05]\n",
      "[0.00114612 0.00013751]\n",
      "[0.00047411 0.00752107]\n",
      "[0.00399521 0.00027286]\n",
      "[0.00075935 0.00026439]\n",
      "[-2.81299057e-05  6.43173527e-03]\n",
      "[3.53613840e-05 5.17467343e-03]\n",
      "[-6.56753478e-05  2.26924254e-03]\n",
      "[-0.00011945  0.0017162 ]\n",
      "[0.00202027 0.0001356 ]\n",
      "[ 3.01095699e-03 -6.25213620e-05]\n",
      "[0.00025225 0.00315406]\n",
      "[0.00170123 0.00052035]\n",
      "[-0.0001134   0.00067347]\n",
      "[0.00428753 0.00059694]\n",
      "[1.52142448e-05 1.20057576e-04]\n",
      "[0.00235357 0.00137886]\n",
      "[ 0.00046258 -0.00014552]\n",
      "[0.00025125 0.01120999]\n",
      "[2.29834408e-03 5.81058047e-05]\n",
      "[-0.00019415  0.00114606]\n",
      "[0.00052818 0.00045962]\n",
      "[0.00031446 0.00278454]\n",
      "[0.00109901 0.00032158]\n",
      "[0.00072347 0.00028649]\n",
      "[1.08318652e-03 4.25340185e-05]\n",
      "[3.66150034e-03 5.10030565e-05]\n",
      "[0.00252894 0.0004881 ]\n",
      "[-6.91646416e-05  3.65205179e-03]\n",
      "[0.00180813 0.00064303]\n",
      "[0.00288896 0.00011457]\n",
      "[0.00024194 0.00043379]\n",
      "[3.40037592e-06 8.84283530e-04]\n",
      "[0.00015515 0.00267056]\n",
      "[0.0031381  0.00012291]\n",
      "[6.77878245e-05 1.78969914e-03]\n",
      "[0.00063783 0.00199654]\n",
      "[4.32514593e-05 2.89225184e-03]\n",
      "[0.00023026 0.0027344 ]\n",
      "[0.00012164 0.0016773 ]\n",
      "[-2.06493842e-05  1.13949853e-03]\n",
      "[0.00022621 0.00210826]\n",
      "[ 8.89609589e-04 -6.22800355e-05]\n",
      "[0.00768757 0.00016799]\n"
     ]
    }
   ],
   "source": [
    "for i in range(Nreal):\n",
    "    print(LA.eigvals(cl_hat_all_ali[i][2][0]))"
   ]
  },
  {
   "cell_type": "code",
   "execution_count": 1304,
   "metadata": {
    "ExecuteTime": {
     "end_time": "2020-07-01T14:26:21.688447Z",
     "start_time": "2020-07-01T14:25:38.588715Z"
    },
    "hidden": true
   },
   "outputs": [
    {
     "name": "stderr",
     "output_type": "stream",
     "text": [
      "/home/jianyao/Likelihood/utils.py:55: RuntimeWarning: invalid value encountered in log\n",
      "  gd = np.sign(np.diag(d) - 1) * np.sqrt(2 * (np.diag(d) - np.log(np.diag(d)) - 1))\n"
     ]
    },
    {
     "data": {
      "text/plain": [
       "0.0999"
      ]
     },
     "execution_count": 1304,
     "metadata": {},
     "output_type": "execute_result"
    }
   ],
   "source": [
    "r_like(cl_hat_all_ali[11], cl_f_ali, nl_mean_ali, M_inv_ali, sbin = 0)"
   ]
  },
  {
   "cell_type": "code",
   "execution_count": 1292,
   "metadata": {
    "ExecuteTime": {
     "end_time": "2020-07-01T13:43:03.102146Z",
     "start_time": "2020-07-01T13:43:03.094945Z"
    },
    "hidden": true
   },
   "outputs": [
    {
     "data": {
      "text/plain": [
       "array([0.05  , 0.0527, 0.0487, 0.0514, 0.0485, 0.0541, 0.0503, 0.0556,\n",
       "       0.0464, 0.0498, 0.05  , 0.0999, 0.0518, 0.0999, 0.0999, 0.0508,\n",
       "       0.0999, 0.0503, 0.051 , 0.0999, 0.0554, 0.0502, 0.0483, 0.0999,\n",
       "       0.0476, 0.0534, 0.0999, 0.0557, 0.0504, 0.0528, 0.0545, 0.0536,\n",
       "       0.0464, 0.0495, 0.0999, 0.05  , 0.051 , 0.0475, 0.0532, 0.0463,\n",
       "       0.0469, 0.0532, 0.0525, 0.0532, 0.049 , 0.0541, 0.0999, 0.0571,\n",
       "       0.0999, 0.0511])"
      ]
     },
     "execution_count": 1292,
     "metadata": {},
     "output_type": "execute_result"
    }
   ],
   "source": [
    "r_rec_ali_0bin"
   ]
  },
  {
   "cell_type": "code",
   "execution_count": 1295,
   "metadata": {
    "ExecuteTime": {
     "end_time": "2020-07-01T13:44:44.456403Z",
     "start_time": "2020-07-01T13:44:44.175677Z"
    },
    "hidden": true
   },
   "outputs": [
    {
     "data": {
      "text/plain": [
       "Text(0.5, 0, 'Tensor-to-scalar ratio $r$')"
      ]
     },
     "execution_count": 1295,
     "metadata": {},
     "output_type": "execute_result"
    },
    {
     "data": {
      "image/png": "[encoded data removed]",
      "text/plain": [
       "<Figure size 720x576 with 1 Axes>"
      ]
     },
     "metadata": {
      "needs_background": "light"
     },
     "output_type": "display_data"
    }
   ],
   "source": [
    "plt.figure(figsize = (10, 8))\n",
    "for i in range(Nreal):\n",
    "    plt.axvline(r_rec_ali_0bin[i],c='b', ls='--')\n",
    "plt.xlim(0.045, 0.055)\n",
    "\n",
    "plt.axvline(0.05, c='r', lw = 3,ls='-')\n",
    "plt.title('Different CMB and noise realizations for Ali Sky', fontsize = 16)\n",
    "plt.xlabel(r'Tensor-to-scalar ratio $r$', size=16)"
   ]
  },
  {
   "cell_type": "code",
   "execution_count": null,
   "metadata": {
    "hidden": true
   },
   "outputs": [],
   "source": []
  },
  {
   "cell_type": "code",
   "execution_count": 1312,
   "metadata": {
    "ExecuteTime": {
     "end_time": "2020-07-01T19:38:15.492699Z",
     "start_time": "2020-07-01T19:08:58.944815Z"
    },
    "hidden": true
   },
   "outputs": [],
   "source": [
    "Nreal = 50\n",
    "\n",
    "r_rec_ali = np.ones(Nreal)\n",
    "for i in range(Nreal):\n",
    "    r_rec_ali[i] = r_like(cl_hat_all_ali[i], cl_f_ali, nl_mean_ali, M_inv_ali, sbin = 1)"
   ]
  },
  {
   "cell_type": "code",
   "execution_count": 1277,
   "metadata": {
    "ExecuteTime": {
     "end_time": "2020-06-30T21:02:54.493916Z",
     "start_time": "2020-06-30T21:02:54.487169Z"
    },
    "hidden": true
   },
   "outputs": [
    {
     "name": "stdout",
     "output_type": "stream",
     "text": [
      "Ali 0.05087200000000001 0.0029419748469353036 \n",
      " full_sky 0.05000999999999999 0.0010577806956075537\n"
     ]
    }
   ],
   "source": [
    "print('Ali', np.mean(r_rec_ali),\n",
    "np.std(r_rec_ali), '\\n',\n",
    "    \n",
    "'full_sky',\n",
    "np.mean(r_rec),\n",
    "np.std(r_rec))"
   ]
  },
  {
   "cell_type": "code",
   "execution_count": 1264,
   "metadata": {
    "ExecuteTime": {
     "end_time": "2020-06-30T20:59:07.279076Z",
     "start_time": "2020-06-30T20:59:07.031066Z"
    },
    "hidden": true
   },
   "outputs": [
    {
     "data": {
      "image/png": "[encoded data removed]",
      "text/plain": [
       "<Figure size 432x288 with 1 Axes>"
      ]
     },
     "metadata": {
      "needs_background": "light"
     },
     "output_type": "display_data"
    }
   ],
   "source": [
    "plt.hist(r_rec)\n",
    "plt.savefig('./fig_results/0630_histgram_full_sky.pdf', format = 'pdf')"
   ]
  },
  {
   "cell_type": "code",
   "execution_count": 1318,
   "metadata": {
    "ExecuteTime": {
     "end_time": "2020-07-01T19:40:17.659286Z",
     "start_time": "2020-07-01T19:40:17.446492Z"
    },
    "hidden": true
   },
   "outputs": [
    {
     "data": {
      "image/png": "[encoded data removed]",
      "text/plain": [
       "<Figure size 432x288 with 1 Axes>"
      ]
     },
     "metadata": {
      "needs_background": "light"
     },
     "output_type": "display_data"
    }
   ],
   "source": [
    "plt.hist(r_rec_ali, bins=10)\n",
    "plt.savefig('./fig_results/0630_histgram_ali_sky.pdf', format = 'pdf')"
   ]
  },
  {
   "cell_type": "code",
   "execution_count": 1313,
   "metadata": {
    "ExecuteTime": {
     "end_time": "2020-07-01T19:38:16.643669Z",
     "start_time": "2020-07-01T19:38:16.467331Z"
    },
    "hidden": true
   },
   "outputs": [
    {
     "data": {
      "text/plain": [
       "Text(0.5, 0, 'Tensor-to-scalar ratio $r$')"
      ]
     },
     "execution_count": 1313,
     "metadata": {},
     "output_type": "execute_result"
    },
    {
     "data": {
      "image/png": "[encoded data removed]",
      "text/plain": [
       "<Figure size 720x576 with 1 Axes>"
      ]
     },
     "metadata": {
      "needs_background": "light"
     },
     "output_type": "display_data"
    }
   ],
   "source": [
    "plt.figure(figsize = (10, 8))\n",
    "for i in range(Nreal):\n",
    "    plt.axvline(r_rec_ali[i],c='b', ls='--')\n",
    "plt.xlim(0.045, 0.055)\n",
    "\n",
    "plt.axvline(0.05, c='r', lw = 3,ls='-')\n",
    "plt.title('Different CMB and noise realizations for Ali Sky', fontsize = 16)\n",
    "plt.xlabel(r'Tensor-to-scalar ratio $r$', size=16)\n",
    "# plt.savefig('./fig_results/0630_constrains_on_r_Ali_sky_different_realizations.pdf', format = 'pdf')"
   ]
  },
  {
   "cell_type": "code",
   "execution_count": null,
   "metadata": {
    "hidden": true
   },
   "outputs": [],
   "source": []
  },
  {
   "cell_type": "markdown",
   "metadata": {
    "ExecuteTime": {
     "end_time": "2020-06-21T16:08:16.690241Z",
     "start_time": "2020-06-21T16:08:16.686732Z"
    },
    "heading_collapsed": true
   },
   "source": [
    "## Bandpower covariance matrix"
   ]
  },
  {
   "cell_type": "markdown",
   "metadata": {
    "ExecuteTime": {
     "end_time": "2020-06-21T18:29:01.657538Z",
     "start_time": "2020-06-21T18:29:01.498905Z"
    },
    "hidden": true
   },
   "source": [
    "10 bins, 10-fre cross, SamNum BB"
   ]
  },
  {
   "cell_type": "markdown",
   "metadata": {
    "hidden": true
   },
   "source": [
    "> /home/yao/Desktop/likelihood/ali_joint_analysis/CosmoMC_AliCPT/data/AliCPT_Plk/AliCPT_covmat.dat\n",
    "\n",
    "$234 \\times 234$\n",
    "\n",
    "(39x6) * (39x6)\n",
    "\n",
    "39-bin; bin_width = 20, nmtlmax = 800 \n",
    "\n",
    "Ali_95_BxAli_95_B Ali_95_BxAli_150_B Ali_95_BxAli_353_B Ali_150_BxAli_150_B Ali_150_BxAli_353_B Ali_353_BxAli_353_B"
   ]
  },
  {
   "cell_type": "markdown",
   "metadata": {
    "heading_collapsed": true,
    "hidden": true
   },
   "source": [
    "### Get arrays for Covariance matrix"
   ]
  },
  {
   "cell_type": "code",
   "execution_count": 1073,
   "metadata": {
    "ExecuteTime": {
     "end_time": "2020-06-29T15:59:54.388110Z",
     "start_time": "2020-06-29T15:59:54.377985Z"
    },
    "hidden": true
   },
   "outputs": [],
   "source": [
    "def Marray_lfirst(cl_f_all, nf_ind, Nmode,lbin, SamNum):\n",
    "    \n",
    "    '''\n",
    "    Input\n",
    "    --------------------------------\n",
    "    nf_ind : number of independent frequencies cross\n",
    "    Nmode: number of modes, e.g., EE,EB,BB\n",
    "    SamNum: number of realizations\n",
    "    cl_hat_all: cl_hat that consists of all the realizations (20, 3, 10, 4, 4);(SamNum, Nmode, lbin, Nf, Nf)\n",
    "    \n",
    "    Output\n",
    "    --------------------------------\n",
    "    \n",
    "    '''  \n",
    "    vecp = utils.vecp\n",
    "    marray = np.zeros(((lbin*Nmode*nf_ind), SamNum)) # mode(EE, EB, BB), l-bin, nf independent corr between frequencies \n",
    "    for n in range(SamNum):\n",
    "\n",
    "        for ell in range(lbin):\n",
    "\n",
    "            cl_flat = np.zeros((Nmode, nf_ind)) ## collect independent corr for each mode\n",
    "\n",
    "            for mode in range(Nmode):\n",
    "\n",
    "                cl_flat[mode] = vecp(cl_f_all[n][mode][ell])\n",
    "\n",
    "            marray[ell*Nmode*nf_ind:(ell+1)*Nmode*nf_ind,n] = cl_flat.flatten()\n",
    "    \n",
    "    return marray"
   ]
  },
  {
   "cell_type": "code",
   "execution_count": 984,
   "metadata": {
    "ExecuteTime": {
     "end_time": "2020-06-29T01:02:24.774780Z",
     "start_time": "2020-06-29T01:02:24.770785Z"
    },
    "hidden": true
   },
   "outputs": [],
   "source": [
    "vecp = utils.vecp"
   ]
  },
  {
   "cell_type": "code",
   "execution_count": 1072,
   "metadata": {
    "ExecuteTime": {
     "end_time": "2020-06-29T15:59:27.622538Z",
     "start_time": "2020-06-29T15:59:27.613068Z"
    },
    "hidden": true
   },
   "outputs": [],
   "source": [
    "def Marray_EEfirst(cl_f_all, nf_ind, Nmode,lbin, SamNum):\n",
    "\n",
    "    marray = np.zeros(((Nmode*lbin*nf_ind), SamNum)) # mode(EE, EB, BB), l-bin, nf independent corr between frequencies \n",
    "    for n in range(SamNum):\n",
    "\n",
    "        for mode in range(Nmode):    \n",
    "\n",
    "            cl_flat = np.zeros((lbin, nf_ind)) ## collect independent corr for each l-bin\n",
    "\n",
    "            for ell in range(lbin):\n",
    "                cl_flat[ell] = vecp(cl_f_all[n][mode][ell])# - nl_mean[2][ell] ) ##########!!!!!!!!!!!!!!!!!! need to subtract noise?? 06.27\n",
    "\n",
    "            marray[mode*lbin*nf_ind:(mode+1)*lbin*nf_ind,n] = cl_flat.flatten()\n",
    "            \n",
    "    return marray"
   ]
  },
  {
   "cell_type": "markdown",
   "metadata": {
    "heading_collapsed": true,
    "hidden": true
   },
   "source": [
    "### Figures"
   ]
  },
  {
   "cell_type": "code",
   "execution_count": 116,
   "metadata": {
    "ExecuteTime": {
     "end_time": "2020-06-24T13:27:28.532819Z",
     "start_time": "2020-06-24T13:27:28.245337Z"
    },
    "hidden": true
   },
   "outputs": [],
   "source": [
    "marry = Marray_EEfirst(4, 3, 10, cl_hat_all.shape[0], cl_hat_all)"
   ]
  },
  {
   "cell_type": "code",
   "execution_count": 1278,
   "metadata": {
    "ExecuteTime": {
     "end_time": "2020-06-30T21:03:45.541418Z",
     "start_time": "2020-06-30T21:03:45.537895Z"
    },
    "hidden": true
   },
   "outputs": [],
   "source": [
    "# cov_marry = np.corrcoef(marry)\n",
    "# plt.figure(figsize = (10,10))\n",
    "# plt.imshow(cov_marry, cmap = 'coolwarm', vmin = -1, vmax = 1)\n",
    "# plt.colorbar()\n",
    "# plt.title('lbin , mode, frequency (10*3*10)', fontsize = 20)\n",
    "# plt.savefig('./fig_results/covariance_matrix_lbin_first.pdf', format = 'pdf')"
   ]
  },
  {
   "cell_type": "code",
   "execution_count": 1280,
   "metadata": {
    "ExecuteTime": {
     "end_time": "2020-06-30T21:04:00.775454Z",
     "start_time": "2020-06-30T21:04:00.772175Z"
    },
    "hidden": true
   },
   "outputs": [],
   "source": [
    "# cov_marry = np.corrcoef(marry)\n",
    "# plt.figure(figsize = (10,10))\n",
    "# plt.imshow(cov_marry, cmap = 'coolwarm', vmin = -1, vmax = 1)\n",
    "# plt.colorbar()\n",
    "# plt.title('mode , lbin, frequency', fontsize = 20)\n",
    "# plt.annotate(s = '',xy=(0.07,0.08), xytext=(0.33,0.08),arrowprops=dict(arrowstyle='<->'), xycoords = 'figure fraction')\n",
    "# plt.annotate(s = '',xy=(0.33,0.08), xytext=(0.59,0.08),arrowprops=dict(arrowstyle='<->'), xycoords = 'figure fraction')\n",
    "# plt.annotate(s = '',xy=(0.585,0.08), xytext=(0.84,0.08),arrowprops=dict(arrowstyle='<->'), xycoords = 'figure fraction')\n",
    "# plt.text(45, 340, 'EE', fontsize = '15')\n",
    "# plt.text(145, 340, 'EB', fontsize = '15')\n",
    "# plt.text(245, 340, 'BB', fontsize = '15')\n",
    "\n",
    "# plt.annotate(s = '',xy=(0.07,0.125), xytext=(0.105,0.125),arrowprops=dict(arrowstyle='<->'), xycoords = 'figure fraction')\n",
    "# plt.annotate(s = '',xy=(0.105,0.125), xytext=(0.140,0.125),arrowprops=dict(arrowstyle='<->'), xycoords = 'figure fraction')\n",
    "\n",
    "# plt.text(0, 320, '$\\ell$1', fontsize = '15')\n",
    "        \n",
    "# plt.text(12, 320, '$\\ell$2', fontsize = '15')\n",
    "          \n",
    "# plt.savefig('./fig_results/covariance_matrix_EE_first.pdf', format = 'pdf')"
   ]
  },
  {
   "cell_type": "code",
   "execution_count": 1281,
   "metadata": {
    "ExecuteTime": {
     "end_time": "2020-06-30T21:04:05.223293Z",
     "start_time": "2020-06-30T21:04:05.219949Z"
    },
    "hidden": true
   },
   "outputs": [],
   "source": [
    "# ## 20 realizations\n",
    "\n",
    "# plt.figure(figsize = (10,10))\n",
    "# plt.imshow(cov_mat_BB, cmap = 'coolwarm', vmin = -1, vmax = 1)\n",
    "# plt.colorbar()"
   ]
  },
  {
   "cell_type": "code",
   "execution_count": 489,
   "metadata": {
    "ExecuteTime": {
     "end_time": "2020-06-25T16:46:29.036041Z",
     "start_time": "2020-06-25T16:46:29.029905Z"
    },
    "hidden": true
   },
   "outputs": [
    {
     "data": {
      "text/plain": [
       "(300, 500)"
      ]
     },
     "execution_count": 489,
     "metadata": {},
     "output_type": "execute_result"
    }
   ],
   "source": [
    "marry.shape"
   ]
  },
  {
   "cell_type": "code",
   "execution_count": 33,
   "metadata": {
    "ExecuteTime": {
     "end_time": "2020-06-22T20:18:07.983782Z",
     "start_time": "2020-06-22T20:18:07.971286Z"
    },
    "hidden": true
   },
   "outputs": [],
   "source": [
    "cov_mat =  np.corrcoef(marray)## full covariance matrix\n",
    "# \n",
    "# np.corrcoef(marray)"
   ]
  },
  {
   "cell_type": "code",
   "execution_count": 1282,
   "metadata": {
    "ExecuteTime": {
     "end_time": "2020-06-30T21:04:10.034680Z",
     "start_time": "2020-06-30T21:04:10.030558Z"
    },
    "hidden": true
   },
   "outputs": [],
   "source": [
    "# plt.figure(figsize = (10,10))\n",
    "# plt.imshow(cov_mat, cmap = 'coolwarm', vmin = -1, vmax = 1)\n",
    "# plt.colorbar()\n",
    "# # plt.text(0,-5,'EE')\n",
    "# # plt.xticks([100], 'hh')\n",
    "# # plt.xlim(-10, 310)\n",
    "# # plt.ylim(-10, 310)\n",
    "\n",
    "# plt.annotate(s = '',xy=(0.07,0.08), xytext=(0.33,0.08),arrowprops=dict(arrowstyle='<->'), xycoords = 'figure fraction')\n",
    "# plt.annotate(s = '',xy=(0.33,0.08), xytext=(0.59,0.08),arrowprops=dict(arrowstyle='<->'), xycoords = 'figure fraction')\n",
    "# plt.annotate(s = '',xy=(0.585,0.08), xytext=(0.84,0.08),arrowprops=dict(arrowstyle='<->'), xycoords = 'figure fraction')\n",
    "# plt.text(45, 340, 'EE', fontsize = '15')\n",
    "# plt.text(145, 340, 'EB', fontsize = '15')\n",
    "# plt.text(245, 340, 'BB', fontsize = '15')\n",
    "\n",
    "# plt.annotate(s = '',xy=(0.07,0.125), xytext=(0.105,0.125),arrowprops=dict(arrowstyle='<->'), xycoords = 'figure fraction')\n",
    "# plt.annotate(s = '',xy=(0.105,0.125), xytext=(0.140,0.125),arrowprops=dict(arrowstyle='<->'), xycoords = 'figure fraction')\n",
    "\n",
    "# plt.text(0, 320, '$\\ell$1', fontsize = '15')\n",
    "# plt.text(12, 320, '$\\ell$2', fontsize = '15')"
   ]
  },
  {
   "cell_type": "markdown",
   "metadata": {
    "hidden": true
   },
   "source": [
    "### calculate the covariance matrix"
   ]
  },
  {
   "cell_type": "code",
   "execution_count": null,
   "metadata": {
    "hidden": true
   },
   "outputs": [],
   "source": []
  },
  {
   "cell_type": "markdown",
   "metadata": {
    "heading_collapsed": true,
    "hidden": true
   },
   "source": [
    "### reorganize M_inv to (lbin, lbin, nf_ind, nf_ind)for the Likelihood calculation "
   ]
  },
  {
   "cell_type": "markdown",
   "metadata": {
    "ExecuteTime": {
     "end_time": "2020-06-25T17:31:29.322944Z",
     "start_time": "2020-06-25T17:31:29.319051Z"
    },
    "heading_collapsed": true,
    "hidden": true
   },
   "source": [
    "##### for EE first"
   ]
  },
  {
   "cell_type": "code",
   "execution_count": 557,
   "metadata": {
    "ExecuteTime": {
     "end_time": "2020-06-26T15:17:18.077483Z",
     "start_time": "2020-06-26T15:17:18.018126Z"
    },
    "hidden": true
   },
   "outputs": [],
   "source": [
    "cov_mat_inv = LA.inv(cov_mat_BB)\n",
    "M_inv = np.ones((lbin, lbin, nf_ind, nf_ind))\n",
    "\n",
    "### for EE first\n",
    "\n",
    "for ell in range(lbin*nf_ind):\n",
    "    i = ell//10; j = ell%10;\n",
    "    for fre in range(nf_ind):\n",
    "        \n",
    "        M_inv[i, j] = np.triu(cov_mat_inv[ell, nf_ind*fre:nf_ind*(fre+1)])\n",
    "        \n",
    "## only BB"
   ]
  },
  {
   "cell_type": "markdown",
   "metadata": {
    "heading_collapsed": true,
    "hidden": true
   },
   "source": [
    "##### for l-bin first"
   ]
  },
  {
   "cell_type": "code",
   "execution_count": 1057,
   "metadata": {
    "ExecuteTime": {
     "end_time": "2020-06-29T15:37:16.477358Z",
     "start_time": "2020-06-29T15:37:16.473129Z"
    },
    "hidden": true
   },
   "outputs": [],
   "source": [
    "M_inv = utils.Minv(cov_mat_BB, lbin, nf_ind)"
   ]
  },
  {
   "cell_type": "markdown",
   "metadata": {
    "hidden": true
   },
   "source": [
    "### Test for  Likelihood"
   ]
  },
  {
   "cell_type": "markdown",
   "metadata": {
    "heading_collapsed": true,
    "hidden": true
   },
   "source": [
    "#### BB mode"
   ]
  },
  {
   "cell_type": "code",
   "execution_count": null,
   "metadata": {
    "hidden": true
   },
   "outputs": [],
   "source": []
  },
  {
   "cell_type": "code",
   "execution_count": 2243,
   "metadata": {
    "ExecuteTime": {
     "end_time": "2020-07-09T15:45:57.467755Z",
     "start_time": "2020-07-09T15:45:55.164657Z"
    },
    "hidden": true
   },
   "outputs": [],
   "source": [
    "bb = GenBB(0.05, raw_cl=True)\n",
    "bb_06 = GenBB(0.06, raw_cl=True)"
   ]
  },
  {
   "cell_type": "code",
   "execution_count": 2244,
   "metadata": {
    "ExecuteTime": {
     "end_time": "2020-07-09T15:45:58.443532Z",
     "start_time": "2020-07-09T15:45:58.343057Z"
    },
    "hidden": true
   },
   "outputs": [
    {
     "name": "stderr",
     "output_type": "stream",
     "text": [
      "/home/jianyao/anaconda3/lib/python3.7/site-packages/ipykernel_launcher.py:1: RuntimeWarning: invalid value encountered in true_divide\n",
      "  \"\"\"Entry point for launching an IPython kernel.\n"
     ]
    },
    {
     "data": {
      "text/plain": [
       "[<matplotlib.lines.Line2D at 0x7fa2c4972208>]"
      ]
     },
     "execution_count": 2244,
     "metadata": {},
     "output_type": "execute_result"
    },
    {
     "data": {
      "image/png": "[encoded data removed]",
      "text/plain": [
       "<Figure size 432x288 with 1 Axes>"
      ]
     },
     "metadata": {
      "needs_background": "light"
     },
     "output_type": "display_data"
    }
   ],
   "source": [
    "plt.plot(bb_06/bb)"
   ]
  },
  {
   "cell_type": "code",
   "execution_count": 691,
   "metadata": {
    "ExecuteTime": {
     "end_time": "2020-06-26T17:09:47.324736Z",
     "start_time": "2020-06-26T17:09:47.318359Z"
    },
    "hidden": true
   },
   "outputs": [
    {
     "data": {
      "text/plain": [
       "array([0.00219406, 0.00042306, 0.0008092 , 0.00138481, 0.0021608 ,\n",
       "       0.00313533, 0.00429503, 0.00563341, 0.00718524, 0.00949875])"
      ]
     },
     "execution_count": 691,
     "metadata": {},
     "output_type": "execute_result"
    }
   ],
   "source": [
    "nl_mean[2][:,1,1]"
   ]
  },
  {
   "cell_type": "code",
   "execution_count": 697,
   "metadata": {
    "ExecuteTime": {
     "end_time": "2020-06-26T17:11:18.715659Z",
     "start_time": "2020-06-26T17:11:18.268631Z"
    },
    "hidden": true
   },
   "outputs": [
    {
     "data": {
      "text/plain": [
       "[<matplotlib.lines.Line2D at 0x7fa33df5da90>]"
      ]
     },
     "execution_count": 697,
     "metadata": {},
     "output_type": "execute_result"
    },
    {
     "data": {
      "image/png": "[encoded data removed]",
      "text/plain": [
       "<Figure size 432x288 with 1 Axes>"
      ]
     },
     "metadata": {
      "needs_background": "light"
     },
     "output_type": "display_data"
    }
   ],
   "source": [
    "# plt.loglog(total[:,2])\n",
    "plt.loglog(bb)\n",
    "plt.loglog(bb_06)\n",
    "\n",
    "plt.loglog(est.ell_n, nl_mean[2][:,1,1])"
   ]
  },
  {
   "cell_type": "code",
   "execution_count": null,
   "metadata": {
    "hidden": true
   },
   "outputs": [],
   "source": []
  },
  {
   "cell_type": "code",
   "execution_count": 1086,
   "metadata": {
    "ExecuteTime": {
     "end_time": "2020-06-29T19:16:31.307438Z",
     "start_time": "2020-06-29T19:16:30.114068Z"
    },
    "hidden": true
   },
   "outputs": [],
   "source": [
    "lensingB = utils.Gencl(r = 0, raw_cl = True)"
   ]
  },
  {
   "cell_type": "markdown",
   "metadata": {
    "heading_collapsed": true,
    "hidden": true
   },
   "source": [
    "#### evaluate L "
   ]
  },
  {
   "cell_type": "markdown",
   "metadata": {
    "hidden": true
   },
   "source": [
    "def evaluateLikelihood(C_l,C_l_hat,C_fl,M_inv)"
   ]
  },
  {
   "cell_type": "code",
   "execution_count": 1168,
   "metadata": {
    "ExecuteTime": {
     "end_time": "2020-06-29T21:06:06.140245Z",
     "start_time": "2020-06-29T21:06:06.136247Z"
    },
    "hidden": true
   },
   "outputs": [],
   "source": [
    "rlist = np.arange(0, 0.1, 0.0001)"
   ]
  },
  {
   "cell_type": "code",
   "execution_count": 803,
   "metadata": {
    "ExecuteTime": {
     "end_time": "2020-06-27T19:55:19.320590Z",
     "start_time": "2020-06-27T19:55:19.316706Z"
    },
    "hidden": true
   },
   "outputs": [],
   "source": []
  },
  {
   "cell_type": "code",
   "execution_count": 660,
   "metadata": {
    "ExecuteTime": {
     "end_time": "2020-06-26T16:41:00.078123Z",
     "start_time": "2020-06-26T16:40:58.872229Z"
    },
    "hidden": true
   },
   "outputs": [],
   "source": [
    "bb_05 = GenBB(0.05, raw_cl = True) ##only tensor BB"
   ]
  },
  {
   "cell_type": "code",
   "execution_count": 1309,
   "metadata": {
    "ExecuteTime": {
     "end_time": "2020-07-01T16:03:30.123077Z",
     "start_time": "2020-07-01T15:27:49.314912Z"
    },
    "hidden": true
   },
   "outputs": [],
   "source": [
    "Nreal = 50\n",
    "\n",
    "r_rec = np.ones(Nreal)\n",
    "for i in range(Nreal):\n",
    "    r_rec[i] = r_like(cl_hat_all[i], cl_f, nl_mean, M_inv, sbin = 0)"
   ]
  },
  {
   "cell_type": "code",
   "execution_count": 1256,
   "metadata": {
    "ExecuteTime": {
     "end_time": "2020-06-30T20:08:33.692537Z",
     "start_time": "2020-06-30T20:08:33.685730Z"
    },
    "hidden": true
   },
   "outputs": [
    {
     "data": {
      "text/plain": [
       "0.0010577806956075537"
      ]
     },
     "execution_count": 1256,
     "metadata": {},
     "output_type": "execute_result"
    }
   ],
   "source": [
    "np.std(r_rec)"
   ]
  },
  {
   "cell_type": "code",
   "execution_count": 1200,
   "metadata": {
    "ExecuteTime": {
     "end_time": "2020-06-30T00:31:08.427363Z",
     "start_time": "2020-06-30T00:31:08.420574Z"
    },
    "hidden": true
   },
   "outputs": [
    {
     "data": {
      "text/plain": [
       "0.05000999999999999"
      ]
     },
     "execution_count": 1200,
     "metadata": {},
     "output_type": "execute_result"
    }
   ],
   "source": [
    "np.mean(r_rec)"
   ]
  },
  {
   "cell_type": "code",
   "execution_count": 1262,
   "metadata": {
    "ExecuteTime": {
     "end_time": "2020-06-30T20:57:54.997909Z",
     "start_time": "2020-06-30T20:57:54.702804Z"
    },
    "hidden": true
   },
   "outputs": [
    {
     "data": {
      "image/png": "[encoded data removed]",
      "text/plain": [
       "<Figure size 720x576 with 1 Axes>"
      ]
     },
     "metadata": {
      "needs_background": "light"
     },
     "output_type": "display_data"
    }
   ],
   "source": [
    "plt.figure(figsize = (10, 8))\n",
    "for i in range(Nreal):\n",
    "    plt.axvline(r_rec[i],c='b', ls='--')\n",
    "plt.xlim(0.045, 0.055)\n",
    "\n",
    "plt.axvline(0.05, c='r', lw = 3,ls='-')\n",
    "plt.savefig('./fig_results/0630_constrains_on_r_full_sky_different_realizations.pdf', format = 'pdf')"
   ]
  },
  {
   "cell_type": "code",
   "execution_count": 1257,
   "metadata": {
    "ExecuteTime": {
     "end_time": "2020-06-30T20:08:54.057034Z",
     "start_time": "2020-06-30T20:08:54.050203Z"
    },
    "hidden": true
   },
   "outputs": [
    {
     "data": {
      "text/plain": [
       "0.001799999999999996"
      ]
     },
     "execution_count": 1257,
     "metadata": {},
     "output_type": "execute_result"
    }
   ],
   "source": [
    "rlist[548] - rlist[530]"
   ]
  },
  {
   "cell_type": "code",
   "execution_count": 1176,
   "metadata": {
    "ExecuteTime": {
     "end_time": "2020-06-29T23:34:31.047424Z",
     "start_time": "2020-06-29T23:34:30.820978Z"
    },
    "hidden": true
   },
   "outputs": [
    {
     "data": {
      "text/plain": [
       "Text(0.5, 1.0, 'Constraints on $r$ for full-sky')"
      ]
     },
     "execution_count": 1176,
     "metadata": {},
     "output_type": "execute_result"
    },
    {
     "data": {
      "image/png": "[encoded data removed]",
      "text/plain": [
       "<Figure size 720x576 with 1 Axes>"
      ]
     },
     "metadata": {
      "needs_background": "light"
     },
     "output_type": "display_data"
    }
   ],
   "source": [
    "plt.figure(figsize = (10, 8))\n",
    "plt.plot(rlist, np.exp(logLike))\n",
    "# plt.yscale('log')\n",
    "plt.axvline(0.05, c='r', ls='--')\n",
    "\n",
    "plt.axvline(rlist[513], c='k', ls='--')\n",
    "\n",
    "plt.axvline(rlist[548], c='k', ls='--')\n",
    "\n",
    "plt.axvline(rlist[530], c='b', ls='--')\n",
    "\n",
    "plt.xlim([0.04, 0.06])\n",
    "# plt.ylim([0, 0.07])\n",
    "# plt.yticks([])\n",
    "plt.xlabel(r'Tensor-to-scalar ratio $r$', size=16)\n",
    "# plt.ylabel(r'Probability', size=16)\n",
    "plt.title(r'Constraints on $r$ for full-sky', size=16)\n",
    "# plt.text(0.052, 1.0, 'r = 0.05', fontsize = 20)\n",
    "\n",
    "# plt.savefig('./fig_results/constraints_on_r_full_sky.pdf', format = 'pdf')"
   ]
  },
  {
   "cell_type": "markdown",
   "metadata": {
    "heading_collapsed": true
   },
   "source": [
    "## $\\chi^2$ test"
   ]
  },
  {
   "cell_type": "code",
   "execution_count": 1225,
   "metadata": {
    "ExecuteTime": {
     "end_time": "2020-06-30T19:21:33.027624Z",
     "start_time": "2020-06-30T19:20:57.897663Z"
    },
    "hidden": true
   },
   "outputs": [
    {
     "data": {
      "text/plain": [
       "0.053000000000000005"
      ]
     },
     "execution_count": 1225,
     "metadata": {},
     "output_type": "execute_result"
    }
   ],
   "source": [
    "r_like(cl_hat_all[1], cl_f, nl_mean, M_inv)"
   ]
  },
  {
   "cell_type": "code",
   "execution_count": 1227,
   "metadata": {
    "ExecuteTime": {
     "end_time": "2020-06-30T19:23:44.320483Z",
     "start_time": "2020-06-30T19:23:44.310005Z"
    },
    "hidden": true
   },
   "outputs": [],
   "source": [
    "cmb_1 = np.load('/fnx/jianyao/Likelihood_data/Simulations/CMB/cmb_maps_mc_%03d.npy'%1)"
   ]
  },
  {
   "cell_type": "code",
   "execution_count": 1240,
   "metadata": {
    "ExecuteTime": {
     "end_time": "2020-06-30T19:36:25.830230Z",
     "start_time": "2020-06-30T19:36:25.826146Z"
    },
    "hidden": true
   },
   "outputs": [],
   "source": [
    "ell = np.arange(nmtlmax + 1)"
   ]
  },
  {
   "cell_type": "code",
   "execution_count": 1234,
   "metadata": {
    "ExecuteTime": {
     "end_time": "2020-06-30T19:32:20.356311Z",
     "start_time": "2020-06-30T19:32:19.600427Z"
    },
    "hidden": true
   },
   "outputs": [],
   "source": [
    "cls = hp.anafast(cmb_1, lmax = nmtlmax)"
   ]
  },
  {
   "cell_type": "code",
   "execution_count": 1241,
   "metadata": {
    "ExecuteTime": {
     "end_time": "2020-06-30T19:36:48.223753Z",
     "start_time": "2020-06-30T19:36:48.213591Z"
    },
    "hidden": true
   },
   "outputs": [],
   "source": [
    "hp.anafast?"
   ]
  },
  {
   "cell_type": "code",
   "execution_count": 1238,
   "metadata": {
    "ExecuteTime": {
     "end_time": "2020-06-30T19:35:46.070231Z",
     "start_time": "2020-06-30T19:35:44.905469Z"
    },
    "hidden": true
   },
   "outputs": [],
   "source": [
    "cl_r = utils.Gencl(r = 0.05, raw_cl = False)"
   ]
  },
  {
   "cell_type": "code",
   "execution_count": 1244,
   "metadata": {
    "ExecuteTime": {
     "end_time": "2020-06-30T19:38:06.605415Z",
     "start_time": "2020-06-30T19:38:05.357775Z"
    },
    "hidden": true
   },
   "outputs": [],
   "source": [
    "cl_r_53 = utils.Gencl(r = 0.053, raw_cl = False)"
   ]
  },
  {
   "cell_type": "code",
   "execution_count": 1250,
   "metadata": {
    "ExecuteTime": {
     "end_time": "2020-06-30T19:55:00.130448Z",
     "start_time": "2020-06-30T19:54:59.678440Z"
    },
    "hidden": true
   },
   "outputs": [
    {
     "data": {
      "text/plain": [
       "(1, 202)"
      ]
     },
     "execution_count": 1250,
     "metadata": {},
     "output_type": "execute_result"
    },
    {
     "data": {
      "image/png": "[encoded data removed]",
      "text/plain": [
       "<Figure size 720x576 with 1 Axes>"
      ]
     },
     "metadata": {
      "needs_background": "light"
     },
     "output_type": "display_data"
    }
   ],
   "source": [
    "plt.figure(figsize=(10, 8))\n",
    "plt.loglog(cl_r[2])\n",
    "plt.loglog(cl_r_53[2])\n",
    "\n",
    "plt.loglog(ell, ell*(ell+1)/2/np.pi*cls[2])\n",
    "\n",
    "plt.xlim(1, nmtlmax+1)"
   ]
  },
  {
   "cell_type": "code",
   "execution_count": 1306,
   "metadata": {
    "ExecuteTime": {
     "end_time": "2020-07-01T15:03:31.672921Z",
     "start_time": "2020-07-01T14:28:03.208425Z"
    },
    "hidden": true
   },
   "outputs": [],
   "source": [
    "Nreal = 50\n",
    "\n",
    "r_rec_0bin = np.ones(Nreal)\n",
    "for i in range(Nreal):\n",
    "    r_rec_0bin[i] = r_like(cl_hat_all[i], cl_f, nl_mean, M_inv, sbin=0)"
   ]
  },
  {
   "cell_type": "code",
   "execution_count": 1307,
   "metadata": {
    "ExecuteTime": {
     "end_time": "2020-07-01T15:27:19.206662Z",
     "start_time": "2020-07-01T15:27:18.956786Z"
    },
    "hidden": true
   },
   "outputs": [
    {
     "data": {
      "text/plain": [
       "<matplotlib.lines.Line2D at 0x7fa33b46bc50>"
      ]
     },
     "execution_count": 1307,
     "metadata": {},
     "output_type": "execute_result"
    },
    {
     "data": {
      "image/png": "[encoded data removed]",
      "text/plain": [
       "<Figure size 720x576 with 1 Axes>"
      ]
     },
     "metadata": {
      "needs_background": "light"
     },
     "output_type": "display_data"
    }
   ],
   "source": [
    "plt.figure(figsize = (10, 8))\n",
    "for i in range(Nreal):\n",
    "    plt.axvline(r_rec_0bin[i],c='b', ls='--')\n",
    "plt.xlim(0.045, 0.055)\n",
    "\n",
    "plt.axvline(0.05, c='r', lw = 3,ls='-')"
   ]
  },
  {
   "cell_type": "code",
   "execution_count": 1502,
   "metadata": {
    "ExecuteTime": {
     "end_time": "2020-07-02T20:24:48.978628Z",
     "start_time": "2020-07-02T20:24:48.972158Z"
    },
    "hidden": true
   },
   "outputs": [
    {
     "data": {
      "text/plain": [
       "0.050658"
      ]
     },
     "execution_count": 1502,
     "metadata": {},
     "output_type": "execute_result"
    }
   ],
   "source": [
    "np.mean(r_rec_ali_0p01)"
   ]
  },
  {
   "cell_type": "code",
   "execution_count": 1503,
   "metadata": {
    "ExecuteTime": {
     "end_time": "2020-07-02T20:24:58.541911Z",
     "start_time": "2020-07-02T20:24:58.535960Z"
    },
    "hidden": true
   },
   "outputs": [
    {
     "data": {
      "text/plain": [
       "0.05088400000000001"
      ]
     },
     "execution_count": 1503,
     "metadata": {},
     "output_type": "execute_result"
    }
   ],
   "source": [
    "np.mean(r_rec_ali)"
   ]
  },
  {
   "cell_type": "markdown",
   "metadata": {
    "heading_collapsed": true
   },
   "source": [
    "## likeli class"
   ]
  },
  {
   "cell_type": "code",
   "execution_count": null,
   "metadata": {
    "hidden": true
   },
   "outputs": [],
   "source": [
    "evaluateL = utils.evaluateLikelihood\n",
    "\n",
    "def r_like(cl_hat_0, cl_f, nl_mean, M_inv, sbin):\n",
    "# Initiating the logarithmic likelihood arrays\n",
    "    logLike = np.zeros(len(rlist))\n",
    "\n",
    "    # loop over r values\n",
    "    for i in range(len(rlist)):\n",
    "\n",
    "        r_i  =  rlist[i]\n",
    "        bb_tensor = bb_05[0:nmtlmax+1]*r_i/0.05 \n",
    "\n",
    "        bb_camb = bb_tensor + lensingB[2][0:nmtlmax+1] ## tensor BB + lensing BB \n",
    "\n",
    "        cl_th_i = b.bin_cell(bb_camb[0:nmtlmax+1])  ## theoretical bandpower \n",
    "        cl_th_test = np.ones((lbin, Nf, Nf));  ## BB cross power spectra\n",
    "        for ell in range(lbin):\n",
    "            cl_th_test[ell] *= cl_th_i[ell]\n",
    "\n",
    "        # add Noise bias N_l to expectation values.\n",
    "        C_l = cl_th_test + nl_mean[2]\n",
    "\n",
    "        logL = evaluateL(C_l, cl_hat_0[2], cl_f[2], M_inv, sbin)\n",
    "        logLike[i] = np.real(logL)\n",
    "    \n",
    "    r_max = np.argsort(logLike)[-1]\n",
    "    return rlist[r_max]"
   ]
  },
  {
   "cell_type": "code",
   "execution_count": 1386,
   "metadata": {
    "ExecuteTime": {
     "end_time": "2020-07-02T00:48:08.047777Z",
     "start_time": "2020-07-02T00:48:08.001043Z"
    },
    "hidden": true
   },
   "outputs": [
    {
     "data": {
      "text/plain": [
       "-475.2943076307971"
      ]
     },
     "execution_count": 1386,
     "metadata": {},
     "output_type": "execute_result"
    }
   ],
   "source": [
    "evaluateL(C_l, cl_hat_0[2], cl_f[2], M_inv, sbin = 0)"
   ]
  },
  {
   "cell_type": "code",
   "execution_count": 1389,
   "metadata": {
    "ExecuteTime": {
     "end_time": "2020-07-02T00:49:17.871124Z",
     "start_time": "2020-07-02T00:49:17.863383Z"
    },
    "hidden": true
   },
   "outputs": [
    {
     "data": {
      "text/plain": [
       "<module 'logLikeli' from '/home/jianyao/Likelihood/logLikeli.py'>"
      ]
     },
     "execution_count": 1389,
     "metadata": {},
     "output_type": "execute_result"
    }
   ],
   "source": [
    "imp.reload(logLikeli)"
   ]
  },
  {
   "cell_type": "code",
   "execution_count": 1390,
   "metadata": {
    "ExecuteTime": {
     "end_time": "2020-07-02T00:49:22.174524Z",
     "start_time": "2020-07-02T00:49:22.170859Z"
    },
    "hidden": true
   },
   "outputs": [],
   "source": [
    "lll = logLikeli.logLike(2, 10)"
   ]
  },
  {
   "cell_type": "code",
   "execution_count": 1384,
   "metadata": {
    "ExecuteTime": {
     "end_time": "2020-07-02T00:48:02.755151Z",
     "start_time": "2020-07-02T00:48:02.655528Z"
    },
    "hidden": true
   },
   "outputs": [
    {
     "data": {
      "text/plain": [
       "-475.2943076307971"
      ]
     },
     "execution_count": 1384,
     "metadata": {},
     "output_type": "execute_result"
    }
   ],
   "source": [
    "### (self, cl_th, cl_hat, cl_f_all, SamNum, sbin, M_inv = None)\n",
    "\n",
    "lll.run(C_l, cl_hat_0, 0, cl_f, m_inv = M_inv)"
   ]
  },
  {
   "cell_type": "code",
   "execution_count": 1392,
   "metadata": {
    "ExecuteTime": {
     "end_time": "2020-07-02T00:49:26.931574Z",
     "start_time": "2020-07-02T00:49:26.680702Z"
    },
    "hidden": true
   },
   "outputs": [
    {
     "data": {
      "text/plain": [
       "-475.2943076307976"
      ]
     },
     "execution_count": 1392,
     "metadata": {},
     "output_type": "execute_result"
    }
   ],
   "source": [
    "lll.run(C_l, cl_hat_0, 0, cl_f_all = cl_f_all, SamNum=500)"
   ]
  },
  {
   "cell_type": "code",
   "execution_count": null,
   "metadata": {
    "hidden": true
   },
   "outputs": [],
   "source": []
  },
  {
   "cell_type": "markdown",
   "metadata": {
    "ExecuteTime": {
     "end_time": "2020-07-02T19:03:33.390330Z",
     "start_time": "2020-07-02T19:03:33.386385Z"
    }
   },
   "source": [
    "## dynesty"
   ]
  },
  {
   "cell_type": "code",
   "execution_count": 2166,
   "metadata": {
    "ExecuteTime": {
     "end_time": "2020-07-08T12:34:34.274488Z",
     "start_time": "2020-07-08T12:34:34.269818Z"
    }
   },
   "outputs": [],
   "source": [
    "import dynesty\n",
    "from dynesty import plotting as dyplot\n",
    "## import planck function \n",
    "from pysm.common import B as pf\n",
    "from Fg_template import sync_ps, dust_ps"
   ]
  },
  {
   "cell_type": "markdown",
   "metadata": {
    "heading_collapsed": true
   },
   "source": [
    "### No foreground for Ali Sky"
   ]
  },
  {
   "cell_type": "code",
   "execution_count": 2165,
   "metadata": {
    "ExecuteTime": {
     "end_time": "2020-07-08T12:34:31.559256Z",
     "start_time": "2020-07-08T12:34:31.552407Z"
    },
    "hidden": true
   },
   "outputs": [
    {
     "data": {
      "text/plain": [
       "<module 'Fg_template' from '/home/jianyao/Likelihood/Fg_template.py'>"
      ]
     },
     "execution_count": 2165,
     "metadata": {},
     "output_type": "execute_result"
    }
   ],
   "source": [
    "imp.reload(Fg_template)"
   ]
  },
  {
   "cell_type": "code",
   "execution_count": 1949,
   "metadata": {
    "ExecuteTime": {
     "end_time": "2020-07-05T14:47:23.268754Z",
     "start_time": "2020-07-05T14:47:23.266862Z"
    },
    "hidden": true
   },
   "outputs": [],
   "source": [
    "from utils import testL as testL"
   ]
  },
  {
   "cell_type": "code",
   "execution_count": 1939,
   "metadata": {
    "ExecuteTime": {
     "end_time": "2020-07-05T14:44:23.785439Z",
     "start_time": "2020-07-05T14:44:23.774000Z"
    },
    "hidden": true
   },
   "outputs": [],
   "source": [
    "def log_lcmb(cube):\n",
    "    r_i = cube;\n",
    "    bb_tensor = bb_05[0:nmtlmax+1]*r_i/0.05 \n",
    "\n",
    "    bb_camb = bb_tensor + lensingB[2][0:nmtlmax+1] ## tensor BB + lensing BB \n",
    "\n",
    "    cl_th_i = b.bin_cell(bb_camb[0:nmtlmax+1])  ## theoretical bandpower \n",
    "    cl_th_test = np.ones((lbin, Nf, Nf));  ## BB cross power spectra\n",
    "    for ell in range(lbin):\n",
    "        cl_th_test[ell] *= cl_th_i[ell]\n",
    "\n",
    "    # add Noise bias N_l to expectation values.\n",
    "    C_l = cl_th_test + nl_mean_ali[2]\n",
    "\n",
    "    logL = testL(cl_hat_all_ali[10][2], cl_f_ali[2], C_l, Nf = Nf, M = cov_mat_BB_ali, sbin = 1)\n",
    "    \n",
    "    return np.real(logL)\n",
    "\n",
    "def prior_cmb(cube):\n",
    "    r = cube*0.1\n",
    "   \n",
    "    return r"
   ]
  },
  {
   "cell_type": "code",
   "execution_count": 1902,
   "metadata": {
    "ExecuteTime": {
     "end_time": "2020-07-04T19:56:37.506583Z",
     "start_time": "2020-07-04T19:55:36.859520Z"
    },
    "hidden": true
   },
   "outputs": [
    {
     "name": "stderr",
     "output_type": "stream",
     "text": [
      "1541it [00:58, 26.14it/s, +400 | bound: 1 | nc: 1 | ncall: 14618 | eff(%): 13.278 | loglstar:   -inf < -23.042 <    inf | logz: -25.806 +/-  0.084 | dlogz:  0.001 >  0.409]\n"
     ]
    }
   ],
   "source": [
    "sampler = dynesty.NestedSampler(log_lcmb, prior_cmb, 1, nlive=400)\n",
    "sampler.run_nested()\n",
    "results = sampler.results"
   ]
  },
  {
   "cell_type": "code",
   "execution_count": 1903,
   "metadata": {
    "ExecuteTime": {
     "end_time": "2020-07-04T19:56:39.082316Z",
     "start_time": "2020-07-04T19:56:38.807735Z"
    },
    "hidden": true
   },
   "outputs": [
    {
     "name": "stdout",
     "output_type": "stream",
     "text": [
      "Quantiles:\n",
      "$x_{1}$ [(0.025, 0.04566514245807846), (0.5, 0.05031006238732454), (0.975, 0.05582365975366761)]\n"
     ]
    },
    {
     "data": {
      "text/plain": [
       "(<Figure size 864x216 with 2 Axes>,\n",
       " array([<matplotlib.axes._subplots.AxesSubplot object at 0x7fa32eb542b0>,\n",
       "        <matplotlib.axes._subplots.AxesSubplot object at 0x7fa32e873da0>],\n",
       "       dtype=object))"
      ]
     },
     "execution_count": 1903,
     "metadata": {},
     "output_type": "execute_result"
    },
    {
     "data": {
      "image/png": "[encoded data removed]",
      "text/plain": [
       "<Figure size 864x216 with 2 Axes>"
      ]
     },
     "metadata": {
      "needs_background": "light"
     },
     "output_type": "display_data"
    }
   ],
   "source": [
    "dyplot.traceplot(results, truths=np.ones(1)*0.050,\n",
    "                             truth_color='black', show_titles=True,\n",
    "                             trace_cmap='coolwarm', title_fmt='.4f',connect=True, verbose = True)"
   ]
  },
  {
   "cell_type": "code",
   "execution_count": null,
   "metadata": {
    "hidden": true
   },
   "outputs": [],
   "source": []
  },
  {
   "cell_type": "markdown",
   "metadata": {},
   "source": [
    "### Foreground"
   ]
  },
  {
   "cell_type": "code",
   "execution_count": 2385,
   "metadata": {
    "ExecuteTime": {
     "end_time": "2020-07-10T12:39:29.385895Z",
     "start_time": "2020-07-10T12:39:29.372382Z"
    }
   },
   "outputs": [],
   "source": [
    "path = '/fnx/jianyao/Likelihood_data/Bandpowers/0710_2fre_Ali_real_fore_and_noise'\n",
    "\n",
    "cl_f_all_ali = np.load('%s/cl_f_all.npy'%path); cl_f_ali = np.mean(cl_f_all_ali, axis = 0)\n",
    "\n",
    "cl_hat_all_ali = np.load('%s/cl_hat_fore_all.npy'%path)\n",
    "cl_hat_0_ali = cl_hat_all_ali[10]\n",
    "\n",
    "nl_all_ali = np.load('%s/nl_all.npy'%path)\n",
    "nl_mean_ali = np.mean(nl_all_ali, axis = 0) ## EE EB BB"
   ]
  },
  {
   "cell_type": "code",
   "execution_count": 2386,
   "metadata": {
    "ExecuteTime": {
     "end_time": "2020-07-10T12:39:30.419440Z",
     "start_time": "2020-07-10T12:39:30.287029Z"
    }
   },
   "outputs": [],
   "source": [
    "marry_ali = utils.Marray_EEfirst(cl_f_all_ali, nf_ind, 3, lbin, cl_f_all_ali.shape[0]) ## (Nmode*lbin*nf_ind, SamNum)\n",
    "\n",
    "cov_mat_BB_ali = np.cov(marry_ali[lbin*nf_ind*2:]) ##(select BB mode)\n",
    "\n",
    "M_inv_ali = utils.Minv(cov_mat_BB_ali, lbin, nf_ind)"
   ]
  },
  {
   "cell_type": "code",
   "execution_count": null,
   "metadata": {},
   "outputs": [],
   "source": []
  },
  {
   "cell_type": "code",
   "execution_count": 2171,
   "metadata": {
    "ExecuteTime": {
     "end_time": "2020-07-08T12:41:45.049725Z",
     "start_time": "2020-07-08T12:41:45.043118Z"
    }
   },
   "outputs": [],
   "source": [
    "A_d_RJ = np.load('/fnx/jianyao/Likelihood_data/Bandpowers/0629_2fre_Ali/dust_template_353_BB_RJ.npy')\n",
    "dust_dl_RJ = np.load('/fnx/jianyao/Likelihood_data/Bandpowers/0629_2fre_Ali/dust_BB_cross_fre_1p59_from_RJ.npy')\n",
    "\n",
    "\n",
    "A_s_RJ = np.load('/fnx/jianyao/Likelihood_data/Bandpowers/0629_2fre_Ali/sync_template_30_BB_RJ.npy')\n",
    "sync_dl_RJ = np.load('/fnx/jianyao/Likelihood_data/Bandpowers/0629_2fre_Ali/sync_BB_cross_fre_n3p3_from_RJ.npy')"
   ]
  },
  {
   "cell_type": "code",
   "execution_count": 2295,
   "metadata": {
    "ExecuteTime": {
     "end_time": "2020-07-09T20:01:42.159675Z",
     "start_time": "2020-07-09T20:01:42.141080Z"
    }
   },
   "outputs": [
    {
     "data": {
      "text/plain": [
       "-16.831153151944495"
      ]
     },
     "execution_count": 2295,
     "metadata": {},
     "output_type": "execute_result"
    }
   ],
   "source": [
    "testL(cl_hat_0_ali[2], cl_f_ali[2], cl_th_BB_ali,Nf,cov_mat_BB_ali,sbin = 1)"
   ]
  },
  {
   "cell_type": "code",
   "execution_count": 2311,
   "metadata": {
    "ExecuteTime": {
     "end_time": "2020-07-09T21:02:38.881387Z",
     "start_time": "2020-07-09T21:02:38.860829Z"
    }
   },
   "outputs": [
    {
     "data": {
      "text/plain": [
       "-151.36962924747303"
      ]
     },
     "execution_count": 2311,
     "metadata": {},
     "output_type": "execute_result"
    }
   ],
   "source": [
    "testL((cl_hat_fore_ali - sync_ps(A_s_RJ, -3.3, 10) - dust_ps(A_d_RJ, 1.589, 10)) , cl_f_ali[2], C_l, Nf = Nf, M = cov_mat_BB_ali, sbin = 1)"
   ]
  },
  {
   "cell_type": "code",
   "execution_count": null,
   "metadata": {},
   "outputs": [],
   "source": []
  },
  {
   "cell_type": "code",
   "execution_count": 2400,
   "metadata": {
    "ExecuteTime": {
     "end_time": "2020-07-10T13:25:15.096471Z",
     "start_time": "2020-07-10T13:25:15.075738Z"
    },
    "code_folding": []
   },
   "outputs": [],
   "source": [
    "add_dust = True\n",
    "\n",
    "if add_dust:\n",
    "    \n",
    "    cl_hat_fore_ali = cl_hat_0_ali[2] #+ sync_dl_RJ + dust_dl_RJ\n",
    "    \n",
    "else: \n",
    "    \n",
    "    cl_hat_fore_ali = cl_hat_0_ali[2] + sync_dl_RJ\n",
    "    \n",
    "def log_likelihood(cube, dust = add_dust):\n",
    "    r_i = cube[0];\n",
    "    beta_s = cube[1];\n",
    "    \n",
    "    if dust:\n",
    "        beta_d = cube[2]\n",
    "    \n",
    "    bb_tensor = bb_05[0:nmtlmax+1]*r_i/0.05 \n",
    "\n",
    "    bb_camb = bb_tensor + lensingB[2][0:nmtlmax+1] ## tensor BB + lensing BB \n",
    "\n",
    "    cl_th_i = b.bin_cell(bb_camb[0:nmtlmax+1])  ## theoretical bandpower \n",
    "    cl_th_test = np.ones((lbin, Nf, Nf));  ## BB cross power spectra\n",
    "    for ell in range(lbin):\n",
    "        cl_th_test[ell] *= cl_th_i[ell]\n",
    "\n",
    "    # add Noise bias N_l to expectation values.########################## Noise level\n",
    "    C_l = cl_th_test + nl_mean_ali[2] \n",
    "    \n",
    "    if dust:\n",
    "        logL = testL((cl_hat_fore_ali - sync_ps(A_s_RJ, beta_s, 10) - dust_ps(A_d_RJ, beta_d, 10)) , cl_f_ali[2], C_l, Nf = Nf, M = cov_mat_BB_ali, sbin = 1)\n",
    "        \n",
    "    else:\n",
    "        logL = testL((cl_hat_fore_ali - sync_ps(A_s_RJ, beta_s, 10)), cl_f_ali[2], C_l, Nf = Nf, M = cov_mat_BB_ali, sbin = 0)\n",
    "    \n",
    "    return np.real(logL)\n",
    "\n",
    "def prior(cube, dust = add_dust):\n",
    "    r = cube[0]*0.02 + 0.04;\n",
    "    beta_s = cube[1]*2 - 4 ## from -4 to -2\n",
    "    \n",
    "    if dust:\n",
    "        beta_d = cube[2]*0.02 + 1.58 ## from 1 to 2\n",
    "        \n",
    "        return [r, beta_s, beta_d]\n",
    "    \n",
    "    else:\n",
    "        return [r, beta_s]"
   ]
  },
  {
   "cell_type": "code",
   "execution_count": null,
   "metadata": {},
   "outputs": [],
   "source": [
    "0.04-0.06\n",
    "-3.2--2.8\n",
    "1-2"
   ]
  },
  {
   "cell_type": "code",
   "execution_count": null,
   "metadata": {},
   "outputs": [],
   "source": [
    "0.04-0.06\n",
    "-3.2 - -2.8\n",
    "1.58-2.0"
   ]
  },
  {
   "cell_type": "markdown",
   "metadata": {
    "heading_collapsed": true
   },
   "source": [
    "### Jiaxin"
   ]
  },
  {
   "cell_type": "code",
   "execution_count": 2062,
   "metadata": {
    "ExecuteTime": {
     "end_time": "2020-07-06T14:36:05.400804Z",
     "start_time": "2020-07-06T14:36:05.391812Z"
    },
    "hidden": true
   },
   "outputs": [],
   "source": [
    "d353 = np.load('/fnx/jianyao/Likelihood_data/Simulations/Dust_353_maps.npy')"
   ]
  },
  {
   "cell_type": "code",
   "execution_count": 2063,
   "metadata": {
    "ExecuteTime": {
     "end_time": "2020-07-06T14:36:07.144819Z",
     "start_time": "2020-07-06T14:36:06.866094Z"
    },
    "hidden": true
   },
   "outputs": [],
   "source": [
    "from fg_models import dustmodel\n",
    "\n",
    "FREQS = [95.,150., 353.]\n",
    "NMAP = 2\n",
    "RESAMP = 30\n",
    "APOSCALE = 6.\n",
    "PSBIN = 20\n",
    "tmpmap = dict()\n",
    "tmpmap[353] = d353[1:]\n",
    "\n",
    "d = dustmodel(freqs=FREQS,nmap=NMAP,mask=ali_ma.reshape(1,-1),aposcale=APOSCALE,psbin=PSBIN,templates=tmpmap)"
   ]
  },
  {
   "cell_type": "code",
   "execution_count": 2151,
   "metadata": {
    "ExecuteTime": {
     "end_time": "2020-07-06T21:01:34.240282Z",
     "start_time": "2020-07-06T21:01:33.673073Z"
    },
    "hidden": true
   },
   "outputs": [
    {
     "data": {
      "text/plain": [
       "<matplotlib.legend.Legend at 0x7fa2ca4006a0>"
      ]
     },
     "execution_count": 2151,
     "metadata": {},
     "output_type": "execute_result"
    },
    {
     "data": {
      "image/png": "[encoded data removed]",
      "text/plain": [
       "<Figure size 720x576 with 1 Axes>"
      ]
     },
     "metadata": {
      "needs_background": "light"
     },
     "output_type": "display_data"
    }
   ],
   "source": [
    "plt.figure(figsize = (10,8))\n",
    "\n",
    "plt.loglog(est.ell_n, cl_hat_all_ali[10][2][:,0,0], label = 'CMB+Noise 95')\n",
    "plt.loglog(est.ell_n, cl_hat_all_ali[10][2][:,1,1], label = 'CPN 150')\n",
    "\n",
    "# plt.loglog(est.ell_n, sync_dl[:,1,1], label = 'sync 150')\n",
    "# plt.loglog(est.ell_n, sync_dl[:,0,0], label = 'sync 95')\n",
    "\n",
    "\n",
    "plt.loglog(est.ell_n, dust_dl[:,1,1], label = 'dust 150')\n",
    "plt.loglog(est.ell_n, dust_dl[:,0,0], label = 'dust 95')\n",
    "# plt.loglog(est.ell_n, dust_1_58[:,0,0], label = 'dust 30')\n",
    "# plt.loglog(est.ell_n, A_d, label = 'dust 30')\n",
    "plt.loglog(est.ell_n, A_d, 'k-', label = 'dust_353')\n",
    "# plt.loglog(est.ell_n, dust_1_58[:,0,0], label = 'dust_1.58 95')\n",
    "\n",
    "\n",
    "plt.loglog(d.modes,d.bandpower()[:,0,0])\n",
    "plt.loglog(d.modes,d.bandpower()[:,1,1])\n",
    "plt.loglog(d.modes,d.bandpower()[:,2,2])\n",
    "\n",
    "plt.legend(fontsize = 15)"
   ]
  },
  {
   "cell_type": "markdown",
   "metadata": {
    "ExecuteTime": {
     "end_time": "2020-07-06T14:46:28.346120Z",
     "start_time": "2020-07-06T14:46:28.342473Z"
    },
    "heading_collapsed": true
   },
   "source": [
    "### Foreground test"
   ]
  },
  {
   "cell_type": "code",
   "execution_count": 2231,
   "metadata": {
    "ExecuteTime": {
     "end_time": "2020-07-09T10:17:57.648096Z",
     "start_time": "2020-07-09T10:17:57.644731Z"
    },
    "hidden": true,
    "scrolled": true
   },
   "outputs": [],
   "source": [
    "# for beta_s in np.arange(-4, -2, 0.01):\n",
    "    \n",
    "#     print(testL(abs(cl_hat_fore_ali - sync_ps(A_s_RJ, beta_s, 10) - dust_ps(A_d_RJ, 1.59, 10)), cl_f_ali[2], C_l, Nf = Nf, M = cov_mat_BB_ali, sbin = 0))"
   ]
  },
  {
   "cell_type": "code",
   "execution_count": 2232,
   "metadata": {
    "ExecuteTime": {
     "end_time": "2020-07-09T10:18:01.631255Z",
     "start_time": "2020-07-09T10:18:01.628804Z"
    },
    "hidden": true
   },
   "outputs": [],
   "source": [
    "# for beta_s in np.arange(-4, -2, 0.1):\n",
    "    \n",
    "#     print(LA.eigvals(abs(cl_hat_fore_ali - dust_ps(A_d_RJ, 1.59, 10) - sync_ps(A_s, beta_s, 10))[1]))"
   ]
  },
  {
   "cell_type": "code",
   "execution_count": 2233,
   "metadata": {
    "ExecuteTime": {
     "end_time": "2020-07-09T10:18:03.762041Z",
     "start_time": "2020-07-09T10:18:03.760049Z"
    },
    "hidden": true
   },
   "outputs": [],
   "source": [
    "# for beta_s in np.arange(-4, -2, 0.1):\n",
    "    \n",
    "#     print(LA.eigvals((cl_hat_fore_ali - dust_ps(A_d_RJ, 1.59, 10) - sync_ps(A_s, beta_s, 10))[1]))"
   ]
  },
  {
   "cell_type": "code",
   "execution_count": 2235,
   "metadata": {
    "ExecuteTime": {
     "end_time": "2020-07-09T10:18:08.564286Z",
     "start_time": "2020-07-09T10:18:08.561075Z"
    },
    "hidden": true,
    "scrolled": true
   },
   "outputs": [],
   "source": [
    "# for beta in np.arange(1,2, 0.1):\n",
    "    \n",
    "#     print(LA.eigvals(abs(cl_hat_fore_ali - sync_ps(A_s_RJ, -3.3, 10) - dust_ps(A_d_RJ, beta, 10))))"
   ]
  },
  {
   "cell_type": "code",
   "execution_count": 2236,
   "metadata": {
    "ExecuteTime": {
     "end_time": "2020-07-09T10:18:12.473579Z",
     "start_time": "2020-07-09T10:18:12.470168Z"
    },
    "hidden": true,
    "scrolled": true
   },
   "outputs": [],
   "source": [
    "# # for beta in np.arange(1.58,1.60, 0.001):\n",
    "# for beta in np.arange(1,2, 0.01):\n",
    "    \n",
    "#     print(testL(cl_hat_fore_ali - sync_ps(A_s_RJ, -3.3, 10) - dust_ps(A_d_RJ, beta, 10), cl_f_ali[2], C_l, Nf = Nf, M = cov_mat_BB_ali, sbin = 1))"
   ]
  },
  {
   "cell_type": "code",
   "execution_count": null,
   "metadata": {
    "hidden": true
   },
   "outputs": [],
   "source": []
  },
  {
   "cell_type": "code",
   "execution_count": null,
   "metadata": {
    "hidden": true
   },
   "outputs": [],
   "source": []
  },
  {
   "cell_type": "markdown",
   "metadata": {},
   "source": [
    "### dynesty"
   ]
  },
  {
   "cell_type": "code",
   "execution_count": 2403,
   "metadata": {
    "ExecuteTime": {
     "end_time": "2020-07-10T13:45:51.575790Z",
     "start_time": "2020-07-10T13:39:27.618317Z"
    },
    "scrolled": true
   },
   "outputs": [
    {
     "name": "stderr",
     "output_type": "stream",
     "text": [
      "/home/jianyao/Likelihood/utils.py:221: RuntimeWarning: invalid value encountered in log\n",
      "  gd = np.sign(np.diag(d) - 1) * np.sqrt(2 * (np.diag(d) - np.log(np.diag(d)) - 1))\n",
      "4576it [03:22,  5.23it/s, bound: 0 | nc: 105 | ncall: 45782 | eff(%):  9.995 | loglstar:   -inf < -1184.542 <    inf | logz: -1193.508 +/-    nan | dlogz: 197.840 >  1.009]/home/jianyao/Likelihood/utils.py:221: RuntimeWarning: invalid value encountered in log\n",
      "  gd = np.sign(np.diag(d) - 1) * np.sqrt(2 * (np.diag(d) - np.log(np.diag(d)) - 1))\n",
      "5094it [03:29, 56.15it/s, bound: 1 | nc: 2 | ncall: 47271 | eff(%): 10.776 | loglstar:   -inf < -1142.917 <    inf | logz: -1152.271 +/-    nan | dlogz: 156.077 >  1.009]  /home/jianyao/Likelihood/utils.py:221: RuntimeWarning: invalid value encountered in log\n",
      "  gd = np.sign(np.diag(d) - 1) * np.sqrt(2 * (np.diag(d) - np.log(np.diag(d)) - 1))\n",
      "5565it [03:37, 56.42it/s, bound: 2 | nc: 1 | ncall: 48760 | eff(%): 11.413 | loglstar:   -inf < -1112.795 <    inf | logz: -1122.208 +/-    nan | dlogz: 125.520 >  1.009] /home/jianyao/Likelihood/utils.py:221: RuntimeWarning: invalid value encountered in log\n",
      "  gd = np.sign(np.diag(d) - 1) * np.sqrt(2 * (np.diag(d) - np.log(np.diag(d)) - 1))\n",
      "6076it [03:44, 63.73it/s, bound: 3 | nc: 7 | ncall: 50294 | eff(%): 12.081 | loglstar:   -inf < -1087.469 <    inf | logz: -1097.274 +/-    nan | dlogz: 100.068 >  1.009] /home/jianyao/Likelihood/utils.py:221: RuntimeWarning: invalid value encountered in log\n",
      "  gd = np.sign(np.diag(d) - 1) * np.sqrt(2 * (np.diag(d) - np.log(np.diag(d)) - 1))\n",
      "6579it [03:51, 59.78it/s, bound: 4 | nc: 9 | ncall: 51777 | eff(%): 12.706 | loglstar:   -inf < -1068.591 <    inf | logz: -1078.835 +/-    nan | dlogz: 81.125 >  1.009] /home/jianyao/Likelihood/utils.py:221: RuntimeWarning: invalid value encountered in log\n",
      "  gd = np.sign(np.diag(d) - 1) * np.sqrt(2 * (np.diag(d) - np.log(np.diag(d)) - 1))\n",
      "7119it [03:58, 67.16it/s, bound: 5 | nc: 5 | ncall: 53289 | eff(%): 13.359 | loglstar:   -inf < -1052.359 <    inf | logz: -1062.633 +/-    nan | dlogz: 64.367 >  1.009]/home/jianyao/Likelihood/utils.py:221: RuntimeWarning: invalid value encountered in log\n",
      "  gd = np.sign(np.diag(d) - 1) * np.sqrt(2 * (np.diag(d) - np.log(np.diag(d)) - 1))\n",
      "7674it [04:05, 62.13it/s, bound: 6 | nc: 4 | ncall: 54763 | eff(%): 14.013 | loglstar:   -inf < -1039.228 <    inf | logz: -1049.934 +/-    nan | dlogz: 51.111 >  1.009] /home/jianyao/Likelihood/utils.py:221: RuntimeWarning: invalid value encountered in log\n",
      "  gd = np.sign(np.diag(d) - 1) * np.sqrt(2 * (np.diag(d) - np.log(np.diag(d)) - 1))\n",
      "8202it [04:13, 61.44it/s, bound: 7 | nc: 15 | ncall: 56281 | eff(%): 14.573 | loglstar:   -inf < -1030.347 <    inf | logz: -1041.157 +/-    nan | dlogz: 46.293 >  1.009]/home/jianyao/Likelihood/utils.py:221: RuntimeWarning: invalid value encountered in log\n",
      "  gd = np.sign(np.diag(d) - 1) * np.sqrt(2 * (np.diag(d) - np.log(np.diag(d)) - 1))\n",
      "8709it [04:20, 62.59it/s, bound: 8 | nc: 7 | ncall: 57783 | eff(%): 15.072 | loglstar:   -inf < -1022.819 <    inf | logz: -1034.154 +/-    nan | dlogz: 38.784 >  1.009] /home/jianyao/Likelihood/utils.py:221: RuntimeWarning: invalid value encountered in log\n",
      "  gd = np.sign(np.diag(d) - 1) * np.sqrt(2 * (np.diag(d) - np.log(np.diag(d)) - 1))\n",
      "9218it [04:27, 54.92it/s, bound: 9 | nc: 10 | ncall: 59301 | eff(%): 15.544 | loglstar:   -inf < -1016.046 <    inf | logz: -1027.853 +/-    nan | dlogz: 31.973 >  1.009]/home/jianyao/Likelihood/utils.py:221: RuntimeWarning: invalid value encountered in log\n",
      "  gd = np.sign(np.diag(d) - 1) * np.sqrt(2 * (np.diag(d) - np.log(np.diag(d)) - 1))\n",
      "9745it [04:34, 60.29it/s, bound: 10 | nc: 1 | ncall: 60782 | eff(%): 16.033 | loglstar:   -inf < -1010.646 <    inf | logz: -1022.552 +/-    nan | dlogz: 26.431 >  1.009] /home/jianyao/Likelihood/utils.py:221: RuntimeWarning: invalid value encountered in log\n",
      "  gd = np.sign(np.diag(d) - 1) * np.sqrt(2 * (np.diag(d) - np.log(np.diag(d)) - 1))\n",
      "10258it [04:41, 56.92it/s, bound: 11 | nc: 10 | ncall: 62289 | eff(%): 16.468 | loglstar:   -inf < -1006.299 <    inf | logz: -1018.533 +/-    nan | dlogz: 21.898 >  1.009]/home/jianyao/Likelihood/utils.py:221: RuntimeWarning: invalid value encountered in log\n",
      "  gd = np.sign(np.diag(d) - 1) * np.sqrt(2 * (np.diag(d) - np.log(np.diag(d)) - 1))\n",
      "10801it [04:49, 55.63it/s, bound: 12 | nc: 2 | ncall: 63803 | eff(%): 16.929 | loglstar:   -inf < -1002.265 <    inf | logz: -1014.868 +/-    nan | dlogz: 17.688 >  1.009] /home/jianyao/Likelihood/utils.py:221: RuntimeWarning: invalid value encountered in log\n",
      "  gd = np.sign(np.diag(d) - 1) * np.sqrt(2 * (np.diag(d) - np.log(np.diag(d)) - 1))\n",
      "11372it [04:56, 69.99it/s, bound: 13 | nc: 1 | ncall: 65311 | eff(%): 17.412 | loglstar:   -inf < -998.660 <    inf | logz: -1011.649 +/-    nan | dlogz: 13.993 >  1.009]  /home/jianyao/Likelihood/utils.py:221: RuntimeWarning: invalid value encountered in log\n",
      "  gd = np.sign(np.diag(d) - 1) * np.sqrt(2 * (np.diag(d) - np.log(np.diag(d)) - 1))\n",
      "11899it [05:03, 65.42it/s, bound: 14 | nc: 3 | ncall: 66792 | eff(%): 17.815 | loglstar:   -inf < -996.217 <    inf | logz: -1009.394 +/-    nan | dlogz: 12.313 >  1.009] /home/jianyao/Likelihood/utils.py:221: RuntimeWarning: invalid value encountered in log\n",
      "  gd = np.sign(np.diag(d) - 1) * np.sqrt(2 * (np.diag(d) - np.log(np.diag(d)) - 1))\n",
      "12402it [05:10, 56.66it/s, bound: 15 | nc: 1 | ncall: 68319 | eff(%): 18.153 | loglstar:   -inf < -994.337 <    inf | logz: -1007.794 +/-    nan | dlogz: 11.151 >  1.009] /home/jianyao/Likelihood/utils.py:221: RuntimeWarning: invalid value encountered in log\n",
      "  gd = np.sign(np.diag(d) - 1) * np.sqrt(2 * (np.diag(d) - np.log(np.diag(d)) - 1))\n",
      "12876it [05:17, 51.79it/s, bound: 16 | nc: 10 | ncall: 69811 | eff(%): 18.444 | loglstar:   -inf < -992.740 <    inf | logz: -1006.535 +/-    nan | dlogz:  9.417 >  1.009]/home/jianyao/Likelihood/utils.py:221: RuntimeWarning: invalid value encountered in log\n",
      "  gd = np.sign(np.diag(d) - 1) * np.sqrt(2 * (np.diag(d) - np.log(np.diag(d)) - 1))\n",
      "13348it [05:25, 50.54it/s, bound: 17 | nc: 1 | ncall: 71329 | eff(%): 18.713 | loglstar:   -inf < -991.423 <    inf | logz: -1005.489 +/-    nan | dlogz:  7.899 >  1.009] /home/jianyao/Likelihood/utils.py:221: RuntimeWarning: invalid value encountered in log\n",
      "  gd = np.sign(np.diag(d) - 1) * np.sqrt(2 * (np.diag(d) - np.log(np.diag(d)) - 1))\n",
      "13826it [05:32, 54.44it/s, bound: 18 | nc: 4 | ncall: 72828 | eff(%): 18.984 | loglstar:   -inf < -990.358 <    inf | logz: -1004.616 +/-    nan | dlogz:  6.722 >  1.009] /home/jianyao/Likelihood/utils.py:221: RuntimeWarning: invalid value encountered in log\n",
      "  gd = np.sign(np.diag(d) - 1) * np.sqrt(2 * (np.diag(d) - np.log(np.diag(d)) - 1))\n",
      "14482it [05:40, 67.15it/s, bound: 19 | nc: 3 | ncall: 74324 | eff(%): 19.485 | loglstar:   -inf < -989.068 <    inf | logz: -1003.728 +/-    nan | dlogz:  5.182 >  1.009]/home/jianyao/Likelihood/utils.py:221: RuntimeWarning: invalid value encountered in log\n",
      "  gd = np.sign(np.diag(d) - 1) * np.sqrt(2 * (np.diag(d) - np.log(np.diag(d)) - 1))\n",
      "14995it [05:47, 49.20it/s, bound: 20 | nc: 1 | ncall: 75814 | eff(%): 19.779 | loglstar:   -inf < -988.236 <    inf | logz: -1003.171 +/-    nan | dlogz:  4.123 >  1.009] /home/jianyao/Likelihood/utils.py:221: RuntimeWarning: invalid value encountered in log\n",
      "  gd = np.sign(np.diag(d) - 1) * np.sqrt(2 * (np.diag(d) - np.log(np.diag(d)) - 1))\n",
      "15479it [05:54, 64.41it/s, bound: 21 | nc: 4 | ncall: 77334 | eff(%): 20.016 | loglstar:   -inf < -987.537 <    inf | logz: -1002.751 +/-    nan | dlogz:  3.242 >  1.009] /home/jianyao/Likelihood/utils.py:221: RuntimeWarning: invalid value encountered in log\n",
      "  gd = np.sign(np.diag(d) - 1) * np.sqrt(2 * (np.diag(d) - np.log(np.diag(d)) - 1))\n",
      "16121it [06:02, 69.12it/s, bound: 22 | nc: 1 | ncall: 78811 | eff(%): 20.455 | loglstar:   -inf < -986.839 <    inf | logz: -1002.329 +/-    nan | dlogz:  2.250 >  1.009] /home/jianyao/Likelihood/utils.py:221: RuntimeWarning: invalid value encountered in log\n",
      "  gd = np.sign(np.diag(d) - 1) * np.sqrt(2 * (np.diag(d) - np.log(np.diag(d)) - 1))\n"
     ]
    },
    {
     "name": "stderr",
     "output_type": "stream",
     "text": [
      "16620it [06:09, 44.92it/s, bound: 23 | nc: 2 | ncall: 80327 | eff(%): 20.690 | loglstar:   -inf < -986.374 <    inf | logz: -1002.095 +/-    nan | dlogz:  1.625 >  1.009] /home/jianyao/Likelihood/utils.py:221: RuntimeWarning: invalid value encountered in log\n",
      "  gd = np.sign(np.diag(d) - 1) * np.sqrt(2 * (np.diag(d) - np.log(np.diag(d)) - 1))\n",
      "17103it [06:17, 56.58it/s, bound: 24 | nc: 10 | ncall: 81830 | eff(%): 20.901 | loglstar:   -inf < -986.004 <    inf | logz: -1001.922 +/-    nan | dlogz:  1.137 >  1.009]/home/jianyao/Likelihood/utils.py:221: RuntimeWarning: invalid value encountered in log\n",
      "  gd = np.sign(np.diag(d) - 1) * np.sqrt(2 * (np.diag(d) - np.log(np.diag(d)) - 1))\n",
      "17253it [06:19, 45.49it/s, +1000 | bound: 25 | nc: 1 | ncall: 82227 | eff(%): 22.198 | loglstar:   -inf < -984.079 <    inf | logz: -1001.457 +/-    nan | dlogz:  0.001 >  1.009]\n"
     ]
    }
   ],
   "source": [
    "sampler = dynesty.NestedSampler(log_likelihood, prior, 3, nlive=1000)\n",
    "sampler.run_nested()\n",
    "results = sampler.results"
   ]
  },
  {
   "cell_type": "code",
   "execution_count": null,
   "metadata": {},
   "outputs": [],
   "source": []
  },
  {
   "cell_type": "code",
   "execution_count": 2341,
   "metadata": {
    "ExecuteTime": {
     "end_time": "2020-07-10T11:16:26.198127Z",
     "start_time": "2020-07-10T11:16:26.192682Z"
    }
   },
   "outputs": [],
   "source": [
    "truth = np.array([0.05, -3.0, 1.59])"
   ]
  },
  {
   "cell_type": "code",
   "execution_count": 2112,
   "metadata": {
    "ExecuteTime": {
     "end_time": "2020-07-06T15:30:05.993997Z",
     "start_time": "2020-07-06T15:30:05.990575Z"
    }
   },
   "outputs": [],
   "source": [
    "# fig, axes = plt.subplots(3, 3, figsize=(15, 10))\n",
    "# axes = axes.reshape((3, 3)) \n",
    "\n",
    "# dyplot.traceplot(results, truths=truth,\n",
    "#                              truth_color='black', show_titles=True,\n",
    "#                              trace_cmap='coolwarm', title_fmt='.4f',connect=True, fig = (fig, axes))\n",
    "\n",
    "# # plt.savefig('./fig_results/dynesty/only_synctron_-1e30.pdf', format = 'pdf')"
   ]
  },
  {
   "cell_type": "code",
   "execution_count": 2322,
   "metadata": {
    "ExecuteTime": {
     "end_time": "2020-07-10T09:03:42.633807Z",
     "start_time": "2020-07-10T09:03:42.628882Z"
    }
   },
   "outputs": [],
   "source": [
    "sig1 = [0.16, 0.5, 0.84]; sig2 = [0.021, 0.5, 0.979];"
   ]
  },
  {
   "cell_type": "markdown",
   "metadata": {},
   "source": [
    "#### (cl + fl) as new cl"
   ]
  },
  {
   "cell_type": "markdown",
   "metadata": {},
   "source": [
    "In this case, foreground are treated as a kind of new noise, and increase the error."
   ]
  },
  {
   "cell_type": "code",
   "execution_count": 2342,
   "metadata": {
    "ExecuteTime": {
     "end_time": "2020-07-10T11:16:31.632169Z",
     "start_time": "2020-07-10T11:16:28.849827Z"
    }
   },
   "outputs": [
    {
     "data": {
      "text/plain": [
       "(<Figure size 1080x720 with 9 Axes>,\n",
       " array([[<matplotlib.axes._subplots.AxesSubplot object at 0x7fa2b39f35f8>,\n",
       "         <matplotlib.axes._subplots.AxesSubplot object at 0x7fa2bb7760f0>,\n",
       "         <matplotlib.axes._subplots.AxesSubplot object at 0x7fa2b69765c0>],\n",
       "        [<matplotlib.axes._subplots.AxesSubplot object at 0x7fa2b65e3588>,\n",
       "         <matplotlib.axes._subplots.AxesSubplot object at 0x7fa2bb6726d8>,\n",
       "         <matplotlib.axes._subplots.AxesSubplot object at 0x7fa2b9189ac8>],\n",
       "        [<matplotlib.axes._subplots.AxesSubplot object at 0x7fa2b9188080>,\n",
       "         <matplotlib.axes._subplots.AxesSubplot object at 0x7fa2b33435c0>,\n",
       "         <matplotlib.axes._subplots.AxesSubplot object at 0x7fa2b334bb70>]],\n",
       "       dtype=object))"
      ]
     },
     "execution_count": 2342,
     "metadata": {},
     "output_type": "execute_result"
    },
    {
     "data": {
      "image/png": "[encoded data removed]",
      "text/plain": [
       "<Figure size 1080x720 with 9 Axes>"
      ]
     },
     "metadata": {
      "needs_background": "light"
     },
     "output_type": "display_data"
    }
   ],
   "source": [
    "labels = ['r',r'$\\beta_s$',r'$\\beta_d$']\n",
    "fig, axes = plt.subplots(3, 3, figsize=(15, 10))\n",
    "axes = axes.reshape((3, 3)) \n",
    "\n",
    "dyplot.cornerplot(results, truths=truth, fig = (fig, axes), title_fmt='.4f', show_titles=True,\n",
    "                 labels = labels,quantiles = sig2, quantiles_2d = [0.4,0.85]) #0.1, 0.4, 0.65, 0.85\n",
    "# plt.savefig('./fig_results/dynesty/cl+fl_beta_s_n3p3_beta_d_1p59_new_units_2sigma.pdf', format = 'pdf')"
   ]
  },
  {
   "cell_type": "code",
   "execution_count": null,
   "metadata": {},
   "outputs": [],
   "source": []
  },
  {
   "cell_type": "markdown",
   "metadata": {},
   "source": [
    "#### (cl_hat - fl ) as new cl_hat"
   ]
  },
  {
   "cell_type": "code",
   "execution_count": 2404,
   "metadata": {
    "ExecuteTime": {
     "end_time": "2020-07-10T13:46:03.602196Z",
     "start_time": "2020-07-10T13:46:00.805208Z"
    }
   },
   "outputs": [
    {
     "data": {
      "text/plain": [
       "(<Figure size 1080x720 with 9 Axes>,\n",
       " array([[<matplotlib.axes._subplots.AxesSubplot object at 0x7fa2aabab3c8>,\n",
       "         <matplotlib.axes._subplots.AxesSubplot object at 0x7fa2aa667cf8>,\n",
       "         <matplotlib.axes._subplots.AxesSubplot object at 0x7fa2ab00beb8>],\n",
       "        [<matplotlib.axes._subplots.AxesSubplot object at 0x7fa2a9cf0048>,\n",
       "         <matplotlib.axes._subplots.AxesSubplot object at 0x7fa2a9ceb278>,\n",
       "         <matplotlib.axes._subplots.AxesSubplot object at 0x7fa2a9c824a8>],\n",
       "        [<matplotlib.axes._subplots.AxesSubplot object at 0x7fa2a9c946d8>,\n",
       "         <matplotlib.axes._subplots.AxesSubplot object at 0x7fa2a9cb38d0>,\n",
       "         <matplotlib.axes._subplots.AxesSubplot object at 0x7fa2a9c58b38>]],\n",
       "       dtype=object))"
      ]
     },
     "execution_count": 2404,
     "metadata": {},
     "output_type": "execute_result"
    },
    {
     "data": {
      "image/png": "[encoded data removed]",
      "text/plain": [
       "<Figure size 1080x720 with 9 Axes>"
      ]
     },
     "metadata": {
      "needs_background": "light"
     },
     "output_type": "display_data"
    }
   ],
   "source": [
    "labels = ['r',r'$\\beta_s$',r'$\\beta_d$']\n",
    "fig, axes = plt.subplots(3, 3, figsize=(15, 10))\n",
    "axes = axes.reshape((3, 3)) \n",
    "\n",
    "dyplot.cornerplot(results,  truths=truth, fig = (fig, axes), title_fmt='.4f', show_titles=True,\n",
    "                 labels = labels,quantiles = sig2, quantiles_2d = [0.4,0.85]) #0.1, 0.4, 0.65, 0.85\n",
    "\n",
    "# plt.savefig('./fig_results/dynesty/cl_hat-fl_beta_s_n3p3_beta_d_1p59_new_units_2sigma.pdf', format = 'pdf')"
   ]
  },
  {
   "cell_type": "code",
   "execution_count": null,
   "metadata": {},
   "outputs": [],
   "source": []
  },
  {
   "cell_type": "code",
   "execution_count": null,
   "metadata": {},
   "outputs": [],
   "source": []
  },
  {
   "cell_type": "code",
   "execution_count": 2298,
   "metadata": {
    "ExecuteTime": {
     "end_time": "2020-07-09T20:04:45.483752Z",
     "start_time": "2020-07-09T20:04:41.088065Z"
    }
   },
   "outputs": [
    {
     "data": {
      "text/plain": [
       "(<Figure size 1080x720 with 9 Axes>,\n",
       " array([[<matplotlib.axes._subplots.AxesSubplot object at 0x7fa2ba8d89e8>,\n",
       "         <matplotlib.axes._subplots.AxesSubplot object at 0x7fa2bad007b8>,\n",
       "         <matplotlib.axes._subplots.AxesSubplot object at 0x7fa2ba683a90>],\n",
       "        [<matplotlib.axes._subplots.AxesSubplot object at 0x7fa2ba2ee438>,\n",
       "         <matplotlib.axes._subplots.AxesSubplot object at 0x7fa2ba2d0668>,\n",
       "         <matplotlib.axes._subplots.AxesSubplot object at 0x7fa2ba2fd898>],\n",
       "        [<matplotlib.axes._subplots.AxesSubplot object at 0x7fa2ba28dac8>,\n",
       "         <matplotlib.axes._subplots.AxesSubplot object at 0x7fa2ba2a6cc0>,\n",
       "         <matplotlib.axes._subplots.AxesSubplot object at 0x7fa2ba24bf28>]],\n",
       "       dtype=object))"
      ]
     },
     "execution_count": 2298,
     "metadata": {},
     "output_type": "execute_result"
    },
    {
     "data": {
      "image/png": "[encoded data removed]",
      "text/plain": [
       "<Figure size 1080x720 with 9 Axes>"
      ]
     },
     "metadata": {
      "needs_background": "light"
     },
     "output_type": "display_data"
    }
   ],
   "source": [
    "labels = ['r',r'$\\beta_s$',r'$\\beta_d$']\n",
    "fig, axes = plt.subplots(3, 3, figsize=(15, 10))\n",
    "axes = axes.reshape((3, 3)) \n",
    "\n",
    "dyplot.cornerplot(results,  truths=truth, fig = (fig, axes), title_fmt='.4f', show_titles=True,\n",
    "                 labels = labels,quantiles = sig1, quantiles_2d = [0.4,0.85]) #0.1, 0.4, 0.65, 0.85\n",
    "\n",
    "# plt.savefig('./fig_results/dynesty/cl_hat-fl_beta_s_n3p3_beta_d_1p59_new_units.pdf', format = 'pdf')"
   ]
  },
  {
   "cell_type": "code",
   "execution_count": 1532,
   "metadata": {
    "ExecuteTime": {
     "end_time": "2020-07-02T21:54:13.207184Z",
     "start_time": "2020-07-02T21:54:13.199765Z"
    }
   },
   "outputs": [],
   "source": [
    "from dynesty import utils as dyfunc \n",
    "\n",
    "samples, weights = results.samples, np.exp(results.logwt - results.logz[-1])\n",
    "mean, cov = dyfunc.mean_and_cov(samples, weights) "
   ]
  },
  {
   "cell_type": "code",
   "execution_count": 1533,
   "metadata": {
    "ExecuteTime": {
     "end_time": "2020-07-02T21:54:13.934107Z",
     "start_time": "2020-07-02T21:54:13.930581Z"
    }
   },
   "outputs": [
    {
     "data": {
      "text/plain": [
       "array([0.05038273])"
      ]
     },
     "execution_count": 1533,
     "metadata": {},
     "output_type": "execute_result"
    }
   ],
   "source": [
    "mean"
   ]
  },
  {
   "cell_type": "code",
   "execution_count": 1513,
   "metadata": {
    "ExecuteTime": {
     "end_time": "2020-07-02T20:44:31.530395Z",
     "start_time": "2020-07-02T20:44:31.523700Z"
    }
   },
   "outputs": [
    {
     "data": {
      "text/plain": [
       "array([[0.00118992]])"
      ]
     },
     "execution_count": 1513,
     "metadata": {},
     "output_type": "execute_result"
    }
   ],
   "source": [
    "np.sqrt(cov)"
   ]
  },
  {
   "cell_type": "markdown",
   "metadata": {},
   "source": [
    "## Test evaluate likelihood function"
   ]
  },
  {
   "cell_type": "code",
   "execution_count": 1733,
   "metadata": {
    "ExecuteTime": {
     "end_time": "2020-07-04T13:36:22.876898Z",
     "start_time": "2020-07-04T13:36:22.872767Z"
    }
   },
   "outputs": [],
   "source": [
    "from utils import calc_vecp as calc_vecp"
   ]
  }
 ],
 "metadata": {
  "kernelspec": {
   "display_name": "Python 3",
   "language": "python",
   "name": "python3"
  },
  "language_info": {
   "codemirror_mode": {
    "name": "ipython",
    "version": 3
   },
   "file_extension": ".py",
   "mimetype": "text/x-python",
   "name": "python",
   "nbconvert_exporter": "python",
   "pygments_lexer": "ipython3",
   "version": "3.7.3"
  },
  "toc": {
   "base_numbering": 1,
   "nav_menu": {},
   "number_sections": true,
   "sideBar": false,
   "skip_h1_title": false,
   "title_cell": "Table of Contents",
   "title_sidebar": "Contents",
   "toc_cell": false,
   "toc_position": {
    "height": "47.2585px",
    "left": "1543.44px",
    "top": "110.284px",
    "width": "158.793px"
   },
   "toc_section_display": false,
   "toc_window_display": true
  },
  "varInspector": {
   "cols": {
    "lenName": 16,
    "lenType": 16,
    "lenVar": 40
   },
   "kernels_config": {
    "python": {
     "delete_cmd_postfix": "",
     "delete_cmd_prefix": "del ",
     "library": "var_list.py",
     "varRefreshCmd": "print(var_dic_list())"
    },
    "r": {
     "delete_cmd_postfix": ") ",
     "delete_cmd_prefix": "rm(",
     "library": "var_list.r",
     "varRefreshCmd": "cat(var_dic_list()) "
    }
   },
   "position": {
    "height": "449px",
    "left": "1015px",
    "right": "20px",
    "top": "341px",
    "width": "454px"
   },
   "types_to_exclude": [
    "module",
    "function",
    "builtin_function_or_method",
    "instance",
    "_Feature"
   ],
   "window_display": false
  }
 },
 "nbformat": 4,
 "nbformat_minor": 2
}
