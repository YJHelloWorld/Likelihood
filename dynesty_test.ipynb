{
 "cells": [
  {
   "cell_type": "code",
   "execution_count": 33,
   "metadata": {
    "ExecuteTime": {
     "end_time": "2020-07-06T19:21:20.936249Z",
     "start_time": "2020-07-06T19:21:20.697614Z"
    }
   },
   "outputs": [],
   "source": [
    "import numpy as np\n",
    "import matplotlib.pyplot as plt\n",
    "import healpy as hp\n",
    "import pymaster as nmt\n",
    "%matplotlib inline"
   ]
  },
  {
   "cell_type": "code",
   "execution_count": 17,
   "metadata": {
    "ExecuteTime": {
     "end_time": "2020-07-02T22:32:07.950187Z",
     "start_time": "2020-07-02T22:32:07.946575Z"
    }
   },
   "outputs": [],
   "source": [
    "import dynesty\n",
    "from dynesty import utils as dyfunc\n",
    "from dynesty import plotting as dyplot"
   ]
  },
  {
   "cell_type": "code",
   "execution_count": 30,
   "metadata": {
    "ExecuteTime": {
     "end_time": "2020-07-02T22:34:20.496496Z",
     "start_time": "2020-07-02T22:34:20.488694Z"
    }
   },
   "outputs": [],
   "source": [
    "# Define the dimensionality of our problem.\n",
    "ndim = 1\n",
    "\n",
    "# Define our 3-D correlated multivariate normal likelihood.\n",
    "C = np.identity(ndim)  # set covariance to identity matrix\n",
    "C[C==0] = 0.95  # set off-diagonal terms\n",
    "Cinv = np.linalg.inv(C)  # define the inverse (i.e. the precision matrix)\n",
    "lnorm = -0.5 * (np.log(2 * np.pi) * ndim +\n",
    "                np.log(np.linalg.det(C)))  # ln(normalization)\n",
    "\n",
    "def loglike(x):\n",
    "    \"\"\"The log-likelihood function.\"\"\"\n",
    "\n",
    "    return -0.5 * np.dot(x, np.dot(Cinv, x)) + lnorm\n",
    "\n",
    "# Define our uniform prior.\n",
    "def ptform(u):\n",
    "    \"\"\"Transforms samples `u` drawn from the unit cube to samples to those\n",
    "    from our uniform prior within [-10., 10.) for each variable.\"\"\"\n",
    "\n",
    "    return 10. * (2. * u - 1.)"
   ]
  },
  {
   "cell_type": "code",
   "execution_count": 31,
   "metadata": {
    "ExecuteTime": {
     "end_time": "2020-07-02T22:34:21.447374Z",
     "start_time": "2020-07-02T22:34:20.936873Z"
    }
   },
   "outputs": [
    {
     "name": "stderr",
     "output_type": "stream",
     "text": [
      "1514it [00:00, 3087.03it/s, +500 | bound: 0 | nc: 1 | ncall: 9277 | eff(%): 21.710 | loglstar:   -inf < -0.919 <    inf | logz: -3.041 +/-  0.049 | dlogz:  0.001 >  0.509]\n"
     ]
    }
   ],
   "source": [
    "# \"Static\" nested sampling.\n",
    "sampler = dynesty.NestedSampler(loglike, ptform, ndim)\n",
    "sampler.run_nested()\n",
    "results = sampler.results\n",
    "\n",
    "# # \"Dynamic\" nested sampling.\n",
    "# dsampler = dynesty.DynamicNestedSampler(loglike, ptform, ndim)\n",
    "# dsampler.run_nested()\n",
    "# dresults = dsampler.results"
   ]
  },
  {
   "cell_type": "code",
   "execution_count": 32,
   "metadata": {
    "ExecuteTime": {
     "end_time": "2020-07-02T22:34:21.995092Z",
     "start_time": "2020-07-02T22:34:21.654145Z"
    }
   },
   "outputs": [
    {
     "name": "stdout",
     "output_type": "stream",
     "text": [
      "Quantiles:\n",
      "$x_{1}$ [(0.025, -1.998095468211873), (0.5, 0.013641451641784944), (0.975, 2.0560648755156485)]\n"
     ]
    },
    {
     "data": {
      "image/png": "[encoded data removed]",
      "text/plain": [
       "<Figure size 864x216 with 2 Axes>"
      ]
     },
     "metadata": {
      "needs_background": "light"
     },
     "output_type": "display_data"
    }
   ],
   "source": [
    "# Plot traces and 1-D marginalized posteriors.\n",
    "tfig, taxes = dyplot.traceplot(results, truth_color='black', show_titles=True, title_fmt='.4f',connect=True, verbose = True)"
   ]
  },
  {
   "cell_type": "code",
   "execution_count": 24,
   "metadata": {
    "ExecuteTime": {
     "end_time": "2020-07-02T22:33:16.728386Z",
     "start_time": "2020-07-02T22:33:15.778483Z"
    }
   },
   "outputs": [
    {
     "data": {
      "image/png": "[encoded data removed]",
      "text/plain": [
       "<Figure size 244.8x244.8 with 1 Axes>"
      ]
     },
     "metadata": {
      "needs_background": "light"
     },
     "output_type": "display_data"
    }
   ],
   "source": [
    "# Plot the 2-D marginalized posteriors.\n",
    "cfig, caxes = dyplot.cornerplot(results)"
   ]
  },
  {
   "cell_type": "code",
   "execution_count": 10,
   "metadata": {
    "ExecuteTime": {
     "end_time": "2020-07-02T22:26:57.101175Z",
     "start_time": "2020-07-02T22:26:56.901141Z"
    }
   },
   "outputs": [],
   "source": [
    "# Extract sampling results.\n",
    "samples = results.samples  # samples\n",
    "weights = np.exp(results.logwt - results.logz[-1])  # normalized weights\n",
    "\n",
    "# Compute 10%-90% quantiles.\n",
    "quantiles = [dyfunc.quantile(samps, [0.1, 0.9], weights=weights)\n",
    "             for samps in samples.T]\n",
    "\n",
    "# Compute weighted mean and covariance.\n",
    "mean, cov = dyfunc.mean_and_cov(samples, weights)\n",
    "\n",
    "# Resample weighted samples.\n",
    "samples_equal = dyfunc.resample_equal(samples, weights)\n",
    "\n",
    "# Generate a new set of results with statistical+sampling uncertainties.\n",
    "results_sim = dyfunc.simulate_run(results)"
   ]
  },
  {
   "cell_type": "code",
   "execution_count": 11,
   "metadata": {
    "ExecuteTime": {
     "end_time": "2020-07-02T22:26:59.018551Z",
     "start_time": "2020-07-02T22:26:59.013899Z"
    }
   },
   "outputs": [
    {
     "name": "stdout",
     "output_type": "stream",
     "text": [
      "Code and Methods:\n",
      "================\n",
      "Speagle (2019): ui.adsabs.harvard.edu/abs/2019arXiv190402180S\n",
      "\n",
      "Nested Sampling:\n",
      "===============\n",
      "Skilling (2004): ui.adsabs.harvard.edu/abs/2004AIPC..735..395S\n",
      "Skilling (2006): projecteuclid.org/euclid.ba/1340370944\n",
      "\n",
      "Bounding Method:\n",
      "===============\n",
      "Feroz, Hobson & Bridges (2009): ui.adsabs.harvard.edu/abs/2009MNRAS.398.1601F\n",
      "\n",
      "Sampling Method:\n",
      "===============\n",
      "\n"
     ]
    }
   ],
   "source": [
    "print(sampler.citations)"
   ]
  },
  {
   "cell_type": "code",
   "execution_count": 36,
   "metadata": {
    "ExecuteTime": {
     "end_time": "2020-07-06T19:23:56.974736Z",
     "start_time": "2020-07-06T19:23:37.588188Z"
    }
   },
   "outputs": [
    {
     "name": "stdout",
     "output_type": "stream",
     "text": [
      "NSIDE = 2048\n",
      "ORDERING = NESTED in fits file\n",
      "INDXSCHM = IMPLICIT\n",
      "Ordering converted to RING\n",
      "Ordering converted to RING\n"
     ]
    }
   ],
   "source": [
    "dust_planck = hp.read_map('/fnx/jianyao/Likelihood_data/Planck_data/COM_CompMap_QU-thermaldust-commander_2048_R3.00_full.fits', field = (0,1),h = True)"
   ]
  },
  {
   "cell_type": "code",
   "execution_count": 95,
   "metadata": {
    "ExecuteTime": {
     "end_time": "2020-07-06T20:18:07.259106Z",
     "start_time": "2020-07-06T20:18:07.251274Z"
    }
   },
   "outputs": [
    {
     "data": {
      "text/plain": [
       "array([[ 0.62278044, -0.60969543,  1.0043627 , ...,  1.57100761,\n",
       "        -2.29446888,  1.75508893],\n",
       "       [ 3.8357892 , -3.81855059,  4.50080633, ..., -0.79474467,\n",
       "         0.49129763, -0.47606754]])"
      ]
     },
     "execution_count": 95,
     "metadata": {},
     "output_type": "execute_result"
    }
   ],
   "source": [
    "dust_planck[0]"
   ]
  },
  {
   "cell_type": "code",
   "execution_count": 80,
   "metadata": {
    "ExecuteTime": {
     "end_time": "2020-07-06T20:11:06.817899Z",
     "start_time": "2020-07-06T20:11:06.813744Z"
    }
   },
   "outputs": [],
   "source": [
    "nmtlmax = 1000"
   ]
  },
  {
   "cell_type": "code",
   "execution_count": 81,
   "metadata": {
    "ExecuteTime": {
     "end_time": "2020-07-06T20:11:10.430811Z",
     "start_time": "2020-07-06T20:11:10.425173Z"
    }
   },
   "outputs": [],
   "source": [
    "bl = hp.gauss_beam(fwhm = 5.0/np.pi/180,lmax = 3*2048)"
   ]
  },
  {
   "cell_type": "code",
   "execution_count": 99,
   "metadata": {
    "ExecuteTime": {
     "end_time": "2020-07-06T20:20:10.672301Z",
     "start_time": "2020-07-06T20:20:10.666888Z"
    }
   },
   "outputs": [],
   "source": [
    "b1 = nmt.NmtBin(2048, nlb = 20, lmax = nmtlmax, is_Dell=True)"
   ]
  },
  {
   "cell_type": "code",
   "execution_count": 96,
   "metadata": {
    "ExecuteTime": {
     "end_time": "2020-07-06T20:19:06.346338Z",
     "start_time": "2020-07-06T20:18:17.615953Z"
    }
   },
   "outputs": [],
   "source": [
    "mask = np.ones(12*2048**2)\n",
    "f2 = nmt.NmtField(mask, dust_planck[0]*c353, beam = bl)"
   ]
  },
  {
   "cell_type": "code",
   "execution_count": 100,
   "metadata": {
    "ExecuteTime": {
     "end_time": "2020-07-06T20:20:33.824245Z",
     "start_time": "2020-07-06T20:20:15.832726Z"
    }
   },
   "outputs": [],
   "source": [
    "cl_22 = nmt.compute_full_master(f2, f2, b1)"
   ]
  },
  {
   "cell_type": "code",
   "execution_count": 71,
   "metadata": {
    "ExecuteTime": {
     "end_time": "2020-07-06T20:02:35.569689Z",
     "start_time": "2020-07-06T20:02:35.545762Z"
    }
   },
   "outputs": [],
   "source": [
    "import pysm\n",
    "from pysm.nominal import models\n",
    "from pysm.common import convert_units\n",
    "\n",
    "c353 = convert_units(\"uK_RJ\", \"uK_CMB\", 353)"
   ]
  },
  {
   "cell_type": "code",
   "execution_count": 86,
   "metadata": {
    "ExecuteTime": {
     "end_time": "2020-07-06T20:12:09.981385Z",
     "start_time": "2020-07-06T20:12:08.988722Z"
    }
   },
   "outputs": [],
   "source": [
    "sky_config = {'dust' : models(\"d1\", 512)}\n",
    "sky = pysm.Sky(sky_config);"
   ]
  },
  {
   "cell_type": "code",
   "execution_count": 88,
   "metadata": {
    "ExecuteTime": {
     "end_time": "2020-07-06T20:12:13.604798Z",
     "start_time": "2020-07-06T20:12:13.156770Z"
    }
   },
   "outputs": [],
   "source": [
    "d353 = sky.dust(353)*c353"
   ]
  },
  {
   "cell_type": "code",
   "execution_count": 101,
   "metadata": {
    "ExecuteTime": {
     "end_time": "2020-07-06T20:20:33.883380Z",
     "start_time": "2020-07-06T20:20:33.880631Z"
    }
   },
   "outputs": [],
   "source": [
    "b2 = nmt.NmtBin(512, nlb = 20, lmax = nmtlmax, is_Dell=True)"
   ]
  },
  {
   "cell_type": "code",
   "execution_count": 102,
   "metadata": {
    "ExecuteTime": {
     "end_time": "2020-07-06T20:20:35.675437Z",
     "start_time": "2020-07-06T20:20:34.331440Z"
    }
   },
   "outputs": [],
   "source": [
    "f_pysm = nmt.NmtField(np.ones(12*512**2), d353[1:])\n",
    "cl_pysm = nmt.compute_full_master(f_pysm, f_pysm, b2)"
   ]
  },
  {
   "cell_type": "code",
   "execution_count": 103,
   "metadata": {
    "ExecuteTime": {
     "end_time": "2020-07-06T20:20:37.630235Z",
     "start_time": "2020-07-06T20:20:37.208851Z"
    }
   },
   "outputs": [
    {
     "data": {
      "text/plain": [
       "<matplotlib.legend.Legend at 0x7fb31bfdeb00>"
      ]
     },
     "execution_count": 103,
     "metadata": {},
     "output_type": "execute_result"
    },
    {
     "data": {
      "image/png": "[encoded data removed]",
      "text/plain": [
       "<Figure size 720x576 with 1 Axes>"
      ]
     },
     "metadata": {
      "needs_background": "light"
     },
     "output_type": "display_data"
    }
   ],
   "source": [
    "ell = b.get_effective_ells()\n",
    "\n",
    "plt.figure(figsize = (10,8))\n",
    "plt.loglog(ell, cl_pysm[3], label = 'pysm')\n",
    "plt.loglog(ell, cl_22[3], label = 'Planck data')\n",
    "plt.legend()"
   ]
  },
  {
   "cell_type": "code",
   "execution_count": null,
   "metadata": {},
   "outputs": [],
   "source": []
  }
 ],
 "metadata": {
  "kernelspec": {
   "display_name": "Python 3",
   "language": "python",
   "name": "python3"
  },
  "language_info": {
   "codemirror_mode": {
    "name": "ipython",
    "version": 3
   },
   "file_extension": ".py",
   "mimetype": "text/x-python",
   "name": "python",
   "nbconvert_exporter": "python",
   "pygments_lexer": "ipython3",
   "version": "3.7.3"
  },
  "toc": {
   "base_numbering": 1,
   "nav_menu": {},
   "number_sections": true,
   "sideBar": true,
   "skip_h1_title": false,
   "title_cell": "Table of Contents",
   "title_sidebar": "Contents",
   "toc_cell": false,
   "toc_position": {},
   "toc_section_display": true,
   "toc_window_display": false
  },
  "varInspector": {
   "cols": {
    "lenName": 16,
    "lenType": 16,
    "lenVar": 40
   },
   "kernels_config": {
    "python": {
     "delete_cmd_postfix": "",
     "delete_cmd_prefix": "del ",
     "library": "var_list.py",
     "varRefreshCmd": "print(var_dic_list())"
    },
    "r": {
     "delete_cmd_postfix": ") ",
     "delete_cmd_prefix": "rm(",
     "library": "var_list.r",
     "varRefreshCmd": "cat(var_dic_list()) "
    }
   },
   "types_to_exclude": [
    "module",
    "function",
    "builtin_function_or_method",
    "instance",
    "_Feature"
   ],
   "window_display": false
  }
 },
 "nbformat": 4,
 "nbformat_minor": 2
}
