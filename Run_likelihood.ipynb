{
 "cells": [
  {
   "cell_type": "code",
   "execution_count": 2,
   "metadata": {
    "ExecuteTime": {
     "end_time": "2020-07-14T14:03:09.529164Z",
     "start_time": "2020-07-14T14:03:08.410681Z"
    }
   },
   "outputs": [],
   "source": [
    "from logLikeli import logLike\n",
    "\n",
    "import numpy as np\n",
    "import pymaster as nmt\n",
    "import healpy as hp\n",
    "import numpy as np\n",
    "import matplotlib.pyplot as plt \n",
    "import imp\n",
    "import camb\n",
    "\n",
    "from astropy.io import fits as fits\n",
    "\n",
    "from scipy.linalg import sqrtm\n",
    "\n",
    "from numpy import linalg as LA\n",
    "%matplotlib inline"
   ]
  },
  {
   "cell_type": "code",
   "execution_count": 3,
   "metadata": {
    "ExecuteTime": {
     "end_time": "2020-07-14T14:03:10.126699Z",
     "start_time": "2020-07-14T14:03:10.122521Z"
    }
   },
   "outputs": [],
   "source": [
    "import utils"
   ]
  },
  {
   "cell_type": "code",
   "execution_count": 4,
   "metadata": {
    "ExecuteTime": {
     "end_time": "2020-07-14T14:03:10.685701Z",
     "start_time": "2020-07-14T14:03:10.681291Z"
    }
   },
   "outputs": [],
   "source": [
    "from utils import Marray_EEfirst as Marray\n",
    "from utils import Minv as Minv\n",
    "from utils import evaluateLikelihood as evaluateL"
   ]
  },
  {
   "cell_type": "code",
   "execution_count": 24,
   "metadata": {
    "ExecuteTime": {
     "end_time": "2020-07-17T14:45:07.138343Z",
     "start_time": "2020-07-17T14:45:07.133247Z"
    }
   },
   "outputs": [],
   "source": [
    "import dynesty\n",
    "from dynesty import plotting as dyplot\n",
    "## import planck function \n",
    "from pysm.common import B as pf\n",
    "from Fg_template import sync_ps, dust_ps"
   ]
  },
  {
   "cell_type": "code",
   "execution_count": null,
   "metadata": {},
   "outputs": [],
   "source": []
  },
  {
   "cell_type": "markdown",
   "metadata": {},
   "source": [
    "## data"
   ]
  },
  {
   "cell_type": "code",
   "execution_count": 6,
   "metadata": {
    "ExecuteTime": {
     "end_time": "2020-07-14T14:03:14.611376Z",
     "start_time": "2020-07-14T14:03:14.540833Z"
    }
   },
   "outputs": [],
   "source": [
    "A_d_RJ = np.load('/fnx/jianyao/Likelihood_data/Bandpowers/0629_2fre_Ali/dust_template_353_BB_RJ.npy')\n",
    "dust_dl_RJ = np.load('/fnx/jianyao/Likelihood_data/Bandpowers/0629_2fre_Ali/dust_BB_cross_fre_1p56_from_RJ.npy')\n",
    "\n",
    "A_s_RJ = np.load('/fnx/jianyao/Likelihood_data/Bandpowers/0629_2fre_Ali/sync_template_30_BB_RJ.npy')\n",
    "sync_dl_RJ = np.load('/fnx/jianyao/Likelihood_data/Bandpowers/0629_2fre_Ali/sync_BB_cross_fre_n3p0_from_RJ.npy')"
   ]
  },
  {
   "cell_type": "code",
   "execution_count": null,
   "metadata": {},
   "outputs": [],
   "source": []
  },
  {
   "cell_type": "code",
   "execution_count": 64,
   "metadata": {
    "ExecuteTime": {
     "end_time": "2020-07-17T18:33:36.396252Z",
     "start_time": "2020-07-17T18:33:36.385383Z"
    }
   },
   "outputs": [],
   "source": [
    "path = '/fnx/jianyao/Likelihood_data/Bandpowers/0710_2fre_Ali_real_fore_and_noise'\n",
    "\n",
    "cl_f_all_ali = np.load('%s/cl_f_all.npy'%path); cl_f_ali = np.mean(cl_f_all_ali, axis = 0)\n",
    "\n",
    "## to include the dust and sync cross ps into the fiducial ps. Only BB for now; 2020.07.13\n",
    "# cl_f_all_ali[:,2] +=  sync_dl_RJ + dust_dl_RJ #\n",
    "\n",
    "# cl_hat_all_ali = np.load('%s/cl_hat_fore_all.npy'%path) \n",
    "# cl_hat_0_ali = cl_hat_all_ali[10]\n",
    "\n",
    "cl_hat_all_ali = np.load('/fnx/jianyao/Likelihood_data/Bandpowers/0710_2fre_Ali_real_fore_and_noise/cl_hat_r0_all.npy')\n",
    "\n",
    "nl_all_ali = np.load('%s/nl_all.npy'%path)\n",
    "nl_mean_ali = np.mean(nl_all_ali, axis = 0) ## EE EB BB"
   ]
  },
  {
   "cell_type": "code",
   "execution_count": 8,
   "metadata": {
    "ExecuteTime": {
     "end_time": "2020-07-13T13:51:08.961691Z",
     "start_time": "2020-07-13T13:51:08.922668Z"
    }
   },
   "outputs": [],
   "source": [
    "cl_camb = np.load('/fnx/jianyao/Likelihood_data/Bandpowers/0627_2fre_fullsky/cl_camb_BB_2fre.npy')\n",
    "cl_th_BB_ali = cl_camb + nl_mean_ali[2]"
   ]
  },
  {
   "cell_type": "code",
   "execution_count": 8,
   "metadata": {
    "ExecuteTime": {
     "end_time": "2020-07-14T14:03:24.597964Z",
     "start_time": "2020-07-14T14:03:22.221872Z"
    }
   },
   "outputs": [],
   "source": [
    "lensingB = utils.Gencl(r = 0, raw_cl = True) ## only lensing BB; TT EE BB TE\n",
    "\n",
    "bb_05 = utils.Gencl(r = 0.05, raw_cl = True, tensorBB_only=True) ##only tensor BB; ## "
   ]
  },
  {
   "cell_type": "code",
   "execution_count": 60,
   "metadata": {
    "ExecuteTime": {
     "end_time": "2020-07-09T20:03:06.095576Z",
     "start_time": "2020-07-09T20:03:06.091319Z"
    }
   },
   "outputs": [],
   "source": [
    "cmb_bb = lensingB[2] + bb_05\n",
    "\n",
    "b.bin_cell(cmb_bb[0:nmtlmax+1])"
   ]
  },
  {
   "cell_type": "markdown",
   "metadata": {},
   "source": [
    "## Method"
   ]
  },
  {
   "cell_type": "code",
   "execution_count": 9,
   "metadata": {
    "ExecuteTime": {
     "end_time": "2020-07-14T14:03:27.081222Z",
     "start_time": "2020-07-14T14:03:27.077826Z"
    }
   },
   "outputs": [],
   "source": [
    "from utils import testL as testL"
   ]
  },
  {
   "cell_type": "code",
   "execution_count": 66,
   "metadata": {
    "ExecuteTime": {
     "end_time": "2020-07-17T18:33:56.046021Z",
     "start_time": "2020-07-17T18:33:55.854614Z"
    }
   },
   "outputs": [],
   "source": [
    "LogL = logLike(2,10) \n",
    "\n",
    " ## calculate logL.cl_f; logL.Cov  \n",
    "\n",
    "LogL.M(cl_f_all = cl_f_all_ali, SamNum=500)"
   ]
  },
  {
   "cell_type": "code",
   "execution_count": 63,
   "metadata": {
    "ExecuteTime": {
     "end_time": "2020-07-17T18:32:29.401473Z",
     "start_time": "2020-07-17T18:32:29.397447Z"
    }
   },
   "outputs": [],
   "source": [
    "SamNum = 500"
   ]
  },
  {
   "cell_type": "code",
   "execution_count": 102,
   "metadata": {
    "ExecuteTime": {
     "end_time": "2020-07-13T21:32:51.933360Z",
     "start_time": "2020-07-13T21:32:51.929976Z"
    }
   },
   "outputs": [],
   "source": [
    "# LogL.run(cl_hat=cl_hat_0_ali[2], cl_th=cl_th_BB_ali, sbin=1)"
   ]
  },
  {
   "cell_type": "code",
   "execution_count": 39,
   "metadata": {
    "ExecuteTime": {
     "end_time": "2020-07-17T15:02:05.397122Z",
     "start_time": "2020-07-17T15:02:05.389890Z"
    }
   },
   "outputs": [],
   "source": [
    "nside = 128\n",
    "nmtlmax = 201\n",
    "lmin = 2\n",
    "lmax = 1521\n",
    "\n",
    "Nf = 2\n",
    "\n",
    "b = nmt.NmtBin(nside, nlb=20, is_Dell=True, lmax=nmtlmax)\n",
    "leff = b.get_effective_ells()\n",
    "lbin = len(leff)\n",
    "b_ind = np.arange(1,lbin+1)"
   ]
  },
  {
   "cell_type": "code",
   "execution_count": 67,
   "metadata": {
    "ExecuteTime": {
     "end_time": "2020-07-17T18:34:02.158698Z",
     "start_time": "2020-07-17T18:34:02.152963Z"
    }
   },
   "outputs": [
    {
     "data": {
      "text/plain": [
       "(500, 3, 10, 2, 2)"
      ]
     },
     "execution_count": 67,
     "metadata": {},
     "output_type": "execute_result"
    }
   ],
   "source": [
    "cl_hat_all_ali.shape"
   ]
  },
  {
   "cell_type": "code",
   "execution_count": 76,
   "metadata": {
    "ExecuteTime": {
     "end_time": "2020-07-18T14:41:06.221728Z",
     "start_time": "2020-07-18T14:41:06.216608Z"
    }
   },
   "outputs": [],
   "source": [
    "def prior(cube):\n",
    "    \n",
    "    r = cube[0]*2 - 1\n",
    "    beta_s = cube[1]*2 - 4## from -4 to -2\n",
    "    beta_d = cube[2] + 1 ## from 1 to 2\n",
    "        \n",
    "    return [r, beta_s, beta_d]\n",
    "\n",
    "Mean = np.zeros((100, 3))\n",
    "for n in range(100):\n",
    "    \n",
    "    cl_hat_fore_ali = cl_hat_all_ali[n][2]\n",
    "    def log_likelihood(cube, subtract = False):\n",
    "        r_i = cube[0];\n",
    "        beta_s = cube[1];\n",
    "        beta_d = cube[2];\n",
    "\n",
    "        bb_tensor = bb_05[0:nmtlmax+1]*r_i/0.05 \n",
    "\n",
    "        bb_camb = bb_tensor + lensingB[2][0:nmtlmax+1] ## tensor BB + lensing BB \n",
    "\n",
    "        cl_th_i = b.bin_cell(bb_camb[0:nmtlmax+1])  ## theoretical bandpower \n",
    "        cl_th_test = np.ones((lbin, Nf, Nf));  ## BB cross power spectra\n",
    "        for ell in range(lbin):\n",
    "            cl_th_test[ell] *= cl_th_i[ell]\n",
    "\n",
    "        if subtract:\n",
    "\n",
    "            # add Noise bias N_l to expectation values.########################## Noise level\n",
    "            C_l = cl_th_test + nl_mean_ali[2] \n",
    "\n",
    "            logL = LogL.run(cl_hat=(cl_hat_fore_ali- sync_ps(A_s_RJ, beta_s, 10) - dust_ps(A_d_RJ, beta_d, 10)) , cl_th = C_l,sbin=1);\n",
    "\n",
    "        else:\n",
    "            C_l = cl_th_test + nl_mean_ali[2] + sync_ps(A_s_RJ, beta_s, 10) + dust_ps(A_d_RJ, beta_d, 10);\n",
    "\n",
    "            logL =LogL.run(cl_hat=(cl_hat_fore_ali) , cl_th = C_l, sbin=1);   \n",
    "\n",
    "        return np.real(logL)\n",
    "    \n",
    "    sampler = dynesty.NestedSampler(log_likelihood, prior, 3, nlive=400)\n",
    "    sampler.run_nested()\n",
    "    results = sampler.results\n",
    "\n",
    "    samples, weights = results.samples, np.exp(results.logwt - results.logz[-1])\n",
    "    mean, cov = dyfunc.mean_and_cov(samples, weights) \n",
    "    \n",
    "    Mean[n] = mean"
   ]
  },
  {
   "cell_type": "code",
   "execution_count": 69,
   "metadata": {
    "ExecuteTime": {
     "end_time": "2020-07-18T14:25:35.521606Z",
     "start_time": "2020-07-18T14:25:35.296851Z"
    }
   },
   "outputs": [
    {
     "data": {
      "text/plain": [
       "Text(0, 0.5, 'n')"
      ]
     },
     "execution_count": 69,
     "metadata": {},
     "output_type": "execute_result"
    },
    {
     "data": {
      "image/png": "[encoded data removed]",
      "text/plain": [
       "<Figure size 720x576 with 1 Axes>"
      ]
     },
     "metadata": {
      "needs_background": "light"
     },
     "output_type": "display_data"
    }
   ],
   "source": [
    "plt.figure(figsize = (10,8))\n",
    "plt.hist(Mean[:,0])\n",
    "plt.xlabel('r', fontsize = 15); plt.ylabel('n', fontsize = 15)"
   ]
  },
  {
   "cell_type": "code",
   "execution_count": 74,
   "metadata": {
    "ExecuteTime": {
     "end_time": "2020-07-18T14:31:10.254729Z",
     "start_time": "2020-07-18T14:31:10.247070Z"
    }
   },
   "outputs": [
    {
     "data": {
      "text/plain": [
       "0.0035538644729528274"
      ]
     },
     "execution_count": 74,
     "metadata": {},
     "output_type": "execute_result"
    }
   ],
   "source": [
    "np.std(Mean[:,0])"
   ]
  },
  {
   "cell_type": "code",
   "execution_count": 71,
   "metadata": {
    "ExecuteTime": {
     "end_time": "2020-07-18T14:26:59.046781Z",
     "start_time": "2020-07-18T14:26:59.040112Z"
    }
   },
   "outputs": [
    {
     "data": {
      "text/plain": [
       "0.0022414321753012906"
      ]
     },
     "execution_count": 71,
     "metadata": {},
     "output_type": "execute_result"
    }
   ],
   "source": [
    "np.mean(Mean[:,0])"
   ]
  },
  {
   "cell_type": "code",
   "execution_count": 72,
   "metadata": {
    "ExecuteTime": {
     "end_time": "2020-07-18T14:27:30.737996Z",
     "start_time": "2020-07-18T14:27:30.492791Z"
    }
   },
   "outputs": [
    {
     "data": {
      "text/plain": [
       "Text(0, 0.5, 'n')"
      ]
     },
     "execution_count": 72,
     "metadata": {},
     "output_type": "execute_result"
    },
    {
     "data": {
      "image/png": "[encoded data removed]",
      "text/plain": [
       "<Figure size 720x576 with 1 Axes>"
      ]
     },
     "metadata": {
      "needs_background": "light"
     },
     "output_type": "display_data"
    }
   ],
   "source": [
    "plt.figure(figsize = (10,8))\n",
    "plt.hist(Mean[:,1])\n",
    "plt.xlabel('beta_s', fontsize = 15); plt.ylabel('n', fontsize = 15)"
   ]
  },
  {
   "cell_type": "code",
   "execution_count": 75,
   "metadata": {
    "ExecuteTime": {
     "end_time": "2020-07-18T14:37:04.679982Z",
     "start_time": "2020-07-18T14:37:04.672971Z"
    }
   },
   "outputs": [
    {
     "data": {
      "text/plain": [
       "1.5492298671684364"
      ]
     },
     "execution_count": 75,
     "metadata": {},
     "output_type": "execute_result"
    }
   ],
   "source": [
    "np.mean(Mean[:,2])"
   ]
  },
  {
   "cell_type": "code",
   "execution_count": 73,
   "metadata": {
    "ExecuteTime": {
     "end_time": "2020-07-18T14:27:39.097812Z",
     "start_time": "2020-07-18T14:27:38.877040Z"
    }
   },
   "outputs": [
    {
     "data": {
      "text/plain": [
       "Text(0, 0.5, 'n')"
      ]
     },
     "execution_count": 73,
     "metadata": {},
     "output_type": "execute_result"
    },
    {
     "data": {
      "image/png": "[encoded data removed]",
      "text/plain": [
       "<Figure size 720x576 with 1 Axes>"
      ]
     },
     "metadata": {
      "needs_background": "light"
     },
     "output_type": "display_data"
    }
   ],
   "source": [
    "plt.figure(figsize = (10,8))\n",
    "plt.hist(Mean[:,2])\n",
    "plt.xlabel('beta_d', fontsize = 15); plt.ylabel('n', fontsize = 15)"
   ]
  },
  {
   "cell_type": "code",
   "execution_count": null,
   "metadata": {},
   "outputs": [],
   "source": []
  },
  {
   "cell_type": "code",
   "execution_count": 32,
   "metadata": {
    "ExecuteTime": {
     "end_time": "2020-07-17T14:50:27.303035Z",
     "start_time": "2020-07-17T14:50:27.298457Z"
    }
   },
   "outputs": [],
   "source": [
    "from dynesty import utils as dyfunc \n",
    "\n",
    "samples, weights = results.samples, np.exp(results.logwt - results.logz[-1])\n",
    "mean, cov = dyfunc.mean_and_cov(samples, weights) "
   ]
  },
  {
   "cell_type": "code",
   "execution_count": 43,
   "metadata": {
    "ExecuteTime": {
     "end_time": "2020-07-17T15:04:39.861322Z",
     "start_time": "2020-07-17T15:04:39.856165Z"
    }
   },
   "outputs": [],
   "source": [
    "truth = np.array([0, -3.0, 1.558])\n",
    "\n",
    "sig1 = [0.16, 0.5, 0.84]; sig2 = [0.021, 0.5, 0.979];"
   ]
  },
  {
   "cell_type": "code",
   "execution_count": 44,
   "metadata": {
    "ExecuteTime": {
     "end_time": "2020-07-17T15:04:45.464103Z",
     "start_time": "2020-07-17T15:04:42.045736Z"
    }
   },
   "outputs": [
    {
     "data": {
      "text/plain": [
       "(<Figure size 1080x720 with 9 Axes>,\n",
       " array([[<matplotlib.axes._subplots.AxesSubplot object at 0x7fcb4832a588>,\n",
       "         <matplotlib.axes._subplots.AxesSubplot object at 0x7fcb482846d8>,\n",
       "         <matplotlib.axes._subplots.AxesSubplot object at 0x7fcb482a5a20>],\n",
       "        [<matplotlib.axes._subplots.AxesSubplot object at 0x7fcb48240f98>,\n",
       "         <matplotlib.axes._subplots.AxesSubplot object at 0x7fcb48262550>,\n",
       "         <matplotlib.axes._subplots.AxesSubplot object at 0x7fcb481fdac8>],\n",
       "        [<matplotlib.axes._subplots.AxesSubplot object at 0x7fcb48221080>,\n",
       "         <matplotlib.axes._subplots.AxesSubplot object at 0x7fcb481c55c0>,\n",
       "         <matplotlib.axes._subplots.AxesSubplot object at 0x7fcb481e8b70>]],\n",
       "       dtype=object))"
      ]
     },
     "execution_count": 44,
     "metadata": {},
     "output_type": "execute_result"
    },
    {
     "data": {
      "image/png": "[encoded data removed]",
      "text/plain": [
       "<Figure size 1080x720 with 9 Axes>"
      ]
     },
     "metadata": {
      "needs_background": "light"
     },
     "output_type": "display_data"
    }
   ],
   "source": [
    "## cl_hat_r0\n",
    "\n",
    "labels = ['r',r'$\\beta_s$',r'$\\beta_d$']\n",
    "fig, axes = plt.subplots(3, 3, figsize=(15, 10))\n",
    "axes = axes.reshape((3, 3)) \n",
    "\n",
    "dyplot.cornerplot(results,  truths=truth, fig = (fig, axes), title_fmt='.4f', show_titles=True,\n",
    "                 labels = labels,quantiles = sig2, quantiles_2d = [0.4,0.85]) #0.1, 0.4, 0.65, 0.85\n",
    "\n",
    "# plt.savefig('./fig_results/dynesty/cl_hat_r0_fiducial_only_CMB_Noise.pdf', format = 'pdf')"
   ]
  }
 ],
 "metadata": {
  "kernelspec": {
   "display_name": "Python 3",
   "language": "python",
   "name": "python3"
  },
  "language_info": {
   "codemirror_mode": {
    "name": "ipython",
    "version": 3
   },
   "file_extension": ".py",
   "mimetype": "text/x-python",
   "name": "python",
   "nbconvert_exporter": "python",
   "pygments_lexer": "ipython3",
   "version": "3.7.3"
  },
  "toc": {
   "base_numbering": 1,
   "nav_menu": {},
   "number_sections": true,
   "sideBar": true,
   "skip_h1_title": false,
   "title_cell": "Table of Contents",
   "title_sidebar": "Contents",
   "toc_cell": false,
   "toc_position": {},
   "toc_section_display": true,
   "toc_window_display": false
  },
  "varInspector": {
   "cols": {
    "lenName": 16,
    "lenType": 16,
    "lenVar": 40
   },
   "kernels_config": {
    "python": {
     "delete_cmd_postfix": "",
     "delete_cmd_prefix": "del ",
     "library": "var_list.py",
     "varRefreshCmd": "print(var_dic_list())"
    },
    "r": {
     "delete_cmd_postfix": ") ",
     "delete_cmd_prefix": "rm(",
     "library": "var_list.r",
     "varRefreshCmd": "cat(var_dic_list()) "
    }
   },
   "types_to_exclude": [
    "module",
    "function",
    "builtin_function_or_method",
    "instance",
    "_Feature"
   ],
   "window_display": false
  }
 },
 "nbformat": 4,
 "nbformat_minor": 2
}
