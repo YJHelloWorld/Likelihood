{
 "cells": [
  {
   "cell_type": "markdown",
   "metadata": {},
   "source": [
    "## Data needed"
   ]
  },
  {
   "cell_type": "markdown",
   "metadata": {},
   "source": [
    "- Theory:\n",
    "\n",
    "> $C_{\\ell}$ : theoretical power spectra from CAMB, values at each single $\\ell$； (lensing BB + r + $\\Lambda CDM$)\n",
    "\n",
    "> $C_{\\ell}^b$ : bandpower for each $\\ell$-bin, using $W$indow function.\n",
    "\n",
    "- Experiment(**Simulation**):\n",
    "\n",
    "> $W$ : window function for each $\\ell$ bin；\n",
    "\n",
    "> $M$ : band power covariance matrix;\n",
    "\n",
    "> $N_{\\ell}$ : noise;\n",
    "\n",
    "> $C_{f,l}$ : fiducial power spectra.\n",
    "\n",
    "- Data\n",
    "\n",
    "> $\\hat {C}_{\\ell} $ : observed data.\n",
    "\n",
    "BB 95 $\\times$ 95 150 $\\times$ 150 95 $\\times$ 150"
   ]
  },
  {
   "cell_type": "code",
   "execution_count": 2,
   "metadata": {
    "ExecuteTime": {
     "end_time": "2020-06-19T15:13:04.781366Z",
     "start_time": "2020-06-19T15:13:04.773527Z"
    }
   },
   "outputs": [],
   "source": [
    "import healpy as hp\n",
    "import numpy as np\n",
    "import matplotlib.pyplot as plt \n",
    "%matplotlib inline"
   ]
  },
  {
   "cell_type": "code",
   "execution_count": null,
   "metadata": {},
   "outputs": [],
   "source": [
    "## To generate one realization of noise maps. \n",
    "SamNum = 20"
   ]
  },
  {
   "cell_type": "code",
   "execution_count": null,
   "metadata": {},
   "outputs": [],
   "source": [
    "nside = 128\n",
    "nmtlmax = 201\n",
    "lmin = 2\n",
    "lmax = 1521"
   ]
  },
  {
   "cell_type": "code",
   "execution_count": null,
   "metadata": {},
   "outputs": [],
   "source": [
    "b = nmt.NmtBin(nside, nlb=20, is_Dell=True, lmax=nmtlmax)\n",
    "leff = b.get_effective_ells()\n",
    "nbin = len(leff)\n",
    "b_ind = np.arange(1,nbin+1)"
   ]
  },
  {
   "cell_type": "code",
   "execution_count": null,
   "metadata": {},
   "outputs": [],
   "source": [
    "lbin = est.lbin"
   ]
  },
  {
   "cell_type": "markdown",
   "metadata": {},
   "source": [
    "## Generate Cl_theory; !!!!!!!!!!!!!!!!! ''' cl, not dl '''"
   ]
  },
  {
   "cell_type": "code",
   "execution_count": null,
   "metadata": {},
   "outputs": [],
   "source": [
    "def Gencl(r = 0.05, raw_cl = True):\n",
    "    '''\n",
    "    Generate the theoretical power spectra using camb\n",
    "    '''\n",
    "    \n",
    "    pars = camb.CAMBparams()\n",
    "    pars.set_cosmology(H0=67.26, ombh2=0.022, omch2=0.1199, mnu=0.06, omk=0, tau=0.078)\n",
    "    pars.InitPower.set_params(As=2.19856*1e-9, ns=0.9652, r = r)\n",
    "    pars.set_for_lmax(3000, lens_potential_accuracy=1)\n",
    "    pars.WantTensors = True\n",
    "    \n",
    "    results = camb.get_results(pars)\n",
    "    powers =results.get_cmb_power_spectra(pars, CMB_unit='muK', raw_cl=raw_cl)\n",
    "    \n",
    "    totCL=powers['total'] ## TT EE BB TE\n",
    "#     ell = np.arange(len(totCL.T[0]))\n",
    "    return totCL.T"
   ]
  },
  {
   "cell_type": "code",
   "execution_count": null,
   "metadata": {},
   "outputs": [],
   "source": [
    "cl_f_i = b.bin_cell(totalcl[2][0:nmtlmax+1])  ## without foreground and noise for now\n",
    "\n",
    "cl_f = np.ones((lbin, Nf, Nf)); cl_th = np.ones((lbin, Nf, Nf));  ## BB cross power spectra\n",
    "for ell in range(lbin):\n",
    "    cl_f[ell] *= cl_f_i[ell]\n",
    "    cl_th[ell] *= cl_f_i[ell]"
   ]
  },
  {
   "cell_type": "code",
   "execution_count": null,
   "metadata": {},
   "outputs": [],
   "source": []
  },
  {
   "cell_type": "markdown",
   "metadata": {},
   "source": [
    "## CMB"
   ]
  },
  {
   "cell_type": "code",
   "execution_count": null,
   "metadata": {},
   "outputs": [],
   "source": [
    "cmb_maps = np.zeros((SamNum, 3, 12*nside**2))\n",
    "for n in range(SamNum):\n",
    "    \n",
    "    cmb_maps[n] = hp.synfast(Gencl(0.05, raw_cl=True), nside = nside, new = True, verbose = False)\n",
    "    \n",
    "np.save('/fnx/jianyao/Likelihood_data/cmb_maps.npy', cmb_maps)"
   ]
  },
  {
   "cell_type": "markdown",
   "metadata": {},
   "source": [
    "## Noise"
   ]
  },
  {
   "cell_type": "markdown",
   "metadata": {},
   "source": [
    "> cl_noise_file = AliCPT_noise.dat\n",
    "\n",
    "39x7 (first line is \\ell bin, what remain are cross bandpowers bwtween frequencies)\n",
    "\n",
    "cl_noise_order = Ali_95_BxAli_95_B Ali_95_BxAli_150_B Ali_95_BxAli_353_B Ali_150_BxAli_150_B Ali_150_BxAli_353_B Ali_353_BxAli_353_B"
   ]
  },
  {
   "cell_type": "code",
   "execution_count": null,
   "metadata": {},
   "outputs": [],
   "source": [
    "nvars = ['/fnx/jianyao/Likelihood_data/ABSData/plkvar_30.fits','/fnx/jianyao/Likelihood_data/ABSData/alivar_95.fits',\n",
    "         '/fnx/jianyao/Likelihood_data/ABSData/alivar_150.fits','/fnx/jianyao/Likelihood_data/ABSData/plkvar_353.fits']\n",
    "\n",
    "Nvar = np.concatenate((n1test, n2test, n3test, n4test), axis = 1)\n",
    "index = np.arange(len(n3test[0]))#index[n2zeros == 0]\n",
    "ali_pix = index[n3test[1] != 0]\n",
    "\n",
    "fres = ['30','95','150','353']\n",
    "for fre in range(4):\n",
    "    \n",
    "    var = np.sqrt(hp.read_map(nvars[fre], field = None, verbose = False))\n",
    "    \n",
    "    nIQU = np.zeros((3, 12*nside**2, SamNum))\n",
    "    \n",
    "    for i in ali_pix:\n",
    "        \n",
    "    #     nIQU[0][i] = 0 #np.random.normal(0, 2.05) ## ignore TT noise for now.\n",
    "        nIQU[1][i] = np.random.normal(0, var[1][i], size = SamNum)\n",
    "        nIQU[2][i] = np.random.normal(0, var[2][i], size = SamNum)\n",
    "\n",
    "    np.save('/fnx/jianyao/Likelihood_data/Noises/Noise_realizations_%sGHz.npy'%(fres[fre]), (nIQU.swapaxes(1,2).swapaxes(0,1))) ## (SamNum,3, npix)"
   ]
  },
  {
   "cell_type": "markdown",
   "metadata": {},
   "source": [
    "## Generate M"
   ]
  }
 ],
 "metadata": {
  "kernelspec": {
   "display_name": "Python 3",
   "language": "python",
   "name": "python3"
  },
  "language_info": {
   "codemirror_mode": {
    "name": "ipython",
    "version": 3
   },
   "file_extension": ".py",
   "mimetype": "text/x-python",
   "name": "python",
   "nbconvert_exporter": "python",
   "pygments_lexer": "ipython3",
   "version": "3.7.3"
  },
  "toc": {
   "base_numbering": 1,
   "nav_menu": {},
   "number_sections": true,
   "sideBar": true,
   "skip_h1_title": false,
   "title_cell": "Table of Contents",
   "title_sidebar": "Contents",
   "toc_cell": false,
   "toc_position": {},
   "toc_section_display": true,
   "toc_window_display": false
  },
  "varInspector": {
   "cols": {
    "lenName": 16,
    "lenType": 16,
    "lenVar": 40
   },
   "kernels_config": {
    "python": {
     "delete_cmd_postfix": "",
     "delete_cmd_prefix": "del ",
     "library": "var_list.py",
     "varRefreshCmd": "print(var_dic_list())"
    },
    "r": {
     "delete_cmd_postfix": ") ",
     "delete_cmd_prefix": "rm(",
     "library": "var_list.r",
     "varRefreshCmd": "cat(var_dic_list()) "
    }
   },
   "types_to_exclude": [
    "module",
    "function",
    "builtin_function_or_method",
    "instance",
    "_Feature"
   ],
   "window_display": false
  }
 },
 "nbformat": 4,
 "nbformat_minor": 2
}
