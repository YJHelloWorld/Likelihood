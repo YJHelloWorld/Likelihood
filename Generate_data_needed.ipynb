{
 "cells": [
  {
   "cell_type": "markdown",
   "metadata": {},
   "source": [
    "## Data needed"
   ]
  },
  {
   "cell_type": "markdown",
   "metadata": {},
   "source": [
    "- Theory:\n",
    "\n",
    "> $C_{\\ell}$ : theoretical power spectra from CAMB, values at each single $\\ell$； (lensing BB + r + $\\Lambda CDM$)\n",
    "\n",
    "> $C_{\\ell}^b$ : bandpower for each $\\ell$-bin, using $W$indow function.\n",
    "\n",
    "- Experiment(**Simulation**):\n",
    "\n",
    "> $W$ : window function for each $\\ell$ bin；\n",
    "\n",
    "> $M$ : band power covariance matrix;\n",
    "\n",
    "> $N_{\\ell}$ : noise;\n",
    "\n",
    "> $C_{f,l}$ : fiducial power spectra.\n",
    "\n",
    "- Data\n",
    "\n",
    "> $\\hat {C}_{\\ell} $ : observed data.\n",
    "\n",
    "BB 95 $\\times$ 95 150 $\\times$ 150 95 $\\times$ 150"
   ]
  },
  {
   "cell_type": "code",
   "execution_count": 73,
   "metadata": {
    "ExecuteTime": {
     "end_time": "2020-06-23T00:44:39.978301Z",
     "start_time": "2020-06-23T00:44:39.968742Z"
    }
   },
   "outputs": [],
   "source": [
    "import healpy as hp\n",
    "import numpy as np\n",
    "import matplotlib.pyplot as plt \n",
    "import pymaster as nmt\n",
    "import bandpowers\n",
    "import utils\n",
    "import camb\n",
    "\n",
    "import imp\n",
    "%matplotlib inline"
   ]
  },
  {
   "cell_type": "code",
   "execution_count": 14,
   "metadata": {
    "ExecuteTime": {
     "end_time": "2020-06-22T22:09:12.292937Z",
     "start_time": "2020-06-22T22:09:12.289010Z"
    }
   },
   "outputs": [],
   "source": [
    "## To generate one realization of noise maps. \n",
    "SamNum = 500"
   ]
  },
  {
   "cell_type": "code",
   "execution_count": 3,
   "metadata": {
    "ExecuteTime": {
     "end_time": "2020-06-22T22:05:46.808158Z",
     "start_time": "2020-06-22T22:05:46.803952Z"
    }
   },
   "outputs": [],
   "source": [
    "nside = 128\n",
    "nmtlmax = 201\n",
    "lmin = 2\n",
    "lmax = 1521"
   ]
  },
  {
   "cell_type": "code",
   "execution_count": 6,
   "metadata": {
    "ExecuteTime": {
     "end_time": "2020-06-22T22:06:06.715821Z",
     "start_time": "2020-06-22T22:06:06.709907Z"
    }
   },
   "outputs": [],
   "source": [
    "b = nmt.NmtBin(nside, nlb=20, is_Dell=True, lmax=nmtlmax)\n",
    "leff = b.get_effective_ells()\n",
    "nbin = len(leff)\n",
    "b_ind = np.arange(1,nbin+1)"
   ]
  },
  {
   "cell_type": "code",
   "execution_count": 9,
   "metadata": {
    "ExecuteTime": {
     "end_time": "2020-06-22T22:07:05.402050Z",
     "start_time": "2020-06-22T22:07:05.156535Z"
    }
   },
   "outputs": [
    {
     "name": "stdout",
     "output_type": "stream",
     "text": [
      "NSIDE = 128\n",
      "ORDERING = RING in fits file\n",
      "INDXSCHM = IMPLICIT\n"
     ]
    }
   ],
   "source": [
    "ali_ma = hp.read_map('/fnx/jianyao/Likelihood_data/ABSData/ali_mask.fits', field = None)"
   ]
  },
  {
   "cell_type": "code",
   "execution_count": 10,
   "metadata": {
    "ExecuteTime": {
     "end_time": "2020-06-22T22:07:09.621852Z",
     "start_time": "2020-06-22T22:07:09.563207Z"
    }
   },
   "outputs": [],
   "source": [
    "est = bandpowers.BPE(mask_in = ali_ma, nside = 128, bin_w = 20, lmax = nmtlmax)"
   ]
  },
  {
   "cell_type": "code",
   "execution_count": 11,
   "metadata": {
    "ExecuteTime": {
     "end_time": "2020-06-22T22:07:10.917324Z",
     "start_time": "2020-06-22T22:07:10.913472Z"
    }
   },
   "outputs": [],
   "source": [
    "lbin = est.lbin"
   ]
  },
  {
   "cell_type": "markdown",
   "metadata": {},
   "source": [
    "## Generate Cl_theory; "
   ]
  },
  {
   "cell_type": "code",
   "execution_count": 17,
   "metadata": {
    "ExecuteTime": {
     "end_time": "2020-06-22T22:11:11.495373Z",
     "start_time": "2020-06-22T22:11:11.485696Z"
    }
   },
   "outputs": [],
   "source": [
    "def Gencl(r = 0.05, raw_cl = True):\n",
    "    '''\n",
    "    Generate the theoretical power spectra using camb\n",
    "    '''\n",
    "    \n",
    "    pars = camb.CAMBparams()\n",
    "    pars.set_cosmology(H0=67.26, ombh2=0.022, omch2=0.1199, mnu=0.06, omk=0, tau=0.078)\n",
    "    pars.InitPower.set_params(As=2.19856*1e-9, ns=0.9652, r = r)\n",
    "    pars.set_for_lmax(3000, lens_potential_accuracy=1)\n",
    "    pars.WantTensors = True\n",
    "    \n",
    "    results = camb.get_results(pars)\n",
    "    powers =results.get_cmb_power_spectra(pars, CMB_unit='muK', raw_cl=raw_cl)\n",
    "    \n",
    "    totCL=powers['total'] ## TT EE BB TE\n",
    "#     ell = np.arange(len(totCL.T[0]))\n",
    "    return totCL.T"
   ]
  },
  {
   "cell_type": "code",
   "execution_count": null,
   "metadata": {},
   "outputs": [],
   "source": [
    "totalcl = Gencl(0.05, raw_cl=False)"
   ]
  },
  {
   "cell_type": "code",
   "execution_count": null,
   "metadata": {},
   "outputs": [],
   "source": [
    "cl_f_i = b.bin_cell(totalcl[2][0:nmtlmax+1])  ## without foreground and noise for now\n",
    "\n",
    "cl_f = np.ones((lbin, Nf, Nf)); cl_th = np.ones((lbin, Nf, Nf));  ## BB cross power spectra\n",
    "for ell in range(lbin):\n",
    "    cl_f[ell] *= cl_f_i[ell]\n",
    "    cl_th[ell] *= cl_f_i[ell]"
   ]
  },
  {
   "cell_type": "code",
   "execution_count": null,
   "metadata": {},
   "outputs": [],
   "source": []
  },
  {
   "cell_type": "markdown",
   "metadata": {},
   "source": [
    "## CMB"
   ]
  },
  {
   "cell_type": "code",
   "execution_count": 34,
   "metadata": {
    "ExecuteTime": {
     "end_time": "2020-06-22T22:30:03.204656Z",
     "start_time": "2020-06-22T22:30:03.199094Z"
    }
   },
   "outputs": [
    {
     "name": "stdout",
     "output_type": "stream",
     "text": [
      "000\n",
      "001\n",
      "002\n",
      "003\n",
      "004\n"
     ]
    }
   ],
   "source": [
    "for i in range(5):\n",
    "    print('%03d'%i)"
   ]
  },
  {
   "cell_type": "code",
   "execution_count": 36,
   "metadata": {
    "ExecuteTime": {
     "end_time": "2020-06-22T22:40:02.938361Z",
     "start_time": "2020-06-22T22:30:44.326966Z"
    }
   },
   "outputs": [],
   "source": [
    "for n in range(SamNum):\n",
    "    \n",
    "    cmb_map_i = hp.synfast(Gencl(0.05, raw_cl=False), nside = nside, new = True, verbose = False)\n",
    "    \n",
    "    np.save('/fnx/jianyao/Likelihood_data/Simulations/CMB/cmb_maps_mc_%03d.npy'%n, cmb_map_i)"
   ]
  },
  {
   "cell_type": "markdown",
   "metadata": {},
   "source": [
    "## Noise"
   ]
  },
  {
   "cell_type": "markdown",
   "metadata": {},
   "source": [
    "> cl_noise_file = AliCPT_noise.dat\n",
    "\n",
    "39x7 (first line is \\ell bin, what remain are cross bandpowers bwtween frequencies)\n",
    "\n",
    "cl_noise_order = Ali_95_BxAli_95_B Ali_95_BxAli_150_B Ali_95_BxAli_353_B Ali_150_BxAli_150_B Ali_150_BxAli_353_B Ali_353_BxAli_353_B"
   ]
  },
  {
   "cell_type": "code",
   "execution_count": 42,
   "metadata": {
    "ExecuteTime": {
     "end_time": "2020-06-22T23:36:47.007028Z",
     "start_time": "2020-06-22T23:35:33.538027Z"
    }
   },
   "outputs": [],
   "source": [
    "nvars = ['/fnx/jianyao/Likelihood_data/ABSData/plkvar_30.fits','/fnx/jianyao/Likelihood_data/ABSData/alivar_95.fits',\n",
    "         '/fnx/jianyao/Likelihood_data/ABSData/alivar_150.fits','/fnx/jianyao/Likelihood_data/ABSData/plkvar_353.fits']\n",
    "\n",
    "# Nvar = np.concatenate((n1test, n2test, n3test, n4test), axis = 1)\n",
    "\n",
    "n2test = hp.read_map(nvars[2], field = None, verbose = False)\n",
    "index = np.arange(len(n2test[0]))#index[n2zeros == 0]\n",
    "ali_pix = index[n2test[1] != 0]\n",
    "\n",
    "fres = ['30','95','150','353']\n",
    "for fre in range(4):\n",
    "    \n",
    "    var = np.sqrt(hp.read_map(nvars[fre], field = None, verbose = False))\n",
    "    \n",
    "    nIQU = np.zeros((3, 12*nside**2, SamNum))\n",
    "    \n",
    "    for i in ali_pix:\n",
    "        \n",
    "        nIQU[0][i] = np.random.normal(0, var[0][i], size = SamNum)  #np.random.normal(0, 2.05) ## ignore TT noise for now.\n",
    "        nIQU[1][i] = np.random.normal(0, var[1][i], size = SamNum)\n",
    "        nIQU[2][i] = np.random.normal(0, var[2][i], size = SamNum)\n",
    "\n",
    "    np.save('/fnx/jianyao/Likelihood_data/Simulations/Noises/Noise_realizations_%sGHz.npy'%(fres[fre]), (nIQU.swapaxes(1,2).swapaxes(0,1))) ## (SamNum,3, npix)"
   ]
  },
  {
   "cell_type": "markdown",
   "metadata": {
    "ExecuteTime": {
     "end_time": "2020-06-22T23:47:00.438899Z",
     "start_time": "2020-06-22T23:47:00.434971Z"
    }
   },
   "source": [
    "## Calculate the correlation between different lbin"
   ]
  },
  {
   "cell_type": "code",
   "execution_count": 91,
   "metadata": {
    "ExecuteTime": {
     "end_time": "2020-06-23T00:48:53.812956Z",
     "start_time": "2020-06-23T00:48:53.532458Z"
    }
   },
   "outputs": [],
   "source": [
    "est = bandpowers.BPE(mask_in = ali_ma, nside = 128, bin_w = 20, lmax = nmtlmax, wsp = True)"
   ]
  },
  {
   "cell_type": "code",
   "execution_count": null,
   "metadata": {},
   "outputs": [],
   "source": [
    "noise_150 = np.load('/fnx/jianyao/Likelihood_data/Simulations/Noises/Noise_realizations_150GHz.npy')"
   ]
  },
  {
   "cell_type": "code",
   "execution_count": 106,
   "metadata": {
    "ExecuteTime": {
     "end_time": "2020-06-23T00:58:15.390336Z",
     "start_time": "2020-06-23T00:57:20.703735Z"
    }
   },
   "outputs": [],
   "source": [
    "cls_all = np.zeros((SamNum, 6, lbin))\n",
    "\n",
    "for n in range(SamNum):\n",
    "    ''' mark '''\n",
    "    cmb_i = np.load('/fnx/jianyao/Likelihood_data/Simulations/CMB/cmb_maps_mc_%03d.npy'%n)\n",
    "    \n",
    "    total_i = cmb_i + noise_150[n]\n",
    "    \n",
    "    cls_all[n] = est.Auto_TEB(total_i)\n",
    "    \n",
    "#     cl_hat_all[n] = est.Cross_EB(total_i)## EE EB BB-mode "
   ]
  },
  {
   "cell_type": "code",
   "execution_count": 114,
   "metadata": {
    "ExecuteTime": {
     "end_time": "2020-06-23T01:03:10.522399Z",
     "start_time": "2020-06-23T01:03:10.516645Z"
    }
   },
   "outputs": [],
   "source": [
    "cov = np.corrcoef(cls_all[:,5,:].T)"
   ]
  },
  {
   "cell_type": "code",
   "execution_count": 115,
   "metadata": {
    "ExecuteTime": {
     "end_time": "2020-06-23T01:03:11.341035Z",
     "start_time": "2020-06-23T01:03:11.058026Z"
    }
   },
   "outputs": [
    {
     "data": {
      "text/plain": [
       "<matplotlib.colorbar.Colorbar at 0x7f21f83748d0>"
      ]
     },
     "execution_count": 115,
     "metadata": {},
     "output_type": "execute_result"
    },
    {
     "data": {
      "image/png": "[encoded data removed]",
      "text/plain": [
       "<Figure size 720x720 with 2 Axes>"
      ]
     },
     "metadata": {
      "needs_background": "light"
     },
     "output_type": "display_data"
    }
   ],
   "source": [
    "plt.figure(figsize = (10,10))\n",
    "plt.imshow(cov, cmap = 'coolwarm', vmin = -1, vmax = 1)\n",
    "plt.colorbar()"
   ]
  },
  {
   "cell_type": "markdown",
   "metadata": {},
   "source": [
    "## Generate M"
   ]
  }
 ],
 "metadata": {
  "kernelspec": {
   "display_name": "Python 3",
   "language": "python",
   "name": "python3"
  },
  "language_info": {
   "codemirror_mode": {
    "name": "ipython",
    "version": 3
   },
   "file_extension": ".py",
   "mimetype": "text/x-python",
   "name": "python",
   "nbconvert_exporter": "python",
   "pygments_lexer": "ipython3",
   "version": "3.7.3"
  },
  "toc": {
   "base_numbering": 1,
   "nav_menu": {},
   "number_sections": true,
   "sideBar": true,
   "skip_h1_title": false,
   "title_cell": "Table of Contents",
   "title_sidebar": "Contents",
   "toc_cell": false,
   "toc_position": {},
   "toc_section_display": true,
   "toc_window_display": false
  },
  "varInspector": {
   "cols": {
    "lenName": 16,
    "lenType": 16,
    "lenVar": 40
   },
   "kernels_config": {
    "python": {
     "delete_cmd_postfix": "",
     "delete_cmd_prefix": "del ",
     "library": "var_list.py",
     "varRefreshCmd": "print(var_dic_list())"
    },
    "r": {
     "delete_cmd_postfix": ") ",
     "delete_cmd_prefix": "rm(",
     "library": "var_list.r",
     "varRefreshCmd": "cat(var_dic_list()) "
    }
   },
   "types_to_exclude": [
    "module",
    "function",
    "builtin_function_or_method",
    "instance",
    "_Feature"
   ],
   "window_display": false
  }
 },
 "nbformat": 4,
 "nbformat_minor": 2
}
