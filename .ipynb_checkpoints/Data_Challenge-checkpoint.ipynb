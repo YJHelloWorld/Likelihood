{
 "cells": [
  {
   "cell_type": "code",
   "execution_count": 3,
   "metadata": {
    "ExecuteTime": {
     "end_time": "2020-08-20T17:07:07.513080Z",
     "start_time": "2020-08-20T17:07:07.088293Z"
    }
   },
   "outputs": [],
   "source": [
    "import healpy as hp\n",
    "import numpy as np\n",
    "import matplotlib.pyplot as plt\n",
    "import imp\n",
    "import pymaster as nmt\n",
    "import utils\n",
    "import pysm\n",
    "from pysm.nominal import models\n",
    "from pysm.common import convert_units\n",
    "\n",
    "%matplotlib inline"
   ]
  },
  {
   "cell_type": "code",
   "execution_count": 158,
   "metadata": {
    "ExecuteTime": {
     "end_time": "2020-08-22T14:59:52.185821Z",
     "start_time": "2020-08-22T14:59:52.181544Z"
    }
   },
   "outputs": [],
   "source": [
    "import h5py\n",
    "import logLikeli\n",
    "from logLikeli import logLike\n",
    "from BP_beam import BPE as BPE"
   ]
  },
  {
   "cell_type": "code",
   "execution_count": 5,
   "metadata": {
    "ExecuteTime": {
     "end_time": "2020-08-20T17:07:08.497626Z",
     "start_time": "2020-08-20T17:07:08.494222Z"
    }
   },
   "outputs": [],
   "source": [
    "import time"
   ]
  },
  {
   "cell_type": "code",
   "execution_count": 6,
   "metadata": {
    "ExecuteTime": {
     "end_time": "2020-08-20T17:07:08.894633Z",
     "start_time": "2020-08-20T17:07:08.889915Z"
    }
   },
   "outputs": [],
   "source": [
    "from Fg_template import sync_ps as sync_ps_v0\n",
    "from Fg_template import dust_ps as dust_ps_v0\n",
    "from Fg_template import corre_fore_simple"
   ]
  },
  {
   "cell_type": "code",
   "execution_count": 7,
   "metadata": {
    "ExecuteTime": {
     "end_time": "2020-08-20T17:07:09.340989Z",
     "start_time": "2020-08-20T17:07:09.188487Z"
    }
   },
   "outputs": [],
   "source": [
    "from multiprocessing import Pool, cpu_count\n",
    "\n",
    "import dynesty\n",
    "from dynesty import plotting as dyplot\n",
    "from dynesty import utils as dyfunc \n",
    "\n",
    "from iminuit import Minuit"
   ]
  },
  {
   "cell_type": "markdown",
   "metadata": {},
   "source": [
    "## Parameters"
   ]
  },
  {
   "cell_type": "code",
   "execution_count": 293,
   "metadata": {
    "ExecuteTime": {
     "end_time": "2020-08-23T20:13:04.341278Z",
     "start_time": "2020-08-23T20:13:04.334480Z"
    }
   },
   "outputs": [],
   "source": [
    "nside = 128; \n",
    "bin_w =20;\n",
    "nmtlmax = lmax = 201;\n",
    "beams = [19, 11]\n",
    "SamNum = 50; \n",
    "Nf = 2; nf_ind = 3"
   ]
  },
  {
   "cell_type": "code",
   "execution_count": 295,
   "metadata": {
    "ExecuteTime": {
     "end_time": "2020-08-23T20:13:07.654808Z",
     "start_time": "2020-08-23T20:13:07.652112Z"
    }
   },
   "outputs": [],
   "source": [
    "b = nmt.NmtBin(nside, nlb=bin_w, lmax=lmax, is_Dell = True)\n",
    "\n",
    "lbin = len(b.get_effective_ells())"
   ]
  },
  {
   "cell_type": "code",
   "execution_count": 296,
   "metadata": {
    "ExecuteTime": {
     "end_time": "2020-08-23T20:13:12.055454Z",
     "start_time": "2020-08-23T20:13:09.624298Z"
    }
   },
   "outputs": [],
   "source": [
    "lensingB = utils.Gencl(r = 0, raw_cl = True) ## only lensing BB; TT EE BB TE\n",
    "\n",
    "bb_05 = utils.Gencl(r = 0.05, raw_cl = True, tensorBB_only=True) ##only tensor BB; ## \n",
    "\n",
    "\n",
    "def combine_ps(r):\n",
    "    \n",
    "    '''\n",
    "    Combine the tensor bb and lensing bb power spectrum of CMB.\n",
    "    '''\n",
    "    \n",
    "    bb_tensor = bb_05[0:nmtlmax+1]*r/0.05 \n",
    "\n",
    "    bb_camb = bb_tensor + lensingB[2][0:nmtlmax+1] ## tensor BB + lensing BB \n",
    "\n",
    "    cl_th_i = b.bin_cell(bb_camb[0:nmtlmax+1])  ## theoretical bandpower, use simple window function\n",
    "    cl_th_test = np.ones((lbin, Nf, Nf));  ## BB cross power spectra\n",
    "    for ell in range(lbin):\n",
    "        cl_th_test[ell] *= cl_th_i[ell]\n",
    "        \n",
    "    return cl_th_test"
   ]
  },
  {
   "cell_type": "code",
   "execution_count": 10,
   "metadata": {
    "ExecuteTime": {
     "end_time": "2020-08-20T17:07:14.584519Z",
     "start_time": "2020-08-20T17:07:14.581185Z"
    }
   },
   "outputs": [],
   "source": [
    "rotate = hp.rotator.Rotator(coord=['G','C'])\n",
    "# rotate.rotate_map_pixel(nvar_95_new)"
   ]
  },
  {
   "cell_type": "markdown",
   "metadata": {},
   "source": [
    "## Function"
   ]
  },
  {
   "cell_type": "code",
   "execution_count": 298,
   "metadata": {
    "ExecuteTime": {
     "end_time": "2020-08-23T20:13:34.032323Z",
     "start_time": "2020-08-23T20:13:32.655595Z"
    }
   },
   "outputs": [],
   "source": [
    "mask = hp.ud_grade(hp.read_map('/fnx/jianyao/DataChallenge/AncillaryData/AliCPTWhiteNoiseMatrix/BINARYMASK_95_C_1024.fits', field=None, verbose = False), nside_out=nside)\n",
    "hit = hp.ud_grade(hp.read_map('/fnx/jianyao/DataChallenge/AliCPT/HITMAP.fits',dtype=np.int,verbose=0), nside_out=nside);\n",
    "\n",
    "extra_ratio = 0.1\n",
    "extra = hit>0  # extra mask\n",
    "mask[hit<extra_ratio*max(hit)] = 0\n",
    "extra[hit>extra_ratio*max(hit)] = 0\n",
    "\n",
    "mask_apo = nmt.mask_apodization(mask, 6, apotype='C2')"
   ]
  },
  {
   "cell_type": "code",
   "execution_count": 299,
   "metadata": {
    "ExecuteTime": {
     "end_time": "2020-08-23T20:13:36.685369Z",
     "start_time": "2020-08-23T20:13:35.699365Z"
    }
   },
   "outputs": [],
   "source": [
    "est_b = BPE(mask, nside=nside, bin_w = bin_w, lmax = lmax, beams=[19,11])"
   ]
  },
  {
   "cell_type": "markdown",
   "metadata": {},
   "source": [
    "## Data"
   ]
  },
  {
   "cell_type": "markdown",
   "metadata": {},
   "source": [
    "### foreground template"
   ]
  },
  {
   "cell_type": "markdown",
   "metadata": {
    "heading_collapsed": true
   },
   "source": [
    "#### PySM"
   ]
  },
  {
   "cell_type": "code",
   "execution_count": 12,
   "metadata": {
    "ExecuteTime": {
     "end_time": "2020-08-16T20:15:58.585293Z",
     "start_time": "2020-08-16T20:14:37.882119Z"
    },
    "hidden": true
   },
   "outputs": [],
   "source": [
    "### without beam ???\n",
    "sky_config = {'dust' : models(\"d1\", nside), 'synchrotron' : models(\"s1\", nside)}\n",
    "sky = pysm.Sky(sky_config);\n",
    "\n",
    "s30_RJ = sky.synchrotron(30)\n",
    "\n",
    "s30_RJ = rotate.rotate_map_pixel(s30_RJ);\n",
    "f2_s = nmt.NmtField(mask, s30_RJ[1:3], purify_e=False, purify_b=True)\n",
    "A_s_RJ = nmt.compute_full_master(f2_s, f2_s, b)[3]\n",
    "\n",
    "d353_RJ = sky.dust(353); d353_RJ = rotate.rotate_map_pixel(d353_RJ);\n",
    "f2_d = nmt.NmtField(mask, d353_RJ[1:3], purify_e=False, purify_b=True)\n",
    "A_d_RJ = nmt.compute_full_master(f2_d, f2_d, b)[3]\n",
    "\n",
    "np.save('/fnx/jianyao/DataChallenge/dust_template_353_BB_RJ.npy', A_d_RJ)\n",
    "np.save('/fnx/jianyao/DataChallenge/sync_template_30_BB_RJ.npy', A_s_RJ)"
   ]
  },
  {
   "cell_type": "markdown",
   "metadata": {
    "ExecuteTime": {
     "end_time": "2020-08-20T14:25:50.225672Z",
     "start_time": "2020-08-20T14:25:50.221938Z"
    }
   },
   "source": [
    "#### WMAP-K and HFI-353GHz"
   ]
  },
  {
   "cell_type": "code",
   "execution_count": 304,
   "metadata": {
    "ExecuteTime": {
     "end_time": "2020-08-23T20:14:23.304096Z",
     "start_time": "2020-08-23T20:14:19.788238Z"
    }
   },
   "outputs": [],
   "source": [
    "# 353GHz: 4.944 arc-min\n",
    "Map_353 = hp.ud_grade(hp.read_map('/fnx/jianyao/DataChallenge/SimulatedData/HFI_detector_F353/IQU_BOTH_HFI_detector_F353.fits', field = None, verbose = False)*1e6, nside_out= nside);\n",
    "# K-band: 52.8\n",
    "Map_k = hp.ud_grade(hp.read_map('/fnx/jianyao/DataChallenge/SimulatedData/WMAP_K/IQU_BOTH_WMAP_K.fits', field = None, verbose = False)*1e3, nside_out=nside)"
   ]
  },
  {
   "cell_type": "code",
   "execution_count": 305,
   "metadata": {
    "ExecuteTime": {
     "end_time": "2020-08-23T20:14:25.376009Z",
     "start_time": "2020-08-23T20:14:25.049710Z"
    }
   },
   "outputs": [],
   "source": [
    "bl_k = hp.gauss_beam(52.8/60/180*np.pi, lmax = 3*nside-1)\n",
    "f2_K = nmt.NmtField(mask_apo, Map_k[1:3]*mask, purify_e=False, purify_b=True, beam=bl_k)\n",
    "A_s = nmt.compute_full_master(f2_K, f2_K, b)[3]\n",
    "\n",
    "bl_h = hp.gauss_beam(4.944/60/180*np.pi, lmax = 3*nside-1)\n",
    "f2_h = nmt.NmtField(mask_apo, Map_353[1:3]*mask, purify_e=False, purify_b=True, beam=bl_h)\n",
    "A_d = nmt.compute_full_master(f2_h, f2_h, b)[3]"
   ]
  },
  {
   "cell_type": "code",
   "execution_count": 306,
   "metadata": {
    "ExecuteTime": {
     "end_time": "2020-08-23T20:14:27.400452Z",
     "start_time": "2020-08-23T20:14:27.397751Z"
    }
   },
   "outputs": [],
   "source": [
    "A_d_tem = convert_units('uK_CMB', 'uK_RJ', 353)**2*A_d\n",
    "A_s_tem = convert_units('uK_CMB', 'uK_RJ', 22)**2*A_s"
   ]
  },
  {
   "cell_type": "code",
   "execution_count": 307,
   "metadata": {
    "ExecuteTime": {
     "end_time": "2020-08-23T20:14:29.866763Z",
     "start_time": "2020-08-23T20:14:29.862879Z"
    }
   },
   "outputs": [
    {
     "data": {
      "text/plain": [
       "(10,)"
      ]
     },
     "execution_count": 307,
     "metadata": {},
     "output_type": "execute_result"
    },
    {
     "data": {
      "text/plain": [
       "(10,)"
      ]
     },
     "execution_count": 307,
     "metadata": {},
     "output_type": "execute_result"
    }
   ],
   "source": [
    "A_d_tem.shape"
   ]
  },
  {
   "cell_type": "code",
   "execution_count": 254,
   "metadata": {
    "ExecuteTime": {
     "end_time": "2020-08-23T11:15:54.459081Z",
     "start_time": "2020-08-23T11:15:54.141196Z"
    }
   },
   "outputs": [
    {
     "data": {
      "text/plain": [
       "<matplotlib.legend.Legend at 0x7f2b989937f0>"
      ]
     },
     "execution_count": 254,
     "metadata": {},
     "output_type": "execute_result"
    },
    {
     "data": {
      "image/png": "[encoded data removed]",
      "text/plain": [
       "<Figure size 576x432 with 1 Axes>"
      ]
     },
     "metadata": {
      "needs_background": "light"
     },
     "output_type": "display_data"
    }
   ],
   "source": [
    "plt.figure(figsize = (8,6))\n",
    "plt.loglog(est_b.ell_n, A_s, label = 'WMAP K', )\n",
    "plt.loglog(est_b.ell_n, A_d, label = 'Planck 353')\n",
    "\n",
    "# plt.loglog(est_b.ell_n, A_s_RJ, label = 'PySM sync 30')\n",
    "# plt.loglog(est_b.ell_n, A_d_RJ, label = 'PySM dust 353')\n",
    "# plt.xlim(50, 500); plt.ylim(10, 1e7)\n",
    "plt.legend(fontsize = (15))\n",
    "# plt.xlim(10,201)\n",
    "# plt.ylim(1e-1,10)\n"
   ]
  },
  {
   "cell_type": "markdown",
   "metadata": {
    "heading_collapsed": true
   },
   "source": [
    "### Ali data"
   ]
  },
  {
   "cell_type": "code",
   "execution_count": 177,
   "metadata": {
    "ExecuteTime": {
     "end_time": "2020-08-22T19:47:05.542827Z",
     "start_time": "2020-08-22T19:47:01.641928Z"
    },
    "hidden": true
   },
   "outputs": [],
   "source": [
    "Map_95 = hp.ud_grade(hp.read_map('/fnx/jianyao/DataChallenge/AliCPT/IQU_BOTH_95_0.fits', field = None, verbose = False), nside_out=128)\n",
    "Map_150 = hp.ud_grade(hp.read_map('/fnx/jianyao/DataChallenge/AliCPT/IQU_BOTH_150_0.fits', field = None, verbose = False), nside_out=128)\n",
    "\n",
    "total_map =np.array((Map_95[1:], Map_150[1:]))"
   ]
  },
  {
   "cell_type": "code",
   "execution_count": 183,
   "metadata": {
    "ExecuteTime": {
     "end_time": "2020-08-22T19:48:26.169608Z",
     "start_time": "2020-08-22T19:48:26.108582Z"
    },
    "hidden": true
   },
   "outputs": [],
   "source": []
  },
  {
   "cell_type": "code",
   "execution_count": 15,
   "metadata": {
    "ExecuteTime": {
     "end_time": "2020-08-20T17:07:34.570556Z",
     "start_time": "2020-08-20T17:07:34.567815Z"
    },
    "hidden": true
   },
   "outputs": [],
   "source": [
    "var95 = h5py.File('/fnx/jianyao/DataChallenge/AncillaryData/AliCPTWhiteNoiseMatrix/NOISEVAR_95_0.h5', 'r')\n",
    "\n",
    "## sigmaT, sigmaP, nhit\n",
    "var150 = h5py.File('/fnx/jianyao/DataChallenge/AncillaryData/AliCPTWhiteNoiseMatrix/NOISEVAR_150_0.h5', 'r')"
   ]
  },
  {
   "cell_type": "code",
   "execution_count": 29,
   "metadata": {
    "ExecuteTime": {
     "end_time": "2020-08-17T11:28:21.181000Z",
     "start_time": "2020-08-17T11:28:20.972635Z"
    },
    "hidden": true
   },
   "outputs": [],
   "source": [
    "Nvar = np.array((var95['noise_map'][1], var150['noise_map'][1]))\n",
    "## 95GHz sigmaP; 150GHz sigmaP"
   ]
  },
  {
   "cell_type": "code",
   "execution_count": 66,
   "metadata": {
    "ExecuteTime": {
     "end_time": "2020-08-17T17:39:40.661124Z",
     "start_time": "2020-08-17T17:39:39.279298Z"
    },
    "hidden": true
   },
   "outputs": [],
   "source": [
    "cl_r = utils.Gencl(0.05, raw_cl=True)"
   ]
  },
  {
   "cell_type": "code",
   "execution_count": 34,
   "metadata": {
    "ExecuteTime": {
     "end_time": "2020-08-19T14:11:27.468047Z",
     "start_time": "2020-08-19T14:07:59.826444Z"
    },
    "hidden": true
   },
   "outputs": [],
   "source": [
    "cl_hat_all_ali = est_b.Cross_EB(total_map*mask)\n",
    "\n",
    "# np.save('/fnx/jianyao/DataChallenge/cl_hat_ali.npy', cl_hat_all_ali)"
   ]
  },
  {
   "cell_type": "markdown",
   "metadata": {
    "heading_collapsed": true
   },
   "source": [
    "### Healpy PS"
   ]
  },
  {
   "cell_type": "code",
   "execution_count": 332,
   "metadata": {
    "ExecuteTime": {
     "end_time": "2020-08-13T16:56:12.141605Z",
     "start_time": "2020-08-13T16:55:59.301575Z"
    },
    "hidden": true
   },
   "outputs": [],
   "source": [
    "ell = np.arange(cl.shape[1])\n",
    "cl = hp.anafast(Map_95[0]*mask)"
   ]
  },
  {
   "cell_type": "code",
   "execution_count": 336,
   "metadata": {
    "ExecuteTime": {
     "end_time": "2020-08-13T16:58:29.442923Z",
     "start_time": "2020-08-13T16:58:28.972827Z"
    },
    "hidden": true
   },
   "outputs": [
    {
     "data": {
      "text/plain": [
       "Text(0, 0.5, '$D_\\\\ell$')"
      ]
     },
     "execution_count": 336,
     "metadata": {},
     "output_type": "execute_result"
    },
    {
     "data": {
      "image/png": "[encoded data removed]",
      "text/plain": [
       "<Figure size 576x360 with 1 Axes>"
      ]
     },
     "metadata": {
      "needs_background": "light"
     },
     "output_type": "display_data"
    }
   ],
   "source": [
    "fig,ax = plt.subplots(figsize=(8,5))\n",
    "ax.plot(ell,ell*(ell+1)*cl[0],color='red',label='T')\n",
    "ax.plot(ell,ell*(ell+1)*cl[1],color='green',label='E')\n",
    "ax.plot(ell,ell*(ell+1)*cl[2],color='orange',label='B')\n",
    "\n",
    "ax.loglog(est_b.ell_n, cl_hat_all_ali[2][:,0,0])\n",
    "\n",
    "ax.set_yscale('log')\n",
    "ax.set_xscale('log')\n",
    "ax.legend(loc=2)\n",
    "ax.set_xlabel('multipole')\n",
    "ax.set_ylabel(r'$D_\\ell$')"
   ]
  },
  {
   "cell_type": "markdown",
   "metadata": {},
   "source": [
    "### Namaster PS"
   ]
  },
  {
   "cell_type": "markdown",
   "metadata": {
    "heading_collapsed": true
   },
   "source": [
    "#### Direct calculation"
   ]
  },
  {
   "cell_type": "code",
   "execution_count": 19,
   "metadata": {
    "ExecuteTime": {
     "end_time": "2020-08-19T12:27:04.703990Z",
     "start_time": "2020-08-19T12:27:04.700698Z"
    },
    "hidden": true
   },
   "outputs": [],
   "source": [
    "leff = b.get_effective_ells()"
   ]
  },
  {
   "cell_type": "code",
   "execution_count": 137,
   "metadata": {
    "ExecuteTime": {
     "end_time": "2020-08-19T16:36:03.951343Z",
     "start_time": "2020-08-19T16:35:21.722223Z"
    },
    "hidden": true
   },
   "outputs": [],
   "source": [
    "map0 = np.ones((2, 12*nside**2))\n",
    "m0 = nmt.NmtField(mask_apo, map0, purify_e=False, purify_b=True, beam=hp.gauss_beam(19.0/60/180*np.pi, lmax = 3*nside - 1))  ##, beam=bl\n",
    "\n",
    "w = nmt.NmtWorkspace()\n",
    "w.compute_coupling_matrix(m0, m0, b)"
   ]
  },
  {
   "cell_type": "code",
   "execution_count": 131,
   "metadata": {
    "ExecuteTime": {
     "end_time": "2020-08-19T16:32:18.737620Z",
     "start_time": "2020-08-19T16:32:18.731916Z"
    },
    "hidden": true
   },
   "outputs": [],
   "source": [
    "def compute_master(f_a, f_b, wsp):\n",
    "    cl_coupled = nmt.compute_coupled_cell(f_a, f_b)\n",
    "    cl_decoupled = wsp.decouple_cell(cl_coupled)\n",
    "    return cl_decoupled"
   ]
  },
  {
   "cell_type": "code",
   "execution_count": 138,
   "metadata": {
    "ExecuteTime": {
     "end_time": "2020-08-19T16:36:05.467609Z",
     "start_time": "2020-08-19T16:36:05.267970Z"
    },
    "hidden": true
   },
   "outputs": [],
   "source": [
    "cl_wps_wo_beam = compute_master(f2,f2, w)"
   ]
  },
  {
   "cell_type": "code",
   "execution_count": 142,
   "metadata": {
    "ExecuteTime": {
     "end_time": "2020-08-19T16:42:27.645579Z",
     "start_time": "2020-08-19T16:41:00.263561Z"
    },
    "hidden": true
   },
   "outputs": [],
   "source": [
    "f21 = nmt.NmtField(mask_apo, (Map_95*mask)[1:], purify_e=False, purify_b=True, beam=hp.gauss_beam(19.0/60/180*np.pi, lmax = 3*nside - 1))\n",
    "f22 = nmt.NmtField(mask_apo, (Map_150*mask)[1:], purify_e=False, purify_b=True, beam=hp.gauss_beam(11.0/60/180*np.pi, lmax = 3*nside - 1))\n",
    "\n",
    "\n",
    "cl_na = nmt.compute_full_master(f21, f22, b);"
   ]
  },
  {
   "cell_type": "code",
   "execution_count": 143,
   "metadata": {
    "ExecuteTime": {
     "end_time": "2020-08-19T16:42:29.400111Z",
     "start_time": "2020-08-19T16:42:28.934461Z"
    },
    "hidden": true
   },
   "outputs": [
    {
     "data": {
      "text/plain": [
       "[<matplotlib.lines.Line2D at 0x7f1f65c937f0>]"
      ]
     },
     "execution_count": 143,
     "metadata": {},
     "output_type": "execute_result"
    },
    {
     "data": {
      "image/png": "[encoded data removed]",
      "text/plain": [
       "<Figure size 720x576 with 1 Axes>"
      ]
     },
     "metadata": {
      "needs_background": "light"
     },
     "output_type": "display_data"
    }
   ],
   "source": [
    "plt.figure(figsize = (10, 8));\n",
    "plt.loglog(leff, cl_na[3])\n",
    "# plt.loglog(leff, cl_wps_wo_beam[3])\n",
    "\n",
    "plt.loglog(leff, cl_hat_all_ali[2][:,0,1])"
   ]
  },
  {
   "cell_type": "code",
   "execution_count": null,
   "metadata": {
    "hidden": true
   },
   "outputs": [],
   "source": []
  },
  {
   "cell_type": "markdown",
   "metadata": {
    "heading_collapsed": true
   },
   "source": [
    "#### Simulation of CMB and Noise"
   ]
  },
  {
   "cell_type": "code",
   "execution_count": null,
   "metadata": {
    "hidden": true
   },
   "outputs": [],
   "source": []
  },
  {
   "cell_type": "code",
   "execution_count": 34,
   "metadata": {
    "ExecuteTime": {
     "end_time": "2020-08-17T11:34:00.586075Z",
     "start_time": "2020-08-17T11:31:43.231249Z"
    },
    "hidden": true
   },
   "outputs": [],
   "source": [
    "fres = ['95','150']\n",
    "\n",
    "for n in range(SamNum):\n",
    "    \n",
    "#     cmb_map_i = hp.synfast(cl_r, nside = nside, new = True, verbose = False)\n",
    "    \n",
    "#     np.save('/fnx/jianyao/DataChallenge/My_simulation/CMB/cmb_maps_mc_%03d.npy'%n, cmb_map_i)\n",
    "    \n",
    "    for fre in range(Nf):\n",
    "\n",
    "        var = (Nvar[fre])\n",
    "\n",
    "        nQU = np.zeros((2, 12*nside**2))\n",
    "        nQU[0] = np.random.normal(0, var)\n",
    "        nQU[1] = np.random.normal(0, var)\n",
    "        \n",
    "        np.save('/fnx/jianyao/DataChallenge/My_simulation/Noise/%sGHz/Noise_%sGHz_%03d.npy'%(fres[fre], fres[fre], n), nQU)"
   ]
  },
  {
   "cell_type": "code",
   "execution_count": null,
   "metadata": {
    "hidden": true
   },
   "outputs": [],
   "source": [
    "#     cmb_map_i = hp.synfast(cl_r, nside = nside, new = True, verbose = False)\n",
    "    \n",
    "#     np.save('/fnx/jianyao/DataChallenge/My_simulation/CMB/cmb_maps_mc_%03d.npy'%n, cmb_map_i)"
   ]
  },
  {
   "cell_type": "code",
   "execution_count": 152,
   "metadata": {
    "ExecuteTime": {
     "end_time": "2020-08-22T14:57:49.232385Z",
     "start_time": "2020-08-22T14:57:47.508278Z"
    },
    "hidden": true
   },
   "outputs": [
    {
     "data": {
      "text/plain": [
       "Text(0.5, 1.0, 'One of noise realization')"
      ]
     },
     "execution_count": 152,
     "metadata": {},
     "output_type": "execute_result"
    },
    {
     "data": {
      "image/png": "[encoded data removed]",
      "text/plain": [
       "<Figure size 1440x360 with 3 Axes>"
      ]
     },
     "metadata": {
      "needs_background": "light"
     },
     "output_type": "display_data"
    }
   ],
   "source": [
    "jx_data = np.load('/fnx/jianyao/DataChallenge/abs_alicpt_inter_1024.npy', allow_pickle=True)\n",
    "\n",
    "fig, axes = plt.subplots(1,3, figsize = (20, 5))\n",
    "# plt.loglog(est_b.ell_n, )\n",
    "axes[0].loglog(est_b.ell_n, jx_data[0][0][:,0,0],'r', label = 'jiaxin')\n",
    "\n",
    "axes[0].loglog(est_b.ell_n, cl_hat_ali[2][:,0,0], 'b--', label = 'yaojian')\n",
    "axes[0].set_title('Map from Siyu')\n",
    "\n",
    "axes[0].legend(fontsize = 15)\n",
    "axes[1].loglog(est_b.ell_n, jx_data[0][1][:,0,0], 'r', label = 'jx')\n",
    "axes[1].loglog(est_b.ell_n, cl_f_all[0][2][:,0,0], 'b--',label = 'jy')\n",
    "axes[1].set_title('Simulated CMB + Noise')\n",
    "\n",
    "axes[2].loglog(est_b.ell_n, jx_data[1][1][:,0,0], 'r', label = 'jx')\n",
    "axes[2].loglog(est_b.ell_n, nl_all[0][2][:,0,0], 'b--',label = 'yj')\n",
    "axes[2].set_title('One of noise realization')\n"
   ]
  },
  {
   "cell_type": "code",
   "execution_count": null,
   "metadata": {
    "hidden": true
   },
   "outputs": [],
   "source": []
  },
  {
   "cell_type": "markdown",
   "metadata": {},
   "source": [
    "#### Cross PS"
   ]
  },
  {
   "cell_type": "code",
   "execution_count": null,
   "metadata": {},
   "outputs": [],
   "source": []
  },
  {
   "cell_type": "code",
   "execution_count": 190,
   "metadata": {
    "ExecuteTime": {
     "end_time": "2020-08-22T19:58:12.894103Z",
     "start_time": "2020-08-22T19:53:44.983023Z"
    },
    "scrolled": true
   },
   "outputs": [
    {
     "name": "stdout",
     "output_type": "stream",
     "text": [
      "0\n",
      "time 0.08795456886291504\n",
      "1\n",
      "time 0.09641085465749105\n",
      "2\n",
      "time 0.08423309326171875\n",
      "3\n",
      "time 0.08420315186182657\n",
      "4\n",
      "time 0.08451668818791708\n",
      "5\n",
      "time 0.08944843212763469\n",
      "6\n",
      "time 0.0901236097017924\n",
      "7\n",
      "time 0.0870692531267802\n",
      "8\n",
      "time 0.08572200139363607\n",
      "9\n",
      "time 0.08740546703338622\n",
      "32\n",
      "time 0.08977984587351481\n",
      "33\n",
      "time 0.08890480200449626\n",
      "34\n",
      "time 0.08660531838734944\n",
      "35\n",
      "time 0.08603483041127523\n",
      "36\n",
      "time 0.08908981084823608\n",
      "37\n",
      "time 0.08703882296880086\n",
      "38\n",
      "time 0.08720908959706625\n",
      "39\n",
      "time 0.08642626206080119\n",
      "40\n",
      "time 0.08591558535893758\n",
      "41\n",
      "time 0.08566012779871622\n",
      "42\n",
      "time 0.0858437180519104\n",
      "43\n",
      "time 0.08573326667149862\n",
      "44\n",
      "time 0.0875343362490336\n",
      "45\n",
      "time 0.08890995184580484\n",
      "46\n",
      "time 0.08724114894866944\n",
      "47\n",
      "time 0.08660581509272257\n",
      "48\n",
      "time 0.08776917457580566\n",
      "49\n",
      "time 0.08644797801971435\n"
     ]
    }
   ],
   "source": [
    "# # %%time \n",
    "# index = np.arange(len(mask))#index[n2zeros == 0]\n",
    "# ali_pix = index[mask != 0]\n",
    "\n",
    "fres = ['95','150']\n",
    "cpn = np.zeros((Nf, 2, 12*nside**2)); ## CMB plus noise\n",
    "cl_f_all = np.ones((SamNum, 3, lbin, Nf, Nf))\n",
    "nl_all = np.zeros((SamNum, 3, lbin, Nf, Nf))\n",
    "Noise = np.zeros((Nf, 2, 12*nside**2))\n",
    "\n",
    "for n in range(SamNum):\n",
    "    start = time.time()\n",
    "    cmb_map_i = hp.ud_grade(np.load('/fnx/jianyao/DataChallenge/My_simulation/CMB/cmb_maps_mc_%03d.npy'%n), nside_out=128)\n",
    "    \n",
    "    for fre in range(Nf):\n",
    "\n",
    "        cmb_map = hp.smoothing(rotate.rotate_map_pixel(cmb_map_i), fwhm = beams[fre]/60/180*np.pi, lmax = lmax, verbose = False)\n",
    "        nQU = hp.ud_grade(np.load('/fnx/jianyao/DataChallenge/My_simulation/Noise/%sGHz/Noise_%sGHz_%03d.npy'%(fres[fre], fres[fre], n)), nside_out=128)  # QU only\n",
    "        cpn[fre] = (cmb_map)[1:]  + nQU\n",
    "        Noise[fre] = nQU\n",
    "        \n",
    "    nl_all[n] = est_b.Cross_EB(Noise*mask)\n",
    "    cl_f_all[n] = est_b.Cross_EB(cpn*mask)\n",
    "    end = time.time()\n",
    "    print(n)\n",
    "    print('time', (end - start)/60.0)\n",
    "#         np.save('/fnx/jianyao/Likelihood_data/Simulations/Noises_Ali_2fre/%sGHz/Noise_realizations_%sGHz_%03d.npy'%(fres[fre], fres[fre], n), nIQU) ## (SamNum,3, npix) , (nIQU.swapaxes(1,2).swapaxes(0,1))"
   ]
  },
  {
   "cell_type": "code",
   "execution_count": 192,
   "metadata": {
    "ExecuteTime": {
     "end_time": "2020-08-22T21:14:59.613146Z",
     "start_time": "2020-08-22T21:14:59.606512Z"
    }
   },
   "outputs": [
    {
     "data": {
      "text/plain": [
       "(50, 3, 10, 2, 2)"
      ]
     },
     "execution_count": 192,
     "metadata": {},
     "output_type": "execute_result"
    }
   ],
   "source": [
    "cl_f_all.shape"
   ]
  },
  {
   "cell_type": "code",
   "execution_count": 193,
   "metadata": {
    "ExecuteTime": {
     "end_time": "2020-08-22T21:15:01.649757Z",
     "start_time": "2020-08-22T21:15:01.646878Z"
    }
   },
   "outputs": [
    {
     "data": {
      "text/plain": [
       "(50, 3, 10, 2, 2)"
      ]
     },
     "execution_count": 193,
     "metadata": {},
     "output_type": "execute_result"
    }
   ],
   "source": [
    "nl_all.shape"
   ]
  },
  {
   "cell_type": "code",
   "execution_count": 194,
   "metadata": {
    "ExecuteTime": {
     "end_time": "2020-08-23T10:30:30.379016Z",
     "start_time": "2020-08-23T10:30:29.731038Z"
    }
   },
   "outputs": [],
   "source": [
    "cl_hat_all_ali = est_b.Cross_EB(total_map*mask)\n",
    "\n",
    "np.save('/fnx/jianyao/DataChallenge/cl_hat_ali_nside_128.npy', cl_hat_all_ali)"
   ]
  },
  {
   "cell_type": "code",
   "execution_count": null,
   "metadata": {},
   "outputs": [],
   "source": []
  },
  {
   "cell_type": "code",
   "execution_count": 195,
   "metadata": {
    "ExecuteTime": {
     "end_time": "2020-08-23T10:30:42.211007Z",
     "start_time": "2020-08-23T10:30:42.204899Z"
    }
   },
   "outputs": [],
   "source": [
    "np.save('/fnx/jianyao/DataChallenge/cl_f_all_nside_128.npy', cl_f_all)\n",
    "np.save('/fnx/jianyao/DataChallenge/nl_all_nside_128.npy', nl_all)"
   ]
  },
  {
   "cell_type": "markdown",
   "metadata": {
    "ExecuteTime": {
     "end_time": "2020-08-12T16:04:19.029389Z",
     "start_time": "2020-08-12T16:04:19.026066Z"
    }
   },
   "source": [
    "## Analysis"
   ]
  },
  {
   "cell_type": "markdown",
   "metadata": {
    "ExecuteTime": {
     "end_time": "2020-08-16T15:50:54.129584Z",
     "start_time": "2020-08-16T15:50:54.125724Z"
    },
    "heading_collapsed": true
   },
   "source": [
    "### check simulated noise and CMB"
   ]
  },
  {
   "cell_type": "code",
   "execution_count": 186,
   "metadata": {
    "ExecuteTime": {
     "end_time": "2020-08-16T16:33:40.042357Z",
     "start_time": "2020-08-16T16:33:37.816727Z"
    },
    "hidden": true
   },
   "outputs": [
    {
     "name": "stdout",
     "output_type": "stream",
     "text": [
      "NSIDE = 1024\n",
      "ORDERING = RING in fits file\n",
      "INDXSCHM = IMPLICIT\n",
      "NSIDE = 1024\n",
      "ORDERING = RING in fits file\n",
      "INDXSCHM = IMPLICIT\n",
      "NSIDE = 1024\n",
      "ORDERING = RING in fits file\n",
      "INDXSCHM = IMPLICIT\n",
      "NSIDE = 1024\n",
      "ORDERING = RING in fits file\n",
      "INDXSCHM = IMPLICIT\n"
     ]
    }
   ],
   "source": [
    "noise_siyu_95 = hp.read_map('/fnx/jianyao/DataChallenge/AncillaryData/AliCPTNoiseSimulations/0/IQU_BOTH_95_0.fits', field = None)\n",
    "\n",
    "noise_siyu_95_wo = hp.read_map('/fnx/jianyao/DataChallenge/AncillaryData/AliCPTNoiseSimulations/0/IQU_WOFILTER_95_0.fits', field = None)\n",
    "\n",
    "noise_siyu_150 = hp.read_map('/fnx/jianyao/DataChallenge/AncillaryData/AliCPTNoiseSimulations/0/IQU_BOTH_150_0.fits', field = None)\n",
    "\n",
    "noise_siyu_150_wo = hp.read_map('/fnx/jianyao/DataChallenge/AncillaryData/AliCPTNoiseSimulations/0/IQU_WOFILTER_150_0.fits', field = None)"
   ]
  },
  {
   "cell_type": "code",
   "execution_count": 128,
   "metadata": {
    "ExecuteTime": {
     "end_time": "2020-08-16T15:44:40.803267Z",
     "start_time": "2020-08-16T15:44:40.622248Z"
    },
    "hidden": true
   },
   "outputs": [],
   "source": [
    "noise_my = np.row_stack((nIQU[0], nIQU))"
   ]
  },
  {
   "cell_type": "code",
   "execution_count": 132,
   "metadata": {
    "ExecuteTime": {
     "end_time": "2020-08-16T15:45:50.057493Z",
     "start_time": "2020-08-16T15:45:36.644593Z"
    },
    "hidden": true
   },
   "outputs": [],
   "source": [
    "nl_hp = hp.anafast(noise_my*mask);\n",
    "# nl_siyu = hp.anafast(nosie_siyu*mask)"
   ]
  },
  {
   "cell_type": "code",
   "execution_count": 192,
   "metadata": {
    "ExecuteTime": {
     "end_time": "2020-08-16T16:45:06.250017Z",
     "start_time": "2020-08-16T16:41:30.892676Z"
    },
    "hidden": true
   },
   "outputs": [],
   "source": [
    "nl_na_wo = est_b.Cross_EB([noise_siyu_95_wo[1:]*mask,noise_siyu_150_wo[1:]*mask])\n",
    "nl_na = est_b.Cross_EB([noise_siyu_95[1:]*mask,noise_siyu_150[1:]*mask])"
   ]
  },
  {
   "cell_type": "code",
   "execution_count": 86,
   "metadata": {
    "ExecuteTime": {
     "end_time": "2020-08-16T01:08:06.174687Z",
     "start_time": "2020-08-16T01:08:04.859837Z"
    },
    "hidden": true
   },
   "outputs": [],
   "source": [
    "camb_cl = utils.Gencl(0.05, raw_cl=False)"
   ]
  },
  {
   "cell_type": "code",
   "execution_count": 198,
   "metadata": {
    "ExecuteTime": {
     "end_time": "2020-08-16T16:56:57.953097Z",
     "start_time": "2020-08-16T16:56:57.399462Z"
    },
    "hidden": true
   },
   "outputs": [
    {
     "data": {
      "text/plain": [
       "<matplotlib.legend.Legend at 0x7ff726374b38>"
      ]
     },
     "execution_count": 198,
     "metadata": {},
     "output_type": "execute_result"
    },
    {
     "data": {
      "image/png": "[encoded data removed]",
      "text/plain": [
       "<Figure size 720x576 with 1 Axes>"
      ]
     },
     "metadata": {
      "needs_background": "light"
     },
     "output_type": "display_data"
    }
   ],
   "source": [
    "plt.figure(figsize = (10, 8))\n",
    "plt.loglog(est_b.ell_n, nl_na_wo[2][:,0,0], label = 'Nl wo filter')\n",
    "plt.loglog(est_b.ell_n, nl_na[2][:,0,0], label = 'Nl with filter')\n",
    "\n",
    "plt.legend(fontsize = 15)"
   ]
  },
  {
   "cell_type": "code",
   "execution_count": null,
   "metadata": {
    "hidden": true
   },
   "outputs": [],
   "source": []
  },
  {
   "cell_type": "code",
   "execution_count": 106,
   "metadata": {
    "ExecuteTime": {
     "end_time": "2020-08-19T15:38:30.298236Z",
     "start_time": "2020-08-19T15:38:29.885946Z"
    },
    "hidden": true
   },
   "outputs": [
    {
     "data": {
      "text/plain": [
       "(0.001, 1)"
      ]
     },
     "execution_count": 106,
     "metadata": {},
     "output_type": "execute_result"
    },
    {
     "data": {
      "image/png": "[encoded data removed]",
      "text/plain": [
       "<Figure size 720x576 with 1 Axes>"
      ]
     },
     "metadata": {
      "needs_background": "light"
     },
     "output_type": "display_data"
    }
   ],
   "source": [
    "plt.figure(figsize = (10, 8))\n",
    "# plt.loglog(est_b.ell_n, cl_f_all[0][2][:,0,0], label = 'cl_f')\n",
    "plt.plot(est_b.ell_n, nl_all[19][2][:,0,0], label = 'Nl_mean')\n",
    "# plt.loglog(est_b.ell_n, nl_all[19][2][:,0,0] + dust_ps_v0(A_d_RJ, beta_d, lbin)[:,0,0] + sync_ps_v0(A_s_RJ, beta_s, lbin)[:,0,0], label = 'Nl_mean + fore')\n",
    "\n",
    "# plt.loglog(est_b.ell_n, nl_all[19][0][:,0,0], label = 'Nl_mean')\n",
    "\n",
    "# beta_d = 1.59; beta_s = -3.0\n",
    "# plt.plot(est_b.ell_n, dust_ps_v0(A_d_RJ, beta_d, lbin)[:,0,0])\n",
    "# plt.plot(est_b.ell_n, sync_ps_v0(A_s_RJ, beta_s, lbin)[:,0,0])\n",
    "\n",
    "# # els = np.arange(len(nl_hp[0]))\n",
    "# # el2 = utils.l2(els)\n",
    "# plt.loglog(els, el2*nl_hp[2]/0.09)\n",
    "# # plt.loglog(els, el2*nl_siyu[2]/0.09)\n",
    "\n",
    "plt.plot(est_b.ell_n,cl_hat_ali[2][:,0,0], label = 'Observed data')\n",
    "plt.legend(fontsize = 15)\n",
    "plt.yscale('log')\n",
    "plt.xlim(0, 400)\n",
    "plt.ylim(1e-3,1)\n",
    "# plt.loglog(np.arange(len(camb_cl[2])), camb_cl[1])"
   ]
  },
  {
   "cell_type": "markdown",
   "metadata": {},
   "source": [
    "### likelihood analysis"
   ]
  },
  {
   "cell_type": "code",
   "execution_count": 302,
   "metadata": {
    "ExecuteTime": {
     "end_time": "2020-08-23T20:13:58.518143Z",
     "start_time": "2020-08-23T20:13:58.508770Z"
    }
   },
   "outputs": [],
   "source": [
    "cl_f_all = np.load('/fnx/jianyao/DataChallenge/cl_f_all_nside_128.npy'); \n",
    "nl_all = np.load('/fnx/jianyao/DataChallenge/nl_all_nside_128.npy')\n",
    "\n",
    "cl_hat_ali = np.load('/fnx/jianyao/DataChallenge/cl_hat_ali_nside_128.npy')\n",
    "\n",
    "nl_mean = np.mean(nl_all, axis = 0) ## EE EB BB"
   ]
  },
  {
   "cell_type": "code",
   "execution_count": null,
   "metadata": {},
   "outputs": [],
   "source": []
  },
  {
   "cell_type": "code",
   "execution_count": 256,
   "metadata": {
    "ExecuteTime": {
     "end_time": "2020-08-23T11:26:49.929971Z",
     "start_time": "2020-08-23T11:26:49.923385Z"
    }
   },
   "outputs": [],
   "source": [
    "jx_data = np.load('/fnx/jianyao/DataChallenge/abs_alicpt_inter_1024.npy', allow_pickle=True)"
   ]
  },
  {
   "cell_type": "code",
   "execution_count": 276,
   "metadata": {
    "ExecuteTime": {
     "end_time": "2020-08-23T14:31:51.407048Z",
     "start_time": "2020-08-23T14:31:51.401305Z"
    }
   },
   "outputs": [],
   "source": [
    "cl_hat_ali = jx_data[0][0];\n",
    "nl_all = jx_data[1][1:];\n",
    "\n",
    "nl_mean = np.mean(nl_all, axis = 0) ## EE EB BB"
   ]
  },
  {
   "cell_type": "code",
   "execution_count": 279,
   "metadata": {
    "ExecuteTime": {
     "end_time": "2020-08-23T14:32:19.368333Z",
     "start_time": "2020-08-23T14:32:19.362742Z"
    }
   },
   "outputs": [],
   "source": [
    "cl_f_all = np.zeros((9, 3, lbin, Nf, Nf))\n",
    "\n",
    "for i in range(9):\n",
    "    cl_f_all[i,2] = jx_data[0][i + 1]"
   ]
  },
  {
   "cell_type": "code",
   "execution_count": 303,
   "metadata": {
    "ExecuteTime": {
     "end_time": "2020-08-23T20:14:02.447042Z",
     "start_time": "2020-08-23T20:14:02.429482Z"
    }
   },
   "outputs": [],
   "source": [
    "LogL = logLike(2,lbin) \n",
    "\n",
    " ## calculate logL.cl_f; logL.Cov  \n",
    "LogL.M(cl_f_all = cl_f_all, SamNum=9)"
   ]
  },
  {
   "cell_type": "code",
   "execution_count": 60,
   "metadata": {
    "ExecuteTime": {
     "end_time": "2020-08-19T14:30:47.342270Z",
     "start_time": "2020-08-19T14:30:47.315569Z"
    }
   },
   "outputs": [],
   "source": [
    "beta_s = -2; beta_d = 2.0; epsilon = 0.4;\n",
    "fl_hat = sync_ps_v0(A_s_RJ, beta_s, lbin) + dust_ps_v0(A_d_RJ, beta_d, lbin) + corre_fore_simple(epsilon, A_d_RJ, A_s_RJ, beta_s, beta_d, lbin)\n",
    "\n",
    "def r_likelihood(r_i):\n",
    "    cl_th_test = combine_ps(r_i)\n",
    "    C_l = cl_th_test + nl_mean[2] + fl_hat\n",
    "\n",
    "    logl = LogL.run(cl_hat=(cl_hat_fore_ali) ,cl_th = C_l, sbin=sbin, ebin = ebin)\n",
    "    \n",
    "    return logl"
   ]
  },
  {
   "cell_type": "code",
   "execution_count": 61,
   "metadata": {
    "ExecuteTime": {
     "end_time": "2020-08-19T14:30:50.853711Z",
     "start_time": "2020-08-19T14:30:48.791302Z"
    }
   },
   "outputs": [],
   "source": [
    "rlist = np.linspace(0, 1, 100);\n",
    "logl = []\n",
    "for i in range(len(rlist)):\n",
    "    logl.append(r_likelihood(rlist[i]))\n",
    "    \n",
    "# plt.plot(rlist, logl)"
   ]
  },
  {
   "cell_type": "code",
   "execution_count": null,
   "metadata": {},
   "outputs": [],
   "source": []
  },
  {
   "cell_type": "code",
   "execution_count": 308,
   "metadata": {
    "ExecuteTime": {
     "end_time": "2020-08-23T20:14:36.096331Z",
     "start_time": "2020-08-23T20:14:34.942282Z"
    },
    "scrolled": true
   },
   "outputs": [
    {
     "name": "stderr",
     "output_type": "stream",
     "text": [
      "/home/jianyao/Likelihood/Fg_template.py:84: RuntimeWarning: invalid value encountered in sqrt\n",
      "  fl[ell, i, j] = epsilon*np.sqrt(A_s[ell]*A_d[ell])*(f_d(nu[i], beta_d)*f_s(nu[j], beta_s) + f_d(nu[j], beta_d)*f_s(nu[i], beta_s))*coeff[i]*coeff[j]\n",
      "/home/jianyao/Likelihood/Fg_template.py:84: RuntimeWarning: invalid value encountered in sqrt\n",
      "  fl[ell, i, j] = epsilon*np.sqrt(A_s[ell]*A_d[ell])*(f_d(nu[i], beta_d)*f_s(nu[j], beta_s) + f_d(nu[j], beta_d)*f_s(nu[i], beta_s))*coeff[i]*coeff[j]\n",
      "/home/jianyao/Likelihood/Fg_template.py:84: RuntimeWarning: invalid value encountered in sqrt\n",
      "  fl[ell, i, j] = epsilon*np.sqrt(A_s[ell]*A_d[ell])*(f_d(nu[i], beta_d)*f_s(nu[j], beta_s) + f_d(nu[j], beta_d)*f_s(nu[i], beta_s))*coeff[i]*coeff[j]\n",
      "/home/jianyao/Likelihood/Fg_template.py:84: RuntimeWarning: invalid value encountered in sqrt\n",
      "  fl[ell, i, j] = epsilon*np.sqrt(A_s[ell]*A_d[ell])*(f_d(nu[i], beta_d)*f_s(nu[j], beta_s) + f_d(nu[j], beta_d)*f_s(nu[i], beta_s))*coeff[i]*coeff[j]\n",
      "/home/jianyao/Likelihood/Fg_template.py:84: RuntimeWarning: invalid value encountered in sqrt\n",
      "  fl[ell, i, j] = epsilon*np.sqrt(A_s[ell]*A_d[ell])*(f_d(nu[i], beta_d)*f_s(nu[j], beta_s) + f_d(nu[j], beta_d)*f_s(nu[i], beta_s))*coeff[i]*coeff[j]\n",
      "/home/jianyao/Likelihood/Fg_template.py:84: RuntimeWarning: invalid value encountered in sqrt\n",
      "  fl[ell, i, j] = epsilon*np.sqrt(A_s[ell]*A_d[ell])*(f_d(nu[i], beta_d)*f_s(nu[j], beta_s) + f_d(nu[j], beta_d)*f_s(nu[i], beta_s))*coeff[i]*coeff[j]\n",
      "/home/jianyao/Likelihood/Fg_template.py:84: RuntimeWarning: invalid value encountered in sqrt\n",
      "  fl[ell, i, j] = epsilon*np.sqrt(A_s[ell]*A_d[ell])*(f_d(nu[i], beta_d)*f_s(nu[j], beta_s) + f_d(nu[j], beta_d)*f_s(nu[i], beta_s))*coeff[i]*coeff[j]\n",
      "/home/jianyao/Likelihood/Fg_template.py:84: RuntimeWarning: invalid value encountered in sqrt\n",
      "  fl[ell, i, j] = epsilon*np.sqrt(A_s[ell]*A_d[ell])*(f_d(nu[i], beta_d)*f_s(nu[j], beta_s) + f_d(nu[j], beta_d)*f_s(nu[i], beta_s))*coeff[i]*coeff[j]\n",
      "/home/jianyao/Likelihood/Fg_template.py:84: RuntimeWarning: invalid value encountered in sqrt\n",
      "  fl[ell, i, j] = epsilon*np.sqrt(A_s[ell]*A_d[ell])*(f_d(nu[i], beta_d)*f_s(nu[j], beta_s) + f_d(nu[j], beta_d)*f_s(nu[i], beta_s))*coeff[i]*coeff[j]\n",
      "/home/jianyao/Likelihood/Fg_template.py:84: RuntimeWarning: invalid value encountered in sqrt\n",
      "  fl[ell, i, j] = epsilon*np.sqrt(A_s[ell]*A_d[ell])*(f_d(nu[i], beta_d)*f_s(nu[j], beta_s) + f_d(nu[j], beta_d)*f_s(nu[i], beta_s))*coeff[i]*coeff[j]\n",
      "/home/jianyao/Likelihood/Fg_template.py:84: RuntimeWarning: invalid value encountered in sqrt\n",
      "  fl[ell, i, j] = epsilon*np.sqrt(A_s[ell]*A_d[ell])*(f_d(nu[i], beta_d)*f_s(nu[j], beta_s) + f_d(nu[j], beta_d)*f_s(nu[i], beta_s))*coeff[i]*coeff[j]\n",
      "/home/jianyao/Likelihood/Fg_template.py:84: RuntimeWarning: invalid value encountered in sqrt\n",
      "  fl[ell, i, j] = epsilon*np.sqrt(A_s[ell]*A_d[ell])*(f_d(nu[i], beta_d)*f_s(nu[j], beta_s) + f_d(nu[j], beta_d)*f_s(nu[i], beta_s))*coeff[i]*coeff[j]\n",
      "/home/jianyao/Likelihood/Fg_template.py:84: RuntimeWarning: invalid value encountered in sqrt\n",
      "  fl[ell, i, j] = epsilon*np.sqrt(A_s[ell]*A_d[ell])*(f_d(nu[i], beta_d)*f_s(nu[j], beta_s) + f_d(nu[j], beta_d)*f_s(nu[i], beta_s))*coeff[i]*coeff[j]\n",
      "/home/jianyao/Likelihood/Fg_template.py:84: RuntimeWarning: invalid value encountered in sqrt\n",
      "  fl[ell, i, j] = epsilon*np.sqrt(A_s[ell]*A_d[ell])*(f_d(nu[i], beta_d)*f_s(nu[j], beta_s) + f_d(nu[j], beta_d)*f_s(nu[i], beta_s))*coeff[i]*coeff[j]\n"
     ]
    },
    {
     "name": "stdout",
     "output_type": "stream",
     "text": [
      "Exception while calling loglikelihood function:\n"
     ]
    },
    {
     "name": "stderr",
     "output_type": "stream",
     "text": [
      "/home/jianyao/Likelihood/Fg_template.py:84: RuntimeWarning: invalid value encountered in sqrt\n",
      "  fl[ell, i, j] = epsilon*np.sqrt(A_s[ell]*A_d[ell])*(f_d(nu[i], beta_d)*f_s(nu[j], beta_s) + f_d(nu[j], beta_d)*f_s(nu[i], beta_s))*coeff[i]*coeff[j]\n",
      "/home/jianyao/Likelihood/Fg_template.py:84: RuntimeWarning: invalid value encountered in sqrt\n",
      "  fl[ell, i, j] = epsilon*np.sqrt(A_s[ell]*A_d[ell])*(f_d(nu[i], beta_d)*f_s(nu[j], beta_s) + f_d(nu[j], beta_d)*f_s(nu[i], beta_s))*coeff[i]*coeff[j]\n",
      "/home/jianyao/Likelihood/Fg_template.py:84: RuntimeWarning: invalid value encountered in sqrt\n",
      "  fl[ell, i, j] = epsilon*np.sqrt(A_s[ell]*A_d[ell])*(f_d(nu[i], beta_d)*f_s(nu[j], beta_s) + f_d(nu[j], beta_d)*f_s(nu[i], beta_s))*coeff[i]*coeff[j]\n",
      "/home/jianyao/Likelihood/Fg_template.py:84: RuntimeWarning: invalid value encountered in sqrt\n",
      "  fl[ell, i, j] = epsilon*np.sqrt(A_s[ell]*A_d[ell])*(f_d(nu[i], beta_d)*f_s(nu[j], beta_s) + f_d(nu[j], beta_d)*f_s(nu[i], beta_s))*coeff[i]*coeff[j]\n",
      "/home/jianyao/Likelihood/Fg_template.py:84: RuntimeWarning: invalid value encountered in sqrt\n",
      "  fl[ell, i, j] = epsilon*np.sqrt(A_s[ell]*A_d[ell])*(f_d(nu[i], beta_d)*f_s(nu[j], beta_s) + f_d(nu[j], beta_d)*f_s(nu[i], beta_s))*coeff[i]*coeff[j]\n",
      "/home/jianyao/Likelihood/Fg_template.py:84: RuntimeWarning: invalid value encountered in sqrt\n",
      "  fl[ell, i, j] = epsilon*np.sqrt(A_s[ell]*A_d[ell])*(f_d(nu[i], beta_d)*f_s(nu[j], beta_s) + f_d(nu[j], beta_d)*f_s(nu[i], beta_s))*coeff[i]*coeff[j]\n",
      "/home/jianyao/Likelihood/Fg_template.py:84: RuntimeWarning: invalid value encountered in sqrt\n",
      "  fl[ell, i, j] = epsilon*np.sqrt(A_s[ell]*A_d[ell])*(f_d(nu[i], beta_d)*f_s(nu[j], beta_s) + f_d(nu[j], beta_d)*f_s(nu[i], beta_s))*coeff[i]*coeff[j]\n",
      "/home/jianyao/Likelihood/Fg_template.py:84: RuntimeWarning: invalid value encountered in sqrt\n",
      "  fl[ell, i, j] = epsilon*np.sqrt(A_s[ell]*A_d[ell])*(f_d(nu[i], beta_d)*f_s(nu[j], beta_s) + f_d(nu[j], beta_d)*f_s(nu[i], beta_s))*coeff[i]*coeff[j]\n",
      "/home/jianyao/Likelihood/Fg_template.py:84: RuntimeWarning: invalid value encountered in sqrt\n",
      "  fl[ell, i, j] = epsilon*np.sqrt(A_s[ell]*A_d[ell])*(f_d(nu[i], beta_d)*f_s(nu[j], beta_s) + f_d(nu[j], beta_d)*f_s(nu[i], beta_s))*coeff[i]*coeff[j]\n",
      "/home/jianyao/Likelihood/Fg_template.py:84: RuntimeWarning: invalid value encountered in sqrt\n",
      "  fl[ell, i, j] = epsilon*np.sqrt(A_s[ell]*A_d[ell])*(f_d(nu[i], beta_d)*f_s(nu[j], beta_s) + f_d(nu[j], beta_d)*f_s(nu[i], beta_s))*coeff[i]*coeff[j]\n",
      "/home/jianyao/Likelihood/Fg_template.py:84: RuntimeWarning: invalid value encountered in sqrt\n",
      "  fl[ell, i, j] = epsilon*np.sqrt(A_s[ell]*A_d[ell])*(f_d(nu[i], beta_d)*f_s(nu[j], beta_s) + f_d(nu[j], beta_d)*f_s(nu[i], beta_s))*coeff[i]*coeff[j]\n"
     ]
    },
    {
     "name": "stdout",
     "output_type": "stream",
     "text": [
      "Exception while calling loglikelihood function:\n"
     ]
    },
    {
     "name": "stderr",
     "output_type": "stream",
     "text": [
      "/home/jianyao/Likelihood/Fg_template.py:84: RuntimeWarning: invalid value encountered in sqrt\n",
      "  fl[ell, i, j] = epsilon*np.sqrt(A_s[ell]*A_d[ell])*(f_d(nu[i], beta_d)*f_s(nu[j], beta_s) + f_d(nu[j], beta_d)*f_s(nu[i], beta_s))*coeff[i]*coeff[j]\n"
     ]
    },
    {
     "name": "stdout",
     "output_type": "stream",
     "text": [
      "  params: [ 0.0308287  -2.59144138  1.63066787  0.79610816]\n"
     ]
    },
    {
     "name": "stderr",
     "output_type": "stream",
     "text": [
      "/home/jianyao/Likelihood/Fg_template.py:84: RuntimeWarning: invalid value encountered in sqrt\n",
      "  fl[ell, i, j] = epsilon*np.sqrt(A_s[ell]*A_d[ell])*(f_d(nu[i], beta_d)*f_s(nu[j], beta_s) + f_d(nu[j], beta_d)*f_s(nu[i], beta_s))*coeff[i]*coeff[j]\n",
      "/home/jianyao/Likelihood/Fg_template.py:84: RuntimeWarning: invalid value encountered in sqrt\n",
      "  fl[ell, i, j] = epsilon*np.sqrt(A_s[ell]*A_d[ell])*(f_d(nu[i], beta_d)*f_s(nu[j], beta_s) + f_d(nu[j], beta_d)*f_s(nu[i], beta_s))*coeff[i]*coeff[j]\n"
     ]
    },
    {
     "name": "stdout",
     "output_type": "stream",
     "text": [
      "  args: []\n"
     ]
    },
    {
     "name": "stderr",
     "output_type": "stream",
     "text": [
      "/home/jianyao/Likelihood/Fg_template.py:84: RuntimeWarning: invalid value encountered in sqrt\n",
      "  fl[ell, i, j] = epsilon*np.sqrt(A_s[ell]*A_d[ell])*(f_d(nu[i], beta_d)*f_s(nu[j], beta_s) + f_d(nu[j], beta_d)*f_s(nu[i], beta_s))*coeff[i]*coeff[j]\n"
     ]
    },
    {
     "name": "stdout",
     "output_type": "stream",
     "text": [
      "  kwargs: {}\n",
      "  exception:\n",
      "Exception while calling loglikelihood function:\n",
      "Exception while calling loglikelihood function:\n",
      "Exception while calling loglikelihood function:\n"
     ]
    },
    {
     "name": "stderr",
     "output_type": "stream",
     "text": [
      "/home/jianyao/Likelihood/Fg_template.py:84: RuntimeWarning: invalid value encountered in sqrt\n",
      "  fl[ell, i, j] = epsilon*np.sqrt(A_s[ell]*A_d[ell])*(f_d(nu[i], beta_d)*f_s(nu[j], beta_s) + f_d(nu[j], beta_d)*f_s(nu[i], beta_s))*coeff[i]*coeff[j]\n",
      "/home/jianyao/Likelihood/Fg_template.py:84: RuntimeWarning: invalid value encountered in sqrt\n",
      "  fl[ell, i, j] = epsilon*np.sqrt(A_s[ell]*A_d[ell])*(f_d(nu[i], beta_d)*f_s(nu[j], beta_s) + f_d(nu[j], beta_d)*f_s(nu[i], beta_s))*coeff[i]*coeff[j]\n",
      "/home/jianyao/Likelihood/Fg_template.py:84: RuntimeWarning: invalid value encountered in sqrt\n",
      "  fl[ell, i, j] = epsilon*np.sqrt(A_s[ell]*A_d[ell])*(f_d(nu[i], beta_d)*f_s(nu[j], beta_s) + f_d(nu[j], beta_d)*f_s(nu[i], beta_s))*coeff[i]*coeff[j]\n",
      "/home/jianyao/Likelihood/Fg_template.py:84: RuntimeWarning: invalid value encountered in sqrt\n",
      "  fl[ell, i, j] = epsilon*np.sqrt(A_s[ell]*A_d[ell])*(f_d(nu[i], beta_d)*f_s(nu[j], beta_s) + f_d(nu[j], beta_d)*f_s(nu[i], beta_s))*coeff[i]*coeff[j]\n",
      "/home/jianyao/Likelihood/Fg_template.py:84: RuntimeWarning: invalid value encountered in sqrt\n",
      "  fl[ell, i, j] = epsilon*np.sqrt(A_s[ell]*A_d[ell])*(f_d(nu[i], beta_d)*f_s(nu[j], beta_s) + f_d(nu[j], beta_d)*f_s(nu[i], beta_s))*coeff[i]*coeff[j]\n"
     ]
    },
    {
     "name": "stdout",
     "output_type": "stream",
     "text": [
      "Exception while calling loglikelihood function:\n"
     ]
    },
    {
     "name": "stderr",
     "output_type": "stream",
     "text": [
      "/home/jianyao/Likelihood/Fg_template.py:84: RuntimeWarning: invalid value encountered in sqrt\n",
      "  fl[ell, i, j] = epsilon*np.sqrt(A_s[ell]*A_d[ell])*(f_d(nu[i], beta_d)*f_s(nu[j], beta_s) + f_d(nu[j], beta_d)*f_s(nu[i], beta_s))*coeff[i]*coeff[j]\n"
     ]
    },
    {
     "name": "stdout",
     "output_type": "stream",
     "text": [
      "  params: [ 0.15421333 -3.97065176  2.91047566  0.50945535]\n",
      "Exception while calling loglikelihood function:\n",
      "  params: [ 0.08611278 -2.6054468   1.21894501  0.24594502]\n",
      "  params: [ 0.01923594 -1.80408448  1.14414581  0.63662113]\n",
      "Exception while calling loglikelihood function:\n",
      "  args: []\n",
      "  args: []\n",
      "Exception while calling loglikelihood function:\n",
      "  args: []\n",
      "  kwargs: {}\n"
     ]
    },
    {
     "name": "stderr",
     "output_type": "stream",
     "text": [
      "/home/jianyao/Likelihood/Fg_template.py:84: RuntimeWarning: invalid value encountered in sqrt\n",
      "  fl[ell, i, j] = epsilon*np.sqrt(A_s[ell]*A_d[ell])*(f_d(nu[i], beta_d)*f_s(nu[j], beta_s) + f_d(nu[j], beta_d)*f_s(nu[i], beta_s))*coeff[i]*coeff[j]\n"
     ]
    },
    {
     "name": "stdout",
     "output_type": "stream",
     "text": [
      "Exception while calling loglikelihood function:\n",
      "Exception while calling loglikelihood function:\n",
      "  params: [ 0.01736789 -1.64249764  2.12624472  0.8739769 ]\n",
      "  kwargs: {}\n",
      "  exception:\n"
     ]
    },
    {
     "name": "stderr",
     "output_type": "stream",
     "text": [
      "/home/jianyao/Likelihood/Fg_template.py:84: RuntimeWarning: invalid value encountered in sqrt\n",
      "  fl[ell, i, j] = epsilon*np.sqrt(A_s[ell]*A_d[ell])*(f_d(nu[i], beta_d)*f_s(nu[j], beta_s) + f_d(nu[j], beta_d)*f_s(nu[i], beta_s))*coeff[i]*coeff[j]\n",
      "/home/jianyao/Likelihood/Fg_template.py:84: RuntimeWarning: invalid value encountered in sqrt\n",
      "  fl[ell, i, j] = epsilon*np.sqrt(A_s[ell]*A_d[ell])*(f_d(nu[i], beta_d)*f_s(nu[j], beta_s) + f_d(nu[j], beta_d)*f_s(nu[i], beta_s))*coeff[i]*coeff[j]\n"
     ]
    },
    {
     "name": "stdout",
     "output_type": "stream",
     "text": [
      "  params: [ 0.11953473 -0.0291143   1.18453258  0.74738235]\n",
      "  kwargs: {}\n",
      "  args: []\n",
      "  params: [ 0.16489104 -0.8071779   2.73385732  0.52777457]\n",
      "  exception:\n"
     ]
    },
    {
     "name": "stderr",
     "output_type": "stream",
     "text": [
      "/home/jianyao/Likelihood/Fg_template.py:84: RuntimeWarning: invalid value encountered in sqrt\n",
      "  fl[ell, i, j] = epsilon*np.sqrt(A_s[ell]*A_d[ell])*(f_d(nu[i], beta_d)*f_s(nu[j], beta_s) + f_d(nu[j], beta_d)*f_s(nu[i], beta_s))*coeff[i]*coeff[j]\n"
     ]
    },
    {
     "name": "stdout",
     "output_type": "stream",
     "text": [
      "Exception while calling loglikelihood function:\n",
      "  args: []\n"
     ]
    },
    {
     "name": "stderr",
     "output_type": "stream",
     "text": [
      "/home/jianyao/Likelihood/Fg_template.py:84: RuntimeWarning: invalid value encountered in sqrt\n",
      "  fl[ell, i, j] = epsilon*np.sqrt(A_s[ell]*A_d[ell])*(f_d(nu[i], beta_d)*f_s(nu[j], beta_s) + f_d(nu[j], beta_d)*f_s(nu[i], beta_s))*coeff[i]*coeff[j]\n"
     ]
    },
    {
     "name": "stdout",
     "output_type": "stream",
     "text": [
      "  params: [ 0.02566264 -3.82104931  1.89782736  0.43697487]\n",
      "  params: [ 0.02280778 -1.47244338  1.1987401   0.18008191]\n",
      "  params: [ 0.0308287  -2.59144138  1.63066787  0.79610816]\n"
     ]
    },
    {
     "name": "stderr",
     "output_type": "stream",
     "text": [
      "/home/jianyao/Likelihood/Fg_template.py:84: RuntimeWarning: invalid value encountered in sqrt\n",
      "  fl[ell, i, j] = epsilon*np.sqrt(A_s[ell]*A_d[ell])*(f_d(nu[i], beta_d)*f_s(nu[j], beta_s) + f_d(nu[j], beta_d)*f_s(nu[i], beta_s))*coeff[i]*coeff[j]\n",
      "/home/jianyao/Likelihood/Fg_template.py:84: RuntimeWarning: invalid value encountered in sqrt\n",
      "  fl[ell, i, j] = epsilon*np.sqrt(A_s[ell]*A_d[ell])*(f_d(nu[i], beta_d)*f_s(nu[j], beta_s) + f_d(nu[j], beta_d)*f_s(nu[i], beta_s))*coeff[i]*coeff[j]\n"
     ]
    },
    {
     "name": "stdout",
     "output_type": "stream",
     "text": [
      "  args: []\n"
     ]
    },
    {
     "name": "stderr",
     "output_type": "stream",
     "text": [
      "/home/jianyao/Likelihood/Fg_template.py:84: RuntimeWarning: invalid value encountered in sqrt\n",
      "  fl[ell, i, j] = epsilon*np.sqrt(A_s[ell]*A_d[ell])*(f_d(nu[i], beta_d)*f_s(nu[j], beta_s) + f_d(nu[j], beta_d)*f_s(nu[i], beta_s))*coeff[i]*coeff[j]\n"
     ]
    },
    {
     "name": "stdout",
     "output_type": "stream",
     "text": [
      "  kwargs: {}\n",
      "  exception:\n",
      "Exception while calling loglikelihood function:\n",
      "Exception while calling loglikelihood function:\n",
      "Exception while calling loglikelihood function:\n"
     ]
    },
    {
     "name": "stderr",
     "output_type": "stream",
     "text": [
      "/home/jianyao/Likelihood/Fg_template.py:84: RuntimeWarning: invalid value encountered in sqrt\n",
      "  fl[ell, i, j] = epsilon*np.sqrt(A_s[ell]*A_d[ell])*(f_d(nu[i], beta_d)*f_s(nu[j], beta_s) + f_d(nu[j], beta_d)*f_s(nu[i], beta_s))*coeff[i]*coeff[j]\n",
      "/home/jianyao/Likelihood/Fg_template.py:84: RuntimeWarning: invalid value encountered in sqrt\n",
      "  fl[ell, i, j] = epsilon*np.sqrt(A_s[ell]*A_d[ell])*(f_d(nu[i], beta_d)*f_s(nu[j], beta_s) + f_d(nu[j], beta_d)*f_s(nu[i], beta_s))*coeff[i]*coeff[j]\n",
      "/home/jianyao/Likelihood/Fg_template.py:84: RuntimeWarning: invalid value encountered in sqrt\n",
      "  fl[ell, i, j] = epsilon*np.sqrt(A_s[ell]*A_d[ell])*(f_d(nu[i], beta_d)*f_s(nu[j], beta_s) + f_d(nu[j], beta_d)*f_s(nu[i], beta_s))*coeff[i]*coeff[j]\n",
      "/home/jianyao/Likelihood/Fg_template.py:84: RuntimeWarning: invalid value encountered in sqrt\n",
      "  fl[ell, i, j] = epsilon*np.sqrt(A_s[ell]*A_d[ell])*(f_d(nu[i], beta_d)*f_s(nu[j], beta_s) + f_d(nu[j], beta_d)*f_s(nu[i], beta_s))*coeff[i]*coeff[j]\n",
      "/home/jianyao/Likelihood/Fg_template.py:84: RuntimeWarning: invalid value encountered in sqrt\n",
      "  fl[ell, i, j] = epsilon*np.sqrt(A_s[ell]*A_d[ell])*(f_d(nu[i], beta_d)*f_s(nu[j], beta_s) + f_d(nu[j], beta_d)*f_s(nu[i], beta_s))*coeff[i]*coeff[j]\n"
     ]
    },
    {
     "name": "stdout",
     "output_type": "stream",
     "text": [
      "Exception while calling loglikelihood function:\n"
     ]
    },
    {
     "name": "stderr",
     "output_type": "stream",
     "text": [
      "/home/jianyao/Likelihood/Fg_template.py:84: RuntimeWarning: invalid value encountered in sqrt\n",
      "  fl[ell, i, j] = epsilon*np.sqrt(A_s[ell]*A_d[ell])*(f_d(nu[i], beta_d)*f_s(nu[j], beta_s) + f_d(nu[j], beta_d)*f_s(nu[i], beta_s))*coeff[i]*coeff[j]\n"
     ]
    },
    {
     "name": "stdout",
     "output_type": "stream",
     "text": [
      "  params: [ 0.15421333 -3.97065176  2.91047566  0.50945535]\n",
      "Exception while calling loglikelihood function:\n",
      "  params: [ 0.08611278 -2.6054468   1.21894501  0.24594502]\n",
      "  params: [ 0.01923594 -1.80408448  1.14414581  0.63662113]\n",
      "Exception while calling loglikelihood function:\n",
      "  args: []\n",
      "  args: []\n",
      "Exception while calling loglikelihood function:\n",
      "  args: []\n",
      "  kwargs: {}\n"
     ]
    },
    {
     "name": "stderr",
     "output_type": "stream",
     "text": [
      "/home/jianyao/Likelihood/Fg_template.py:84: RuntimeWarning: invalid value encountered in sqrt\n",
      "  fl[ell, i, j] = epsilon*np.sqrt(A_s[ell]*A_d[ell])*(f_d(nu[i], beta_d)*f_s(nu[j], beta_s) + f_d(nu[j], beta_d)*f_s(nu[i], beta_s))*coeff[i]*coeff[j]\n"
     ]
    },
    {
     "name": "stdout",
     "output_type": "stream",
     "text": [
      "Exception while calling loglikelihood function:\n",
      "Exception while calling loglikelihood function:\n",
      "  params: [ 0.01736789 -1.64249764  2.12624472  0.8739769 ]\n",
      "  kwargs: {}\n",
      "  exception:\n"
     ]
    },
    {
     "name": "stderr",
     "output_type": "stream",
     "text": [
      "/home/jianyao/Likelihood/Fg_template.py:84: RuntimeWarning: invalid value encountered in sqrt\n",
      "  fl[ell, i, j] = epsilon*np.sqrt(A_s[ell]*A_d[ell])*(f_d(nu[i], beta_d)*f_s(nu[j], beta_s) + f_d(nu[j], beta_d)*f_s(nu[i], beta_s))*coeff[i]*coeff[j]\n",
      "/home/jianyao/Likelihood/Fg_template.py:84: RuntimeWarning: invalid value encountered in sqrt\n",
      "  fl[ell, i, j] = epsilon*np.sqrt(A_s[ell]*A_d[ell])*(f_d(nu[i], beta_d)*f_s(nu[j], beta_s) + f_d(nu[j], beta_d)*f_s(nu[i], beta_s))*coeff[i]*coeff[j]\n"
     ]
    },
    {
     "name": "stdout",
     "output_type": "stream",
     "text": [
      "  params: [ 0.11953473 -0.0291143   1.18453258  0.74738235]\n",
      "  kwargs: {}\n",
      "  args: []\n",
      "  params: [ 0.16489104 -0.8071779   2.73385732  0.52777457]\n",
      "  exception:\n"
     ]
    },
    {
     "name": "stderr",
     "output_type": "stream",
     "text": [
      "/home/jianyao/Likelihood/Fg_template.py:84: RuntimeWarning: invalid value encountered in sqrt\n",
      "  fl[ell, i, j] = epsilon*np.sqrt(A_s[ell]*A_d[ell])*(f_d(nu[i], beta_d)*f_s(nu[j], beta_s) + f_d(nu[j], beta_d)*f_s(nu[i], beta_s))*coeff[i]*coeff[j]\n"
     ]
    },
    {
     "name": "stdout",
     "output_type": "stream",
     "text": [
      "Exception while calling loglikelihood function:\n",
      "  args: []\n"
     ]
    },
    {
     "name": "stderr",
     "output_type": "stream",
     "text": [
      "/home/jianyao/Likelihood/Fg_template.py:84: RuntimeWarning: invalid value encountered in sqrt\n",
      "  fl[ell, i, j] = epsilon*np.sqrt(A_s[ell]*A_d[ell])*(f_d(nu[i], beta_d)*f_s(nu[j], beta_s) + f_d(nu[j], beta_d)*f_s(nu[i], beta_s))*coeff[i]*coeff[j]\n"
     ]
    },
    {
     "name": "stdout",
     "output_type": "stream",
     "text": [
      "  params: [ 0.02566264 -3.82104931  1.89782736  0.43697487]\n",
      "  params: [ 0.02280778 -1.47244338  1.1987401   0.18008191]\n",
      "Exception while calling loglikelihood function:\n",
      "  args: []\n",
      "  kwargs: {}\n"
     ]
    },
    {
     "name": "stderr",
     "output_type": "stream",
     "text": [
      "/home/jianyao/Likelihood/Fg_template.py:84: RuntimeWarning: invalid value encountered in sqrt\n",
      "  fl[ell, i, j] = epsilon*np.sqrt(A_s[ell]*A_d[ell])*(f_d(nu[i], beta_d)*f_s(nu[j], beta_s) + f_d(nu[j], beta_d)*f_s(nu[i], beta_s))*coeff[i]*coeff[j]\n"
     ]
    },
    {
     "name": "stdout",
     "output_type": "stream",
     "text": [
      "Exception while calling loglikelihood function:\n"
     ]
    },
    {
     "name": "stderr",
     "output_type": "stream",
     "text": [
      "/home/jianyao/Likelihood/Fg_template.py:84: RuntimeWarning: invalid value encountered in sqrt\n",
      "  fl[ell, i, j] = epsilon*np.sqrt(A_s[ell]*A_d[ell])*(f_d(nu[i], beta_d)*f_s(nu[j], beta_s) + f_d(nu[j], beta_d)*f_s(nu[i], beta_s))*coeff[i]*coeff[j]\n",
      "/home/jianyao/Likelihood/Fg_template.py:84: RuntimeWarning: invalid value encountered in sqrt\n",
      "  fl[ell, i, j] = epsilon*np.sqrt(A_s[ell]*A_d[ell])*(f_d(nu[i], beta_d)*f_s(nu[j], beta_s) + f_d(nu[j], beta_d)*f_s(nu[i], beta_s))*coeff[i]*coeff[j]\n"
     ]
    },
    {
     "name": "stdout",
     "output_type": "stream",
     "text": [
      "  args: []\n",
      "  exception:\n"
     ]
    },
    {
     "name": "stderr",
     "output_type": "stream",
     "text": [
      "/home/jianyao/Likelihood/Fg_template.py:84: RuntimeWarning: invalid value encountered in sqrt\n",
      "  fl[ell, i, j] = epsilon*np.sqrt(A_s[ell]*A_d[ell])*(f_d(nu[i], beta_d)*f_s(nu[j], beta_s) + f_d(nu[j], beta_d)*f_s(nu[i], beta_s))*coeff[i]*coeff[j]\n"
     ]
    },
    {
     "name": "stdout",
     "output_type": "stream",
     "text": [
      "Exception while calling loglikelihood function:\n",
      "  kwargs: {}\n",
      "  params: [ 0.16876812 -1.90034197  1.03030755  0.87216993]\n",
      "  exception:\n",
      "  kwargs: {}\n",
      "  args: []\n",
      "Exception while calling loglikelihood function:\n",
      "Exception while calling loglikelihood function:\n",
      "Exception while calling loglikelihood function:\n",
      "  args: []\n",
      "  kwargs: {}\n"
     ]
    },
    {
     "name": "stderr",
     "output_type": "stream",
     "text": [
      "/home/jianyao/Likelihood/Fg_template.py:84: RuntimeWarning: invalid value encountered in sqrt\n",
      "  fl[ell, i, j] = epsilon*np.sqrt(A_s[ell]*A_d[ell])*(f_d(nu[i], beta_d)*f_s(nu[j], beta_s) + f_d(nu[j], beta_d)*f_s(nu[i], beta_s))*coeff[i]*coeff[j]\n"
     ]
    },
    {
     "name": "stdout",
     "output_type": "stream",
     "text": [
      "Exception while calling loglikelihood function:\n"
     ]
    },
    {
     "name": "stderr",
     "output_type": "stream",
     "text": [
      "/home/jianyao/Likelihood/Fg_template.py:84: RuntimeWarning: invalid value encountered in sqrt\n",
      "  fl[ell, i, j] = epsilon*np.sqrt(A_s[ell]*A_d[ell])*(f_d(nu[i], beta_d)*f_s(nu[j], beta_s) + f_d(nu[j], beta_d)*f_s(nu[i], beta_s))*coeff[i]*coeff[j]\n",
      "/home/jianyao/Likelihood/Fg_template.py:84: RuntimeWarning: invalid value encountered in sqrt\n",
      "  fl[ell, i, j] = epsilon*np.sqrt(A_s[ell]*A_d[ell])*(f_d(nu[i], beta_d)*f_s(nu[j], beta_s) + f_d(nu[j], beta_d)*f_s(nu[i], beta_s))*coeff[i]*coeff[j]\n"
     ]
    },
    {
     "name": "stdout",
     "output_type": "stream",
     "text": [
      "  args: []\n",
      "  exception:\n"
     ]
    },
    {
     "name": "stderr",
     "output_type": "stream",
     "text": [
      "/home/jianyao/Likelihood/Fg_template.py:84: RuntimeWarning: invalid value encountered in sqrt\n",
      "  fl[ell, i, j] = epsilon*np.sqrt(A_s[ell]*A_d[ell])*(f_d(nu[i], beta_d)*f_s(nu[j], beta_s) + f_d(nu[j], beta_d)*f_s(nu[i], beta_s))*coeff[i]*coeff[j]\n"
     ]
    },
    {
     "name": "stdout",
     "output_type": "stream",
     "text": [
      "Exception while calling loglikelihood function:\n",
      "  kwargs: {}\n",
      "  params: [ 0.16876812 -1.90034197  1.03030755  0.87216993]\n",
      "  exception:\n",
      "  kwargs: {}\n",
      "  args: []\n",
      "Exception while calling loglikelihood function:\n",
      "Exception while calling loglikelihood function:\n",
      "  exception:\n",
      "Exception while calling loglikelihood function:\n",
      "Exception while calling loglikelihood function:\n",
      "  kwargs: {}\n",
      "  args: []\n",
      "Exception while calling loglikelihood function:\n",
      "  exception:\n",
      "  exception:\n",
      "  params: [ 0.11952228 -2.27245849  1.01399787  0.59846292]\n",
      "  params: [ 0.02611327 -3.39455797  1.91609189  0.53016047]\n",
      "Exception while calling loglikelihood function:\n",
      "  args: []\n",
      "  kwargs: {}\n",
      "  params: [ 0.13067147 -1.05793829  1.32214258  0.71647591]\n",
      "Exception while calling loglikelihood function:\n",
      "  kwargs: {}\n"
     ]
    },
    {
     "name": "stderr",
     "output_type": "stream",
     "text": [
      "Traceback (most recent call last):\n"
     ]
    },
    {
     "name": "stdout",
     "output_type": "stream",
     "text": [
      "  params: [ 0.09162992 -0.00573243  1.36721397  0.78625894]\n",
      "Exception while calling loglikelihood function:\n",
      "  params: [ 0.01024463 -1.771711    2.08662369  0.99567233]\n",
      "Exception while calling loglikelihood function:\n",
      "Exception while calling loglikelihood function:\n",
      "  params: [ 0.15572205 -1.0203986   1.19261601  0.57600841]\n",
      "  kwargs: {}\n",
      "  params: [ 0.07732024 -2.97426873  2.08554239  0.03234711]\n",
      "  args: []\n",
      "  args: []\n",
      "  exception:\n",
      "  exception:\n",
      "  args: []\n",
      "  exception:\n",
      "  params: [ 0.05146832 -0.89724284  1.83225561  0.16438812]\n",
      "Exception while calling loglikelihood function:\n",
      "  params: [ 0.1370603  -3.17991547  1.18540358  0.54588932]\n",
      "  args: []\n",
      "Exception while calling loglikelihood function:\n",
      "Exception while calling loglikelihood function:\n",
      "  args: []\n",
      "  args: []\n"
     ]
    },
    {
     "name": "stderr",
     "output_type": "stream",
     "text": [
      "  File \"/home/jianyao/anaconda3/lib/python3.7/site-packages/dynesty/dynesty.py\", line 939, in __call__\n",
      "    return self.func(x, *self.args, **self.kwargs)\n",
      "Traceback (most recent call last):\n"
     ]
    },
    {
     "name": "stdout",
     "output_type": "stream",
     "text": [
      "  kwargs: {}\n",
      "  params: [ 0.11428697 -0.19585037  2.33043895  0.62117092]\n",
      "  params: [ 0.07742614 -2.24903937  2.39293489  0.55618851]\n",
      "  params: [ 0.0561265  -2.80579453  2.3776757   0.4053935 ]\n",
      "  kwargs: {}\n",
      "  args: []\n",
      "  exception:\n"
     ]
    },
    {
     "name": "stderr",
     "output_type": "stream",
     "text": [
      "  File \"<ipython-input-308-26dcbcb00df7>\", line 34, in log_likelihood\n",
      "    logL =LogL.run(cl_hat=(cl_hat_fore_ali) , cl_th = C_l, likelihood='HL',sbin=sbin, ebin = ebin);\n"
     ]
    },
    {
     "name": "stdout",
     "output_type": "stream",
     "text": [
      "  kwargs: {}\n",
      "  kwargs: {}\n",
      "Exception while calling loglikelihood function:\n",
      "Exception while calling loglikelihood function:\n",
      "  kwargs: {}\n",
      "  args: []\n",
      "  args: []\n"
     ]
    },
    {
     "name": "stderr",
     "output_type": "stream",
     "text": [
      "  File \"/home/jianyao/Likelihood/logLikeli.py\", line 53, in run\n",
      "    logL = testL(cl_hat = cl_hat, cl_f = self.cl_f[2], cl_th = cl_th, Nf = self.Nf, M_inv = self.Cov_inv, sbin = sbin, ebin = ebin)\n"
     ]
    },
    {
     "name": "stdout",
     "output_type": "stream",
     "text": [
      "  kwargs: {}\n",
      "  exception:\n",
      "  exception:\n",
      "  args: []\n",
      "  args: []\n",
      "  params: [ 0.05758892 -2.13175735  2.09368233  0.5412844 ]\n",
      "  kwargs: {}\n",
      "  exception:\n",
      "  kwargs: {}\n",
      "  params: [ 1.07702951e-03 -2.51169667e+00  2.19964967e+00  2.83374084e-01]\n"
     ]
    },
    {
     "name": "stderr",
     "output_type": "stream",
     "text": [
      "  File \"/home/jianyao/anaconda3/lib/python3.7/site-packages/dynesty/dynesty.py\", line 939, in __call__\n",
      "    return self.func(x, *self.args, **self.kwargs)\n"
     ]
    },
    {
     "name": "stdout",
     "output_type": "stream",
     "text": [
      "  exception:\n",
      "  params: [ 0.00893003 -3.97236367  2.60264732  0.34936918]\n",
      "  args: []\n",
      "  exception:\n",
      "  kwargs: {}\n",
      "  exception:\n"
     ]
    },
    {
     "name": "stderr",
     "output_type": "stream",
     "text": [
      "  File \"<ipython-input-308-26dcbcb00df7>\", line 34, in log_likelihood\n",
      "    logL =LogL.run(cl_hat=(cl_hat_fore_ali) , cl_th = C_l, likelihood='HL',sbin=sbin, ebin = ebin);\n"
     ]
    },
    {
     "name": "stdout",
     "output_type": "stream",
     "text": [
      "  exception:\n",
      "  kwargs: {}\n"
     ]
    },
    {
     "name": "stderr",
     "output_type": "stream",
     "text": [
      "  File \"/home/jianyao/Likelihood/logLikeli.py\", line 53, in run\n",
      "    logL = testL(cl_hat = cl_hat, cl_f = self.cl_f[2], cl_th = cl_th, Nf = self.Nf, M_inv = self.Cov_inv, sbin = sbin, ebin = ebin)\n"
     ]
    },
    {
     "name": "stdout",
     "output_type": "stream",
     "text": [
      "  exception:\n"
     ]
    },
    {
     "name": "stderr",
     "output_type": "stream",
     "text": [
      "  File \"/home/jianyao/Likelihood/utils.py\", line 232, in testL\n",
      "    Xa = (calc_vecp_test(cl_hat, cl_f,cl_th, Nf = Nf))\n"
     ]
    },
    {
     "name": "stdout",
     "output_type": "stream",
     "text": [
      "  kwargs: {}\n"
     ]
    },
    {
     "name": "stderr",
     "output_type": "stream",
     "text": [
      "Traceback (most recent call last):\n"
     ]
    },
    {
     "name": "stdout",
     "output_type": "stream",
     "text": [
      "  kwargs: {}\n",
      "  exception:\n",
      "  params: [ 0.14819559 -0.13013116  1.49204322  0.08526399]\n"
     ]
    },
    {
     "name": "stderr",
     "output_type": "stream",
     "text": [
      "  File \"/home/jianyao/Likelihood/utils.py\", line 232, in testL\n",
      "    Xa = (calc_vecp_test(cl_hat, cl_f,cl_th, Nf = Nf))\n"
     ]
    },
    {
     "name": "stdout",
     "output_type": "stream",
     "text": [
      "  exception:\n",
      "Exception while calling loglikelihood function:\n"
     ]
    },
    {
     "name": "stderr",
     "output_type": "stream",
     "text": [
      "Traceback (most recent call last):\n"
     ]
    },
    {
     "name": "stdout",
     "output_type": "stream",
     "text": [
      "  params: [ 0.05502014 -0.85860362  2.06627225  0.30657904]\n"
     ]
    },
    {
     "name": "stderr",
     "output_type": "stream",
     "text": [
      "  File \"/home/jianyao/Likelihood/utils.py\", line 200, in calc_vecp_test\n",
      "    cl_inv_12= sqrtm(cl_inv)\n"
     ]
    },
    {
     "name": "stdout",
     "output_type": "stream",
     "text": [
      "  params: [ 0.06044973 -3.90985001  2.55100812  0.51094568]\n",
      "  args: []\n"
     ]
    },
    {
     "name": "stderr",
     "output_type": "stream",
     "text": [
      "  File \"/home/jianyao/Likelihood/utils.py\", line 200, in calc_vecp_test\n",
      "    cl_inv_12= sqrtm(cl_inv)\n"
     ]
    },
    {
     "name": "stdout",
     "output_type": "stream",
     "text": [
      "  exception:\n",
      "  kwargs: {}\n",
      "Exception while calling loglikelihood function:\n",
      "  params: [ 0.11901036 -3.04827996  1.33855211  0.86144744]\n",
      "  args: []\n"
     ]
    },
    {
     "name": "stderr",
     "output_type": "stream",
     "text": [
      "  File \"/home/jianyao/anaconda3/lib/python3.7/site-packages/dynesty/dynesty.py\", line 939, in __call__\n",
      "    return self.func(x, *self.args, **self.kwargs)\n"
     ]
    },
    {
     "name": "stdout",
     "output_type": "stream",
     "text": [
      "  exception:\n",
      "  args: []\n"
     ]
    },
    {
     "name": "stderr",
     "output_type": "stream",
     "text": [
      "  File \"/home/jianyao/anaconda3/lib/python3.7/site-packages/dynesty/dynesty.py\", line 939, in __call__\n",
      "    return self.func(x, *self.args, **self.kwargs)\n",
      "  File \"<ipython-input-308-26dcbcb00df7>\", line 34, in log_likelihood\n",
      "    logL =LogL.run(cl_hat=(cl_hat_fore_ali) , cl_th = C_l, likelihood='HL',sbin=sbin, ebin = ebin);\n"
     ]
    },
    {
     "name": "stdout",
     "output_type": "stream",
     "text": [
      "  args: []\n"
     ]
    },
    {
     "name": "stderr",
     "output_type": "stream",
     "text": [
      "  File \"/home/jianyao/anaconda3/lib/python3.7/site-packages/scipy/linalg/_matfuncs_sqrtm.py\", line 163, in sqrtm\n",
      "    A = _asarray_validated(A, check_finite=True, as_inexact=True)\n",
      "  File \"/home/jianyao/anaconda3/lib/python3.7/site-packages/scipy/linalg/_matfuncs_sqrtm.py\", line 163, in sqrtm\n",
      "    A = _asarray_validated(A, check_finite=True, as_inexact=True)\n",
      "  File \"/home/jianyao/anaconda3/lib/python3.7/site-packages/scipy/_lib/_util.py\", line 239, in _asarray_validated\n",
      "    a = toarray(a)\n",
      "  File \"/home/jianyao/Likelihood/logLikeli.py\", line 53, in run\n",
      "    logL = testL(cl_hat = cl_hat, cl_f = self.cl_f[2], cl_th = cl_th, Nf = self.Nf, M_inv = self.Cov_inv, sbin = sbin, ebin = ebin)\n"
     ]
    },
    {
     "name": "stdout",
     "output_type": "stream",
     "text": [
      "  args: []\n"
     ]
    },
    {
     "name": "stderr",
     "output_type": "stream",
     "text": [
      "  File \"<ipython-input-308-26dcbcb00df7>\", line 34, in log_likelihood\n",
      "    logL =LogL.run(cl_hat=(cl_hat_fore_ali) , cl_th = C_l, likelihood='HL',sbin=sbin, ebin = ebin);\n"
     ]
    },
    {
     "name": "stdout",
     "output_type": "stream",
     "text": [
      "  args: []\n"
     ]
    },
    {
     "name": "stderr",
     "output_type": "stream",
     "text": [
      "  File \"/home/jianyao/anaconda3/lib/python3.7/site-packages/scipy/_lib/_util.py\", line 239, in _asarray_validated\n",
      "    a = toarray(a)\n",
      "  File \"/home/jianyao/Likelihood/logLikeli.py\", line 53, in run\n",
      "    logL = testL(cl_hat = cl_hat, cl_f = self.cl_f[2], cl_th = cl_th, Nf = self.Nf, M_inv = self.Cov_inv, sbin = sbin, ebin = ebin)\n",
      "Traceback (most recent call last):\n",
      "  File \"/home/jianyao/anaconda3/lib/python3.7/site-packages/numpy/lib/function_base.py\", line 486, in asarray_chkfinite\n",
      "    \"array must not contain infs or NaNs\")\n"
     ]
    },
    {
     "name": "stdout",
     "output_type": "stream",
     "text": [
      "  kwargs: {}\n"
     ]
    },
    {
     "name": "stderr",
     "output_type": "stream",
     "text": [
      "  File \"/home/jianyao/Likelihood/utils.py\", line 232, in testL\n",
      "    Xa = (calc_vecp_test(cl_hat, cl_f,cl_th, Nf = Nf))\n",
      "Traceback (most recent call last):\n",
      "  File \"/home/jianyao/Likelihood/utils.py\", line 232, in testL\n",
      "    Xa = (calc_vecp_test(cl_hat, cl_f,cl_th, Nf = Nf))\n",
      "  File \"/home/jianyao/anaconda3/lib/python3.7/site-packages/numpy/lib/function_base.py\", line 486, in asarray_chkfinite\n",
      "    \"array must not contain infs or NaNs\")\n",
      "ValueError: array must not contain infs or NaNs\n",
      "  File \"/home/jianyao/Likelihood/utils.py\", line 200, in calc_vecp_test\n",
      "    cl_inv_12= sqrtm(cl_inv)\n"
     ]
    },
    {
     "name": "stdout",
     "output_type": "stream",
     "text": [
      "  exception:\n"
     ]
    },
    {
     "name": "stderr",
     "output_type": "stream",
     "text": [
      "Traceback (most recent call last):\n",
      "  File \"/home/jianyao/anaconda3/lib/python3.7/site-packages/dynesty/dynesty.py\", line 939, in __call__\n",
      "    return self.func(x, *self.args, **self.kwargs)\n",
      "  File \"/home/jianyao/Likelihood/utils.py\", line 200, in calc_vecp_test\n",
      "    cl_inv_12= sqrtm(cl_inv)\n"
     ]
    },
    {
     "name": "stdout",
     "output_type": "stream",
     "text": [
      "  kwargs: {}\n",
      "  exception:\n",
      "Exception while calling loglikelihood function:\n",
      "Exception while calling loglikelihood function:\n",
      "  kwargs: {}\n",
      "  args: []\n",
      "Exception while calling loglikelihood function:\n",
      "  exception:\n",
      "  exception:\n",
      "  params: [ 0.11952228 -2.27245849  1.01399787  0.59846292]\n",
      "  params: [ 0.02611327 -3.39455797  1.91609189  0.53016047]\n",
      "Exception while calling loglikelihood function:\n",
      "  args: []\n",
      "  kwargs: {}\n",
      "  params: [ 0.13067147 -1.05793829  1.32214258  0.71647591]\n",
      "Exception while calling loglikelihood function:\n",
      "  kwargs: {}\n"
     ]
    },
    {
     "name": "stderr",
     "output_type": "stream",
     "text": [
      "Traceback (most recent call last):\n"
     ]
    },
    {
     "name": "stdout",
     "output_type": "stream",
     "text": [
      "  params: [ 0.09162992 -0.00573243  1.36721397  0.78625894]\n",
      "Exception while calling loglikelihood function:\n",
      "  params: [ 0.01024463 -1.771711    2.08662369  0.99567233]\n",
      "Exception while calling loglikelihood function:\n",
      "Exception while calling loglikelihood function:\n",
      "  params: [ 0.15572205 -1.0203986   1.19261601  0.57600841]\n",
      "  kwargs: {}\n",
      "  params: [ 0.07732024 -2.97426873  2.08554239  0.03234711]\n",
      "  args: []\n",
      "  args: []\n",
      "  exception:\n",
      "  exception:\n",
      "  args: []\n",
      "  exception:\n",
      "  params: [ 0.05146832 -0.89724284  1.83225561  0.16438812]\n",
      "Exception while calling loglikelihood function:\n",
      "  params: [ 0.1370603  -3.17991547  1.18540358  0.54588932]\n",
      "  args: []\n",
      "Exception while calling loglikelihood function:\n",
      "Exception while calling loglikelihood function:\n",
      "  args: []\n",
      "  args: []\n"
     ]
    },
    {
     "name": "stderr",
     "output_type": "stream",
     "text": [
      "  File \"/home/jianyao/anaconda3/lib/python3.7/site-packages/dynesty/dynesty.py\", line 939, in __call__\n",
      "    return self.func(x, *self.args, **self.kwargs)\n",
      "Traceback (most recent call last):\n"
     ]
    },
    {
     "name": "stdout",
     "output_type": "stream",
     "text": [
      "  kwargs: {}\n",
      "  params: [ 0.11428697 -0.19585037  2.33043895  0.62117092]\n",
      "  params: [ 0.07742614 -2.24903937  2.39293489  0.55618851]\n",
      "  params: [ 0.0561265  -2.80579453  2.3776757   0.4053935 ]\n",
      "  kwargs: {}\n",
      "  args: []\n",
      "  exception:\n"
     ]
    },
    {
     "name": "stderr",
     "output_type": "stream",
     "text": [
      "  File \"<ipython-input-308-26dcbcb00df7>\", line 34, in log_likelihood\n",
      "    logL =LogL.run(cl_hat=(cl_hat_fore_ali) , cl_th = C_l, likelihood='HL',sbin=sbin, ebin = ebin);\n"
     ]
    },
    {
     "name": "stdout",
     "output_type": "stream",
     "text": [
      "  kwargs: {}\n",
      "  kwargs: {}\n",
      "Exception while calling loglikelihood function:\n",
      "Exception while calling loglikelihood function:\n",
      "  kwargs: {}\n",
      "  args: []\n",
      "  args: []\n"
     ]
    },
    {
     "name": "stderr",
     "output_type": "stream",
     "text": [
      "  File \"/home/jianyao/Likelihood/logLikeli.py\", line 53, in run\n",
      "    logL = testL(cl_hat = cl_hat, cl_f = self.cl_f[2], cl_th = cl_th, Nf = self.Nf, M_inv = self.Cov_inv, sbin = sbin, ebin = ebin)\n"
     ]
    },
    {
     "name": "stdout",
     "output_type": "stream",
     "text": [
      "  kwargs: {}\n",
      "  exception:\n",
      "  exception:\n",
      "  args: []\n",
      "  args: []\n",
      "  params: [ 0.05758892 -2.13175735  2.09368233  0.5412844 ]\n",
      "  kwargs: {}\n",
      "  exception:\n",
      "  kwargs: {}\n",
      "  params: [ 1.07702951e-03 -2.51169667e+00  2.19964967e+00  2.83374084e-01]\n"
     ]
    },
    {
     "name": "stderr",
     "output_type": "stream",
     "text": [
      "  File \"/home/jianyao/anaconda3/lib/python3.7/site-packages/dynesty/dynesty.py\", line 939, in __call__\n",
      "    return self.func(x, *self.args, **self.kwargs)\n"
     ]
    },
    {
     "name": "stdout",
     "output_type": "stream",
     "text": [
      "  exception:\n",
      "  params: [ 0.00893003 -3.97236367  2.60264732  0.34936918]\n",
      "  args: []\n",
      "  exception:\n",
      "  kwargs: {}\n",
      "  exception:\n"
     ]
    },
    {
     "name": "stderr",
     "output_type": "stream",
     "text": [
      "  File \"<ipython-input-308-26dcbcb00df7>\", line 34, in log_likelihood\n",
      "    logL =LogL.run(cl_hat=(cl_hat_fore_ali) , cl_th = C_l, likelihood='HL',sbin=sbin, ebin = ebin);\n"
     ]
    },
    {
     "name": "stdout",
     "output_type": "stream",
     "text": [
      "  exception:\n",
      "  kwargs: {}\n"
     ]
    },
    {
     "name": "stderr",
     "output_type": "stream",
     "text": [
      "  File \"/home/jianyao/Likelihood/logLikeli.py\", line 53, in run\n",
      "    logL = testL(cl_hat = cl_hat, cl_f = self.cl_f[2], cl_th = cl_th, Nf = self.Nf, M_inv = self.Cov_inv, sbin = sbin, ebin = ebin)\n"
     ]
    },
    {
     "name": "stdout",
     "output_type": "stream",
     "text": [
      "  exception:\n"
     ]
    },
    {
     "name": "stderr",
     "output_type": "stream",
     "text": [
      "  File \"/home/jianyao/Likelihood/utils.py\", line 232, in testL\n",
      "    Xa = (calc_vecp_test(cl_hat, cl_f,cl_th, Nf = Nf))\n"
     ]
    },
    {
     "name": "stdout",
     "output_type": "stream",
     "text": [
      "  kwargs: {}\n"
     ]
    },
    {
     "name": "stderr",
     "output_type": "stream",
     "text": [
      "Traceback (most recent call last):\n"
     ]
    },
    {
     "name": "stdout",
     "output_type": "stream",
     "text": [
      "  kwargs: {}\n",
      "  exception:\n",
      "  params: [ 0.14819559 -0.13013116  1.49204322  0.08526399]\n"
     ]
    },
    {
     "name": "stderr",
     "output_type": "stream",
     "text": [
      "  File \"/home/jianyao/Likelihood/utils.py\", line 232, in testL\n",
      "    Xa = (calc_vecp_test(cl_hat, cl_f,cl_th, Nf = Nf))\n"
     ]
    },
    {
     "name": "stdout",
     "output_type": "stream",
     "text": [
      "  exception:\n",
      "Exception while calling loglikelihood function:\n"
     ]
    },
    {
     "name": "stderr",
     "output_type": "stream",
     "text": [
      "Traceback (most recent call last):\n"
     ]
    },
    {
     "name": "stdout",
     "output_type": "stream",
     "text": [
      "  params: [ 0.05502014 -0.85860362  2.06627225  0.30657904]\n"
     ]
    },
    {
     "name": "stderr",
     "output_type": "stream",
     "text": [
      "  File \"/home/jianyao/Likelihood/utils.py\", line 200, in calc_vecp_test\n",
      "    cl_inv_12= sqrtm(cl_inv)\n"
     ]
    },
    {
     "name": "stdout",
     "output_type": "stream",
     "text": [
      "  params: [ 0.06044973 -3.90985001  2.55100812  0.51094568]\n",
      "  args: []\n"
     ]
    },
    {
     "name": "stderr",
     "output_type": "stream",
     "text": [
      "  File \"/home/jianyao/Likelihood/utils.py\", line 200, in calc_vecp_test\n",
      "    cl_inv_12= sqrtm(cl_inv)\n"
     ]
    },
    {
     "name": "stdout",
     "output_type": "stream",
     "text": [
      "  exception:\n",
      "  kwargs: {}\n",
      "Exception while calling loglikelihood function:\n",
      "  params: [ 0.11901036 -3.04827996  1.33855211  0.86144744]\n",
      "  args: []\n"
     ]
    },
    {
     "name": "stderr",
     "output_type": "stream",
     "text": [
      "  File \"/home/jianyao/anaconda3/lib/python3.7/site-packages/dynesty/dynesty.py\", line 939, in __call__\n",
      "    return self.func(x, *self.args, **self.kwargs)\n"
     ]
    },
    {
     "name": "stdout",
     "output_type": "stream",
     "text": [
      "  exception:\n",
      "  args: []\n"
     ]
    },
    {
     "name": "stderr",
     "output_type": "stream",
     "text": [
      "  File \"/home/jianyao/anaconda3/lib/python3.7/site-packages/dynesty/dynesty.py\", line 939, in __call__\n",
      "    return self.func(x, *self.args, **self.kwargs)\n",
      "  File \"<ipython-input-308-26dcbcb00df7>\", line 34, in log_likelihood\n",
      "    logL =LogL.run(cl_hat=(cl_hat_fore_ali) , cl_th = C_l, likelihood='HL',sbin=sbin, ebin = ebin);\n"
     ]
    },
    {
     "name": "stdout",
     "output_type": "stream",
     "text": [
      "  args: []\n"
     ]
    },
    {
     "name": "stderr",
     "output_type": "stream",
     "text": [
      "  File \"/home/jianyao/anaconda3/lib/python3.7/site-packages/scipy/linalg/_matfuncs_sqrtm.py\", line 163, in sqrtm\n",
      "    A = _asarray_validated(A, check_finite=True, as_inexact=True)\n",
      "  File \"/home/jianyao/anaconda3/lib/python3.7/site-packages/scipy/linalg/_matfuncs_sqrtm.py\", line 163, in sqrtm\n",
      "    A = _asarray_validated(A, check_finite=True, as_inexact=True)\n",
      "  File \"/home/jianyao/anaconda3/lib/python3.7/site-packages/scipy/_lib/_util.py\", line 239, in _asarray_validated\n",
      "    a = toarray(a)\n",
      "  File \"/home/jianyao/Likelihood/logLikeli.py\", line 53, in run\n",
      "    logL = testL(cl_hat = cl_hat, cl_f = self.cl_f[2], cl_th = cl_th, Nf = self.Nf, M_inv = self.Cov_inv, sbin = sbin, ebin = ebin)\n"
     ]
    },
    {
     "name": "stdout",
     "output_type": "stream",
     "text": [
      "  args: []\n"
     ]
    },
    {
     "name": "stderr",
     "output_type": "stream",
     "text": [
      "  File \"<ipython-input-308-26dcbcb00df7>\", line 34, in log_likelihood\n",
      "    logL =LogL.run(cl_hat=(cl_hat_fore_ali) , cl_th = C_l, likelihood='HL',sbin=sbin, ebin = ebin);\n"
     ]
    },
    {
     "name": "stdout",
     "output_type": "stream",
     "text": [
      "  args: []\n"
     ]
    },
    {
     "name": "stderr",
     "output_type": "stream",
     "text": [
      "  File \"/home/jianyao/anaconda3/lib/python3.7/site-packages/scipy/_lib/_util.py\", line 239, in _asarray_validated\n",
      "    a = toarray(a)\n",
      "  File \"/home/jianyao/Likelihood/logLikeli.py\", line 53, in run\n",
      "    logL = testL(cl_hat = cl_hat, cl_f = self.cl_f[2], cl_th = cl_th, Nf = self.Nf, M_inv = self.Cov_inv, sbin = sbin, ebin = ebin)\n",
      "Traceback (most recent call last):\n",
      "  File \"/home/jianyao/anaconda3/lib/python3.7/site-packages/numpy/lib/function_base.py\", line 486, in asarray_chkfinite\n",
      "    \"array must not contain infs or NaNs\")\n"
     ]
    },
    {
     "name": "stdout",
     "output_type": "stream",
     "text": [
      "  kwargs: {}\n"
     ]
    },
    {
     "name": "stderr",
     "output_type": "stream",
     "text": [
      "  File \"/home/jianyao/Likelihood/utils.py\", line 232, in testL\n",
      "    Xa = (calc_vecp_test(cl_hat, cl_f,cl_th, Nf = Nf))\n",
      "Traceback (most recent call last):\n",
      "  File \"/home/jianyao/Likelihood/utils.py\", line 232, in testL\n",
      "    Xa = (calc_vecp_test(cl_hat, cl_f,cl_th, Nf = Nf))\n",
      "  File \"/home/jianyao/anaconda3/lib/python3.7/site-packages/numpy/lib/function_base.py\", line 486, in asarray_chkfinite\n",
      "    \"array must not contain infs or NaNs\")\n",
      "ValueError: array must not contain infs or NaNs\n",
      "  File \"/home/jianyao/Likelihood/utils.py\", line 200, in calc_vecp_test\n",
      "    cl_inv_12= sqrtm(cl_inv)\n"
     ]
    },
    {
     "name": "stdout",
     "output_type": "stream",
     "text": [
      "  exception:\n"
     ]
    },
    {
     "name": "stderr",
     "output_type": "stream",
     "text": [
      "Traceback (most recent call last):\n",
      "  File \"/home/jianyao/anaconda3/lib/python3.7/site-packages/dynesty/dynesty.py\", line 939, in __call__\n",
      "    return self.func(x, *self.args, **self.kwargs)\n",
      "  File \"/home/jianyao/Likelihood/utils.py\", line 200, in calc_vecp_test\n",
      "    cl_inv_12= sqrtm(cl_inv)\n"
     ]
    },
    {
     "name": "stdout",
     "output_type": "stream",
     "text": [
      "  kwargs: {}\n"
     ]
    },
    {
     "name": "stderr",
     "output_type": "stream",
     "text": [
      "ValueError: array must not contain infs or NaNs\n",
      "Traceback (most recent call last):\n"
     ]
    },
    {
     "name": "stdout",
     "output_type": "stream",
     "text": [
      "  kwargs: {}\n",
      "  exception:\n"
     ]
    },
    {
     "name": "stderr",
     "output_type": "stream",
     "text": [
      "  File \"/home/jianyao/anaconda3/lib/python3.7/site-packages/dynesty/dynesty.py\", line 939, in __call__\n",
      "    return self.func(x, *self.args, **self.kwargs)\n"
     ]
    },
    {
     "name": "stdout",
     "output_type": "stream",
     "text": [
      "  kwargs: {}\n",
      "  params: [ 0.01588003 -2.71762648  1.11538419  0.29788123]\n"
     ]
    },
    {
     "name": "stderr",
     "output_type": "stream",
     "text": [
      "  File \"<ipython-input-308-26dcbcb00df7>\", line 34, in log_likelihood\n",
      "    logL =LogL.run(cl_hat=(cl_hat_fore_ali) , cl_th = C_l, likelihood='HL',sbin=sbin, ebin = ebin);\n"
     ]
    },
    {
     "name": "stdout",
     "output_type": "stream",
     "text": [
      "  exception:\n",
      "  kwargs: {}\n"
     ]
    },
    {
     "name": "stderr",
     "output_type": "stream",
     "text": [
      "  File \"<ipython-input-308-26dcbcb00df7>\", line 34, in log_likelihood\n",
      "    logL =LogL.run(cl_hat=(cl_hat_fore_ali) , cl_th = C_l, likelihood='HL',sbin=sbin, ebin = ebin);\n",
      "  File \"/home/jianyao/anaconda3/lib/python3.7/site-packages/dynesty/dynesty.py\", line 939, in __call__\n",
      "    return self.func(x, *self.args, **self.kwargs)\n",
      "Traceback (most recent call last):\n"
     ]
    },
    {
     "name": "stdout",
     "output_type": "stream",
     "text": [
      "  exception:\n"
     ]
    },
    {
     "name": "stderr",
     "output_type": "stream",
     "text": [
      "  File \"/home/jianyao/anaconda3/lib/python3.7/site-packages/dynesty/dynesty.py\", line 939, in __call__\n",
      "    return self.func(x, *self.args, **self.kwargs)\n",
      "Traceback (most recent call last):\n",
      "Traceback (most recent call last):\n",
      "  File \"/home/jianyao/anaconda3/lib/python3.7/site-packages/dynesty/dynesty.py\", line 939, in __call__\n",
      "    return self.func(x, *self.args, **self.kwargs)\n",
      "Traceback (most recent call last):\n"
     ]
    },
    {
     "name": "stdout",
     "output_type": "stream",
     "text": [
      "  exception:\n"
     ]
    },
    {
     "name": "stderr",
     "output_type": "stream",
     "text": [
      "Traceback (most recent call last):\n",
      "  File \"/home/jianyao/anaconda3/lib/python3.7/site-packages/scipy/linalg/_matfuncs_sqrtm.py\", line 163, in sqrtm\n",
      "    A = _asarray_validated(A, check_finite=True, as_inexact=True)\n",
      "  File \"/home/jianyao/anaconda3/lib/python3.7/site-packages/dynesty/dynesty.py\", line 939, in __call__\n",
      "    return self.func(x, *self.args, **self.kwargs)\n",
      "  File \"/home/jianyao/Likelihood/logLikeli.py\", line 53, in run\n",
      "    logL = testL(cl_hat = cl_hat, cl_f = self.cl_f[2], cl_th = cl_th, Nf = self.Nf, M_inv = self.Cov_inv, sbin = sbin, ebin = ebin)\n",
      "  File \"/home/jianyao/Likelihood/logLikeli.py\", line 53, in run\n",
      "    logL = testL(cl_hat = cl_hat, cl_f = self.cl_f[2], cl_th = cl_th, Nf = self.Nf, M_inv = self.Cov_inv, sbin = sbin, ebin = ebin)\n",
      "Traceback (most recent call last):\n",
      "  File \"/home/jianyao/anaconda3/lib/python3.7/site-packages/dynesty/dynesty.py\", line 939, in __call__\n",
      "    return self.func(x, *self.args, **self.kwargs)\n",
      "  File \"<ipython-input-308-26dcbcb00df7>\", line 34, in log_likelihood\n",
      "    logL =LogL.run(cl_hat=(cl_hat_fore_ali) , cl_th = C_l, likelihood='HL',sbin=sbin, ebin = ebin);\n"
     ]
    },
    {
     "name": "stdout",
     "output_type": "stream",
     "text": [
      "Exception while calling loglikelihood function:\n"
     ]
    },
    {
     "name": "stderr",
     "output_type": "stream",
     "text": [
      "  File \"/home/jianyao/anaconda3/lib/python3.7/site-packages/dynesty/dynesty.py\", line 939, in __call__\n",
      "    return self.func(x, *self.args, **self.kwargs)\n",
      "Traceback (most recent call last):\n",
      "Traceback (most recent call last):\n",
      "  File \"/home/jianyao/anaconda3/lib/python3.7/site-packages/dynesty/dynesty.py\", line 939, in __call__\n",
      "    return self.func(x, *self.args, **self.kwargs)\n",
      "  File \"/home/jianyao/anaconda3/lib/python3.7/site-packages/dynesty/dynesty.py\", line 939, in __call__\n",
      "    return self.func(x, *self.args, **self.kwargs)\n",
      "  File \"/home/jianyao/Likelihood/utils.py\", line 232, in testL\n",
      "    Xa = (calc_vecp_test(cl_hat, cl_f,cl_th, Nf = Nf))\n",
      "  File \"/home/jianyao/anaconda3/lib/python3.7/site-packages/scipy/_lib/_util.py\", line 239, in _asarray_validated\n",
      "    a = toarray(a)\n",
      "  File \"/home/jianyao/anaconda3/lib/python3.7/site-packages/scipy/linalg/_matfuncs_sqrtm.py\", line 163, in sqrtm\n",
      "    A = _asarray_validated(A, check_finite=True, as_inexact=True)\n",
      "Traceback (most recent call last):\n",
      "  File \"<ipython-input-308-26dcbcb00df7>\", line 34, in log_likelihood\n",
      "    logL =LogL.run(cl_hat=(cl_hat_fore_ali) , cl_th = C_l, likelihood='HL',sbin=sbin, ebin = ebin);\n"
     ]
    },
    {
     "name": "stdout",
     "output_type": "stream",
     "text": [
      "  params: [ 0.18605788 -1.03094048  1.64846104  0.00345241]\n"
     ]
    },
    {
     "name": "stderr",
     "output_type": "stream",
     "text": [
      "  File \"/home/jianyao/Likelihood/logLikeli.py\", line 53, in run\n",
      "    logL = testL(cl_hat = cl_hat, cl_f = self.cl_f[2], cl_th = cl_th, Nf = self.Nf, M_inv = self.Cov_inv, sbin = sbin, ebin = ebin)\n",
      "  File \"/home/jianyao/anaconda3/lib/python3.7/site-packages/dynesty/dynesty.py\", line 939, in __call__\n",
      "    return self.func(x, *self.args, **self.kwargs)\n",
      "  File \"<ipython-input-308-26dcbcb00df7>\", line 34, in log_likelihood\n",
      "    logL =LogL.run(cl_hat=(cl_hat_fore_ali) , cl_th = C_l, likelihood='HL',sbin=sbin, ebin = ebin);\n",
      "  File \"<ipython-input-308-26dcbcb00df7>\", line 34, in log_likelihood\n",
      "    logL =LogL.run(cl_hat=(cl_hat_fore_ali) , cl_th = C_l, likelihood='HL',sbin=sbin, ebin = ebin);\n"
     ]
    },
    {
     "name": "stdout",
     "output_type": "stream",
     "text": [
      "  params: [ 0.10362243 -0.77463254  2.27124719  0.33487864]\n"
     ]
    },
    {
     "name": "stderr",
     "output_type": "stream",
     "text": [
      "  File \"<ipython-input-308-26dcbcb00df7>\", line 34, in log_likelihood\n",
      "    logL =LogL.run(cl_hat=(cl_hat_fore_ali) , cl_th = C_l, likelihood='HL',sbin=sbin, ebin = ebin);\n",
      "  File \"/home/jianyao/anaconda3/lib/python3.7/site-packages/dynesty/dynesty.py\", line 939, in __call__\n",
      "    return self.func(x, *self.args, **self.kwargs)\n",
      "  File \"<ipython-input-308-26dcbcb00df7>\", line 34, in log_likelihood\n",
      "    logL =LogL.run(cl_hat=(cl_hat_fore_ali) , cl_th = C_l, likelihood='HL',sbin=sbin, ebin = ebin);\n",
      "  File \"/home/jianyao/anaconda3/lib/python3.7/site-packages/dynesty/dynesty.py\", line 939, in __call__\n",
      "    return self.func(x, *self.args, **self.kwargs)\n",
      "Traceback (most recent call last):\n",
      "  File \"<ipython-input-308-26dcbcb00df7>\", line 34, in log_likelihood\n",
      "    logL =LogL.run(cl_hat=(cl_hat_fore_ali) , cl_th = C_l, likelihood='HL',sbin=sbin, ebin = ebin);\n"
     ]
    },
    {
     "name": "stdout",
     "output_type": "stream",
     "text": [
      "  args: []\n"
     ]
    },
    {
     "name": "stderr",
     "output_type": "stream",
     "text": [
      "  File \"/home/jianyao/Likelihood/utils.py\", line 200, in calc_vecp_test\n",
      "    cl_inv_12= sqrtm(cl_inv)\n",
      "  File \"/home/jianyao/Likelihood/utils.py\", line 232, in testL\n",
      "    Xa = (calc_vecp_test(cl_hat, cl_f,cl_th, Nf = Nf))\n",
      "  File \"/home/jianyao/anaconda3/lib/python3.7/site-packages/numpy/lib/function_base.py\", line 486, in asarray_chkfinite\n",
      "    \"array must not contain infs or NaNs\")\n",
      "  File \"/home/jianyao/anaconda3/lib/python3.7/site-packages/scipy/_lib/_util.py\", line 239, in _asarray_validated\n",
      "    a = toarray(a)\n",
      "  File \"/home/jianyao/Likelihood/logLikeli.py\", line 53, in run\n",
      "    logL = testL(cl_hat = cl_hat, cl_f = self.cl_f[2], cl_th = cl_th, Nf = self.Nf, M_inv = self.Cov_inv, sbin = sbin, ebin = ebin)\n",
      "  File \"/home/jianyao/anaconda3/lib/python3.7/site-packages/dynesty/dynesty.py\", line 939, in __call__\n",
      "    return self.func(x, *self.args, **self.kwargs)\n",
      "  File \"/home/jianyao/Likelihood/utils.py\", line 232, in testL\n",
      "    Xa = (calc_vecp_test(cl_hat, cl_f,cl_th, Nf = Nf))\n",
      "  File \"<ipython-input-308-26dcbcb00df7>\", line 34, in log_likelihood\n",
      "    logL =LogL.run(cl_hat=(cl_hat_fore_ali) , cl_th = C_l, likelihood='HL',sbin=sbin, ebin = ebin);\n",
      "  File \"/home/jianyao/Likelihood/logLikeli.py\", line 53, in run\n",
      "    logL = testL(cl_hat = cl_hat, cl_f = self.cl_f[2], cl_th = cl_th, Nf = self.Nf, M_inv = self.Cov_inv, sbin = sbin, ebin = ebin)\n",
      "Traceback (most recent call last):\n"
     ]
    },
    {
     "name": "stdout",
     "output_type": "stream",
     "text": [
      "  args: []\n"
     ]
    },
    {
     "name": "stderr",
     "output_type": "stream",
     "text": [
      "  File \"/home/jianyao/Likelihood/logLikeli.py\", line 53, in run\n",
      "    logL = testL(cl_hat = cl_hat, cl_f = self.cl_f[2], cl_th = cl_th, Nf = self.Nf, M_inv = self.Cov_inv, sbin = sbin, ebin = ebin)\n",
      "  File \"/home/jianyao/Likelihood/logLikeli.py\", line 53, in run\n",
      "    logL = testL(cl_hat = cl_hat, cl_f = self.cl_f[2], cl_th = cl_th, Nf = self.Nf, M_inv = self.Cov_inv, sbin = sbin, ebin = ebin)\n",
      "  File \"<ipython-input-308-26dcbcb00df7>\", line 34, in log_likelihood\n",
      "    logL =LogL.run(cl_hat=(cl_hat_fore_ali) , cl_th = C_l, likelihood='HL',sbin=sbin, ebin = ebin);\n",
      "  File \"/home/jianyao/Likelihood/logLikeli.py\", line 53, in run\n",
      "    logL = testL(cl_hat = cl_hat, cl_f = self.cl_f[2], cl_th = cl_th, Nf = self.Nf, M_inv = self.Cov_inv, sbin = sbin, ebin = ebin)\n",
      "Traceback (most recent call last):\n",
      "  File \"<ipython-input-308-26dcbcb00df7>\", line 34, in log_likelihood\n",
      "    logL =LogL.run(cl_hat=(cl_hat_fore_ali) , cl_th = C_l, likelihood='HL',sbin=sbin, ebin = ebin);\n",
      "  File \"/home/jianyao/Likelihood/logLikeli.py\", line 53, in run\n",
      "    logL = testL(cl_hat = cl_hat, cl_f = self.cl_f[2], cl_th = cl_th, Nf = self.Nf, M_inv = self.Cov_inv, sbin = sbin, ebin = ebin)\n",
      "  File \"/home/jianyao/anaconda3/lib/python3.7/site-packages/scipy/linalg/_matfuncs_sqrtm.py\", line 163, in sqrtm\n",
      "    A = _asarray_validated(A, check_finite=True, as_inexact=True)\n",
      "  File \"/home/jianyao/anaconda3/lib/python3.7/site-packages/numpy/lib/function_base.py\", line 486, in asarray_chkfinite\n",
      "    \"array must not contain infs or NaNs\")\n",
      "ValueError: array must not contain infs or NaNs\n",
      "  File \"/home/jianyao/Likelihood/utils.py\", line 232, in testL\n",
      "    Xa = (calc_vecp_test(cl_hat, cl_f,cl_th, Nf = Nf))\n",
      "  File \"/home/jianyao/Likelihood/utils.py\", line 200, in calc_vecp_test\n",
      "    cl_inv_12= sqrtm(cl_inv)\n",
      "  File \"/home/jianyao/Likelihood/utils.py\", line 200, in calc_vecp_test\n",
      "    cl_inv_12= sqrtm(cl_inv)\n"
     ]
    },
    {
     "name": "stdout",
     "output_type": "stream",
     "text": [
      "  args: []\n"
     ]
    },
    {
     "name": "stderr",
     "output_type": "stream",
     "text": [
      "  File \"/home/jianyao/Likelihood/logLikeli.py\", line 53, in run\n",
      "    logL = testL(cl_hat = cl_hat, cl_f = self.cl_f[2], cl_th = cl_th, Nf = self.Nf, M_inv = self.Cov_inv, sbin = sbin, ebin = ebin)\n"
     ]
    },
    {
     "name": "stdout",
     "output_type": "stream",
     "text": [
      "Exception while calling loglikelihood function:\n"
     ]
    },
    {
     "name": "stderr",
     "output_type": "stream",
     "text": [
      "  File \"<ipython-input-308-26dcbcb00df7>\", line 34, in log_likelihood\n",
      "    logL =LogL.run(cl_hat=(cl_hat_fore_ali) , cl_th = C_l, likelihood='HL',sbin=sbin, ebin = ebin);\n",
      "Traceback (most recent call last):\n",
      "  File \"/home/jianyao/Likelihood/utils.py\", line 232, in testL\n",
      "    Xa = (calc_vecp_test(cl_hat, cl_f,cl_th, Nf = Nf))\n",
      "  File \"/home/jianyao/anaconda3/lib/python3.7/site-packages/dynesty/dynesty.py\", line 939, in __call__\n",
      "    return self.func(x, *self.args, **self.kwargs)\n"
     ]
    },
    {
     "name": "stdout",
     "output_type": "stream",
     "text": [
      "  kwargs: {}\n"
     ]
    },
    {
     "name": "stderr",
     "output_type": "stream",
     "text": [
      "Traceback (most recent call last):\n"
     ]
    },
    {
     "name": "stdout",
     "output_type": "stream",
     "text": [
      "  kwargs: {}\n"
     ]
    },
    {
     "name": "stderr",
     "output_type": "stream",
     "text": [
      "  File \"/home/jianyao/Likelihood/utils.py\", line 232, in testL\n",
      "    Xa = (calc_vecp_test(cl_hat, cl_f,cl_th, Nf = Nf))\n",
      "  File \"/home/jianyao/Likelihood/utils.py\", line 232, in testL\n",
      "    Xa = (calc_vecp_test(cl_hat, cl_f,cl_th, Nf = Nf))\n",
      "  File \"/home/jianyao/Likelihood/logLikeli.py\", line 53, in run\n",
      "    logL = testL(cl_hat = cl_hat, cl_f = self.cl_f[2], cl_th = cl_th, Nf = self.Nf, M_inv = self.Cov_inv, sbin = sbin, ebin = ebin)\n",
      "  File \"/home/jianyao/Likelihood/utils.py\", line 232, in testL\n",
      "    Xa = (calc_vecp_test(cl_hat, cl_f,cl_th, Nf = Nf))\n",
      "  File \"/home/jianyao/Likelihood/logLikeli.py\", line 53, in run\n",
      "    logL = testL(cl_hat = cl_hat, cl_f = self.cl_f[2], cl_th = cl_th, Nf = self.Nf, M_inv = self.Cov_inv, sbin = sbin, ebin = ebin)\n",
      "  File \"/home/jianyao/Likelihood/utils.py\", line 232, in testL\n",
      "    Xa = (calc_vecp_test(cl_hat, cl_f,cl_th, Nf = Nf))\n",
      "  File \"/home/jianyao/anaconda3/lib/python3.7/site-packages/scipy/_lib/_util.py\", line 239, in _asarray_validated\n",
      "    a = toarray(a)\n",
      "  File \"/home/jianyao/anaconda3/lib/python3.7/site-packages/dynesty/dynesty.py\", line 939, in __call__\n",
      "    return self.func(x, *self.args, **self.kwargs)\n",
      "Traceback (most recent call last):\n",
      "ValueError: array must not contain infs or NaNs\n",
      "  File \"/home/jianyao/Likelihood/utils.py\", line 200, in calc_vecp_test\n",
      "    cl_inv_12= sqrtm(cl_inv)\n",
      "  File \"/home/jianyao/anaconda3/lib/python3.7/site-packages/scipy/linalg/_matfuncs_sqrtm.py\", line 163, in sqrtm\n",
      "    A = _asarray_validated(A, check_finite=True, as_inexact=True)\n",
      "  File \"/home/jianyao/Likelihood/utils.py\", line 232, in testL\n",
      "    Xa = (calc_vecp_test(cl_hat, cl_f,cl_th, Nf = Nf))\n",
      "  File \"/home/jianyao/anaconda3/lib/python3.7/site-packages/dynesty/dynesty.py\", line 939, in __call__\n",
      "    return self.func(x, *self.args, **self.kwargs)\n",
      "  File \"/home/jianyao/Likelihood/logLikeli.py\", line 53, in run\n",
      "    logL = testL(cl_hat = cl_hat, cl_f = self.cl_f[2], cl_th = cl_th, Nf = self.Nf, M_inv = self.Cov_inv, sbin = sbin, ebin = ebin)\n",
      "  File \"/home/jianyao/Likelihood/utils.py\", line 200, in calc_vecp_test\n",
      "    cl_inv_12= sqrtm(cl_inv)\n",
      "  File \"/home/jianyao/anaconda3/lib/python3.7/site-packages/dynesty/dynesty.py\", line 939, in __call__\n",
      "    return self.func(x, *self.args, **self.kwargs)\n"
     ]
    },
    {
     "name": "stdout",
     "output_type": "stream",
     "text": [
      "  params: [ 0.08274677 -1.12084385  1.05074869  0.53594548]\n",
      "  exception:\n"
     ]
    },
    {
     "name": "stderr",
     "output_type": "stream",
     "text": [
      "  File \"<ipython-input-308-26dcbcb00df7>\", line 34, in log_likelihood\n",
      "    logL =LogL.run(cl_hat=(cl_hat_fore_ali) , cl_th = C_l, likelihood='HL',sbin=sbin, ebin = ebin);\n"
     ]
    },
    {
     "name": "stdout",
     "output_type": "stream",
     "text": [
      "  exception:\n"
     ]
    },
    {
     "name": "stderr",
     "output_type": "stream",
     "text": [
      "  File \"/home/jianyao/Likelihood/utils.py\", line 200, in calc_vecp_test\n",
      "    cl_inv_12= sqrtm(cl_inv)\n",
      "  File \"/home/jianyao/Likelihood/utils.py\", line 232, in testL\n",
      "    Xa = (calc_vecp_test(cl_hat, cl_f,cl_th, Nf = Nf))\n"
     ]
    },
    {
     "name": "stdout",
     "output_type": "stream",
     "text": [
      "  kwargs: {}\n"
     ]
    },
    {
     "name": "stderr",
     "output_type": "stream",
     "text": [
      "  File \"/home/jianyao/Likelihood/utils.py\", line 200, in calc_vecp_test\n",
      "    cl_inv_12= sqrtm(cl_inv)\n",
      "Traceback (most recent call last):\n",
      "  File \"/home/jianyao/Likelihood/utils.py\", line 232, in testL\n",
      "    Xa = (calc_vecp_test(cl_hat, cl_f,cl_th, Nf = Nf))\n",
      "  File \"/home/jianyao/Likelihood/utils.py\", line 200, in calc_vecp_test\n",
      "    cl_inv_12= sqrtm(cl_inv)\n",
      "  File \"/home/jianyao/Likelihood/utils.py\", line 200, in calc_vecp_test\n",
      "    cl_inv_12= sqrtm(cl_inv)\n",
      "Traceback (most recent call last):\n",
      "  File \"/home/jianyao/anaconda3/lib/python3.7/site-packages/numpy/lib/function_base.py\", line 486, in asarray_chkfinite\n",
      "    \"array must not contain infs or NaNs\")\n",
      "  File \"/home/jianyao/anaconda3/lib/python3.7/site-packages/scipy/linalg/_matfuncs_sqrtm.py\", line 163, in sqrtm\n",
      "    A = _asarray_validated(A, check_finite=True, as_inexact=True)\n",
      "ValueError: array must not contain infs or NaNs\n",
      "Traceback (most recent call last):\n"
     ]
    },
    {
     "name": "stdout",
     "output_type": "stream",
     "text": [
      "  kwargs: {}\n",
      "  exception:\n"
     ]
    },
    {
     "name": "stderr",
     "output_type": "stream",
     "text": [
      "  File \"/home/jianyao/anaconda3/lib/python3.7/site-packages/dynesty/dynesty.py\", line 939, in __call__\n",
      "    return self.func(x, *self.args, **self.kwargs)\n"
     ]
    },
    {
     "name": "stdout",
     "output_type": "stream",
     "text": [
      "  kwargs: {}\n",
      "  params: [ 0.01588003 -2.71762648  1.11538419  0.29788123]\n"
     ]
    },
    {
     "name": "stderr",
     "output_type": "stream",
     "text": [
      "  File \"<ipython-input-308-26dcbcb00df7>\", line 34, in log_likelihood\n",
      "    logL =LogL.run(cl_hat=(cl_hat_fore_ali) , cl_th = C_l, likelihood='HL',sbin=sbin, ebin = ebin);\n"
     ]
    },
    {
     "name": "stdout",
     "output_type": "stream",
     "text": [
      "  exception:\n",
      "  kwargs: {}\n"
     ]
    },
    {
     "name": "stderr",
     "output_type": "stream",
     "text": [
      "  File \"<ipython-input-308-26dcbcb00df7>\", line 34, in log_likelihood\n",
      "    logL =LogL.run(cl_hat=(cl_hat_fore_ali) , cl_th = C_l, likelihood='HL',sbin=sbin, ebin = ebin);\n",
      "  File \"/home/jianyao/anaconda3/lib/python3.7/site-packages/dynesty/dynesty.py\", line 939, in __call__\n",
      "    return self.func(x, *self.args, **self.kwargs)\n",
      "Traceback (most recent call last):\n"
     ]
    },
    {
     "name": "stdout",
     "output_type": "stream",
     "text": [
      "  exception:\n"
     ]
    },
    {
     "name": "stderr",
     "output_type": "stream",
     "text": [
      "  File \"/home/jianyao/anaconda3/lib/python3.7/site-packages/dynesty/dynesty.py\", line 939, in __call__\n",
      "    return self.func(x, *self.args, **self.kwargs)\n",
      "Traceback (most recent call last):\n",
      "Traceback (most recent call last):\n",
      "  File \"/home/jianyao/anaconda3/lib/python3.7/site-packages/dynesty/dynesty.py\", line 939, in __call__\n",
      "    return self.func(x, *self.args, **self.kwargs)\n",
      "Traceback (most recent call last):\n"
     ]
    },
    {
     "name": "stdout",
     "output_type": "stream",
     "text": [
      "  exception:\n"
     ]
    },
    {
     "name": "stderr",
     "output_type": "stream",
     "text": [
      "Traceback (most recent call last):\n",
      "  File \"/home/jianyao/anaconda3/lib/python3.7/site-packages/scipy/linalg/_matfuncs_sqrtm.py\", line 163, in sqrtm\n",
      "    A = _asarray_validated(A, check_finite=True, as_inexact=True)\n",
      "  File \"/home/jianyao/anaconda3/lib/python3.7/site-packages/dynesty/dynesty.py\", line 939, in __call__\n",
      "    return self.func(x, *self.args, **self.kwargs)\n",
      "  File \"/home/jianyao/Likelihood/logLikeli.py\", line 53, in run\n",
      "    logL = testL(cl_hat = cl_hat, cl_f = self.cl_f[2], cl_th = cl_th, Nf = self.Nf, M_inv = self.Cov_inv, sbin = sbin, ebin = ebin)\n",
      "  File \"/home/jianyao/Likelihood/logLikeli.py\", line 53, in run\n",
      "    logL = testL(cl_hat = cl_hat, cl_f = self.cl_f[2], cl_th = cl_th, Nf = self.Nf, M_inv = self.Cov_inv, sbin = sbin, ebin = ebin)\n",
      "Traceback (most recent call last):\n",
      "  File \"/home/jianyao/anaconda3/lib/python3.7/site-packages/dynesty/dynesty.py\", line 939, in __call__\n",
      "    return self.func(x, *self.args, **self.kwargs)\n",
      "  File \"<ipython-input-308-26dcbcb00df7>\", line 34, in log_likelihood\n",
      "    logL =LogL.run(cl_hat=(cl_hat_fore_ali) , cl_th = C_l, likelihood='HL',sbin=sbin, ebin = ebin);\n"
     ]
    },
    {
     "name": "stdout",
     "output_type": "stream",
     "text": [
      "Exception while calling loglikelihood function:\n"
     ]
    },
    {
     "name": "stderr",
     "output_type": "stream",
     "text": [
      "  File \"/home/jianyao/anaconda3/lib/python3.7/site-packages/dynesty/dynesty.py\", line 939, in __call__\n",
      "    return self.func(x, *self.args, **self.kwargs)\n",
      "Traceback (most recent call last):\n",
      "Traceback (most recent call last):\n",
      "  File \"/home/jianyao/anaconda3/lib/python3.7/site-packages/dynesty/dynesty.py\", line 939, in __call__\n",
      "    return self.func(x, *self.args, **self.kwargs)\n",
      "  File \"/home/jianyao/anaconda3/lib/python3.7/site-packages/dynesty/dynesty.py\", line 939, in __call__\n",
      "    return self.func(x, *self.args, **self.kwargs)\n",
      "  File \"/home/jianyao/Likelihood/utils.py\", line 232, in testL\n",
      "    Xa = (calc_vecp_test(cl_hat, cl_f,cl_th, Nf = Nf))\n",
      "  File \"/home/jianyao/anaconda3/lib/python3.7/site-packages/scipy/_lib/_util.py\", line 239, in _asarray_validated\n",
      "    a = toarray(a)\n",
      "  File \"/home/jianyao/anaconda3/lib/python3.7/site-packages/scipy/linalg/_matfuncs_sqrtm.py\", line 163, in sqrtm\n",
      "    A = _asarray_validated(A, check_finite=True, as_inexact=True)\n",
      "Traceback (most recent call last):\n",
      "  File \"<ipython-input-308-26dcbcb00df7>\", line 34, in log_likelihood\n",
      "    logL =LogL.run(cl_hat=(cl_hat_fore_ali) , cl_th = C_l, likelihood='HL',sbin=sbin, ebin = ebin);\n"
     ]
    },
    {
     "name": "stdout",
     "output_type": "stream",
     "text": [
      "  params: [ 0.18605788 -1.03094048  1.64846104  0.00345241]\n"
     ]
    },
    {
     "name": "stderr",
     "output_type": "stream",
     "text": [
      "  File \"/home/jianyao/Likelihood/logLikeli.py\", line 53, in run\n",
      "    logL = testL(cl_hat = cl_hat, cl_f = self.cl_f[2], cl_th = cl_th, Nf = self.Nf, M_inv = self.Cov_inv, sbin = sbin, ebin = ebin)\n",
      "  File \"/home/jianyao/anaconda3/lib/python3.7/site-packages/dynesty/dynesty.py\", line 939, in __call__\n",
      "    return self.func(x, *self.args, **self.kwargs)\n",
      "  File \"<ipython-input-308-26dcbcb00df7>\", line 34, in log_likelihood\n",
      "    logL =LogL.run(cl_hat=(cl_hat_fore_ali) , cl_th = C_l, likelihood='HL',sbin=sbin, ebin = ebin);\n",
      "  File \"<ipython-input-308-26dcbcb00df7>\", line 34, in log_likelihood\n",
      "    logL =LogL.run(cl_hat=(cl_hat_fore_ali) , cl_th = C_l, likelihood='HL',sbin=sbin, ebin = ebin);\n"
     ]
    },
    {
     "name": "stdout",
     "output_type": "stream",
     "text": [
      "  params: [ 0.10362243 -0.77463254  2.27124719  0.33487864]\n"
     ]
    },
    {
     "name": "stderr",
     "output_type": "stream",
     "text": [
      "  File \"<ipython-input-308-26dcbcb00df7>\", line 34, in log_likelihood\n",
      "    logL =LogL.run(cl_hat=(cl_hat_fore_ali) , cl_th = C_l, likelihood='HL',sbin=sbin, ebin = ebin);\n",
      "  File \"/home/jianyao/anaconda3/lib/python3.7/site-packages/dynesty/dynesty.py\", line 939, in __call__\n",
      "    return self.func(x, *self.args, **self.kwargs)\n",
      "  File \"<ipython-input-308-26dcbcb00df7>\", line 34, in log_likelihood\n",
      "    logL =LogL.run(cl_hat=(cl_hat_fore_ali) , cl_th = C_l, likelihood='HL',sbin=sbin, ebin = ebin);\n",
      "  File \"/home/jianyao/anaconda3/lib/python3.7/site-packages/dynesty/dynesty.py\", line 939, in __call__\n",
      "    return self.func(x, *self.args, **self.kwargs)\n",
      "Traceback (most recent call last):\n",
      "  File \"<ipython-input-308-26dcbcb00df7>\", line 34, in log_likelihood\n",
      "    logL =LogL.run(cl_hat=(cl_hat_fore_ali) , cl_th = C_l, likelihood='HL',sbin=sbin, ebin = ebin);\n"
     ]
    },
    {
     "name": "stdout",
     "output_type": "stream",
     "text": [
      "  args: []\n"
     ]
    },
    {
     "name": "stderr",
     "output_type": "stream",
     "text": [
      "  File \"/home/jianyao/Likelihood/utils.py\", line 200, in calc_vecp_test\n",
      "    cl_inv_12= sqrtm(cl_inv)\n",
      "  File \"/home/jianyao/Likelihood/utils.py\", line 232, in testL\n",
      "    Xa = (calc_vecp_test(cl_hat, cl_f,cl_th, Nf = Nf))\n",
      "  File \"/home/jianyao/anaconda3/lib/python3.7/site-packages/numpy/lib/function_base.py\", line 486, in asarray_chkfinite\n",
      "    \"array must not contain infs or NaNs\")\n",
      "  File \"/home/jianyao/anaconda3/lib/python3.7/site-packages/scipy/_lib/_util.py\", line 239, in _asarray_validated\n",
      "    a = toarray(a)\n",
      "  File \"/home/jianyao/Likelihood/logLikeli.py\", line 53, in run\n",
      "    logL = testL(cl_hat = cl_hat, cl_f = self.cl_f[2], cl_th = cl_th, Nf = self.Nf, M_inv = self.Cov_inv, sbin = sbin, ebin = ebin)\n",
      "  File \"/home/jianyao/anaconda3/lib/python3.7/site-packages/dynesty/dynesty.py\", line 939, in __call__\n",
      "    return self.func(x, *self.args, **self.kwargs)\n",
      "  File \"/home/jianyao/Likelihood/utils.py\", line 232, in testL\n",
      "    Xa = (calc_vecp_test(cl_hat, cl_f,cl_th, Nf = Nf))\n",
      "  File \"<ipython-input-308-26dcbcb00df7>\", line 34, in log_likelihood\n",
      "    logL =LogL.run(cl_hat=(cl_hat_fore_ali) , cl_th = C_l, likelihood='HL',sbin=sbin, ebin = ebin);\n",
      "  File \"/home/jianyao/Likelihood/logLikeli.py\", line 53, in run\n",
      "    logL = testL(cl_hat = cl_hat, cl_f = self.cl_f[2], cl_th = cl_th, Nf = self.Nf, M_inv = self.Cov_inv, sbin = sbin, ebin = ebin)\n",
      "Traceback (most recent call last):\n"
     ]
    },
    {
     "name": "stdout",
     "output_type": "stream",
     "text": [
      "  args: []\n"
     ]
    },
    {
     "name": "stderr",
     "output_type": "stream",
     "text": [
      "  File \"/home/jianyao/Likelihood/logLikeli.py\", line 53, in run\n",
      "    logL = testL(cl_hat = cl_hat, cl_f = self.cl_f[2], cl_th = cl_th, Nf = self.Nf, M_inv = self.Cov_inv, sbin = sbin, ebin = ebin)\n",
      "  File \"/home/jianyao/Likelihood/logLikeli.py\", line 53, in run\n",
      "    logL = testL(cl_hat = cl_hat, cl_f = self.cl_f[2], cl_th = cl_th, Nf = self.Nf, M_inv = self.Cov_inv, sbin = sbin, ebin = ebin)\n",
      "  File \"<ipython-input-308-26dcbcb00df7>\", line 34, in log_likelihood\n",
      "    logL =LogL.run(cl_hat=(cl_hat_fore_ali) , cl_th = C_l, likelihood='HL',sbin=sbin, ebin = ebin);\n",
      "  File \"/home/jianyao/Likelihood/logLikeli.py\", line 53, in run\n",
      "    logL = testL(cl_hat = cl_hat, cl_f = self.cl_f[2], cl_th = cl_th, Nf = self.Nf, M_inv = self.Cov_inv, sbin = sbin, ebin = ebin)\n",
      "Traceback (most recent call last):\n",
      "  File \"<ipython-input-308-26dcbcb00df7>\", line 34, in log_likelihood\n",
      "    logL =LogL.run(cl_hat=(cl_hat_fore_ali) , cl_th = C_l, likelihood='HL',sbin=sbin, ebin = ebin);\n",
      "  File \"/home/jianyao/Likelihood/logLikeli.py\", line 53, in run\n",
      "    logL = testL(cl_hat = cl_hat, cl_f = self.cl_f[2], cl_th = cl_th, Nf = self.Nf, M_inv = self.Cov_inv, sbin = sbin, ebin = ebin)\n",
      "  File \"/home/jianyao/anaconda3/lib/python3.7/site-packages/scipy/linalg/_matfuncs_sqrtm.py\", line 163, in sqrtm\n",
      "    A = _asarray_validated(A, check_finite=True, as_inexact=True)\n",
      "  File \"/home/jianyao/anaconda3/lib/python3.7/site-packages/numpy/lib/function_base.py\", line 486, in asarray_chkfinite\n",
      "    \"array must not contain infs or NaNs\")\n",
      "ValueError: array must not contain infs or NaNs\n",
      "  File \"/home/jianyao/Likelihood/utils.py\", line 232, in testL\n",
      "    Xa = (calc_vecp_test(cl_hat, cl_f,cl_th, Nf = Nf))\n",
      "  File \"/home/jianyao/Likelihood/utils.py\", line 200, in calc_vecp_test\n",
      "    cl_inv_12= sqrtm(cl_inv)\n",
      "  File \"/home/jianyao/Likelihood/utils.py\", line 200, in calc_vecp_test\n",
      "    cl_inv_12= sqrtm(cl_inv)\n"
     ]
    },
    {
     "name": "stdout",
     "output_type": "stream",
     "text": [
      "  args: []\n"
     ]
    },
    {
     "name": "stderr",
     "output_type": "stream",
     "text": [
      "  File \"/home/jianyao/Likelihood/logLikeli.py\", line 53, in run\n",
      "    logL = testL(cl_hat = cl_hat, cl_f = self.cl_f[2], cl_th = cl_th, Nf = self.Nf, M_inv = self.Cov_inv, sbin = sbin, ebin = ebin)\n"
     ]
    },
    {
     "name": "stdout",
     "output_type": "stream",
     "text": [
      "Exception while calling loglikelihood function:\n"
     ]
    },
    {
     "name": "stderr",
     "output_type": "stream",
     "text": [
      "  File \"<ipython-input-308-26dcbcb00df7>\", line 34, in log_likelihood\n",
      "    logL =LogL.run(cl_hat=(cl_hat_fore_ali) , cl_th = C_l, likelihood='HL',sbin=sbin, ebin = ebin);\n",
      "Traceback (most recent call last):\n",
      "  File \"/home/jianyao/Likelihood/utils.py\", line 232, in testL\n",
      "    Xa = (calc_vecp_test(cl_hat, cl_f,cl_th, Nf = Nf))\n",
      "  File \"/home/jianyao/anaconda3/lib/python3.7/site-packages/dynesty/dynesty.py\", line 939, in __call__\n",
      "    return self.func(x, *self.args, **self.kwargs)\n"
     ]
    },
    {
     "name": "stdout",
     "output_type": "stream",
     "text": [
      "  kwargs: {}\n"
     ]
    },
    {
     "name": "stderr",
     "output_type": "stream",
     "text": [
      "Traceback (most recent call last):\n"
     ]
    },
    {
     "name": "stdout",
     "output_type": "stream",
     "text": [
      "  kwargs: {}\n"
     ]
    },
    {
     "name": "stderr",
     "output_type": "stream",
     "text": [
      "  File \"/home/jianyao/Likelihood/utils.py\", line 232, in testL\n",
      "    Xa = (calc_vecp_test(cl_hat, cl_f,cl_th, Nf = Nf))\n",
      "  File \"/home/jianyao/Likelihood/utils.py\", line 232, in testL\n",
      "    Xa = (calc_vecp_test(cl_hat, cl_f,cl_th, Nf = Nf))\n",
      "  File \"/home/jianyao/Likelihood/logLikeli.py\", line 53, in run\n",
      "    logL = testL(cl_hat = cl_hat, cl_f = self.cl_f[2], cl_th = cl_th, Nf = self.Nf, M_inv = self.Cov_inv, sbin = sbin, ebin = ebin)\n",
      "  File \"/home/jianyao/Likelihood/utils.py\", line 232, in testL\n",
      "    Xa = (calc_vecp_test(cl_hat, cl_f,cl_th, Nf = Nf))\n",
      "  File \"/home/jianyao/Likelihood/logLikeli.py\", line 53, in run\n",
      "    logL = testL(cl_hat = cl_hat, cl_f = self.cl_f[2], cl_th = cl_th, Nf = self.Nf, M_inv = self.Cov_inv, sbin = sbin, ebin = ebin)\n",
      "  File \"/home/jianyao/Likelihood/utils.py\", line 232, in testL\n",
      "    Xa = (calc_vecp_test(cl_hat, cl_f,cl_th, Nf = Nf))\n",
      "  File \"/home/jianyao/anaconda3/lib/python3.7/site-packages/scipy/_lib/_util.py\", line 239, in _asarray_validated\n",
      "    a = toarray(a)\n",
      "  File \"/home/jianyao/anaconda3/lib/python3.7/site-packages/dynesty/dynesty.py\", line 939, in __call__\n",
      "    return self.func(x, *self.args, **self.kwargs)\n",
      "Traceback (most recent call last):\n",
      "ValueError: array must not contain infs or NaNs\n",
      "  File \"/home/jianyao/Likelihood/utils.py\", line 200, in calc_vecp_test\n",
      "    cl_inv_12= sqrtm(cl_inv)\n",
      "  File \"/home/jianyao/anaconda3/lib/python3.7/site-packages/scipy/linalg/_matfuncs_sqrtm.py\", line 163, in sqrtm\n",
      "    A = _asarray_validated(A, check_finite=True, as_inexact=True)\n",
      "  File \"/home/jianyao/Likelihood/utils.py\", line 232, in testL\n",
      "    Xa = (calc_vecp_test(cl_hat, cl_f,cl_th, Nf = Nf))\n",
      "  File \"/home/jianyao/anaconda3/lib/python3.7/site-packages/dynesty/dynesty.py\", line 939, in __call__\n",
      "    return self.func(x, *self.args, **self.kwargs)\n",
      "  File \"/home/jianyao/Likelihood/logLikeli.py\", line 53, in run\n",
      "    logL = testL(cl_hat = cl_hat, cl_f = self.cl_f[2], cl_th = cl_th, Nf = self.Nf, M_inv = self.Cov_inv, sbin = sbin, ebin = ebin)\n",
      "  File \"/home/jianyao/Likelihood/utils.py\", line 200, in calc_vecp_test\n",
      "    cl_inv_12= sqrtm(cl_inv)\n",
      "  File \"/home/jianyao/anaconda3/lib/python3.7/site-packages/dynesty/dynesty.py\", line 939, in __call__\n",
      "    return self.func(x, *self.args, **self.kwargs)\n"
     ]
    },
    {
     "name": "stdout",
     "output_type": "stream",
     "text": [
      "  params: [ 0.08274677 -1.12084385  1.05074869  0.53594548]\n",
      "  exception:\n"
     ]
    },
    {
     "name": "stderr",
     "output_type": "stream",
     "text": [
      "  File \"<ipython-input-308-26dcbcb00df7>\", line 34, in log_likelihood\n",
      "    logL =LogL.run(cl_hat=(cl_hat_fore_ali) , cl_th = C_l, likelihood='HL',sbin=sbin, ebin = ebin);\n"
     ]
    },
    {
     "name": "stdout",
     "output_type": "stream",
     "text": [
      "  exception:\n"
     ]
    },
    {
     "name": "stderr",
     "output_type": "stream",
     "text": [
      "  File \"/home/jianyao/Likelihood/utils.py\", line 200, in calc_vecp_test\n",
      "    cl_inv_12= sqrtm(cl_inv)\n",
      "  File \"/home/jianyao/Likelihood/utils.py\", line 232, in testL\n",
      "    Xa = (calc_vecp_test(cl_hat, cl_f,cl_th, Nf = Nf))\n"
     ]
    },
    {
     "name": "stdout",
     "output_type": "stream",
     "text": [
      "  kwargs: {}\n"
     ]
    },
    {
     "name": "stderr",
     "output_type": "stream",
     "text": [
      "  File \"/home/jianyao/Likelihood/utils.py\", line 200, in calc_vecp_test\n",
      "    cl_inv_12= sqrtm(cl_inv)\n",
      "Traceback (most recent call last):\n",
      "  File \"/home/jianyao/Likelihood/utils.py\", line 232, in testL\n",
      "    Xa = (calc_vecp_test(cl_hat, cl_f,cl_th, Nf = Nf))\n",
      "  File \"/home/jianyao/Likelihood/utils.py\", line 200, in calc_vecp_test\n",
      "    cl_inv_12= sqrtm(cl_inv)\n",
      "  File \"/home/jianyao/Likelihood/utils.py\", line 200, in calc_vecp_test\n",
      "    cl_inv_12= sqrtm(cl_inv)\n",
      "Traceback (most recent call last):\n",
      "  File \"/home/jianyao/anaconda3/lib/python3.7/site-packages/numpy/lib/function_base.py\", line 486, in asarray_chkfinite\n",
      "    \"array must not contain infs or NaNs\")\n",
      "  File \"/home/jianyao/anaconda3/lib/python3.7/site-packages/scipy/linalg/_matfuncs_sqrtm.py\", line 163, in sqrtm\n",
      "    A = _asarray_validated(A, check_finite=True, as_inexact=True)\n",
      "  File \"<ipython-input-308-26dcbcb00df7>\", line 34, in log_likelihood\n",
      "    logL =LogL.run(cl_hat=(cl_hat_fore_ali) , cl_th = C_l, likelihood='HL',sbin=sbin, ebin = ebin);\n",
      "  File \"/home/jianyao/anaconda3/lib/python3.7/site-packages/dynesty/dynesty.py\", line 939, in __call__\n",
      "    return self.func(x, *self.args, **self.kwargs)\n",
      "  File \"/home/jianyao/anaconda3/lib/python3.7/site-packages/dynesty/dynesty.py\", line 939, in __call__\n",
      "    return self.func(x, *self.args, **self.kwargs)\n",
      "  File \"/home/jianyao/anaconda3/lib/python3.7/site-packages/scipy/_lib/_util.py\", line 239, in _asarray_validated\n",
      "    a = toarray(a)\n",
      "  File \"/home/jianyao/anaconda3/lib/python3.7/site-packages/scipy/linalg/_matfuncs_sqrtm.py\", line 163, in sqrtm\n",
      "    A = _asarray_validated(A, check_finite=True, as_inexact=True)\n",
      "  File \"/home/jianyao/Likelihood/utils.py\", line 200, in calc_vecp_test\n",
      "    cl_inv_12= sqrtm(cl_inv)\n",
      "  File \"/home/jianyao/Likelihood/utils.py\", line 232, in testL\n",
      "    Xa = (calc_vecp_test(cl_hat, cl_f,cl_th, Nf = Nf))\n",
      "  File \"<ipython-input-308-26dcbcb00df7>\", line 34, in log_likelihood\n",
      "    logL =LogL.run(cl_hat=(cl_hat_fore_ali) , cl_th = C_l, likelihood='HL',sbin=sbin, ebin = ebin);\n",
      "  File \"<ipython-input-308-26dcbcb00df7>\", line 34, in log_likelihood\n",
      "    logL =LogL.run(cl_hat=(cl_hat_fore_ali) , cl_th = C_l, likelihood='HL',sbin=sbin, ebin = ebin);\n",
      "  File \"/home/jianyao/anaconda3/lib/python3.7/site-packages/scipy/linalg/_matfuncs_sqrtm.py\", line 163, in sqrtm\n",
      "    A = _asarray_validated(A, check_finite=True, as_inexact=True)\n",
      "  File \"/home/jianyao/Likelihood/logLikeli.py\", line 53, in run\n",
      "    logL = testL(cl_hat = cl_hat, cl_f = self.cl_f[2], cl_th = cl_th, Nf = self.Nf, M_inv = self.Cov_inv, sbin = sbin, ebin = ebin)\n",
      "Traceback (most recent call last):\n",
      "  File \"/home/jianyao/Likelihood/utils.py\", line 200, in calc_vecp_test\n",
      "    cl_inv_12= sqrtm(cl_inv)\n",
      "  File \"/home/jianyao/anaconda3/lib/python3.7/site-packages/scipy/linalg/_matfuncs_sqrtm.py\", line 163, in sqrtm\n",
      "    A = _asarray_validated(A, check_finite=True, as_inexact=True)\n"
     ]
    },
    {
     "name": "stdout",
     "output_type": "stream",
     "text": [
      "  exception:\n"
     ]
    },
    {
     "name": "stderr",
     "output_type": "stream",
     "text": [
      "  File \"/home/jianyao/Likelihood/utils.py\", line 200, in calc_vecp_test\n",
      "    cl_inv_12= sqrtm(cl_inv)\n",
      "  File \"/home/jianyao/anaconda3/lib/python3.7/site-packages/scipy/linalg/_matfuncs_sqrtm.py\", line 163, in sqrtm\n",
      "    A = _asarray_validated(A, check_finite=True, as_inexact=True)\n",
      "  File \"/home/jianyao/anaconda3/lib/python3.7/site-packages/scipy/linalg/_matfuncs_sqrtm.py\", line 163, in sqrtm\n",
      "    A = _asarray_validated(A, check_finite=True, as_inexact=True)\n",
      "ValueError: array must not contain infs or NaNs\n"
     ]
    },
    {
     "name": "stdout",
     "output_type": "stream",
     "text": [
      "  args: []\n"
     ]
    },
    {
     "name": "stderr",
     "output_type": "stream",
     "text": [
      "  File \"/home/jianyao/Likelihood/logLikeli.py\", line 53, in run\n",
      "    logL = testL(cl_hat = cl_hat, cl_f = self.cl_f[2], cl_th = cl_th, Nf = self.Nf, M_inv = self.Cov_inv, sbin = sbin, ebin = ebin)\n"
     ]
    },
    {
     "name": "stdout",
     "output_type": "stream",
     "text": [
      "Exception while calling loglikelihood function:\n"
     ]
    },
    {
     "name": "stderr",
     "output_type": "stream",
     "text": [
      "  File \"<ipython-input-308-26dcbcb00df7>\", line 34, in log_likelihood\n",
      "    logL =LogL.run(cl_hat=(cl_hat_fore_ali) , cl_th = C_l, likelihood='HL',sbin=sbin, ebin = ebin);\n",
      "  File \"/home/jianyao/anaconda3/lib/python3.7/site-packages/numpy/lib/function_base.py\", line 486, in asarray_chkfinite\n",
      "    \"array must not contain infs or NaNs\")\n",
      "  File \"<ipython-input-308-26dcbcb00df7>\", line 34, in log_likelihood\n",
      "    logL =LogL.run(cl_hat=(cl_hat_fore_ali) , cl_th = C_l, likelihood='HL',sbin=sbin, ebin = ebin);\n",
      "  File \"/home/jianyao/anaconda3/lib/python3.7/site-packages/scipy/_lib/_util.py\", line 239, in _asarray_validated\n",
      "    a = toarray(a)\n",
      "  File \"/home/jianyao/anaconda3/lib/python3.7/site-packages/scipy/_lib/_util.py\", line 239, in _asarray_validated\n",
      "    a = toarray(a)\n",
      "  File \"/home/jianyao/anaconda3/lib/python3.7/site-packages/scipy/linalg/_matfuncs_sqrtm.py\", line 163, in sqrtm\n",
      "    A = _asarray_validated(A, check_finite=True, as_inexact=True)\n",
      "  File \"/home/jianyao/Likelihood/logLikeli.py\", line 53, in run\n",
      "    logL = testL(cl_hat = cl_hat, cl_f = self.cl_f[2], cl_th = cl_th, Nf = self.Nf, M_inv = self.Cov_inv, sbin = sbin, ebin = ebin)\n",
      "  File \"/home/jianyao/anaconda3/lib/python3.7/site-packages/dynesty/dynesty.py\", line 939, in __call__\n",
      "    return self.func(x, *self.args, **self.kwargs)\n",
      "  File \"/home/jianyao/Likelihood/utils.py\", line 200, in calc_vecp_test\n",
      "    cl_inv_12= sqrtm(cl_inv)\n",
      "  File \"/home/jianyao/anaconda3/lib/python3.7/site-packages/scipy/linalg/_matfuncs_sqrtm.py\", line 163, in sqrtm\n",
      "    A = _asarray_validated(A, check_finite=True, as_inexact=True)\n",
      "  File \"/home/jianyao/anaconda3/lib/python3.7/site-packages/scipy/_lib/_util.py\", line 239, in _asarray_validated\n",
      "    a = toarray(a)\n",
      "  File \"/home/jianyao/anaconda3/lib/python3.7/site-packages/dynesty/dynesty.py\", line 939, in __call__\n",
      "    return self.func(x, *self.args, **self.kwargs)\n",
      "  File \"/home/jianyao/Likelihood/utils.py\", line 232, in testL\n",
      "    Xa = (calc_vecp_test(cl_hat, cl_f,cl_th, Nf = Nf))\n",
      "  File \"/home/jianyao/Likelihood/logLikeli.py\", line 53, in run\n",
      "    logL = testL(cl_hat = cl_hat, cl_f = self.cl_f[2], cl_th = cl_th, Nf = self.Nf, M_inv = self.Cov_inv, sbin = sbin, ebin = ebin)\n",
      "  File \"/home/jianyao/anaconda3/lib/python3.7/site-packages/scipy/linalg/_matfuncs_sqrtm.py\", line 163, in sqrtm\n",
      "    A = _asarray_validated(A, check_finite=True, as_inexact=True)\n",
      "  File \"/home/jianyao/Likelihood/utils.py\", line 232, in testL\n",
      "    Xa = (calc_vecp_test(cl_hat, cl_f,cl_th, Nf = Nf))\n",
      "  File \"/home/jianyao/anaconda3/lib/python3.7/site-packages/scipy/_lib/_util.py\", line 239, in _asarray_validated\n",
      "    a = toarray(a)\n",
      "  File \"/home/jianyao/anaconda3/lib/python3.7/site-packages/scipy/linalg/_matfuncs_sqrtm.py\", line 163, in sqrtm\n",
      "    A = _asarray_validated(A, check_finite=True, as_inexact=True)\n",
      "Traceback (most recent call last):\n"
     ]
    },
    {
     "name": "stdout",
     "output_type": "stream",
     "text": [
      "Exception while calling loglikelihood function:\n",
      "  kwargs: {}\n"
     ]
    },
    {
     "name": "stderr",
     "output_type": "stream",
     "text": [
      "  File \"/home/jianyao/anaconda3/lib/python3.7/site-packages/scipy/_lib/_util.py\", line 239, in _asarray_validated\n",
      "    a = toarray(a)\n",
      "  File \"/home/jianyao/anaconda3/lib/python3.7/site-packages/scipy/_lib/_util.py\", line 239, in _asarray_validated\n",
      "    a = toarray(a)\n",
      "  File \"/home/jianyao/Likelihood/logLikeli.py\", line 53, in run\n",
      "    logL = testL(cl_hat = cl_hat, cl_f = self.cl_f[2], cl_th = cl_th, Nf = self.Nf, M_inv = self.Cov_inv, sbin = sbin, ebin = ebin)\n",
      "ValueError: array must not contain infs or NaNs\n",
      "  File \"/home/jianyao/Likelihood/logLikeli.py\", line 53, in run\n",
      "    logL = testL(cl_hat = cl_hat, cl_f = self.cl_f[2], cl_th = cl_th, Nf = self.Nf, M_inv = self.Cov_inv, sbin = sbin, ebin = ebin)\n",
      "  File \"/home/jianyao/anaconda3/lib/python3.7/site-packages/scipy/_lib/_util.py\", line 239, in _asarray_validated\n",
      "    a = toarray(a)\n",
      "  File \"/home/jianyao/anaconda3/lib/python3.7/site-packages/numpy/lib/function_base.py\", line 486, in asarray_chkfinite\n",
      "    \"array must not contain infs or NaNs\")\n",
      "  File \"/home/jianyao/Likelihood/utils.py\", line 232, in testL\n",
      "    Xa = (calc_vecp_test(cl_hat, cl_f,cl_th, Nf = Nf))\n",
      "Traceback (most recent call last):\n",
      "  File \"<ipython-input-308-26dcbcb00df7>\", line 34, in log_likelihood\n",
      "    logL =LogL.run(cl_hat=(cl_hat_fore_ali) , cl_th = C_l, likelihood='HL',sbin=sbin, ebin = ebin);\n",
      "  File \"/home/jianyao/anaconda3/lib/python3.7/site-packages/numpy/lib/function_base.py\", line 486, in asarray_chkfinite\n",
      "    \"array must not contain infs or NaNs\")\n",
      "  File \"/home/jianyao/anaconda3/lib/python3.7/site-packages/numpy/lib/function_base.py\", line 486, in asarray_chkfinite\n",
      "    \"array must not contain infs or NaNs\")\n",
      "  File \"/home/jianyao/anaconda3/lib/python3.7/site-packages/scipy/_lib/_util.py\", line 239, in _asarray_validated\n",
      "    a = toarray(a)\n",
      "  File \"/home/jianyao/Likelihood/utils.py\", line 200, in calc_vecp_test\n",
      "    cl_inv_12= sqrtm(cl_inv)\n",
      "  File \"<ipython-input-308-26dcbcb00df7>\", line 34, in log_likelihood\n",
      "    logL =LogL.run(cl_hat=(cl_hat_fore_ali) , cl_th = C_l, likelihood='HL',sbin=sbin, ebin = ebin);\n",
      "  File \"<ipython-input-308-26dcbcb00df7>\", line 34, in log_likelihood\n",
      "    logL =LogL.run(cl_hat=(cl_hat_fore_ali) , cl_th = C_l, likelihood='HL',sbin=sbin, ebin = ebin);\n"
     ]
    },
    {
     "name": "stdout",
     "output_type": "stream",
     "text": [
      "  params: [ 0.16241799 -2.36528873  2.89478159  0.01144342]\n"
     ]
    },
    {
     "name": "stderr",
     "output_type": "stream",
     "text": [
      "  File \"/home/jianyao/Likelihood/utils.py\", line 232, in testL\n",
      "    Xa = (calc_vecp_test(cl_hat, cl_f,cl_th, Nf = Nf))\n",
      "  File \"/home/jianyao/anaconda3/lib/python3.7/site-packages/scipy/_lib/_util.py\", line 239, in _asarray_validated\n",
      "    a = toarray(a)\n",
      "  File \"/home/jianyao/anaconda3/lib/python3.7/site-packages/numpy/lib/function_base.py\", line 486, in asarray_chkfinite\n",
      "    \"array must not contain infs or NaNs\")\n",
      "  File \"/home/jianyao/anaconda3/lib/python3.7/site-packages/numpy/lib/function_base.py\", line 486, in asarray_chkfinite\n",
      "    \"array must not contain infs or NaNs\")\n",
      "  File \"/home/jianyao/anaconda3/lib/python3.7/site-packages/numpy/lib/function_base.py\", line 486, in asarray_chkfinite\n",
      "    \"array must not contain infs or NaNs\")\n",
      "  File \"/home/jianyao/anaconda3/lib/python3.7/site-packages/scipy/_lib/_util.py\", line 239, in _asarray_validated\n",
      "    a = toarray(a)\n",
      "  File \"/home/jianyao/anaconda3/lib/python3.7/site-packages/scipy/linalg/_matfuncs_sqrtm.py\", line 163, in sqrtm\n",
      "    A = _asarray_validated(A, check_finite=True, as_inexact=True)\n",
      "  File \"/home/jianyao/Likelihood/utils.py\", line 200, in calc_vecp_test\n",
      "    cl_inv_12= sqrtm(cl_inv)\n",
      "Traceback (most recent call last):\n"
     ]
    },
    {
     "name": "stdout",
     "output_type": "stream",
     "text": [
      "  exception:\n"
     ]
    },
    {
     "name": "stderr",
     "output_type": "stream",
     "text": [
      "  File \"/home/jianyao/Likelihood/utils.py\", line 232, in testL\n",
      "    Xa = (calc_vecp_test(cl_hat, cl_f,cl_th, Nf = Nf))\n"
     ]
    },
    {
     "name": "stdout",
     "output_type": "stream",
     "text": [
      "Exception while calling loglikelihood function:\n"
     ]
    },
    {
     "name": "stderr",
     "output_type": "stream",
     "text": [
      "  File \"/home/jianyao/anaconda3/lib/python3.7/site-packages/numpy/lib/function_base.py\", line 486, in asarray_chkfinite\n",
      "    \"array must not contain infs or NaNs\")\n",
      "ValueError: array must not contain infs or NaNs\n",
      "  File \"/home/jianyao/Likelihood/utils.py\", line 200, in calc_vecp_test\n",
      "    cl_inv_12= sqrtm(cl_inv)\n",
      "  File \"/home/jianyao/Likelihood/utils.py\", line 232, in testL\n",
      "    Xa = (calc_vecp_test(cl_hat, cl_f,cl_th, Nf = Nf))\n",
      "  File \"/home/jianyao/Likelihood/logLikeli.py\", line 53, in run\n",
      "    logL = testL(cl_hat = cl_hat, cl_f = self.cl_f[2], cl_th = cl_th, Nf = self.Nf, M_inv = self.Cov_inv, sbin = sbin, ebin = ebin)\n",
      "ValueError: array must not contain infs or NaNs\n",
      "  File \"/home/jianyao/anaconda3/lib/python3.7/site-packages/numpy/lib/function_base.py\", line 486, in asarray_chkfinite\n",
      "    \"array must not contain infs or NaNs\")\n"
     ]
    },
    {
     "name": "stdout",
     "output_type": "stream",
     "text": [
      "  params: [ 0.17111771 -2.31090142  1.92828086  0.07123147]\n"
     ]
    },
    {
     "name": "stderr",
     "output_type": "stream",
     "text": [
      "ValueError: array must not contain infs or NaNs\n",
      "  File \"/home/jianyao/Likelihood/logLikeli.py\", line 53, in run\n",
      "    logL = testL(cl_hat = cl_hat, cl_f = self.cl_f[2], cl_th = cl_th, Nf = self.Nf, M_inv = self.Cov_inv, sbin = sbin, ebin = ebin)\n",
      "  File \"/home/jianyao/anaconda3/lib/python3.7/site-packages/dynesty/dynesty.py\", line 939, in __call__\n",
      "    return self.func(x, *self.args, **self.kwargs)\n",
      "Traceback (most recent call last):\n",
      "  File \"/home/jianyao/Likelihood/logLikeli.py\", line 53, in run\n",
      "    logL = testL(cl_hat = cl_hat, cl_f = self.cl_f[2], cl_th = cl_th, Nf = self.Nf, M_inv = self.Cov_inv, sbin = sbin, ebin = ebin)\n",
      "ValueError: array must not contain infs or NaNs\n",
      "  File \"/home/jianyao/anaconda3/lib/python3.7/site-packages/numpy/lib/function_base.py\", line 486, in asarray_chkfinite\n",
      "    \"array must not contain infs or NaNs\")\n",
      "ValueError: array must not contain infs or NaNs\n"
     ]
    },
    {
     "name": "stdout",
     "output_type": "stream",
     "text": [
      "  args: []\n"
     ]
    },
    {
     "name": "stderr",
     "output_type": "stream",
     "text": [
      "  File \"/home/jianyao/anaconda3/lib/python3.7/site-packages/dynesty/dynesty.py\", line 939, in __call__\n",
      "    return self.func(x, *self.args, **self.kwargs)\n",
      "  File \"/home/jianyao/anaconda3/lib/python3.7/site-packages/numpy/lib/function_base.py\", line 486, in asarray_chkfinite\n",
      "    \"array must not contain infs or NaNs\")\n",
      "  File \"/home/jianyao/anaconda3/lib/python3.7/site-packages/scipy/_lib/_util.py\", line 239, in _asarray_validated\n",
      "    a = toarray(a)\n",
      "  File \"/home/jianyao/anaconda3/lib/python3.7/site-packages/scipy/linalg/_matfuncs_sqrtm.py\", line 163, in sqrtm\n",
      "    A = _asarray_validated(A, check_finite=True, as_inexact=True)\n",
      "  File \"/home/jianyao/Likelihood/utils.py\", line 200, in calc_vecp_test\n",
      "    cl_inv_12= sqrtm(cl_inv)\n",
      "  File \"/home/jianyao/Likelihood/utils.py\", line 200, in calc_vecp_test\n",
      "    cl_inv_12= sqrtm(cl_inv)\n",
      "Traceback (most recent call last):\n",
      "ValueError: array must not contain infs or NaNs\n",
      "  File \"/home/jianyao/anaconda3/lib/python3.7/site-packages/scipy/linalg/_matfuncs_sqrtm.py\", line 163, in sqrtm\n",
      "    A = _asarray_validated(A, check_finite=True, as_inexact=True)\n",
      "ValueError: array must not contain infs or NaNs\n",
      "  File \"/home/jianyao/Likelihood/utils.py\", line 232, in testL\n",
      "    Xa = (calc_vecp_test(cl_hat, cl_f,cl_th, Nf = Nf))\n"
     ]
    },
    {
     "name": "stdout",
     "output_type": "stream",
     "text": [
      "Exception while calling loglikelihood function:\n"
     ]
    },
    {
     "name": "stderr",
     "output_type": "stream",
     "text": [
      "ValueError: array must not contain infs or NaNs\n",
      "  File \"/home/jianyao/Likelihood/utils.py\", line 200, in calc_vecp_test\n",
      "    cl_inv_12= sqrtm(cl_inv)\n"
     ]
    },
    {
     "name": "stdout",
     "output_type": "stream",
     "text": [
      "  args: []\n",
      "  params: [ 0.03599003 -2.0213814   1.91025649  0.14804077]\n"
     ]
    },
    {
     "name": "stderr",
     "output_type": "stream",
     "text": [
      "  File \"/home/jianyao/anaconda3/lib/python3.7/site-packages/dynesty/dynesty.py\", line 939, in __call__\n",
      "    return self.func(x, *self.args, **self.kwargs)\n",
      "  File \"/home/jianyao/Likelihood/utils.py\", line 232, in testL\n",
      "    Xa = (calc_vecp_test(cl_hat, cl_f,cl_th, Nf = Nf))\n",
      "  File \"<ipython-input-308-26dcbcb00df7>\", line 34, in log_likelihood\n",
      "    logL =LogL.run(cl_hat=(cl_hat_fore_ali) , cl_th = C_l, likelihood='HL',sbin=sbin, ebin = ebin);\n",
      "ValueError: array must not contain infs or NaNs\n",
      "  File \"/home/jianyao/Likelihood/utils.py\", line 232, in testL\n",
      "    Xa = (calc_vecp_test(cl_hat, cl_f,cl_th, Nf = Nf))\n"
     ]
    },
    {
     "name": "stdout",
     "output_type": "stream",
     "text": [
      "  kwargs: {}\n"
     ]
    },
    {
     "name": "stderr",
     "output_type": "stream",
     "text": [
      "ValueError: array must not contain infs or NaNs\n",
      "  File \"/home/jianyao/anaconda3/lib/python3.7/site-packages/scipy/linalg/_matfuncs_sqrtm.py\", line 163, in sqrtm\n",
      "    A = _asarray_validated(A, check_finite=True, as_inexact=True)\n",
      "  File \"/home/jianyao/anaconda3/lib/python3.7/site-packages/dynesty/dynesty.py\", line 939, in __call__\n",
      "    return self.func(x, *self.args, **self.kwargs)\n",
      "  File \"/home/jianyao/anaconda3/lib/python3.7/site-packages/dynesty/dynesty.py\", line 939, in __call__\n",
      "    return self.func(x, *self.args, **self.kwargs)\n",
      "  File \"/home/jianyao/anaconda3/lib/python3.7/site-packages/scipy/_lib/_util.py\", line 239, in _asarray_validated\n",
      "    a = toarray(a)\n",
      "  File \"/home/jianyao/anaconda3/lib/python3.7/site-packages/scipy/_lib/_util.py\", line 239, in _asarray_validated\n",
      "    a = toarray(a)\n",
      "  File \"/home/jianyao/Likelihood/utils.py\", line 200, in calc_vecp_test\n",
      "    cl_inv_12= sqrtm(cl_inv)\n",
      "  File \"<ipython-input-308-26dcbcb00df7>\", line 34, in log_likelihood\n",
      "    logL =LogL.run(cl_hat=(cl_hat_fore_ali) , cl_th = C_l, likelihood='HL',sbin=sbin, ebin = ebin);\n",
      "  File \"/home/jianyao/anaconda3/lib/python3.7/site-packages/scipy/linalg/_matfuncs_sqrtm.py\", line 163, in sqrtm\n",
      "    A = _asarray_validated(A, check_finite=True, as_inexact=True)\n"
     ]
    },
    {
     "name": "stdout",
     "output_type": "stream",
     "text": [
      "  kwargs: {}\n"
     ]
    },
    {
     "name": "stderr",
     "output_type": "stream",
     "text": [
      "  File \"/home/jianyao/anaconda3/lib/python3.7/site-packages/numpy/lib/function_base.py\", line 486, in asarray_chkfinite\n",
      "    \"array must not contain infs or NaNs\")\n"
     ]
    },
    {
     "name": "stdout",
     "output_type": "stream",
     "text": [
      "  params: [ 0.09062085 -1.42735348  2.9451582   0.74548411]\n",
      "  args: []\n"
     ]
    },
    {
     "name": "stderr",
     "output_type": "stream",
     "text": [
      "  File \"/home/jianyao/Likelihood/utils.py\", line 200, in calc_vecp_test\n",
      "    cl_inv_12= sqrtm(cl_inv)\n",
      "  File \"<ipython-input-308-26dcbcb00df7>\", line 34, in log_likelihood\n",
      "    logL =LogL.run(cl_hat=(cl_hat_fore_ali) , cl_th = C_l, likelihood='HL',sbin=sbin, ebin = ebin);\n",
      "  File \"/home/jianyao/anaconda3/lib/python3.7/site-packages/scipy/linalg/_matfuncs_sqrtm.py\", line 163, in sqrtm\n",
      "    A = _asarray_validated(A, check_finite=True, as_inexact=True)\n",
      "  File \"/home/jianyao/anaconda3/lib/python3.7/site-packages/scipy/_lib/_util.py\", line 239, in _asarray_validated\n",
      "    a = toarray(a)\n",
      "  File \"/home/jianyao/Likelihood/utils.py\", line 200, in calc_vecp_test\n",
      "    cl_inv_12= sqrtm(cl_inv)\n",
      "  File \"<ipython-input-308-26dcbcb00df7>\", line 34, in log_likelihood\n",
      "    logL =LogL.run(cl_hat=(cl_hat_fore_ali) , cl_th = C_l, likelihood='HL',sbin=sbin, ebin = ebin);\n"
     ]
    },
    {
     "name": "stdout",
     "output_type": "stream",
     "text": [
      "  exception:\n"
     ]
    },
    {
     "name": "stderr",
     "output_type": "stream",
     "text": [
      "  File \"/home/jianyao/anaconda3/lib/python3.7/site-packages/scipy/linalg/_matfuncs_sqrtm.py\", line 163, in sqrtm\n",
      "    A = _asarray_validated(A, check_finite=True, as_inexact=True)\n",
      "  File \"/home/jianyao/Likelihood/logLikeli.py\", line 53, in run\n",
      "    logL = testL(cl_hat = cl_hat, cl_f = self.cl_f[2], cl_th = cl_th, Nf = self.Nf, M_inv = self.Cov_inv, sbin = sbin, ebin = ebin)\n"
     ]
    },
    {
     "name": "stdout",
     "output_type": "stream",
     "text": [
      "Exception while calling loglikelihood function:\n",
      "Exception while calling loglikelihood function:\n",
      "Exception while calling loglikelihood function:\n"
     ]
    },
    {
     "name": "stderr",
     "output_type": "stream",
     "text": [
      "  File \"/home/jianyao/anaconda3/lib/python3.7/site-packages/numpy/lib/function_base.py\", line 486, in asarray_chkfinite\n",
      "    \"array must not contain infs or NaNs\")\n"
     ]
    },
    {
     "name": "stdout",
     "output_type": "stream",
     "text": [
      "Exception while calling loglikelihood function:\n"
     ]
    },
    {
     "name": "stderr",
     "output_type": "stream",
     "text": [
      "ValueError: array must not contain infs or NaNs\n"
     ]
    },
    {
     "name": "stdout",
     "output_type": "stream",
     "text": [
      "  exception:\n"
     ]
    },
    {
     "name": "stderr",
     "output_type": "stream",
     "text": [
      "  File \"/home/jianyao/anaconda3/lib/python3.7/site-packages/scipy/_lib/_util.py\", line 239, in _asarray_validated\n",
      "    a = toarray(a)\n"
     ]
    },
    {
     "name": "stdout",
     "output_type": "stream",
     "text": [
      "  kwargs: {}\n"
     ]
    },
    {
     "name": "stderr",
     "output_type": "stream",
     "text": [
      "  File \"/home/jianyao/anaconda3/lib/python3.7/site-packages/scipy/linalg/_matfuncs_sqrtm.py\", line 163, in sqrtm\n",
      "    A = _asarray_validated(A, check_finite=True, as_inexact=True)\n",
      "  File \"/home/jianyao/Likelihood/logLikeli.py\", line 53, in run\n",
      "    logL = testL(cl_hat = cl_hat, cl_f = self.cl_f[2], cl_th = cl_th, Nf = self.Nf, M_inv = self.Cov_inv, sbin = sbin, ebin = ebin)\n",
      "  File \"<ipython-input-308-26dcbcb00df7>\", line 34, in log_likelihood\n",
      "    logL =LogL.run(cl_hat=(cl_hat_fore_ali) , cl_th = C_l, likelihood='HL',sbin=sbin, ebin = ebin);\n",
      "  File \"/home/jianyao/anaconda3/lib/python3.7/site-packages/numpy/lib/function_base.py\", line 486, in asarray_chkfinite\n",
      "    \"array must not contain infs or NaNs\")\n",
      "  File \"/home/jianyao/anaconda3/lib/python3.7/site-packages/scipy/_lib/_util.py\", line 239, in _asarray_validated\n",
      "    a = toarray(a)\n",
      "  File \"<ipython-input-308-26dcbcb00df7>\", line 34, in log_likelihood\n",
      "    logL =LogL.run(cl_hat=(cl_hat_fore_ali) , cl_th = C_l, likelihood='HL',sbin=sbin, ebin = ebin);\n",
      "  File \"/home/jianyao/anaconda3/lib/python3.7/site-packages/dynesty/dynesty.py\", line 939, in __call__\n",
      "    return self.func(x, *self.args, **self.kwargs)\n",
      "  File \"/home/jianyao/anaconda3/lib/python3.7/site-packages/dynesty/dynesty.py\", line 939, in __call__\n",
      "    return self.func(x, *self.args, **self.kwargs)\n",
      "  File \"/home/jianyao/anaconda3/lib/python3.7/site-packages/scipy/_lib/_util.py\", line 239, in _asarray_validated\n",
      "    a = toarray(a)\n",
      "  File \"/home/jianyao/anaconda3/lib/python3.7/site-packages/scipy/linalg/_matfuncs_sqrtm.py\", line 163, in sqrtm\n",
      "    A = _asarray_validated(A, check_finite=True, as_inexact=True)\n",
      "  File \"/home/jianyao/Likelihood/utils.py\", line 200, in calc_vecp_test\n",
      "    cl_inv_12= sqrtm(cl_inv)\n",
      "  File \"/home/jianyao/Likelihood/utils.py\", line 232, in testL\n",
      "    Xa = (calc_vecp_test(cl_hat, cl_f,cl_th, Nf = Nf))\n",
      "  File \"<ipython-input-308-26dcbcb00df7>\", line 34, in log_likelihood\n",
      "    logL =LogL.run(cl_hat=(cl_hat_fore_ali) , cl_th = C_l, likelihood='HL',sbin=sbin, ebin = ebin);\n",
      "  File \"<ipython-input-308-26dcbcb00df7>\", line 34, in log_likelihood\n",
      "    logL =LogL.run(cl_hat=(cl_hat_fore_ali) , cl_th = C_l, likelihood='HL',sbin=sbin, ebin = ebin);\n",
      "  File \"/home/jianyao/anaconda3/lib/python3.7/site-packages/scipy/linalg/_matfuncs_sqrtm.py\", line 163, in sqrtm\n",
      "    A = _asarray_validated(A, check_finite=True, as_inexact=True)\n",
      "  File \"/home/jianyao/Likelihood/logLikeli.py\", line 53, in run\n",
      "    logL = testL(cl_hat = cl_hat, cl_f = self.cl_f[2], cl_th = cl_th, Nf = self.Nf, M_inv = self.Cov_inv, sbin = sbin, ebin = ebin)\n",
      "Traceback (most recent call last):\n",
      "  File \"/home/jianyao/Likelihood/utils.py\", line 200, in calc_vecp_test\n",
      "    cl_inv_12= sqrtm(cl_inv)\n",
      "  File \"/home/jianyao/anaconda3/lib/python3.7/site-packages/scipy/linalg/_matfuncs_sqrtm.py\", line 163, in sqrtm\n",
      "    A = _asarray_validated(A, check_finite=True, as_inexact=True)\n"
     ]
    },
    {
     "name": "stdout",
     "output_type": "stream",
     "text": [
      "  exception:\n"
     ]
    },
    {
     "name": "stderr",
     "output_type": "stream",
     "text": [
      "  File \"/home/jianyao/Likelihood/utils.py\", line 200, in calc_vecp_test\n",
      "    cl_inv_12= sqrtm(cl_inv)\n",
      "  File \"/home/jianyao/anaconda3/lib/python3.7/site-packages/scipy/linalg/_matfuncs_sqrtm.py\", line 163, in sqrtm\n",
      "    A = _asarray_validated(A, check_finite=True, as_inexact=True)\n",
      "  File \"/home/jianyao/anaconda3/lib/python3.7/site-packages/scipy/linalg/_matfuncs_sqrtm.py\", line 163, in sqrtm\n",
      "    A = _asarray_validated(A, check_finite=True, as_inexact=True)\n",
      "ValueError: array must not contain infs or NaNs\n"
     ]
    },
    {
     "name": "stdout",
     "output_type": "stream",
     "text": [
      "  args: []\n"
     ]
    },
    {
     "name": "stderr",
     "output_type": "stream",
     "text": [
      "  File \"/home/jianyao/Likelihood/logLikeli.py\", line 53, in run\n",
      "    logL = testL(cl_hat = cl_hat, cl_f = self.cl_f[2], cl_th = cl_th, Nf = self.Nf, M_inv = self.Cov_inv, sbin = sbin, ebin = ebin)\n"
     ]
    },
    {
     "name": "stdout",
     "output_type": "stream",
     "text": [
      "Exception while calling loglikelihood function:\n"
     ]
    },
    {
     "name": "stderr",
     "output_type": "stream",
     "text": [
      "  File \"<ipython-input-308-26dcbcb00df7>\", line 34, in log_likelihood\n",
      "    logL =LogL.run(cl_hat=(cl_hat_fore_ali) , cl_th = C_l, likelihood='HL',sbin=sbin, ebin = ebin);\n",
      "  File \"/home/jianyao/anaconda3/lib/python3.7/site-packages/numpy/lib/function_base.py\", line 486, in asarray_chkfinite\n",
      "    \"array must not contain infs or NaNs\")\n",
      "  File \"<ipython-input-308-26dcbcb00df7>\", line 34, in log_likelihood\n",
      "    logL =LogL.run(cl_hat=(cl_hat_fore_ali) , cl_th = C_l, likelihood='HL',sbin=sbin, ebin = ebin);\n",
      "  File \"/home/jianyao/anaconda3/lib/python3.7/site-packages/scipy/_lib/_util.py\", line 239, in _asarray_validated\n",
      "    a = toarray(a)\n",
      "  File \"/home/jianyao/anaconda3/lib/python3.7/site-packages/scipy/_lib/_util.py\", line 239, in _asarray_validated\n",
      "    a = toarray(a)\n",
      "  File \"/home/jianyao/anaconda3/lib/python3.7/site-packages/scipy/linalg/_matfuncs_sqrtm.py\", line 163, in sqrtm\n",
      "    A = _asarray_validated(A, check_finite=True, as_inexact=True)\n",
      "  File \"/home/jianyao/Likelihood/logLikeli.py\", line 53, in run\n",
      "    logL = testL(cl_hat = cl_hat, cl_f = self.cl_f[2], cl_th = cl_th, Nf = self.Nf, M_inv = self.Cov_inv, sbin = sbin, ebin = ebin)\n",
      "  File \"/home/jianyao/anaconda3/lib/python3.7/site-packages/dynesty/dynesty.py\", line 939, in __call__\n",
      "    return self.func(x, *self.args, **self.kwargs)\n",
      "  File \"/home/jianyao/Likelihood/utils.py\", line 200, in calc_vecp_test\n",
      "    cl_inv_12= sqrtm(cl_inv)\n",
      "  File \"/home/jianyao/anaconda3/lib/python3.7/site-packages/scipy/linalg/_matfuncs_sqrtm.py\", line 163, in sqrtm\n",
      "    A = _asarray_validated(A, check_finite=True, as_inexact=True)\n",
      "  File \"/home/jianyao/anaconda3/lib/python3.7/site-packages/scipy/_lib/_util.py\", line 239, in _asarray_validated\n",
      "    a = toarray(a)\n",
      "  File \"/home/jianyao/anaconda3/lib/python3.7/site-packages/dynesty/dynesty.py\", line 939, in __call__\n",
      "    return self.func(x, *self.args, **self.kwargs)\n",
      "  File \"/home/jianyao/Likelihood/utils.py\", line 232, in testL\n",
      "    Xa = (calc_vecp_test(cl_hat, cl_f,cl_th, Nf = Nf))\n",
      "  File \"/home/jianyao/Likelihood/logLikeli.py\", line 53, in run\n",
      "    logL = testL(cl_hat = cl_hat, cl_f = self.cl_f[2], cl_th = cl_th, Nf = self.Nf, M_inv = self.Cov_inv, sbin = sbin, ebin = ebin)\n",
      "  File \"/home/jianyao/anaconda3/lib/python3.7/site-packages/scipy/linalg/_matfuncs_sqrtm.py\", line 163, in sqrtm\n",
      "    A = _asarray_validated(A, check_finite=True, as_inexact=True)\n",
      "  File \"/home/jianyao/Likelihood/utils.py\", line 232, in testL\n",
      "    Xa = (calc_vecp_test(cl_hat, cl_f,cl_th, Nf = Nf))\n",
      "  File \"/home/jianyao/anaconda3/lib/python3.7/site-packages/scipy/_lib/_util.py\", line 239, in _asarray_validated\n",
      "    a = toarray(a)\n",
      "  File \"/home/jianyao/anaconda3/lib/python3.7/site-packages/scipy/linalg/_matfuncs_sqrtm.py\", line 163, in sqrtm\n",
      "    A = _asarray_validated(A, check_finite=True, as_inexact=True)\n",
      "Traceback (most recent call last):\n"
     ]
    },
    {
     "name": "stdout",
     "output_type": "stream",
     "text": [
      "Exception while calling loglikelihood function:\n",
      "  kwargs: {}\n"
     ]
    },
    {
     "name": "stderr",
     "output_type": "stream",
     "text": [
      "  File \"/home/jianyao/anaconda3/lib/python3.7/site-packages/scipy/_lib/_util.py\", line 239, in _asarray_validated\n",
      "    a = toarray(a)\n",
      "  File \"/home/jianyao/anaconda3/lib/python3.7/site-packages/scipy/_lib/_util.py\", line 239, in _asarray_validated\n",
      "    a = toarray(a)\n",
      "  File \"/home/jianyao/Likelihood/logLikeli.py\", line 53, in run\n",
      "    logL = testL(cl_hat = cl_hat, cl_f = self.cl_f[2], cl_th = cl_th, Nf = self.Nf, M_inv = self.Cov_inv, sbin = sbin, ebin = ebin)\n",
      "ValueError: array must not contain infs or NaNs\n",
      "  File \"/home/jianyao/Likelihood/logLikeli.py\", line 53, in run\n",
      "    logL = testL(cl_hat = cl_hat, cl_f = self.cl_f[2], cl_th = cl_th, Nf = self.Nf, M_inv = self.Cov_inv, sbin = sbin, ebin = ebin)\n",
      "  File \"/home/jianyao/anaconda3/lib/python3.7/site-packages/scipy/_lib/_util.py\", line 239, in _asarray_validated\n",
      "    a = toarray(a)\n",
      "  File \"/home/jianyao/anaconda3/lib/python3.7/site-packages/numpy/lib/function_base.py\", line 486, in asarray_chkfinite\n",
      "    \"array must not contain infs or NaNs\")\n",
      "  File \"/home/jianyao/Likelihood/utils.py\", line 232, in testL\n",
      "    Xa = (calc_vecp_test(cl_hat, cl_f,cl_th, Nf = Nf))\n",
      "Traceback (most recent call last):\n",
      "  File \"<ipython-input-308-26dcbcb00df7>\", line 34, in log_likelihood\n",
      "    logL =LogL.run(cl_hat=(cl_hat_fore_ali) , cl_th = C_l, likelihood='HL',sbin=sbin, ebin = ebin);\n",
      "  File \"/home/jianyao/anaconda3/lib/python3.7/site-packages/numpy/lib/function_base.py\", line 486, in asarray_chkfinite\n",
      "    \"array must not contain infs or NaNs\")\n",
      "  File \"/home/jianyao/anaconda3/lib/python3.7/site-packages/numpy/lib/function_base.py\", line 486, in asarray_chkfinite\n",
      "    \"array must not contain infs or NaNs\")\n",
      "  File \"/home/jianyao/anaconda3/lib/python3.7/site-packages/scipy/_lib/_util.py\", line 239, in _asarray_validated\n",
      "    a = toarray(a)\n",
      "  File \"/home/jianyao/Likelihood/utils.py\", line 200, in calc_vecp_test\n",
      "    cl_inv_12= sqrtm(cl_inv)\n",
      "  File \"<ipython-input-308-26dcbcb00df7>\", line 34, in log_likelihood\n",
      "    logL =LogL.run(cl_hat=(cl_hat_fore_ali) , cl_th = C_l, likelihood='HL',sbin=sbin, ebin = ebin);\n",
      "  File \"<ipython-input-308-26dcbcb00df7>\", line 34, in log_likelihood\n",
      "    logL =LogL.run(cl_hat=(cl_hat_fore_ali) , cl_th = C_l, likelihood='HL',sbin=sbin, ebin = ebin);\n"
     ]
    },
    {
     "name": "stdout",
     "output_type": "stream",
     "text": [
      "  params: [ 0.16241799 -2.36528873  2.89478159  0.01144342]\n"
     ]
    },
    {
     "name": "stderr",
     "output_type": "stream",
     "text": [
      "  File \"/home/jianyao/Likelihood/utils.py\", line 232, in testL\n",
      "    Xa = (calc_vecp_test(cl_hat, cl_f,cl_th, Nf = Nf))\n",
      "  File \"/home/jianyao/anaconda3/lib/python3.7/site-packages/scipy/_lib/_util.py\", line 239, in _asarray_validated\n",
      "    a = toarray(a)\n",
      "  File \"/home/jianyao/anaconda3/lib/python3.7/site-packages/numpy/lib/function_base.py\", line 486, in asarray_chkfinite\n",
      "    \"array must not contain infs or NaNs\")\n",
      "  File \"/home/jianyao/anaconda3/lib/python3.7/site-packages/numpy/lib/function_base.py\", line 486, in asarray_chkfinite\n",
      "    \"array must not contain infs or NaNs\")\n",
      "  File \"/home/jianyao/anaconda3/lib/python3.7/site-packages/numpy/lib/function_base.py\", line 486, in asarray_chkfinite\n",
      "    \"array must not contain infs or NaNs\")\n",
      "  File \"/home/jianyao/anaconda3/lib/python3.7/site-packages/scipy/_lib/_util.py\", line 239, in _asarray_validated\n",
      "    a = toarray(a)\n",
      "  File \"/home/jianyao/anaconda3/lib/python3.7/site-packages/scipy/linalg/_matfuncs_sqrtm.py\", line 163, in sqrtm\n",
      "    A = _asarray_validated(A, check_finite=True, as_inexact=True)\n",
      "  File \"/home/jianyao/Likelihood/utils.py\", line 200, in calc_vecp_test\n",
      "    cl_inv_12= sqrtm(cl_inv)\n",
      "Traceback (most recent call last):\n"
     ]
    },
    {
     "name": "stdout",
     "output_type": "stream",
     "text": [
      "  exception:\n"
     ]
    },
    {
     "name": "stderr",
     "output_type": "stream",
     "text": [
      "  File \"/home/jianyao/Likelihood/utils.py\", line 232, in testL\n",
      "    Xa = (calc_vecp_test(cl_hat, cl_f,cl_th, Nf = Nf))\n"
     ]
    },
    {
     "name": "stdout",
     "output_type": "stream",
     "text": [
      "Exception while calling loglikelihood function:\n"
     ]
    },
    {
     "name": "stderr",
     "output_type": "stream",
     "text": [
      "  File \"/home/jianyao/anaconda3/lib/python3.7/site-packages/numpy/lib/function_base.py\", line 486, in asarray_chkfinite\n",
      "    \"array must not contain infs or NaNs\")\n",
      "ValueError: array must not contain infs or NaNs\n",
      "  File \"/home/jianyao/Likelihood/utils.py\", line 200, in calc_vecp_test\n",
      "    cl_inv_12= sqrtm(cl_inv)\n",
      "  File \"/home/jianyao/Likelihood/utils.py\", line 232, in testL\n",
      "    Xa = (calc_vecp_test(cl_hat, cl_f,cl_th, Nf = Nf))\n",
      "  File \"/home/jianyao/Likelihood/logLikeli.py\", line 53, in run\n",
      "    logL = testL(cl_hat = cl_hat, cl_f = self.cl_f[2], cl_th = cl_th, Nf = self.Nf, M_inv = self.Cov_inv, sbin = sbin, ebin = ebin)\n",
      "ValueError: array must not contain infs or NaNs\n",
      "  File \"/home/jianyao/anaconda3/lib/python3.7/site-packages/numpy/lib/function_base.py\", line 486, in asarray_chkfinite\n",
      "    \"array must not contain infs or NaNs\")\n"
     ]
    },
    {
     "name": "stdout",
     "output_type": "stream",
     "text": [
      "  params: [ 0.17111771 -2.31090142  1.92828086  0.07123147]\n"
     ]
    },
    {
     "name": "stderr",
     "output_type": "stream",
     "text": [
      "ValueError: array must not contain infs or NaNs\n",
      "  File \"/home/jianyao/Likelihood/logLikeli.py\", line 53, in run\n",
      "    logL = testL(cl_hat = cl_hat, cl_f = self.cl_f[2], cl_th = cl_th, Nf = self.Nf, M_inv = self.Cov_inv, sbin = sbin, ebin = ebin)\n",
      "  File \"/home/jianyao/anaconda3/lib/python3.7/site-packages/dynesty/dynesty.py\", line 939, in __call__\n",
      "    return self.func(x, *self.args, **self.kwargs)\n",
      "Traceback (most recent call last):\n",
      "  File \"/home/jianyao/Likelihood/logLikeli.py\", line 53, in run\n",
      "    logL = testL(cl_hat = cl_hat, cl_f = self.cl_f[2], cl_th = cl_th, Nf = self.Nf, M_inv = self.Cov_inv, sbin = sbin, ebin = ebin)\n",
      "ValueError: array must not contain infs or NaNs\n",
      "  File \"/home/jianyao/anaconda3/lib/python3.7/site-packages/numpy/lib/function_base.py\", line 486, in asarray_chkfinite\n",
      "    \"array must not contain infs or NaNs\")\n",
      "ValueError: array must not contain infs or NaNs\n"
     ]
    },
    {
     "name": "stdout",
     "output_type": "stream",
     "text": [
      "  args: []\n"
     ]
    },
    {
     "name": "stderr",
     "output_type": "stream",
     "text": [
      "  File \"/home/jianyao/anaconda3/lib/python3.7/site-packages/dynesty/dynesty.py\", line 939, in __call__\n",
      "    return self.func(x, *self.args, **self.kwargs)\n",
      "  File \"/home/jianyao/anaconda3/lib/python3.7/site-packages/numpy/lib/function_base.py\", line 486, in asarray_chkfinite\n",
      "    \"array must not contain infs or NaNs\")\n",
      "  File \"/home/jianyao/anaconda3/lib/python3.7/site-packages/scipy/_lib/_util.py\", line 239, in _asarray_validated\n",
      "    a = toarray(a)\n",
      "  File \"/home/jianyao/anaconda3/lib/python3.7/site-packages/scipy/linalg/_matfuncs_sqrtm.py\", line 163, in sqrtm\n",
      "    A = _asarray_validated(A, check_finite=True, as_inexact=True)\n",
      "  File \"/home/jianyao/Likelihood/utils.py\", line 200, in calc_vecp_test\n",
      "    cl_inv_12= sqrtm(cl_inv)\n",
      "  File \"/home/jianyao/Likelihood/utils.py\", line 200, in calc_vecp_test\n",
      "    cl_inv_12= sqrtm(cl_inv)\n",
      "Traceback (most recent call last):\n",
      "ValueError: array must not contain infs or NaNs\n",
      "  File \"/home/jianyao/anaconda3/lib/python3.7/site-packages/scipy/linalg/_matfuncs_sqrtm.py\", line 163, in sqrtm\n",
      "    A = _asarray_validated(A, check_finite=True, as_inexact=True)\n",
      "ValueError: array must not contain infs or NaNs\n",
      "  File \"/home/jianyao/Likelihood/utils.py\", line 232, in testL\n",
      "    Xa = (calc_vecp_test(cl_hat, cl_f,cl_th, Nf = Nf))\n"
     ]
    },
    {
     "name": "stdout",
     "output_type": "stream",
     "text": [
      "Exception while calling loglikelihood function:\n"
     ]
    },
    {
     "name": "stderr",
     "output_type": "stream",
     "text": [
      "ValueError: array must not contain infs or NaNs\n",
      "  File \"/home/jianyao/Likelihood/utils.py\", line 200, in calc_vecp_test\n",
      "    cl_inv_12= sqrtm(cl_inv)\n"
     ]
    },
    {
     "name": "stdout",
     "output_type": "stream",
     "text": [
      "  args: []\n",
      "  params: [ 0.03599003 -2.0213814   1.91025649  0.14804077]\n"
     ]
    },
    {
     "name": "stderr",
     "output_type": "stream",
     "text": [
      "  File \"/home/jianyao/anaconda3/lib/python3.7/site-packages/dynesty/dynesty.py\", line 939, in __call__\n",
      "    return self.func(x, *self.args, **self.kwargs)\n",
      "  File \"/home/jianyao/Likelihood/utils.py\", line 232, in testL\n",
      "    Xa = (calc_vecp_test(cl_hat, cl_f,cl_th, Nf = Nf))\n",
      "  File \"<ipython-input-308-26dcbcb00df7>\", line 34, in log_likelihood\n",
      "    logL =LogL.run(cl_hat=(cl_hat_fore_ali) , cl_th = C_l, likelihood='HL',sbin=sbin, ebin = ebin);\n",
      "ValueError: array must not contain infs or NaNs\n",
      "  File \"/home/jianyao/Likelihood/utils.py\", line 232, in testL\n",
      "    Xa = (calc_vecp_test(cl_hat, cl_f,cl_th, Nf = Nf))\n"
     ]
    },
    {
     "name": "stdout",
     "output_type": "stream",
     "text": [
      "  kwargs: {}\n"
     ]
    },
    {
     "name": "stderr",
     "output_type": "stream",
     "text": [
      "ValueError: array must not contain infs or NaNs\n",
      "  File \"/home/jianyao/anaconda3/lib/python3.7/site-packages/scipy/linalg/_matfuncs_sqrtm.py\", line 163, in sqrtm\n",
      "    A = _asarray_validated(A, check_finite=True, as_inexact=True)\n",
      "  File \"/home/jianyao/anaconda3/lib/python3.7/site-packages/dynesty/dynesty.py\", line 939, in __call__\n",
      "    return self.func(x, *self.args, **self.kwargs)\n",
      "  File \"/home/jianyao/anaconda3/lib/python3.7/site-packages/dynesty/dynesty.py\", line 939, in __call__\n",
      "    return self.func(x, *self.args, **self.kwargs)\n",
      "  File \"/home/jianyao/anaconda3/lib/python3.7/site-packages/scipy/_lib/_util.py\", line 239, in _asarray_validated\n",
      "    a = toarray(a)\n",
      "  File \"/home/jianyao/anaconda3/lib/python3.7/site-packages/scipy/_lib/_util.py\", line 239, in _asarray_validated\n",
      "    a = toarray(a)\n",
      "  File \"/home/jianyao/Likelihood/utils.py\", line 200, in calc_vecp_test\n",
      "    cl_inv_12= sqrtm(cl_inv)\n",
      "  File \"<ipython-input-308-26dcbcb00df7>\", line 34, in log_likelihood\n",
      "    logL =LogL.run(cl_hat=(cl_hat_fore_ali) , cl_th = C_l, likelihood='HL',sbin=sbin, ebin = ebin);\n",
      "  File \"/home/jianyao/anaconda3/lib/python3.7/site-packages/scipy/linalg/_matfuncs_sqrtm.py\", line 163, in sqrtm\n",
      "    A = _asarray_validated(A, check_finite=True, as_inexact=True)\n"
     ]
    },
    {
     "name": "stdout",
     "output_type": "stream",
     "text": [
      "  kwargs: {}\n"
     ]
    },
    {
     "name": "stderr",
     "output_type": "stream",
     "text": [
      "  File \"/home/jianyao/anaconda3/lib/python3.7/site-packages/numpy/lib/function_base.py\", line 486, in asarray_chkfinite\n",
      "    \"array must not contain infs or NaNs\")\n"
     ]
    },
    {
     "name": "stdout",
     "output_type": "stream",
     "text": [
      "  params: [ 0.09062085 -1.42735348  2.9451582   0.74548411]\n",
      "  args: []\n"
     ]
    },
    {
     "name": "stderr",
     "output_type": "stream",
     "text": [
      "  File \"/home/jianyao/Likelihood/utils.py\", line 200, in calc_vecp_test\n",
      "    cl_inv_12= sqrtm(cl_inv)\n",
      "  File \"<ipython-input-308-26dcbcb00df7>\", line 34, in log_likelihood\n",
      "    logL =LogL.run(cl_hat=(cl_hat_fore_ali) , cl_th = C_l, likelihood='HL',sbin=sbin, ebin = ebin);\n",
      "  File \"/home/jianyao/anaconda3/lib/python3.7/site-packages/scipy/linalg/_matfuncs_sqrtm.py\", line 163, in sqrtm\n",
      "    A = _asarray_validated(A, check_finite=True, as_inexact=True)\n",
      "  File \"/home/jianyao/anaconda3/lib/python3.7/site-packages/scipy/_lib/_util.py\", line 239, in _asarray_validated\n",
      "    a = toarray(a)\n",
      "  File \"/home/jianyao/Likelihood/utils.py\", line 200, in calc_vecp_test\n",
      "    cl_inv_12= sqrtm(cl_inv)\n",
      "  File \"<ipython-input-308-26dcbcb00df7>\", line 34, in log_likelihood\n",
      "    logL =LogL.run(cl_hat=(cl_hat_fore_ali) , cl_th = C_l, likelihood='HL',sbin=sbin, ebin = ebin);\n"
     ]
    },
    {
     "name": "stdout",
     "output_type": "stream",
     "text": [
      "  exception:\n"
     ]
    },
    {
     "name": "stderr",
     "output_type": "stream",
     "text": [
      "  File \"/home/jianyao/anaconda3/lib/python3.7/site-packages/scipy/linalg/_matfuncs_sqrtm.py\", line 163, in sqrtm\n",
      "    A = _asarray_validated(A, check_finite=True, as_inexact=True)\n",
      "  File \"/home/jianyao/Likelihood/logLikeli.py\", line 53, in run\n",
      "    logL = testL(cl_hat = cl_hat, cl_f = self.cl_f[2], cl_th = cl_th, Nf = self.Nf, M_inv = self.Cov_inv, sbin = sbin, ebin = ebin)\n"
     ]
    },
    {
     "name": "stdout",
     "output_type": "stream",
     "text": [
      "Exception while calling loglikelihood function:\n",
      "Exception while calling loglikelihood function:\n",
      "Exception while calling loglikelihood function:\n"
     ]
    },
    {
     "name": "stderr",
     "output_type": "stream",
     "text": [
      "  File \"/home/jianyao/anaconda3/lib/python3.7/site-packages/numpy/lib/function_base.py\", line 486, in asarray_chkfinite\n",
      "    \"array must not contain infs or NaNs\")\n"
     ]
    },
    {
     "name": "stdout",
     "output_type": "stream",
     "text": [
      "Exception while calling loglikelihood function:\n"
     ]
    },
    {
     "name": "stderr",
     "output_type": "stream",
     "text": [
      "ValueError: array must not contain infs or NaNs\n"
     ]
    },
    {
     "name": "stdout",
     "output_type": "stream",
     "text": [
      "  exception:\n"
     ]
    },
    {
     "name": "stderr",
     "output_type": "stream",
     "text": [
      "  File \"/home/jianyao/anaconda3/lib/python3.7/site-packages/scipy/_lib/_util.py\", line 239, in _asarray_validated\n",
      "    a = toarray(a)\n"
     ]
    },
    {
     "name": "stdout",
     "output_type": "stream",
     "text": [
      "  kwargs: {}\n"
     ]
    },
    {
     "name": "stderr",
     "output_type": "stream",
     "text": [
      "  File \"/home/jianyao/anaconda3/lib/python3.7/site-packages/scipy/linalg/_matfuncs_sqrtm.py\", line 163, in sqrtm\n",
      "    A = _asarray_validated(A, check_finite=True, as_inexact=True)\n",
      "  File \"/home/jianyao/Likelihood/logLikeli.py\", line 53, in run\n",
      "    logL = testL(cl_hat = cl_hat, cl_f = self.cl_f[2], cl_th = cl_th, Nf = self.Nf, M_inv = self.Cov_inv, sbin = sbin, ebin = ebin)\n",
      "  File \"<ipython-input-308-26dcbcb00df7>\", line 34, in log_likelihood\n",
      "    logL =LogL.run(cl_hat=(cl_hat_fore_ali) , cl_th = C_l, likelihood='HL',sbin=sbin, ebin = ebin);\n",
      "  File \"/home/jianyao/anaconda3/lib/python3.7/site-packages/numpy/lib/function_base.py\", line 486, in asarray_chkfinite\n",
      "    \"array must not contain infs or NaNs\")\n",
      "  File \"/home/jianyao/anaconda3/lib/python3.7/site-packages/scipy/_lib/_util.py\", line 239, in _asarray_validated\n",
      "    a = toarray(a)\n",
      "  File \"/home/jianyao/anaconda3/lib/python3.7/site-packages/scipy/_lib/_util.py\", line 239, in _asarray_validated\n",
      "    a = toarray(a)\n"
     ]
    },
    {
     "name": "stdout",
     "output_type": "stream",
     "text": [
      "  args: []\n",
      "Exception while calling loglikelihood function:\n"
     ]
    },
    {
     "name": "stderr",
     "output_type": "stream",
     "text": [
      "  File \"/home/jianyao/anaconda3/lib/python3.7/site-packages/scipy/linalg/_matfuncs_sqrtm.py\", line 163, in sqrtm\n",
      "    A = _asarray_validated(A, check_finite=True, as_inexact=True)\n",
      "ValueError: array must not contain infs or NaNs\n",
      "  File \"/home/jianyao/Likelihood/logLikeli.py\", line 53, in run\n",
      "    logL = testL(cl_hat = cl_hat, cl_f = self.cl_f[2], cl_th = cl_th, Nf = self.Nf, M_inv = self.Cov_inv, sbin = sbin, ebin = ebin)\n"
     ]
    },
    {
     "name": "stdout",
     "output_type": "stream",
     "text": [
      "  params: [ 0.02671721 -0.79387971  1.16286589  0.42229303]\n",
      "  params: [ 0.11891327 -2.91518116  1.08991548  0.02905505]\n"
     ]
    },
    {
     "name": "stderr",
     "output_type": "stream",
     "text": [
      "  File \"/home/jianyao/anaconda3/lib/python3.7/site-packages/numpy/lib/function_base.py\", line 486, in asarray_chkfinite\n",
      "    \"array must not contain infs or NaNs\")\n"
     ]
    },
    {
     "name": "stdout",
     "output_type": "stream",
     "text": [
      "  params: [ 0.16729346 -0.78997442  1.47322444  0.77799395]\n",
      "  params: [ 0.04822585 -3.29080303  2.43963318  0.70626304]\n"
     ]
    },
    {
     "name": "stderr",
     "output_type": "stream",
     "text": [
      "  File \"/home/jianyao/Likelihood/utils.py\", line 232, in testL\n",
      "    Xa = (calc_vecp_test(cl_hat, cl_f,cl_th, Nf = Nf))\n",
      "  File \"/home/jianyao/Likelihood/utils.py\", line 232, in testL\n",
      "    Xa = (calc_vecp_test(cl_hat, cl_f,cl_th, Nf = Nf))\n",
      "  File \"/home/jianyao/anaconda3/lib/python3.7/site-packages/numpy/lib/function_base.py\", line 486, in asarray_chkfinite\n",
      "    \"array must not contain infs or NaNs\")\n",
      "  File \"/home/jianyao/anaconda3/lib/python3.7/site-packages/scipy/_lib/_util.py\", line 239, in _asarray_validated\n",
      "    a = toarray(a)\n",
      "  File \"/home/jianyao/Likelihood/logLikeli.py\", line 53, in run\n",
      "    logL = testL(cl_hat = cl_hat, cl_f = self.cl_f[2], cl_th = cl_th, Nf = self.Nf, M_inv = self.Cov_inv, sbin = sbin, ebin = ebin)\n",
      "Traceback (most recent call last):\n",
      "Traceback (most recent call last):\n",
      "ValueError: array must not contain infs or NaNs\n"
     ]
    },
    {
     "name": "stdout",
     "output_type": "stream",
     "text": [
      "  exception:\n"
     ]
    },
    {
     "name": "stderr",
     "output_type": "stream",
     "text": [
      "  File \"/home/jianyao/anaconda3/lib/python3.7/site-packages/scipy/linalg/_matfuncs_sqrtm.py\", line 163, in sqrtm\n",
      "    A = _asarray_validated(A, check_finite=True, as_inexact=True)\n",
      "  File \"/home/jianyao/Likelihood/logLikeli.py\", line 53, in run\n",
      "    logL = testL(cl_hat = cl_hat, cl_f = self.cl_f[2], cl_th = cl_th, Nf = self.Nf, M_inv = self.Cov_inv, sbin = sbin, ebin = ebin)\n"
     ]
    },
    {
     "name": "stdout",
     "output_type": "stream",
     "text": [
      "  kwargs: {}\n"
     ]
    },
    {
     "name": "stderr",
     "output_type": "stream",
     "text": [
      "  File \"/home/jianyao/anaconda3/lib/python3.7/site-packages/numpy/lib/function_base.py\", line 486, in asarray_chkfinite\n",
      "    \"array must not contain infs or NaNs\")\n",
      "Traceback (most recent call last):\n",
      "Traceback (most recent call last):\n",
      "  File \"/home/jianyao/anaconda3/lib/python3.7/site-packages/scipy/_lib/_util.py\", line 239, in _asarray_validated\n",
      "    a = toarray(a)\n",
      "  File \"/home/jianyao/Likelihood/utils.py\", line 232, in testL\n",
      "    Xa = (calc_vecp_test(cl_hat, cl_f,cl_th, Nf = Nf))\n"
     ]
    },
    {
     "name": "stdout",
     "output_type": "stream",
     "text": [
      "  args: []\n",
      "  args: []\n"
     ]
    },
    {
     "name": "stderr",
     "output_type": "stream",
     "text": [
      "  File \"/home/jianyao/anaconda3/lib/python3.7/site-packages/numpy/lib/function_base.py\", line 486, in asarray_chkfinite\n",
      "    \"array must not contain infs or NaNs\")\n"
     ]
    },
    {
     "name": "stdout",
     "output_type": "stream",
     "text": [
      "  args: []\n",
      "Exception while calling loglikelihood function:\n",
      "  args: []\n"
     ]
    },
    {
     "name": "stderr",
     "output_type": "stream",
     "text": [
      "ValueError: array must not contain infs or NaNs\n",
      "  File \"/home/jianyao/Likelihood/utils.py\", line 200, in calc_vecp_test\n",
      "    cl_inv_12= sqrtm(cl_inv)\n"
     ]
    },
    {
     "name": "stdout",
     "output_type": "stream",
     "text": [
      "Exception while calling loglikelihood function:\n",
      "  params: [ 0.02154711 -2.00028015  2.91635997  0.10796934]\n"
     ]
    },
    {
     "name": "stderr",
     "output_type": "stream",
     "text": [
      "ValueError: array must not contain infs or NaNs\n"
     ]
    },
    {
     "name": "stdout",
     "output_type": "stream",
     "text": [
      "Exception while calling loglikelihood function:\n"
     ]
    },
    {
     "name": "stderr",
     "output_type": "stream",
     "text": [
      "  File \"/home/jianyao/anaconda3/lib/python3.7/site-packages/numpy/lib/function_base.py\", line 486, in asarray_chkfinite\n",
      "    \"array must not contain infs or NaNs\")\n",
      "  File \"/home/jianyao/Likelihood/utils.py\", line 200, in calc_vecp_test\n",
      "    cl_inv_12= sqrtm(cl_inv)\n",
      "  File \"/home/jianyao/Likelihood/utils.py\", line 232, in testL\n",
      "    Xa = (calc_vecp_test(cl_hat, cl_f,cl_th, Nf = Nf))\n"
     ]
    },
    {
     "name": "stdout",
     "output_type": "stream",
     "text": [
      "Exception while calling loglikelihood function:\n"
     ]
    },
    {
     "name": "stderr",
     "output_type": "stream",
     "text": [
      "  File \"/home/jianyao/anaconda3/lib/python3.7/site-packages/dynesty/dynesty.py\", line 939, in __call__\n",
      "    return self.func(x, *self.args, **self.kwargs)\n",
      "  File \"/home/jianyao/anaconda3/lib/python3.7/site-packages/scipy/_lib/_util.py\", line 239, in _asarray_validated\n",
      "    a = toarray(a)\n",
      "  File \"/home/jianyao/Likelihood/utils.py\", line 232, in testL\n",
      "    Xa = (calc_vecp_test(cl_hat, cl_f,cl_th, Nf = Nf))\n"
     ]
    },
    {
     "name": "stdout",
     "output_type": "stream",
     "text": [
      "Exception while calling loglikelihood function:\n",
      "  exception:\n"
     ]
    },
    {
     "name": "stderr",
     "output_type": "stream",
     "text": [
      "  File \"/home/jianyao/anaconda3/lib/python3.7/site-packages/dynesty/dynesty.py\", line 939, in __call__\n",
      "    return self.func(x, *self.args, **self.kwargs)\n",
      "ValueError: array must not contain infs or NaNs\n",
      "  File \"/home/jianyao/anaconda3/lib/python3.7/site-packages/numpy/lib/function_base.py\", line 486, in asarray_chkfinite\n",
      "    \"array must not contain infs or NaNs\")\n",
      "Traceback (most recent call last):\n",
      "ValueError: array must not contain infs or NaNs\n"
     ]
    },
    {
     "name": "stdout",
     "output_type": "stream",
     "text": [
      "  kwargs: {}\n",
      "  kwargs: {}\n",
      "  kwargs: {}\n",
      "  kwargs: {}\n"
     ]
    },
    {
     "name": "stderr",
     "output_type": "stream",
     "text": [
      "  File \"/home/jianyao/anaconda3/lib/python3.7/site-packages/dynesty/dynesty.py\", line 939, in __call__\n",
      "    return self.func(x, *self.args, **self.kwargs)\n"
     ]
    },
    {
     "name": "stdout",
     "output_type": "stream",
     "text": [
      "  params: [ 0.06643033 -0.0729058   1.66454144  0.99355366]\n"
     ]
    },
    {
     "name": "stderr",
     "output_type": "stream",
     "text": [
      "  File \"/home/jianyao/anaconda3/lib/python3.7/site-packages/scipy/linalg/_matfuncs_sqrtm.py\", line 163, in sqrtm\n",
      "    A = _asarray_validated(A, check_finite=True, as_inexact=True)\n",
      "  File \"/home/jianyao/Likelihood/utils.py\", line 200, in calc_vecp_test\n",
      "    cl_inv_12= sqrtm(cl_inv)\n",
      "  File \"<ipython-input-308-26dcbcb00df7>\", line 34, in log_likelihood\n",
      "    logL =LogL.run(cl_hat=(cl_hat_fore_ali) , cl_th = C_l, likelihood='HL',sbin=sbin, ebin = ebin);\n",
      "  File \"/home/jianyao/anaconda3/lib/python3.7/site-packages/numpy/lib/function_base.py\", line 486, in asarray_chkfinite\n",
      "    \"array must not contain infs or NaNs\")\n",
      "  File \"/home/jianyao/Likelihood/utils.py\", line 200, in calc_vecp_test\n",
      "    cl_inv_12= sqrtm(cl_inv)\n"
     ]
    },
    {
     "name": "stdout",
     "output_type": "stream",
     "text": [
      "Exception while calling loglikelihood function:\n"
     ]
    },
    {
     "name": "stderr",
     "output_type": "stream",
     "text": [
      "ValueError: array must not contain infs or NaNs\n",
      "  File \"/home/jianyao/anaconda3/lib/python3.7/site-packages/dynesty/dynesty.py\", line 939, in __call__\n",
      "    return self.func(x, *self.args, **self.kwargs)\n",
      "  File \"/home/jianyao/Likelihood/utils.py\", line 200, in calc_vecp_test\n",
      "    cl_inv_12= sqrtm(cl_inv)\n"
     ]
    },
    {
     "name": "stdout",
     "output_type": "stream",
     "text": [
      "  params: [ 0.03449953 -1.00433303  2.92608043  0.04955946]\n",
      "  params: [ 0.16056422 -0.00546875  1.71144412  0.47329399]\n"
     ]
    },
    {
     "name": "stderr",
     "output_type": "stream",
     "text": [
      "  File \"/home/jianyao/anaconda3/lib/python3.7/site-packages/scipy/linalg/_matfuncs_sqrtm.py\", line 163, in sqrtm\n",
      "    A = _asarray_validated(A, check_finite=True, as_inexact=True)\n",
      "ValueError: array must not contain infs or NaNs\n",
      "  File \"<ipython-input-308-26dcbcb00df7>\", line 34, in log_likelihood\n",
      "    logL =LogL.run(cl_hat=(cl_hat_fore_ali) , cl_th = C_l, likelihood='HL',sbin=sbin, ebin = ebin);\n"
     ]
    },
    {
     "name": "stdout",
     "output_type": "stream",
     "text": [
      "  exception:\n"
     ]
    },
    {
     "name": "stderr",
     "output_type": "stream",
     "text": [
      "Traceback (most recent call last):\n",
      "  File \"/home/jianyao/anaconda3/lib/python3.7/site-packages/dynesty/dynesty.py\", line 939, in __call__\n",
      "    return self.func(x, *self.args, **self.kwargs)\n"
     ]
    },
    {
     "name": "stdout",
     "output_type": "stream",
     "text": [
      "  params: [ 0.1510341  -0.82200521  1.36770241  0.19303274]\n",
      "  exception:\n",
      "Exception while calling loglikelihood function:\n",
      "  args: []\n"
     ]
    },
    {
     "name": "stderr",
     "output_type": "stream",
     "text": [
      "  File \"<ipython-input-308-26dcbcb00df7>\", line 34, in log_likelihood\n",
      "    logL =LogL.run(cl_hat=(cl_hat_fore_ali) , cl_th = C_l, likelihood='HL',sbin=sbin, ebin = ebin);\n"
     ]
    },
    {
     "name": "stdout",
     "output_type": "stream",
     "text": [
      "  exception:\n",
      "Exception while calling loglikelihood function:\n",
      "  exception:\n",
      "  params: [ 0.03246533 -3.28278967  2.04237928  0.53919125]\n"
     ]
    },
    {
     "name": "stderr",
     "output_type": "stream",
     "text": [
      "  File \"/home/jianyao/anaconda3/lib/python3.7/site-packages/scipy/_lib/_util.py\", line 239, in _asarray_validated\n",
      "    a = toarray(a)\n"
     ]
    },
    {
     "name": "stdout",
     "output_type": "stream",
     "text": [
      "  kwargs: {}\n"
     ]
    },
    {
     "name": "stderr",
     "output_type": "stream",
     "text": [
      "ValueError: array must not contain infs or NaNs\n",
      "  File \"/home/jianyao/anaconda3/lib/python3.7/site-packages/scipy/linalg/_matfuncs_sqrtm.py\", line 163, in sqrtm\n",
      "    A = _asarray_validated(A, check_finite=True, as_inexact=True)\n",
      "  File \"/home/jianyao/anaconda3/lib/python3.7/site-packages/scipy/linalg/_matfuncs_sqrtm.py\", line 163, in sqrtm\n",
      "    A = _asarray_validated(A, check_finite=True, as_inexact=True)\n"
     ]
    },
    {
     "name": "stdout",
     "output_type": "stream",
     "text": [
      "  params: [ 0.19664958 -2.82626382  2.47741025  0.77282014]\n"
     ]
    },
    {
     "name": "stderr",
     "output_type": "stream",
     "text": [
      "  File \"<ipython-input-308-26dcbcb00df7>\", line 34, in log_likelihood\n",
      "    logL =LogL.run(cl_hat=(cl_hat_fore_ali) , cl_th = C_l, likelihood='HL',sbin=sbin, ebin = ebin);\n"
     ]
    },
    {
     "name": "stdout",
     "output_type": "stream",
     "text": [
      "  args: []\n",
      "  args: []\n",
      "  args: []\n"
     ]
    },
    {
     "name": "stderr",
     "output_type": "stream",
     "text": [
      "  File \"/home/jianyao/Likelihood/logLikeli.py\", line 53, in run\n",
      "    logL = testL(cl_hat = cl_hat, cl_f = self.cl_f[2], cl_th = cl_th, Nf = self.Nf, M_inv = self.Cov_inv, sbin = sbin, ebin = ebin)\n",
      "  File \"/home/jianyao/anaconda3/lib/python3.7/site-packages/scipy/_lib/_util.py\", line 239, in _asarray_validated\n",
      "    a = toarray(a)\n"
     ]
    },
    {
     "name": "stdout",
     "output_type": "stream",
     "text": [
      "  args: []\n",
      "  params: [ 0.14263676 -2.98735934  1.76112134  0.63834505]\n"
     ]
    },
    {
     "name": "stderr",
     "output_type": "stream",
     "text": [
      "  File \"/home/jianyao/anaconda3/lib/python3.7/site-packages/scipy/linalg/_matfuncs_sqrtm.py\", line 163, in sqrtm\n",
      "    A = _asarray_validated(A, check_finite=True, as_inexact=True)\n",
      "  File \"<ipython-input-308-26dcbcb00df7>\", line 34, in log_likelihood\n",
      "    logL =LogL.run(cl_hat=(cl_hat_fore_ali) , cl_th = C_l, likelihood='HL',sbin=sbin, ebin = ebin);\n"
     ]
    },
    {
     "name": "stdout",
     "output_type": "stream",
     "text": [
      "  params: [ 0.0587893  -0.73183225  2.50154387  0.71460536]\n"
     ]
    },
    {
     "name": "stderr",
     "output_type": "stream",
     "text": [
      "  File \"/home/jianyao/anaconda3/lib/python3.7/site-packages/dynesty/dynesty.py\", line 939, in __call__\n",
      "    return self.func(x, *self.args, **self.kwargs)\n"
     ]
    },
    {
     "name": "stdout",
     "output_type": "stream",
     "text": [
      "  exception:\n"
     ]
    },
    {
     "name": "stderr",
     "output_type": "stream",
     "text": [
      "  File \"/home/jianyao/Likelihood/logLikeli.py\", line 53, in run\n",
      "    logL = testL(cl_hat = cl_hat, cl_f = self.cl_f[2], cl_th = cl_th, Nf = self.Nf, M_inv = self.Cov_inv, sbin = sbin, ebin = ebin)\n",
      "Traceback (most recent call last):\n",
      "Traceback (most recent call last):\n",
      "  File \"/home/jianyao/Likelihood/utils.py\", line 232, in testL\n",
      "    Xa = (calc_vecp_test(cl_hat, cl_f,cl_th, Nf = Nf))\n",
      "  File \"/home/jianyao/Likelihood/logLikeli.py\", line 53, in run\n",
      "    logL = testL(cl_hat = cl_hat, cl_f = self.cl_f[2], cl_th = cl_th, Nf = self.Nf, M_inv = self.Cov_inv, sbin = sbin, ebin = ebin)\n",
      "  File \"/home/jianyao/anaconda3/lib/python3.7/site-packages/numpy/lib/function_base.py\", line 486, in asarray_chkfinite\n",
      "    \"array must not contain infs or NaNs\")\n",
      "Traceback (most recent call last):\n"
     ]
    },
    {
     "name": "stdout",
     "output_type": "stream",
     "text": [
      "  args: []\n"
     ]
    },
    {
     "name": "stderr",
     "output_type": "stream",
     "text": [
      "Traceback (most recent call last):\n",
      "  File \"/home/jianyao/anaconda3/lib/python3.7/site-packages/scipy/_lib/_util.py\", line 239, in _asarray_validated\n",
      "    a = toarray(a)\n"
     ]
    },
    {
     "name": "stdout",
     "output_type": "stream",
     "text": [
      "Exception while calling loglikelihood function:\n",
      "  args: []\n"
     ]
    },
    {
     "name": "stderr",
     "output_type": "stream",
     "text": [
      "  File \"/home/jianyao/anaconda3/lib/python3.7/site-packages/scipy/_lib/_util.py\", line 239, in _asarray_validated\n",
      "    a = toarray(a)\n"
     ]
    },
    {
     "name": "stdout",
     "output_type": "stream",
     "text": [
      "  kwargs: {}\n",
      "Exception while calling loglikelihood function:\n",
      "  kwargs: {}\n",
      "  kwargs: {}\n"
     ]
    },
    {
     "name": "stderr",
     "output_type": "stream",
     "text": [
      "  File \"/home/jianyao/anaconda3/lib/python3.7/site-packages/numpy/lib/function_base.py\", line 486, in asarray_chkfinite\n",
      "    \"array must not contain infs or NaNs\")\n"
     ]
    },
    {
     "name": "stdout",
     "output_type": "stream",
     "text": [
      "  kwargs: {}\n",
      "  args: []\n",
      "Exception while calling loglikelihood function:\n",
      "Exception while calling loglikelihood function:\n"
     ]
    },
    {
     "name": "stderr",
     "output_type": "stream",
     "text": [
      "  File \"/home/jianyao/Likelihood/logLikeli.py\", line 53, in run\n",
      "    logL = testL(cl_hat = cl_hat, cl_f = self.cl_f[2], cl_th = cl_th, Nf = self.Nf, M_inv = self.Cov_inv, sbin = sbin, ebin = ebin)\n",
      "  File \"/home/jianyao/Likelihood/logLikeli.py\", line 53, in run\n",
      "    logL = testL(cl_hat = cl_hat, cl_f = self.cl_f[2], cl_th = cl_th, Nf = self.Nf, M_inv = self.Cov_inv, sbin = sbin, ebin = ebin)\n",
      "  File \"/home/jianyao/anaconda3/lib/python3.7/site-packages/scipy/_lib/_util.py\", line 239, in _asarray_validated\n",
      "    a = toarray(a)\n"
     ]
    },
    {
     "name": "stdout",
     "output_type": "stream",
     "text": [
      "Exception while calling loglikelihood function:\n"
     ]
    },
    {
     "name": "stderr",
     "output_type": "stream",
     "text": [
      "  File \"/home/jianyao/anaconda3/lib/python3.7/site-packages/scipy/_lib/_util.py\", line 239, in _asarray_validated\n",
      "    a = toarray(a)\n"
     ]
    },
    {
     "name": "stdout",
     "output_type": "stream",
     "text": [
      "  args: []\n",
      "Exception while calling loglikelihood function:\n"
     ]
    },
    {
     "name": "stderr",
     "output_type": "stream",
     "text": [
      "  File \"/home/jianyao/anaconda3/lib/python3.7/site-packages/scipy/linalg/_matfuncs_sqrtm.py\", line 163, in sqrtm\n",
      "    A = _asarray_validated(A, check_finite=True, as_inexact=True)\n",
      "ValueError: array must not contain infs or NaNs\n",
      "  File \"/home/jianyao/Likelihood/logLikeli.py\", line 53, in run\n",
      "    logL = testL(cl_hat = cl_hat, cl_f = self.cl_f[2], cl_th = cl_th, Nf = self.Nf, M_inv = self.Cov_inv, sbin = sbin, ebin = ebin)\n"
     ]
    },
    {
     "name": "stdout",
     "output_type": "stream",
     "text": [
      "  params: [ 0.02671721 -0.79387971  1.16286589  0.42229303]\n",
      "  params: [ 0.11891327 -2.91518116  1.08991548  0.02905505]\n"
     ]
    },
    {
     "name": "stderr",
     "output_type": "stream",
     "text": [
      "  File \"/home/jianyao/anaconda3/lib/python3.7/site-packages/numpy/lib/function_base.py\", line 486, in asarray_chkfinite\n",
      "    \"array must not contain infs or NaNs\")\n"
     ]
    },
    {
     "name": "stdout",
     "output_type": "stream",
     "text": [
      "  params: [ 0.16729346 -0.78997442  1.47322444  0.77799395]\n",
      "  params: [ 0.04822585 -3.29080303  2.43963318  0.70626304]\n"
     ]
    },
    {
     "name": "stderr",
     "output_type": "stream",
     "text": [
      "  File \"/home/jianyao/Likelihood/utils.py\", line 232, in testL\n",
      "    Xa = (calc_vecp_test(cl_hat, cl_f,cl_th, Nf = Nf))\n",
      "  File \"/home/jianyao/Likelihood/utils.py\", line 232, in testL\n",
      "    Xa = (calc_vecp_test(cl_hat, cl_f,cl_th, Nf = Nf))\n",
      "  File \"/home/jianyao/anaconda3/lib/python3.7/site-packages/numpy/lib/function_base.py\", line 486, in asarray_chkfinite\n",
      "    \"array must not contain infs or NaNs\")\n",
      "  File \"/home/jianyao/anaconda3/lib/python3.7/site-packages/scipy/_lib/_util.py\", line 239, in _asarray_validated\n",
      "    a = toarray(a)\n",
      "  File \"/home/jianyao/Likelihood/logLikeli.py\", line 53, in run\n",
      "    logL = testL(cl_hat = cl_hat, cl_f = self.cl_f[2], cl_th = cl_th, Nf = self.Nf, M_inv = self.Cov_inv, sbin = sbin, ebin = ebin)\n",
      "Traceback (most recent call last):\n",
      "Traceback (most recent call last):\n",
      "ValueError: array must not contain infs or NaNs\n"
     ]
    },
    {
     "name": "stdout",
     "output_type": "stream",
     "text": [
      "  exception:\n"
     ]
    },
    {
     "name": "stderr",
     "output_type": "stream",
     "text": [
      "  File \"/home/jianyao/anaconda3/lib/python3.7/site-packages/scipy/linalg/_matfuncs_sqrtm.py\", line 163, in sqrtm\n",
      "    A = _asarray_validated(A, check_finite=True, as_inexact=True)\n",
      "  File \"/home/jianyao/Likelihood/logLikeli.py\", line 53, in run\n",
      "    logL = testL(cl_hat = cl_hat, cl_f = self.cl_f[2], cl_th = cl_th, Nf = self.Nf, M_inv = self.Cov_inv, sbin = sbin, ebin = ebin)\n"
     ]
    },
    {
     "name": "stdout",
     "output_type": "stream",
     "text": [
      "  kwargs: {}\n"
     ]
    },
    {
     "name": "stderr",
     "output_type": "stream",
     "text": [
      "  File \"/home/jianyao/anaconda3/lib/python3.7/site-packages/numpy/lib/function_base.py\", line 486, in asarray_chkfinite\n",
      "    \"array must not contain infs or NaNs\")\n",
      "Traceback (most recent call last):\n",
      "Traceback (most recent call last):\n",
      "  File \"/home/jianyao/anaconda3/lib/python3.7/site-packages/scipy/_lib/_util.py\", line 239, in _asarray_validated\n",
      "    a = toarray(a)\n",
      "  File \"/home/jianyao/Likelihood/utils.py\", line 232, in testL\n",
      "    Xa = (calc_vecp_test(cl_hat, cl_f,cl_th, Nf = Nf))\n"
     ]
    },
    {
     "name": "stdout",
     "output_type": "stream",
     "text": [
      "  args: []\n",
      "  args: []\n"
     ]
    },
    {
     "name": "stderr",
     "output_type": "stream",
     "text": [
      "  File \"/home/jianyao/anaconda3/lib/python3.7/site-packages/numpy/lib/function_base.py\", line 486, in asarray_chkfinite\n",
      "    \"array must not contain infs or NaNs\")\n"
     ]
    },
    {
     "name": "stdout",
     "output_type": "stream",
     "text": [
      "  args: []\n",
      "Exception while calling loglikelihood function:\n",
      "  args: []\n"
     ]
    },
    {
     "name": "stderr",
     "output_type": "stream",
     "text": [
      "ValueError: array must not contain infs or NaNs\n",
      "  File \"/home/jianyao/Likelihood/utils.py\", line 200, in calc_vecp_test\n",
      "    cl_inv_12= sqrtm(cl_inv)\n"
     ]
    },
    {
     "name": "stdout",
     "output_type": "stream",
     "text": [
      "Exception while calling loglikelihood function:\n",
      "  params: [ 0.02154711 -2.00028015  2.91635997  0.10796934]\n"
     ]
    },
    {
     "name": "stderr",
     "output_type": "stream",
     "text": [
      "ValueError: array must not contain infs or NaNs\n"
     ]
    },
    {
     "name": "stdout",
     "output_type": "stream",
     "text": [
      "Exception while calling loglikelihood function:\n"
     ]
    },
    {
     "name": "stderr",
     "output_type": "stream",
     "text": [
      "  File \"/home/jianyao/anaconda3/lib/python3.7/site-packages/numpy/lib/function_base.py\", line 486, in asarray_chkfinite\n",
      "    \"array must not contain infs or NaNs\")\n",
      "  File \"/home/jianyao/Likelihood/utils.py\", line 200, in calc_vecp_test\n",
      "    cl_inv_12= sqrtm(cl_inv)\n",
      "  File \"/home/jianyao/Likelihood/utils.py\", line 232, in testL\n",
      "    Xa = (calc_vecp_test(cl_hat, cl_f,cl_th, Nf = Nf))\n"
     ]
    },
    {
     "name": "stdout",
     "output_type": "stream",
     "text": [
      "Exception while calling loglikelihood function:\n"
     ]
    },
    {
     "name": "stderr",
     "output_type": "stream",
     "text": [
      "  File \"/home/jianyao/anaconda3/lib/python3.7/site-packages/dynesty/dynesty.py\", line 939, in __call__\n",
      "    return self.func(x, *self.args, **self.kwargs)\n",
      "  File \"/home/jianyao/anaconda3/lib/python3.7/site-packages/scipy/_lib/_util.py\", line 239, in _asarray_validated\n",
      "    a = toarray(a)\n",
      "  File \"/home/jianyao/Likelihood/utils.py\", line 232, in testL\n",
      "    Xa = (calc_vecp_test(cl_hat, cl_f,cl_th, Nf = Nf))\n"
     ]
    },
    {
     "name": "stdout",
     "output_type": "stream",
     "text": [
      "Exception while calling loglikelihood function:\n",
      "  exception:\n"
     ]
    },
    {
     "name": "stderr",
     "output_type": "stream",
     "text": [
      "  File \"/home/jianyao/anaconda3/lib/python3.7/site-packages/dynesty/dynesty.py\", line 939, in __call__\n",
      "    return self.func(x, *self.args, **self.kwargs)\n",
      "ValueError: array must not contain infs or NaNs\n",
      "  File \"/home/jianyao/anaconda3/lib/python3.7/site-packages/numpy/lib/function_base.py\", line 486, in asarray_chkfinite\n",
      "    \"array must not contain infs or NaNs\")\n",
      "Traceback (most recent call last):\n",
      "ValueError: array must not contain infs or NaNs\n"
     ]
    },
    {
     "name": "stdout",
     "output_type": "stream",
     "text": [
      "  kwargs: {}\n",
      "  kwargs: {}\n",
      "  kwargs: {}\n",
      "  kwargs: {}\n"
     ]
    },
    {
     "name": "stderr",
     "output_type": "stream",
     "text": [
      "  File \"/home/jianyao/anaconda3/lib/python3.7/site-packages/dynesty/dynesty.py\", line 939, in __call__\n",
      "    return self.func(x, *self.args, **self.kwargs)\n"
     ]
    },
    {
     "name": "stdout",
     "output_type": "stream",
     "text": [
      "  params: [ 0.06643033 -0.0729058   1.66454144  0.99355366]\n"
     ]
    },
    {
     "name": "stderr",
     "output_type": "stream",
     "text": [
      "  File \"/home/jianyao/anaconda3/lib/python3.7/site-packages/scipy/linalg/_matfuncs_sqrtm.py\", line 163, in sqrtm\n",
      "    A = _asarray_validated(A, check_finite=True, as_inexact=True)\n",
      "  File \"/home/jianyao/Likelihood/utils.py\", line 200, in calc_vecp_test\n",
      "    cl_inv_12= sqrtm(cl_inv)\n",
      "  File \"<ipython-input-308-26dcbcb00df7>\", line 34, in log_likelihood\n",
      "    logL =LogL.run(cl_hat=(cl_hat_fore_ali) , cl_th = C_l, likelihood='HL',sbin=sbin, ebin = ebin);\n",
      "  File \"/home/jianyao/anaconda3/lib/python3.7/site-packages/numpy/lib/function_base.py\", line 486, in asarray_chkfinite\n",
      "    \"array must not contain infs or NaNs\")\n",
      "  File \"/home/jianyao/Likelihood/utils.py\", line 200, in calc_vecp_test\n",
      "    cl_inv_12= sqrtm(cl_inv)\n"
     ]
    },
    {
     "name": "stdout",
     "output_type": "stream",
     "text": [
      "Exception while calling loglikelihood function:\n"
     ]
    },
    {
     "name": "stderr",
     "output_type": "stream",
     "text": [
      "ValueError: array must not contain infs or NaNs\n",
      "  File \"/home/jianyao/anaconda3/lib/python3.7/site-packages/dynesty/dynesty.py\", line 939, in __call__\n",
      "    return self.func(x, *self.args, **self.kwargs)\n",
      "  File \"/home/jianyao/Likelihood/utils.py\", line 200, in calc_vecp_test\n",
      "    cl_inv_12= sqrtm(cl_inv)\n"
     ]
    },
    {
     "name": "stdout",
     "output_type": "stream",
     "text": [
      "  params: [ 0.03449953 -1.00433303  2.92608043  0.04955946]\n",
      "  params: [ 0.16056422 -0.00546875  1.71144412  0.47329399]\n"
     ]
    },
    {
     "name": "stderr",
     "output_type": "stream",
     "text": [
      "  File \"/home/jianyao/anaconda3/lib/python3.7/site-packages/scipy/linalg/_matfuncs_sqrtm.py\", line 163, in sqrtm\n",
      "    A = _asarray_validated(A, check_finite=True, as_inexact=True)\n",
      "ValueError: array must not contain infs or NaNs\n",
      "  File \"<ipython-input-308-26dcbcb00df7>\", line 34, in log_likelihood\n",
      "    logL =LogL.run(cl_hat=(cl_hat_fore_ali) , cl_th = C_l, likelihood='HL',sbin=sbin, ebin = ebin);\n"
     ]
    },
    {
     "name": "stdout",
     "output_type": "stream",
     "text": [
      "  exception:\n"
     ]
    },
    {
     "name": "stderr",
     "output_type": "stream",
     "text": [
      "Traceback (most recent call last):\n",
      "  File \"/home/jianyao/anaconda3/lib/python3.7/site-packages/dynesty/dynesty.py\", line 939, in __call__\n",
      "    return self.func(x, *self.args, **self.kwargs)\n"
     ]
    },
    {
     "name": "stdout",
     "output_type": "stream",
     "text": [
      "  params: [ 0.1510341  -0.82200521  1.36770241  0.19303274]\n",
      "  exception:\n",
      "Exception while calling loglikelihood function:\n",
      "  args: []\n"
     ]
    },
    {
     "name": "stderr",
     "output_type": "stream",
     "text": [
      "  File \"<ipython-input-308-26dcbcb00df7>\", line 34, in log_likelihood\n",
      "    logL =LogL.run(cl_hat=(cl_hat_fore_ali) , cl_th = C_l, likelihood='HL',sbin=sbin, ebin = ebin);\n"
     ]
    },
    {
     "name": "stdout",
     "output_type": "stream",
     "text": [
      "  exception:\n",
      "Exception while calling loglikelihood function:\n",
      "  exception:\n",
      "  params: [ 0.03246533 -3.28278967  2.04237928  0.53919125]\n"
     ]
    },
    {
     "name": "stderr",
     "output_type": "stream",
     "text": [
      "  File \"/home/jianyao/anaconda3/lib/python3.7/site-packages/scipy/_lib/_util.py\", line 239, in _asarray_validated\n",
      "    a = toarray(a)\n"
     ]
    },
    {
     "name": "stdout",
     "output_type": "stream",
     "text": [
      "  kwargs: {}\n"
     ]
    },
    {
     "name": "stderr",
     "output_type": "stream",
     "text": [
      "ValueError: array must not contain infs or NaNs\n",
      "  File \"/home/jianyao/anaconda3/lib/python3.7/site-packages/scipy/linalg/_matfuncs_sqrtm.py\", line 163, in sqrtm\n",
      "    A = _asarray_validated(A, check_finite=True, as_inexact=True)\n",
      "  File \"/home/jianyao/anaconda3/lib/python3.7/site-packages/scipy/linalg/_matfuncs_sqrtm.py\", line 163, in sqrtm\n",
      "    A = _asarray_validated(A, check_finite=True, as_inexact=True)\n"
     ]
    },
    {
     "name": "stdout",
     "output_type": "stream",
     "text": [
      "  params: [ 0.19664958 -2.82626382  2.47741025  0.77282014]\n"
     ]
    },
    {
     "name": "stderr",
     "output_type": "stream",
     "text": [
      "  File \"<ipython-input-308-26dcbcb00df7>\", line 34, in log_likelihood\n",
      "    logL =LogL.run(cl_hat=(cl_hat_fore_ali) , cl_th = C_l, likelihood='HL',sbin=sbin, ebin = ebin);\n"
     ]
    },
    {
     "name": "stdout",
     "output_type": "stream",
     "text": [
      "  args: []\n",
      "  args: []\n",
      "  args: []\n"
     ]
    },
    {
     "name": "stderr",
     "output_type": "stream",
     "text": [
      "  File \"/home/jianyao/Likelihood/logLikeli.py\", line 53, in run\n",
      "    logL = testL(cl_hat = cl_hat, cl_f = self.cl_f[2], cl_th = cl_th, Nf = self.Nf, M_inv = self.Cov_inv, sbin = sbin, ebin = ebin)\n",
      "  File \"/home/jianyao/anaconda3/lib/python3.7/site-packages/scipy/_lib/_util.py\", line 239, in _asarray_validated\n",
      "    a = toarray(a)\n"
     ]
    },
    {
     "name": "stdout",
     "output_type": "stream",
     "text": [
      "  args: []\n",
      "  params: [ 0.14263676 -2.98735934  1.76112134  0.63834505]\n"
     ]
    },
    {
     "name": "stderr",
     "output_type": "stream",
     "text": [
      "  File \"/home/jianyao/anaconda3/lib/python3.7/site-packages/scipy/linalg/_matfuncs_sqrtm.py\", line 163, in sqrtm\n",
      "    A = _asarray_validated(A, check_finite=True, as_inexact=True)\n",
      "  File \"<ipython-input-308-26dcbcb00df7>\", line 34, in log_likelihood\n",
      "    logL =LogL.run(cl_hat=(cl_hat_fore_ali) , cl_th = C_l, likelihood='HL',sbin=sbin, ebin = ebin);\n"
     ]
    },
    {
     "name": "stdout",
     "output_type": "stream",
     "text": [
      "  params: [ 0.0587893  -0.73183225  2.50154387  0.71460536]\n"
     ]
    },
    {
     "name": "stderr",
     "output_type": "stream",
     "text": [
      "  File \"/home/jianyao/anaconda3/lib/python3.7/site-packages/dynesty/dynesty.py\", line 939, in __call__\n",
      "    return self.func(x, *self.args, **self.kwargs)\n"
     ]
    },
    {
     "name": "stdout",
     "output_type": "stream",
     "text": [
      "  exception:\n"
     ]
    },
    {
     "name": "stderr",
     "output_type": "stream",
     "text": [
      "  File \"/home/jianyao/Likelihood/logLikeli.py\", line 53, in run\n",
      "    logL = testL(cl_hat = cl_hat, cl_f = self.cl_f[2], cl_th = cl_th, Nf = self.Nf, M_inv = self.Cov_inv, sbin = sbin, ebin = ebin)\n",
      "Traceback (most recent call last):\n",
      "Traceback (most recent call last):\n",
      "  File \"/home/jianyao/Likelihood/utils.py\", line 232, in testL\n",
      "    Xa = (calc_vecp_test(cl_hat, cl_f,cl_th, Nf = Nf))\n",
      "  File \"/home/jianyao/Likelihood/logLikeli.py\", line 53, in run\n",
      "    logL = testL(cl_hat = cl_hat, cl_f = self.cl_f[2], cl_th = cl_th, Nf = self.Nf, M_inv = self.Cov_inv, sbin = sbin, ebin = ebin)\n",
      "  File \"/home/jianyao/anaconda3/lib/python3.7/site-packages/numpy/lib/function_base.py\", line 486, in asarray_chkfinite\n",
      "    \"array must not contain infs or NaNs\")\n",
      "Traceback (most recent call last):\n"
     ]
    },
    {
     "name": "stdout",
     "output_type": "stream",
     "text": [
      "  args: []\n"
     ]
    },
    {
     "name": "stderr",
     "output_type": "stream",
     "text": [
      "Traceback (most recent call last):\n",
      "  File \"/home/jianyao/anaconda3/lib/python3.7/site-packages/scipy/_lib/_util.py\", line 239, in _asarray_validated\n",
      "    a = toarray(a)\n"
     ]
    },
    {
     "name": "stdout",
     "output_type": "stream",
     "text": [
      "Exception while calling loglikelihood function:\n",
      "  args: []\n"
     ]
    },
    {
     "name": "stderr",
     "output_type": "stream",
     "text": [
      "  File \"/home/jianyao/anaconda3/lib/python3.7/site-packages/scipy/_lib/_util.py\", line 239, in _asarray_validated\n",
      "    a = toarray(a)\n"
     ]
    },
    {
     "name": "stdout",
     "output_type": "stream",
     "text": [
      "  kwargs: {}\n",
      "Exception while calling loglikelihood function:\n",
      "  kwargs: {}\n",
      "  kwargs: {}\n"
     ]
    },
    {
     "name": "stderr",
     "output_type": "stream",
     "text": [
      "  File \"/home/jianyao/anaconda3/lib/python3.7/site-packages/numpy/lib/function_base.py\", line 486, in asarray_chkfinite\n",
      "    \"array must not contain infs or NaNs\")\n"
     ]
    },
    {
     "name": "stdout",
     "output_type": "stream",
     "text": [
      "  kwargs: {}\n",
      "  args: []\n",
      "Exception while calling loglikelihood function:\n",
      "Exception while calling loglikelihood function:\n"
     ]
    },
    {
     "name": "stderr",
     "output_type": "stream",
     "text": [
      "  File \"/home/jianyao/Likelihood/logLikeli.py\", line 53, in run\n",
      "    logL = testL(cl_hat = cl_hat, cl_f = self.cl_f[2], cl_th = cl_th, Nf = self.Nf, M_inv = self.Cov_inv, sbin = sbin, ebin = ebin)\n",
      "  File \"/home/jianyao/Likelihood/logLikeli.py\", line 53, in run\n",
      "    logL = testL(cl_hat = cl_hat, cl_f = self.cl_f[2], cl_th = cl_th, Nf = self.Nf, M_inv = self.Cov_inv, sbin = sbin, ebin = ebin)\n",
      "  File \"/home/jianyao/anaconda3/lib/python3.7/site-packages/scipy/_lib/_util.py\", line 239, in _asarray_validated\n",
      "    a = toarray(a)\n"
     ]
    },
    {
     "name": "stdout",
     "output_type": "stream",
     "text": [
      "Exception while calling loglikelihood function:\n"
     ]
    },
    {
     "name": "stderr",
     "output_type": "stream",
     "text": [
      "  File \"/home/jianyao/Likelihood/utils.py\", line 232, in testL\n",
      "    Xa = (calc_vecp_test(cl_hat, cl_f,cl_th, Nf = Nf))\n",
      "  File \"<ipython-input-308-26dcbcb00df7>\", line 34, in log_likelihood\n",
      "    logL =LogL.run(cl_hat=(cl_hat_fore_ali) , cl_th = C_l, likelihood='HL',sbin=sbin, ebin = ebin);\n",
      "  File \"/home/jianyao/anaconda3/lib/python3.7/site-packages/dynesty/dynesty.py\", line 939, in __call__\n",
      "    return self.func(x, *self.args, **self.kwargs)\n",
      "  File \"/home/jianyao/anaconda3/lib/python3.7/site-packages/dynesty/dynesty.py\", line 939, in __call__\n",
      "    return self.func(x, *self.args, **self.kwargs)\n",
      "  File \"/home/jianyao/Likelihood/utils.py\", line 200, in calc_vecp_test\n",
      "    cl_inv_12= sqrtm(cl_inv)\n"
     ]
    },
    {
     "name": "stdout",
     "output_type": "stream",
     "text": [
      "  args: []\n"
     ]
    },
    {
     "name": "stderr",
     "output_type": "stream",
     "text": [
      "  File \"/home/jianyao/Likelihood/utils.py\", line 232, in testL\n",
      "    Xa = (calc_vecp_test(cl_hat, cl_f,cl_th, Nf = Nf))\n",
      "Traceback (most recent call last):\n",
      "ValueError: array must not contain infs or NaNs\n"
     ]
    },
    {
     "name": "stdout",
     "output_type": "stream",
     "text": [
      "Exception while calling loglikelihood function:\n"
     ]
    },
    {
     "name": "stderr",
     "output_type": "stream",
     "text": [
      "  File \"/home/jianyao/anaconda3/lib/python3.7/site-packages/dynesty/dynesty.py\", line 939, in __call__\n",
      "    return self.func(x, *self.args, **self.kwargs)\n",
      "  File \"/home/jianyao/anaconda3/lib/python3.7/site-packages/dynesty/dynesty.py\", line 939, in __call__\n",
      "    return self.func(x, *self.args, **self.kwargs)\n"
     ]
    },
    {
     "name": "stdout",
     "output_type": "stream",
     "text": [
      "  kwargs: {}\n",
      "  kwargs: {}\n"
     ]
    },
    {
     "name": "stderr",
     "output_type": "stream",
     "text": [
      "  File \"/home/jianyao/anaconda3/lib/python3.7/site-packages/numpy/lib/function_base.py\", line 486, in asarray_chkfinite\n",
      "    \"array must not contain infs or NaNs\")\n"
     ]
    },
    {
     "name": "stdout",
     "output_type": "stream",
     "text": [
      "  exception:\n",
      "  exception:\n"
     ]
    },
    {
     "name": "stderr",
     "output_type": "stream",
     "text": [
      "  File \"/home/jianyao/anaconda3/lib/python3.7/site-packages/numpy/lib/function_base.py\", line 486, in asarray_chkfinite\n",
      "    \"array must not contain infs or NaNs\")\n"
     ]
    },
    {
     "name": "stdout",
     "output_type": "stream",
     "text": [
      "  exception:\n"
     ]
    },
    {
     "name": "stderr",
     "output_type": "stream",
     "text": [
      "ValueError: array must not contain infs or NaNs\n"
     ]
    },
    {
     "name": "stdout",
     "output_type": "stream",
     "text": [
      "  params: [ 1.42578287e-03 -2.27463331e+00  2.54814874e+00  4.63817292e-01]\n",
      "  exception:\n"
     ]
    },
    {
     "name": "stderr",
     "output_type": "stream",
     "text": [
      "  File \"/home/jianyao/Likelihood/utils.py\", line 232, in testL\n",
      "    Xa = (calc_vecp_test(cl_hat, cl_f,cl_th, Nf = Nf))\n"
     ]
    },
    {
     "name": "stdout",
     "output_type": "stream",
     "text": [
      "  params: [ 0.14713971 -1.25753588  2.47796427  0.33781581]\n",
      "  kwargs: {}\n"
     ]
    },
    {
     "name": "stderr",
     "output_type": "stream",
     "text": [
      "  File \"/home/jianyao/Likelihood/utils.py\", line 232, in testL\n",
      "    Xa = (calc_vecp_test(cl_hat, cl_f,cl_th, Nf = Nf))\n"
     ]
    },
    {
     "name": "stdout",
     "output_type": "stream",
     "text": [
      "  params: [ 0.19443317 -1.54511041  1.37379235  0.15697528]\n"
     ]
    },
    {
     "name": "stderr",
     "output_type": "stream",
     "text": [
      "  File \"<ipython-input-308-26dcbcb00df7>\", line 34, in log_likelihood\n",
      "    logL =LogL.run(cl_hat=(cl_hat_fore_ali) , cl_th = C_l, likelihood='HL',sbin=sbin, ebin = ebin);\n",
      "  File \"/home/jianyao/Likelihood/logLikeli.py\", line 53, in run\n",
      "    logL = testL(cl_hat = cl_hat, cl_f = self.cl_f[2], cl_th = cl_th, Nf = self.Nf, M_inv = self.Cov_inv, sbin = sbin, ebin = ebin)\n",
      "  File \"/home/jianyao/anaconda3/lib/python3.7/site-packages/numpy/lib/function_base.py\", line 486, in asarray_chkfinite\n",
      "    \"array must not contain infs or NaNs\")\n",
      "  File \"/home/jianyao/anaconda3/lib/python3.7/site-packages/scipy/linalg/_matfuncs_sqrtm.py\", line 163, in sqrtm\n",
      "    A = _asarray_validated(A, check_finite=True, as_inexact=True)\n",
      "  File \"/home/jianyao/Likelihood/utils.py\", line 200, in calc_vecp_test\n",
      "    cl_inv_12= sqrtm(cl_inv)\n",
      "  File \"<ipython-input-308-26dcbcb00df7>\", line 34, in log_likelihood\n",
      "    logL =LogL.run(cl_hat=(cl_hat_fore_ali) , cl_th = C_l, likelihood='HL',sbin=sbin, ebin = ebin);\n",
      "  File \"/home/jianyao/Likelihood/utils.py\", line 200, in calc_vecp_test\n",
      "    cl_inv_12= sqrtm(cl_inv)\n"
     ]
    },
    {
     "name": "stdout",
     "output_type": "stream",
     "text": [
      "  params: [ 0.14746542 -3.865124    1.4229984   0.4085491 ]\n",
      "  kwargs: {}\n"
     ]
    },
    {
     "name": "stderr",
     "output_type": "stream",
     "text": [
      "  File \"/home/jianyao/anaconda3/lib/python3.7/site-packages/dynesty/dynesty.py\", line 939, in __call__\n",
      "    return self.func(x, *self.args, **self.kwargs)\n"
     ]
    },
    {
     "name": "stdout",
     "output_type": "stream",
     "text": [
      "  params: [ 0.06767199 -3.384272    2.39631137  0.47937749]\n"
     ]
    },
    {
     "name": "stderr",
     "output_type": "stream",
     "text": [
      "  File \"<ipython-input-308-26dcbcb00df7>\", line 34, in log_likelihood\n",
      "    logL =LogL.run(cl_hat=(cl_hat_fore_ali) , cl_th = C_l, likelihood='HL',sbin=sbin, ebin = ebin);\n",
      "  File \"<ipython-input-308-26dcbcb00df7>\", line 34, in log_likelihood\n",
      "    logL =LogL.run(cl_hat=(cl_hat_fore_ali) , cl_th = C_l, likelihood='HL',sbin=sbin, ebin = ebin);\n"
     ]
    },
    {
     "name": "stdout",
     "output_type": "stream",
     "text": [
      "  exception:\n",
      "  exception:\n"
     ]
    },
    {
     "name": "stderr",
     "output_type": "stream",
     "text": [
      "ValueError: array must not contain infs or NaNs\n"
     ]
    },
    {
     "name": "stdout",
     "output_type": "stream",
     "text": [
      "Exception while calling loglikelihood function:\n"
     ]
    },
    {
     "name": "stderr",
     "output_type": "stream",
     "text": [
      "ValueError: array must not contain infs or NaNs\n"
     ]
    },
    {
     "name": "stdout",
     "output_type": "stream",
     "text": [
      "  params: [ 0.042769   -1.66288637  2.78211469  0.30105622]\n"
     ]
    },
    {
     "name": "stderr",
     "output_type": "stream",
     "text": [
      "Traceback (most recent call last):\n",
      "Traceback (most recent call last):\n",
      "Traceback (most recent call last):\n"
     ]
    },
    {
     "name": "stdout",
     "output_type": "stream",
     "text": [
      "  args: []\n",
      "  exception:\n",
      "  args: []\n"
     ]
    },
    {
     "name": "stderr",
     "output_type": "stream",
     "text": [
      "  File \"/home/jianyao/Likelihood/utils.py\", line 200, in calc_vecp_test\n",
      "    cl_inv_12= sqrtm(cl_inv)\n",
      "ValueError: array must not contain infs or NaNs\n",
      "  File \"/home/jianyao/Likelihood/utils.py\", line 200, in calc_vecp_test\n",
      "    cl_inv_12= sqrtm(cl_inv)\n"
     ]
    },
    {
     "name": "stdout",
     "output_type": "stream",
     "text": [
      "  args: []\n"
     ]
    },
    {
     "name": "stderr",
     "output_type": "stream",
     "text": [
      "  File \"/home/jianyao/Likelihood/utils.py\", line 232, in testL\n",
      "    Xa = (calc_vecp_test(cl_hat, cl_f,cl_th, Nf = Nf))\n",
      "Traceback (most recent call last):\n",
      "  File \"/home/jianyao/Likelihood/logLikeli.py\", line 53, in run\n",
      "    logL = testL(cl_hat = cl_hat, cl_f = self.cl_f[2], cl_th = cl_th, Nf = self.Nf, M_inv = self.Cov_inv, sbin = sbin, ebin = ebin)\n",
      "  File \"/home/jianyao/anaconda3/lib/python3.7/site-packages/scipy/_lib/_util.py\", line 239, in _asarray_validated\n",
      "    a = toarray(a)\n",
      "  File \"/home/jianyao/Likelihood/logLikeli.py\", line 53, in run\n",
      "    logL = testL(cl_hat = cl_hat, cl_f = self.cl_f[2], cl_th = cl_th, Nf = self.Nf, M_inv = self.Cov_inv, sbin = sbin, ebin = ebin)\n"
     ]
    },
    {
     "name": "stdout",
     "output_type": "stream",
     "text": [
      "  exception:\n",
      "  args: []\n"
     ]
    },
    {
     "name": "stderr",
     "output_type": "stream",
     "text": [
      "  File \"<ipython-input-308-26dcbcb00df7>\", line 34, in log_likelihood\n",
      "    logL =LogL.run(cl_hat=(cl_hat_fore_ali) , cl_th = C_l, likelihood='HL',sbin=sbin, ebin = ebin);\n",
      "  File \"/home/jianyao/anaconda3/lib/python3.7/site-packages/scipy/linalg/_matfuncs_sqrtm.py\", line 163, in sqrtm\n",
      "    A = _asarray_validated(A, check_finite=True, as_inexact=True)\n"
     ]
    },
    {
     "name": "stdout",
     "output_type": "stream",
     "text": [
      "  args: []\n"
     ]
    },
    {
     "name": "stderr",
     "output_type": "stream",
     "text": [
      "  File \"/home/jianyao/anaconda3/lib/python3.7/site-packages/scipy/linalg/_matfuncs_sqrtm.py\", line 163, in sqrtm\n",
      "    A = _asarray_validated(A, check_finite=True, as_inexact=True)\n",
      "  File \"/home/jianyao/Likelihood/logLikeli.py\", line 53, in run\n",
      "    logL = testL(cl_hat = cl_hat, cl_f = self.cl_f[2], cl_th = cl_th, Nf = self.Nf, M_inv = self.Cov_inv, sbin = sbin, ebin = ebin)\n",
      "  File \"/home/jianyao/Likelihood/logLikeli.py\", line 53, in run\n",
      "    logL = testL(cl_hat = cl_hat, cl_f = self.cl_f[2], cl_th = cl_th, Nf = self.Nf, M_inv = self.Cov_inv, sbin = sbin, ebin = ebin)\n",
      "Traceback (most recent call last):\n",
      "  File \"/home/jianyao/anaconda3/lib/python3.7/site-packages/dynesty/dynesty.py\", line 939, in __call__\n",
      "    return self.func(x, *self.args, **self.kwargs)\n"
     ]
    },
    {
     "name": "stdout",
     "output_type": "stream",
     "text": [
      "  args: []\n"
     ]
    },
    {
     "name": "stderr",
     "output_type": "stream",
     "text": [
      "Traceback (most recent call last):\n",
      "  File \"/home/jianyao/anaconda3/lib/python3.7/site-packages/dynesty/dynesty.py\", line 939, in __call__\n",
      "    return self.func(x, *self.args, **self.kwargs)\n",
      "  File \"/home/jianyao/anaconda3/lib/python3.7/site-packages/dynesty/dynesty.py\", line 939, in __call__\n",
      "    return self.func(x, *self.args, **self.kwargs)\n"
     ]
    },
    {
     "name": "stdout",
     "output_type": "stream",
     "text": [
      "  params: [ 0.15178776 -2.59570989  1.36411253  0.48456357]\n",
      "Exception while calling loglikelihood function:\n",
      "  kwargs: {}\n",
      "  kwargs: {}\n"
     ]
    },
    {
     "name": "stderr",
     "output_type": "stream",
     "text": [
      "  File \"/home/jianyao/anaconda3/lib/python3.7/site-packages/scipy/linalg/_matfuncs_sqrtm.py\", line 163, in sqrtm\n",
      "    A = _asarray_validated(A, check_finite=True, as_inexact=True)\n",
      "Traceback (most recent call last):\n",
      "  File \"/home/jianyao/anaconda3/lib/python3.7/site-packages/scipy/linalg/_matfuncs_sqrtm.py\", line 163, in sqrtm\n",
      "    A = _asarray_validated(A, check_finite=True, as_inexact=True)\n"
     ]
    },
    {
     "name": "stdout",
     "output_type": "stream",
     "text": [
      "  kwargs: {}\n"
     ]
    },
    {
     "name": "stderr",
     "output_type": "stream",
     "text": [
      "  File \"/home/jianyao/Likelihood/utils.py\", line 200, in calc_vecp_test\n",
      "    cl_inv_12= sqrtm(cl_inv)\n",
      "  File \"/home/jianyao/Likelihood/utils.py\", line 232, in testL\n",
      "    Xa = (calc_vecp_test(cl_hat, cl_f,cl_th, Nf = Nf))\n",
      "  File \"/home/jianyao/anaconda3/lib/python3.7/site-packages/dynesty/dynesty.py\", line 939, in __call__\n",
      "    return self.func(x, *self.args, **self.kwargs)\n",
      "  File \"/home/jianyao/Likelihood/utils.py\", line 232, in testL\n",
      "    Xa = (calc_vecp_test(cl_hat, cl_f,cl_th, Nf = Nf))\n",
      "  File \"/home/jianyao/anaconda3/lib/python3.7/site-packages/numpy/lib/function_base.py\", line 486, in asarray_chkfinite\n",
      "    \"array must not contain infs or NaNs\")\n"
     ]
    },
    {
     "name": "stdout",
     "output_type": "stream",
     "text": [
      "Exception while calling loglikelihood function:\n",
      "  kwargs: {}\n"
     ]
    },
    {
     "name": "stderr",
     "output_type": "stream",
     "text": [
      "  File \"/home/jianyao/Likelihood/logLikeli.py\", line 53, in run\n",
      "    logL = testL(cl_hat = cl_hat, cl_f = self.cl_f[2], cl_th = cl_th, Nf = self.Nf, M_inv = self.Cov_inv, sbin = sbin, ebin = ebin)\n",
      "Traceback (most recent call last):\n"
     ]
    },
    {
     "name": "stdout",
     "output_type": "stream",
     "text": [
      "  kwargs: {}\n"
     ]
    },
    {
     "name": "stderr",
     "output_type": "stream",
     "text": [
      "  File \"/home/jianyao/anaconda3/lib/python3.7/site-packages/scipy/_lib/_util.py\", line 239, in _asarray_validated\n",
      "    a = toarray(a)\n",
      "  File \"/home/jianyao/anaconda3/lib/python3.7/site-packages/scipy/_lib/_util.py\", line 239, in _asarray_validated\n",
      "    a = toarray(a)\n",
      "  File \"/home/jianyao/Likelihood/utils.py\", line 232, in testL\n",
      "    Xa = (calc_vecp_test(cl_hat, cl_f,cl_th, Nf = Nf))\n",
      "  File \"/home/jianyao/Likelihood/utils.py\", line 232, in testL\n",
      "    Xa = (calc_vecp_test(cl_hat, cl_f,cl_th, Nf = Nf))\n",
      "  File \"/home/jianyao/anaconda3/lib/python3.7/site-packages/dynesty/dynesty.py\", line 939, in __call__\n",
      "    return self.func(x, *self.args, **self.kwargs)\n",
      "  File \"/home/jianyao/anaconda3/lib/python3.7/site-packages/dynesty/dynesty.py\", line 939, in __call__\n",
      "    return self.func(x, *self.args, **self.kwargs)\n",
      "  File \"<ipython-input-308-26dcbcb00df7>\", line 34, in log_likelihood\n",
      "    logL =LogL.run(cl_hat=(cl_hat_fore_ali) , cl_th = C_l, likelihood='HL',sbin=sbin, ebin = ebin);\n",
      "  File \"<ipython-input-308-26dcbcb00df7>\", line 34, in log_likelihood\n",
      "    logL =LogL.run(cl_hat=(cl_hat_fore_ali) , cl_th = C_l, likelihood='HL',sbin=sbin, ebin = ebin);\n"
     ]
    },
    {
     "name": "stdout",
     "output_type": "stream",
     "text": [
      "  kwargs: {}\n",
      "  args: []\n"
     ]
    },
    {
     "name": "stderr",
     "output_type": "stream",
     "text": [
      "  File \"<ipython-input-308-26dcbcb00df7>\", line 34, in log_likelihood\n",
      "    logL =LogL.run(cl_hat=(cl_hat_fore_ali) , cl_th = C_l, likelihood='HL',sbin=sbin, ebin = ebin);\n"
     ]
    },
    {
     "name": "stdout",
     "output_type": "stream",
     "text": [
      "Exception while calling loglikelihood function:\n",
      "Exception while calling loglikelihood function:\n"
     ]
    },
    {
     "name": "stderr",
     "output_type": "stream",
     "text": [
      "  File \"/home/jianyao/anaconda3/lib/python3.7/site-packages/scipy/_lib/_util.py\", line 239, in _asarray_validated\n",
      "    a = toarray(a)\n"
     ]
    },
    {
     "name": "stdout",
     "output_type": "stream",
     "text": [
      "  exception:\n",
      "Exception while calling loglikelihood function:\n"
     ]
    },
    {
     "name": "stderr",
     "output_type": "stream",
     "text": [
      "  File \"/home/jianyao/anaconda3/lib/python3.7/site-packages/scipy/_lib/_util.py\", line 239, in _asarray_validated\n",
      "    a = toarray(a)\n"
     ]
    },
    {
     "name": "stdout",
     "output_type": "stream",
     "text": [
      "  exception:\n",
      "  exception:\n",
      "  params: [ 0.08177968 -3.70235375  1.6471399   0.8543717 ]\n"
     ]
    },
    {
     "name": "stderr",
     "output_type": "stream",
     "text": [
      "  File \"/home/jianyao/anaconda3/lib/python3.7/site-packages/dynesty/dynesty.py\", line 939, in __call__\n",
      "    return self.func(x, *self.args, **self.kwargs)\n",
      "  File \"/home/jianyao/Likelihood/utils.py\", line 200, in calc_vecp_test\n",
      "    cl_inv_12= sqrtm(cl_inv)\n",
      "  File \"/home/jianyao/anaconda3/lib/python3.7/site-packages/scipy/linalg/_matfuncs_sqrtm.py\", line 163, in sqrtm\n",
      "    A = _asarray_validated(A, check_finite=True, as_inexact=True)\n",
      "  File \"<ipython-input-308-26dcbcb00df7>\", line 34, in log_likelihood\n",
      "    logL =LogL.run(cl_hat=(cl_hat_fore_ali) , cl_th = C_l, likelihood='HL',sbin=sbin, ebin = ebin);\n",
      "ValueError: array must not contain infs or NaNs\n",
      "  File \"/home/jianyao/Likelihood/utils.py\", line 200, in calc_vecp_test\n",
      "    cl_inv_12= sqrtm(cl_inv)\n"
     ]
    },
    {
     "name": "stdout",
     "output_type": "stream",
     "text": [
      "  exception:\n"
     ]
    },
    {
     "name": "stderr",
     "output_type": "stream",
     "text": [
      "  File \"/home/jianyao/Likelihood/utils.py\", line 232, in testL\n",
      "    Xa = (calc_vecp_test(cl_hat, cl_f,cl_th, Nf = Nf))\n"
     ]
    },
    {
     "name": "stdout",
     "output_type": "stream",
     "text": [
      "  params: [ 0.16125707 -3.40119259  1.9970687   0.2469812 ]\n"
     ]
    },
    {
     "name": "stderr",
     "output_type": "stream",
     "text": [
      "  File \"/home/jianyao/anaconda3/lib/python3.7/site-packages/numpy/lib/function_base.py\", line 486, in asarray_chkfinite\n",
      "    \"array must not contain infs or NaNs\")\n",
      "  File \"/home/jianyao/anaconda3/lib/python3.7/site-packages/numpy/lib/function_base.py\", line 486, in asarray_chkfinite\n",
      "    \"array must not contain infs or NaNs\")\n",
      "  File \"/home/jianyao/anaconda3/lib/python3.7/site-packages/dynesty/dynesty.py\", line 939, in __call__\n",
      "    return self.func(x, *self.args, **self.kwargs)\n",
      "  File \"/home/jianyao/Likelihood/utils.py\", line 200, in calc_vecp_test\n",
      "    cl_inv_12= sqrtm(cl_inv)\n"
     ]
    },
    {
     "name": "stdout",
     "output_type": "stream",
     "text": [
      "  exception:\n"
     ]
    },
    {
     "name": "stderr",
     "output_type": "stream",
     "text": [
      "  File \"<ipython-input-308-26dcbcb00df7>\", line 34, in log_likelihood\n",
      "    logL =LogL.run(cl_hat=(cl_hat_fore_ali) , cl_th = C_l, likelihood='HL',sbin=sbin, ebin = ebin);\n",
      "  File \"/home/jianyao/Likelihood/utils.py\", line 200, in calc_vecp_test\n",
      "    cl_inv_12= sqrtm(cl_inv)\n"
     ]
    },
    {
     "name": "stdout",
     "output_type": "stream",
     "text": [
      "  exception:\n"
     ]
    },
    {
     "name": "stderr",
     "output_type": "stream",
     "text": [
      "  File \"/home/jianyao/Likelihood/logLikeli.py\", line 53, in run\n",
      "    logL = testL(cl_hat = cl_hat, cl_f = self.cl_f[2], cl_th = cl_th, Nf = self.Nf, M_inv = self.Cov_inv, sbin = sbin, ebin = ebin)\n",
      "  File \"/home/jianyao/Likelihood/logLikeli.py\", line 53, in run\n",
      "    logL = testL(cl_hat = cl_hat, cl_f = self.cl_f[2], cl_th = cl_th, Nf = self.Nf, M_inv = self.Cov_inv, sbin = sbin, ebin = ebin)\n"
     ]
    },
    {
     "name": "stdout",
     "output_type": "stream",
     "text": [
      "  kwargs: {}\n"
     ]
    },
    {
     "name": "stderr",
     "output_type": "stream",
     "text": [
      "  File \"<ipython-input-308-26dcbcb00df7>\", line 34, in log_likelihood\n",
      "    logL =LogL.run(cl_hat=(cl_hat_fore_ali) , cl_th = C_l, likelihood='HL',sbin=sbin, ebin = ebin);\n",
      "  File \"/home/jianyao/Likelihood/logLikeli.py\", line 53, in run\n",
      "    logL = testL(cl_hat = cl_hat, cl_f = self.cl_f[2], cl_th = cl_th, Nf = self.Nf, M_inv = self.Cov_inv, sbin = sbin, ebin = ebin)\n",
      "  File \"<ipython-input-308-26dcbcb00df7>\", line 34, in log_likelihood\n",
      "    logL =LogL.run(cl_hat=(cl_hat_fore_ali) , cl_th = C_l, likelihood='HL',sbin=sbin, ebin = ebin);\n",
      "Traceback (most recent call last):\n",
      "  File \"/home/jianyao/anaconda3/lib/python3.7/site-packages/numpy/lib/function_base.py\", line 486, in asarray_chkfinite\n",
      "    \"array must not contain infs or NaNs\")\n"
     ]
    },
    {
     "name": "stdout",
     "output_type": "stream",
     "text": [
      "  params: [ 0.13381339 -1.17571717  2.28097492  0.63548575]\n"
     ]
    },
    {
     "name": "stderr",
     "output_type": "stream",
     "text": [
      "  File \"/home/jianyao/anaconda3/lib/python3.7/site-packages/numpy/lib/function_base.py\", line 486, in asarray_chkfinite\n",
      "    \"array must not contain infs or NaNs\")\n"
     ]
    },
    {
     "name": "stdout",
     "output_type": "stream",
     "text": [
      "  params: [ 0.06074505 -2.07511694  1.08817687  0.24988039]\n"
     ]
    },
    {
     "name": "stderr",
     "output_type": "stream",
     "text": [
      "Traceback (most recent call last):\n"
     ]
    },
    {
     "name": "stdout",
     "output_type": "stream",
     "text": [
      "  params: [ 0.06155665 -0.11318227  1.86745843  0.18645791]\n",
      "  args: []\n"
     ]
    },
    {
     "name": "stderr",
     "output_type": "stream",
     "text": [
      "  File \"/home/jianyao/anaconda3/lib/python3.7/site-packages/scipy/linalg/_matfuncs_sqrtm.py\", line 163, in sqrtm\n",
      "    A = _asarray_validated(A, check_finite=True, as_inexact=True)\n",
      "Traceback (most recent call last):\n",
      "  File \"/home/jianyao/anaconda3/lib/python3.7/site-packages/scipy/_lib/_util.py\", line 239, in _asarray_validated\n",
      "    a = toarray(a)\n",
      "  File \"/home/jianyao/Likelihood/logLikeli.py\", line 53, in run\n",
      "    logL = testL(cl_hat = cl_hat, cl_f = self.cl_f[2], cl_th = cl_th, Nf = self.Nf, M_inv = self.Cov_inv, sbin = sbin, ebin = ebin)\n",
      "  File \"/home/jianyao/anaconda3/lib/python3.7/site-packages/scipy/linalg/_matfuncs_sqrtm.py\", line 163, in sqrtm\n",
      "    A = _asarray_validated(A, check_finite=True, as_inexact=True)\n",
      "  File \"/home/jianyao/Likelihood/utils.py\", line 200, in calc_vecp_test\n",
      "    cl_inv_12= sqrtm(cl_inv)\n",
      "Traceback (most recent call last):\n",
      "ValueError: array must not contain infs or NaNs\n",
      "  File \"<ipython-input-308-26dcbcb00df7>\", line 34, in log_likelihood\n",
      "    logL =LogL.run(cl_hat=(cl_hat_fore_ali) , cl_th = C_l, likelihood='HL',sbin=sbin, ebin = ebin);\n",
      "ValueError: array must not contain infs or NaNs\n",
      "  File \"/home/jianyao/anaconda3/lib/python3.7/site-packages/scipy/linalg/_matfuncs_sqrtm.py\", line 163, in sqrtm\n",
      "    A = _asarray_validated(A, check_finite=True, as_inexact=True)\n",
      "  File \"/home/jianyao/Likelihood/logLikeli.py\", line 53, in run\n",
      "    logL = testL(cl_hat = cl_hat, cl_f = self.cl_f[2], cl_th = cl_th, Nf = self.Nf, M_inv = self.Cov_inv, sbin = sbin, ebin = ebin)\n"
     ]
    },
    {
     "name": "stdout",
     "output_type": "stream",
     "text": [
      "  args: []\n"
     ]
    },
    {
     "name": "stderr",
     "output_type": "stream",
     "text": [
      "  File \"/home/jianyao/anaconda3/lib/python3.7/site-packages/scipy/linalg/_matfuncs_sqrtm.py\", line 163, in sqrtm\n",
      "    A = _asarray_validated(A, check_finite=True, as_inexact=True)\n",
      "  File \"/home/jianyao/Likelihood/utils.py\", line 232, in testL\n",
      "    Xa = (calc_vecp_test(cl_hat, cl_f,cl_th, Nf = Nf))\n",
      "Traceback (most recent call last):\n"
     ]
    },
    {
     "name": "stdout",
     "output_type": "stream",
     "text": [
      "  exception:\n"
     ]
    },
    {
     "name": "stderr",
     "output_type": "stream",
     "text": [
      "  File \"/home/jianyao/Likelihood/utils.py\", line 232, in testL\n",
      "    Xa = (calc_vecp_test(cl_hat, cl_f,cl_th, Nf = Nf))\n",
      "  File \"/home/jianyao/Likelihood/logLikeli.py\", line 53, in run\n",
      "    logL = testL(cl_hat = cl_hat, cl_f = self.cl_f[2], cl_th = cl_th, Nf = self.Nf, M_inv = self.Cov_inv, sbin = sbin, ebin = ebin)\n",
      "  File \"/home/jianyao/Likelihood/utils.py\", line 232, in testL\n",
      "    Xa = (calc_vecp_test(cl_hat, cl_f,cl_th, Nf = Nf))\n",
      "ValueError: array must not contain infs or NaNs\n",
      "Traceback (most recent call last):\n",
      "  File \"/home/jianyao/Likelihood/logLikeli.py\", line 53, in run\n",
      "    logL = testL(cl_hat = cl_hat, cl_f = self.cl_f[2], cl_th = cl_th, Nf = self.Nf, M_inv = self.Cov_inv, sbin = sbin, ebin = ebin)\n",
      "  File \"/home/jianyao/anaconda3/lib/python3.7/site-packages/dynesty/dynesty.py\", line 939, in __call__\n",
      "    return self.func(x, *self.args, **self.kwargs)\n"
     ]
    },
    {
     "name": "stdout",
     "output_type": "stream",
     "text": [
      "  args: []\n"
     ]
    },
    {
     "name": "stderr",
     "output_type": "stream",
     "text": [
      "ValueError: array must not contain infs or NaNs\n"
     ]
    },
    {
     "name": "stdout",
     "output_type": "stream",
     "text": [
      "  kwargs: {}\n"
     ]
    },
    {
     "name": "stderr",
     "output_type": "stream",
     "text": [
      "  File \"/home/jianyao/anaconda3/lib/python3.7/site-packages/dynesty/dynesty.py\", line 939, in __call__\n",
      "    return self.func(x, *self.args, **self.kwargs)\n",
      "  File \"/home/jianyao/anaconda3/lib/python3.7/site-packages/scipy/_lib/_util.py\", line 239, in _asarray_validated\n",
      "    a = toarray(a)\n"
     ]
    },
    {
     "name": "stdout",
     "output_type": "stream",
     "text": [
      "  args: []\n",
      "  args: []\n"
     ]
    },
    {
     "name": "stderr",
     "output_type": "stream",
     "text": [
      "  File \"/home/jianyao/anaconda3/lib/python3.7/site-packages/dynesty/dynesty.py\", line 939, in __call__\n",
      "    return self.func(x, *self.args, **self.kwargs)\n",
      "  File \"/home/jianyao/Likelihood/utils.py\", line 232, in testL\n",
      "    Xa = (calc_vecp_test(cl_hat, cl_f,cl_th, Nf = Nf))\n",
      "  File \"/home/jianyao/anaconda3/lib/python3.7/site-packages/scipy/_lib/_util.py\", line 239, in _asarray_validated\n",
      "    a = toarray(a)\n",
      "  File \"/home/jianyao/anaconda3/lib/python3.7/site-packages/scipy/linalg/_matfuncs_sqrtm.py\", line 163, in sqrtm\n",
      "    A = _asarray_validated(A, check_finite=True, as_inexact=True)\n"
     ]
    },
    {
     "name": "stdout",
     "output_type": "stream",
     "text": [
      "Exception while calling loglikelihood function:\n"
     ]
    },
    {
     "name": "stderr",
     "output_type": "stream",
     "text": [
      "  File \"/home/jianyao/anaconda3/lib/python3.7/site-packages/numpy/lib/function_base.py\", line 486, in asarray_chkfinite\n",
      "    \"array must not contain infs or NaNs\")\n",
      "  File \"/home/jianyao/anaconda3/lib/python3.7/site-packages/dynesty/dynesty.py\", line 939, in __call__\n",
      "    return self.func(x, *self.args, **self.kwargs)\n",
      "  File \"/home/jianyao/Likelihood/logLikeli.py\", line 53, in run\n",
      "    logL = testL(cl_hat = cl_hat, cl_f = self.cl_f[2], cl_th = cl_th, Nf = self.Nf, M_inv = self.Cov_inv, sbin = sbin, ebin = ebin)\n",
      "  File \"/home/jianyao/Likelihood/utils.py\", line 232, in testL\n",
      "    Xa = (calc_vecp_test(cl_hat, cl_f,cl_th, Nf = Nf))\n",
      "  File \"/home/jianyao/anaconda3/lib/python3.7/site-packages/scipy/_lib/_util.py\", line 239, in _asarray_validated\n",
      "    a = toarray(a)\n"
     ]
    },
    {
     "name": "stdout",
     "output_type": "stream",
     "text": [
      "  kwargs: {}\n"
     ]
    },
    {
     "name": "stderr",
     "output_type": "stream",
     "text": [
      "  File \"/home/jianyao/Likelihood/utils.py\", line 200, in calc_vecp_test\n",
      "    cl_inv_12= sqrtm(cl_inv)\n",
      "  File \"/home/jianyao/anaconda3/lib/python3.7/site-packages/scipy/_lib/_util.py\", line 239, in _asarray_validated\n",
      "    a = toarray(a)\n",
      "  File \"/home/jianyao/Likelihood/utils.py\", line 200, in calc_vecp_test\n",
      "    cl_inv_12= sqrtm(cl_inv)\n",
      "  File \"/home/jianyao/anaconda3/lib/python3.7/site-packages/dynesty/dynesty.py\", line 939, in __call__\n",
      "    return self.func(x, *self.args, **self.kwargs)\n",
      "  File \"/home/jianyao/Likelihood/utils.py\", line 232, in testL\n",
      "    Xa = (calc_vecp_test(cl_hat, cl_f,cl_th, Nf = Nf))\n",
      "  File \"/home/jianyao/Likelihood/utils.py\", line 200, in calc_vecp_test\n",
      "    cl_inv_12= sqrtm(cl_inv)\n",
      "Traceback (most recent call last):\n",
      "  File \"/home/jianyao/Likelihood/utils.py\", line 232, in testL\n",
      "    Xa = (calc_vecp_test(cl_hat, cl_f,cl_th, Nf = Nf))\n",
      "  File \"<ipython-input-308-26dcbcb00df7>\", line 34, in log_likelihood\n",
      "    logL =LogL.run(cl_hat=(cl_hat_fore_ali) , cl_th = C_l, likelihood='HL',sbin=sbin, ebin = ebin);\n",
      "  File \"/home/jianyao/anaconda3/lib/python3.7/site-packages/dynesty/dynesty.py\", line 939, in __call__\n",
      "    return self.func(x, *self.args, **self.kwargs)\n"
     ]
    },
    {
     "name": "stdout",
     "output_type": "stream",
     "text": [
      "  kwargs: {}\n",
      "  exception:\n"
     ]
    },
    {
     "name": "stderr",
     "output_type": "stream",
     "text": [
      "  File \"<ipython-input-308-26dcbcb00df7>\", line 34, in log_likelihood\n",
      "    logL =LogL.run(cl_hat=(cl_hat_fore_ali) , cl_th = C_l, likelihood='HL',sbin=sbin, ebin = ebin);\n",
      "  File \"/home/jianyao/anaconda3/lib/python3.7/site-packages/numpy/lib/function_base.py\", line 486, in asarray_chkfinite\n",
      "    \"array must not contain infs or NaNs\")\n"
     ]
    },
    {
     "name": "stdout",
     "output_type": "stream",
     "text": [
      "  kwargs: {}\n",
      "  kwargs: {}\n"
     ]
    },
    {
     "name": "stderr",
     "output_type": "stream",
     "text": [
      "  File \"/home/jianyao/Likelihood/utils.py\", line 232, in testL\n",
      "    Xa = (calc_vecp_test(cl_hat, cl_f,cl_th, Nf = Nf))\n",
      "  File \"<ipython-input-308-26dcbcb00df7>\", line 34, in log_likelihood\n",
      "    logL =LogL.run(cl_hat=(cl_hat_fore_ali) , cl_th = C_l, likelihood='HL',sbin=sbin, ebin = ebin);\n",
      "  File \"/home/jianyao/anaconda3/lib/python3.7/site-packages/dynesty/dynesty.py\", line 939, in __call__\n",
      "    return self.func(x, *self.args, **self.kwargs)\n",
      "  File \"/home/jianyao/anaconda3/lib/python3.7/site-packages/dynesty/dynesty.py\", line 939, in __call__\n",
      "    return self.func(x, *self.args, **self.kwargs)\n",
      "  File \"/home/jianyao/Likelihood/utils.py\", line 200, in calc_vecp_test\n",
      "    cl_inv_12= sqrtm(cl_inv)\n"
     ]
    },
    {
     "name": "stdout",
     "output_type": "stream",
     "text": [
      "  args: []\n"
     ]
    },
    {
     "name": "stderr",
     "output_type": "stream",
     "text": [
      "  File \"/home/jianyao/Likelihood/utils.py\", line 232, in testL\n",
      "    Xa = (calc_vecp_test(cl_hat, cl_f,cl_th, Nf = Nf))\n",
      "Traceback (most recent call last):\n",
      "ValueError: array must not contain infs or NaNs\n"
     ]
    },
    {
     "name": "stdout",
     "output_type": "stream",
     "text": [
      "Exception while calling loglikelihood function:\n"
     ]
    },
    {
     "name": "stderr",
     "output_type": "stream",
     "text": [
      "  File \"/home/jianyao/anaconda3/lib/python3.7/site-packages/dynesty/dynesty.py\", line 939, in __call__\n",
      "    return self.func(x, *self.args, **self.kwargs)\n",
      "  File \"/home/jianyao/anaconda3/lib/python3.7/site-packages/dynesty/dynesty.py\", line 939, in __call__\n",
      "    return self.func(x, *self.args, **self.kwargs)\n"
     ]
    },
    {
     "name": "stdout",
     "output_type": "stream",
     "text": [
      "  kwargs: {}\n",
      "  kwargs: {}\n"
     ]
    },
    {
     "name": "stderr",
     "output_type": "stream",
     "text": [
      "  File \"/home/jianyao/anaconda3/lib/python3.7/site-packages/numpy/lib/function_base.py\", line 486, in asarray_chkfinite\n",
      "    \"array must not contain infs or NaNs\")\n"
     ]
    },
    {
     "name": "stdout",
     "output_type": "stream",
     "text": [
      "  exception:\n",
      "  exception:\n"
     ]
    },
    {
     "name": "stderr",
     "output_type": "stream",
     "text": [
      "  File \"/home/jianyao/anaconda3/lib/python3.7/site-packages/numpy/lib/function_base.py\", line 486, in asarray_chkfinite\n",
      "    \"array must not contain infs or NaNs\")\n"
     ]
    },
    {
     "name": "stdout",
     "output_type": "stream",
     "text": [
      "  exception:\n"
     ]
    },
    {
     "name": "stderr",
     "output_type": "stream",
     "text": [
      "ValueError: array must not contain infs or NaNs\n"
     ]
    },
    {
     "name": "stdout",
     "output_type": "stream",
     "text": [
      "  params: [ 1.42578287e-03 -2.27463331e+00  2.54814874e+00  4.63817292e-01]\n",
      "  exception:\n"
     ]
    },
    {
     "name": "stderr",
     "output_type": "stream",
     "text": [
      "  File \"/home/jianyao/Likelihood/utils.py\", line 232, in testL\n",
      "    Xa = (calc_vecp_test(cl_hat, cl_f,cl_th, Nf = Nf))\n"
     ]
    },
    {
     "name": "stdout",
     "output_type": "stream",
     "text": [
      "  params: [ 0.14713971 -1.25753588  2.47796427  0.33781581]\n",
      "  kwargs: {}\n"
     ]
    },
    {
     "name": "stderr",
     "output_type": "stream",
     "text": [
      "  File \"/home/jianyao/Likelihood/utils.py\", line 232, in testL\n",
      "    Xa = (calc_vecp_test(cl_hat, cl_f,cl_th, Nf = Nf))\n"
     ]
    },
    {
     "name": "stdout",
     "output_type": "stream",
     "text": [
      "  params: [ 0.19443317 -1.54511041  1.37379235  0.15697528]\n"
     ]
    },
    {
     "name": "stderr",
     "output_type": "stream",
     "text": [
      "  File \"<ipython-input-308-26dcbcb00df7>\", line 34, in log_likelihood\n",
      "    logL =LogL.run(cl_hat=(cl_hat_fore_ali) , cl_th = C_l, likelihood='HL',sbin=sbin, ebin = ebin);\n",
      "  File \"/home/jianyao/Likelihood/logLikeli.py\", line 53, in run\n",
      "    logL = testL(cl_hat = cl_hat, cl_f = self.cl_f[2], cl_th = cl_th, Nf = self.Nf, M_inv = self.Cov_inv, sbin = sbin, ebin = ebin)\n",
      "  File \"/home/jianyao/anaconda3/lib/python3.7/site-packages/numpy/lib/function_base.py\", line 486, in asarray_chkfinite\n",
      "    \"array must not contain infs or NaNs\")\n",
      "  File \"/home/jianyao/anaconda3/lib/python3.7/site-packages/scipy/linalg/_matfuncs_sqrtm.py\", line 163, in sqrtm\n",
      "    A = _asarray_validated(A, check_finite=True, as_inexact=True)\n",
      "  File \"/home/jianyao/Likelihood/utils.py\", line 200, in calc_vecp_test\n",
      "    cl_inv_12= sqrtm(cl_inv)\n",
      "  File \"<ipython-input-308-26dcbcb00df7>\", line 34, in log_likelihood\n",
      "    logL =LogL.run(cl_hat=(cl_hat_fore_ali) , cl_th = C_l, likelihood='HL',sbin=sbin, ebin = ebin);\n",
      "  File \"/home/jianyao/Likelihood/utils.py\", line 200, in calc_vecp_test\n",
      "    cl_inv_12= sqrtm(cl_inv)\n"
     ]
    },
    {
     "name": "stdout",
     "output_type": "stream",
     "text": [
      "  params: [ 0.14746542 -3.865124    1.4229984   0.4085491 ]\n",
      "  kwargs: {}\n"
     ]
    },
    {
     "name": "stderr",
     "output_type": "stream",
     "text": [
      "  File \"/home/jianyao/anaconda3/lib/python3.7/site-packages/dynesty/dynesty.py\", line 939, in __call__\n",
      "    return self.func(x, *self.args, **self.kwargs)\n"
     ]
    },
    {
     "name": "stdout",
     "output_type": "stream",
     "text": [
      "  params: [ 0.06767199 -3.384272    2.39631137  0.47937749]\n"
     ]
    },
    {
     "name": "stderr",
     "output_type": "stream",
     "text": [
      "  File \"<ipython-input-308-26dcbcb00df7>\", line 34, in log_likelihood\n",
      "    logL =LogL.run(cl_hat=(cl_hat_fore_ali) , cl_th = C_l, likelihood='HL',sbin=sbin, ebin = ebin);\n",
      "  File \"<ipython-input-308-26dcbcb00df7>\", line 34, in log_likelihood\n",
      "    logL =LogL.run(cl_hat=(cl_hat_fore_ali) , cl_th = C_l, likelihood='HL',sbin=sbin, ebin = ebin);\n"
     ]
    },
    {
     "name": "stdout",
     "output_type": "stream",
     "text": [
      "  exception:\n",
      "  exception:\n"
     ]
    },
    {
     "name": "stderr",
     "output_type": "stream",
     "text": [
      "ValueError: array must not contain infs or NaNs\n"
     ]
    },
    {
     "name": "stdout",
     "output_type": "stream",
     "text": [
      "Exception while calling loglikelihood function:\n"
     ]
    },
    {
     "name": "stderr",
     "output_type": "stream",
     "text": [
      "ValueError: array must not contain infs or NaNs\n"
     ]
    },
    {
     "name": "stdout",
     "output_type": "stream",
     "text": [
      "  params: [ 0.042769   -1.66288637  2.78211469  0.30105622]\n"
     ]
    },
    {
     "name": "stderr",
     "output_type": "stream",
     "text": [
      "Traceback (most recent call last):\n",
      "Traceback (most recent call last):\n",
      "Traceback (most recent call last):\n"
     ]
    },
    {
     "name": "stdout",
     "output_type": "stream",
     "text": [
      "  args: []\n",
      "  exception:\n",
      "  args: []\n"
     ]
    },
    {
     "name": "stderr",
     "output_type": "stream",
     "text": [
      "  File \"/home/jianyao/Likelihood/utils.py\", line 200, in calc_vecp_test\n",
      "    cl_inv_12= sqrtm(cl_inv)\n",
      "ValueError: array must not contain infs or NaNs\n",
      "  File \"/home/jianyao/Likelihood/utils.py\", line 200, in calc_vecp_test\n",
      "    cl_inv_12= sqrtm(cl_inv)\n"
     ]
    },
    {
     "name": "stdout",
     "output_type": "stream",
     "text": [
      "  args: []\n"
     ]
    },
    {
     "name": "stderr",
     "output_type": "stream",
     "text": [
      "  File \"/home/jianyao/Likelihood/utils.py\", line 232, in testL\n",
      "    Xa = (calc_vecp_test(cl_hat, cl_f,cl_th, Nf = Nf))\n",
      "Traceback (most recent call last):\n",
      "  File \"/home/jianyao/Likelihood/logLikeli.py\", line 53, in run\n",
      "    logL = testL(cl_hat = cl_hat, cl_f = self.cl_f[2], cl_th = cl_th, Nf = self.Nf, M_inv = self.Cov_inv, sbin = sbin, ebin = ebin)\n",
      "  File \"/home/jianyao/anaconda3/lib/python3.7/site-packages/scipy/_lib/_util.py\", line 239, in _asarray_validated\n",
      "    a = toarray(a)\n",
      "  File \"/home/jianyao/Likelihood/logLikeli.py\", line 53, in run\n",
      "    logL = testL(cl_hat = cl_hat, cl_f = self.cl_f[2], cl_th = cl_th, Nf = self.Nf, M_inv = self.Cov_inv, sbin = sbin, ebin = ebin)\n"
     ]
    },
    {
     "name": "stdout",
     "output_type": "stream",
     "text": [
      "  exception:\n",
      "  args: []\n"
     ]
    },
    {
     "name": "stderr",
     "output_type": "stream",
     "text": [
      "  File \"<ipython-input-308-26dcbcb00df7>\", line 34, in log_likelihood\n",
      "    logL =LogL.run(cl_hat=(cl_hat_fore_ali) , cl_th = C_l, likelihood='HL',sbin=sbin, ebin = ebin);\n",
      "  File \"/home/jianyao/anaconda3/lib/python3.7/site-packages/scipy/linalg/_matfuncs_sqrtm.py\", line 163, in sqrtm\n",
      "    A = _asarray_validated(A, check_finite=True, as_inexact=True)\n"
     ]
    },
    {
     "name": "stdout",
     "output_type": "stream",
     "text": [
      "  args: []\n"
     ]
    },
    {
     "name": "stderr",
     "output_type": "stream",
     "text": [
      "  File \"/home/jianyao/anaconda3/lib/python3.7/site-packages/scipy/linalg/_matfuncs_sqrtm.py\", line 163, in sqrtm\n",
      "    A = _asarray_validated(A, check_finite=True, as_inexact=True)\n",
      "  File \"/home/jianyao/Likelihood/logLikeli.py\", line 53, in run\n",
      "    logL = testL(cl_hat = cl_hat, cl_f = self.cl_f[2], cl_th = cl_th, Nf = self.Nf, M_inv = self.Cov_inv, sbin = sbin, ebin = ebin)\n",
      "  File \"/home/jianyao/Likelihood/logLikeli.py\", line 53, in run\n",
      "    logL = testL(cl_hat = cl_hat, cl_f = self.cl_f[2], cl_th = cl_th, Nf = self.Nf, M_inv = self.Cov_inv, sbin = sbin, ebin = ebin)\n",
      "Traceback (most recent call last):\n",
      "  File \"/home/jianyao/anaconda3/lib/python3.7/site-packages/dynesty/dynesty.py\", line 939, in __call__\n",
      "    return self.func(x, *self.args, **self.kwargs)\n"
     ]
    },
    {
     "name": "stdout",
     "output_type": "stream",
     "text": [
      "  args: []\n"
     ]
    },
    {
     "name": "stderr",
     "output_type": "stream",
     "text": [
      "Traceback (most recent call last):\n",
      "  File \"/home/jianyao/anaconda3/lib/python3.7/site-packages/dynesty/dynesty.py\", line 939, in __call__\n",
      "    return self.func(x, *self.args, **self.kwargs)\n",
      "  File \"/home/jianyao/anaconda3/lib/python3.7/site-packages/dynesty/dynesty.py\", line 939, in __call__\n",
      "    return self.func(x, *self.args, **self.kwargs)\n"
     ]
    },
    {
     "name": "stdout",
     "output_type": "stream",
     "text": [
      "  params: [ 0.15178776 -2.59570989  1.36411253  0.48456357]\n",
      "Exception while calling loglikelihood function:\n",
      "  kwargs: {}\n",
      "  kwargs: {}\n"
     ]
    },
    {
     "name": "stderr",
     "output_type": "stream",
     "text": [
      "  File \"/home/jianyao/anaconda3/lib/python3.7/site-packages/scipy/linalg/_matfuncs_sqrtm.py\", line 163, in sqrtm\n",
      "    A = _asarray_validated(A, check_finite=True, as_inexact=True)\n",
      "Traceback (most recent call last):\n",
      "  File \"/home/jianyao/anaconda3/lib/python3.7/site-packages/scipy/linalg/_matfuncs_sqrtm.py\", line 163, in sqrtm\n",
      "    A = _asarray_validated(A, check_finite=True, as_inexact=True)\n"
     ]
    },
    {
     "name": "stdout",
     "output_type": "stream",
     "text": [
      "  kwargs: {}\n"
     ]
    },
    {
     "name": "stderr",
     "output_type": "stream",
     "text": [
      "  File \"/home/jianyao/Likelihood/utils.py\", line 200, in calc_vecp_test\n",
      "    cl_inv_12= sqrtm(cl_inv)\n",
      "  File \"/home/jianyao/Likelihood/utils.py\", line 232, in testL\n",
      "    Xa = (calc_vecp_test(cl_hat, cl_f,cl_th, Nf = Nf))\n",
      "  File \"/home/jianyao/anaconda3/lib/python3.7/site-packages/dynesty/dynesty.py\", line 939, in __call__\n",
      "    return self.func(x, *self.args, **self.kwargs)\n",
      "  File \"/home/jianyao/Likelihood/utils.py\", line 232, in testL\n",
      "    Xa = (calc_vecp_test(cl_hat, cl_f,cl_th, Nf = Nf))\n",
      "  File \"/home/jianyao/anaconda3/lib/python3.7/site-packages/numpy/lib/function_base.py\", line 486, in asarray_chkfinite\n",
      "    \"array must not contain infs or NaNs\")\n"
     ]
    },
    {
     "name": "stdout",
     "output_type": "stream",
     "text": [
      "Exception while calling loglikelihood function:\n",
      "  kwargs: {}\n"
     ]
    },
    {
     "name": "stderr",
     "output_type": "stream",
     "text": [
      "  File \"/home/jianyao/Likelihood/logLikeli.py\", line 53, in run\n",
      "    logL = testL(cl_hat = cl_hat, cl_f = self.cl_f[2], cl_th = cl_th, Nf = self.Nf, M_inv = self.Cov_inv, sbin = sbin, ebin = ebin)\n",
      "Traceback (most recent call last):\n"
     ]
    },
    {
     "name": "stdout",
     "output_type": "stream",
     "text": [
      "  kwargs: {}\n"
     ]
    },
    {
     "name": "stderr",
     "output_type": "stream",
     "text": [
      "  File \"/home/jianyao/anaconda3/lib/python3.7/site-packages/scipy/_lib/_util.py\", line 239, in _asarray_validated\n",
      "    a = toarray(a)\n",
      "  File \"/home/jianyao/anaconda3/lib/python3.7/site-packages/scipy/_lib/_util.py\", line 239, in _asarray_validated\n",
      "    a = toarray(a)\n",
      "  File \"/home/jianyao/Likelihood/utils.py\", line 232, in testL\n",
      "    Xa = (calc_vecp_test(cl_hat, cl_f,cl_th, Nf = Nf))\n",
      "  File \"/home/jianyao/Likelihood/utils.py\", line 232, in testL\n",
      "    Xa = (calc_vecp_test(cl_hat, cl_f,cl_th, Nf = Nf))\n",
      "  File \"/home/jianyao/anaconda3/lib/python3.7/site-packages/dynesty/dynesty.py\", line 939, in __call__\n",
      "    return self.func(x, *self.args, **self.kwargs)\n",
      "  File \"/home/jianyao/anaconda3/lib/python3.7/site-packages/dynesty/dynesty.py\", line 939, in __call__\n",
      "    return self.func(x, *self.args, **self.kwargs)\n",
      "  File \"<ipython-input-308-26dcbcb00df7>\", line 34, in log_likelihood\n",
      "    logL =LogL.run(cl_hat=(cl_hat_fore_ali) , cl_th = C_l, likelihood='HL',sbin=sbin, ebin = ebin);\n",
      "  File \"<ipython-input-308-26dcbcb00df7>\", line 34, in log_likelihood\n",
      "    logL =LogL.run(cl_hat=(cl_hat_fore_ali) , cl_th = C_l, likelihood='HL',sbin=sbin, ebin = ebin);\n"
     ]
    },
    {
     "name": "stdout",
     "output_type": "stream",
     "text": [
      "  kwargs: {}\n",
      "  args: []\n"
     ]
    },
    {
     "name": "stderr",
     "output_type": "stream",
     "text": [
      "  File \"<ipython-input-308-26dcbcb00df7>\", line 34, in log_likelihood\n",
      "    logL =LogL.run(cl_hat=(cl_hat_fore_ali) , cl_th = C_l, likelihood='HL',sbin=sbin, ebin = ebin);\n"
     ]
    },
    {
     "name": "stdout",
     "output_type": "stream",
     "text": [
      "Exception while calling loglikelihood function:\n",
      "Exception while calling loglikelihood function:\n"
     ]
    },
    {
     "name": "stderr",
     "output_type": "stream",
     "text": [
      "  File \"/home/jianyao/anaconda3/lib/python3.7/site-packages/scipy/_lib/_util.py\", line 239, in _asarray_validated\n",
      "    a = toarray(a)\n"
     ]
    },
    {
     "name": "stdout",
     "output_type": "stream",
     "text": [
      "  exception:\n",
      "Exception while calling loglikelihood function:\n"
     ]
    },
    {
     "name": "stderr",
     "output_type": "stream",
     "text": [
      "  File \"/home/jianyao/anaconda3/lib/python3.7/site-packages/scipy/_lib/_util.py\", line 239, in _asarray_validated\n",
      "    a = toarray(a)\n"
     ]
    },
    {
     "name": "stdout",
     "output_type": "stream",
     "text": [
      "  exception:\n",
      "  exception:\n",
      "  params: [ 0.08177968 -3.70235375  1.6471399   0.8543717 ]\n"
     ]
    },
    {
     "name": "stderr",
     "output_type": "stream",
     "text": [
      "  File \"/home/jianyao/anaconda3/lib/python3.7/site-packages/dynesty/dynesty.py\", line 939, in __call__\n",
      "    return self.func(x, *self.args, **self.kwargs)\n",
      "  File \"/home/jianyao/Likelihood/utils.py\", line 200, in calc_vecp_test\n",
      "    cl_inv_12= sqrtm(cl_inv)\n",
      "  File \"/home/jianyao/anaconda3/lib/python3.7/site-packages/scipy/linalg/_matfuncs_sqrtm.py\", line 163, in sqrtm\n",
      "    A = _asarray_validated(A, check_finite=True, as_inexact=True)\n",
      "  File \"<ipython-input-308-26dcbcb00df7>\", line 34, in log_likelihood\n",
      "    logL =LogL.run(cl_hat=(cl_hat_fore_ali) , cl_th = C_l, likelihood='HL',sbin=sbin, ebin = ebin);\n",
      "ValueError: array must not contain infs or NaNs\n",
      "  File \"/home/jianyao/Likelihood/utils.py\", line 200, in calc_vecp_test\n",
      "    cl_inv_12= sqrtm(cl_inv)\n"
     ]
    },
    {
     "name": "stdout",
     "output_type": "stream",
     "text": [
      "  exception:\n"
     ]
    },
    {
     "name": "stderr",
     "output_type": "stream",
     "text": [
      "  File \"/home/jianyao/Likelihood/utils.py\", line 232, in testL\n",
      "    Xa = (calc_vecp_test(cl_hat, cl_f,cl_th, Nf = Nf))\n"
     ]
    },
    {
     "name": "stdout",
     "output_type": "stream",
     "text": [
      "  params: [ 0.16125707 -3.40119259  1.9970687   0.2469812 ]\n"
     ]
    },
    {
     "name": "stderr",
     "output_type": "stream",
     "text": [
      "  File \"/home/jianyao/anaconda3/lib/python3.7/site-packages/numpy/lib/function_base.py\", line 486, in asarray_chkfinite\n",
      "    \"array must not contain infs or NaNs\")\n",
      "  File \"/home/jianyao/anaconda3/lib/python3.7/site-packages/numpy/lib/function_base.py\", line 486, in asarray_chkfinite\n",
      "    \"array must not contain infs or NaNs\")\n",
      "  File \"/home/jianyao/anaconda3/lib/python3.7/site-packages/dynesty/dynesty.py\", line 939, in __call__\n",
      "    return self.func(x, *self.args, **self.kwargs)\n",
      "  File \"/home/jianyao/Likelihood/utils.py\", line 200, in calc_vecp_test\n",
      "    cl_inv_12= sqrtm(cl_inv)\n"
     ]
    },
    {
     "name": "stdout",
     "output_type": "stream",
     "text": [
      "  exception:\n"
     ]
    },
    {
     "name": "stderr",
     "output_type": "stream",
     "text": [
      "  File \"<ipython-input-308-26dcbcb00df7>\", line 34, in log_likelihood\n",
      "    logL =LogL.run(cl_hat=(cl_hat_fore_ali) , cl_th = C_l, likelihood='HL',sbin=sbin, ebin = ebin);\n",
      "  File \"/home/jianyao/Likelihood/utils.py\", line 200, in calc_vecp_test\n",
      "    cl_inv_12= sqrtm(cl_inv)\n"
     ]
    },
    {
     "name": "stdout",
     "output_type": "stream",
     "text": [
      "  exception:\n"
     ]
    },
    {
     "name": "stderr",
     "output_type": "stream",
     "text": [
      "  File \"/home/jianyao/Likelihood/logLikeli.py\", line 53, in run\n",
      "    logL = testL(cl_hat = cl_hat, cl_f = self.cl_f[2], cl_th = cl_th, Nf = self.Nf, M_inv = self.Cov_inv, sbin = sbin, ebin = ebin)\n",
      "  File \"/home/jianyao/Likelihood/logLikeli.py\", line 53, in run\n",
      "    logL = testL(cl_hat = cl_hat, cl_f = self.cl_f[2], cl_th = cl_th, Nf = self.Nf, M_inv = self.Cov_inv, sbin = sbin, ebin = ebin)\n"
     ]
    },
    {
     "name": "stdout",
     "output_type": "stream",
     "text": [
      "  kwargs: {}\n"
     ]
    },
    {
     "name": "stderr",
     "output_type": "stream",
     "text": [
      "  File \"<ipython-input-308-26dcbcb00df7>\", line 34, in log_likelihood\n",
      "    logL =LogL.run(cl_hat=(cl_hat_fore_ali) , cl_th = C_l, likelihood='HL',sbin=sbin, ebin = ebin);\n",
      "  File \"/home/jianyao/Likelihood/logLikeli.py\", line 53, in run\n",
      "    logL = testL(cl_hat = cl_hat, cl_f = self.cl_f[2], cl_th = cl_th, Nf = self.Nf, M_inv = self.Cov_inv, sbin = sbin, ebin = ebin)\n",
      "  File \"<ipython-input-308-26dcbcb00df7>\", line 34, in log_likelihood\n",
      "    logL =LogL.run(cl_hat=(cl_hat_fore_ali) , cl_th = C_l, likelihood='HL',sbin=sbin, ebin = ebin);\n",
      "Traceback (most recent call last):\n",
      "  File \"/home/jianyao/anaconda3/lib/python3.7/site-packages/numpy/lib/function_base.py\", line 486, in asarray_chkfinite\n",
      "    \"array must not contain infs or NaNs\")\n"
     ]
    },
    {
     "name": "stdout",
     "output_type": "stream",
     "text": [
      "  params: [ 0.13381339 -1.17571717  2.28097492  0.63548575]\n"
     ]
    },
    {
     "name": "stderr",
     "output_type": "stream",
     "text": [
      "  File \"/home/jianyao/anaconda3/lib/python3.7/site-packages/numpy/lib/function_base.py\", line 486, in asarray_chkfinite\n",
      "    \"array must not contain infs or NaNs\")\n"
     ]
    },
    {
     "name": "stdout",
     "output_type": "stream",
     "text": [
      "  params: [ 0.06074505 -2.07511694  1.08817687  0.24988039]\n"
     ]
    },
    {
     "name": "stderr",
     "output_type": "stream",
     "text": [
      "Traceback (most recent call last):\n"
     ]
    },
    {
     "name": "stdout",
     "output_type": "stream",
     "text": [
      "  params: [ 0.06155665 -0.11318227  1.86745843  0.18645791]\n",
      "  args: []\n"
     ]
    },
    {
     "name": "stderr",
     "output_type": "stream",
     "text": [
      "  File \"/home/jianyao/anaconda3/lib/python3.7/site-packages/scipy/linalg/_matfuncs_sqrtm.py\", line 163, in sqrtm\n",
      "    A = _asarray_validated(A, check_finite=True, as_inexact=True)\n",
      "Traceback (most recent call last):\n",
      "  File \"/home/jianyao/anaconda3/lib/python3.7/site-packages/scipy/_lib/_util.py\", line 239, in _asarray_validated\n",
      "    a = toarray(a)\n",
      "  File \"/home/jianyao/Likelihood/logLikeli.py\", line 53, in run\n",
      "    logL = testL(cl_hat = cl_hat, cl_f = self.cl_f[2], cl_th = cl_th, Nf = self.Nf, M_inv = self.Cov_inv, sbin = sbin, ebin = ebin)\n",
      "  File \"/home/jianyao/anaconda3/lib/python3.7/site-packages/scipy/linalg/_matfuncs_sqrtm.py\", line 163, in sqrtm\n",
      "    A = _asarray_validated(A, check_finite=True, as_inexact=True)\n",
      "  File \"/home/jianyao/Likelihood/utils.py\", line 200, in calc_vecp_test\n",
      "    cl_inv_12= sqrtm(cl_inv)\n",
      "Traceback (most recent call last):\n",
      "ValueError: array must not contain infs or NaNs\n",
      "  File \"<ipython-input-308-26dcbcb00df7>\", line 34, in log_likelihood\n",
      "    logL =LogL.run(cl_hat=(cl_hat_fore_ali) , cl_th = C_l, likelihood='HL',sbin=sbin, ebin = ebin);\n",
      "ValueError: array must not contain infs or NaNs\n",
      "  File \"/home/jianyao/anaconda3/lib/python3.7/site-packages/scipy/linalg/_matfuncs_sqrtm.py\", line 163, in sqrtm\n",
      "    A = _asarray_validated(A, check_finite=True, as_inexact=True)\n",
      "  File \"/home/jianyao/Likelihood/logLikeli.py\", line 53, in run\n",
      "    logL = testL(cl_hat = cl_hat, cl_f = self.cl_f[2], cl_th = cl_th, Nf = self.Nf, M_inv = self.Cov_inv, sbin = sbin, ebin = ebin)\n"
     ]
    },
    {
     "name": "stdout",
     "output_type": "stream",
     "text": [
      "  args: []\n"
     ]
    },
    {
     "name": "stderr",
     "output_type": "stream",
     "text": [
      "  File \"/home/jianyao/anaconda3/lib/python3.7/site-packages/scipy/linalg/_matfuncs_sqrtm.py\", line 163, in sqrtm\n",
      "    A = _asarray_validated(A, check_finite=True, as_inexact=True)\n",
      "  File \"/home/jianyao/Likelihood/utils.py\", line 232, in testL\n",
      "    Xa = (calc_vecp_test(cl_hat, cl_f,cl_th, Nf = Nf))\n",
      "Traceback (most recent call last):\n"
     ]
    },
    {
     "name": "stdout",
     "output_type": "stream",
     "text": [
      "  exception:\n"
     ]
    },
    {
     "name": "stderr",
     "output_type": "stream",
     "text": [
      "  File \"/home/jianyao/Likelihood/utils.py\", line 232, in testL\n",
      "    Xa = (calc_vecp_test(cl_hat, cl_f,cl_th, Nf = Nf))\n",
      "  File \"/home/jianyao/Likelihood/logLikeli.py\", line 53, in run\n",
      "    logL = testL(cl_hat = cl_hat, cl_f = self.cl_f[2], cl_th = cl_th, Nf = self.Nf, M_inv = self.Cov_inv, sbin = sbin, ebin = ebin)\n",
      "  File \"/home/jianyao/Likelihood/utils.py\", line 232, in testL\n",
      "    Xa = (calc_vecp_test(cl_hat, cl_f,cl_th, Nf = Nf))\n",
      "ValueError: array must not contain infs or NaNs\n",
      "Traceback (most recent call last):\n",
      "  File \"/home/jianyao/Likelihood/logLikeli.py\", line 53, in run\n",
      "    logL = testL(cl_hat = cl_hat, cl_f = self.cl_f[2], cl_th = cl_th, Nf = self.Nf, M_inv = self.Cov_inv, sbin = sbin, ebin = ebin)\n",
      "  File \"/home/jianyao/anaconda3/lib/python3.7/site-packages/dynesty/dynesty.py\", line 939, in __call__\n",
      "    return self.func(x, *self.args, **self.kwargs)\n"
     ]
    },
    {
     "name": "stdout",
     "output_type": "stream",
     "text": [
      "  args: []\n"
     ]
    },
    {
     "name": "stderr",
     "output_type": "stream",
     "text": [
      "ValueError: array must not contain infs or NaNs\n"
     ]
    },
    {
     "name": "stdout",
     "output_type": "stream",
     "text": [
      "  kwargs: {}\n"
     ]
    },
    {
     "name": "stderr",
     "output_type": "stream",
     "text": [
      "  File \"/home/jianyao/anaconda3/lib/python3.7/site-packages/dynesty/dynesty.py\", line 939, in __call__\n",
      "    return self.func(x, *self.args, **self.kwargs)\n",
      "  File \"/home/jianyao/anaconda3/lib/python3.7/site-packages/scipy/_lib/_util.py\", line 239, in _asarray_validated\n",
      "    a = toarray(a)\n"
     ]
    },
    {
     "name": "stdout",
     "output_type": "stream",
     "text": [
      "  args: []\n",
      "  args: []\n"
     ]
    },
    {
     "name": "stderr",
     "output_type": "stream",
     "text": [
      "  File \"/home/jianyao/anaconda3/lib/python3.7/site-packages/dynesty/dynesty.py\", line 939, in __call__\n",
      "    return self.func(x, *self.args, **self.kwargs)\n",
      "  File \"/home/jianyao/Likelihood/utils.py\", line 232, in testL\n",
      "    Xa = (calc_vecp_test(cl_hat, cl_f,cl_th, Nf = Nf))\n",
      "  File \"/home/jianyao/anaconda3/lib/python3.7/site-packages/scipy/_lib/_util.py\", line 239, in _asarray_validated\n",
      "    a = toarray(a)\n",
      "  File \"/home/jianyao/anaconda3/lib/python3.7/site-packages/scipy/linalg/_matfuncs_sqrtm.py\", line 163, in sqrtm\n",
      "    A = _asarray_validated(A, check_finite=True, as_inexact=True)\n"
     ]
    },
    {
     "name": "stdout",
     "output_type": "stream",
     "text": [
      "Exception while calling loglikelihood function:\n"
     ]
    },
    {
     "name": "stderr",
     "output_type": "stream",
     "text": [
      "  File \"/home/jianyao/anaconda3/lib/python3.7/site-packages/numpy/lib/function_base.py\", line 486, in asarray_chkfinite\n",
      "    \"array must not contain infs or NaNs\")\n",
      "  File \"/home/jianyao/anaconda3/lib/python3.7/site-packages/dynesty/dynesty.py\", line 939, in __call__\n",
      "    return self.func(x, *self.args, **self.kwargs)\n",
      "  File \"/home/jianyao/Likelihood/logLikeli.py\", line 53, in run\n",
      "    logL = testL(cl_hat = cl_hat, cl_f = self.cl_f[2], cl_th = cl_th, Nf = self.Nf, M_inv = self.Cov_inv, sbin = sbin, ebin = ebin)\n",
      "  File \"/home/jianyao/Likelihood/utils.py\", line 232, in testL\n",
      "    Xa = (calc_vecp_test(cl_hat, cl_f,cl_th, Nf = Nf))\n",
      "  File \"/home/jianyao/anaconda3/lib/python3.7/site-packages/scipy/_lib/_util.py\", line 239, in _asarray_validated\n",
      "    a = toarray(a)\n"
     ]
    },
    {
     "name": "stdout",
     "output_type": "stream",
     "text": [
      "  kwargs: {}\n"
     ]
    },
    {
     "name": "stderr",
     "output_type": "stream",
     "text": [
      "  File \"/home/jianyao/Likelihood/utils.py\", line 200, in calc_vecp_test\n",
      "    cl_inv_12= sqrtm(cl_inv)\n",
      "  File \"/home/jianyao/anaconda3/lib/python3.7/site-packages/scipy/_lib/_util.py\", line 239, in _asarray_validated\n",
      "    a = toarray(a)\n",
      "  File \"<ipython-input-308-26dcbcb00df7>\", line 34, in log_likelihood\n",
      "    logL =LogL.run(cl_hat=(cl_hat_fore_ali) , cl_th = C_l, likelihood='HL',sbin=sbin, ebin = ebin);\n",
      "  File \"/home/jianyao/Likelihood/utils.py\", line 200, in calc_vecp_test\n",
      "    cl_inv_12= sqrtm(cl_inv)\n",
      "  File \"/home/jianyao/anaconda3/lib/python3.7/site-packages/numpy/lib/function_base.py\", line 486, in asarray_chkfinite\n",
      "    \"array must not contain infs or NaNs\")\n",
      "  File \"<ipython-input-308-26dcbcb00df7>\", line 34, in log_likelihood\n",
      "    logL =LogL.run(cl_hat=(cl_hat_fore_ali) , cl_th = C_l, likelihood='HL',sbin=sbin, ebin = ebin);\n",
      "  File \"/home/jianyao/anaconda3/lib/python3.7/site-packages/scipy/_lib/_util.py\", line 239, in _asarray_validated\n",
      "    a = toarray(a)\n",
      "ValueError: array must not contain infs or NaNs\n"
     ]
    },
    {
     "name": "stdout",
     "output_type": "stream",
     "text": [
      "  params: [ 0.19822108 -3.2525018   1.08728817  0.68846275]\n"
     ]
    },
    {
     "name": "stderr",
     "output_type": "stream",
     "text": [
      "  File \"/home/jianyao/Likelihood/utils.py\", line 200, in calc_vecp_test\n",
      "    cl_inv_12= sqrtm(cl_inv)\n"
     ]
    },
    {
     "name": "stdout",
     "output_type": "stream",
     "text": [
      "  exception:\n"
     ]
    },
    {
     "name": "stderr",
     "output_type": "stream",
     "text": [
      "  File \"/home/jianyao/anaconda3/lib/python3.7/site-packages/scipy/linalg/_matfuncs_sqrtm.py\", line 163, in sqrtm\n",
      "    A = _asarray_validated(A, check_finite=True, as_inexact=True)\n",
      "  File \"/home/jianyao/anaconda3/lib/python3.7/site-packages/numpy/lib/function_base.py\", line 486, in asarray_chkfinite\n",
      "    \"array must not contain infs or NaNs\")\n",
      "  File \"/home/jianyao/anaconda3/lib/python3.7/site-packages/numpy/lib/function_base.py\", line 486, in asarray_chkfinite\n",
      "    \"array must not contain infs or NaNs\")\n",
      "  File \"/home/jianyao/Likelihood/utils.py\", line 200, in calc_vecp_test\n",
      "    cl_inv_12= sqrtm(cl_inv)\n",
      "  File \"/home/jianyao/anaconda3/lib/python3.7/site-packages/scipy/linalg/_matfuncs_sqrtm.py\", line 163, in sqrtm\n",
      "    A = _asarray_validated(A, check_finite=True, as_inexact=True)\n",
      "  File \"<ipython-input-308-26dcbcb00df7>\", line 34, in log_likelihood\n",
      "    logL =LogL.run(cl_hat=(cl_hat_fore_ali) , cl_th = C_l, likelihood='HL',sbin=sbin, ebin = ebin);\n",
      "  File \"<ipython-input-308-26dcbcb00df7>\", line 34, in log_likelihood\n",
      "    logL =LogL.run(cl_hat=(cl_hat_fore_ali) , cl_th = C_l, likelihood='HL',sbin=sbin, ebin = ebin);\n",
      "  File \"/home/jianyao/Likelihood/utils.py\", line 232, in testL\n",
      "    Xa = (calc_vecp_test(cl_hat, cl_f,cl_th, Nf = Nf))\n",
      "  File \"/home/jianyao/anaconda3/lib/python3.7/site-packages/dynesty/dynesty.py\", line 939, in __call__\n",
      "    return self.func(x, *self.args, **self.kwargs)\n",
      "  File \"/home/jianyao/Likelihood/utils.py\", line 200, in calc_vecp_test\n",
      "    cl_inv_12= sqrtm(cl_inv)\n",
      "  File \"/home/jianyao/anaconda3/lib/python3.7/site-packages/scipy/linalg/_matfuncs_sqrtm.py\", line 163, in sqrtm\n",
      "    A = _asarray_validated(A, check_finite=True, as_inexact=True)\n",
      "  File \"/home/jianyao/Likelihood/logLikeli.py\", line 53, in run\n",
      "    logL = testL(cl_hat = cl_hat, cl_f = self.cl_f[2], cl_th = cl_th, Nf = self.Nf, M_inv = self.Cov_inv, sbin = sbin, ebin = ebin)\n"
     ]
    },
    {
     "name": "stdout",
     "output_type": "stream",
     "text": [
      "Exception while calling loglikelihood function:\n",
      "Exception while calling loglikelihood function:\n",
      "  exception:\n"
     ]
    },
    {
     "name": "stderr",
     "output_type": "stream",
     "text": [
      "  File \"/home/jianyao/Likelihood/logLikeli.py\", line 53, in run\n",
      "    logL = testL(cl_hat = cl_hat, cl_f = self.cl_f[2], cl_th = cl_th, Nf = self.Nf, M_inv = self.Cov_inv, sbin = sbin, ebin = ebin)\n",
      "Traceback (most recent call last):\n"
     ]
    },
    {
     "name": "stdout",
     "output_type": "stream",
     "text": [
      "Exception while calling loglikelihood function:\n"
     ]
    },
    {
     "name": "stderr",
     "output_type": "stream",
     "text": [
      "ValueError: array must not contain infs or NaNs\n"
     ]
    },
    {
     "name": "stdout",
     "output_type": "stream",
     "text": [
      "  exception:\n",
      "  exception:\n"
     ]
    },
    {
     "name": "stderr",
     "output_type": "stream",
     "text": [
      "  File \"/home/jianyao/Likelihood/logLikeli.py\", line 53, in run\n",
      "    logL = testL(cl_hat = cl_hat, cl_f = self.cl_f[2], cl_th = cl_th, Nf = self.Nf, M_inv = self.Cov_inv, sbin = sbin, ebin = ebin)\n"
     ]
    },
    {
     "name": "stdout",
     "output_type": "stream",
     "text": [
      "Exception while calling loglikelihood function:\n"
     ]
    },
    {
     "name": "stderr",
     "output_type": "stream",
     "text": [
      "  File \"/home/jianyao/anaconda3/lib/python3.7/site-packages/scipy/linalg/_matfuncs_sqrtm.py\", line 163, in sqrtm\n",
      "    A = _asarray_validated(A, check_finite=True, as_inexact=True)\n",
      "ValueError: array must not contain infs or NaNs\n",
      "  File \"/home/jianyao/anaconda3/lib/python3.7/site-packages/numpy/lib/function_base.py\", line 486, in asarray_chkfinite\n",
      "    \"array must not contain infs or NaNs\")\n"
     ]
    },
    {
     "name": "stdout",
     "output_type": "stream",
     "text": [
      "  args: []\n"
     ]
    },
    {
     "name": "stderr",
     "output_type": "stream",
     "text": [
      "  File \"/home/jianyao/Likelihood/logLikeli.py\", line 53, in run\n",
      "    logL = testL(cl_hat = cl_hat, cl_f = self.cl_f[2], cl_th = cl_th, Nf = self.Nf, M_inv = self.Cov_inv, sbin = sbin, ebin = ebin)\n",
      "  File \"/home/jianyao/anaconda3/lib/python3.7/site-packages/scipy/linalg/_matfuncs_sqrtm.py\", line 163, in sqrtm\n",
      "    A = _asarray_validated(A, check_finite=True, as_inexact=True)\n",
      "  File \"/home/jianyao/anaconda3/lib/python3.7/site-packages/scipy/_lib/_util.py\", line 239, in _asarray_validated\n",
      "    a = toarray(a)\n",
      "ValueError: array must not contain infs or NaNs\n",
      "Traceback (most recent call last):\n",
      "ValueError: array must not contain infs or NaNs\n",
      "  File \"/home/jianyao/anaconda3/lib/python3.7/site-packages/scipy/_lib/_util.py\", line 239, in _asarray_validated\n",
      "    a = toarray(a)\n",
      "  File \"/home/jianyao/Likelihood/utils.py\", line 200, in calc_vecp_test\n",
      "    cl_inv_12= sqrtm(cl_inv)\n",
      "  File \"/home/jianyao/Likelihood/logLikeli.py\", line 53, in run\n",
      "    logL = testL(cl_hat = cl_hat, cl_f = self.cl_f[2], cl_th = cl_th, Nf = self.Nf, M_inv = self.Cov_inv, sbin = sbin, ebin = ebin)\n",
      "  File \"/home/jianyao/Likelihood/logLikeli.py\", line 53, in run\n",
      "    logL = testL(cl_hat = cl_hat, cl_f = self.cl_f[2], cl_th = cl_th, Nf = self.Nf, M_inv = self.Cov_inv, sbin = sbin, ebin = ebin)\n",
      "  File \"/home/jianyao/anaconda3/lib/python3.7/site-packages/scipy/linalg/_matfuncs_sqrtm.py\", line 163, in sqrtm\n",
      "    A = _asarray_validated(A, check_finite=True, as_inexact=True)\n",
      "  File \"/home/jianyao/Likelihood/utils.py\", line 232, in testL\n",
      "    Xa = (calc_vecp_test(cl_hat, cl_f,cl_th, Nf = Nf))\n"
     ]
    },
    {
     "name": "stdout",
     "output_type": "stream",
     "text": [
      "  params: [ 0.04653475 -2.63015257  1.40135814  0.03443493]\n"
     ]
    },
    {
     "name": "stderr",
     "output_type": "stream",
     "text": [
      "  File \"<ipython-input-308-26dcbcb00df7>\", line 34, in log_likelihood\n",
      "    logL =LogL.run(cl_hat=(cl_hat_fore_ali) , cl_th = C_l, likelihood='HL',sbin=sbin, ebin = ebin);\n",
      "  File \"/home/jianyao/anaconda3/lib/python3.7/site-packages/scipy/_lib/_util.py\", line 239, in _asarray_validated\n",
      "    a = toarray(a)\n",
      "  File \"/home/jianyao/anaconda3/lib/python3.7/site-packages/scipy/linalg/_matfuncs_sqrtm.py\", line 163, in sqrtm\n",
      "    A = _asarray_validated(A, check_finite=True, as_inexact=True)\n"
     ]
    },
    {
     "name": "stdout",
     "output_type": "stream",
     "text": [
      "  params: [ 0.00171238 -0.73093256  1.38702216  0.17594568]\n"
     ]
    },
    {
     "name": "stderr",
     "output_type": "stream",
     "text": [
      "  File \"/home/jianyao/Likelihood/utils.py\", line 232, in testL\n",
      "    Xa = (calc_vecp_test(cl_hat, cl_f,cl_th, Nf = Nf))\n",
      "Traceback (most recent call last):\n",
      "  File \"/home/jianyao/Likelihood/utils.py\", line 232, in testL\n",
      "    Xa = (calc_vecp_test(cl_hat, cl_f,cl_th, Nf = Nf))\n"
     ]
    },
    {
     "name": "stdout",
     "output_type": "stream",
     "text": [
      "  params: [ 0.07143783 -0.02986136  2.63403912  0.74390405]\n"
     ]
    },
    {
     "name": "stderr",
     "output_type": "stream",
     "text": [
      "Traceback (most recent call last):\n",
      "Traceback (most recent call last):\n",
      "  File \"/home/jianyao/anaconda3/lib/python3.7/site-packages/dynesty/dynesty.py\", line 939, in __call__\n",
      "    return self.func(x, *self.args, **self.kwargs)\n"
     ]
    },
    {
     "name": "stdout",
     "output_type": "stream",
     "text": [
      "  params: [ 0.0913929  -2.14360124  2.93625079  0.76166434]\n"
     ]
    },
    {
     "name": "stderr",
     "output_type": "stream",
     "text": [
      "ValueError: array must not contain infs or NaNs\n",
      "  File \"/home/jianyao/anaconda3/lib/python3.7/site-packages/dynesty/dynesty.py\", line 939, in __call__\n",
      "    return self.func(x, *self.args, **self.kwargs)\n",
      "  File \"/home/jianyao/anaconda3/lib/python3.7/site-packages/numpy/lib/function_base.py\", line 486, in asarray_chkfinite\n",
      "    \"array must not contain infs or NaNs\")\n"
     ]
    },
    {
     "name": "stdout",
     "output_type": "stream",
     "text": [
      "Exception while calling loglikelihood function:\n"
     ]
    },
    {
     "name": "stderr",
     "output_type": "stream",
     "text": [
      "  File \"/home/jianyao/Likelihood/utils.py\", line 232, in testL\n",
      "    Xa = (calc_vecp_test(cl_hat, cl_f,cl_th, Nf = Nf))\n"
     ]
    },
    {
     "name": "stdout",
     "output_type": "stream",
     "text": [
      "  kwargs: {}\n"
     ]
    },
    {
     "name": "stderr",
     "output_type": "stream",
     "text": [
      "  File \"/home/jianyao/anaconda3/lib/python3.7/site-packages/scipy/_lib/_util.py\", line 239, in _asarray_validated\n",
      "    a = toarray(a)\n",
      "  File \"/home/jianyao/anaconda3/lib/python3.7/site-packages/scipy/_lib/_util.py\", line 239, in _asarray_validated\n",
      "    a = toarray(a)\n",
      "  File \"/home/jianyao/anaconda3/lib/python3.7/site-packages/scipy/linalg/_matfuncs_sqrtm.py\", line 163, in sqrtm\n",
      "    A = _asarray_validated(A, check_finite=True, as_inexact=True)\n",
      "  File \"/home/jianyao/anaconda3/lib/python3.7/site-packages/scipy/_lib/_util.py\", line 239, in _asarray_validated\n",
      "    a = toarray(a)\n",
      "  File \"/home/jianyao/Likelihood/utils.py\", line 232, in testL\n",
      "    Xa = (calc_vecp_test(cl_hat, cl_f,cl_th, Nf = Nf))\n",
      "  File \"/home/jianyao/anaconda3/lib/python3.7/site-packages/scipy/_lib/_util.py\", line 239, in _asarray_validated\n",
      "    a = toarray(a)\n",
      "  File \"/home/jianyao/anaconda3/lib/python3.7/site-packages/numpy/lib/function_base.py\", line 486, in asarray_chkfinite\n",
      "    \"array must not contain infs or NaNs\")\n",
      "  File \"/home/jianyao/Likelihood/utils.py\", line 232, in testL\n",
      "    Xa = (calc_vecp_test(cl_hat, cl_f,cl_th, Nf = Nf))\n",
      "  File \"/home/jianyao/Likelihood/logLikeli.py\", line 53, in run\n",
      "    logL = testL(cl_hat = cl_hat, cl_f = self.cl_f[2], cl_th = cl_th, Nf = self.Nf, M_inv = self.Cov_inv, sbin = sbin, ebin = ebin)\n",
      "  File \"/home/jianyao/anaconda3/lib/python3.7/site-packages/numpy/lib/function_base.py\", line 486, in asarray_chkfinite\n",
      "    \"array must not contain infs or NaNs\")\n",
      "  File \"/home/jianyao/Likelihood/utils.py\", line 200, in calc_vecp_test\n",
      "    cl_inv_12= sqrtm(cl_inv)\n"
     ]
    },
    {
     "name": "stdout",
     "output_type": "stream",
     "text": [
      "  args: []\n"
     ]
    },
    {
     "name": "stderr",
     "output_type": "stream",
     "text": [
      "  File \"/home/jianyao/Likelihood/utils.py\", line 200, in calc_vecp_test\n",
      "    cl_inv_12= sqrtm(cl_inv)\n",
      "  File \"/home/jianyao/anaconda3/lib/python3.7/site-packages/dynesty/dynesty.py\", line 939, in __call__\n",
      "    return self.func(x, *self.args, **self.kwargs)\n",
      "  File \"<ipython-input-308-26dcbcb00df7>\", line 34, in log_likelihood\n",
      "    logL =LogL.run(cl_hat=(cl_hat_fore_ali) , cl_th = C_l, likelihood='HL',sbin=sbin, ebin = ebin);\n"
     ]
    },
    {
     "name": "stdout",
     "output_type": "stream",
     "text": [
      "Exception while calling loglikelihood function:\n"
     ]
    },
    {
     "name": "stderr",
     "output_type": "stream",
     "text": [
      "  File \"/home/jianyao/Likelihood/utils.py\", line 200, in calc_vecp_test\n",
      "    cl_inv_12= sqrtm(cl_inv)\n",
      "  File \"/home/jianyao/anaconda3/lib/python3.7/site-packages/dynesty/dynesty.py\", line 939, in __call__\n",
      "    return self.func(x, *self.args, **self.kwargs)\n"
     ]
    },
    {
     "name": "stdout",
     "output_type": "stream",
     "text": [
      "  args: []\n"
     ]
    },
    {
     "name": "stderr",
     "output_type": "stream",
     "text": [
      "  File \"/home/jianyao/anaconda3/lib/python3.7/site-packages/dynesty/dynesty.py\", line 939, in __call__\n",
      "    return self.func(x, *self.args, **self.kwargs)\n"
     ]
    },
    {
     "name": "stdout",
     "output_type": "stream",
     "text": [
      "  args: []\n",
      "  args: []\n",
      "  exception:\n"
     ]
    },
    {
     "name": "stderr",
     "output_type": "stream",
     "text": [
      "  File \"/home/jianyao/Likelihood/utils.py\", line 200, in calc_vecp_test\n",
      "    cl_inv_12= sqrtm(cl_inv)\n"
     ]
    },
    {
     "name": "stdout",
     "output_type": "stream",
     "text": [
      "  params: [ 0.08362784 -2.30803616  2.782189    0.36724107]\n"
     ]
    },
    {
     "name": "stderr",
     "output_type": "stream",
     "text": [
      "  File \"/home/jianyao/anaconda3/lib/python3.7/site-packages/numpy/lib/function_base.py\", line 486, in asarray_chkfinite\n",
      "    \"array must not contain infs or NaNs\")\n",
      "  File \"/home/jianyao/anaconda3/lib/python3.7/site-packages/numpy/lib/function_base.py\", line 486, in asarray_chkfinite\n",
      "    \"array must not contain infs or NaNs\")\n",
      "ValueError: array must not contain infs or NaNs\n",
      "ValueError: array must not contain infs or NaNs\n",
      "  File \"<ipython-input-308-26dcbcb00df7>\", line 34, in log_likelihood\n",
      "    logL =LogL.run(cl_hat=(cl_hat_fore_ali) , cl_th = C_l, likelihood='HL',sbin=sbin, ebin = ebin);\n",
      "  File \"/home/jianyao/anaconda3/lib/python3.7/site-packages/scipy/_lib/_util.py\", line 239, in _asarray_validated\n",
      "    a = toarray(a)\n",
      "  File \"/home/jianyao/anaconda3/lib/python3.7/site-packages/numpy/lib/function_base.py\", line 486, in asarray_chkfinite\n",
      "    \"array must not contain infs or NaNs\")\n",
      "  File \"/home/jianyao/Likelihood/utils.py\", line 200, in calc_vecp_test\n",
      "    cl_inv_12= sqrtm(cl_inv)\n",
      "  File \"/home/jianyao/anaconda3/lib/python3.7/site-packages/numpy/lib/function_base.py\", line 486, in asarray_chkfinite\n",
      "    \"array must not contain infs or NaNs\")\n",
      "  File \"/home/jianyao/Likelihood/utils.py\", line 200, in calc_vecp_test\n",
      "    cl_inv_12= sqrtm(cl_inv)\n",
      "  File \"/home/jianyao/Likelihood/utils.py\", line 232, in testL\n",
      "    Xa = (calc_vecp_test(cl_hat, cl_f,cl_th, Nf = Nf))\n",
      "  File \"/home/jianyao/anaconda3/lib/python3.7/site-packages/scipy/linalg/_matfuncs_sqrtm.py\", line 163, in sqrtm\n",
      "    A = _asarray_validated(A, check_finite=True, as_inexact=True)\n",
      "ValueError: array must not contain infs or NaNs\n"
     ]
    },
    {
     "name": "stdout",
     "output_type": "stream",
     "text": [
      "  kwargs: {}\n"
     ]
    },
    {
     "name": "stderr",
     "output_type": "stream",
     "text": [
      "  File \"/home/jianyao/anaconda3/lib/python3.7/site-packages/scipy/linalg/_matfuncs_sqrtm.py\", line 163, in sqrtm\n",
      "    A = _asarray_validated(A, check_finite=True, as_inexact=True)\n",
      "  File \"<ipython-input-308-26dcbcb00df7>\", line 34, in log_likelihood\n",
      "    logL =LogL.run(cl_hat=(cl_hat_fore_ali) , cl_th = C_l, likelihood='HL',sbin=sbin, ebin = ebin);\n",
      "  File \"/home/jianyao/Likelihood/logLikeli.py\", line 53, in run\n",
      "    logL = testL(cl_hat = cl_hat, cl_f = self.cl_f[2], cl_th = cl_th, Nf = self.Nf, M_inv = self.Cov_inv, sbin = sbin, ebin = ebin)\n",
      "  File \"/home/jianyao/anaconda3/lib/python3.7/site-packages/scipy/linalg/_matfuncs_sqrtm.py\", line 163, in sqrtm\n",
      "    A = _asarray_validated(A, check_finite=True, as_inexact=True)\n",
      "  File \"<ipython-input-308-26dcbcb00df7>\", line 34, in log_likelihood\n",
      "    logL =LogL.run(cl_hat=(cl_hat_fore_ali) , cl_th = C_l, likelihood='HL',sbin=sbin, ebin = ebin);\n",
      "  File \"<ipython-input-308-26dcbcb00df7>\", line 34, in log_likelihood\n",
      "    logL =LogL.run(cl_hat=(cl_hat_fore_ali) , cl_th = C_l, likelihood='HL',sbin=sbin, ebin = ebin);\n"
     ]
    },
    {
     "name": "stdout",
     "output_type": "stream",
     "text": [
      "  params: [ 0.01867534 -2.78482478  1.38290645  0.24178001]\n",
      "  kwargs: {}\n",
      "Exception while calling loglikelihood function:\n",
      "  kwargs: {}\n",
      "  kwargs: {}\n"
     ]
    },
    {
     "name": "stderr",
     "output_type": "stream",
     "text": [
      "  File \"/home/jianyao/anaconda3/lib/python3.7/site-packages/scipy/linalg/_matfuncs_sqrtm.py\", line 163, in sqrtm\n",
      "    A = _asarray_validated(A, check_finite=True, as_inexact=True)\n"
     ]
    },
    {
     "name": "stdout",
     "output_type": "stream",
     "text": [
      "  args: []\n"
     ]
    },
    {
     "name": "stderr",
     "output_type": "stream",
     "text": [
      "ValueError: array must not contain infs or NaNs\n",
      "Traceback (most recent call last):\n"
     ]
    },
    {
     "name": "stdout",
     "output_type": "stream",
     "text": [
      "Exception while calling loglikelihood function:\n"
     ]
    },
    {
     "name": "stderr",
     "output_type": "stream",
     "text": [
      "ValueError: array must not contain infs or NaNs\n",
      "  File \"/home/jianyao/Likelihood/logLikeli.py\", line 53, in run\n",
      "    logL = testL(cl_hat = cl_hat, cl_f = self.cl_f[2], cl_th = cl_th, Nf = self.Nf, M_inv = self.Cov_inv, sbin = sbin, ebin = ebin)\n",
      "  File \"/home/jianyao/anaconda3/lib/python3.7/site-packages/numpy/lib/function_base.py\", line 486, in asarray_chkfinite\n",
      "    \"array must not contain infs or NaNs\")\n"
     ]
    },
    {
     "name": "stdout",
     "output_type": "stream",
     "text": [
      "Exception while calling loglikelihood function:\n"
     ]
    },
    {
     "name": "stderr",
     "output_type": "stream",
     "text": [
      "  File \"/home/jianyao/anaconda3/lib/python3.7/site-packages/scipy/linalg/_matfuncs_sqrtm.py\", line 163, in sqrtm\n",
      "    A = _asarray_validated(A, check_finite=True, as_inexact=True)\n",
      "ValueError: array must not contain infs or NaNs\n"
     ]
    },
    {
     "name": "stdout",
     "output_type": "stream",
     "text": [
      "Exception while calling loglikelihood function:\n"
     ]
    },
    {
     "name": "stderr",
     "output_type": "stream",
     "text": [
      "ValueError: array must not contain infs or NaNs\n",
      "  File \"/home/jianyao/anaconda3/lib/python3.7/site-packages/scipy/linalg/_matfuncs_sqrtm.py\", line 163, in sqrtm\n",
      "    A = _asarray_validated(A, check_finite=True, as_inexact=True)\n",
      "  File \"/home/jianyao/anaconda3/lib/python3.7/site-packages/scipy/_lib/_util.py\", line 239, in _asarray_validated\n",
      "    a = toarray(a)\n",
      "  File \"/home/jianyao/Likelihood/utils.py\", line 200, in calc_vecp_test\n",
      "    cl_inv_12= sqrtm(cl_inv)\n",
      "  File \"/home/jianyao/anaconda3/lib/python3.7/site-packages/scipy/_lib/_util.py\", line 239, in _asarray_validated\n",
      "    a = toarray(a)\n"
     ]
    },
    {
     "name": "stdout",
     "output_type": "stream",
     "text": [
      "  exception:\n"
     ]
    },
    {
     "name": "stderr",
     "output_type": "stream",
     "text": [
      "  File \"/home/jianyao/Likelihood/utils.py\", line 232, in testL\n",
      "    Xa = (calc_vecp_test(cl_hat, cl_f,cl_th, Nf = Nf))\n",
      "  File \"/home/jianyao/Likelihood/logLikeli.py\", line 53, in run\n",
      "    logL = testL(cl_hat = cl_hat, cl_f = self.cl_f[2], cl_th = cl_th, Nf = self.Nf, M_inv = self.Cov_inv, sbin = sbin, ebin = ebin)\n",
      "  File \"/home/jianyao/Likelihood/logLikeli.py\", line 53, in run\n",
      "    logL = testL(cl_hat = cl_hat, cl_f = self.cl_f[2], cl_th = cl_th, Nf = self.Nf, M_inv = self.Cov_inv, sbin = sbin, ebin = ebin)\n",
      "  File \"/home/jianyao/Likelihood/logLikeli.py\", line 53, in run\n",
      "    logL = testL(cl_hat = cl_hat, cl_f = self.cl_f[2], cl_th = cl_th, Nf = self.Nf, M_inv = self.Cov_inv, sbin = sbin, ebin = ebin)\n",
      "  File \"/home/jianyao/anaconda3/lib/python3.7/site-packages/scipy/_lib/_util.py\", line 239, in _asarray_validated\n",
      "    a = toarray(a)\n"
     ]
    },
    {
     "name": "stdout",
     "output_type": "stream",
     "text": [
      "  args: []\n",
      "  exception:\n",
      "  exception:\n",
      "  params: [ 0.07984594 -1.84299333  2.81037252  0.02805089]\n"
     ]
    },
    {
     "name": "stderr",
     "output_type": "stream",
     "text": [
      "  File \"/home/jianyao/anaconda3/lib/python3.7/site-packages/scipy/_lib/_util.py\", line 239, in _asarray_validated\n",
      "    a = toarray(a)\n"
     ]
    },
    {
     "name": "stdout",
     "output_type": "stream",
     "text": [
      "  exception:\n",
      "  kwargs: {}\n"
     ]
    },
    {
     "name": "stderr",
     "output_type": "stream",
     "text": [
      "  File \"/home/jianyao/anaconda3/lib/python3.7/site-packages/dynesty/dynesty.py\", line 939, in __call__\n",
      "    return self.func(x, *self.args, **self.kwargs)\n"
     ]
    },
    {
     "name": "stdout",
     "output_type": "stream",
     "text": [
      "Exception while calling loglikelihood function:\n"
     ]
    },
    {
     "name": "stderr",
     "output_type": "stream",
     "text": [
      "  File \"/home/jianyao/Likelihood/utils.py\", line 232, in testL\n",
      "    Xa = (calc_vecp_test(cl_hat, cl_f,cl_th, Nf = Nf))\n"
     ]
    },
    {
     "name": "stdout",
     "output_type": "stream",
     "text": [
      "  params: [ 0.00446806 -0.27069353  1.48456739  0.79463461]\n"
     ]
    },
    {
     "name": "stderr",
     "output_type": "stream",
     "text": [
      "ValueError: array must not contain infs or NaNs\n"
     ]
    },
    {
     "name": "stdout",
     "output_type": "stream",
     "text": [
      "Exception while calling loglikelihood function:\n",
      "  params: [ 0.09209848 -3.22739722  1.69701457  0.75102077]\n"
     ]
    },
    {
     "name": "stderr",
     "output_type": "stream",
     "text": [
      "  File \"/home/jianyao/anaconda3/lib/python3.7/site-packages/scipy/_lib/_util.py\", line 239, in _asarray_validated\n",
      "    a = toarray(a)\n",
      "  File \"/home/jianyao/anaconda3/lib/python3.7/site-packages/numpy/lib/function_base.py\", line 486, in asarray_chkfinite\n",
      "    \"array must not contain infs or NaNs\")\n",
      "  File \"/home/jianyao/anaconda3/lib/python3.7/site-packages/numpy/lib/function_base.py\", line 486, in asarray_chkfinite\n",
      "    \"array must not contain infs or NaNs\")\n",
      "  File \"/home/jianyao/anaconda3/lib/python3.7/site-packages/scipy/linalg/_matfuncs_sqrtm.py\", line 163, in sqrtm\n",
      "    A = _asarray_validated(A, check_finite=True, as_inexact=True)\n",
      "  File \"/home/jianyao/anaconda3/lib/python3.7/site-packages/scipy/_lib/_util.py\", line 239, in _asarray_validated\n",
      "    a = toarray(a)\n"
     ]
    },
    {
     "name": "stdout",
     "output_type": "stream",
     "text": [
      "  params: [ 0.04134512 -0.70223374  1.22909364  0.94193894]\n"
     ]
    },
    {
     "name": "stderr",
     "output_type": "stream",
     "text": [
      "  File \"/home/jianyao/Likelihood/utils.py\", line 232, in testL\n",
      "    Xa = (calc_vecp_test(cl_hat, cl_f,cl_th, Nf = Nf))\n",
      "  File \"/home/jianyao/Likelihood/utils.py\", line 232, in testL\n",
      "    Xa = (calc_vecp_test(cl_hat, cl_f,cl_th, Nf = Nf))\n",
      "  File \"/home/jianyao/Likelihood/utils.py\", line 232, in testL\n",
      "    Xa = (calc_vecp_test(cl_hat, cl_f,cl_th, Nf = Nf))\n",
      "Traceback (most recent call last):\n",
      "  File \"/home/jianyao/Likelihood/utils.py\", line 200, in calc_vecp_test\n",
      "    cl_inv_12= sqrtm(cl_inv)\n"
     ]
    },
    {
     "name": "stdout",
     "output_type": "stream",
     "text": [
      "  kwargs: {}\n",
      "  args: []\n"
     ]
    },
    {
     "name": "stderr",
     "output_type": "stream",
     "text": [
      "  File \"/home/jianyao/anaconda3/lib/python3.7/site-packages/numpy/lib/function_base.py\", line 486, in asarray_chkfinite\n",
      "    \"array must not contain infs or NaNs\")\n"
     ]
    },
    {
     "name": "stdout",
     "output_type": "stream",
     "text": [
      "  exception:\n"
     ]
    },
    {
     "name": "stderr",
     "output_type": "stream",
     "text": [
      "  File \"<ipython-input-308-26dcbcb00df7>\", line 34, in log_likelihood\n",
      "    logL =LogL.run(cl_hat=(cl_hat_fore_ali) , cl_th = C_l, likelihood='HL',sbin=sbin, ebin = ebin);\n",
      "Traceback (most recent call last):\n"
     ]
    },
    {
     "name": "stdout",
     "output_type": "stream",
     "text": [
      "Exception while calling loglikelihood function:\n",
      "  params: [ 0.06542577 -0.83945151  2.42275625  0.89960858]\n",
      "  args: []\n"
     ]
    },
    {
     "name": "stderr",
     "output_type": "stream",
     "text": [
      "Traceback (most recent call last):\n",
      "  File \"/home/jianyao/Likelihood/utils.py\", line 200, in calc_vecp_test\n",
      "    cl_inv_12= sqrtm(cl_inv)\n"
     ]
    },
    {
     "name": "stdout",
     "output_type": "stream",
     "text": [
      "  args: []\n"
     ]
    },
    {
     "name": "stderr",
     "output_type": "stream",
     "text": [
      "  File \"/home/jianyao/anaconda3/lib/python3.7/site-packages/numpy/lib/function_base.py\", line 486, in asarray_chkfinite\n",
      "    \"array must not contain infs or NaNs\")\n"
     ]
    },
    {
     "name": "stdout",
     "output_type": "stream",
     "text": [
      "  params: [ 0.11132495 -0.21956954  1.32688136  0.3946388 ]\n"
     ]
    },
    {
     "name": "stderr",
     "output_type": "stream",
     "text": [
      "ValueError: array must not contain infs or NaNs\n",
      "ValueError: array must not contain infs or NaNs\n",
      "  File \"/home/jianyao/anaconda3/lib/python3.7/site-packages/scipy/_lib/_util.py\", line 239, in _asarray_validated\n",
      "    a = toarray(a)\n"
     ]
    },
    {
     "name": "stdout",
     "output_type": "stream",
     "text": [
      "Exception while calling loglikelihood function:\n"
     ]
    },
    {
     "name": "stderr",
     "output_type": "stream",
     "text": [
      "  File \"/home/jianyao/anaconda3/lib/python3.7/site-packages/numpy/lib/function_base.py\", line 486, in asarray_chkfinite\n",
      "    \"array must not contain infs or NaNs\")\n"
     ]
    },
    {
     "name": "stdout",
     "output_type": "stream",
     "text": [
      "Exception while calling loglikelihood function:\n",
      "  args: []\n"
     ]
    },
    {
     "name": "stderr",
     "output_type": "stream",
     "text": [
      "  File \"/home/jianyao/Likelihood/utils.py\", line 200, in calc_vecp_test\n",
      "    cl_inv_12= sqrtm(cl_inv)\n",
      "  File \"/home/jianyao/Likelihood/utils.py\", line 200, in calc_vecp_test\n",
      "    cl_inv_12= sqrtm(cl_inv)\n",
      "Traceback (most recent call last):\n",
      "  File \"/home/jianyao/anaconda3/lib/python3.7/site-packages/dynesty/dynesty.py\", line 939, in __call__\n",
      "    return self.func(x, *self.args, **self.kwargs)\n"
     ]
    },
    {
     "name": "stdout",
     "output_type": "stream",
     "text": [
      "Exception while calling loglikelihood function:\n"
     ]
    },
    {
     "name": "stderr",
     "output_type": "stream",
     "text": [
      "  File \"/home/jianyao/anaconda3/lib/python3.7/site-packages/scipy/linalg/_matfuncs_sqrtm.py\", line 163, in sqrtm\n",
      "    A = _asarray_validated(A, check_finite=True, as_inexact=True)\n",
      "  File \"/home/jianyao/Likelihood/utils.py\", line 200, in calc_vecp_test\n",
      "    cl_inv_12= sqrtm(cl_inv)\n"
     ]
    },
    {
     "name": "stdout",
     "output_type": "stream",
     "text": [
      "  exception:\n"
     ]
    },
    {
     "name": "stderr",
     "output_type": "stream",
     "text": [
      "  File \"/home/jianyao/anaconda3/lib/python3.7/site-packages/numpy/lib/function_base.py\", line 486, in asarray_chkfinite\n",
      "    \"array must not contain infs or NaNs\")\n"
     ]
    },
    {
     "name": "stdout",
     "output_type": "stream",
     "text": [
      "  kwargs: {}\n"
     ]
    },
    {
     "name": "stderr",
     "output_type": "stream",
     "text": [
      "ValueError: array must not contain infs or NaNs\n",
      "  File \"/home/jianyao/Likelihood/logLikeli.py\", line 53, in run\n",
      "    logL = testL(cl_hat = cl_hat, cl_f = self.cl_f[2], cl_th = cl_th, Nf = self.Nf, M_inv = self.Cov_inv, sbin = sbin, ebin = ebin)\n",
      "  File \"/home/jianyao/anaconda3/lib/python3.7/site-packages/dynesty/dynesty.py\", line 939, in __call__\n",
      "    return self.func(x, *self.args, **self.kwargs)\n",
      "Traceback (most recent call last):\n"
     ]
    },
    {
     "name": "stdout",
     "output_type": "stream",
     "text": [
      "Exception while calling loglikelihood function:\n",
      "  params: [ 0.04891555 -0.42181666  1.71082432  0.80294243]\n",
      "  args: []\n"
     ]
    },
    {
     "name": "stderr",
     "output_type": "stream",
     "text": [
      "  File \"/home/jianyao/anaconda3/lib/python3.7/site-packages/dynesty/dynesty.py\", line 939, in __call__\n",
      "    return self.func(x, *self.args, **self.kwargs)\n",
      "  File \"/home/jianyao/anaconda3/lib/python3.7/site-packages/scipy/linalg/_matfuncs_sqrtm.py\", line 163, in sqrtm\n",
      "    A = _asarray_validated(A, check_finite=True, as_inexact=True)\n"
     ]
    },
    {
     "name": "stdout",
     "output_type": "stream",
     "text": [
      "  kwargs: {}\n",
      "  kwargs: {}\n",
      "  args: []\n"
     ]
    },
    {
     "name": "stderr",
     "output_type": "stream",
     "text": [
      "ValueError: array must not contain infs or NaNs\n",
      "  File \"/home/jianyao/anaconda3/lib/python3.7/site-packages/numpy/lib/function_base.py\", line 486, in asarray_chkfinite\n",
      "    \"array must not contain infs or NaNs\")\n"
     ]
    },
    {
     "name": "stdout",
     "output_type": "stream",
     "text": [
      "  params: [ 0.08241481 -1.25912633  1.70214801  0.02290629]\n"
     ]
    },
    {
     "name": "stderr",
     "output_type": "stream",
     "text": [
      "ValueError: array must not contain infs or NaNs\n"
     ]
    },
    {
     "name": "stdout",
     "output_type": "stream",
     "text": [
      "  kwargs: {}\n",
      "  params: [ 0.12018518 -1.54675902  2.39939436  0.66714542]\n",
      "Exception while calling loglikelihood function:\n"
     ]
    },
    {
     "name": "stderr",
     "output_type": "stream",
     "text": [
      "  File \"/home/jianyao/anaconda3/lib/python3.7/site-packages/dynesty/dynesty.py\", line 939, in __call__\n",
      "    return self.func(x, *self.args, **self.kwargs)\n",
      "  File \"/home/jianyao/anaconda3/lib/python3.7/site-packages/scipy/linalg/_matfuncs_sqrtm.py\", line 163, in sqrtm\n",
      "    A = _asarray_validated(A, check_finite=True, as_inexact=True)\n",
      "  File \"/home/jianyao/anaconda3/lib/python3.7/site-packages/scipy/linalg/_matfuncs_sqrtm.py\", line 163, in sqrtm\n",
      "    A = _asarray_validated(A, check_finite=True, as_inexact=True)\n",
      "ValueError: array must not contain infs or NaNs\n"
     ]
    },
    {
     "name": "stdout",
     "output_type": "stream",
     "text": [
      "  params: [ 0.16951859 -3.55513547  2.90807194  0.80403849]\n"
     ]
    },
    {
     "name": "stderr",
     "output_type": "stream",
     "text": [
      "  File \"/home/jianyao/anaconda3/lib/python3.7/site-packages/scipy/linalg/_matfuncs_sqrtm.py\", line 163, in sqrtm\n",
      "    A = _asarray_validated(A, check_finite=True, as_inexact=True)\n",
      "  File \"<ipython-input-308-26dcbcb00df7>\", line 34, in log_likelihood\n",
      "    logL =LogL.run(cl_hat=(cl_hat_fore_ali) , cl_th = C_l, likelihood='HL',sbin=sbin, ebin = ebin);\n",
      "  File \"/home/jianyao/anaconda3/lib/python3.7/site-packages/scipy/_lib/_util.py\", line 239, in _asarray_validated\n",
      "    a = toarray(a)\n"
     ]
    },
    {
     "name": "stdout",
     "output_type": "stream",
     "text": [
      "  exception:\n"
     ]
    },
    {
     "name": "stderr",
     "output_type": "stream",
     "text": [
      "Traceback (most recent call last):\n",
      "  File \"/home/jianyao/Likelihood/utils.py\", line 232, in testL\n",
      "    Xa = (calc_vecp_test(cl_hat, cl_f,cl_th, Nf = Nf))\n",
      "  File \"/home/jianyao/anaconda3/lib/python3.7/site-packages/dynesty/dynesty.py\", line 939, in __call__\n",
      "    return self.func(x, *self.args, **self.kwargs)\n",
      "  File \"<ipython-input-308-26dcbcb00df7>\", line 34, in log_likelihood\n",
      "    logL =LogL.run(cl_hat=(cl_hat_fore_ali) , cl_th = C_l, likelihood='HL',sbin=sbin, ebin = ebin);\n"
     ]
    },
    {
     "name": "stdout",
     "output_type": "stream",
     "text": [
      "  kwargs: {}\n",
      "  args: []\n"
     ]
    },
    {
     "name": "stderr",
     "output_type": "stream",
     "text": [
      "  File \"<ipython-input-308-26dcbcb00df7>\", line 34, in log_likelihood\n",
      "    logL =LogL.run(cl_hat=(cl_hat_fore_ali) , cl_th = C_l, likelihood='HL',sbin=sbin, ebin = ebin);\n"
     ]
    },
    {
     "name": "stdout",
     "output_type": "stream",
     "text": [
      "  exception:\n"
     ]
    },
    {
     "name": "stderr",
     "output_type": "stream",
     "text": [
      "  File \"/home/jianyao/anaconda3/lib/python3.7/site-packages/scipy/_lib/_util.py\", line 239, in _asarray_validated\n",
      "    a = toarray(a)\n"
     ]
    },
    {
     "name": "stdout",
     "output_type": "stream",
     "text": [
      "  params: [ 0.017209   -2.68300765  1.45748292  0.02573775]\n",
      "  kwargs: {}\n",
      "  args: []\n"
     ]
    },
    {
     "name": "stderr",
     "output_type": "stream",
     "text": [
      "ValueError: array must not contain infs or NaNs\n"
     ]
    },
    {
     "name": "stdout",
     "output_type": "stream",
     "text": [
      "  exception:\n",
      "Exception while calling loglikelihood function:\n",
      "  args: []\n",
      "Exception while calling loglikelihood function:\n",
      "  exception:\n"
     ]
    },
    {
     "name": "stderr",
     "output_type": "stream",
     "text": [
      "  File \"<ipython-input-308-26dcbcb00df7>\", line 34, in log_likelihood\n",
      "    logL =LogL.run(cl_hat=(cl_hat_fore_ali) , cl_th = C_l, likelihood='HL',sbin=sbin, ebin = ebin);\n"
     ]
    },
    {
     "name": "stdout",
     "output_type": "stream",
     "text": [
      "  params: [ 0.16822519 -2.53799429  1.26335227  0.74457629]\n"
     ]
    },
    {
     "name": "stderr",
     "output_type": "stream",
     "text": [
      "  File \"/home/jianyao/anaconda3/lib/python3.7/site-packages/scipy/_lib/_util.py\", line 239, in _asarray_validated\n",
      "    a = toarray(a)\n",
      "  File \"/home/jianyao/anaconda3/lib/python3.7/site-packages/scipy/_lib/_util.py\", line 239, in _asarray_validated\n",
      "    a = toarray(a)\n",
      "  File \"/home/jianyao/anaconda3/lib/python3.7/site-packages/scipy/_lib/_util.py\", line 239, in _asarray_validated\n",
      "    a = toarray(a)\n"
     ]
    },
    {
     "name": "stdout",
     "output_type": "stream",
     "text": [
      "  args: []\n"
     ]
    },
    {
     "name": "stderr",
     "output_type": "stream",
     "text": [
      "  File \"/home/jianyao/Likelihood/logLikeli.py\", line 53, in run\n",
      "    logL = testL(cl_hat = cl_hat, cl_f = self.cl_f[2], cl_th = cl_th, Nf = self.Nf, M_inv = self.Cov_inv, sbin = sbin, ebin = ebin)\n",
      "  File \"/home/jianyao/anaconda3/lib/python3.7/site-packages/numpy/lib/function_base.py\", line 486, in asarray_chkfinite\n",
      "    \"array must not contain infs or NaNs\")\n",
      "  File \"/home/jianyao/Likelihood/utils.py\", line 200, in calc_vecp_test\n",
      "    cl_inv_12= sqrtm(cl_inv)\n",
      "  File \"<ipython-input-308-26dcbcb00df7>\", line 34, in log_likelihood\n",
      "    logL =LogL.run(cl_hat=(cl_hat_fore_ali) , cl_th = C_l, likelihood='HL',sbin=sbin, ebin = ebin);\n",
      "  File \"/home/jianyao/Likelihood/logLikeli.py\", line 53, in run\n",
      "    logL = testL(cl_hat = cl_hat, cl_f = self.cl_f[2], cl_th = cl_th, Nf = self.Nf, M_inv = self.Cov_inv, sbin = sbin, ebin = ebin)\n"
     ]
    },
    {
     "name": "stdout",
     "output_type": "stream",
     "text": [
      "  exception:\n"
     ]
    },
    {
     "name": "stderr",
     "output_type": "stream",
     "text": [
      "Traceback (most recent call last):\n"
     ]
    },
    {
     "name": "stdout",
     "output_type": "stream",
     "text": [
      "  kwargs: {}\n"
     ]
    },
    {
     "name": "stderr",
     "output_type": "stream",
     "text": [
      "  File \"/home/jianyao/Likelihood/logLikeli.py\", line 53, in run\n",
      "    logL = testL(cl_hat = cl_hat, cl_f = self.cl_f[2], cl_th = cl_th, Nf = self.Nf, M_inv = self.Cov_inv, sbin = sbin, ebin = ebin)\n",
      "  File \"/home/jianyao/anaconda3/lib/python3.7/site-packages/numpy/lib/function_base.py\", line 486, in asarray_chkfinite\n",
      "    \"array must not contain infs or NaNs\")\n",
      "  File \"/home/jianyao/anaconda3/lib/python3.7/site-packages/dynesty/dynesty.py\", line 939, in __call__\n",
      "    return self.func(x, *self.args, **self.kwargs)\n"
     ]
    },
    {
     "name": "stdout",
     "output_type": "stream",
     "text": [
      "  exception:\n",
      "  args: []\n"
     ]
    },
    {
     "name": "stderr",
     "output_type": "stream",
     "text": [
      "Traceback (most recent call last):\n"
     ]
    },
    {
     "name": "stdout",
     "output_type": "stream",
     "text": [
      "  kwargs: {}\n",
      "  kwargs: {}\n"
     ]
    },
    {
     "name": "stderr",
     "output_type": "stream",
     "text": [
      "Traceback (most recent call last):\n",
      "  File \"/home/jianyao/Likelihood/logLikeli.py\", line 53, in run\n",
      "    logL = testL(cl_hat = cl_hat, cl_f = self.cl_f[2], cl_th = cl_th, Nf = self.Nf, M_inv = self.Cov_inv, sbin = sbin, ebin = ebin)\n"
     ]
    },
    {
     "name": "stdout",
     "output_type": "stream",
     "text": [
      "  params: [ 0.00770349 -1.0462893   1.45760415  0.46766128]\n"
     ]
    },
    {
     "name": "stderr",
     "output_type": "stream",
     "text": [
      "  File \"/home/jianyao/anaconda3/lib/python3.7/site-packages/numpy/lib/function_base.py\", line 486, in asarray_chkfinite\n",
      "    \"array must not contain infs or NaNs\")\n"
     ]
    },
    {
     "name": "stdout",
     "output_type": "stream",
     "text": [
      "  args: []\n",
      "  kwargs: {}\n"
     ]
    },
    {
     "name": "stderr",
     "output_type": "stream",
     "text": [
      "  File \"/home/jianyao/anaconda3/lib/python3.7/site-packages/numpy/lib/function_base.py\", line 486, in asarray_chkfinite\n",
      "    \"array must not contain infs or NaNs\")\n",
      "  File \"/home/jianyao/anaconda3/lib/python3.7/site-packages/numpy/lib/function_base.py\", line 486, in asarray_chkfinite\n",
      "    \"array must not contain infs or NaNs\")\n"
     ]
    },
    {
     "name": "stdout",
     "output_type": "stream",
     "text": [
      "Exception while calling loglikelihood function:\n"
     ]
    },
    {
     "name": "stderr",
     "output_type": "stream",
     "text": [
      "  File \"/home/jianyao/Likelihood/utils.py\", line 232, in testL\n",
      "    Xa = (calc_vecp_test(cl_hat, cl_f,cl_th, Nf = Nf))\n",
      "ValueError: array must not contain infs or NaNs\n",
      "  File \"/home/jianyao/anaconda3/lib/python3.7/site-packages/scipy/linalg/_matfuncs_sqrtm.py\", line 163, in sqrtm\n",
      "    A = _asarray_validated(A, check_finite=True, as_inexact=True)\n",
      "Traceback (most recent call last):\n"
     ]
    },
    {
     "name": "stdout",
     "output_type": "stream",
     "text": [
      "  params: [ 0.07318166 -2.37743528  2.80359239  0.84823979]\n"
     ]
    },
    {
     "name": "stderr",
     "output_type": "stream",
     "text": [
      "  File \"/home/jianyao/Likelihood/logLikeli.py\", line 53, in run\n",
      "    logL = testL(cl_hat = cl_hat, cl_f = self.cl_f[2], cl_th = cl_th, Nf = self.Nf, M_inv = self.Cov_inv, sbin = sbin, ebin = ebin)\n",
      "  File \"/home/jianyao/Likelihood/utils.py\", line 232, in testL\n",
      "    Xa = (calc_vecp_test(cl_hat, cl_f,cl_th, Nf = Nf))\n",
      "  File \"/home/jianyao/anaconda3/lib/python3.7/site-packages/dynesty/dynesty.py\", line 939, in __call__\n",
      "    return self.func(x, *self.args, **self.kwargs)\n",
      "ValueError: array must not contain infs or NaNs\n",
      "Traceback (most recent call last):\n"
     ]
    },
    {
     "name": "stdout",
     "output_type": "stream",
     "text": [
      "  exception:\n"
     ]
    },
    {
     "name": "stderr",
     "output_type": "stream",
     "text": [
      "  File \"/home/jianyao/Likelihood/utils.py\", line 232, in testL\n",
      "    Xa = (calc_vecp_test(cl_hat, cl_f,cl_th, Nf = Nf))\n",
      "  File \"<ipython-input-308-26dcbcb00df7>\", line 34, in log_likelihood\n",
      "    logL =LogL.run(cl_hat=(cl_hat_fore_ali) , cl_th = C_l, likelihood='HL',sbin=sbin, ebin = ebin);\n"
     ]
    },
    {
     "name": "stdout",
     "output_type": "stream",
     "text": [
      "Exception while calling loglikelihood function:\n",
      "  exception:\n"
     ]
    },
    {
     "name": "stderr",
     "output_type": "stream",
     "text": [
      "  File \"/home/jianyao/anaconda3/lib/python3.7/site-packages/dynesty/dynesty.py\", line 939, in __call__\n",
      "    return self.func(x, *self.args, **self.kwargs)\n"
     ]
    },
    {
     "name": "stdout",
     "output_type": "stream",
     "text": [
      "  kwargs: {}\n"
     ]
    },
    {
     "name": "stderr",
     "output_type": "stream",
     "text": [
      "  File \"/home/jianyao/Likelihood/utils.py\", line 232, in testL\n",
      "    Xa = (calc_vecp_test(cl_hat, cl_f,cl_th, Nf = Nf))\n"
     ]
    },
    {
     "name": "stdout",
     "output_type": "stream",
     "text": [
      "  args: []\n",
      "Exception while calling loglikelihood function:\n",
      "  exception:\n",
      "  exception:\n",
      "  kwargs: {}\n"
     ]
    },
    {
     "name": "stderr",
     "output_type": "stream",
     "text": [
      "ValueError: array must not contain infs or NaNs\n",
      "ValueError: array must not contain infs or NaNs\n"
     ]
    },
    {
     "name": "stdout",
     "output_type": "stream",
     "text": [
      "Exception while calling loglikelihood function:\n"
     ]
    },
    {
     "name": "stderr",
     "output_type": "stream",
     "text": [
      "ValueError: array must not contain infs or NaNs\n",
      "Traceback (most recent call last):\n",
      "  File \"/home/jianyao/Likelihood/utils.py\", line 200, in calc_vecp_test\n",
      "    cl_inv_12= sqrtm(cl_inv)\n",
      "  File \"/home/jianyao/anaconda3/lib/python3.7/site-packages/scipy/_lib/_util.py\", line 239, in _asarray_validated\n",
      "    a = toarray(a)\n"
     ]
    },
    {
     "name": "stdout",
     "output_type": "stream",
     "text": [
      "Exception while calling loglikelihood function:\n"
     ]
    },
    {
     "name": "stderr",
     "output_type": "stream",
     "text": [
      "  File \"/home/jianyao/anaconda3/lib/python3.7/site-packages/dynesty/dynesty.py\", line 939, in __call__\n",
      "    return self.func(x, *self.args, **self.kwargs)\n"
     ]
    },
    {
     "name": "stdout",
     "output_type": "stream",
     "text": [
      "  args: []\n"
     ]
    },
    {
     "name": "stderr",
     "output_type": "stream",
     "text": [
      "  File \"/home/jianyao/anaconda3/lib/python3.7/site-packages/dynesty/dynesty.py\", line 939, in __call__\n",
      "    return self.func(x, *self.args, **self.kwargs)\n",
      "  File \"/home/jianyao/Likelihood/utils.py\", line 232, in testL\n",
      "    Xa = (calc_vecp_test(cl_hat, cl_f,cl_th, Nf = Nf))\n",
      "  File \"/home/jianyao/Likelihood/utils.py\", line 200, in calc_vecp_test\n",
      "    cl_inv_12= sqrtm(cl_inv)\n",
      "  File \"<ipython-input-308-26dcbcb00df7>\", line 34, in log_likelihood\n",
      "    logL =LogL.run(cl_hat=(cl_hat_fore_ali) , cl_th = C_l, likelihood='HL',sbin=sbin, ebin = ebin);\n",
      "  File \"/home/jianyao/Likelihood/utils.py\", line 200, in calc_vecp_test\n",
      "    cl_inv_12= sqrtm(cl_inv)\n"
     ]
    },
    {
     "name": "stdout",
     "output_type": "stream",
     "text": [
      "  params: [ 0.16487635 -1.03291298  1.83006115  0.40605796]\n"
     ]
    },
    {
     "name": "stderr",
     "output_type": "stream",
     "text": [
      "  File \"/home/jianyao/anaconda3/lib/python3.7/site-packages/dynesty/dynesty.py\", line 939, in __call__\n",
      "    return self.func(x, *self.args, **self.kwargs)\n",
      "  File \"/home/jianyao/Likelihood/logLikeli.py\", line 53, in run\n",
      "    logL = testL(cl_hat = cl_hat, cl_f = self.cl_f[2], cl_th = cl_th, Nf = self.Nf, M_inv = self.Cov_inv, sbin = sbin, ebin = ebin)\n",
      "Traceback (most recent call last):\n"
     ]
    },
    {
     "name": "stdout",
     "output_type": "stream",
     "text": [
      "  exception:\n",
      "  params: [ 0.12993966 -2.92727964  2.24395     0.25904746]\n"
     ]
    },
    {
     "name": "stderr",
     "output_type": "stream",
     "text": [
      "  File \"<ipython-input-308-26dcbcb00df7>\", line 34, in log_likelihood\n",
      "    logL =LogL.run(cl_hat=(cl_hat_fore_ali) , cl_th = C_l, likelihood='HL',sbin=sbin, ebin = ebin);\n"
     ]
    },
    {
     "name": "stdout",
     "output_type": "stream",
     "text": [
      "  params: [ 0.13532608 -2.14973756  1.86886117  0.7231038 ]\n"
     ]
    },
    {
     "name": "stderr",
     "output_type": "stream",
     "text": [
      "Traceback (most recent call last):\n",
      "  File \"/home/jianyao/anaconda3/lib/python3.7/site-packages/dynesty/dynesty.py\", line 939, in __call__\n",
      "    return self.func(x, *self.args, **self.kwargs)\n"
     ]
    },
    {
     "name": "stdout",
     "output_type": "stream",
     "text": [
      "  exception:\n"
     ]
    },
    {
     "name": "stderr",
     "output_type": "stream",
     "text": [
      "Traceback (most recent call last):\n",
      "  File \"<ipython-input-308-26dcbcb00df7>\", line 34, in log_likelihood\n",
      "    logL =LogL.run(cl_hat=(cl_hat_fore_ali) , cl_th = C_l, likelihood='HL',sbin=sbin, ebin = ebin);\n",
      "  File \"/home/jianyao/Likelihood/utils.py\", line 200, in calc_vecp_test\n",
      "    cl_inv_12= sqrtm(cl_inv)\n",
      "  File \"/home/jianyao/anaconda3/lib/python3.7/site-packages/scipy/linalg/_matfuncs_sqrtm.py\", line 163, in sqrtm\n",
      "    A = _asarray_validated(A, check_finite=True, as_inexact=True)\n",
      "  File \"/home/jianyao/anaconda3/lib/python3.7/site-packages/numpy/lib/function_base.py\", line 486, in asarray_chkfinite\n",
      "    \"array must not contain infs or NaNs\")\n"
     ]
    },
    {
     "name": "stdout",
     "output_type": "stream",
     "text": [
      "  kwargs: {}\n"
     ]
    },
    {
     "name": "stderr",
     "output_type": "stream",
     "text": [
      "  File \"<ipython-input-308-26dcbcb00df7>\", line 34, in log_likelihood\n",
      "    logL =LogL.run(cl_hat=(cl_hat_fore_ali) , cl_th = C_l, likelihood='HL',sbin=sbin, ebin = ebin);\n",
      "Traceback (most recent call last):\n",
      "  File \"/home/jianyao/anaconda3/lib/python3.7/site-packages/scipy/linalg/_matfuncs_sqrtm.py\", line 163, in sqrtm\n",
      "    A = _asarray_validated(A, check_finite=True, as_inexact=True)\n",
      "  File \"/home/jianyao/Likelihood/utils.py\", line 200, in calc_vecp_test\n",
      "    cl_inv_12= sqrtm(cl_inv)\n",
      "  File \"/home/jianyao/anaconda3/lib/python3.7/site-packages/scipy/linalg/_matfuncs_sqrtm.py\", line 163, in sqrtm\n",
      "    A = _asarray_validated(A, check_finite=True, as_inexact=True)\n",
      "  File \"/home/jianyao/Likelihood/logLikeli.py\", line 53, in run\n",
      "    logL = testL(cl_hat = cl_hat, cl_f = self.cl_f[2], cl_th = cl_th, Nf = self.Nf, M_inv = self.Cov_inv, sbin = sbin, ebin = ebin)\n"
     ]
    },
    {
     "name": "stdout",
     "output_type": "stream",
     "text": [
      "  kwargs: {}\n",
      "  args: []\n"
     ]
    },
    {
     "name": "stderr",
     "output_type": "stream",
     "text": [
      "  File \"<ipython-input-308-26dcbcb00df7>\", line 34, in log_likelihood\n",
      "    logL =LogL.run(cl_hat=(cl_hat_fore_ali) , cl_th = C_l, likelihood='HL',sbin=sbin, ebin = ebin);\n"
     ]
    },
    {
     "name": "stdout",
     "output_type": "stream",
     "text": [
      "  params: [ 0.01446831 -1.72868771  2.83886681  0.60292141]\n",
      "  params: [ 0.06370589 -2.95574639  1.96201389  0.18038201]\n"
     ]
    },
    {
     "name": "stderr",
     "output_type": "stream",
     "text": [
      "  File \"/home/jianyao/Likelihood/utils.py\", line 232, in testL\n",
      "    Xa = (calc_vecp_test(cl_hat, cl_f,cl_th, Nf = Nf))\n",
      "  File \"/home/jianyao/anaconda3/lib/python3.7/site-packages/dynesty/dynesty.py\", line 939, in __call__\n",
      "    return self.func(x, *self.args, **self.kwargs)\n"
     ]
    },
    {
     "name": "stdout",
     "output_type": "stream",
     "text": [
      "  args: []\n",
      "Exception while calling loglikelihood function:\n",
      "  args: []\n"
     ]
    },
    {
     "name": "stderr",
     "output_type": "stream",
     "text": [
      "  File \"/home/jianyao/Likelihood/logLikeli.py\", line 53, in run\n",
      "    logL = testL(cl_hat = cl_hat, cl_f = self.cl_f[2], cl_th = cl_th, Nf = self.Nf, M_inv = self.Cov_inv, sbin = sbin, ebin = ebin)\n",
      "Traceback (most recent call last):\n",
      "  File \"/home/jianyao/anaconda3/lib/python3.7/site-packages/dynesty/dynesty.py\", line 939, in __call__\n",
      "    return self.func(x, *self.args, **self.kwargs)\n",
      "  File \"/home/jianyao/anaconda3/lib/python3.7/site-packages/dynesty/dynesty.py\", line 939, in __call__\n",
      "    return self.func(x, *self.args, **self.kwargs)\n",
      "  File \"<ipython-input-308-26dcbcb00df7>\", line 34, in log_likelihood\n",
      "    logL =LogL.run(cl_hat=(cl_hat_fore_ali) , cl_th = C_l, likelihood='HL',sbin=sbin, ebin = ebin);\n"
     ]
    },
    {
     "name": "stdout",
     "output_type": "stream",
     "text": [
      "Exception while calling loglikelihood function:\n"
     ]
    },
    {
     "name": "stderr",
     "output_type": "stream",
     "text": [
      "  File \"/home/jianyao/Likelihood/logLikeli.py\", line 53, in run\n",
      "    logL = testL(cl_hat = cl_hat, cl_f = self.cl_f[2], cl_th = cl_th, Nf = self.Nf, M_inv = self.Cov_inv, sbin = sbin, ebin = ebin)\n",
      "Traceback (most recent call last):\n",
      "  File \"/home/jianyao/anaconda3/lib/python3.7/site-packages/scipy/linalg/_matfuncs_sqrtm.py\", line 163, in sqrtm\n",
      "    A = _asarray_validated(A, check_finite=True, as_inexact=True)\n",
      "ValueError: array must not contain infs or NaNs\n"
     ]
    },
    {
     "name": "stdout",
     "output_type": "stream",
     "text": [
      "  exception:\n"
     ]
    },
    {
     "name": "stderr",
     "output_type": "stream",
     "text": [
      "  File \"/home/jianyao/anaconda3/lib/python3.7/site-packages/scipy/_lib/_util.py\", line 239, in _asarray_validated\n",
      "    a = toarray(a)\n",
      "  File \"/home/jianyao/Likelihood/logLikeli.py\", line 53, in run\n",
      "    logL = testL(cl_hat = cl_hat, cl_f = self.cl_f[2], cl_th = cl_th, Nf = self.Nf, M_inv = self.Cov_inv, sbin = sbin, ebin = ebin)\n",
      "  File \"/home/jianyao/anaconda3/lib/python3.7/site-packages/dynesty/dynesty.py\", line 939, in __call__\n",
      "    return self.func(x, *self.args, **self.kwargs)\n",
      "  File \"/home/jianyao/anaconda3/lib/python3.7/site-packages/scipy/_lib/_util.py\", line 239, in _asarray_validated\n",
      "    a = toarray(a)\n",
      "  File \"/home/jianyao/anaconda3/lib/python3.7/site-packages/scipy/linalg/_matfuncs_sqrtm.py\", line 163, in sqrtm\n",
      "    A = _asarray_validated(A, check_finite=True, as_inexact=True)\n",
      "  File \"/home/jianyao/anaconda3/lib/python3.7/site-packages/scipy/_lib/_util.py\", line 239, in _asarray_validated\n",
      "    a = toarray(a)\n",
      "  File \"/home/jianyao/Likelihood/utils.py\", line 232, in testL\n",
      "    Xa = (calc_vecp_test(cl_hat, cl_f,cl_th, Nf = Nf))\n"
     ]
    },
    {
     "name": "stdout",
     "output_type": "stream",
     "text": [
      "  exception:\n",
      "Exception while calling loglikelihood function:\n",
      "  kwargs: {}\n"
     ]
    },
    {
     "name": "stderr",
     "output_type": "stream",
     "text": [
      "  File \"/home/jianyao/Likelihood/logLikeli.py\", line 53, in run\n",
      "    logL = testL(cl_hat = cl_hat, cl_f = self.cl_f[2], cl_th = cl_th, Nf = self.Nf, M_inv = self.Cov_inv, sbin = sbin, ebin = ebin)\n"
     ]
    },
    {
     "name": "stdout",
     "output_type": "stream",
     "text": [
      "Exception while calling loglikelihood function:\n",
      "  args: []\n",
      "Exception while calling loglikelihood function:\n",
      "  args: []\n"
     ]
    },
    {
     "name": "stderr",
     "output_type": "stream",
     "text": [
      "  File \"<ipython-input-308-26dcbcb00df7>\", line 34, in log_likelihood\n",
      "    logL =LogL.run(cl_hat=(cl_hat_fore_ali) , cl_th = C_l, likelihood='HL',sbin=sbin, ebin = ebin);\n",
      "  File \"/home/jianyao/Likelihood/utils.py\", line 200, in calc_vecp_test\n",
      "    cl_inv_12= sqrtm(cl_inv)\n"
     ]
    },
    {
     "name": "stdout",
     "output_type": "stream",
     "text": [
      "  kwargs: {}\n",
      "  kwargs: {}\n",
      "  params: [ 0.17594918 -0.29507443  2.15162155  0.16441103]\n"
     ]
    },
    {
     "name": "stderr",
     "output_type": "stream",
     "text": [
      "  File \"/home/jianyao/Likelihood/utils.py\", line 200, in calc_vecp_test\n",
      "    cl_inv_12= sqrtm(cl_inv)\n",
      "  File \"/home/jianyao/anaconda3/lib/python3.7/site-packages/dynesty/dynesty.py\", line 939, in __call__\n",
      "    return self.func(x, *self.args, **self.kwargs)\n",
      "  File \"/home/jianyao/Likelihood/utils.py\", line 232, in testL\n",
      "    Xa = (calc_vecp_test(cl_hat, cl_f,cl_th, Nf = Nf))\n",
      "  File \"/home/jianyao/Likelihood/utils.py\", line 200, in calc_vecp_test\n",
      "    cl_inv_12= sqrtm(cl_inv)\n",
      "Traceback (most recent call last):\n",
      "  File \"/home/jianyao/Likelihood/utils.py\", line 232, in testL\n",
      "    Xa = (calc_vecp_test(cl_hat, cl_f,cl_th, Nf = Nf))\n",
      "  File \"<ipython-input-308-26dcbcb00df7>\", line 34, in log_likelihood\n",
      "    logL =LogL.run(cl_hat=(cl_hat_fore_ali) , cl_th = C_l, likelihood='HL',sbin=sbin, ebin = ebin);\n",
      "  File \"/home/jianyao/anaconda3/lib/python3.7/site-packages/dynesty/dynesty.py\", line 939, in __call__\n",
      "    return self.func(x, *self.args, **self.kwargs)\n"
     ]
    },
    {
     "name": "stdout",
     "output_type": "stream",
     "text": [
      "  kwargs: {}\n",
      "  exception:\n"
     ]
    },
    {
     "name": "stderr",
     "output_type": "stream",
     "text": [
      "  File \"<ipython-input-308-26dcbcb00df7>\", line 34, in log_likelihood\n",
      "    logL =LogL.run(cl_hat=(cl_hat_fore_ali) , cl_th = C_l, likelihood='HL',sbin=sbin, ebin = ebin);\n",
      "  File \"/home/jianyao/anaconda3/lib/python3.7/site-packages/numpy/lib/function_base.py\", line 486, in asarray_chkfinite\n",
      "    \"array must not contain infs or NaNs\")\n"
     ]
    },
    {
     "name": "stdout",
     "output_type": "stream",
     "text": [
      "  kwargs: {}\n",
      "  kwargs: {}\n"
     ]
    },
    {
     "name": "stderr",
     "output_type": "stream",
     "text": [
      "  File \"<ipython-input-308-26dcbcb00df7>\", line 34, in log_likelihood\n",
      "    logL =LogL.run(cl_hat=(cl_hat_fore_ali) , cl_th = C_l, likelihood='HL',sbin=sbin, ebin = ebin);\n",
      "  File \"/home/jianyao/Likelihood/utils.py\", line 200, in calc_vecp_test\n",
      "    cl_inv_12= sqrtm(cl_inv)\n",
      "  File \"/home/jianyao/anaconda3/lib/python3.7/site-packages/numpy/lib/function_base.py\", line 486, in asarray_chkfinite\n",
      "    \"array must not contain infs or NaNs\")\n",
      "  File \"<ipython-input-308-26dcbcb00df7>\", line 34, in log_likelihood\n",
      "    logL =LogL.run(cl_hat=(cl_hat_fore_ali) , cl_th = C_l, likelihood='HL',sbin=sbin, ebin = ebin);\n",
      "  File \"/home/jianyao/anaconda3/lib/python3.7/site-packages/scipy/_lib/_util.py\", line 239, in _asarray_validated\n",
      "    a = toarray(a)\n",
      "ValueError: array must not contain infs or NaNs\n"
     ]
    },
    {
     "name": "stdout",
     "output_type": "stream",
     "text": [
      "  params: [ 0.19822108 -3.2525018   1.08728817  0.68846275]\n"
     ]
    },
    {
     "name": "stderr",
     "output_type": "stream",
     "text": [
      "  File \"/home/jianyao/Likelihood/utils.py\", line 200, in calc_vecp_test\n",
      "    cl_inv_12= sqrtm(cl_inv)\n"
     ]
    },
    {
     "name": "stdout",
     "output_type": "stream",
     "text": [
      "  exception:\n"
     ]
    },
    {
     "name": "stderr",
     "output_type": "stream",
     "text": [
      "  File \"/home/jianyao/anaconda3/lib/python3.7/site-packages/scipy/linalg/_matfuncs_sqrtm.py\", line 163, in sqrtm\n",
      "    A = _asarray_validated(A, check_finite=True, as_inexact=True)\n",
      "  File \"/home/jianyao/anaconda3/lib/python3.7/site-packages/numpy/lib/function_base.py\", line 486, in asarray_chkfinite\n",
      "    \"array must not contain infs or NaNs\")\n",
      "  File \"/home/jianyao/anaconda3/lib/python3.7/site-packages/numpy/lib/function_base.py\", line 486, in asarray_chkfinite\n",
      "    \"array must not contain infs or NaNs\")\n",
      "  File \"/home/jianyao/Likelihood/utils.py\", line 200, in calc_vecp_test\n",
      "    cl_inv_12= sqrtm(cl_inv)\n",
      "  File \"/home/jianyao/anaconda3/lib/python3.7/site-packages/scipy/linalg/_matfuncs_sqrtm.py\", line 163, in sqrtm\n",
      "    A = _asarray_validated(A, check_finite=True, as_inexact=True)\n",
      "  File \"<ipython-input-308-26dcbcb00df7>\", line 34, in log_likelihood\n",
      "    logL =LogL.run(cl_hat=(cl_hat_fore_ali) , cl_th = C_l, likelihood='HL',sbin=sbin, ebin = ebin);\n",
      "  File \"<ipython-input-308-26dcbcb00df7>\", line 34, in log_likelihood\n",
      "    logL =LogL.run(cl_hat=(cl_hat_fore_ali) , cl_th = C_l, likelihood='HL',sbin=sbin, ebin = ebin);\n",
      "  File \"/home/jianyao/Likelihood/utils.py\", line 232, in testL\n",
      "    Xa = (calc_vecp_test(cl_hat, cl_f,cl_th, Nf = Nf))\n",
      "  File \"/home/jianyao/anaconda3/lib/python3.7/site-packages/dynesty/dynesty.py\", line 939, in __call__\n",
      "    return self.func(x, *self.args, **self.kwargs)\n",
      "  File \"/home/jianyao/Likelihood/utils.py\", line 200, in calc_vecp_test\n",
      "    cl_inv_12= sqrtm(cl_inv)\n",
      "  File \"/home/jianyao/anaconda3/lib/python3.7/site-packages/scipy/linalg/_matfuncs_sqrtm.py\", line 163, in sqrtm\n",
      "    A = _asarray_validated(A, check_finite=True, as_inexact=True)\n",
      "  File \"/home/jianyao/Likelihood/logLikeli.py\", line 53, in run\n",
      "    logL = testL(cl_hat = cl_hat, cl_f = self.cl_f[2], cl_th = cl_th, Nf = self.Nf, M_inv = self.Cov_inv, sbin = sbin, ebin = ebin)\n"
     ]
    },
    {
     "name": "stdout",
     "output_type": "stream",
     "text": [
      "Exception while calling loglikelihood function:\n",
      "Exception while calling loglikelihood function:\n",
      "  exception:\n"
     ]
    },
    {
     "name": "stderr",
     "output_type": "stream",
     "text": [
      "  File \"/home/jianyao/Likelihood/logLikeli.py\", line 53, in run\n",
      "    logL = testL(cl_hat = cl_hat, cl_f = self.cl_f[2], cl_th = cl_th, Nf = self.Nf, M_inv = self.Cov_inv, sbin = sbin, ebin = ebin)\n",
      "Traceback (most recent call last):\n"
     ]
    },
    {
     "name": "stdout",
     "output_type": "stream",
     "text": [
      "Exception while calling loglikelihood function:\n"
     ]
    },
    {
     "name": "stderr",
     "output_type": "stream",
     "text": [
      "ValueError: array must not contain infs or NaNs\n"
     ]
    },
    {
     "name": "stdout",
     "output_type": "stream",
     "text": [
      "  exception:\n",
      "  exception:\n"
     ]
    },
    {
     "name": "stderr",
     "output_type": "stream",
     "text": [
      "  File \"/home/jianyao/Likelihood/logLikeli.py\", line 53, in run\n",
      "    logL = testL(cl_hat = cl_hat, cl_f = self.cl_f[2], cl_th = cl_th, Nf = self.Nf, M_inv = self.Cov_inv, sbin = sbin, ebin = ebin)\n"
     ]
    },
    {
     "name": "stdout",
     "output_type": "stream",
     "text": [
      "Exception while calling loglikelihood function:\n"
     ]
    },
    {
     "name": "stderr",
     "output_type": "stream",
     "text": [
      "  File \"/home/jianyao/anaconda3/lib/python3.7/site-packages/scipy/linalg/_matfuncs_sqrtm.py\", line 163, in sqrtm\n",
      "    A = _asarray_validated(A, check_finite=True, as_inexact=True)\n",
      "ValueError: array must not contain infs or NaNs\n",
      "  File \"/home/jianyao/anaconda3/lib/python3.7/site-packages/numpy/lib/function_base.py\", line 486, in asarray_chkfinite\n",
      "    \"array must not contain infs or NaNs\")\n"
     ]
    },
    {
     "name": "stdout",
     "output_type": "stream",
     "text": [
      "  args: []\n"
     ]
    },
    {
     "name": "stderr",
     "output_type": "stream",
     "text": [
      "  File \"/home/jianyao/Likelihood/logLikeli.py\", line 53, in run\n",
      "    logL = testL(cl_hat = cl_hat, cl_f = self.cl_f[2], cl_th = cl_th, Nf = self.Nf, M_inv = self.Cov_inv, sbin = sbin, ebin = ebin)\n",
      "  File \"/home/jianyao/anaconda3/lib/python3.7/site-packages/scipy/linalg/_matfuncs_sqrtm.py\", line 163, in sqrtm\n",
      "    A = _asarray_validated(A, check_finite=True, as_inexact=True)\n",
      "  File \"/home/jianyao/anaconda3/lib/python3.7/site-packages/scipy/_lib/_util.py\", line 239, in _asarray_validated\n",
      "    a = toarray(a)\n",
      "ValueError: array must not contain infs or NaNs\n",
      "Traceback (most recent call last):\n",
      "ValueError: array must not contain infs or NaNs\n",
      "  File \"/home/jianyao/anaconda3/lib/python3.7/site-packages/scipy/_lib/_util.py\", line 239, in _asarray_validated\n",
      "    a = toarray(a)\n",
      "  File \"/home/jianyao/Likelihood/utils.py\", line 200, in calc_vecp_test\n",
      "    cl_inv_12= sqrtm(cl_inv)\n",
      "  File \"/home/jianyao/Likelihood/logLikeli.py\", line 53, in run\n",
      "    logL = testL(cl_hat = cl_hat, cl_f = self.cl_f[2], cl_th = cl_th, Nf = self.Nf, M_inv = self.Cov_inv, sbin = sbin, ebin = ebin)\n",
      "  File \"/home/jianyao/Likelihood/logLikeli.py\", line 53, in run\n",
      "    logL = testL(cl_hat = cl_hat, cl_f = self.cl_f[2], cl_th = cl_th, Nf = self.Nf, M_inv = self.Cov_inv, sbin = sbin, ebin = ebin)\n",
      "  File \"/home/jianyao/anaconda3/lib/python3.7/site-packages/scipy/linalg/_matfuncs_sqrtm.py\", line 163, in sqrtm\n",
      "    A = _asarray_validated(A, check_finite=True, as_inexact=True)\n",
      "  File \"/home/jianyao/Likelihood/utils.py\", line 232, in testL\n",
      "    Xa = (calc_vecp_test(cl_hat, cl_f,cl_th, Nf = Nf))\n"
     ]
    },
    {
     "name": "stdout",
     "output_type": "stream",
     "text": [
      "  params: [ 0.04653475 -2.63015257  1.40135814  0.03443493]\n"
     ]
    },
    {
     "name": "stderr",
     "output_type": "stream",
     "text": [
      "  File \"<ipython-input-308-26dcbcb00df7>\", line 34, in log_likelihood\n",
      "    logL =LogL.run(cl_hat=(cl_hat_fore_ali) , cl_th = C_l, likelihood='HL',sbin=sbin, ebin = ebin);\n",
      "  File \"/home/jianyao/anaconda3/lib/python3.7/site-packages/scipy/_lib/_util.py\", line 239, in _asarray_validated\n",
      "    a = toarray(a)\n",
      "  File \"/home/jianyao/anaconda3/lib/python3.7/site-packages/scipy/linalg/_matfuncs_sqrtm.py\", line 163, in sqrtm\n",
      "    A = _asarray_validated(A, check_finite=True, as_inexact=True)\n"
     ]
    },
    {
     "name": "stdout",
     "output_type": "stream",
     "text": [
      "  params: [ 0.00171238 -0.73093256  1.38702216  0.17594568]\n"
     ]
    },
    {
     "name": "stderr",
     "output_type": "stream",
     "text": [
      "  File \"/home/jianyao/Likelihood/utils.py\", line 232, in testL\n",
      "    Xa = (calc_vecp_test(cl_hat, cl_f,cl_th, Nf = Nf))\n",
      "Traceback (most recent call last):\n",
      "  File \"/home/jianyao/Likelihood/utils.py\", line 232, in testL\n",
      "    Xa = (calc_vecp_test(cl_hat, cl_f,cl_th, Nf = Nf))\n"
     ]
    },
    {
     "name": "stdout",
     "output_type": "stream",
     "text": [
      "  params: [ 0.07143783 -0.02986136  2.63403912  0.74390405]\n"
     ]
    },
    {
     "name": "stderr",
     "output_type": "stream",
     "text": [
      "Traceback (most recent call last):\n",
      "Traceback (most recent call last):\n",
      "  File \"/home/jianyao/anaconda3/lib/python3.7/site-packages/dynesty/dynesty.py\", line 939, in __call__\n",
      "    return self.func(x, *self.args, **self.kwargs)\n"
     ]
    },
    {
     "name": "stdout",
     "output_type": "stream",
     "text": [
      "  params: [ 0.0913929  -2.14360124  2.93625079  0.76166434]\n"
     ]
    },
    {
     "name": "stderr",
     "output_type": "stream",
     "text": [
      "ValueError: array must not contain infs or NaNs\n",
      "  File \"/home/jianyao/anaconda3/lib/python3.7/site-packages/dynesty/dynesty.py\", line 939, in __call__\n",
      "    return self.func(x, *self.args, **self.kwargs)\n",
      "  File \"/home/jianyao/anaconda3/lib/python3.7/site-packages/numpy/lib/function_base.py\", line 486, in asarray_chkfinite\n",
      "    \"array must not contain infs or NaNs\")\n"
     ]
    },
    {
     "name": "stdout",
     "output_type": "stream",
     "text": [
      "Exception while calling loglikelihood function:\n"
     ]
    },
    {
     "name": "stderr",
     "output_type": "stream",
     "text": [
      "  File \"/home/jianyao/Likelihood/utils.py\", line 232, in testL\n",
      "    Xa = (calc_vecp_test(cl_hat, cl_f,cl_th, Nf = Nf))\n"
     ]
    },
    {
     "name": "stdout",
     "output_type": "stream",
     "text": [
      "  kwargs: {}\n"
     ]
    },
    {
     "name": "stderr",
     "output_type": "stream",
     "text": [
      "  File \"/home/jianyao/anaconda3/lib/python3.7/site-packages/scipy/_lib/_util.py\", line 239, in _asarray_validated\n",
      "    a = toarray(a)\n",
      "  File \"/home/jianyao/anaconda3/lib/python3.7/site-packages/scipy/_lib/_util.py\", line 239, in _asarray_validated\n",
      "    a = toarray(a)\n",
      "  File \"/home/jianyao/anaconda3/lib/python3.7/site-packages/scipy/linalg/_matfuncs_sqrtm.py\", line 163, in sqrtm\n",
      "    A = _asarray_validated(A, check_finite=True, as_inexact=True)\n",
      "  File \"/home/jianyao/anaconda3/lib/python3.7/site-packages/scipy/_lib/_util.py\", line 239, in _asarray_validated\n",
      "    a = toarray(a)\n",
      "  File \"/home/jianyao/Likelihood/utils.py\", line 232, in testL\n",
      "    Xa = (calc_vecp_test(cl_hat, cl_f,cl_th, Nf = Nf))\n",
      "  File \"/home/jianyao/anaconda3/lib/python3.7/site-packages/scipy/_lib/_util.py\", line 239, in _asarray_validated\n",
      "    a = toarray(a)\n",
      "  File \"/home/jianyao/anaconda3/lib/python3.7/site-packages/numpy/lib/function_base.py\", line 486, in asarray_chkfinite\n",
      "    \"array must not contain infs or NaNs\")\n",
      "  File \"/home/jianyao/Likelihood/utils.py\", line 232, in testL\n",
      "    Xa = (calc_vecp_test(cl_hat, cl_f,cl_th, Nf = Nf))\n",
      "  File \"/home/jianyao/Likelihood/logLikeli.py\", line 53, in run\n",
      "    logL = testL(cl_hat = cl_hat, cl_f = self.cl_f[2], cl_th = cl_th, Nf = self.Nf, M_inv = self.Cov_inv, sbin = sbin, ebin = ebin)\n",
      "  File \"/home/jianyao/anaconda3/lib/python3.7/site-packages/numpy/lib/function_base.py\", line 486, in asarray_chkfinite\n",
      "    \"array must not contain infs or NaNs\")\n",
      "  File \"/home/jianyao/Likelihood/utils.py\", line 200, in calc_vecp_test\n",
      "    cl_inv_12= sqrtm(cl_inv)\n"
     ]
    },
    {
     "name": "stdout",
     "output_type": "stream",
     "text": [
      "  args: []\n"
     ]
    },
    {
     "name": "stderr",
     "output_type": "stream",
     "text": [
      "  File \"/home/jianyao/Likelihood/utils.py\", line 200, in calc_vecp_test\n",
      "    cl_inv_12= sqrtm(cl_inv)\n",
      "  File \"/home/jianyao/anaconda3/lib/python3.7/site-packages/dynesty/dynesty.py\", line 939, in __call__\n",
      "    return self.func(x, *self.args, **self.kwargs)\n",
      "  File \"<ipython-input-308-26dcbcb00df7>\", line 34, in log_likelihood\n",
      "    logL =LogL.run(cl_hat=(cl_hat_fore_ali) , cl_th = C_l, likelihood='HL',sbin=sbin, ebin = ebin);\n"
     ]
    },
    {
     "name": "stdout",
     "output_type": "stream",
     "text": [
      "Exception while calling loglikelihood function:\n"
     ]
    },
    {
     "name": "stderr",
     "output_type": "stream",
     "text": [
      "  File \"/home/jianyao/Likelihood/utils.py\", line 200, in calc_vecp_test\n",
      "    cl_inv_12= sqrtm(cl_inv)\n",
      "  File \"/home/jianyao/anaconda3/lib/python3.7/site-packages/dynesty/dynesty.py\", line 939, in __call__\n",
      "    return self.func(x, *self.args, **self.kwargs)\n"
     ]
    },
    {
     "name": "stdout",
     "output_type": "stream",
     "text": [
      "  args: []\n"
     ]
    },
    {
     "name": "stderr",
     "output_type": "stream",
     "text": [
      "  File \"/home/jianyao/anaconda3/lib/python3.7/site-packages/dynesty/dynesty.py\", line 939, in __call__\n",
      "    return self.func(x, *self.args, **self.kwargs)\n"
     ]
    },
    {
     "name": "stdout",
     "output_type": "stream",
     "text": [
      "  args: []\n",
      "  args: []\n",
      "  exception:\n"
     ]
    },
    {
     "name": "stderr",
     "output_type": "stream",
     "text": [
      "  File \"/home/jianyao/Likelihood/utils.py\", line 200, in calc_vecp_test\n",
      "    cl_inv_12= sqrtm(cl_inv)\n"
     ]
    },
    {
     "name": "stdout",
     "output_type": "stream",
     "text": [
      "  params: [ 0.08362784 -2.30803616  2.782189    0.36724107]\n"
     ]
    },
    {
     "name": "stderr",
     "output_type": "stream",
     "text": [
      "  File \"/home/jianyao/anaconda3/lib/python3.7/site-packages/numpy/lib/function_base.py\", line 486, in asarray_chkfinite\n",
      "    \"array must not contain infs or NaNs\")\n",
      "  File \"/home/jianyao/anaconda3/lib/python3.7/site-packages/numpy/lib/function_base.py\", line 486, in asarray_chkfinite\n",
      "    \"array must not contain infs or NaNs\")\n",
      "ValueError: array must not contain infs or NaNs\n",
      "ValueError: array must not contain infs or NaNs\n",
      "  File \"<ipython-input-308-26dcbcb00df7>\", line 34, in log_likelihood\n",
      "    logL =LogL.run(cl_hat=(cl_hat_fore_ali) , cl_th = C_l, likelihood='HL',sbin=sbin, ebin = ebin);\n",
      "  File \"/home/jianyao/anaconda3/lib/python3.7/site-packages/scipy/_lib/_util.py\", line 239, in _asarray_validated\n",
      "    a = toarray(a)\n",
      "  File \"/home/jianyao/anaconda3/lib/python3.7/site-packages/numpy/lib/function_base.py\", line 486, in asarray_chkfinite\n",
      "    \"array must not contain infs or NaNs\")\n",
      "  File \"/home/jianyao/Likelihood/utils.py\", line 200, in calc_vecp_test\n",
      "    cl_inv_12= sqrtm(cl_inv)\n",
      "  File \"/home/jianyao/anaconda3/lib/python3.7/site-packages/numpy/lib/function_base.py\", line 486, in asarray_chkfinite\n",
      "    \"array must not contain infs or NaNs\")\n",
      "  File \"/home/jianyao/Likelihood/utils.py\", line 200, in calc_vecp_test\n",
      "    cl_inv_12= sqrtm(cl_inv)\n",
      "  File \"/home/jianyao/Likelihood/utils.py\", line 232, in testL\n",
      "    Xa = (calc_vecp_test(cl_hat, cl_f,cl_th, Nf = Nf))\n",
      "  File \"/home/jianyao/anaconda3/lib/python3.7/site-packages/scipy/linalg/_matfuncs_sqrtm.py\", line 163, in sqrtm\n",
      "    A = _asarray_validated(A, check_finite=True, as_inexact=True)\n",
      "ValueError: array must not contain infs or NaNs\n"
     ]
    },
    {
     "name": "stdout",
     "output_type": "stream",
     "text": [
      "  kwargs: {}\n"
     ]
    },
    {
     "name": "stderr",
     "output_type": "stream",
     "text": [
      "  File \"/home/jianyao/anaconda3/lib/python3.7/site-packages/scipy/linalg/_matfuncs_sqrtm.py\", line 163, in sqrtm\n",
      "    A = _asarray_validated(A, check_finite=True, as_inexact=True)\n",
      "  File \"<ipython-input-308-26dcbcb00df7>\", line 34, in log_likelihood\n",
      "    logL =LogL.run(cl_hat=(cl_hat_fore_ali) , cl_th = C_l, likelihood='HL',sbin=sbin, ebin = ebin);\n",
      "  File \"/home/jianyao/Likelihood/logLikeli.py\", line 53, in run\n",
      "    logL = testL(cl_hat = cl_hat, cl_f = self.cl_f[2], cl_th = cl_th, Nf = self.Nf, M_inv = self.Cov_inv, sbin = sbin, ebin = ebin)\n",
      "  File \"/home/jianyao/anaconda3/lib/python3.7/site-packages/scipy/linalg/_matfuncs_sqrtm.py\", line 163, in sqrtm\n",
      "    A = _asarray_validated(A, check_finite=True, as_inexact=True)\n",
      "  File \"<ipython-input-308-26dcbcb00df7>\", line 34, in log_likelihood\n",
      "    logL =LogL.run(cl_hat=(cl_hat_fore_ali) , cl_th = C_l, likelihood='HL',sbin=sbin, ebin = ebin);\n",
      "  File \"<ipython-input-308-26dcbcb00df7>\", line 34, in log_likelihood\n",
      "    logL =LogL.run(cl_hat=(cl_hat_fore_ali) , cl_th = C_l, likelihood='HL',sbin=sbin, ebin = ebin);\n"
     ]
    },
    {
     "name": "stdout",
     "output_type": "stream",
     "text": [
      "  params: [ 0.01867534 -2.78482478  1.38290645  0.24178001]\n",
      "  kwargs: {}\n",
      "Exception while calling loglikelihood function:\n",
      "  kwargs: {}\n",
      "  kwargs: {}\n"
     ]
    },
    {
     "name": "stderr",
     "output_type": "stream",
     "text": [
      "  File \"/home/jianyao/anaconda3/lib/python3.7/site-packages/scipy/linalg/_matfuncs_sqrtm.py\", line 163, in sqrtm\n",
      "    A = _asarray_validated(A, check_finite=True, as_inexact=True)\n"
     ]
    },
    {
     "name": "stdout",
     "output_type": "stream",
     "text": [
      "  args: []\n"
     ]
    },
    {
     "name": "stderr",
     "output_type": "stream",
     "text": [
      "ValueError: array must not contain infs or NaNs\n",
      "Traceback (most recent call last):\n"
     ]
    },
    {
     "name": "stdout",
     "output_type": "stream",
     "text": [
      "Exception while calling loglikelihood function:\n"
     ]
    },
    {
     "name": "stderr",
     "output_type": "stream",
     "text": [
      "ValueError: array must not contain infs or NaNs\n",
      "  File \"/home/jianyao/Likelihood/logLikeli.py\", line 53, in run\n",
      "    logL = testL(cl_hat = cl_hat, cl_f = self.cl_f[2], cl_th = cl_th, Nf = self.Nf, M_inv = self.Cov_inv, sbin = sbin, ebin = ebin)\n",
      "  File \"/home/jianyao/anaconda3/lib/python3.7/site-packages/numpy/lib/function_base.py\", line 486, in asarray_chkfinite\n",
      "    \"array must not contain infs or NaNs\")\n"
     ]
    },
    {
     "name": "stdout",
     "output_type": "stream",
     "text": [
      "Exception while calling loglikelihood function:\n"
     ]
    },
    {
     "name": "stderr",
     "output_type": "stream",
     "text": [
      "  File \"/home/jianyao/anaconda3/lib/python3.7/site-packages/scipy/linalg/_matfuncs_sqrtm.py\", line 163, in sqrtm\n",
      "    A = _asarray_validated(A, check_finite=True, as_inexact=True)\n",
      "ValueError: array must not contain infs or NaNs\n"
     ]
    },
    {
     "name": "stdout",
     "output_type": "stream",
     "text": [
      "Exception while calling loglikelihood function:\n"
     ]
    },
    {
     "name": "stderr",
     "output_type": "stream",
     "text": [
      "ValueError: array must not contain infs or NaNs\n",
      "  File \"/home/jianyao/anaconda3/lib/python3.7/site-packages/scipy/linalg/_matfuncs_sqrtm.py\", line 163, in sqrtm\n",
      "    A = _asarray_validated(A, check_finite=True, as_inexact=True)\n",
      "  File \"/home/jianyao/anaconda3/lib/python3.7/site-packages/scipy/_lib/_util.py\", line 239, in _asarray_validated\n",
      "    a = toarray(a)\n",
      "  File \"/home/jianyao/Likelihood/utils.py\", line 200, in calc_vecp_test\n",
      "    cl_inv_12= sqrtm(cl_inv)\n",
      "  File \"/home/jianyao/anaconda3/lib/python3.7/site-packages/scipy/_lib/_util.py\", line 239, in _asarray_validated\n",
      "    a = toarray(a)\n"
     ]
    },
    {
     "name": "stdout",
     "output_type": "stream",
     "text": [
      "  exception:\n"
     ]
    },
    {
     "name": "stderr",
     "output_type": "stream",
     "text": [
      "  File \"/home/jianyao/Likelihood/utils.py\", line 232, in testL\n",
      "    Xa = (calc_vecp_test(cl_hat, cl_f,cl_th, Nf = Nf))\n",
      "  File \"/home/jianyao/Likelihood/logLikeli.py\", line 53, in run\n",
      "    logL = testL(cl_hat = cl_hat, cl_f = self.cl_f[2], cl_th = cl_th, Nf = self.Nf, M_inv = self.Cov_inv, sbin = sbin, ebin = ebin)\n",
      "  File \"/home/jianyao/Likelihood/logLikeli.py\", line 53, in run\n",
      "    logL = testL(cl_hat = cl_hat, cl_f = self.cl_f[2], cl_th = cl_th, Nf = self.Nf, M_inv = self.Cov_inv, sbin = sbin, ebin = ebin)\n",
      "  File \"/home/jianyao/Likelihood/logLikeli.py\", line 53, in run\n",
      "    logL = testL(cl_hat = cl_hat, cl_f = self.cl_f[2], cl_th = cl_th, Nf = self.Nf, M_inv = self.Cov_inv, sbin = sbin, ebin = ebin)\n",
      "  File \"/home/jianyao/anaconda3/lib/python3.7/site-packages/scipy/_lib/_util.py\", line 239, in _asarray_validated\n",
      "    a = toarray(a)\n"
     ]
    },
    {
     "name": "stdout",
     "output_type": "stream",
     "text": [
      "  args: []\n",
      "  exception:\n",
      "  exception:\n",
      "  params: [ 0.07984594 -1.84299333  2.81037252  0.02805089]\n"
     ]
    },
    {
     "name": "stderr",
     "output_type": "stream",
     "text": [
      "  File \"/home/jianyao/anaconda3/lib/python3.7/site-packages/scipy/_lib/_util.py\", line 239, in _asarray_validated\n",
      "    a = toarray(a)\n"
     ]
    },
    {
     "name": "stdout",
     "output_type": "stream",
     "text": [
      "  exception:\n",
      "  kwargs: {}\n"
     ]
    },
    {
     "name": "stderr",
     "output_type": "stream",
     "text": [
      "  File \"/home/jianyao/anaconda3/lib/python3.7/site-packages/dynesty/dynesty.py\", line 939, in __call__\n",
      "    return self.func(x, *self.args, **self.kwargs)\n"
     ]
    },
    {
     "name": "stdout",
     "output_type": "stream",
     "text": [
      "Exception while calling loglikelihood function:\n"
     ]
    },
    {
     "name": "stderr",
     "output_type": "stream",
     "text": [
      "  File \"/home/jianyao/Likelihood/utils.py\", line 232, in testL\n",
      "    Xa = (calc_vecp_test(cl_hat, cl_f,cl_th, Nf = Nf))\n"
     ]
    },
    {
     "name": "stdout",
     "output_type": "stream",
     "text": [
      "  params: [ 0.00446806 -0.27069353  1.48456739  0.79463461]\n"
     ]
    },
    {
     "name": "stderr",
     "output_type": "stream",
     "text": [
      "ValueError: array must not contain infs or NaNs\n"
     ]
    },
    {
     "name": "stdout",
     "output_type": "stream",
     "text": [
      "Exception while calling loglikelihood function:\n",
      "  params: [ 0.09209848 -3.22739722  1.69701457  0.75102077]\n"
     ]
    },
    {
     "name": "stderr",
     "output_type": "stream",
     "text": [
      "  File \"/home/jianyao/anaconda3/lib/python3.7/site-packages/scipy/_lib/_util.py\", line 239, in _asarray_validated\n",
      "    a = toarray(a)\n",
      "  File \"/home/jianyao/anaconda3/lib/python3.7/site-packages/numpy/lib/function_base.py\", line 486, in asarray_chkfinite\n",
      "    \"array must not contain infs or NaNs\")\n",
      "  File \"/home/jianyao/anaconda3/lib/python3.7/site-packages/numpy/lib/function_base.py\", line 486, in asarray_chkfinite\n",
      "    \"array must not contain infs or NaNs\")\n",
      "  File \"/home/jianyao/anaconda3/lib/python3.7/site-packages/scipy/linalg/_matfuncs_sqrtm.py\", line 163, in sqrtm\n",
      "    A = _asarray_validated(A, check_finite=True, as_inexact=True)\n",
      "  File \"/home/jianyao/anaconda3/lib/python3.7/site-packages/scipy/_lib/_util.py\", line 239, in _asarray_validated\n",
      "    a = toarray(a)\n"
     ]
    },
    {
     "name": "stdout",
     "output_type": "stream",
     "text": [
      "  params: [ 0.04134512 -0.70223374  1.22909364  0.94193894]\n"
     ]
    },
    {
     "name": "stderr",
     "output_type": "stream",
     "text": [
      "  File \"/home/jianyao/Likelihood/utils.py\", line 232, in testL\n",
      "    Xa = (calc_vecp_test(cl_hat, cl_f,cl_th, Nf = Nf))\n",
      "  File \"/home/jianyao/Likelihood/utils.py\", line 232, in testL\n",
      "    Xa = (calc_vecp_test(cl_hat, cl_f,cl_th, Nf = Nf))\n",
      "  File \"/home/jianyao/Likelihood/utils.py\", line 232, in testL\n",
      "    Xa = (calc_vecp_test(cl_hat, cl_f,cl_th, Nf = Nf))\n",
      "Traceback (most recent call last):\n",
      "  File \"/home/jianyao/Likelihood/utils.py\", line 200, in calc_vecp_test\n",
      "    cl_inv_12= sqrtm(cl_inv)\n"
     ]
    },
    {
     "name": "stdout",
     "output_type": "stream",
     "text": [
      "  kwargs: {}\n",
      "  args: []\n"
     ]
    },
    {
     "name": "stderr",
     "output_type": "stream",
     "text": [
      "  File \"/home/jianyao/anaconda3/lib/python3.7/site-packages/numpy/lib/function_base.py\", line 486, in asarray_chkfinite\n",
      "    \"array must not contain infs or NaNs\")\n"
     ]
    },
    {
     "name": "stdout",
     "output_type": "stream",
     "text": [
      "  exception:\n"
     ]
    },
    {
     "name": "stderr",
     "output_type": "stream",
     "text": [
      "  File \"<ipython-input-308-26dcbcb00df7>\", line 34, in log_likelihood\n",
      "    logL =LogL.run(cl_hat=(cl_hat_fore_ali) , cl_th = C_l, likelihood='HL',sbin=sbin, ebin = ebin);\n",
      "Traceback (most recent call last):\n",
      "  File \"/home/jianyao/Likelihood/utils.py\", line 232, in testL\n",
      "    Xa = (calc_vecp_test(cl_hat, cl_f,cl_th, Nf = Nf))\n",
      "  File \"<ipython-input-308-26dcbcb00df7>\", line 34, in log_likelihood\n",
      "    logL =LogL.run(cl_hat=(cl_hat_fore_ali) , cl_th = C_l, likelihood='HL',sbin=sbin, ebin = ebin);\n",
      "  File \"/home/jianyao/anaconda3/lib/python3.7/site-packages/dynesty/dynesty.py\", line 939, in __call__\n",
      "    return self.func(x, *self.args, **self.kwargs)\n",
      "  File \"<ipython-input-308-26dcbcb00df7>\", line 34, in log_likelihood\n",
      "    logL =LogL.run(cl_hat=(cl_hat_fore_ali) , cl_th = C_l, likelihood='HL',sbin=sbin, ebin = ebin);\n",
      "  File \"/home/jianyao/Likelihood/logLikeli.py\", line 53, in run\n",
      "    logL = testL(cl_hat = cl_hat, cl_f = self.cl_f[2], cl_th = cl_th, Nf = self.Nf, M_inv = self.Cov_inv, sbin = sbin, ebin = ebin)\n",
      "  File \"/home/jianyao/anaconda3/lib/python3.7/site-packages/scipy/_lib/_util.py\", line 239, in _asarray_validated\n",
      "    a = toarray(a)\n",
      "  File \"/home/jianyao/anaconda3/lib/python3.7/site-packages/dynesty/dynesty.py\", line 939, in __call__\n",
      "    return self.func(x, *self.args, **self.kwargs)\n",
      "  File \"/home/jianyao/Likelihood/utils.py\", line 232, in testL\n",
      "    Xa = (calc_vecp_test(cl_hat, cl_f,cl_th, Nf = Nf))\n"
     ]
    },
    {
     "name": "stdout",
     "output_type": "stream",
     "text": [
      "  params: [ 0.10553132 -3.00915778  2.80887328  0.91358949]\n"
     ]
    },
    {
     "name": "stderr",
     "output_type": "stream",
     "text": [
      "  File \"/home/jianyao/Likelihood/utils.py\", line 232, in testL\n",
      "    Xa = (calc_vecp_test(cl_hat, cl_f,cl_th, Nf = Nf))\n",
      "  File \"<ipython-input-308-26dcbcb00df7>\", line 34, in log_likelihood\n",
      "    logL =LogL.run(cl_hat=(cl_hat_fore_ali) , cl_th = C_l, likelihood='HL',sbin=sbin, ebin = ebin);\n",
      "Traceback (most recent call last):\n",
      "  File \"/home/jianyao/anaconda3/lib/python3.7/site-packages/numpy/lib/function_base.py\", line 486, in asarray_chkfinite\n",
      "    \"array must not contain infs or NaNs\")\n",
      "  File \"/home/jianyao/anaconda3/lib/python3.7/site-packages/scipy/_lib/_util.py\", line 239, in _asarray_validated\n",
      "    a = toarray(a)\n",
      "  File \"/home/jianyao/anaconda3/lib/python3.7/site-packages/numpy/lib/function_base.py\", line 486, in asarray_chkfinite\n",
      "    \"array must not contain infs or NaNs\")\n",
      "  File \"/home/jianyao/Likelihood/utils.py\", line 200, in calc_vecp_test\n",
      "    cl_inv_12= sqrtm(cl_inv)\n",
      "  File \"/home/jianyao/anaconda3/lib/python3.7/site-packages/numpy/lib/function_base.py\", line 486, in asarray_chkfinite\n",
      "    \"array must not contain infs or NaNs\")\n"
     ]
    },
    {
     "name": "stdout",
     "output_type": "stream",
     "text": [
      "  params: [ 0.00896471 -1.03122383  1.09942977  0.66524818]\n",
      "  params: [ 0.07733385 -3.61835307  2.02603834  0.41082161]\n",
      "  exception:\n"
     ]
    },
    {
     "name": "stderr",
     "output_type": "stream",
     "text": [
      "  File \"/home/jianyao/Likelihood/utils.py\", line 232, in testL\n",
      "    Xa = (calc_vecp_test(cl_hat, cl_f,cl_th, Nf = Nf))\n",
      "Traceback (most recent call last):\n"
     ]
    },
    {
     "name": "stdout",
     "output_type": "stream",
     "text": [
      "  kwargs: {}\n"
     ]
    },
    {
     "name": "stderr",
     "output_type": "stream",
     "text": [
      "  File \"/home/jianyao/Likelihood/logLikeli.py\", line 53, in run\n",
      "    logL = testL(cl_hat = cl_hat, cl_f = self.cl_f[2], cl_th = cl_th, Nf = self.Nf, M_inv = self.Cov_inv, sbin = sbin, ebin = ebin)\n"
     ]
    },
    {
     "name": "stdout",
     "output_type": "stream",
     "text": [
      "  kwargs: {}\n"
     ]
    },
    {
     "name": "stderr",
     "output_type": "stream",
     "text": [
      "  File \"/home/jianyao/anaconda3/lib/python3.7/site-packages/scipy/linalg/_matfuncs_sqrtm.py\", line 163, in sqrtm\n",
      "    A = _asarray_validated(A, check_finite=True, as_inexact=True)\n"
     ]
    },
    {
     "name": "stdout",
     "output_type": "stream",
     "text": [
      "  exception:\n",
      "  args: []\n",
      "  exception:\n"
     ]
    },
    {
     "name": "stderr",
     "output_type": "stream",
     "text": [
      "  File \"/home/jianyao/Likelihood/utils.py\", line 200, in calc_vecp_test\n",
      "    cl_inv_12= sqrtm(cl_inv)\n",
      "  File \"/home/jianyao/Likelihood/logLikeli.py\", line 53, in run\n",
      "    logL = testL(cl_hat = cl_hat, cl_f = self.cl_f[2], cl_th = cl_th, Nf = self.Nf, M_inv = self.Cov_inv, sbin = sbin, ebin = ebin)\n",
      "  File \"/home/jianyao/Likelihood/logLikeli.py\", line 53, in run\n",
      "    logL = testL(cl_hat = cl_hat, cl_f = self.cl_f[2], cl_th = cl_th, Nf = self.Nf, M_inv = self.Cov_inv, sbin = sbin, ebin = ebin)\n",
      "  File \"/home/jianyao/Likelihood/utils.py\", line 232, in testL\n",
      "    Xa = (calc_vecp_test(cl_hat, cl_f,cl_th, Nf = Nf))\n"
     ]
    },
    {
     "name": "stdout",
     "output_type": "stream",
     "text": [
      "  params: [ 0.07940626 -3.56087199  2.61225959  0.99413457]\n"
     ]
    },
    {
     "name": "stderr",
     "output_type": "stream",
     "text": [
      "  File \"/home/jianyao/Likelihood/utils.py\", line 200, in calc_vecp_test\n",
      "    cl_inv_12= sqrtm(cl_inv)\n",
      "  File \"/home/jianyao/anaconda3/lib/python3.7/site-packages/numpy/lib/function_base.py\", line 486, in asarray_chkfinite\n",
      "    \"array must not contain infs or NaNs\")\n",
      "  File \"<ipython-input-308-26dcbcb00df7>\", line 34, in log_likelihood\n",
      "    logL =LogL.run(cl_hat=(cl_hat_fore_ali) , cl_th = C_l, likelihood='HL',sbin=sbin, ebin = ebin);\n",
      "  File \"<ipython-input-308-26dcbcb00df7>\", line 34, in log_likelihood\n",
      "    logL =LogL.run(cl_hat=(cl_hat_fore_ali) , cl_th = C_l, likelihood='HL',sbin=sbin, ebin = ebin);\n"
     ]
    },
    {
     "name": "stdout",
     "output_type": "stream",
     "text": [
      "  args: []\n"
     ]
    },
    {
     "name": "stderr",
     "output_type": "stream",
     "text": [
      "  File \"/home/jianyao/Likelihood/utils.py\", line 200, in calc_vecp_test\n",
      "    cl_inv_12= sqrtm(cl_inv)\n",
      "  File \"/home/jianyao/anaconda3/lib/python3.7/site-packages/dynesty/dynesty.py\", line 939, in __call__\n",
      "    return self.func(x, *self.args, **self.kwargs)\n",
      "  File \"/home/jianyao/Likelihood/logLikeli.py\", line 53, in run\n",
      "    logL = testL(cl_hat = cl_hat, cl_f = self.cl_f[2], cl_th = cl_th, Nf = self.Nf, M_inv = self.Cov_inv, sbin = sbin, ebin = ebin)\n",
      "ValueError: array must not contain infs or NaNs\n",
      "ValueError: array must not contain infs or NaNs\n",
      "  File \"/home/jianyao/anaconda3/lib/python3.7/site-packages/numpy/lib/function_base.py\", line 486, in asarray_chkfinite\n",
      "    \"array must not contain infs or NaNs\")\n",
      "ValueError: array must not contain infs or NaNs\n",
      "  File \"/home/jianyao/anaconda3/lib/python3.7/site-packages/scipy/linalg/_matfuncs_sqrtm.py\", line 163, in sqrtm\n",
      "    A = _asarray_validated(A, check_finite=True, as_inexact=True)\n"
     ]
    },
    {
     "name": "stdout",
     "output_type": "stream",
     "text": [
      "  args: []\n"
     ]
    },
    {
     "name": "stderr",
     "output_type": "stream",
     "text": [
      "  File \"/home/jianyao/Likelihood/utils.py\", line 200, in calc_vecp_test\n",
      "    cl_inv_12= sqrtm(cl_inv)\n",
      "Traceback (most recent call last):\n"
     ]
    },
    {
     "name": "stdout",
     "output_type": "stream",
     "text": [
      "  args: []\n"
     ]
    },
    {
     "name": "stderr",
     "output_type": "stream",
     "text": [
      "  File \"/home/jianyao/anaconda3/lib/python3.7/site-packages/scipy/_lib/_util.py\", line 239, in _asarray_validated\n",
      "    a = toarray(a)\n",
      "  File \"/home/jianyao/anaconda3/lib/python3.7/site-packages/dynesty/dynesty.py\", line 939, in __call__\n",
      "    return self.func(x, *self.args, **self.kwargs)\n"
     ]
    },
    {
     "name": "stdout",
     "output_type": "stream",
     "text": [
      "Exception while calling loglikelihood function:\n",
      "  exception:\n",
      "  kwargs: {}\n"
     ]
    },
    {
     "name": "stderr",
     "output_type": "stream",
     "text": [
      "  File \"/home/jianyao/anaconda3/lib/python3.7/site-packages/scipy/linalg/_matfuncs_sqrtm.py\", line 163, in sqrtm\n",
      "    A = _asarray_validated(A, check_finite=True, as_inexact=True)\n"
     ]
    },
    {
     "name": "stdout",
     "output_type": "stream",
     "text": [
      "  exception:\n"
     ]
    },
    {
     "name": "stderr",
     "output_type": "stream",
     "text": [
      "  File \"/home/jianyao/Likelihood/utils.py\", line 232, in testL\n",
      "    Xa = (calc_vecp_test(cl_hat, cl_f,cl_th, Nf = Nf))\n",
      "Traceback (most recent call last):\n",
      "  File \"/home/jianyao/Likelihood/utils.py\", line 232, in testL\n",
      "    Xa = (calc_vecp_test(cl_hat, cl_f,cl_th, Nf = Nf))\n",
      "Traceback (most recent call last):\n",
      "  File \"/home/jianyao/Likelihood/utils.py\", line 232, in testL\n",
      "    Xa = (calc_vecp_test(cl_hat, cl_f,cl_th, Nf = Nf))\n"
     ]
    },
    {
     "name": "stdout",
     "output_type": "stream",
     "text": [
      "  args: []\n"
     ]
    },
    {
     "name": "stderr",
     "output_type": "stream",
     "text": [
      "ValueError: array must not contain infs or NaNs\n",
      "  File \"/home/jianyao/Likelihood/logLikeli.py\", line 53, in run\n",
      "    logL = testL(cl_hat = cl_hat, cl_f = self.cl_f[2], cl_th = cl_th, Nf = self.Nf, M_inv = self.Cov_inv, sbin = sbin, ebin = ebin)\n",
      "  File \"/home/jianyao/anaconda3/lib/python3.7/site-packages/scipy/linalg/_matfuncs_sqrtm.py\", line 163, in sqrtm\n",
      "    A = _asarray_validated(A, check_finite=True, as_inexact=True)\n",
      "  File \"/home/jianyao/Likelihood/utils.py\", line 200, in calc_vecp_test\n",
      "    cl_inv_12= sqrtm(cl_inv)\n",
      "  File \"/home/jianyao/Likelihood/logLikeli.py\", line 53, in run\n",
      "    logL = testL(cl_hat = cl_hat, cl_f = self.cl_f[2], cl_th = cl_th, Nf = self.Nf, M_inv = self.Cov_inv, sbin = sbin, ebin = ebin)\n"
     ]
    },
    {
     "name": "stdout",
     "output_type": "stream",
     "text": [
      "  kwargs: {}\n"
     ]
    },
    {
     "name": "stderr",
     "output_type": "stream",
     "text": [
      "  File \"/home/jianyao/Likelihood/utils.py\", line 232, in testL\n",
      "    Xa = (calc_vecp_test(cl_hat, cl_f,cl_th, Nf = Nf))\n",
      "  File \"/home/jianyao/anaconda3/lib/python3.7/site-packages/scipy/linalg/_matfuncs_sqrtm.py\", line 163, in sqrtm\n",
      "    A = _asarray_validated(A, check_finite=True, as_inexact=True)\n",
      "ValueError: array must not contain infs or NaNs\n"
     ]
    },
    {
     "name": "stdout",
     "output_type": "stream",
     "text": [
      "  kwargs: {}\n"
     ]
    },
    {
     "name": "stderr",
     "output_type": "stream",
     "text": [
      "  File \"<ipython-input-308-26dcbcb00df7>\", line 34, in log_likelihood\n",
      "    logL =LogL.run(cl_hat=(cl_hat_fore_ali) , cl_th = C_l, likelihood='HL',sbin=sbin, ebin = ebin);\n",
      "  File \"/home/jianyao/anaconda3/lib/python3.7/site-packages/scipy/linalg/_matfuncs_sqrtm.py\", line 163, in sqrtm\n",
      "    A = _asarray_validated(A, check_finite=True, as_inexact=True)\n"
     ]
    },
    {
     "name": "stdout",
     "output_type": "stream",
     "text": [
      "  kwargs: {}\n"
     ]
    },
    {
     "name": "stderr",
     "output_type": "stream",
     "text": [
      "  File \"/home/jianyao/anaconda3/lib/python3.7/site-packages/scipy/_lib/_util.py\", line 239, in _asarray_validated\n",
      "    a = toarray(a)\n",
      "Traceback (most recent call last):\n",
      "  File \"/home/jianyao/anaconda3/lib/python3.7/site-packages/numpy/lib/function_base.py\", line 486, in asarray_chkfinite\n",
      "    \"array must not contain infs or NaNs\")\n",
      "  File \"/home/jianyao/anaconda3/lib/python3.7/site-packages/scipy/_lib/_util.py\", line 239, in _asarray_validated\n",
      "    a = toarray(a)\n"
     ]
    },
    {
     "name": "stdout",
     "output_type": "stream",
     "text": [
      "  exception:\n"
     ]
    },
    {
     "name": "stderr",
     "output_type": "stream",
     "text": [
      "  File \"/home/jianyao/Likelihood/utils.py\", line 200, in calc_vecp_test\n",
      "    cl_inv_12= sqrtm(cl_inv)\n",
      "  File \"/home/jianyao/Likelihood/utils.py\", line 200, in calc_vecp_test\n",
      "    cl_inv_12= sqrtm(cl_inv)\n",
      "  File \"/home/jianyao/anaconda3/lib/python3.7/site-packages/dynesty/dynesty.py\", line 939, in __call__\n",
      "    return self.func(x, *self.args, **self.kwargs)\n",
      "  File \"/home/jianyao/Likelihood/utils.py\", line 200, in calc_vecp_test\n",
      "    cl_inv_12= sqrtm(cl_inv)\n",
      "Traceback (most recent call last):\n",
      "  File \"/home/jianyao/anaconda3/lib/python3.7/site-packages/dynesty/dynesty.py\", line 939, in __call__\n",
      "    return self.func(x, *self.args, **self.kwargs)\n",
      "  File \"/home/jianyao/anaconda3/lib/python3.7/site-packages/dynesty/dynesty.py\", line 939, in __call__\n",
      "    return self.func(x, *self.args, **self.kwargs)\n",
      "  File \"/home/jianyao/Likelihood/utils.py\", line 232, in testL\n",
      "    Xa = (calc_vecp_test(cl_hat, cl_f,cl_th, Nf = Nf))\n",
      "  File \"/home/jianyao/anaconda3/lib/python3.7/site-packages/scipy/_lib/_util.py\", line 239, in _asarray_validated\n",
      "    a = toarray(a)\n",
      "  File \"/home/jianyao/anaconda3/lib/python3.7/site-packages/scipy/linalg/_matfuncs_sqrtm.py\", line 163, in sqrtm\n",
      "    A = _asarray_validated(A, check_finite=True, as_inexact=True)\n",
      "  File \"/home/jianyao/Likelihood/utils.py\", line 232, in testL\n",
      "    Xa = (calc_vecp_test(cl_hat, cl_f,cl_th, Nf = Nf))\n"
     ]
    },
    {
     "name": "stdout",
     "output_type": "stream",
     "text": [
      "  exception:\n"
     ]
    },
    {
     "name": "stderr",
     "output_type": "stream",
     "text": [
      "  File \"/home/jianyao/anaconda3/lib/python3.7/site-packages/scipy/_lib/_util.py\", line 239, in _asarray_validated\n",
      "    a = toarray(a)\n"
     ]
    },
    {
     "name": "stdout",
     "output_type": "stream",
     "text": [
      "  params: [ 0.03029464 -1.02335948  1.76120221  0.27227235]\n"
     ]
    },
    {
     "name": "stderr",
     "output_type": "stream",
     "text": [
      "  File \"/home/jianyao/Likelihood/logLikeli.py\", line 53, in run\n",
      "    logL = testL(cl_hat = cl_hat, cl_f = self.cl_f[2], cl_th = cl_th, Nf = self.Nf, M_inv = self.Cov_inv, sbin = sbin, ebin = ebin)\n",
      "  File \"/home/jianyao/Likelihood/utils.py\", line 200, in calc_vecp_test\n",
      "    cl_inv_12= sqrtm(cl_inv)\n"
     ]
    },
    {
     "name": "stdout",
     "output_type": "stream",
     "text": [
      "  exception:\n",
      "  exception:\n"
     ]
    },
    {
     "name": "stderr",
     "output_type": "stream",
     "text": [
      "  File \"/home/jianyao/anaconda3/lib/python3.7/site-packages/scipy/_lib/_util.py\", line 239, in _asarray_validated\n",
      "    a = toarray(a)\n",
      "  File \"/home/jianyao/anaconda3/lib/python3.7/site-packages/numpy/lib/function_base.py\", line 486, in asarray_chkfinite\n",
      "    \"array must not contain infs or NaNs\")\n",
      "ValueError: array must not contain infs or NaNs\n",
      "  File \"/home/jianyao/anaconda3/lib/python3.7/site-packages/dynesty/dynesty.py\", line 939, in __call__\n",
      "    return self.func(x, *self.args, **self.kwargs)\n"
     ]
    },
    {
     "name": "stdout",
     "output_type": "stream",
     "text": [
      "Exception while calling loglikelihood function:\n"
     ]
    },
    {
     "name": "stderr",
     "output_type": "stream",
     "text": [
      "  File \"/home/jianyao/anaconda3/lib/python3.7/site-packages/numpy/lib/function_base.py\", line 486, in asarray_chkfinite\n",
      "    \"array must not contain infs or NaNs\")\n",
      "  File \"/home/jianyao/anaconda3/lib/python3.7/site-packages/scipy/linalg/_matfuncs_sqrtm.py\", line 163, in sqrtm\n",
      "    A = _asarray_validated(A, check_finite=True, as_inexact=True)\n",
      "  File \"<ipython-input-308-26dcbcb00df7>\", line 34, in log_likelihood\n",
      "    logL =LogL.run(cl_hat=(cl_hat_fore_ali) , cl_th = C_l, likelihood='HL',sbin=sbin, ebin = ebin);\n",
      "  File \"<ipython-input-308-26dcbcb00df7>\", line 34, in log_likelihood\n",
      "    logL =LogL.run(cl_hat=(cl_hat_fore_ali) , cl_th = C_l, likelihood='HL',sbin=sbin, ebin = ebin);\n",
      "  File \"/home/jianyao/anaconda3/lib/python3.7/site-packages/scipy/linalg/_matfuncs_sqrtm.py\", line 163, in sqrtm\n",
      "    A = _asarray_validated(A, check_finite=True, as_inexact=True)\n",
      "Traceback (most recent call last):\n"
     ]
    },
    {
     "name": "stdout",
     "output_type": "stream",
     "text": [
      "  kwargs: {}\n"
     ]
    },
    {
     "name": "stderr",
     "output_type": "stream",
     "text": [
      "  File \"/home/jianyao/anaconda3/lib/python3.7/site-packages/scipy/linalg/_matfuncs_sqrtm.py\", line 163, in sqrtm\n",
      "    A = _asarray_validated(A, check_finite=True, as_inexact=True)\n",
      "  File \"/home/jianyao/anaconda3/lib/python3.7/site-packages/dynesty/dynesty.py\", line 939, in __call__\n",
      "    return self.func(x, *self.args, **self.kwargs)\n"
     ]
    },
    {
     "name": "stdout",
     "output_type": "stream",
     "text": [
      "Exception while calling loglikelihood function:\n"
     ]
    },
    {
     "name": "stderr",
     "output_type": "stream",
     "text": [
      "  File \"<ipython-input-308-26dcbcb00df7>\", line 34, in log_likelihood\n",
      "    logL =LogL.run(cl_hat=(cl_hat_fore_ali) , cl_th = C_l, likelihood='HL',sbin=sbin, ebin = ebin);\n",
      "  File \"<ipython-input-308-26dcbcb00df7>\", line 34, in log_likelihood\n",
      "    logL =LogL.run(cl_hat=(cl_hat_fore_ali) , cl_th = C_l, likelihood='HL',sbin=sbin, ebin = ebin);\n",
      "  File \"/home/jianyao/Likelihood/utils.py\", line 200, in calc_vecp_test\n",
      "    cl_inv_12= sqrtm(cl_inv)\n"
     ]
    },
    {
     "name": "stdout",
     "output_type": "stream",
     "text": [
      "Exception while calling loglikelihood function:\n"
     ]
    },
    {
     "name": "stderr",
     "output_type": "stream",
     "text": [
      "  File \"/home/jianyao/anaconda3/lib/python3.7/site-packages/numpy/lib/function_base.py\", line 486, in asarray_chkfinite\n",
      "    \"array must not contain infs or NaNs\")\n",
      "  File \"/home/jianyao/anaconda3/lib/python3.7/site-packages/scipy/_lib/_util.py\", line 239, in _asarray_validated\n",
      "    a = toarray(a)\n",
      "  File \"/home/jianyao/Likelihood/utils.py\", line 200, in calc_vecp_test\n",
      "    cl_inv_12= sqrtm(cl_inv)\n"
     ]
    },
    {
     "name": "stdout",
     "output_type": "stream",
     "text": [
      "  args: []\n"
     ]
    },
    {
     "name": "stderr",
     "output_type": "stream",
     "text": [
      "  File \"/home/jianyao/anaconda3/lib/python3.7/site-packages/numpy/lib/function_base.py\", line 486, in asarray_chkfinite\n",
      "    \"array must not contain infs or NaNs\")\n",
      "Traceback (most recent call last):\n",
      "  File \"/home/jianyao/Likelihood/utils.py\", line 232, in testL\n",
      "    Xa = (calc_vecp_test(cl_hat, cl_f,cl_th, Nf = Nf))\n",
      "  File \"/home/jianyao/anaconda3/lib/python3.7/site-packages/scipy/linalg/_matfuncs_sqrtm.py\", line 163, in sqrtm\n",
      "    A = _asarray_validated(A, check_finite=True, as_inexact=True)\n",
      "  File \"/home/jianyao/anaconda3/lib/python3.7/site-packages/numpy/lib/function_base.py\", line 486, in asarray_chkfinite\n",
      "    \"array must not contain infs or NaNs\")\n",
      "Traceback (most recent call last):\n"
     ]
    },
    {
     "name": "stdout",
     "output_type": "stream",
     "text": [
      "Exception while calling loglikelihood function:\n"
     ]
    },
    {
     "name": "stderr",
     "output_type": "stream",
     "text": [
      "  File \"<ipython-input-308-26dcbcb00df7>\", line 34, in log_likelihood\n",
      "    logL =LogL.run(cl_hat=(cl_hat_fore_ali) , cl_th = C_l, likelihood='HL',sbin=sbin, ebin = ebin);\n",
      "ValueError: array must not contain infs or NaNs\n",
      "Traceback (most recent call last):\n"
     ]
    },
    {
     "name": "stdout",
     "output_type": "stream",
     "text": [
      "  params: [ 0.03212254 -1.56538367  1.95103595  0.91202918]\n"
     ]
    },
    {
     "name": "stderr",
     "output_type": "stream",
     "text": [
      "ValueError: array must not contain infs or NaNs\n",
      "  File \"/home/jianyao/anaconda3/lib/python3.7/site-packages/scipy/_lib/_util.py\", line 239, in _asarray_validated\n",
      "    a = toarray(a)\n",
      "  File \"/home/jianyao/Likelihood/logLikeli.py\", line 53, in run\n",
      "    logL = testL(cl_hat = cl_hat, cl_f = self.cl_f[2], cl_th = cl_th, Nf = self.Nf, M_inv = self.Cov_inv, sbin = sbin, ebin = ebin)\n",
      "  File \"/home/jianyao/Likelihood/logLikeli.py\", line 53, in run\n",
      "    logL = testL(cl_hat = cl_hat, cl_f = self.cl_f[2], cl_th = cl_th, Nf = self.Nf, M_inv = self.Cov_inv, sbin = sbin, ebin = ebin)\n"
     ]
    },
    {
     "name": "stdout",
     "output_type": "stream",
     "text": [
      "Exception while calling loglikelihood function:\n"
     ]
    },
    {
     "name": "stderr",
     "output_type": "stream",
     "text": [
      "  File \"/home/jianyao/anaconda3/lib/python3.7/site-packages/scipy/_lib/_util.py\", line 239, in _asarray_validated\n",
      "    a = toarray(a)\n",
      "  File \"/home/jianyao/anaconda3/lib/python3.7/site-packages/dynesty/dynesty.py\", line 939, in __call__\n",
      "    return self.func(x, *self.args, **self.kwargs)\n"
     ]
    },
    {
     "name": "stdout",
     "output_type": "stream",
     "text": [
      "  exception:\n"
     ]
    },
    {
     "name": "stderr",
     "output_type": "stream",
     "text": [
      "  File \"/home/jianyao/anaconda3/lib/python3.7/site-packages/scipy/_lib/_util.py\", line 239, in _asarray_validated\n",
      "    a = toarray(a)\n",
      "  File \"<ipython-input-308-26dcbcb00df7>\", line 34, in log_likelihood\n",
      "    logL =LogL.run(cl_hat=(cl_hat_fore_ali) , cl_th = C_l, likelihood='HL',sbin=sbin, ebin = ebin);\n",
      "  File \"/home/jianyao/Likelihood/logLikeli.py\", line 53, in run\n",
      "    logL = testL(cl_hat = cl_hat, cl_f = self.cl_f[2], cl_th = cl_th, Nf = self.Nf, M_inv = self.Cov_inv, sbin = sbin, ebin = ebin)\n"
     ]
    },
    {
     "name": "stdout",
     "output_type": "stream",
     "text": [
      "  params: [ 0.01202167 -2.55785024  1.17989641  0.67181039]\n"
     ]
    },
    {
     "name": "stderr",
     "output_type": "stream",
     "text": [
      "  File \"/home/jianyao/Likelihood/logLikeli.py\", line 53, in run\n",
      "    logL = testL(cl_hat = cl_hat, cl_f = self.cl_f[2], cl_th = cl_th, Nf = self.Nf, M_inv = self.Cov_inv, sbin = sbin, ebin = ebin)\n",
      "  File \"/home/jianyao/anaconda3/lib/python3.7/site-packages/scipy/linalg/_matfuncs_sqrtm.py\", line 163, in sqrtm\n",
      "    A = _asarray_validated(A, check_finite=True, as_inexact=True)\n",
      "ValueError: array must not contain infs or NaNs\n",
      "  File \"/home/jianyao/anaconda3/lib/python3.7/site-packages/numpy/lib/function_base.py\", line 486, in asarray_chkfinite\n",
      "    \"array must not contain infs or NaNs\")\n",
      "  File \"/home/jianyao/anaconda3/lib/python3.7/site-packages/scipy/linalg/_matfuncs_sqrtm.py\", line 163, in sqrtm\n",
      "    A = _asarray_validated(A, check_finite=True, as_inexact=True)\n",
      "ValueError: array must not contain infs or NaNs\n"
     ]
    },
    {
     "name": "stdout",
     "output_type": "stream",
     "text": [
      "  kwargs: {}\n"
     ]
    },
    {
     "name": "stderr",
     "output_type": "stream",
     "text": [
      "  File \"/home/jianyao/anaconda3/lib/python3.7/site-packages/dynesty/dynesty.py\", line 939, in __call__\n",
      "    return self.func(x, *self.args, **self.kwargs)\n",
      "  File \"/home/jianyao/anaconda3/lib/python3.7/site-packages/scipy/_lib/_util.py\", line 239, in _asarray_validated\n",
      "    a = toarray(a)\n",
      "ValueError: array must not contain infs or NaNs\n",
      "  File \"/home/jianyao/Likelihood/utils.py\", line 200, in calc_vecp_test\n",
      "    cl_inv_12= sqrtm(cl_inv)\n"
     ]
    },
    {
     "name": "stdout",
     "output_type": "stream",
     "text": [
      "  params: [ 0.19507335 -1.22248667  2.50347245  0.41174947]\n"
     ]
    },
    {
     "name": "stderr",
     "output_type": "stream",
     "text": [
      "  File \"/home/jianyao/anaconda3/lib/python3.7/site-packages/dynesty/dynesty.py\", line 939, in __call__\n",
      "    return self.func(x, *self.args, **self.kwargs)\n"
     ]
    },
    {
     "name": "stdout",
     "output_type": "stream",
     "text": [
      "  args: []\n"
     ]
    },
    {
     "name": "stderr",
     "output_type": "stream",
     "text": [
      "  File \"/home/jianyao/anaconda3/lib/python3.7/site-packages/dynesty/dynesty.py\", line 939, in __call__\n",
      "    return self.func(x, *self.args, **self.kwargs)\n",
      "  File \"/home/jianyao/Likelihood/logLikeli.py\", line 53, in run\n",
      "    logL = testL(cl_hat = cl_hat, cl_f = self.cl_f[2], cl_th = cl_th, Nf = self.Nf, M_inv = self.Cov_inv, sbin = sbin, ebin = ebin)\n",
      "  File \"/home/jianyao/anaconda3/lib/python3.7/site-packages/numpy/lib/function_base.py\", line 486, in asarray_chkfinite\n",
      "    \"array must not contain infs or NaNs\")\n",
      "  File \"/home/jianyao/Likelihood/utils.py\", line 232, in testL\n",
      "    Xa = (calc_vecp_test(cl_hat, cl_f,cl_th, Nf = Nf))\n"
     ]
    },
    {
     "name": "stdout",
     "output_type": "stream",
     "text": [
      "Exception while calling loglikelihood function:\n"
     ]
    },
    {
     "name": "stderr",
     "output_type": "stream",
     "text": [
      "  File \"/home/jianyao/Likelihood/utils.py\", line 232, in testL\n",
      "    Xa = (calc_vecp_test(cl_hat, cl_f,cl_th, Nf = Nf))\n",
      "  File \"/home/jianyao/anaconda3/lib/python3.7/site-packages/numpy/lib/function_base.py\", line 486, in asarray_chkfinite\n",
      "    \"array must not contain infs or NaNs\")\n"
     ]
    },
    {
     "name": "stdout",
     "output_type": "stream",
     "text": [
      "  params: [ 0.11325568 -1.34870832  1.61046813  0.38764392]\n"
     ]
    },
    {
     "name": "stderr",
     "output_type": "stream",
     "text": [
      "  File \"<ipython-input-308-26dcbcb00df7>\", line 34, in log_likelihood\n",
      "    logL =LogL.run(cl_hat=(cl_hat_fore_ali) , cl_th = C_l, likelihood='HL',sbin=sbin, ebin = ebin);\n",
      "  File \"/home/jianyao/anaconda3/lib/python3.7/site-packages/numpy/lib/function_base.py\", line 486, in asarray_chkfinite\n",
      "    \"array must not contain infs or NaNs\")\n",
      "  File \"/home/jianyao/Likelihood/logLikeli.py\", line 53, in run\n",
      "    logL = testL(cl_hat = cl_hat, cl_f = self.cl_f[2], cl_th = cl_th, Nf = self.Nf, M_inv = self.Cov_inv, sbin = sbin, ebin = ebin)\n",
      "  File \"/home/jianyao/Likelihood/utils.py\", line 232, in testL\n",
      "    Xa = (calc_vecp_test(cl_hat, cl_f,cl_th, Nf = Nf))\n",
      "Traceback (most recent call last):\n"
     ]
    },
    {
     "name": "stdout",
     "output_type": "stream",
     "text": [
      "  args: []\n",
      "  params: [ 0.0799747  -1.65822077  1.59667227  0.82605594]\n"
     ]
    },
    {
     "name": "stderr",
     "output_type": "stream",
     "text": [
      "  File \"/home/jianyao/Likelihood/utils.py\", line 232, in testL\n",
      "    Xa = (calc_vecp_test(cl_hat, cl_f,cl_th, Nf = Nf))\n",
      "  File \"/home/jianyao/anaconda3/lib/python3.7/site-packages/scipy/_lib/_util.py\", line 239, in _asarray_validated\n",
      "    a = toarray(a)\n",
      "ValueError: array must not contain infs or NaNs\n",
      "  File \"/home/jianyao/anaconda3/lib/python3.7/site-packages/scipy/_lib/_util.py\", line 239, in _asarray_validated\n",
      "    a = toarray(a)\n"
     ]
    },
    {
     "name": "stdout",
     "output_type": "stream",
     "text": [
      "  exception:\n"
     ]
    },
    {
     "name": "stderr",
     "output_type": "stream",
     "text": [
      "  File \"<ipython-input-308-26dcbcb00df7>\", line 34, in log_likelihood\n",
      "    logL =LogL.run(cl_hat=(cl_hat_fore_ali) , cl_th = C_l, likelihood='HL',sbin=sbin, ebin = ebin);\n",
      "  File \"/home/jianyao/anaconda3/lib/python3.7/site-packages/scipy/linalg/_matfuncs_sqrtm.py\", line 163, in sqrtm\n",
      "    A = _asarray_validated(A, check_finite=True, as_inexact=True)\n",
      "  File \"/home/jianyao/anaconda3/lib/python3.7/site-packages/numpy/lib/function_base.py\", line 486, in asarray_chkfinite\n",
      "    \"array must not contain infs or NaNs\")\n",
      "  File \"<ipython-input-308-26dcbcb00df7>\", line 34, in log_likelihood\n",
      "    logL =LogL.run(cl_hat=(cl_hat_fore_ali) , cl_th = C_l, likelihood='HL',sbin=sbin, ebin = ebin);\n"
     ]
    },
    {
     "name": "stdout",
     "output_type": "stream",
     "text": [
      "  args: []\n"
     ]
    },
    {
     "name": "stderr",
     "output_type": "stream",
     "text": [
      "  File \"/home/jianyao/Likelihood/utils.py\", line 232, in testL\n",
      "    Xa = (calc_vecp_test(cl_hat, cl_f,cl_th, Nf = Nf))\n",
      "  File \"<ipython-input-308-26dcbcb00df7>\", line 34, in log_likelihood\n",
      "    logL =LogL.run(cl_hat=(cl_hat_fore_ali) , cl_th = C_l, likelihood='HL',sbin=sbin, ebin = ebin);\n"
     ]
    },
    {
     "name": "stdout",
     "output_type": "stream",
     "text": [
      "  kwargs: {}\n"
     ]
    },
    {
     "name": "stderr",
     "output_type": "stream",
     "text": [
      "ValueError: array must not contain infs or NaNs\n",
      "  File \"/home/jianyao/Likelihood/utils.py\", line 200, in calc_vecp_test\n",
      "    cl_inv_12= sqrtm(cl_inv)\n",
      "  File \"/home/jianyao/Likelihood/utils.py\", line 200, in calc_vecp_test\n",
      "    cl_inv_12= sqrtm(cl_inv)\n",
      "ValueError: array must not contain infs or NaNs\n"
     ]
    },
    {
     "name": "stdout",
     "output_type": "stream",
     "text": [
      "  args: []\n"
     ]
    },
    {
     "name": "stderr",
     "output_type": "stream",
     "text": [
      "  File \"/home/jianyao/Likelihood/logLikeli.py\", line 53, in run\n",
      "    logL = testL(cl_hat = cl_hat, cl_f = self.cl_f[2], cl_th = cl_th, Nf = self.Nf, M_inv = self.Cov_inv, sbin = sbin, ebin = ebin)\n",
      "ValueError: array must not contain infs or NaNs\n"
     ]
    },
    {
     "name": "stdout",
     "output_type": "stream",
     "text": [
      "  params: [ 0.10854635 -0.16176438  2.88692959  0.13767083]\n"
     ]
    },
    {
     "name": "stderr",
     "output_type": "stream",
     "text": [
      "  File \"/home/jianyao/Likelihood/utils.py\", line 232, in testL\n",
      "    Xa = (calc_vecp_test(cl_hat, cl_f,cl_th, Nf = Nf))\n",
      "  File \"/home/jianyao/Likelihood/utils.py\", line 200, in calc_vecp_test\n",
      "    cl_inv_12= sqrtm(cl_inv)\n",
      "  File \"/home/jianyao/anaconda3/lib/python3.7/site-packages/dynesty/dynesty.py\", line 939, in __call__\n",
      "    return self.func(x, *self.args, **self.kwargs)\n"
     ]
    },
    {
     "name": "stdout",
     "output_type": "stream",
     "text": [
      "  kwargs: {}\n",
      "  args: []\n"
     ]
    },
    {
     "name": "stderr",
     "output_type": "stream",
     "text": [
      "  File \"/home/jianyao/anaconda3/lib/python3.7/site-packages/numpy/lib/function_base.py\", line 486, in asarray_chkfinite\n",
      "    \"array must not contain infs or NaNs\")\n",
      "  File \"/home/jianyao/Likelihood/utils.py\", line 200, in calc_vecp_test\n",
      "    cl_inv_12= sqrtm(cl_inv)\n",
      "  File \"/home/jianyao/anaconda3/lib/python3.7/site-packages/numpy/lib/function_base.py\", line 486, in asarray_chkfinite\n",
      "    \"array must not contain infs or NaNs\")\n",
      "  File \"/home/jianyao/Likelihood/logLikeli.py\", line 53, in run\n",
      "    logL = testL(cl_hat = cl_hat, cl_f = self.cl_f[2], cl_th = cl_th, Nf = self.Nf, M_inv = self.Cov_inv, sbin = sbin, ebin = ebin)\n",
      "  File \"/home/jianyao/anaconda3/lib/python3.7/site-packages/scipy/_lib/_util.py\", line 239, in _asarray_validated\n",
      "    a = toarray(a)\n",
      "ValueError: array must not contain infs or NaNs\n",
      "  File \"/home/jianyao/Likelihood/logLikeli.py\", line 53, in run\n",
      "    logL = testL(cl_hat = cl_hat, cl_f = self.cl_f[2], cl_th = cl_th, Nf = self.Nf, M_inv = self.Cov_inv, sbin = sbin, ebin = ebin)\n",
      "Traceback (most recent call last):\n",
      "  File \"/home/jianyao/Likelihood/utils.py\", line 200, in calc_vecp_test\n",
      "    cl_inv_12= sqrtm(cl_inv)\n"
     ]
    },
    {
     "name": "stdout",
     "output_type": "stream",
     "text": [
      "  kwargs: {}\n"
     ]
    },
    {
     "name": "stderr",
     "output_type": "stream",
     "text": [
      "  File \"/home/jianyao/Likelihood/logLikeli.py\", line 53, in run\n",
      "    logL = testL(cl_hat = cl_hat, cl_f = self.cl_f[2], cl_th = cl_th, Nf = self.Nf, M_inv = self.Cov_inv, sbin = sbin, ebin = ebin)\n"
     ]
    },
    {
     "name": "stdout",
     "output_type": "stream",
     "text": [
      "  exception:\n"
     ]
    },
    {
     "name": "stderr",
     "output_type": "stream",
     "text": [
      "  File \"/home/jianyao/anaconda3/lib/python3.7/site-packages/scipy/linalg/_matfuncs_sqrtm.py\", line 163, in sqrtm\n",
      "    A = _asarray_validated(A, check_finite=True, as_inexact=True)\n",
      "  File \"/home/jianyao/anaconda3/lib/python3.7/site-packages/scipy/linalg/_matfuncs_sqrtm.py\", line 163, in sqrtm\n",
      "    A = _asarray_validated(A, check_finite=True, as_inexact=True)\n"
     ]
    },
    {
     "name": "stdout",
     "output_type": "stream",
     "text": [
      "  kwargs: {}\n"
     ]
    },
    {
     "name": "stderr",
     "output_type": "stream",
     "text": [
      "  File \"/home/jianyao/Likelihood/utils.py\", line 232, in testL\n",
      "    Xa = (calc_vecp_test(cl_hat, cl_f,cl_th, Nf = Nf))\n"
     ]
    },
    {
     "name": "stdout",
     "output_type": "stream",
     "text": [
      "  args: []\n"
     ]
    },
    {
     "name": "stderr",
     "output_type": "stream",
     "text": [
      "  File \"/home/jianyao/anaconda3/lib/python3.7/site-packages/scipy/linalg/_matfuncs_sqrtm.py\", line 163, in sqrtm\n",
      "    A = _asarray_validated(A, check_finite=True, as_inexact=True)\n",
      "  File \"/home/jianyao/Likelihood/utils.py\", line 200, in calc_vecp_test\n",
      "    cl_inv_12= sqrtm(cl_inv)\n",
      "  File \"<ipython-input-308-26dcbcb00df7>\", line 34, in log_likelihood\n",
      "    logL =LogL.run(cl_hat=(cl_hat_fore_ali) , cl_th = C_l, likelihood='HL',sbin=sbin, ebin = ebin);\n"
     ]
    },
    {
     "name": "stdout",
     "output_type": "stream",
     "text": [
      "  exception:\n",
      "  kwargs: {}\n"
     ]
    },
    {
     "name": "stderr",
     "output_type": "stream",
     "text": [
      "ValueError: array must not contain infs or NaNs\n",
      "  File \"/home/jianyao/anaconda3/lib/python3.7/site-packages/scipy/linalg/_matfuncs_sqrtm.py\", line 163, in sqrtm\n",
      "    A = _asarray_validated(A, check_finite=True, as_inexact=True)\n",
      "ValueError: array must not contain infs or NaNs\n",
      "  File \"/home/jianyao/Likelihood/utils.py\", line 232, in testL\n",
      "    Xa = (calc_vecp_test(cl_hat, cl_f,cl_th, Nf = Nf))\n",
      "  File \"/home/jianyao/anaconda3/lib/python3.7/site-packages/numpy/lib/function_base.py\", line 486, in asarray_chkfinite\n",
      "    \"array must not contain infs or NaNs\")\n",
      "  File \"/home/jianyao/Likelihood/utils.py\", line 232, in testL\n",
      "    Xa = (calc_vecp_test(cl_hat, cl_f,cl_th, Nf = Nf))\n",
      "  File \"/home/jianyao/anaconda3/lib/python3.7/site-packages/dynesty/dynesty.py\", line 939, in __call__\n",
      "    return self.func(x, *self.args, **self.kwargs)\n",
      "  File \"/home/jianyao/anaconda3/lib/python3.7/site-packages/scipy/linalg/_matfuncs_sqrtm.py\", line 163, in sqrtm\n",
      "    A = _asarray_validated(A, check_finite=True, as_inexact=True)\n"
     ]
    },
    {
     "name": "stdout",
     "output_type": "stream",
     "text": [
      "  exception:\n"
     ]
    },
    {
     "name": "stderr",
     "output_type": "stream",
     "text": [
      "  File \"/home/jianyao/Likelihood/utils.py\", line 232, in testL\n",
      "    Xa = (calc_vecp_test(cl_hat, cl_f,cl_th, Nf = Nf))\n",
      "  File \"/home/jianyao/anaconda3/lib/python3.7/site-packages/scipy/_lib/_util.py\", line 239, in _asarray_validated\n",
      "    a = toarray(a)\n",
      "  File \"/home/jianyao/anaconda3/lib/python3.7/site-packages/scipy/_lib/_util.py\", line 239, in _asarray_validated\n",
      "    a = toarray(a)\n",
      "Traceback (most recent call last):\n"
     ]
    },
    {
     "name": "stdout",
     "output_type": "stream",
     "text": [
      "  exception:\n"
     ]
    },
    {
     "name": "stderr",
     "output_type": "stream",
     "text": [
      "  File \"/home/jianyao/Likelihood/utils.py\", line 200, in calc_vecp_test\n",
      "    cl_inv_12= sqrtm(cl_inv)\n"
     ]
    },
    {
     "name": "stdout",
     "output_type": "stream",
     "text": [
      "  kwargs: {}\n"
     ]
    },
    {
     "name": "stderr",
     "output_type": "stream",
     "text": [
      "  File \"/home/jianyao/anaconda3/lib/python3.7/site-packages/scipy/_lib/_util.py\", line 239, in _asarray_validated\n",
      "    a = toarray(a)\n",
      "  File \"/home/jianyao/anaconda3/lib/python3.7/site-packages/scipy/linalg/_matfuncs_sqrtm.py\", line 163, in sqrtm\n",
      "    A = _asarray_validated(A, check_finite=True, as_inexact=True)\n",
      "  File \"/home/jianyao/Likelihood/logLikeli.py\", line 53, in run\n",
      "    logL = testL(cl_hat = cl_hat, cl_f = self.cl_f[2], cl_th = cl_th, Nf = self.Nf, M_inv = self.Cov_inv, sbin = sbin, ebin = ebin)\n"
     ]
    },
    {
     "name": "stdout",
     "output_type": "stream",
     "text": [
      "  exception:\n"
     ]
    },
    {
     "name": "stderr",
     "output_type": "stream",
     "text": [
      "Traceback (most recent call last):\n",
      "  File \"/home/jianyao/anaconda3/lib/python3.7/site-packages/scipy/_lib/_util.py\", line 239, in _asarray_validated\n",
      "    a = toarray(a)\n",
      "  File \"/home/jianyao/Likelihood/utils.py\", line 200, in calc_vecp_test\n",
      "    cl_inv_12= sqrtm(cl_inv)\n",
      "ValueError: array must not contain infs or NaNs\n",
      "  File \"/home/jianyao/Likelihood/utils.py\", line 200, in calc_vecp_test\n",
      "    cl_inv_12= sqrtm(cl_inv)\n",
      "  File \"<ipython-input-308-26dcbcb00df7>\", line 34, in log_likelihood\n",
      "    logL =LogL.run(cl_hat=(cl_hat_fore_ali) , cl_th = C_l, likelihood='HL',sbin=sbin, ebin = ebin);\n",
      "  File \"/home/jianyao/anaconda3/lib/python3.7/site-packages/scipy/_lib/_util.py\", line 239, in _asarray_validated\n",
      "    a = toarray(a)\n",
      "  File \"/home/jianyao/Likelihood/utils.py\", line 200, in calc_vecp_test\n",
      "    cl_inv_12= sqrtm(cl_inv)\n",
      "  File \"/home/jianyao/anaconda3/lib/python3.7/site-packages/numpy/lib/function_base.py\", line 486, in asarray_chkfinite\n",
      "    \"array must not contain infs or NaNs\")\n",
      "Traceback (most recent call last):\n",
      "  File \"/home/jianyao/anaconda3/lib/python3.7/site-packages/numpy/lib/function_base.py\", line 486, in asarray_chkfinite\n",
      "    \"array must not contain infs or NaNs\")\n",
      "  File \"/home/jianyao/anaconda3/lib/python3.7/site-packages/dynesty/dynesty.py\", line 939, in __call__\n",
      "    return self.func(x, *self.args, **self.kwargs)\n"
     ]
    },
    {
     "name": "stdout",
     "output_type": "stream",
     "text": [
      "  exception:\n"
     ]
    },
    {
     "name": "stderr",
     "output_type": "stream",
     "text": [
      "  File \"/home/jianyao/anaconda3/lib/python3.7/site-packages/scipy/linalg/_matfuncs_sqrtm.py\", line 163, in sqrtm\n",
      "    A = _asarray_validated(A, check_finite=True, as_inexact=True)\n",
      "Traceback (most recent call last):\n",
      "  File \"/home/jianyao/anaconda3/lib/python3.7/site-packages/numpy/lib/function_base.py\", line 486, in asarray_chkfinite\n",
      "    \"array must not contain infs or NaNs\")\n",
      "  File \"/home/jianyao/anaconda3/lib/python3.7/site-packages/scipy/_lib/_util.py\", line 239, in _asarray_validated\n",
      "    a = toarray(a)\n",
      "  File \"/home/jianyao/Likelihood/utils.py\", line 232, in testL\n",
      "    Xa = (calc_vecp_test(cl_hat, cl_f,cl_th, Nf = Nf))\n",
      "  File \"/home/jianyao/anaconda3/lib/python3.7/site-packages/dynesty/dynesty.py\", line 939, in __call__\n",
      "    return self.func(x, *self.args, **self.kwargs)\n",
      "  File \"/home/jianyao/anaconda3/lib/python3.7/site-packages/numpy/lib/function_base.py\", line 486, in asarray_chkfinite\n",
      "    \"array must not contain infs or NaNs\")\n",
      "Traceback (most recent call last):\n",
      "  File \"/home/jianyao/anaconda3/lib/python3.7/site-packages/scipy/linalg/_matfuncs_sqrtm.py\", line 163, in sqrtm\n",
      "    A = _asarray_validated(A, check_finite=True, as_inexact=True)\n",
      "  File \"/home/jianyao/anaconda3/lib/python3.7/site-packages/scipy/linalg/_matfuncs_sqrtm.py\", line 163, in sqrtm\n",
      "    A = _asarray_validated(A, check_finite=True, as_inexact=True)\n",
      "  File \"/home/jianyao/Likelihood/logLikeli.py\", line 53, in run\n",
      "    logL = testL(cl_hat = cl_hat, cl_f = self.cl_f[2], cl_th = cl_th, Nf = self.Nf, M_inv = self.Cov_inv, sbin = sbin, ebin = ebin)\n",
      "  File \"/home/jianyao/anaconda3/lib/python3.7/site-packages/numpy/lib/function_base.py\", line 486, in asarray_chkfinite\n",
      "    \"array must not contain infs or NaNs\")\n",
      "  File \"/home/jianyao/anaconda3/lib/python3.7/site-packages/scipy/linalg/_matfuncs_sqrtm.py\", line 163, in sqrtm\n",
      "    A = _asarray_validated(A, check_finite=True, as_inexact=True)\n",
      "ValueError: array must not contain infs or NaNs\n",
      "  File \"/home/jianyao/anaconda3/lib/python3.7/site-packages/dynesty/dynesty.py\", line 939, in __call__\n",
      "    return self.func(x, *self.args, **self.kwargs)\n",
      "ValueError: array must not contain infs or NaNs\n",
      "  File \"<ipython-input-308-26dcbcb00df7>\", line 34, in log_likelihood\n",
      "    logL =LogL.run(cl_hat=(cl_hat_fore_ali) , cl_th = C_l, likelihood='HL',sbin=sbin, ebin = ebin);\n",
      "  File \"/home/jianyao/anaconda3/lib/python3.7/site-packages/scipy/_lib/_util.py\", line 239, in _asarray_validated\n",
      "    a = toarray(a)\n",
      "  File \"/home/jianyao/anaconda3/lib/python3.7/site-packages/dynesty/dynesty.py\", line 939, in __call__\n",
      "    return self.func(x, *self.args, **self.kwargs)\n",
      "Traceback (most recent call last):\n",
      "ValueError: array must not contain infs or NaNs\n",
      "  File \"/home/jianyao/anaconda3/lib/python3.7/site-packages/numpy/lib/function_base.py\", line 486, in asarray_chkfinite\n",
      "    \"array must not contain infs or NaNs\")\n",
      "  File \"/home/jianyao/Likelihood/utils.py\", line 200, in calc_vecp_test\n",
      "    cl_inv_12= sqrtm(cl_inv)\n",
      "  File \"<ipython-input-308-26dcbcb00df7>\", line 34, in log_likelihood\n",
      "    logL =LogL.run(cl_hat=(cl_hat_fore_ali) , cl_th = C_l, likelihood='HL',sbin=sbin, ebin = ebin);\n",
      "ValueError: array must not contain infs or NaNs\n",
      "  File \"/home/jianyao/anaconda3/lib/python3.7/site-packages/dynesty/dynesty.py\", line 939, in __call__\n",
      "    return self.func(x, *self.args, **self.kwargs)\n",
      "  File \"/home/jianyao/anaconda3/lib/python3.7/site-packages/scipy/_lib/_util.py\", line 239, in _asarray_validated\n",
      "    a = toarray(a)\n",
      "  File \"/home/jianyao/anaconda3/lib/python3.7/site-packages/scipy/_lib/_util.py\", line 239, in _asarray_validated\n",
      "    a = toarray(a)\n",
      "  File \"/home/jianyao/Likelihood/utils.py\", line 232, in testL\n",
      "    Xa = (calc_vecp_test(cl_hat, cl_f,cl_th, Nf = Nf))\n",
      "ValueError: array must not contain infs or NaNs\n",
      "  File \"/home/jianyao/anaconda3/lib/python3.7/site-packages/scipy/_lib/_util.py\", line 239, in _asarray_validated\n",
      "    a = toarray(a)\n",
      "  File \"<ipython-input-308-26dcbcb00df7>\", line 34, in log_likelihood\n",
      "    logL =LogL.run(cl_hat=(cl_hat_fore_ali) , cl_th = C_l, likelihood='HL',sbin=sbin, ebin = ebin);\n",
      "  File \"/home/jianyao/Likelihood/logLikeli.py\", line 53, in run\n",
      "    logL = testL(cl_hat = cl_hat, cl_f = self.cl_f[2], cl_th = cl_th, Nf = self.Nf, M_inv = self.Cov_inv, sbin = sbin, ebin = ebin)\n",
      "  File \"/home/jianyao/anaconda3/lib/python3.7/site-packages/numpy/lib/function_base.py\", line 486, in asarray_chkfinite\n",
      "    \"array must not contain infs or NaNs\")\n",
      "  File \"<ipython-input-308-26dcbcb00df7>\", line 34, in log_likelihood\n",
      "    logL =LogL.run(cl_hat=(cl_hat_fore_ali) , cl_th = C_l, likelihood='HL',sbin=sbin, ebin = ebin);\n",
      "  File \"/home/jianyao/anaconda3/lib/python3.7/site-packages/dynesty/dynesty.py\", line 939, in __call__\n",
      "    return self.func(x, *self.args, **self.kwargs)\n",
      "ValueError: array must not contain infs or NaNs\n",
      "  File \"/home/jianyao/anaconda3/lib/python3.7/site-packages/scipy/linalg/_matfuncs_sqrtm.py\", line 163, in sqrtm\n",
      "    A = _asarray_validated(A, check_finite=True, as_inexact=True)\n",
      "  File \"/home/jianyao/Likelihood/logLikeli.py\", line 53, in run\n",
      "    logL = testL(cl_hat = cl_hat, cl_f = self.cl_f[2], cl_th = cl_th, Nf = self.Nf, M_inv = self.Cov_inv, sbin = sbin, ebin = ebin)\n",
      "  File \"<ipython-input-308-26dcbcb00df7>\", line 34, in log_likelihood\n",
      "    logL =LogL.run(cl_hat=(cl_hat_fore_ali) , cl_th = C_l, likelihood='HL',sbin=sbin, ebin = ebin);\n",
      "  File \"/home/jianyao/anaconda3/lib/python3.7/site-packages/numpy/lib/function_base.py\", line 486, in asarray_chkfinite\n",
      "    \"array must not contain infs or NaNs\")\n",
      "  File \"/home/jianyao/anaconda3/lib/python3.7/site-packages/numpy/lib/function_base.py\", line 486, in asarray_chkfinite\n",
      "    \"array must not contain infs or NaNs\")\n",
      "  File \"/home/jianyao/Likelihood/utils.py\", line 200, in calc_vecp_test\n",
      "    cl_inv_12= sqrtm(cl_inv)\n",
      "  File \"/home/jianyao/anaconda3/lib/python3.7/site-packages/numpy/lib/function_base.py\", line 486, in asarray_chkfinite\n",
      "    \"array must not contain infs or NaNs\")\n",
      "  File \"/home/jianyao/Likelihood/logLikeli.py\", line 53, in run\n",
      "    logL = testL(cl_hat = cl_hat, cl_f = self.cl_f[2], cl_th = cl_th, Nf = self.Nf, M_inv = self.Cov_inv, sbin = sbin, ebin = ebin)\n",
      "  File \"/home/jianyao/Likelihood/utils.py\", line 232, in testL\n",
      "    Xa = (calc_vecp_test(cl_hat, cl_f,cl_th, Nf = Nf))\n",
      "ValueError: array must not contain infs or NaNs\n",
      "  File \"/home/jianyao/Likelihood/logLikeli.py\", line 53, in run\n",
      "    logL = testL(cl_hat = cl_hat, cl_f = self.cl_f[2], cl_th = cl_th, Nf = self.Nf, M_inv = self.Cov_inv, sbin = sbin, ebin = ebin)\n",
      "  File \"<ipython-input-308-26dcbcb00df7>\", line 34, in log_likelihood\n",
      "    logL =LogL.run(cl_hat=(cl_hat_fore_ali) , cl_th = C_l, likelihood='HL',sbin=sbin, ebin = ebin);\n",
      "  File \"/home/jianyao/anaconda3/lib/python3.7/site-packages/scipy/_lib/_util.py\", line 239, in _asarray_validated\n",
      "    a = toarray(a)\n",
      "  File \"/home/jianyao/Likelihood/utils.py\", line 232, in testL\n",
      "    Xa = (calc_vecp_test(cl_hat, cl_f,cl_th, Nf = Nf))\n",
      "  File \"/home/jianyao/Likelihood/logLikeli.py\", line 53, in run\n",
      "    logL = testL(cl_hat = cl_hat, cl_f = self.cl_f[2], cl_th = cl_th, Nf = self.Nf, M_inv = self.Cov_inv, sbin = sbin, ebin = ebin)\n",
      "ValueError: array must not contain infs or NaNs\n",
      "ValueError: array must not contain infs or NaNs\n",
      "  File \"/home/jianyao/anaconda3/lib/python3.7/site-packages/scipy/linalg/_matfuncs_sqrtm.py\", line 163, in sqrtm\n",
      "    A = _asarray_validated(A, check_finite=True, as_inexact=True)\n",
      "ValueError: array must not contain infs or NaNs\n",
      "  File \"/home/jianyao/Likelihood/utils.py\", line 232, in testL\n",
      "    Xa = (calc_vecp_test(cl_hat, cl_f,cl_th, Nf = Nf))\n",
      "  File \"/home/jianyao/Likelihood/utils.py\", line 200, in calc_vecp_test\n",
      "    cl_inv_12= sqrtm(cl_inv)\n",
      "  File \"/home/jianyao/Likelihood/utils.py\", line 232, in testL\n",
      "    Xa = (calc_vecp_test(cl_hat, cl_f,cl_th, Nf = Nf))\n",
      "  File \"/home/jianyao/Likelihood/logLikeli.py\", line 53, in run\n",
      "    logL = testL(cl_hat = cl_hat, cl_f = self.cl_f[2], cl_th = cl_th, Nf = self.Nf, M_inv = self.Cov_inv, sbin = sbin, ebin = ebin)\n",
      "  File \"/home/jianyao/anaconda3/lib/python3.7/site-packages/numpy/lib/function_base.py\", line 486, in asarray_chkfinite\n",
      "    \"array must not contain infs or NaNs\")\n",
      "  File \"/home/jianyao/Likelihood/utils.py\", line 200, in calc_vecp_test\n",
      "    cl_inv_12= sqrtm(cl_inv)\n"
     ]
    },
    {
     "name": "stderr",
     "output_type": "stream",
     "text": [
      "  File \"/home/jianyao/Likelihood/utils.py\", line 232, in testL\n",
      "    Xa = (calc_vecp_test(cl_hat, cl_f,cl_th, Nf = Nf))\n",
      "  File \"/home/jianyao/anaconda3/lib/python3.7/site-packages/scipy/_lib/_util.py\", line 239, in _asarray_validated\n",
      "    a = toarray(a)\n",
      "  File \"/home/jianyao/Likelihood/utils.py\", line 200, in calc_vecp_test\n",
      "    cl_inv_12= sqrtm(cl_inv)\n",
      "  File \"/home/jianyao/anaconda3/lib/python3.7/site-packages/scipy/linalg/_matfuncs_sqrtm.py\", line 163, in sqrtm\n",
      "    A = _asarray_validated(A, check_finite=True, as_inexact=True)\n",
      "  File \"/home/jianyao/Likelihood/utils.py\", line 200, in calc_vecp_test\n",
      "    cl_inv_12= sqrtm(cl_inv)\n",
      "  File \"/home/jianyao/Likelihood/utils.py\", line 232, in testL\n",
      "    Xa = (calc_vecp_test(cl_hat, cl_f,cl_th, Nf = Nf))\n",
      "  File \"/home/jianyao/anaconda3/lib/python3.7/site-packages/scipy/linalg/_matfuncs_sqrtm.py\", line 163, in sqrtm\n",
      "    A = _asarray_validated(A, check_finite=True, as_inexact=True)\n",
      "ValueError: array must not contain infs or NaNs\n",
      "  File \"/home/jianyao/Likelihood/utils.py\", line 200, in calc_vecp_test\n",
      "    cl_inv_12= sqrtm(cl_inv)\n",
      "  File \"/home/jianyao/anaconda3/lib/python3.7/site-packages/numpy/lib/function_base.py\", line 486, in asarray_chkfinite\n",
      "    \"array must not contain infs or NaNs\")\n",
      "  File \"/home/jianyao/anaconda3/lib/python3.7/site-packages/scipy/_lib/_util.py\", line 239, in _asarray_validated\n",
      "    a = toarray(a)\n",
      "  File \"/home/jianyao/anaconda3/lib/python3.7/site-packages/scipy/linalg/_matfuncs_sqrtm.py\", line 163, in sqrtm\n",
      "    A = _asarray_validated(A, check_finite=True, as_inexact=True)\n",
      "  File \"/home/jianyao/anaconda3/lib/python3.7/site-packages/scipy/linalg/_matfuncs_sqrtm.py\", line 163, in sqrtm\n",
      "    A = _asarray_validated(A, check_finite=True, as_inexact=True)\n",
      "  File \"/home/jianyao/Likelihood/utils.py\", line 200, in calc_vecp_test\n",
      "    cl_inv_12= sqrtm(cl_inv)\n",
      "  File \"/home/jianyao/anaconda3/lib/python3.7/site-packages/scipy/_lib/_util.py\", line 239, in _asarray_validated\n",
      "    a = toarray(a)\n",
      "  File \"/home/jianyao/anaconda3/lib/python3.7/site-packages/scipy/linalg/_matfuncs_sqrtm.py\", line 163, in sqrtm\n",
      "    A = _asarray_validated(A, check_finite=True, as_inexact=True)\n",
      "ValueError: array must not contain infs or NaNs\n",
      "  File \"/home/jianyao/anaconda3/lib/python3.7/site-packages/numpy/lib/function_base.py\", line 486, in asarray_chkfinite\n",
      "    \"array must not contain infs or NaNs\")\n",
      "  File \"/home/jianyao/anaconda3/lib/python3.7/site-packages/scipy/_lib/_util.py\", line 239, in _asarray_validated\n",
      "    a = toarray(a)\n",
      "  File \"/home/jianyao/anaconda3/lib/python3.7/site-packages/scipy/_lib/_util.py\", line 239, in _asarray_validated\n",
      "    a = toarray(a)\n",
      "  File \"/home/jianyao/anaconda3/lib/python3.7/site-packages/scipy/linalg/_matfuncs_sqrtm.py\", line 163, in sqrtm\n",
      "    A = _asarray_validated(A, check_finite=True, as_inexact=True)\n",
      "  File \"/home/jianyao/anaconda3/lib/python3.7/site-packages/numpy/lib/function_base.py\", line 486, in asarray_chkfinite\n",
      "    \"array must not contain infs or NaNs\")\n",
      "  File \"/home/jianyao/anaconda3/lib/python3.7/site-packages/scipy/_lib/_util.py\", line 239, in _asarray_validated\n",
      "    a = toarray(a)\n",
      "ValueError: array must not contain infs or NaNs\n",
      "  File \"/home/jianyao/anaconda3/lib/python3.7/site-packages/numpy/lib/function_base.py\", line 486, in asarray_chkfinite\n",
      "    \"array must not contain infs or NaNs\")\n",
      "  File \"/home/jianyao/anaconda3/lib/python3.7/site-packages/scipy/_lib/_util.py\", line 239, in _asarray_validated\n",
      "    a = toarray(a)\n",
      "  File \"/home/jianyao/anaconda3/lib/python3.7/site-packages/numpy/lib/function_base.py\", line 486, in asarray_chkfinite\n",
      "    \"array must not contain infs or NaNs\")\n",
      "  File \"/home/jianyao/anaconda3/lib/python3.7/site-packages/numpy/lib/function_base.py\", line 486, in asarray_chkfinite\n",
      "    \"array must not contain infs or NaNs\")\n",
      "ValueError: array must not contain infs or NaNs\n",
      "ValueError: array must not contain infs or NaNs\n",
      "ValueError: array must not contain infs or NaNs\n",
      "  File \"/home/jianyao/anaconda3/lib/python3.7/site-packages/numpy/lib/function_base.py\", line 486, in asarray_chkfinite\n",
      "    \"array must not contain infs or NaNs\")\n",
      "ValueError: array must not contain infs or NaNs\n",
      "ValueError: array must not contain infs or NaNs\n"
     ]
    },
    {
     "ename": "ValueError",
     "evalue": "array must not contain infs or NaNs",
     "output_type": "error",
     "traceback": [
      "\u001b[0;31m---------------------------------------------------------------------------\u001b[0m",
      "\u001b[0;31mRemoteTraceback\u001b[0m                           Traceback (most recent call last)",
      "\u001b[0;31mRemoteTraceback\u001b[0m: \n\"\"\"\nTraceback (most recent call last):\n  File \"/home/jianyao/anaconda3/lib/python3.7/multiprocessing/pool.py\", line 121, in worker\n    result = (True, func(*args, **kwds))\n  File \"/home/jianyao/anaconda3/lib/python3.7/multiprocessing/pool.py\", line 44, in mapstar\n    return list(map(*args))\n  File \"/home/jianyao/anaconda3/lib/python3.7/site-packages/dynesty/dynesty.py\", line 939, in __call__\n    return self.func(x, *self.args, **self.kwargs)\n  File \"<ipython-input-308-26dcbcb00df7>\", line 34, in log_likelihood\n    logL =LogL.run(cl_hat=(cl_hat_fore_ali) , cl_th = C_l, likelihood='HL',sbin=sbin, ebin = ebin);\n  File \"/home/jianyao/Likelihood/logLikeli.py\", line 53, in run\n    logL = testL(cl_hat = cl_hat, cl_f = self.cl_f[2], cl_th = cl_th, Nf = self.Nf, M_inv = self.Cov_inv, sbin = sbin, ebin = ebin)\n  File \"/home/jianyao/Likelihood/utils.py\", line 232, in testL\n    Xa = (calc_vecp_test(cl_hat, cl_f,cl_th, Nf = Nf))\n  File \"/home/jianyao/Likelihood/utils.py\", line 200, in calc_vecp_test\n    cl_inv_12= sqrtm(cl_inv)\n  File \"/home/jianyao/anaconda3/lib/python3.7/site-packages/scipy/linalg/_matfuncs_sqrtm.py\", line 163, in sqrtm\n    A = _asarray_validated(A, check_finite=True, as_inexact=True)\n  File \"/home/jianyao/anaconda3/lib/python3.7/site-packages/scipy/_lib/_util.py\", line 239, in _asarray_validated\n    a = toarray(a)\n  File \"/home/jianyao/anaconda3/lib/python3.7/site-packages/numpy/lib/function_base.py\", line 486, in asarray_chkfinite\n    \"array must not contain infs or NaNs\")\nValueError: array must not contain infs or NaNs\n\"\"\"",
      "\nThe above exception was the direct cause of the following exception:\n",
      "\u001b[0;31mValueError\u001b[0m                                Traceback (most recent call last)",
      "\u001b[0;32m<ipython-input-308-26dcbcb00df7>\u001b[0m in \u001b[0;36m<module>\u001b[0;34m\u001b[0m\n\u001b[1;32m     38\u001b[0m     \u001b[0;32mwith\u001b[0m \u001b[0mPool\u001b[0m\u001b[0;34m(\u001b[0m\u001b[0mcpu_count\u001b[0m\u001b[0;34m(\u001b[0m\u001b[0;34m)\u001b[0m\u001b[0;34m-\u001b[0m\u001b[0;36m1\u001b[0m\u001b[0;34m)\u001b[0m \u001b[0;32mas\u001b[0m \u001b[0mexecutor\u001b[0m\u001b[0;34m:\u001b[0m\u001b[0;34m\u001b[0m\u001b[0;34m\u001b[0m\u001b[0m\n\u001b[1;32m     39\u001b[0m \u001b[0;34m\u001b[0m\u001b[0m\n\u001b[0;32m---> 40\u001b[0;31m         \u001b[0msampler\u001b[0m \u001b[0;34m=\u001b[0m \u001b[0mdynesty\u001b[0m\u001b[0;34m.\u001b[0m\u001b[0mNestedSampler\u001b[0m\u001b[0;34m(\u001b[0m\u001b[0mlog_likelihood\u001b[0m\u001b[0;34m,\u001b[0m \u001b[0mprior\u001b[0m\u001b[0;34m,\u001b[0m \u001b[0mnpara\u001b[0m\u001b[0;34m,\u001b[0m \u001b[0mnlive\u001b[0m\u001b[0;34m=\u001b[0m\u001b[0;36m400\u001b[0m\u001b[0;34m,\u001b[0m \u001b[0mpool\u001b[0m\u001b[0;34m=\u001b[0m\u001b[0mexecutor\u001b[0m\u001b[0;34m,\u001b[0m \u001b[0mqueue_size\u001b[0m\u001b[0;34m=\u001b[0m\u001b[0mcpu_count\u001b[0m\u001b[0;34m(\u001b[0m\u001b[0;34m)\u001b[0m\u001b[0;34m,\u001b[0m \u001b[0mbootstrap\u001b[0m \u001b[0;34m=\u001b[0m \u001b[0;36m0\u001b[0m\u001b[0;34m)\u001b[0m\u001b[0;34m\u001b[0m\u001b[0;34m\u001b[0m\u001b[0m\n\u001b[0m\u001b[1;32m     41\u001b[0m         \u001b[0msampler\u001b[0m\u001b[0;34m.\u001b[0m\u001b[0mrun_nested\u001b[0m\u001b[0;34m(\u001b[0m\u001b[0;34m)\u001b[0m\u001b[0;34m\u001b[0m\u001b[0;34m\u001b[0m\u001b[0m\n\u001b[1;32m     42\u001b[0m         \u001b[0mresults\u001b[0m \u001b[0;34m=\u001b[0m \u001b[0msampler\u001b[0m\u001b[0;34m.\u001b[0m\u001b[0mresults\u001b[0m\u001b[0;34m\u001b[0m\u001b[0;34m\u001b[0m\u001b[0m\n",
      "\u001b[0;32m~/anaconda3/lib/python3.7/site-packages/dynesty/dynesty.py\u001b[0m in \u001b[0;36mNestedSampler\u001b[0;34m(loglikelihood, prior_transform, ndim, nlive, bound, sample, periodic, reflective, update_interval, first_update, npdim, rstate, queue_size, pool, use_pool, live_points, logl_args, logl_kwargs, ptform_args, ptform_kwargs, gradient, grad_args, grad_kwargs, compute_jac, enlarge, bootstrap, vol_dec, vol_check, walks, facc, slices, fmove, max_move, **kwargs)\u001b[0m\n\u001b[1;32m    504\u001b[0m             \u001b[0;32mif\u001b[0m \u001b[0muse_pool\u001b[0m\u001b[0;34m.\u001b[0m\u001b[0mget\u001b[0m\u001b[0;34m(\u001b[0m\u001b[0;34m'loglikelihood'\u001b[0m\u001b[0;34m,\u001b[0m \u001b[0;32mTrue\u001b[0m\u001b[0;34m)\u001b[0m\u001b[0;34m:\u001b[0m\u001b[0;34m\u001b[0m\u001b[0;34m\u001b[0m\u001b[0m\n\u001b[1;32m    505\u001b[0m                 live_logl = np.array(list(M(loglike,\n\u001b[0;32m--> 506\u001b[0;31m                                             np.array(live_v))))  # log-like\n\u001b[0m\u001b[1;32m    507\u001b[0m             \u001b[0;32melse\u001b[0m\u001b[0;34m:\u001b[0m\u001b[0;34m\u001b[0m\u001b[0;34m\u001b[0m\u001b[0m\n\u001b[1;32m    508\u001b[0m                 live_logl = np.array(list(map(loglike,\n",
      "\u001b[0;32m~/anaconda3/lib/python3.7/multiprocessing/pool.py\u001b[0m in \u001b[0;36mmap\u001b[0;34m(self, func, iterable, chunksize)\u001b[0m\n\u001b[1;32m    266\u001b[0m         \u001b[0;32min\u001b[0m \u001b[0ma\u001b[0m \u001b[0mlist\u001b[0m \u001b[0mthat\u001b[0m \u001b[0;32mis\u001b[0m \u001b[0mreturned\u001b[0m\u001b[0;34m.\u001b[0m\u001b[0;34m\u001b[0m\u001b[0;34m\u001b[0m\u001b[0m\n\u001b[1;32m    267\u001b[0m         '''\n\u001b[0;32m--> 268\u001b[0;31m         \u001b[0;32mreturn\u001b[0m \u001b[0mself\u001b[0m\u001b[0;34m.\u001b[0m\u001b[0m_map_async\u001b[0m\u001b[0;34m(\u001b[0m\u001b[0mfunc\u001b[0m\u001b[0;34m,\u001b[0m \u001b[0miterable\u001b[0m\u001b[0;34m,\u001b[0m \u001b[0mmapstar\u001b[0m\u001b[0;34m,\u001b[0m \u001b[0mchunksize\u001b[0m\u001b[0;34m)\u001b[0m\u001b[0;34m.\u001b[0m\u001b[0mget\u001b[0m\u001b[0;34m(\u001b[0m\u001b[0;34m)\u001b[0m\u001b[0;34m\u001b[0m\u001b[0;34m\u001b[0m\u001b[0m\n\u001b[0m\u001b[1;32m    269\u001b[0m \u001b[0;34m\u001b[0m\u001b[0m\n\u001b[1;32m    270\u001b[0m     \u001b[0;32mdef\u001b[0m \u001b[0mstarmap\u001b[0m\u001b[0;34m(\u001b[0m\u001b[0mself\u001b[0m\u001b[0;34m,\u001b[0m \u001b[0mfunc\u001b[0m\u001b[0;34m,\u001b[0m \u001b[0miterable\u001b[0m\u001b[0;34m,\u001b[0m \u001b[0mchunksize\u001b[0m\u001b[0;34m=\u001b[0m\u001b[0;32mNone\u001b[0m\u001b[0;34m)\u001b[0m\u001b[0;34m:\u001b[0m\u001b[0;34m\u001b[0m\u001b[0;34m\u001b[0m\u001b[0m\n",
      "\u001b[0;32m~/anaconda3/lib/python3.7/multiprocessing/pool.py\u001b[0m in \u001b[0;36mget\u001b[0;34m(self, timeout)\u001b[0m\n\u001b[1;32m    655\u001b[0m             \u001b[0;32mreturn\u001b[0m \u001b[0mself\u001b[0m\u001b[0;34m.\u001b[0m\u001b[0m_value\u001b[0m\u001b[0;34m\u001b[0m\u001b[0;34m\u001b[0m\u001b[0m\n\u001b[1;32m    656\u001b[0m         \u001b[0;32melse\u001b[0m\u001b[0;34m:\u001b[0m\u001b[0;34m\u001b[0m\u001b[0;34m\u001b[0m\u001b[0m\n\u001b[0;32m--> 657\u001b[0;31m             \u001b[0;32mraise\u001b[0m \u001b[0mself\u001b[0m\u001b[0;34m.\u001b[0m\u001b[0m_value\u001b[0m\u001b[0;34m\u001b[0m\u001b[0;34m\u001b[0m\u001b[0m\n\u001b[0m\u001b[1;32m    658\u001b[0m \u001b[0;34m\u001b[0m\u001b[0m\n\u001b[1;32m    659\u001b[0m     \u001b[0;32mdef\u001b[0m \u001b[0m_set\u001b[0m\u001b[0;34m(\u001b[0m\u001b[0mself\u001b[0m\u001b[0;34m,\u001b[0m \u001b[0mi\u001b[0m\u001b[0;34m,\u001b[0m \u001b[0mobj\u001b[0m\u001b[0;34m)\u001b[0m\u001b[0;34m:\u001b[0m\u001b[0;34m\u001b[0m\u001b[0;34m\u001b[0m\u001b[0m\n",
      "\u001b[0;31mValueError\u001b[0m: array must not contain infs or NaNs"
     ]
    },
    {
     "name": "stdout",
     "output_type": "stream",
     "text": [
      "Exception while calling loglikelihood function:\n",
      "  params: [ 0.06542577 -0.83945151  2.42275625  0.89960858]\n",
      "  args: []\n"
     ]
    },
    {
     "name": "stderr",
     "output_type": "stream",
     "text": [
      "Traceback (most recent call last):\n",
      "  File \"/home/jianyao/Likelihood/utils.py\", line 200, in calc_vecp_test\n",
      "    cl_inv_12= sqrtm(cl_inv)\n"
     ]
    },
    {
     "name": "stdout",
     "output_type": "stream",
     "text": [
      "  args: []\n"
     ]
    },
    {
     "name": "stderr",
     "output_type": "stream",
     "text": [
      "  File \"/home/jianyao/anaconda3/lib/python3.7/site-packages/numpy/lib/function_base.py\", line 486, in asarray_chkfinite\n",
      "    \"array must not contain infs or NaNs\")\n"
     ]
    },
    {
     "name": "stdout",
     "output_type": "stream",
     "text": [
      "  params: [ 0.11132495 -0.21956954  1.32688136  0.3946388 ]\n"
     ]
    },
    {
     "name": "stderr",
     "output_type": "stream",
     "text": [
      "ValueError: array must not contain infs or NaNs\n",
      "ValueError: array must not contain infs or NaNs\n",
      "  File \"/home/jianyao/anaconda3/lib/python3.7/site-packages/scipy/_lib/_util.py\", line 239, in _asarray_validated\n",
      "    a = toarray(a)\n"
     ]
    },
    {
     "name": "stdout",
     "output_type": "stream",
     "text": [
      "Exception while calling loglikelihood function:\n"
     ]
    },
    {
     "name": "stderr",
     "output_type": "stream",
     "text": [
      "  File \"/home/jianyao/anaconda3/lib/python3.7/site-packages/numpy/lib/function_base.py\", line 486, in asarray_chkfinite\n",
      "    \"array must not contain infs or NaNs\")\n"
     ]
    },
    {
     "name": "stdout",
     "output_type": "stream",
     "text": [
      "Exception while calling loglikelihood function:\n",
      "  args: []\n"
     ]
    },
    {
     "name": "stderr",
     "output_type": "stream",
     "text": [
      "  File \"/home/jianyao/Likelihood/utils.py\", line 200, in calc_vecp_test\n",
      "    cl_inv_12= sqrtm(cl_inv)\n",
      "  File \"/home/jianyao/Likelihood/utils.py\", line 200, in calc_vecp_test\n",
      "    cl_inv_12= sqrtm(cl_inv)\n",
      "Traceback (most recent call last):\n",
      "  File \"/home/jianyao/anaconda3/lib/python3.7/site-packages/dynesty/dynesty.py\", line 939, in __call__\n",
      "    return self.func(x, *self.args, **self.kwargs)\n"
     ]
    },
    {
     "name": "stdout",
     "output_type": "stream",
     "text": [
      "Exception while calling loglikelihood function:\n"
     ]
    },
    {
     "name": "stderr",
     "output_type": "stream",
     "text": [
      "  File \"/home/jianyao/anaconda3/lib/python3.7/site-packages/scipy/linalg/_matfuncs_sqrtm.py\", line 163, in sqrtm\n",
      "    A = _asarray_validated(A, check_finite=True, as_inexact=True)\n",
      "  File \"/home/jianyao/Likelihood/utils.py\", line 200, in calc_vecp_test\n",
      "    cl_inv_12= sqrtm(cl_inv)\n"
     ]
    },
    {
     "name": "stdout",
     "output_type": "stream",
     "text": [
      "  exception:\n"
     ]
    },
    {
     "name": "stderr",
     "output_type": "stream",
     "text": [
      "  File \"/home/jianyao/anaconda3/lib/python3.7/site-packages/numpy/lib/function_base.py\", line 486, in asarray_chkfinite\n",
      "    \"array must not contain infs or NaNs\")\n"
     ]
    },
    {
     "name": "stdout",
     "output_type": "stream",
     "text": [
      "  kwargs: {}\n"
     ]
    },
    {
     "name": "stderr",
     "output_type": "stream",
     "text": [
      "ValueError: array must not contain infs or NaNs\n",
      "  File \"/home/jianyao/Likelihood/logLikeli.py\", line 53, in run\n",
      "    logL = testL(cl_hat = cl_hat, cl_f = self.cl_f[2], cl_th = cl_th, Nf = self.Nf, M_inv = self.Cov_inv, sbin = sbin, ebin = ebin)\n",
      "  File \"/home/jianyao/anaconda3/lib/python3.7/site-packages/dynesty/dynesty.py\", line 939, in __call__\n",
      "    return self.func(x, *self.args, **self.kwargs)\n",
      "Traceback (most recent call last):\n"
     ]
    },
    {
     "name": "stdout",
     "output_type": "stream",
     "text": [
      "Exception while calling loglikelihood function:\n",
      "  params: [ 0.04891555 -0.42181666  1.71082432  0.80294243]\n",
      "  args: []\n"
     ]
    },
    {
     "name": "stderr",
     "output_type": "stream",
     "text": [
      "  File \"/home/jianyao/anaconda3/lib/python3.7/site-packages/dynesty/dynesty.py\", line 939, in __call__\n",
      "    return self.func(x, *self.args, **self.kwargs)\n",
      "  File \"/home/jianyao/anaconda3/lib/python3.7/site-packages/scipy/linalg/_matfuncs_sqrtm.py\", line 163, in sqrtm\n",
      "    A = _asarray_validated(A, check_finite=True, as_inexact=True)\n"
     ]
    },
    {
     "name": "stdout",
     "output_type": "stream",
     "text": [
      "  kwargs: {}\n",
      "  kwargs: {}\n",
      "  args: []\n"
     ]
    },
    {
     "name": "stderr",
     "output_type": "stream",
     "text": [
      "ValueError: array must not contain infs or NaNs\n",
      "  File \"/home/jianyao/anaconda3/lib/python3.7/site-packages/numpy/lib/function_base.py\", line 486, in asarray_chkfinite\n",
      "    \"array must not contain infs or NaNs\")\n"
     ]
    },
    {
     "name": "stdout",
     "output_type": "stream",
     "text": [
      "  params: [ 0.08241481 -1.25912633  1.70214801  0.02290629]\n"
     ]
    },
    {
     "name": "stderr",
     "output_type": "stream",
     "text": [
      "ValueError: array must not contain infs or NaNs\n"
     ]
    },
    {
     "name": "stdout",
     "output_type": "stream",
     "text": [
      "  kwargs: {}\n",
      "  params: [ 0.12018518 -1.54675902  2.39939436  0.66714542]\n",
      "Exception while calling loglikelihood function:\n"
     ]
    },
    {
     "name": "stderr",
     "output_type": "stream",
     "text": [
      "  File \"/home/jianyao/anaconda3/lib/python3.7/site-packages/dynesty/dynesty.py\", line 939, in __call__\n",
      "    return self.func(x, *self.args, **self.kwargs)\n",
      "  File \"/home/jianyao/anaconda3/lib/python3.7/site-packages/scipy/linalg/_matfuncs_sqrtm.py\", line 163, in sqrtm\n",
      "    A = _asarray_validated(A, check_finite=True, as_inexact=True)\n",
      "  File \"/home/jianyao/anaconda3/lib/python3.7/site-packages/scipy/linalg/_matfuncs_sqrtm.py\", line 163, in sqrtm\n",
      "    A = _asarray_validated(A, check_finite=True, as_inexact=True)\n",
      "ValueError: array must not contain infs or NaNs\n"
     ]
    },
    {
     "name": "stdout",
     "output_type": "stream",
     "text": [
      "  params: [ 0.16951859 -3.55513547  2.90807194  0.80403849]\n"
     ]
    },
    {
     "name": "stderr",
     "output_type": "stream",
     "text": [
      "  File \"/home/jianyao/anaconda3/lib/python3.7/site-packages/scipy/linalg/_matfuncs_sqrtm.py\", line 163, in sqrtm\n",
      "    A = _asarray_validated(A, check_finite=True, as_inexact=True)\n",
      "  File \"<ipython-input-308-26dcbcb00df7>\", line 34, in log_likelihood\n",
      "    logL =LogL.run(cl_hat=(cl_hat_fore_ali) , cl_th = C_l, likelihood='HL',sbin=sbin, ebin = ebin);\n",
      "  File \"/home/jianyao/anaconda3/lib/python3.7/site-packages/scipy/_lib/_util.py\", line 239, in _asarray_validated\n",
      "    a = toarray(a)\n"
     ]
    },
    {
     "name": "stdout",
     "output_type": "stream",
     "text": [
      "  exception:\n"
     ]
    },
    {
     "name": "stderr",
     "output_type": "stream",
     "text": [
      "Traceback (most recent call last):\n",
      "  File \"/home/jianyao/Likelihood/utils.py\", line 232, in testL\n",
      "    Xa = (calc_vecp_test(cl_hat, cl_f,cl_th, Nf = Nf))\n",
      "  File \"/home/jianyao/anaconda3/lib/python3.7/site-packages/dynesty/dynesty.py\", line 939, in __call__\n",
      "    return self.func(x, *self.args, **self.kwargs)\n",
      "  File \"<ipython-input-308-26dcbcb00df7>\", line 34, in log_likelihood\n",
      "    logL =LogL.run(cl_hat=(cl_hat_fore_ali) , cl_th = C_l, likelihood='HL',sbin=sbin, ebin = ebin);\n"
     ]
    },
    {
     "name": "stdout",
     "output_type": "stream",
     "text": [
      "  kwargs: {}\n",
      "  args: []\n"
     ]
    },
    {
     "name": "stderr",
     "output_type": "stream",
     "text": [
      "  File \"<ipython-input-308-26dcbcb00df7>\", line 34, in log_likelihood\n",
      "    logL =LogL.run(cl_hat=(cl_hat_fore_ali) , cl_th = C_l, likelihood='HL',sbin=sbin, ebin = ebin);\n"
     ]
    },
    {
     "name": "stdout",
     "output_type": "stream",
     "text": [
      "  exception:\n"
     ]
    },
    {
     "name": "stderr",
     "output_type": "stream",
     "text": [
      "  File \"/home/jianyao/anaconda3/lib/python3.7/site-packages/scipy/_lib/_util.py\", line 239, in _asarray_validated\n",
      "    a = toarray(a)\n"
     ]
    },
    {
     "name": "stdout",
     "output_type": "stream",
     "text": [
      "  params: [ 0.017209   -2.68300765  1.45748292  0.02573775]\n",
      "  kwargs: {}\n",
      "  args: []\n"
     ]
    },
    {
     "name": "stderr",
     "output_type": "stream",
     "text": [
      "ValueError: array must not contain infs or NaNs\n"
     ]
    },
    {
     "name": "stdout",
     "output_type": "stream",
     "text": [
      "  exception:\n",
      "Exception while calling loglikelihood function:\n",
      "  args: []\n",
      "Exception while calling loglikelihood function:\n",
      "  exception:\n"
     ]
    },
    {
     "name": "stderr",
     "output_type": "stream",
     "text": [
      "  File \"<ipython-input-308-26dcbcb00df7>\", line 34, in log_likelihood\n",
      "    logL =LogL.run(cl_hat=(cl_hat_fore_ali) , cl_th = C_l, likelihood='HL',sbin=sbin, ebin = ebin);\n"
     ]
    },
    {
     "name": "stdout",
     "output_type": "stream",
     "text": [
      "  params: [ 0.16822519 -2.53799429  1.26335227  0.74457629]\n"
     ]
    },
    {
     "name": "stderr",
     "output_type": "stream",
     "text": [
      "  File \"/home/jianyao/anaconda3/lib/python3.7/site-packages/scipy/_lib/_util.py\", line 239, in _asarray_validated\n",
      "    a = toarray(a)\n",
      "  File \"/home/jianyao/anaconda3/lib/python3.7/site-packages/scipy/_lib/_util.py\", line 239, in _asarray_validated\n",
      "    a = toarray(a)\n",
      "  File \"/home/jianyao/anaconda3/lib/python3.7/site-packages/scipy/_lib/_util.py\", line 239, in _asarray_validated\n",
      "    a = toarray(a)\n"
     ]
    },
    {
     "name": "stdout",
     "output_type": "stream",
     "text": [
      "  args: []\n"
     ]
    },
    {
     "name": "stderr",
     "output_type": "stream",
     "text": [
      "  File \"/home/jianyao/Likelihood/logLikeli.py\", line 53, in run\n",
      "    logL = testL(cl_hat = cl_hat, cl_f = self.cl_f[2], cl_th = cl_th, Nf = self.Nf, M_inv = self.Cov_inv, sbin = sbin, ebin = ebin)\n",
      "  File \"/home/jianyao/anaconda3/lib/python3.7/site-packages/numpy/lib/function_base.py\", line 486, in asarray_chkfinite\n",
      "    \"array must not contain infs or NaNs\")\n",
      "  File \"/home/jianyao/Likelihood/utils.py\", line 200, in calc_vecp_test\n",
      "    cl_inv_12= sqrtm(cl_inv)\n",
      "  File \"<ipython-input-308-26dcbcb00df7>\", line 34, in log_likelihood\n",
      "    logL =LogL.run(cl_hat=(cl_hat_fore_ali) , cl_th = C_l, likelihood='HL',sbin=sbin, ebin = ebin);\n",
      "  File \"/home/jianyao/Likelihood/logLikeli.py\", line 53, in run\n",
      "    logL = testL(cl_hat = cl_hat, cl_f = self.cl_f[2], cl_th = cl_th, Nf = self.Nf, M_inv = self.Cov_inv, sbin = sbin, ebin = ebin)\n"
     ]
    },
    {
     "name": "stdout",
     "output_type": "stream",
     "text": [
      "  exception:\n"
     ]
    },
    {
     "name": "stderr",
     "output_type": "stream",
     "text": [
      "Traceback (most recent call last):\n"
     ]
    },
    {
     "name": "stdout",
     "output_type": "stream",
     "text": [
      "  kwargs: {}\n"
     ]
    },
    {
     "name": "stderr",
     "output_type": "stream",
     "text": [
      "  File \"/home/jianyao/Likelihood/logLikeli.py\", line 53, in run\n",
      "    logL = testL(cl_hat = cl_hat, cl_f = self.cl_f[2], cl_th = cl_th, Nf = self.Nf, M_inv = self.Cov_inv, sbin = sbin, ebin = ebin)\n",
      "  File \"/home/jianyao/anaconda3/lib/python3.7/site-packages/numpy/lib/function_base.py\", line 486, in asarray_chkfinite\n",
      "    \"array must not contain infs or NaNs\")\n",
      "  File \"/home/jianyao/anaconda3/lib/python3.7/site-packages/dynesty/dynesty.py\", line 939, in __call__\n",
      "    return self.func(x, *self.args, **self.kwargs)\n"
     ]
    },
    {
     "name": "stdout",
     "output_type": "stream",
     "text": [
      "  exception:\n",
      "  args: []\n"
     ]
    },
    {
     "name": "stderr",
     "output_type": "stream",
     "text": [
      "Traceback (most recent call last):\n"
     ]
    },
    {
     "name": "stdout",
     "output_type": "stream",
     "text": [
      "  kwargs: {}\n",
      "  kwargs: {}\n"
     ]
    },
    {
     "name": "stderr",
     "output_type": "stream",
     "text": [
      "Traceback (most recent call last):\n",
      "  File \"/home/jianyao/Likelihood/logLikeli.py\", line 53, in run\n",
      "    logL = testL(cl_hat = cl_hat, cl_f = self.cl_f[2], cl_th = cl_th, Nf = self.Nf, M_inv = self.Cov_inv, sbin = sbin, ebin = ebin)\n"
     ]
    },
    {
     "name": "stdout",
     "output_type": "stream",
     "text": [
      "  params: [ 0.00770349 -1.0462893   1.45760415  0.46766128]\n"
     ]
    },
    {
     "name": "stderr",
     "output_type": "stream",
     "text": [
      "  File \"/home/jianyao/anaconda3/lib/python3.7/site-packages/numpy/lib/function_base.py\", line 486, in asarray_chkfinite\n",
      "    \"array must not contain infs or NaNs\")\n"
     ]
    },
    {
     "name": "stdout",
     "output_type": "stream",
     "text": [
      "  args: []\n",
      "  kwargs: {}\n"
     ]
    },
    {
     "name": "stderr",
     "output_type": "stream",
     "text": [
      "  File \"/home/jianyao/anaconda3/lib/python3.7/site-packages/numpy/lib/function_base.py\", line 486, in asarray_chkfinite\n",
      "    \"array must not contain infs or NaNs\")\n",
      "  File \"/home/jianyao/anaconda3/lib/python3.7/site-packages/numpy/lib/function_base.py\", line 486, in asarray_chkfinite\n",
      "    \"array must not contain infs or NaNs\")\n"
     ]
    },
    {
     "name": "stdout",
     "output_type": "stream",
     "text": [
      "Exception while calling loglikelihood function:\n"
     ]
    },
    {
     "name": "stderr",
     "output_type": "stream",
     "text": [
      "  File \"/home/jianyao/Likelihood/utils.py\", line 232, in testL\n",
      "    Xa = (calc_vecp_test(cl_hat, cl_f,cl_th, Nf = Nf))\n",
      "ValueError: array must not contain infs or NaNs\n",
      "  File \"/home/jianyao/anaconda3/lib/python3.7/site-packages/scipy/linalg/_matfuncs_sqrtm.py\", line 163, in sqrtm\n",
      "    A = _asarray_validated(A, check_finite=True, as_inexact=True)\n",
      "Traceback (most recent call last):\n"
     ]
    },
    {
     "name": "stdout",
     "output_type": "stream",
     "text": [
      "  params: [ 0.07318166 -2.37743528  2.80359239  0.84823979]\n"
     ]
    },
    {
     "name": "stderr",
     "output_type": "stream",
     "text": [
      "  File \"/home/jianyao/Likelihood/logLikeli.py\", line 53, in run\n",
      "    logL = testL(cl_hat = cl_hat, cl_f = self.cl_f[2], cl_th = cl_th, Nf = self.Nf, M_inv = self.Cov_inv, sbin = sbin, ebin = ebin)\n",
      "  File \"/home/jianyao/Likelihood/utils.py\", line 232, in testL\n",
      "    Xa = (calc_vecp_test(cl_hat, cl_f,cl_th, Nf = Nf))\n",
      "  File \"/home/jianyao/anaconda3/lib/python3.7/site-packages/dynesty/dynesty.py\", line 939, in __call__\n",
      "    return self.func(x, *self.args, **self.kwargs)\n",
      "ValueError: array must not contain infs or NaNs\n",
      "Traceback (most recent call last):\n"
     ]
    },
    {
     "name": "stdout",
     "output_type": "stream",
     "text": [
      "  exception:\n"
     ]
    },
    {
     "name": "stderr",
     "output_type": "stream",
     "text": [
      "  File \"/home/jianyao/Likelihood/utils.py\", line 232, in testL\n",
      "    Xa = (calc_vecp_test(cl_hat, cl_f,cl_th, Nf = Nf))\n",
      "  File \"<ipython-input-308-26dcbcb00df7>\", line 34, in log_likelihood\n",
      "    logL =LogL.run(cl_hat=(cl_hat_fore_ali) , cl_th = C_l, likelihood='HL',sbin=sbin, ebin = ebin);\n"
     ]
    },
    {
     "name": "stdout",
     "output_type": "stream",
     "text": [
      "Exception while calling loglikelihood function:\n",
      "  exception:\n"
     ]
    },
    {
     "name": "stderr",
     "output_type": "stream",
     "text": [
      "  File \"/home/jianyao/anaconda3/lib/python3.7/site-packages/dynesty/dynesty.py\", line 939, in __call__\n",
      "    return self.func(x, *self.args, **self.kwargs)\n"
     ]
    },
    {
     "name": "stdout",
     "output_type": "stream",
     "text": [
      "  kwargs: {}\n"
     ]
    },
    {
     "name": "stderr",
     "output_type": "stream",
     "text": [
      "  File \"/home/jianyao/Likelihood/utils.py\", line 232, in testL\n",
      "    Xa = (calc_vecp_test(cl_hat, cl_f,cl_th, Nf = Nf))\n"
     ]
    },
    {
     "name": "stdout",
     "output_type": "stream",
     "text": [
      "  args: []\n",
      "Exception while calling loglikelihood function:\n",
      "  exception:\n",
      "  exception:\n",
      "  kwargs: {}\n"
     ]
    },
    {
     "name": "stderr",
     "output_type": "stream",
     "text": [
      "ValueError: array must not contain infs or NaNs\n",
      "ValueError: array must not contain infs or NaNs\n"
     ]
    },
    {
     "name": "stdout",
     "output_type": "stream",
     "text": [
      "Exception while calling loglikelihood function:\n"
     ]
    },
    {
     "name": "stderr",
     "output_type": "stream",
     "text": [
      "ValueError: array must not contain infs or NaNs\n",
      "Traceback (most recent call last):\n",
      "  File \"/home/jianyao/Likelihood/utils.py\", line 200, in calc_vecp_test\n",
      "    cl_inv_12= sqrtm(cl_inv)\n",
      "  File \"/home/jianyao/anaconda3/lib/python3.7/site-packages/scipy/_lib/_util.py\", line 239, in _asarray_validated\n",
      "    a = toarray(a)\n"
     ]
    },
    {
     "name": "stdout",
     "output_type": "stream",
     "text": [
      "Exception while calling loglikelihood function:\n"
     ]
    },
    {
     "name": "stderr",
     "output_type": "stream",
     "text": [
      "  File \"/home/jianyao/anaconda3/lib/python3.7/site-packages/dynesty/dynesty.py\", line 939, in __call__\n",
      "    return self.func(x, *self.args, **self.kwargs)\n"
     ]
    },
    {
     "name": "stdout",
     "output_type": "stream",
     "text": [
      "  args: []\n"
     ]
    },
    {
     "name": "stderr",
     "output_type": "stream",
     "text": [
      "  File \"/home/jianyao/anaconda3/lib/python3.7/site-packages/dynesty/dynesty.py\", line 939, in __call__\n",
      "    return self.func(x, *self.args, **self.kwargs)\n",
      "  File \"/home/jianyao/Likelihood/utils.py\", line 232, in testL\n",
      "    Xa = (calc_vecp_test(cl_hat, cl_f,cl_th, Nf = Nf))\n",
      "  File \"/home/jianyao/Likelihood/utils.py\", line 200, in calc_vecp_test\n",
      "    cl_inv_12= sqrtm(cl_inv)\n",
      "  File \"<ipython-input-308-26dcbcb00df7>\", line 34, in log_likelihood\n",
      "    logL =LogL.run(cl_hat=(cl_hat_fore_ali) , cl_th = C_l, likelihood='HL',sbin=sbin, ebin = ebin);\n",
      "  File \"/home/jianyao/Likelihood/utils.py\", line 200, in calc_vecp_test\n",
      "    cl_inv_12= sqrtm(cl_inv)\n"
     ]
    },
    {
     "name": "stdout",
     "output_type": "stream",
     "text": [
      "  params: [ 0.16487635 -1.03291298  1.83006115  0.40605796]\n"
     ]
    },
    {
     "name": "stderr",
     "output_type": "stream",
     "text": [
      "  File \"/home/jianyao/anaconda3/lib/python3.7/site-packages/dynesty/dynesty.py\", line 939, in __call__\n",
      "    return self.func(x, *self.args, **self.kwargs)\n",
      "  File \"/home/jianyao/Likelihood/logLikeli.py\", line 53, in run\n",
      "    logL = testL(cl_hat = cl_hat, cl_f = self.cl_f[2], cl_th = cl_th, Nf = self.Nf, M_inv = self.Cov_inv, sbin = sbin, ebin = ebin)\n",
      "Traceback (most recent call last):\n"
     ]
    },
    {
     "name": "stdout",
     "output_type": "stream",
     "text": [
      "  exception:\n",
      "  params: [ 0.12993966 -2.92727964  2.24395     0.25904746]\n"
     ]
    },
    {
     "name": "stderr",
     "output_type": "stream",
     "text": [
      "  File \"<ipython-input-308-26dcbcb00df7>\", line 34, in log_likelihood\n",
      "    logL =LogL.run(cl_hat=(cl_hat_fore_ali) , cl_th = C_l, likelihood='HL',sbin=sbin, ebin = ebin);\n"
     ]
    },
    {
     "name": "stdout",
     "output_type": "stream",
     "text": [
      "  params: [ 0.13532608 -2.14973756  1.86886117  0.7231038 ]\n"
     ]
    },
    {
     "name": "stderr",
     "output_type": "stream",
     "text": [
      "Traceback (most recent call last):\n",
      "  File \"/home/jianyao/anaconda3/lib/python3.7/site-packages/dynesty/dynesty.py\", line 939, in __call__\n",
      "    return self.func(x, *self.args, **self.kwargs)\n"
     ]
    },
    {
     "name": "stdout",
     "output_type": "stream",
     "text": [
      "  exception:\n"
     ]
    },
    {
     "name": "stderr",
     "output_type": "stream",
     "text": [
      "Traceback (most recent call last):\n",
      "  File \"<ipython-input-308-26dcbcb00df7>\", line 34, in log_likelihood\n",
      "    logL =LogL.run(cl_hat=(cl_hat_fore_ali) , cl_th = C_l, likelihood='HL',sbin=sbin, ebin = ebin);\n",
      "  File \"/home/jianyao/Likelihood/utils.py\", line 200, in calc_vecp_test\n",
      "    cl_inv_12= sqrtm(cl_inv)\n",
      "  File \"/home/jianyao/anaconda3/lib/python3.7/site-packages/scipy/linalg/_matfuncs_sqrtm.py\", line 163, in sqrtm\n",
      "    A = _asarray_validated(A, check_finite=True, as_inexact=True)\n",
      "  File \"/home/jianyao/anaconda3/lib/python3.7/site-packages/numpy/lib/function_base.py\", line 486, in asarray_chkfinite\n",
      "    \"array must not contain infs or NaNs\")\n"
     ]
    },
    {
     "name": "stdout",
     "output_type": "stream",
     "text": [
      "  kwargs: {}\n"
     ]
    },
    {
     "name": "stderr",
     "output_type": "stream",
     "text": [
      "  File \"<ipython-input-308-26dcbcb00df7>\", line 34, in log_likelihood\n",
      "    logL =LogL.run(cl_hat=(cl_hat_fore_ali) , cl_th = C_l, likelihood='HL',sbin=sbin, ebin = ebin);\n",
      "Traceback (most recent call last):\n",
      "  File \"/home/jianyao/anaconda3/lib/python3.7/site-packages/scipy/linalg/_matfuncs_sqrtm.py\", line 163, in sqrtm\n",
      "    A = _asarray_validated(A, check_finite=True, as_inexact=True)\n",
      "  File \"/home/jianyao/Likelihood/utils.py\", line 200, in calc_vecp_test\n",
      "    cl_inv_12= sqrtm(cl_inv)\n",
      "  File \"/home/jianyao/anaconda3/lib/python3.7/site-packages/scipy/linalg/_matfuncs_sqrtm.py\", line 163, in sqrtm\n",
      "    A = _asarray_validated(A, check_finite=True, as_inexact=True)\n",
      "  File \"/home/jianyao/Likelihood/logLikeli.py\", line 53, in run\n",
      "    logL = testL(cl_hat = cl_hat, cl_f = self.cl_f[2], cl_th = cl_th, Nf = self.Nf, M_inv = self.Cov_inv, sbin = sbin, ebin = ebin)\n"
     ]
    },
    {
     "name": "stdout",
     "output_type": "stream",
     "text": [
      "  kwargs: {}\n",
      "  args: []\n"
     ]
    },
    {
     "name": "stderr",
     "output_type": "stream",
     "text": [
      "  File \"<ipython-input-308-26dcbcb00df7>\", line 34, in log_likelihood\n",
      "    logL =LogL.run(cl_hat=(cl_hat_fore_ali) , cl_th = C_l, likelihood='HL',sbin=sbin, ebin = ebin);\n"
     ]
    },
    {
     "name": "stdout",
     "output_type": "stream",
     "text": [
      "  params: [ 0.01446831 -1.72868771  2.83886681  0.60292141]\n",
      "  params: [ 0.06370589 -2.95574639  1.96201389  0.18038201]\n"
     ]
    },
    {
     "name": "stderr",
     "output_type": "stream",
     "text": [
      "  File \"/home/jianyao/Likelihood/utils.py\", line 232, in testL\n",
      "    Xa = (calc_vecp_test(cl_hat, cl_f,cl_th, Nf = Nf))\n",
      "  File \"/home/jianyao/anaconda3/lib/python3.7/site-packages/dynesty/dynesty.py\", line 939, in __call__\n",
      "    return self.func(x, *self.args, **self.kwargs)\n"
     ]
    },
    {
     "name": "stdout",
     "output_type": "stream",
     "text": [
      "  args: []\n",
      "Exception while calling loglikelihood function:\n",
      "  args: []\n"
     ]
    },
    {
     "name": "stderr",
     "output_type": "stream",
     "text": [
      "  File \"/home/jianyao/Likelihood/logLikeli.py\", line 53, in run\n",
      "    logL = testL(cl_hat = cl_hat, cl_f = self.cl_f[2], cl_th = cl_th, Nf = self.Nf, M_inv = self.Cov_inv, sbin = sbin, ebin = ebin)\n",
      "Traceback (most recent call last):\n",
      "  File \"/home/jianyao/anaconda3/lib/python3.7/site-packages/dynesty/dynesty.py\", line 939, in __call__\n",
      "    return self.func(x, *self.args, **self.kwargs)\n",
      "  File \"/home/jianyao/anaconda3/lib/python3.7/site-packages/dynesty/dynesty.py\", line 939, in __call__\n",
      "    return self.func(x, *self.args, **self.kwargs)\n",
      "  File \"<ipython-input-308-26dcbcb00df7>\", line 34, in log_likelihood\n",
      "    logL =LogL.run(cl_hat=(cl_hat_fore_ali) , cl_th = C_l, likelihood='HL',sbin=sbin, ebin = ebin);\n"
     ]
    },
    {
     "name": "stdout",
     "output_type": "stream",
     "text": [
      "Exception while calling loglikelihood function:\n"
     ]
    },
    {
     "name": "stderr",
     "output_type": "stream",
     "text": [
      "  File \"/home/jianyao/Likelihood/logLikeli.py\", line 53, in run\n",
      "    logL = testL(cl_hat = cl_hat, cl_f = self.cl_f[2], cl_th = cl_th, Nf = self.Nf, M_inv = self.Cov_inv, sbin = sbin, ebin = ebin)\n",
      "Traceback (most recent call last):\n",
      "  File \"/home/jianyao/anaconda3/lib/python3.7/site-packages/scipy/linalg/_matfuncs_sqrtm.py\", line 163, in sqrtm\n",
      "    A = _asarray_validated(A, check_finite=True, as_inexact=True)\n",
      "ValueError: array must not contain infs or NaNs\n"
     ]
    },
    {
     "name": "stdout",
     "output_type": "stream",
     "text": [
      "  exception:\n"
     ]
    },
    {
     "name": "stderr",
     "output_type": "stream",
     "text": [
      "  File \"/home/jianyao/anaconda3/lib/python3.7/site-packages/scipy/_lib/_util.py\", line 239, in _asarray_validated\n",
      "    a = toarray(a)\n",
      "  File \"/home/jianyao/Likelihood/logLikeli.py\", line 53, in run\n",
      "    logL = testL(cl_hat = cl_hat, cl_f = self.cl_f[2], cl_th = cl_th, Nf = self.Nf, M_inv = self.Cov_inv, sbin = sbin, ebin = ebin)\n",
      "  File \"/home/jianyao/anaconda3/lib/python3.7/site-packages/dynesty/dynesty.py\", line 939, in __call__\n",
      "    return self.func(x, *self.args, **self.kwargs)\n",
      "  File \"/home/jianyao/anaconda3/lib/python3.7/site-packages/scipy/_lib/_util.py\", line 239, in _asarray_validated\n",
      "    a = toarray(a)\n",
      "  File \"/home/jianyao/anaconda3/lib/python3.7/site-packages/scipy/linalg/_matfuncs_sqrtm.py\", line 163, in sqrtm\n",
      "    A = _asarray_validated(A, check_finite=True, as_inexact=True)\n",
      "  File \"/home/jianyao/anaconda3/lib/python3.7/site-packages/scipy/_lib/_util.py\", line 239, in _asarray_validated\n",
      "    a = toarray(a)\n",
      "  File \"/home/jianyao/Likelihood/utils.py\", line 232, in testL\n",
      "    Xa = (calc_vecp_test(cl_hat, cl_f,cl_th, Nf = Nf))\n"
     ]
    },
    {
     "name": "stdout",
     "output_type": "stream",
     "text": [
      "  exception:\n",
      "Exception while calling loglikelihood function:\n",
      "  kwargs: {}\n"
     ]
    },
    {
     "name": "stderr",
     "output_type": "stream",
     "text": [
      "  File \"/home/jianyao/Likelihood/logLikeli.py\", line 53, in run\n",
      "    logL = testL(cl_hat = cl_hat, cl_f = self.cl_f[2], cl_th = cl_th, Nf = self.Nf, M_inv = self.Cov_inv, sbin = sbin, ebin = ebin)\n"
     ]
    },
    {
     "name": "stdout",
     "output_type": "stream",
     "text": [
      "Exception while calling loglikelihood function:\n",
      "  args: []\n",
      "Exception while calling loglikelihood function:\n",
      "  args: []\n"
     ]
    },
    {
     "name": "stderr",
     "output_type": "stream",
     "text": [
      "  File \"<ipython-input-308-26dcbcb00df7>\", line 34, in log_likelihood\n",
      "    logL =LogL.run(cl_hat=(cl_hat_fore_ali) , cl_th = C_l, likelihood='HL',sbin=sbin, ebin = ebin);\n",
      "  File \"/home/jianyao/Likelihood/utils.py\", line 200, in calc_vecp_test\n",
      "    cl_inv_12= sqrtm(cl_inv)\n"
     ]
    },
    {
     "name": "stdout",
     "output_type": "stream",
     "text": [
      "  kwargs: {}\n",
      "  kwargs: {}\n",
      "  params: [ 0.17594918 -0.29507443  2.15162155  0.16441103]\n"
     ]
    },
    {
     "name": "stderr",
     "output_type": "stream",
     "text": [
      "  File \"/home/jianyao/Likelihood/utils.py\", line 232, in testL\n",
      "    Xa = (calc_vecp_test(cl_hat, cl_f,cl_th, Nf = Nf))\n",
      "  File \"<ipython-input-308-26dcbcb00df7>\", line 34, in log_likelihood\n",
      "    logL =LogL.run(cl_hat=(cl_hat_fore_ali) , cl_th = C_l, likelihood='HL',sbin=sbin, ebin = ebin);\n",
      "  File \"/home/jianyao/anaconda3/lib/python3.7/site-packages/dynesty/dynesty.py\", line 939, in __call__\n",
      "    return self.func(x, *self.args, **self.kwargs)\n",
      "  File \"<ipython-input-308-26dcbcb00df7>\", line 34, in log_likelihood\n",
      "    logL =LogL.run(cl_hat=(cl_hat_fore_ali) , cl_th = C_l, likelihood='HL',sbin=sbin, ebin = ebin);\n",
      "  File \"/home/jianyao/Likelihood/logLikeli.py\", line 53, in run\n",
      "    logL = testL(cl_hat = cl_hat, cl_f = self.cl_f[2], cl_th = cl_th, Nf = self.Nf, M_inv = self.Cov_inv, sbin = sbin, ebin = ebin)\n",
      "  File \"/home/jianyao/anaconda3/lib/python3.7/site-packages/scipy/_lib/_util.py\", line 239, in _asarray_validated\n",
      "    a = toarray(a)\n",
      "  File \"/home/jianyao/anaconda3/lib/python3.7/site-packages/dynesty/dynesty.py\", line 939, in __call__\n",
      "    return self.func(x, *self.args, **self.kwargs)\n",
      "  File \"/home/jianyao/Likelihood/utils.py\", line 232, in testL\n",
      "    Xa = (calc_vecp_test(cl_hat, cl_f,cl_th, Nf = Nf))\n"
     ]
    },
    {
     "name": "stdout",
     "output_type": "stream",
     "text": [
      "  params: [ 0.10553132 -3.00915778  2.80887328  0.91358949]\n"
     ]
    },
    {
     "name": "stderr",
     "output_type": "stream",
     "text": [
      "  File \"/home/jianyao/Likelihood/utils.py\", line 232, in testL\n",
      "    Xa = (calc_vecp_test(cl_hat, cl_f,cl_th, Nf = Nf))\n",
      "  File \"<ipython-input-308-26dcbcb00df7>\", line 34, in log_likelihood\n",
      "    logL =LogL.run(cl_hat=(cl_hat_fore_ali) , cl_th = C_l, likelihood='HL',sbin=sbin, ebin = ebin);\n",
      "Traceback (most recent call last):\n",
      "  File \"/home/jianyao/anaconda3/lib/python3.7/site-packages/numpy/lib/function_base.py\", line 486, in asarray_chkfinite\n",
      "    \"array must not contain infs or NaNs\")\n",
      "  File \"/home/jianyao/anaconda3/lib/python3.7/site-packages/scipy/_lib/_util.py\", line 239, in _asarray_validated\n",
      "    a = toarray(a)\n",
      "  File \"/home/jianyao/anaconda3/lib/python3.7/site-packages/numpy/lib/function_base.py\", line 486, in asarray_chkfinite\n",
      "    \"array must not contain infs or NaNs\")\n",
      "  File \"/home/jianyao/Likelihood/utils.py\", line 200, in calc_vecp_test\n",
      "    cl_inv_12= sqrtm(cl_inv)\n",
      "  File \"/home/jianyao/anaconda3/lib/python3.7/site-packages/numpy/lib/function_base.py\", line 486, in asarray_chkfinite\n",
      "    \"array must not contain infs or NaNs\")\n"
     ]
    },
    {
     "name": "stdout",
     "output_type": "stream",
     "text": [
      "  params: [ 0.00896471 -1.03122383  1.09942977  0.66524818]\n",
      "  params: [ 0.07733385 -3.61835307  2.02603834  0.41082161]\n",
      "  exception:\n"
     ]
    },
    {
     "name": "stderr",
     "output_type": "stream",
     "text": [
      "  File \"/home/jianyao/Likelihood/utils.py\", line 232, in testL\n",
      "    Xa = (calc_vecp_test(cl_hat, cl_f,cl_th, Nf = Nf))\n",
      "Traceback (most recent call last):\n"
     ]
    },
    {
     "name": "stdout",
     "output_type": "stream",
     "text": [
      "  kwargs: {}\n"
     ]
    },
    {
     "name": "stderr",
     "output_type": "stream",
     "text": [
      "  File \"/home/jianyao/Likelihood/logLikeli.py\", line 53, in run\n",
      "    logL = testL(cl_hat = cl_hat, cl_f = self.cl_f[2], cl_th = cl_th, Nf = self.Nf, M_inv = self.Cov_inv, sbin = sbin, ebin = ebin)\n"
     ]
    },
    {
     "name": "stdout",
     "output_type": "stream",
     "text": [
      "  kwargs: {}\n"
     ]
    },
    {
     "name": "stderr",
     "output_type": "stream",
     "text": [
      "  File \"/home/jianyao/anaconda3/lib/python3.7/site-packages/scipy/linalg/_matfuncs_sqrtm.py\", line 163, in sqrtm\n",
      "    A = _asarray_validated(A, check_finite=True, as_inexact=True)\n"
     ]
    },
    {
     "name": "stdout",
     "output_type": "stream",
     "text": [
      "  exception:\n",
      "  args: []\n",
      "  exception:\n"
     ]
    },
    {
     "name": "stderr",
     "output_type": "stream",
     "text": [
      "  File \"/home/jianyao/Likelihood/utils.py\", line 200, in calc_vecp_test\n",
      "    cl_inv_12= sqrtm(cl_inv)\n",
      "  File \"/home/jianyao/Likelihood/logLikeli.py\", line 53, in run\n",
      "    logL = testL(cl_hat = cl_hat, cl_f = self.cl_f[2], cl_th = cl_th, Nf = self.Nf, M_inv = self.Cov_inv, sbin = sbin, ebin = ebin)\n",
      "  File \"/home/jianyao/Likelihood/logLikeli.py\", line 53, in run\n",
      "    logL = testL(cl_hat = cl_hat, cl_f = self.cl_f[2], cl_th = cl_th, Nf = self.Nf, M_inv = self.Cov_inv, sbin = sbin, ebin = ebin)\n",
      "  File \"/home/jianyao/Likelihood/utils.py\", line 232, in testL\n",
      "    Xa = (calc_vecp_test(cl_hat, cl_f,cl_th, Nf = Nf))\n"
     ]
    },
    {
     "name": "stdout",
     "output_type": "stream",
     "text": [
      "  params: [ 0.07940626 -3.56087199  2.61225959  0.99413457]\n"
     ]
    },
    {
     "name": "stderr",
     "output_type": "stream",
     "text": [
      "  File \"/home/jianyao/Likelihood/utils.py\", line 200, in calc_vecp_test\n",
      "    cl_inv_12= sqrtm(cl_inv)\n",
      "  File \"/home/jianyao/anaconda3/lib/python3.7/site-packages/numpy/lib/function_base.py\", line 486, in asarray_chkfinite\n",
      "    \"array must not contain infs or NaNs\")\n",
      "  File \"<ipython-input-308-26dcbcb00df7>\", line 34, in log_likelihood\n",
      "    logL =LogL.run(cl_hat=(cl_hat_fore_ali) , cl_th = C_l, likelihood='HL',sbin=sbin, ebin = ebin);\n",
      "  File \"<ipython-input-308-26dcbcb00df7>\", line 34, in log_likelihood\n",
      "    logL =LogL.run(cl_hat=(cl_hat_fore_ali) , cl_th = C_l, likelihood='HL',sbin=sbin, ebin = ebin);\n"
     ]
    },
    {
     "name": "stdout",
     "output_type": "stream",
     "text": [
      "  args: []\n"
     ]
    },
    {
     "name": "stderr",
     "output_type": "stream",
     "text": [
      "  File \"/home/jianyao/Likelihood/utils.py\", line 200, in calc_vecp_test\n",
      "    cl_inv_12= sqrtm(cl_inv)\n",
      "  File \"/home/jianyao/anaconda3/lib/python3.7/site-packages/dynesty/dynesty.py\", line 939, in __call__\n",
      "    return self.func(x, *self.args, **self.kwargs)\n",
      "  File \"/home/jianyao/Likelihood/logLikeli.py\", line 53, in run\n",
      "    logL = testL(cl_hat = cl_hat, cl_f = self.cl_f[2], cl_th = cl_th, Nf = self.Nf, M_inv = self.Cov_inv, sbin = sbin, ebin = ebin)\n",
      "ValueError: array must not contain infs or NaNs\n",
      "ValueError: array must not contain infs or NaNs\n",
      "  File \"/home/jianyao/anaconda3/lib/python3.7/site-packages/numpy/lib/function_base.py\", line 486, in asarray_chkfinite\n",
      "    \"array must not contain infs or NaNs\")\n",
      "ValueError: array must not contain infs or NaNs\n",
      "  File \"/home/jianyao/anaconda3/lib/python3.7/site-packages/scipy/linalg/_matfuncs_sqrtm.py\", line 163, in sqrtm\n",
      "    A = _asarray_validated(A, check_finite=True, as_inexact=True)\n"
     ]
    },
    {
     "name": "stdout",
     "output_type": "stream",
     "text": [
      "  args: []\n"
     ]
    },
    {
     "name": "stderr",
     "output_type": "stream",
     "text": [
      "  File \"/home/jianyao/Likelihood/utils.py\", line 200, in calc_vecp_test\n",
      "    cl_inv_12= sqrtm(cl_inv)\n",
      "Traceback (most recent call last):\n"
     ]
    },
    {
     "name": "stdout",
     "output_type": "stream",
     "text": [
      "  args: []\n"
     ]
    },
    {
     "name": "stderr",
     "output_type": "stream",
     "text": [
      "  File \"/home/jianyao/anaconda3/lib/python3.7/site-packages/scipy/_lib/_util.py\", line 239, in _asarray_validated\n",
      "    a = toarray(a)\n",
      "  File \"/home/jianyao/anaconda3/lib/python3.7/site-packages/dynesty/dynesty.py\", line 939, in __call__\n",
      "    return self.func(x, *self.args, **self.kwargs)\n"
     ]
    },
    {
     "name": "stdout",
     "output_type": "stream",
     "text": [
      "Exception while calling loglikelihood function:\n",
      "  exception:\n",
      "  kwargs: {}\n"
     ]
    },
    {
     "name": "stderr",
     "output_type": "stream",
     "text": [
      "  File \"/home/jianyao/anaconda3/lib/python3.7/site-packages/scipy/linalg/_matfuncs_sqrtm.py\", line 163, in sqrtm\n",
      "    A = _asarray_validated(A, check_finite=True, as_inexact=True)\n"
     ]
    },
    {
     "name": "stdout",
     "output_type": "stream",
     "text": [
      "  exception:\n"
     ]
    },
    {
     "name": "stderr",
     "output_type": "stream",
     "text": [
      "  File \"/home/jianyao/Likelihood/utils.py\", line 232, in testL\n",
      "    Xa = (calc_vecp_test(cl_hat, cl_f,cl_th, Nf = Nf))\n",
      "Traceback (most recent call last):\n",
      "  File \"/home/jianyao/Likelihood/utils.py\", line 232, in testL\n",
      "    Xa = (calc_vecp_test(cl_hat, cl_f,cl_th, Nf = Nf))\n",
      "Traceback (most recent call last):\n",
      "  File \"/home/jianyao/Likelihood/utils.py\", line 232, in testL\n",
      "    Xa = (calc_vecp_test(cl_hat, cl_f,cl_th, Nf = Nf))\n"
     ]
    },
    {
     "name": "stdout",
     "output_type": "stream",
     "text": [
      "  args: []\n"
     ]
    },
    {
     "name": "stderr",
     "output_type": "stream",
     "text": [
      "ValueError: array must not contain infs or NaNs\n",
      "  File \"/home/jianyao/Likelihood/logLikeli.py\", line 53, in run\n",
      "    logL = testL(cl_hat = cl_hat, cl_f = self.cl_f[2], cl_th = cl_th, Nf = self.Nf, M_inv = self.Cov_inv, sbin = sbin, ebin = ebin)\n",
      "  File \"/home/jianyao/anaconda3/lib/python3.7/site-packages/scipy/linalg/_matfuncs_sqrtm.py\", line 163, in sqrtm\n",
      "    A = _asarray_validated(A, check_finite=True, as_inexact=True)\n",
      "  File \"/home/jianyao/Likelihood/utils.py\", line 200, in calc_vecp_test\n",
      "    cl_inv_12= sqrtm(cl_inv)\n",
      "  File \"/home/jianyao/Likelihood/logLikeli.py\", line 53, in run\n",
      "    logL = testL(cl_hat = cl_hat, cl_f = self.cl_f[2], cl_th = cl_th, Nf = self.Nf, M_inv = self.Cov_inv, sbin = sbin, ebin = ebin)\n"
     ]
    },
    {
     "name": "stdout",
     "output_type": "stream",
     "text": [
      "  kwargs: {}\n"
     ]
    },
    {
     "name": "stderr",
     "output_type": "stream",
     "text": [
      "  File \"/home/jianyao/Likelihood/utils.py\", line 232, in testL\n",
      "    Xa = (calc_vecp_test(cl_hat, cl_f,cl_th, Nf = Nf))\n",
      "  File \"/home/jianyao/anaconda3/lib/python3.7/site-packages/scipy/linalg/_matfuncs_sqrtm.py\", line 163, in sqrtm\n",
      "    A = _asarray_validated(A, check_finite=True, as_inexact=True)\n",
      "ValueError: array must not contain infs or NaNs\n"
     ]
    },
    {
     "name": "stdout",
     "output_type": "stream",
     "text": [
      "  kwargs: {}\n"
     ]
    },
    {
     "name": "stderr",
     "output_type": "stream",
     "text": [
      "  File \"<ipython-input-308-26dcbcb00df7>\", line 34, in log_likelihood\n",
      "    logL =LogL.run(cl_hat=(cl_hat_fore_ali) , cl_th = C_l, likelihood='HL',sbin=sbin, ebin = ebin);\n",
      "  File \"/home/jianyao/anaconda3/lib/python3.7/site-packages/scipy/linalg/_matfuncs_sqrtm.py\", line 163, in sqrtm\n",
      "    A = _asarray_validated(A, check_finite=True, as_inexact=True)\n"
     ]
    },
    {
     "name": "stdout",
     "output_type": "stream",
     "text": [
      "  kwargs: {}\n"
     ]
    },
    {
     "name": "stderr",
     "output_type": "stream",
     "text": [
      "  File \"/home/jianyao/anaconda3/lib/python3.7/site-packages/scipy/_lib/_util.py\", line 239, in _asarray_validated\n",
      "    a = toarray(a)\n",
      "Traceback (most recent call last):\n",
      "  File \"/home/jianyao/anaconda3/lib/python3.7/site-packages/numpy/lib/function_base.py\", line 486, in asarray_chkfinite\n",
      "    \"array must not contain infs or NaNs\")\n",
      "  File \"/home/jianyao/anaconda3/lib/python3.7/site-packages/scipy/_lib/_util.py\", line 239, in _asarray_validated\n",
      "    a = toarray(a)\n"
     ]
    },
    {
     "name": "stdout",
     "output_type": "stream",
     "text": [
      "  exception:\n"
     ]
    },
    {
     "name": "stderr",
     "output_type": "stream",
     "text": [
      "  File \"/home/jianyao/Likelihood/utils.py\", line 200, in calc_vecp_test\n",
      "    cl_inv_12= sqrtm(cl_inv)\n",
      "  File \"/home/jianyao/Likelihood/utils.py\", line 200, in calc_vecp_test\n",
      "    cl_inv_12= sqrtm(cl_inv)\n",
      "  File \"/home/jianyao/anaconda3/lib/python3.7/site-packages/dynesty/dynesty.py\", line 939, in __call__\n",
      "    return self.func(x, *self.args, **self.kwargs)\n",
      "  File \"/home/jianyao/Likelihood/utils.py\", line 200, in calc_vecp_test\n",
      "    cl_inv_12= sqrtm(cl_inv)\n",
      "Traceback (most recent call last):\n",
      "  File \"/home/jianyao/anaconda3/lib/python3.7/site-packages/dynesty/dynesty.py\", line 939, in __call__\n",
      "    return self.func(x, *self.args, **self.kwargs)\n",
      "  File \"/home/jianyao/anaconda3/lib/python3.7/site-packages/dynesty/dynesty.py\", line 939, in __call__\n",
      "    return self.func(x, *self.args, **self.kwargs)\n",
      "  File \"/home/jianyao/Likelihood/utils.py\", line 232, in testL\n",
      "    Xa = (calc_vecp_test(cl_hat, cl_f,cl_th, Nf = Nf))\n",
      "  File \"/home/jianyao/anaconda3/lib/python3.7/site-packages/scipy/_lib/_util.py\", line 239, in _asarray_validated\n",
      "    a = toarray(a)\n",
      "  File \"/home/jianyao/anaconda3/lib/python3.7/site-packages/scipy/linalg/_matfuncs_sqrtm.py\", line 163, in sqrtm\n",
      "    A = _asarray_validated(A, check_finite=True, as_inexact=True)\n",
      "  File \"/home/jianyao/Likelihood/utils.py\", line 232, in testL\n",
      "    Xa = (calc_vecp_test(cl_hat, cl_f,cl_th, Nf = Nf))\n"
     ]
    },
    {
     "name": "stdout",
     "output_type": "stream",
     "text": [
      "  exception:\n"
     ]
    },
    {
     "name": "stderr",
     "output_type": "stream",
     "text": [
      "  File \"/home/jianyao/anaconda3/lib/python3.7/site-packages/scipy/_lib/_util.py\", line 239, in _asarray_validated\n",
      "    a = toarray(a)\n"
     ]
    },
    {
     "name": "stdout",
     "output_type": "stream",
     "text": [
      "  params: [ 0.03029464 -1.02335948  1.76120221  0.27227235]\n"
     ]
    },
    {
     "name": "stderr",
     "output_type": "stream",
     "text": [
      "  File \"/home/jianyao/Likelihood/logLikeli.py\", line 53, in run\n",
      "    logL = testL(cl_hat = cl_hat, cl_f = self.cl_f[2], cl_th = cl_th, Nf = self.Nf, M_inv = self.Cov_inv, sbin = sbin, ebin = ebin)\n",
      "  File \"/home/jianyao/Likelihood/utils.py\", line 200, in calc_vecp_test\n",
      "    cl_inv_12= sqrtm(cl_inv)\n"
     ]
    },
    {
     "name": "stdout",
     "output_type": "stream",
     "text": [
      "  exception:\n",
      "  exception:\n"
     ]
    },
    {
     "name": "stderr",
     "output_type": "stream",
     "text": [
      "  File \"/home/jianyao/anaconda3/lib/python3.7/site-packages/scipy/_lib/_util.py\", line 239, in _asarray_validated\n",
      "    a = toarray(a)\n",
      "  File \"/home/jianyao/anaconda3/lib/python3.7/site-packages/numpy/lib/function_base.py\", line 486, in asarray_chkfinite\n",
      "    \"array must not contain infs or NaNs\")\n",
      "ValueError: array must not contain infs or NaNs\n",
      "  File \"/home/jianyao/anaconda3/lib/python3.7/site-packages/dynesty/dynesty.py\", line 939, in __call__\n",
      "    return self.func(x, *self.args, **self.kwargs)\n"
     ]
    },
    {
     "name": "stdout",
     "output_type": "stream",
     "text": [
      "Exception while calling loglikelihood function:\n"
     ]
    },
    {
     "name": "stderr",
     "output_type": "stream",
     "text": [
      "  File \"/home/jianyao/anaconda3/lib/python3.7/site-packages/numpy/lib/function_base.py\", line 486, in asarray_chkfinite\n",
      "    \"array must not contain infs or NaNs\")\n",
      "  File \"/home/jianyao/anaconda3/lib/python3.7/site-packages/scipy/linalg/_matfuncs_sqrtm.py\", line 163, in sqrtm\n",
      "    A = _asarray_validated(A, check_finite=True, as_inexact=True)\n",
      "  File \"<ipython-input-308-26dcbcb00df7>\", line 34, in log_likelihood\n",
      "    logL =LogL.run(cl_hat=(cl_hat_fore_ali) , cl_th = C_l, likelihood='HL',sbin=sbin, ebin = ebin);\n",
      "  File \"<ipython-input-308-26dcbcb00df7>\", line 34, in log_likelihood\n",
      "    logL =LogL.run(cl_hat=(cl_hat_fore_ali) , cl_th = C_l, likelihood='HL',sbin=sbin, ebin = ebin);\n",
      "  File \"/home/jianyao/anaconda3/lib/python3.7/site-packages/scipy/linalg/_matfuncs_sqrtm.py\", line 163, in sqrtm\n",
      "    A = _asarray_validated(A, check_finite=True, as_inexact=True)\n",
      "Traceback (most recent call last):\n"
     ]
    },
    {
     "name": "stdout",
     "output_type": "stream",
     "text": [
      "  kwargs: {}\n"
     ]
    },
    {
     "name": "stderr",
     "output_type": "stream",
     "text": [
      "  File \"/home/jianyao/anaconda3/lib/python3.7/site-packages/scipy/linalg/_matfuncs_sqrtm.py\", line 163, in sqrtm\n",
      "    A = _asarray_validated(A, check_finite=True, as_inexact=True)\n",
      "  File \"/home/jianyao/anaconda3/lib/python3.7/site-packages/dynesty/dynesty.py\", line 939, in __call__\n",
      "    return self.func(x, *self.args, **self.kwargs)\n"
     ]
    },
    {
     "name": "stdout",
     "output_type": "stream",
     "text": [
      "Exception while calling loglikelihood function:\n"
     ]
    },
    {
     "name": "stderr",
     "output_type": "stream",
     "text": [
      "  File \"<ipython-input-308-26dcbcb00df7>\", line 34, in log_likelihood\n",
      "    logL =LogL.run(cl_hat=(cl_hat_fore_ali) , cl_th = C_l, likelihood='HL',sbin=sbin, ebin = ebin);\n",
      "  File \"<ipython-input-308-26dcbcb00df7>\", line 34, in log_likelihood\n",
      "    logL =LogL.run(cl_hat=(cl_hat_fore_ali) , cl_th = C_l, likelihood='HL',sbin=sbin, ebin = ebin);\n",
      "  File \"/home/jianyao/Likelihood/utils.py\", line 200, in calc_vecp_test\n",
      "    cl_inv_12= sqrtm(cl_inv)\n"
     ]
    },
    {
     "name": "stdout",
     "output_type": "stream",
     "text": [
      "Exception while calling loglikelihood function:\n"
     ]
    },
    {
     "name": "stderr",
     "output_type": "stream",
     "text": [
      "  File \"/home/jianyao/anaconda3/lib/python3.7/site-packages/numpy/lib/function_base.py\", line 486, in asarray_chkfinite\n",
      "    \"array must not contain infs or NaNs\")\n",
      "  File \"/home/jianyao/anaconda3/lib/python3.7/site-packages/scipy/_lib/_util.py\", line 239, in _asarray_validated\n",
      "    a = toarray(a)\n",
      "  File \"/home/jianyao/Likelihood/utils.py\", line 200, in calc_vecp_test\n",
      "    cl_inv_12= sqrtm(cl_inv)\n"
     ]
    },
    {
     "name": "stdout",
     "output_type": "stream",
     "text": [
      "  args: []\n"
     ]
    },
    {
     "name": "stderr",
     "output_type": "stream",
     "text": [
      "  File \"/home/jianyao/anaconda3/lib/python3.7/site-packages/numpy/lib/function_base.py\", line 486, in asarray_chkfinite\n",
      "    \"array must not contain infs or NaNs\")\n",
      "Traceback (most recent call last):\n",
      "  File \"/home/jianyao/Likelihood/utils.py\", line 232, in testL\n",
      "    Xa = (calc_vecp_test(cl_hat, cl_f,cl_th, Nf = Nf))\n",
      "  File \"/home/jianyao/anaconda3/lib/python3.7/site-packages/scipy/linalg/_matfuncs_sqrtm.py\", line 163, in sqrtm\n",
      "    A = _asarray_validated(A, check_finite=True, as_inexact=True)\n",
      "  File \"/home/jianyao/anaconda3/lib/python3.7/site-packages/numpy/lib/function_base.py\", line 486, in asarray_chkfinite\n",
      "    \"array must not contain infs or NaNs\")\n",
      "Traceback (most recent call last):\n"
     ]
    },
    {
     "name": "stdout",
     "output_type": "stream",
     "text": [
      "Exception while calling loglikelihood function:\n"
     ]
    },
    {
     "name": "stderr",
     "output_type": "stream",
     "text": [
      "  File \"<ipython-input-308-26dcbcb00df7>\", line 34, in log_likelihood\n",
      "    logL =LogL.run(cl_hat=(cl_hat_fore_ali) , cl_th = C_l, likelihood='HL',sbin=sbin, ebin = ebin);\n",
      "ValueError: array must not contain infs or NaNs\n",
      "Traceback (most recent call last):\n"
     ]
    },
    {
     "name": "stdout",
     "output_type": "stream",
     "text": [
      "  params: [ 0.03212254 -1.56538367  1.95103595  0.91202918]\n"
     ]
    },
    {
     "name": "stderr",
     "output_type": "stream",
     "text": [
      "ValueError: array must not contain infs or NaNs\n",
      "  File \"/home/jianyao/anaconda3/lib/python3.7/site-packages/scipy/_lib/_util.py\", line 239, in _asarray_validated\n",
      "    a = toarray(a)\n",
      "  File \"/home/jianyao/Likelihood/logLikeli.py\", line 53, in run\n",
      "    logL = testL(cl_hat = cl_hat, cl_f = self.cl_f[2], cl_th = cl_th, Nf = self.Nf, M_inv = self.Cov_inv, sbin = sbin, ebin = ebin)\n",
      "  File \"/home/jianyao/Likelihood/logLikeli.py\", line 53, in run\n",
      "    logL = testL(cl_hat = cl_hat, cl_f = self.cl_f[2], cl_th = cl_th, Nf = self.Nf, M_inv = self.Cov_inv, sbin = sbin, ebin = ebin)\n"
     ]
    },
    {
     "name": "stdout",
     "output_type": "stream",
     "text": [
      "Exception while calling loglikelihood function:\n"
     ]
    },
    {
     "name": "stderr",
     "output_type": "stream",
     "text": [
      "  File \"/home/jianyao/anaconda3/lib/python3.7/site-packages/scipy/_lib/_util.py\", line 239, in _asarray_validated\n",
      "    a = toarray(a)\n",
      "  File \"/home/jianyao/anaconda3/lib/python3.7/site-packages/dynesty/dynesty.py\", line 939, in __call__\n",
      "    return self.func(x, *self.args, **self.kwargs)\n"
     ]
    },
    {
     "name": "stdout",
     "output_type": "stream",
     "text": [
      "  exception:\n"
     ]
    },
    {
     "name": "stderr",
     "output_type": "stream",
     "text": [
      "  File \"/home/jianyao/anaconda3/lib/python3.7/site-packages/scipy/_lib/_util.py\", line 239, in _asarray_validated\n",
      "    a = toarray(a)\n",
      "  File \"<ipython-input-308-26dcbcb00df7>\", line 34, in log_likelihood\n",
      "    logL =LogL.run(cl_hat=(cl_hat_fore_ali) , cl_th = C_l, likelihood='HL',sbin=sbin, ebin = ebin);\n",
      "  File \"/home/jianyao/Likelihood/logLikeli.py\", line 53, in run\n",
      "    logL = testL(cl_hat = cl_hat, cl_f = self.cl_f[2], cl_th = cl_th, Nf = self.Nf, M_inv = self.Cov_inv, sbin = sbin, ebin = ebin)\n"
     ]
    },
    {
     "name": "stdout",
     "output_type": "stream",
     "text": [
      "  params: [ 0.01202167 -2.55785024  1.17989641  0.67181039]\n"
     ]
    },
    {
     "name": "stderr",
     "output_type": "stream",
     "text": [
      "  File \"/home/jianyao/Likelihood/logLikeli.py\", line 53, in run\n",
      "    logL = testL(cl_hat = cl_hat, cl_f = self.cl_f[2], cl_th = cl_th, Nf = self.Nf, M_inv = self.Cov_inv, sbin = sbin, ebin = ebin)\n",
      "  File \"/home/jianyao/anaconda3/lib/python3.7/site-packages/scipy/linalg/_matfuncs_sqrtm.py\", line 163, in sqrtm\n",
      "    A = _asarray_validated(A, check_finite=True, as_inexact=True)\n",
      "ValueError: array must not contain infs or NaNs\n",
      "  File \"/home/jianyao/anaconda3/lib/python3.7/site-packages/numpy/lib/function_base.py\", line 486, in asarray_chkfinite\n",
      "    \"array must not contain infs or NaNs\")\n",
      "  File \"/home/jianyao/anaconda3/lib/python3.7/site-packages/scipy/linalg/_matfuncs_sqrtm.py\", line 163, in sqrtm\n",
      "    A = _asarray_validated(A, check_finite=True, as_inexact=True)\n",
      "ValueError: array must not contain infs or NaNs\n"
     ]
    },
    {
     "name": "stdout",
     "output_type": "stream",
     "text": [
      "  kwargs: {}\n"
     ]
    },
    {
     "name": "stderr",
     "output_type": "stream",
     "text": [
      "  File \"/home/jianyao/anaconda3/lib/python3.7/site-packages/dynesty/dynesty.py\", line 939, in __call__\n",
      "    return self.func(x, *self.args, **self.kwargs)\n",
      "  File \"/home/jianyao/anaconda3/lib/python3.7/site-packages/scipy/_lib/_util.py\", line 239, in _asarray_validated\n",
      "    a = toarray(a)\n",
      "ValueError: array must not contain infs or NaNs\n",
      "  File \"/home/jianyao/Likelihood/utils.py\", line 200, in calc_vecp_test\n",
      "    cl_inv_12= sqrtm(cl_inv)\n"
     ]
    },
    {
     "name": "stdout",
     "output_type": "stream",
     "text": [
      "  params: [ 0.19507335 -1.22248667  2.50347245  0.41174947]\n"
     ]
    },
    {
     "name": "stderr",
     "output_type": "stream",
     "text": [
      "  File \"/home/jianyao/anaconda3/lib/python3.7/site-packages/dynesty/dynesty.py\", line 939, in __call__\n",
      "    return self.func(x, *self.args, **self.kwargs)\n"
     ]
    },
    {
     "name": "stdout",
     "output_type": "stream",
     "text": [
      "  args: []\n"
     ]
    },
    {
     "name": "stderr",
     "output_type": "stream",
     "text": [
      "  File \"/home/jianyao/anaconda3/lib/python3.7/site-packages/dynesty/dynesty.py\", line 939, in __call__\n",
      "    return self.func(x, *self.args, **self.kwargs)\n",
      "  File \"/home/jianyao/Likelihood/logLikeli.py\", line 53, in run\n",
      "    logL = testL(cl_hat = cl_hat, cl_f = self.cl_f[2], cl_th = cl_th, Nf = self.Nf, M_inv = self.Cov_inv, sbin = sbin, ebin = ebin)\n",
      "  File \"/home/jianyao/anaconda3/lib/python3.7/site-packages/numpy/lib/function_base.py\", line 486, in asarray_chkfinite\n",
      "    \"array must not contain infs or NaNs\")\n",
      "  File \"/home/jianyao/Likelihood/utils.py\", line 232, in testL\n",
      "    Xa = (calc_vecp_test(cl_hat, cl_f,cl_th, Nf = Nf))\n"
     ]
    },
    {
     "name": "stdout",
     "output_type": "stream",
     "text": [
      "Exception while calling loglikelihood function:\n"
     ]
    },
    {
     "name": "stderr",
     "output_type": "stream",
     "text": [
      "  File \"/home/jianyao/Likelihood/utils.py\", line 232, in testL\n",
      "    Xa = (calc_vecp_test(cl_hat, cl_f,cl_th, Nf = Nf))\n",
      "  File \"/home/jianyao/anaconda3/lib/python3.7/site-packages/numpy/lib/function_base.py\", line 486, in asarray_chkfinite\n",
      "    \"array must not contain infs or NaNs\")\n"
     ]
    },
    {
     "name": "stdout",
     "output_type": "stream",
     "text": [
      "  params: [ 0.11325568 -1.34870832  1.61046813  0.38764392]\n"
     ]
    },
    {
     "name": "stderr",
     "output_type": "stream",
     "text": [
      "  File \"<ipython-input-308-26dcbcb00df7>\", line 34, in log_likelihood\n",
      "    logL =LogL.run(cl_hat=(cl_hat_fore_ali) , cl_th = C_l, likelihood='HL',sbin=sbin, ebin = ebin);\n",
      "  File \"/home/jianyao/anaconda3/lib/python3.7/site-packages/numpy/lib/function_base.py\", line 486, in asarray_chkfinite\n",
      "    \"array must not contain infs or NaNs\")\n",
      "  File \"/home/jianyao/Likelihood/logLikeli.py\", line 53, in run\n",
      "    logL = testL(cl_hat = cl_hat, cl_f = self.cl_f[2], cl_th = cl_th, Nf = self.Nf, M_inv = self.Cov_inv, sbin = sbin, ebin = ebin)\n",
      "  File \"/home/jianyao/Likelihood/utils.py\", line 232, in testL\n",
      "    Xa = (calc_vecp_test(cl_hat, cl_f,cl_th, Nf = Nf))\n",
      "Traceback (most recent call last):\n"
     ]
    },
    {
     "name": "stdout",
     "output_type": "stream",
     "text": [
      "  args: []\n",
      "  params: [ 0.0799747  -1.65822077  1.59667227  0.82605594]\n"
     ]
    },
    {
     "name": "stderr",
     "output_type": "stream",
     "text": [
      "  File \"/home/jianyao/Likelihood/utils.py\", line 232, in testL\n",
      "    Xa = (calc_vecp_test(cl_hat, cl_f,cl_th, Nf = Nf))\n",
      "  File \"/home/jianyao/anaconda3/lib/python3.7/site-packages/scipy/_lib/_util.py\", line 239, in _asarray_validated\n",
      "    a = toarray(a)\n",
      "ValueError: array must not contain infs or NaNs\n",
      "  File \"/home/jianyao/anaconda3/lib/python3.7/site-packages/scipy/_lib/_util.py\", line 239, in _asarray_validated\n",
      "    a = toarray(a)\n"
     ]
    },
    {
     "name": "stdout",
     "output_type": "stream",
     "text": [
      "  exception:\n"
     ]
    },
    {
     "name": "stderr",
     "output_type": "stream",
     "text": [
      "  File \"<ipython-input-308-26dcbcb00df7>\", line 34, in log_likelihood\n",
      "    logL =LogL.run(cl_hat=(cl_hat_fore_ali) , cl_th = C_l, likelihood='HL',sbin=sbin, ebin = ebin);\n",
      "  File \"/home/jianyao/anaconda3/lib/python3.7/site-packages/scipy/linalg/_matfuncs_sqrtm.py\", line 163, in sqrtm\n",
      "    A = _asarray_validated(A, check_finite=True, as_inexact=True)\n",
      "  File \"/home/jianyao/anaconda3/lib/python3.7/site-packages/numpy/lib/function_base.py\", line 486, in asarray_chkfinite\n",
      "    \"array must not contain infs or NaNs\")\n",
      "  File \"<ipython-input-308-26dcbcb00df7>\", line 34, in log_likelihood\n",
      "    logL =LogL.run(cl_hat=(cl_hat_fore_ali) , cl_th = C_l, likelihood='HL',sbin=sbin, ebin = ebin);\n"
     ]
    },
    {
     "name": "stdout",
     "output_type": "stream",
     "text": [
      "  args: []\n"
     ]
    },
    {
     "name": "stderr",
     "output_type": "stream",
     "text": [
      "  File \"/home/jianyao/Likelihood/utils.py\", line 232, in testL\n",
      "    Xa = (calc_vecp_test(cl_hat, cl_f,cl_th, Nf = Nf))\n",
      "  File \"<ipython-input-308-26dcbcb00df7>\", line 34, in log_likelihood\n",
      "    logL =LogL.run(cl_hat=(cl_hat_fore_ali) , cl_th = C_l, likelihood='HL',sbin=sbin, ebin = ebin);\n"
     ]
    },
    {
     "name": "stdout",
     "output_type": "stream",
     "text": [
      "  kwargs: {}\n"
     ]
    },
    {
     "name": "stderr",
     "output_type": "stream",
     "text": [
      "ValueError: array must not contain infs or NaNs\n",
      "  File \"/home/jianyao/Likelihood/utils.py\", line 200, in calc_vecp_test\n",
      "    cl_inv_12= sqrtm(cl_inv)\n",
      "  File \"/home/jianyao/Likelihood/utils.py\", line 200, in calc_vecp_test\n",
      "    cl_inv_12= sqrtm(cl_inv)\n",
      "ValueError: array must not contain infs or NaNs\n"
     ]
    },
    {
     "name": "stdout",
     "output_type": "stream",
     "text": [
      "  args: []\n"
     ]
    },
    {
     "name": "stderr",
     "output_type": "stream",
     "text": [
      "  File \"/home/jianyao/Likelihood/logLikeli.py\", line 53, in run\n",
      "    logL = testL(cl_hat = cl_hat, cl_f = self.cl_f[2], cl_th = cl_th, Nf = self.Nf, M_inv = self.Cov_inv, sbin = sbin, ebin = ebin)\n",
      "ValueError: array must not contain infs or NaNs\n"
     ]
    },
    {
     "name": "stdout",
     "output_type": "stream",
     "text": [
      "  params: [ 0.10854635 -0.16176438  2.88692959  0.13767083]\n"
     ]
    },
    {
     "name": "stderr",
     "output_type": "stream",
     "text": [
      "  File \"/home/jianyao/Likelihood/utils.py\", line 232, in testL\n",
      "    Xa = (calc_vecp_test(cl_hat, cl_f,cl_th, Nf = Nf))\n",
      "  File \"/home/jianyao/Likelihood/utils.py\", line 200, in calc_vecp_test\n",
      "    cl_inv_12= sqrtm(cl_inv)\n",
      "  File \"/home/jianyao/anaconda3/lib/python3.7/site-packages/dynesty/dynesty.py\", line 939, in __call__\n",
      "    return self.func(x, *self.args, **self.kwargs)\n"
     ]
    },
    {
     "name": "stdout",
     "output_type": "stream",
     "text": [
      "  kwargs: {}\n",
      "  args: []\n"
     ]
    },
    {
     "name": "stderr",
     "output_type": "stream",
     "text": [
      "  File \"/home/jianyao/anaconda3/lib/python3.7/site-packages/numpy/lib/function_base.py\", line 486, in asarray_chkfinite\n",
      "    \"array must not contain infs or NaNs\")\n",
      "  File \"/home/jianyao/Likelihood/utils.py\", line 200, in calc_vecp_test\n",
      "    cl_inv_12= sqrtm(cl_inv)\n",
      "  File \"/home/jianyao/anaconda3/lib/python3.7/site-packages/numpy/lib/function_base.py\", line 486, in asarray_chkfinite\n",
      "    \"array must not contain infs or NaNs\")\n",
      "  File \"/home/jianyao/Likelihood/logLikeli.py\", line 53, in run\n",
      "    logL = testL(cl_hat = cl_hat, cl_f = self.cl_f[2], cl_th = cl_th, Nf = self.Nf, M_inv = self.Cov_inv, sbin = sbin, ebin = ebin)\n",
      "  File \"/home/jianyao/anaconda3/lib/python3.7/site-packages/scipy/_lib/_util.py\", line 239, in _asarray_validated\n",
      "    a = toarray(a)\n",
      "ValueError: array must not contain infs or NaNs\n",
      "  File \"/home/jianyao/Likelihood/logLikeli.py\", line 53, in run\n",
      "    logL = testL(cl_hat = cl_hat, cl_f = self.cl_f[2], cl_th = cl_th, Nf = self.Nf, M_inv = self.Cov_inv, sbin = sbin, ebin = ebin)\n",
      "Traceback (most recent call last):\n",
      "  File \"/home/jianyao/Likelihood/utils.py\", line 200, in calc_vecp_test\n",
      "    cl_inv_12= sqrtm(cl_inv)\n"
     ]
    },
    {
     "name": "stdout",
     "output_type": "stream",
     "text": [
      "  kwargs: {}\n"
     ]
    },
    {
     "name": "stderr",
     "output_type": "stream",
     "text": [
      "  File \"/home/jianyao/Likelihood/logLikeli.py\", line 53, in run\n",
      "    logL = testL(cl_hat = cl_hat, cl_f = self.cl_f[2], cl_th = cl_th, Nf = self.Nf, M_inv = self.Cov_inv, sbin = sbin, ebin = ebin)\n"
     ]
    },
    {
     "name": "stdout",
     "output_type": "stream",
     "text": [
      "  exception:\n"
     ]
    },
    {
     "name": "stderr",
     "output_type": "stream",
     "text": [
      "  File \"/home/jianyao/anaconda3/lib/python3.7/site-packages/scipy/linalg/_matfuncs_sqrtm.py\", line 163, in sqrtm\n",
      "    A = _asarray_validated(A, check_finite=True, as_inexact=True)\n",
      "  File \"/home/jianyao/anaconda3/lib/python3.7/site-packages/scipy/linalg/_matfuncs_sqrtm.py\", line 163, in sqrtm\n",
      "    A = _asarray_validated(A, check_finite=True, as_inexact=True)\n"
     ]
    },
    {
     "name": "stdout",
     "output_type": "stream",
     "text": [
      "  kwargs: {}\n"
     ]
    },
    {
     "name": "stderr",
     "output_type": "stream",
     "text": [
      "  File \"/home/jianyao/Likelihood/utils.py\", line 232, in testL\n",
      "    Xa = (calc_vecp_test(cl_hat, cl_f,cl_th, Nf = Nf))\n"
     ]
    },
    {
     "name": "stdout",
     "output_type": "stream",
     "text": [
      "  args: []\n"
     ]
    },
    {
     "name": "stderr",
     "output_type": "stream",
     "text": [
      "  File \"/home/jianyao/anaconda3/lib/python3.7/site-packages/scipy/linalg/_matfuncs_sqrtm.py\", line 163, in sqrtm\n",
      "    A = _asarray_validated(A, check_finite=True, as_inexact=True)\n",
      "  File \"/home/jianyao/Likelihood/utils.py\", line 200, in calc_vecp_test\n",
      "    cl_inv_12= sqrtm(cl_inv)\n",
      "  File \"<ipython-input-308-26dcbcb00df7>\", line 34, in log_likelihood\n",
      "    logL =LogL.run(cl_hat=(cl_hat_fore_ali) , cl_th = C_l, likelihood='HL',sbin=sbin, ebin = ebin);\n"
     ]
    },
    {
     "name": "stdout",
     "output_type": "stream",
     "text": [
      "  exception:\n",
      "  kwargs: {}\n"
     ]
    },
    {
     "name": "stderr",
     "output_type": "stream",
     "text": [
      "ValueError: array must not contain infs or NaNs\n",
      "  File \"/home/jianyao/anaconda3/lib/python3.7/site-packages/scipy/linalg/_matfuncs_sqrtm.py\", line 163, in sqrtm\n",
      "    A = _asarray_validated(A, check_finite=True, as_inexact=True)\n",
      "ValueError: array must not contain infs or NaNs\n",
      "  File \"/home/jianyao/Likelihood/utils.py\", line 232, in testL\n",
      "    Xa = (calc_vecp_test(cl_hat, cl_f,cl_th, Nf = Nf))\n",
      "  File \"/home/jianyao/anaconda3/lib/python3.7/site-packages/numpy/lib/function_base.py\", line 486, in asarray_chkfinite\n",
      "    \"array must not contain infs or NaNs\")\n",
      "  File \"/home/jianyao/Likelihood/utils.py\", line 232, in testL\n",
      "    Xa = (calc_vecp_test(cl_hat, cl_f,cl_th, Nf = Nf))\n",
      "  File \"/home/jianyao/anaconda3/lib/python3.7/site-packages/dynesty/dynesty.py\", line 939, in __call__\n",
      "    return self.func(x, *self.args, **self.kwargs)\n",
      "  File \"/home/jianyao/anaconda3/lib/python3.7/site-packages/scipy/linalg/_matfuncs_sqrtm.py\", line 163, in sqrtm\n",
      "    A = _asarray_validated(A, check_finite=True, as_inexact=True)\n"
     ]
    },
    {
     "name": "stdout",
     "output_type": "stream",
     "text": [
      "  exception:\n"
     ]
    },
    {
     "name": "stderr",
     "output_type": "stream",
     "text": [
      "  File \"/home/jianyao/Likelihood/utils.py\", line 232, in testL\n",
      "    Xa = (calc_vecp_test(cl_hat, cl_f,cl_th, Nf = Nf))\n",
      "  File \"/home/jianyao/anaconda3/lib/python3.7/site-packages/scipy/_lib/_util.py\", line 239, in _asarray_validated\n",
      "    a = toarray(a)\n",
      "  File \"/home/jianyao/anaconda3/lib/python3.7/site-packages/scipy/_lib/_util.py\", line 239, in _asarray_validated\n",
      "    a = toarray(a)\n",
      "Traceback (most recent call last):\n"
     ]
    },
    {
     "name": "stdout",
     "output_type": "stream",
     "text": [
      "  exception:\n"
     ]
    },
    {
     "name": "stderr",
     "output_type": "stream",
     "text": [
      "  File \"/home/jianyao/Likelihood/utils.py\", line 200, in calc_vecp_test\n",
      "    cl_inv_12= sqrtm(cl_inv)\n"
     ]
    },
    {
     "name": "stdout",
     "output_type": "stream",
     "text": [
      "  kwargs: {}\n"
     ]
    },
    {
     "name": "stderr",
     "output_type": "stream",
     "text": [
      "  File \"/home/jianyao/anaconda3/lib/python3.7/site-packages/scipy/_lib/_util.py\", line 239, in _asarray_validated\n",
      "    a = toarray(a)\n",
      "  File \"/home/jianyao/anaconda3/lib/python3.7/site-packages/scipy/linalg/_matfuncs_sqrtm.py\", line 163, in sqrtm\n",
      "    A = _asarray_validated(A, check_finite=True, as_inexact=True)\n",
      "  File \"/home/jianyao/Likelihood/logLikeli.py\", line 53, in run\n",
      "    logL = testL(cl_hat = cl_hat, cl_f = self.cl_f[2], cl_th = cl_th, Nf = self.Nf, M_inv = self.Cov_inv, sbin = sbin, ebin = ebin)\n"
     ]
    },
    {
     "name": "stdout",
     "output_type": "stream",
     "text": [
      "  exception:\n"
     ]
    },
    {
     "name": "stderr",
     "output_type": "stream",
     "text": [
      "Traceback (most recent call last):\n",
      "  File \"/home/jianyao/anaconda3/lib/python3.7/site-packages/scipy/_lib/_util.py\", line 239, in _asarray_validated\n",
      "    a = toarray(a)\n",
      "  File \"/home/jianyao/Likelihood/utils.py\", line 200, in calc_vecp_test\n",
      "    cl_inv_12= sqrtm(cl_inv)\n",
      "ValueError: array must not contain infs or NaNs\n"
     ]
    }
   ],
   "source": [
    "npara = 4; Nsim = 1; sbin = 1; ebin = 2#lbin\n",
    "\n",
    "def prior(cube):\n",
    "    \n",
    "    r = cube[0]*0.2\n",
    "    beta_s = cube[1]*4 - 4## from -4 to -2\n",
    "#     beta_d = cube[2]*0.4 + 1.4 ## from 1.4 to 1.8\n",
    "    beta_d = cube[2]*2 + 1 \n",
    "    epsilon = cube[3];\n",
    "    \n",
    "    return [r, beta_s, beta_d, epsilon]\n",
    "\n",
    "Mean = np.zeros((Nsim,npara)); Samples = np.zeros((Nsim, npara)); Weights = np.zeros(Nsim); Results = []\n",
    "# LogL.Cov = LogL.Cov*10.0;\n",
    "\n",
    "for n in range(0, Nsim):\n",
    "    \n",
    "    cl_hat_fore_ali = cl_hat_ali\n",
    "      \n",
    "    def log_likelihood(cube, subtract = False):\n",
    "        \n",
    "        r_i = cube[0];\n",
    "        beta_s = cube[1];\n",
    "        beta_d = cube[2];\n",
    "        epsilon = cube[3];\n",
    "\n",
    "        cl_th_test = combine_ps(r_i)  ## combine the tensor bb and lensing bb\n",
    "        \n",
    "        fl_hat = sync_ps_v0(A_s_tem, beta_s, lbin) + dust_ps_v0(A_d_tem, beta_d, lbin) + corre_fore_simple(epsilon, A_d_tem, A_s_tem, beta_s, beta_d, lbin)\n",
    "        \n",
    "        # add Noise bias N_l to expectation values.########################## Noise level\n",
    "        C_l = cl_th_test + nl_mean + fl_hat\n",
    "        \n",
    "        logL =LogL.run(cl_hat=(cl_hat_fore_ali) , cl_th = C_l, likelihood='HL',sbin=sbin, ebin = ebin); \n",
    "#         print(logL)\n",
    "        return np.real(logL)\n",
    "    \n",
    "    with Pool(cpu_count()-1) as executor:\n",
    "        \n",
    "        sampler = dynesty.NestedSampler(log_likelihood, prior, npara, nlive=400, pool=executor, queue_size=cpu_count(), bootstrap = 0)\n",
    "        sampler.run_nested()\n",
    "        results = sampler.results\n",
    "    Results.append(results)\n",
    "    \n",
    "    if n == 0 : \n",
    "        samples, weights = results.samples, np.exp(results.logwt - results.logz[-1])\n",
    "    \n",
    "    else: \n",
    "        _samples, _weights = results.samples, np.exp(results.logwt - results.logz[-1])\n",
    "        samples = np.r_[samples, _samples];\n",
    "        weights = np.r_[weights, _weights];"
   ]
  },
  {
   "cell_type": "code",
   "execution_count": null,
   "metadata": {
    "ExecuteTime": {
     "end_time": "2020-08-13T16:40:35.439970Z",
     "start_time": "2020-08-13T16:40:35.422094Z"
    }
   },
   "outputs": [],
   "source": []
  },
  {
   "cell_type": "markdown",
   "metadata": {},
   "source": [
    "### using minuit"
   ]
  },
  {
   "cell_type": "code",
   "execution_count": 290,
   "metadata": {
    "ExecuteTime": {
     "end_time": "2020-08-23T15:30:52.337190Z",
     "start_time": "2020-08-23T15:30:52.328401Z"
    }
   },
   "outputs": [],
   "source": [
    "def Min_log_likelihood(r_i, beta_s, beta_d, epsilon):\n",
    "   \n",
    "    fl_hat = sync_ps_v0(A_s_RJ, beta_s, lbin) + dust_ps_v0(A_d_RJ, beta_d, lbin) + corre_fore_simple(epsilon, A_d_RJ, A_s_RJ, beta_s, beta_d, lbin)\n",
    "\n",
    "    C_l = combine_ps(r_i) + nl_mean + fl_hat;\n",
    "    logL = utils.simple_likelihood(cl_hat_ali, C_l, Nf = Nf, M_inv = LogL.Cov_inv, sbin = 1,ebin = 10)\n",
    "\n",
    "    return -2*logL"
   ]
  },
  {
   "cell_type": "code",
   "execution_count": 291,
   "metadata": {
    "ExecuteTime": {
     "end_time": "2020-08-23T15:30:54.101228Z",
     "start_time": "2020-08-23T15:30:54.098361Z"
    }
   },
   "outputs": [],
   "source": [
    "m = Minuit(Min_log_likelihood, r_i = 0.05, beta_s = -2, beta_d = 2, epsilon = 0.1, errordef = Minuit.LEAST_SQUARES)"
   ]
  },
  {
   "cell_type": "code",
   "execution_count": 292,
   "metadata": {
    "ExecuteTime": {
     "end_time": "2020-08-23T15:30:58.581692Z",
     "start_time": "2020-08-23T15:30:57.147409Z"
    }
   },
   "outputs": [
    {
     "name": "stderr",
     "output_type": "stream",
     "text": [
      "/home/jianyao/Likelihood/Fg_template.py:60: RuntimeWarning: overflow encountered in double_scalars\n",
      "  sl[ell, i, j] = A_s[ell]*(nu[i]*nu[j]/nu0**2)**(beta_s)*coeff[i]*coeff[j] ;\n",
      "/home/jianyao/Likelihood/Fg_template.py:33: RuntimeWarning: overflow encountered in double_scalars\n",
      "  dl[ell, i,j] = A_d[ell]*(nu[i]*nu[j]/nu0**2)**(beta_d - 2)*factors[i,j]*coeff[i]*coeff[j]\n",
      "/home/jianyao/Likelihood/Fg_template.py:93: RuntimeWarning: overflow encountered in double_scalars\n",
      "  return (nu/nu0)**(beta_d - 2)*pf(nu, T_d)/pf(nu0, T_d)\n",
      "/home/jianyao/Likelihood/Fg_template.py:100: RuntimeWarning: overflow encountered in double_scalars\n",
      "  return (nu/nu0)**beta_s\n",
      "/home/jianyao/anaconda3/lib/python3.7/site-packages/ipykernel_launcher.py:3: RuntimeWarning: invalid value encountered in add\n",
      "  This is separate from the ipykernel package so we can avoid doing imports until\n"
     ]
    },
    {
     "data": {
      "text/html": [
       "<table>\n",
       "<tr> <td colspan=\"2\" style=\"text-align:center\" title=\"Minimum value of function\"> FCN = -9.191e+19 </td> <td colspan=\"3\" title=\"No. of calls in last algorithm and total number of calls\"> Ncalls = 213 (213 total) </td> </tr>\n",
       "<tr> <td colspan=\"2\" style=\"text-align:center\" title=\"Estimated distance to minimum and target threshold\"> EDM = nan (Goal: 0.0002) </td> <td colspan=\"3\" title=\"Increase in FCN which corresponds to 1 standard deviation\"> up = 1.0 </td> </tr>\n",
       "<tr> <td title=\"Validity of the migrad call\"> Valid Min. </td> <td title=\"Validity of parameters\"> Valid Param. </td> <td title=\"Is EDM above goal EDM?\"> Above EDM </td> <td colspan=\"2\" title=\"Did last migrad call reach max call limit?\"> Reached call limit </td> </tr>\n",
       "<tr> <td style=\"background-color:#92CCA6;\"> True </td> <td style=\"background-color:#92CCA6;\"> True </td> <td style=\"background-color:#92CCA6;\"> False </td> <td colspan=\"2\" style=\"background-color:#92CCA6;\"> False </td> </tr>\n",
       "<tr> <td title=\"Did Hesse fail?\"> Hesse failed </td> <td title=\"Has covariance matrix\"> Has cov. </td> <td title=\"Is covariance matrix accurate?\"> Accurate </td> <td title=\"Is covariance matrix positive definite?\"> Pos. def. </td> <td title=\"Was positive definiteness enforced by Minuit?\"> Forced </td> </tr>\n",
       "<tr> <td style=\"background-color:#92CCA6;\"> False </td> <td style=\"background-color:#92CCA6;\"> True </td> <td style=\"background-color:#FF7878;\"> False </td> <td style=\"background-color:#FF7878;\"> False </td> <td style=\"background-color:#FF7878;\"> True </td> </tr>\n",
       "</table>\n",
       "<table>\n",
       "<tr style=\"background-color:#F4F4F4;\"> <td/> <th title=\"Variable name\"> Name </th> <th title=\"Value of parameter\"> Value </th> <th title=\"Hesse error\"> Hesse Error </th> <th title=\"Minos lower error\"> Minos Error- </th> <th title=\"Minos upper error\"> Minos Error+ </th> <th title=\"Lower limit of the parameter\"> Limit- </th> <th title=\"Upper limit of the parameter\"> Limit+ </th> <th title=\"Is the parameter fixed in the fit\"> Fixed </th> </tr>\n",
       "<tr style=\"background-color:#FFFFFF;\"> <th> 0 </th> <td> r_i </td> <td> -1.4702 </td> <td> nan </td> <td>  </td> <td>  </td> <td>  </td> <td>  </td> <td>  </td> </tr>\n",
       "<tr style=\"background-color:#F4F4F4;\"> <th> 1 </th> <td> beta_s </td> <td> -1.994 </td> <td> nan </td> <td>  </td> <td>  </td> <td>  </td> <td>  </td> <td>  </td> </tr>\n",
       "<tr style=\"background-color:#FFFFFF;\"> <th> 2 </th> <td> beta_d </td> <td> 1.9771 </td> <td> nan </td> <td>  </td> <td>  </td> <td>  </td> <td>  </td> <td>  </td> </tr>\n",
       "<tr style=\"background-color:#F4F4F4;\"> <th> 3 </th> <td> epsilon </td> <td> -1.0818e1 </td> <td> nan </td> <td>  </td> <td>  </td> <td>  </td> <td>  </td> <td>  </td> </tr>\n",
       "</table>\n"
      ],
      "text/plain": [
       "------------------------------------------------------------------\n",
       "| FCN = -9.191e+19              |     Ncalls=213 (213 total)     |\n",
       "| EDM = nan (Goal: 0.0002)      |            up = 1.0            |\n",
       "------------------------------------------------------------------\n",
       "|  Valid Min.   | Valid Param.  | Above EDM | Reached call limit |\n",
       "------------------------------------------------------------------\n",
       "|     True      |     True      |   False   |       False        |\n",
       "------------------------------------------------------------------\n",
       "| Hesse failed  |   Has cov.    | Accurate  | Pos. def. | Forced |\n",
       "------------------------------------------------------------------\n",
       "|     False     |     True      |   False   |   False   |  True  |\n",
       "------------------------------------------------------------------\n",
       "---------------------------------------------------------------------------------------------\n",
       "|   | Name    |   Value   | Hesse Err | Minos Err- | Minos Err+ | Limit-  | Limit+  | Fixed |\n",
       "---------------------------------------------------------------------------------------------\n",
       "| 0 | r_i     |  -1.4702  |    nan    |            |            |         |         |       |\n",
       "| 1 | beta_s  |  -1.994   |    nan    |            |            |         |         |       |\n",
       "| 2 | beta_d  |  1.9771   |    nan    |            |            |         |         |       |\n",
       "| 3 | epsilon | -1.0818e1 |    nan    |            |            |         |         |       |\n",
       "---------------------------------------------------------------------------------------------"
      ]
     },
     "execution_count": 292,
     "metadata": {},
     "output_type": "execute_result"
    }
   ],
   "source": [
    "m.migrad()"
   ]
  },
  {
   "cell_type": "code",
   "execution_count": 120,
   "metadata": {
    "ExecuteTime": {
     "end_time": "2020-08-19T15:46:41.896486Z",
     "start_time": "2020-08-19T15:46:41.890996Z"
    }
   },
   "outputs": [
    {
     "data": {
      "text/plain": [
       "-1.8628958786081155e+20"
      ]
     },
     "execution_count": 120,
     "metadata": {},
     "output_type": "execute_result"
    }
   ],
   "source": [
    "m.fval"
   ]
  },
  {
   "cell_type": "code",
   "execution_count": null,
   "metadata": {},
   "outputs": [],
   "source": []
  }
 ],
 "metadata": {
  "kernelspec": {
   "display_name": "Python 3",
   "language": "python",
   "name": "python3"
  },
  "language_info": {
   "codemirror_mode": {
    "name": "ipython",
    "version": 3
   },
   "file_extension": ".py",
   "mimetype": "text/x-python",
   "name": "python",
   "nbconvert_exporter": "python",
   "pygments_lexer": "ipython3",
   "version": "3.7.3"
  },
  "toc": {
   "base_numbering": 1,
   "nav_menu": {},
   "number_sections": true,
   "sideBar": false,
   "skip_h1_title": false,
   "title_cell": "Table of Contents",
   "title_sidebar": "Contents",
   "toc_cell": false,
   "toc_position": {
    "height": "47px",
    "left": "1666px",
    "top": "110px",
    "width": "159px"
   },
   "toc_section_display": false,
   "toc_window_display": true
  },
  "varInspector": {
   "cols": {
    "lenName": 16,
    "lenType": 16,
    "lenVar": 40
   },
   "kernels_config": {
    "python": {
     "delete_cmd_postfix": "",
     "delete_cmd_prefix": "del ",
     "library": "var_list.py",
     "varRefreshCmd": "print(var_dic_list())"
    },
    "r": {
     "delete_cmd_postfix": ") ",
     "delete_cmd_prefix": "rm(",
     "library": "var_list.r",
     "varRefreshCmd": "cat(var_dic_list()) "
    }
   },
   "position": {
    "height": "450px",
    "left": "1569px",
    "right": "20px",
    "top": "127px",
    "width": "350px"
   },
   "types_to_exclude": [
    "module",
    "function",
    "builtin_function_or_method",
    "instance",
    "_Feature"
   ],
   "window_display": false
  }
 },
 "nbformat": 4,
 "nbformat_minor": 2
}
