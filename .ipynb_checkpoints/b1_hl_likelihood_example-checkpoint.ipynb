{
 "cells": [
  {
   "cell_type": "code",
   "execution_count": 1,
   "metadata": {
    "ExecuteTime": {
     "end_time": "2020-06-14T12:22:05.443601Z",
     "start_time": "2020-06-14T12:22:04.509693Z"
    }
   },
   "outputs": [],
   "source": [
    "%matplotlib inline\n",
    "import sys\n",
    "import numpy as np\n",
    "#from numpy import linalg as LA\n",
    "import matplotlib.pyplot as plt\n",
    "# sys.path.append(\"./b1_hl_likelihood\")\n",
    "import bicep1_util as b1u"
   ]
  },
  {
   "cell_type": "code",
   "execution_count": 2,
   "metadata": {
    "ExecuteTime": {
     "end_time": "2020-06-14T12:22:06.095172Z",
     "start_time": "2020-06-14T12:22:06.076097Z"
    }
   },
   "outputs": [
    {
     "data": {
      "text/plain": [
       "u'/home/yao/Desktop/likelihood/b1_hl_likelihood'"
      ]
     },
     "execution_count": 2,
     "metadata": {},
     "output_type": "execute_result"
    }
   ],
   "source": [
    "pwd"
   ]
  },
  {
   "cell_type": "markdown",
   "metadata": {},
   "source": [
    "# Overview\n",
    "\n",
    "\n",
    "The code blocks in this notebook do the following:\n",
    "* load the BICEP1 Hamimeche & Lewis likelihood code\n",
    "* walk through the likelihood evaluation for a given theoretical model\n",
    "\n",
    "The BICEP1 data and analysis are described by Barkats <i>et al.</i> (2014), https://arxiv.org/abs/1310.1422  \n",
    "The Hamimeche & Lewis likelihood approach is described by Hamimeche & Lewis (2008), https://arxiv.org/abs/0801.0554\n",
    "\n",
    "This notebook was prepared on behalf of NASA's Legacy Archive for Microwave Background Data Analysis (LAMBDA, https://lambda.gsfc.nasa.gov/). If you have any comments or questions contact Graeme Addison at gaddison@jhu.edu."
   ]
  },
  {
   "cell_type": "code",
   "execution_count": 3,
   "metadata": {
    "ExecuteTime": {
     "end_time": "2020-06-14T12:22:11.060825Z",
     "start_time": "2020-06-14T12:22:11.050127Z"
    }
   },
   "outputs": [],
   "source": [
    "# the following code is taken from the b1_r_wrapper.py script\n",
    "# the exp (experiment) and field (type of spectra) are set to BICEP1 and B (for B-mode)\n",
    "# rlist contains the array of values of tensor-to-scalar ratio r that are evaluated by the likelihood\n",
    "exp = 'bicep1'\n",
    "field = 'B'\n",
    "rlist = np.arange(-1.2, 5.01, 0.01) # default r values to evaluate for B1"
   ]
  },
  {
   "cell_type": "markdown",
   "metadata": {},
   "source": [
    "## Reading in power spectra and noise arrays, covariance and bandpower window functions\n",
    "\n",
    "Explanation of arrays returned in the code block below:\n",
    "\n",
    "<b>C_l</b> is the theory power spectrum. For now, this is just an array of zeros.\n",
    "\n",
    "<b>C_l_hat</b> is the power spectrum bandpowers measured from the BICEP data\n",
    "\n",
    "<b>N_l</b> is the noise contribution to the power spectrum bandpowers, estimated from noise-only simulations\n",
    "\n",
    "<b>C_fl</b> is the fiducial power spectrum bandpowers, estimated from signal+noise simulations\n",
    "\n",
    "<b>M_inv</b> is the inverse covariance matrix; there are nine bandpowers so this is a $9\\times9$ matrix\n",
    "\n",
    "The BICEP bandpowers are defined as:\n",
    "\n",
    "$$\\left\\langle\\mathcal{D}_b^{XY}\\right\\rangle=\\sum_{\\ell}w_{b,\\ell}^{XY}\\mathcal{D}_{\\ell}^{XY}$$\n",
    "\n",
    "That is, each bandpower $b$ is a linear combination of the spectra measured at each multipole $\\ell$, with a weighting function $w_{b,\\ell}$.\n",
    "\n",
    "<b>bpwf_l</b> and <b>bpwf_Cs_l</b> are the $\\ell$ and $w_{b,\\ell}$ arrays. These arrays are used to convert theory power spectra at each $\\ell$ to theory bandpowers that can be directly compared with the data."
   ]
  },
  {
   "cell_type": "code",
   "execution_count": 4,
   "metadata": {
    "ExecuteTime": {
     "end_time": "2020-06-14T12:22:14.473160Z",
     "start_time": "2020-06-14T12:22:14.383434Z"
    }
   },
   "outputs": [
    {
     "name": "stdout",
     "output_type": "stream",
     "text": [
      "### Reading the BICEP1 BPWF from  file: windows/B1_3yr_bpwf_bin?_20131003.txt\n",
      "### Reading fiducial, real, and noise bias bandpowers from file: B1_3yr_likelihood_bandpowers_20131003.txt\n",
      "### Reading covariance matrix (M_cc) from file: B1_3yr_bpcm_20131003.txt\n"
     ]
    }
   ],
   "source": [
    "C_l, C_l_hat, N_l, C_fl, M_inv, bpwf_l, bpwf_Cs_l =  b1u.init(exp, field)"
   ]
  },
  {
   "cell_type": "code",
   "execution_count": 33,
   "metadata": {
    "ExecuteTime": {
     "end_time": "2020-06-15T10:54:48.916160Z",
     "start_time": "2020-06-15T10:54:48.910916Z"
    }
   },
   "outputs": [
    {
     "data": {
      "text/plain": [
       "array([[[ 0.065205]],\n",
       "\n",
       "       [[ 0.10756 ]],\n",
       "\n",
       "       [[ 0.23941 ]],\n",
       "\n",
       "       [[ 0.4328  ]],\n",
       "\n",
       "       [[ 0.8936  ]],\n",
       "\n",
       "       [[ 1.8497  ]],\n",
       "\n",
       "       [[ 3.6913  ]],\n",
       "\n",
       "       [[ 6.8446  ]],\n",
       "\n",
       "       [[12.4     ]]])"
      ]
     },
     "execution_count": 33,
     "metadata": {},
     "output_type": "execute_result"
    }
   ],
   "source": [
    "C_fl"
   ]
  },
  {
   "cell_type": "code",
   "execution_count": 12,
   "metadata": {
    "ExecuteTime": {
     "end_time": "2020-06-14T12:23:29.220929Z",
     "start_time": "2020-06-14T12:23:29.209876Z"
    }
   },
   "outputs": [
    {
     "data": {
      "text/plain": [
       "(580, 9, 6)"
      ]
     },
     "execution_count": 12,
     "metadata": {},
     "output_type": "execute_result"
    }
   ],
   "source": [
    "bpwf_Cs_l.shape"
   ]
  },
  {
   "cell_type": "code",
   "execution_count": 13,
   "metadata": {
    "ExecuteTime": {
     "end_time": "2020-06-14T12:23:55.072556Z",
     "start_time": "2020-06-14T12:23:55.058208Z"
    }
   },
   "outputs": [
    {
     "data": {
      "text/plain": [
       "(580,)"
      ]
     },
     "execution_count": 13,
     "metadata": {},
     "output_type": "execute_result"
    }
   ],
   "source": [
    "bpwf_l.shape"
   ]
  },
  {
   "cell_type": "markdown",
   "metadata": {},
   "source": [
    "## Reading in the input theory spectra\n",
    "\n",
    "The three cells below read in the theory power spectra and convert the power at each $\\ell$ into bandpowers as described above.\n",
    "\n",
    "The first block is the primordial B-mode power for $r=0.1$. The likelihood for different values of $r$ is then obtained by rescaling this quantity by $r/0.1$.\n",
    "\n",
    "The second block is the lensing B-mode power (generated from lensing of E-mode signal).\n",
    "\n",
    "The third block is the B-mode power expected aside from the primordial B-modes and lensing. This is set to zero in the BICEP analysis although in principle some other contribution could be added here."
   ]
  },
  {
   "cell_type": "code",
   "execution_count": 15,
   "metadata": {
    "ExecuteTime": {
     "end_time": "2020-06-14T12:27:01.136148Z",
     "start_time": "2020-06-14T12:27:01.091321Z"
    }
   },
   "outputs": [
    {
     "name": "stdout",
     "output_type": "stream",
     "text": [
      "### Loading input spectra from file: ./camb_wmap5yr_withB_uK.txt\n"
     ]
    }
   ],
   "source": [
    "# Load the input r = 0.1 BB spectrum\n",
    "file_in = \"./camb_wmap5yr_withB_uK.txt\"\n",
    "(ell, BB_Cs_l) = b1u.load_cmbfast(file_in)"
   ]
  },
  {
   "cell_type": "code",
   "execution_count": 16,
   "metadata": {
    "ExecuteTime": {
     "end_time": "2020-06-14T12:27:05.937496Z",
     "start_time": "2020-06-14T12:27:05.857246Z"
    }
   },
   "outputs": [
    {
     "name": "stdout",
     "output_type": "stream",
     "text": [
      "### Loading input spectra from file: ./camb_wmap5yr_lensed_uK.txt\n"
     ]
    }
   ],
   "source": [
    "# Load the LCDM + lensing spectra\n",
    "lensing = \"./camb_wmap5yr_lensed_uK.txt\"\n",
    "(ell1, inpmodLensing_Cs_l) = b1u.load_cmbfast(lensing)\n",
    "expvLensing = b1u.calc_expvals(ell1, inpmodLensing_Cs_l, bpwf_l, bpwf_Cs_l)"
   ]
  },
  {
   "cell_type": "code",
   "execution_count": 17,
   "metadata": {
    "ExecuteTime": {
     "end_time": "2020-06-14T12:27:11.988498Z",
     "start_time": "2020-06-14T12:27:11.963002Z"
    }
   },
   "outputs": [
    {
     "name": "stdout",
     "output_type": "stream",
     "text": [
      "### Loading input spectra from file: ./camb_wmap5yr_noB_uK.txt\n"
     ]
    }
   ],
   "source": [
    "# Load the LCDM input spectra\n",
    "LCDM = \"./camb_wmap5yr_noB_uK.txt\"\n",
    "(ell1, inpmodLCDM_Cs_l) = b1u.load_cmbfast(LCDM)\n",
    "expvLCDM = b1u.calc_expvals(ell1, inpmodLCDM_Cs_l, bpwf_l, bpwf_Cs_l)"
   ]
  },
  {
   "cell_type": "code",
   "execution_count": 21,
   "metadata": {
    "ExecuteTime": {
     "end_time": "2020-06-14T12:29:29.035120Z",
     "start_time": "2020-06-14T12:29:29.030585Z"
    }
   },
   "outputs": [
    {
     "data": {
      "text/plain": [
       "(9, 6)"
      ]
     },
     "execution_count": 21,
     "metadata": {},
     "output_type": "execute_result"
    }
   ],
   "source": [
    "expvLCDM.shape"
   ]
  },
  {
   "cell_type": "code",
   "execution_count": 18,
   "metadata": {
    "ExecuteTime": {
     "end_time": "2020-06-14T12:27:15.838334Z",
     "start_time": "2020-06-14T12:27:15.147798Z"
    }
   },
   "outputs": [
    {
     "data": {
      "image/png": "[encoded data removed]",
      "text/plain": [
       "<Figure size 576x432 with 1 Axes>"
      ]
     },
     "metadata": {},
     "output_type": "display_data"
    }
   ],
   "source": [
    "# plot showing the primordial and lensing B-modes for the fiducial model used in the BICEP analysis\n",
    "\n",
    "fig = plt.figure(figsize=(8,6))\n",
    "plt.plot(ell, BB_Cs_l[:,3], 'r', label=r'Primordial B-modes, $r=0.1$')\n",
    "plt.plot(ell1, inpmodLensing_Cs_l[:,3], 'b', label=r'Lensing B-modes')\n",
    "plt.plot(ell1, BB_Cs_l[:,3] + inpmodLensing_Cs_l[:,3], 'k', label=r'Total B-modes')\n",
    "plt.xlim([2, 350])\n",
    "#plt.ylim([-0.002, 0.02])\n",
    "plt.xscale('log')\n",
    "plt.ylim([1e-4, 1e-1])\n",
    "plt.yscale('log')\n",
    "plt.xlabel(r\"Multipole, $\\ell$\", size=16)\n",
    "plt.ylabel(r\"$B$-mode power $\\ell(\\ell+1)C_{\\ell}^{BB}/2\\pi$ [$\\mu$K$^2$]\", size=16)\n",
    "plt.legend(loc=2, frameon=False, fontsize=14)\n",
    "plt.title('Fiducial theory power spectra for BICEP1 analysis', size=16)\n",
    "plt.show()"
   ]
  },
  {
   "cell_type": "markdown",
   "metadata": {},
   "source": [
    "## Evaluating the likelihood\n",
    "\n",
    "We're now ready to evaluate the likelihood. We start by specifying a value of $r$, and computing the total theory B-mode bandpower predictions (primordial B-modes plus the lensing). The expected noise bias is also included."
   ]
  },
  {
   "cell_type": "code",
   "execution_count": 25,
   "metadata": {
    "ExecuteTime": {
     "end_time": "2020-06-14T12:31:08.378973Z",
     "start_time": "2020-06-14T12:31:08.370566Z"
    }
   },
   "outputs": [],
   "source": [
    "# evaluate likelihood for single value of r\n",
    "\n",
    "r = 0.2\n",
    "\n",
    "expv = expvLCDM.copy()\n",
    "\n",
    "# Scale the BB spectrum from fiducial model (r=0.1) and perform bandpower binning\n",
    "this_mod = BB_Cs_l.copy()\n",
    "this_mod[:,3] = np.multiply(this_mod[:,3], r/0.1)\n",
    "expvBB = b1u.calc_expvals(ell, this_mod, bpwf_l, bpwf_Cs_l)\n",
    "\n",
    "# Add the scaled BB + the fixed lensing BB (plus any additional ex)\n",
    "expv[:,3] = expv[:,3] + expvBB[:,3] + expvLensing[:,3]\n",
    "\n",
    "C_l[:,0,0] = expv[:,3] \n",
    "\n",
    "# add Noise bias N_l to expectation values.\n",
    "C_l = C_l + N_l"
   ]
  },
  {
   "cell_type": "code",
   "execution_count": 26,
   "metadata": {
    "ExecuteTime": {
     "end_time": "2020-06-14T12:31:22.334959Z",
     "start_time": "2020-06-14T12:31:22.322843Z"
    }
   },
   "outputs": [
    {
     "data": {
      "text/plain": [
       "(9, 1, 1)"
      ]
     },
     "execution_count": 26,
     "metadata": {},
     "output_type": "execute_result"
    }
   ],
   "source": [
    "C_l.shape"
   ]
  },
  {
   "cell_type": "markdown",
   "metadata": {},
   "source": [
    "The description below is taken from Section 9 of Barkats <i>et al.</i> (2014). More mathematical details can be found in Section II. E of Hamimeche & Lewis (2008), where it is shown that, while the likelihood approximation is only exact on the full sky, it remains good enough on cut-sky analyses like BICEP at $\\ell>30$.\n",
    "\n",
    "The likelihood approximation is\n",
    "\n",
    "$$-2\\log\\mathcal{L}(\\mathcal{D}_b\\mid\\hat{\\mathcal{D}}_b)=X_c\\mathcal{M}_{cc'}^{-1}X_{c'},$$\n",
    "\n",
    "where $\\mathcal{D}_b$ are the model bandpowers and $\\hat{\\mathcal{D}}_b$ are the data. The indices $c$ and $c'$ run over combinations of $\\ell$-bins and six spectra ($TT$, $EE$, $BB$, $TE$, $EB$, and $TB$), while $b$ runs over $\\ell$-bins only.\n",
    "\n",
    "This is a quadratic likelihood that looks similar to a $\\chi^2$, however the vector $X_c$ here is not the vector of bandpowers themselves but rather a transformed version of the bandpowers, where the transformation is designed to correct the shape of the likelihood (Section II. E. of Hamimeche & Lewis, 2008):\n",
    "\n",
    "$$\\left(X_b^{TT}, X_b^{EE}, X_b^{BB}, X_b^{TE}, X_b^{EB}, X_b^{TB}\\right)=\\textrm{vecp}\\left((\\mathcal{D}_b^f)^{1/2}{\\bf U}_b\\,g({\\bf D}_b){\\bf U}_b^{\\dagger}(\\mathcal{D}_b^f)^{1/2}\\right)$$\n",
    "\n",
    "In this expression, $\\mathcal{D}_b^f$ are fiducial bandpowers from the mean of $\\Lambda$CDM signal-plus-noise simulations (the same simulations used to calculate the bandpower covariance $\\mathcal{M}_{cc'}$. Matrices ${\\bf U}_b$ and ${\\bf D}_b$ are the eigenvectors and eigenvalues of the matrix product ${\\bf\\mathcal{D}}^{-1/2}_b{\\bf\\hat{\\mathcal{D}}}_b{\\bf\\mathcal{D}}^{-1/2}_b$, and the function\n",
    "\n",
    "$$g(x)\\equiv{\\rm sign}(x-1)\\sqrt{2(x-\\ln x-1)}$$\n",
    "\n",
    "acts on the diagonal matrix ${\\bf D}_b$ to form $g({\\bf D}_b)$."
   ]
  },
  {
   "cell_type": "code",
   "execution_count": 28,
   "metadata": {
    "ExecuteTime": {
     "end_time": "2020-06-15T06:19:47.532345Z",
     "start_time": "2020-06-15T06:19:47.380160Z"
    }
   },
   "outputs": [
    {
     "name": "stdout",
     "output_type": "stream",
     "text": [
      "-3.058568152534242\n"
     ]
    }
   ],
   "source": [
    "# calling the function to evaluate the likelihood approximation for a given set of C_l, C_l_hat, C_fl, and M_inv\n",
    "logL = b1u.evaluateLikelihood(C_l, C_l_hat, C_fl, M_inv)\n",
    "logLike = np.real(logL)\n",
    "print logLike    "
   ]
  },
  {
   "cell_type": "markdown",
   "metadata": {},
   "source": [
    "We can also compute the likelihood for a range of $r$ values, recalculating the expected fiducial spectrum each time, and make a plot similar to Figure 10 from Barkats <i>et al.</i> Since the uncertainty in $r$ is large the plot extends to (unphysical) negative values of $r$ rather than truncating at zero, in order to give a better sense for the width of the distribution."
   ]
  },
  {
   "cell_type": "code",
   "execution_count": 29,
   "metadata": {
    "ExecuteTime": {
     "end_time": "2020-06-15T06:20:10.614310Z",
     "start_time": "2020-06-15T06:19:50.292759Z"
    }
   },
   "outputs": [],
   "source": [
    "# Initiating the logarithmic likelihood arrays\n",
    "logLike = np.zeros(len(rlist))\n",
    "\n",
    "# loop over r values\n",
    "for i in range(len(rlist)):\n",
    "    expv = expvLCDM.copy()\n",
    "    \n",
    "    r  =  rlist[i]\n",
    "    # Scale the BB spectrum from fiducial model (r=0.1) and get its expectation value\n",
    "    this_mod = BB_Cs_l.copy()\n",
    "    this_mod[:,3] = np.multiply(this_mod[:,3], r/0.1)\n",
    "    expvBB = b1u.calc_expvals(ell, this_mod, bpwf_l, bpwf_Cs_l)\n",
    "\n",
    "    # Add the scaled BB + the fixed lensing BB to the LCDM\n",
    "    expv[:,3] = expv[:,3] + expvBB[:,3] + expvLensing[:,3]\n",
    "    \n",
    "    C_l[:,0,0] = expv[:,3] \n",
    "    \n",
    "    # add Noise bias N_l to expectation values.\n",
    "    C_l = C_l + N_l\n",
    "\n",
    "    logL = b1u.evaluateLikelihood(C_l, C_l_hat, C_fl, M_inv)\n",
    "    logLike[i] = np.real(logL)"
   ]
  },
  {
   "cell_type": "code",
   "execution_count": 30,
   "metadata": {
    "ExecuteTime": {
     "end_time": "2020-06-15T06:20:14.737081Z",
     "start_time": "2020-06-15T06:20:14.373706Z"
    }
   },
   "outputs": [
    {
     "data": {
      "image/png": "[encoded data removed]",
      "text/plain": [
       "<Figure size 432x288 with 1 Axes>"
      ]
     },
     "metadata": {},
     "output_type": "display_data"
    }
   ],
   "source": [
    "plt.plot(rlist, np.exp(logLike))\n",
    "plt.axvline(0., c='k', ls='--')\n",
    "plt.xlim([-0.6, 1.4])\n",
    "plt.ylim([0, 0.07])\n",
    "# plt.yticks([])\n",
    "plt.xlabel(r'Tensor-to-scalar ratio $r$', size=16)\n",
    "plt.ylabel(r'Probability', size=16)\n",
    "plt.title(r'Constraints on $r$ from three years of BICEP data', size=16)\n",
    "plt.show()"
   ]
  },
  {
   "cell_type": "code",
   "execution_count": null,
   "metadata": {},
   "outputs": [],
   "source": []
  }
 ],
 "metadata": {
  "kernelspec": {
   "display_name": "Python 2",
   "language": "python",
   "name": "python2"
  },
  "language_info": {
   "codemirror_mode": {
    "name": "ipython",
    "version": 2
   },
   "file_extension": ".py",
   "mimetype": "text/x-python",
   "name": "python",
   "nbconvert_exporter": "python",
   "pygments_lexer": "ipython2",
   "version": "2.7.12"
  },
  "toc": {
   "base_numbering": 1,
   "nav_menu": {},
   "number_sections": true,
   "sideBar": true,
   "skip_h1_title": false,
   "title_cell": "Table of Contents",
   "title_sidebar": "Contents",
   "toc_cell": false,
   "toc_position": {},
   "toc_section_display": true,
   "toc_window_display": false
  },
  "varInspector": {
   "cols": {
    "lenName": 16,
    "lenType": 16,
    "lenVar": 40
   },
   "kernels_config": {
    "python": {
     "delete_cmd_postfix": "",
     "delete_cmd_prefix": "del ",
     "library": "var_list.py",
     "varRefreshCmd": "print(var_dic_list())"
    },
    "r": {
     "delete_cmd_postfix": ") ",
     "delete_cmd_prefix": "rm(",
     "library": "var_list.r",
     "varRefreshCmd": "cat(var_dic_list()) "
    }
   },
   "types_to_exclude": [
    "module",
    "function",
    "builtin_function_or_method",
    "instance",
    "_Feature"
   ],
   "window_display": false
  }
 },
 "nbformat": 4,
 "nbformat_minor": 2
}
