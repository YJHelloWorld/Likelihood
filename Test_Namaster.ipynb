{
 "cells": [
  {
   "cell_type": "code",
   "execution_count": 3,
   "metadata": {
    "ExecuteTime": {
     "end_time": "2020-08-24T20:32:07.426272Z",
     "start_time": "2020-08-24T20:32:07.401445Z"
    }
   },
   "outputs": [],
   "source": [
    "import healpy as hp\n",
    "import numpy as np\n",
    "import matplotlib.pyplot as plt\n",
    "import imp\n",
    "import pymaster as nmt\n",
    "import time\n",
    "%matplotlib inline"
   ]
  },
  {
   "cell_type": "code",
   "execution_count": 4,
   "metadata": {
    "ExecuteTime": {
     "end_time": "2020-08-24T20:32:13.352423Z",
     "start_time": "2020-08-24T20:32:07.935895Z"
    }
   },
   "outputs": [
    {
     "name": "stdout",
     "output_type": "stream",
     "text": [
      "NSIDE = 1024\n",
      "ORDERING = RING in fits file\n",
      "INDXSCHM = IMPLICIT\n"
     ]
    }
   ],
   "source": [
    "mask = hp.read_map('/fnx/jianyao/DataChallenge/Ali_mask_6p2_equ.fits')\n",
    "mask_apo = nmt.mask_apodization(mask, 6, apotype='C2')"
   ]
  },
  {
   "cell_type": "code",
   "execution_count": 10,
   "metadata": {
    "ExecuteTime": {
     "end_time": "2020-08-24T20:38:26.540867Z",
     "start_time": "2020-08-24T20:38:26.536539Z"
    }
   },
   "outputs": [],
   "source": [
    "nside = 1024; bin_w = 20; lmax = 1000"
   ]
  },
  {
   "cell_type": "code",
   "execution_count": 7,
   "metadata": {
    "ExecuteTime": {
     "end_time": "2020-08-24T20:36:29.144196Z",
     "start_time": "2020-08-24T20:36:26.740305Z"
    }
   },
   "outputs": [],
   "source": [
    "cmb_1024 = np.load('/fnx/jianyao/DataChallenge/My_simulation/CMB/cmb_maps_mc_%03d.npy'%1)\n",
    "cmb_512 = hp.ud_grade(cmb_1024, nside_out=512)"
   ]
  },
  {
   "cell_type": "code",
   "execution_count": 36,
   "metadata": {
    "ExecuteTime": {
     "end_time": "2020-08-24T20:48:12.528599Z",
     "start_time": "2020-08-24T20:48:08.020284Z"
    }
   },
   "outputs": [],
   "source": [
    "cmb_1024_beamed = hp.smoothing((cmb_1024), fwhm = 19.0/60/180*np.pi, lmax = 1000, verbose = False)\n",
    "cmb_512_beamed = hp.smoothing((cmb_512), fwhm = 19.0/60/180*np.pi, lmax = 500, verbose = False)"
   ]
  },
  {
   "cell_type": "code",
   "execution_count": 37,
   "metadata": {
    "ExecuteTime": {
     "end_time": "2020-08-24T20:48:12.559507Z",
     "start_time": "2020-08-24T20:48:12.556390Z"
    }
   },
   "outputs": [],
   "source": [
    "b_1024 = nmt.NmtBin(1024, nlb=bin_w, lmax=1000, is_Dell = True)\n",
    "b_512 = nmt.NmtBin(512, nlb=bin_w, lmax = 500, is_Dell = True)"
   ]
  },
  {
   "cell_type": "code",
   "execution_count": 38,
   "metadata": {
    "ExecuteTime": {
     "end_time": "2020-08-24T20:48:39.547079Z",
     "start_time": "2020-08-24T20:48:16.462343Z"
    }
   },
   "outputs": [],
   "source": [
    "bl_h = hp.gauss_beam(19.0/60/180*np.pi, lmax = 3*1024-1)\n",
    "f2_h = nmt.NmtField(mask_apo, cmb_1024_beamed[1:3]*mask, purify_e=False, purify_b=True, beam=bl_h)\n",
    "cls = nmt.compute_full_master(f2_h, f2_h, b_1024)"
   ]
  },
  {
   "cell_type": "code",
   "execution_count": 39,
   "metadata": {
    "ExecuteTime": {
     "end_time": "2020-08-24T20:48:53.396500Z",
     "start_time": "2020-08-24T20:48:39.566138Z"
    }
   },
   "outputs": [],
   "source": [
    "cls_hp = hp.anafast(cmb_1024)"
   ]
  },
  {
   "cell_type": "code",
   "execution_count": 43,
   "metadata": {
    "ExecuteTime": {
     "end_time": "2020-08-24T20:51:17.251955Z",
     "start_time": "2020-08-24T20:51:16.721437Z"
    }
   },
   "outputs": [
    {
     "data": {
      "text/plain": [
       "[<matplotlib.lines.Line2D at 0x7ff2385c8a58>]"
      ]
     },
     "execution_count": 43,
     "metadata": {},
     "output_type": "execute_result"
    },
    {
     "data": {
      "image/png": "[encoded data removed]",
      "text/plain": [
       "<Figure size 432x288 with 1 Axes>"
      ]
     },
     "metadata": {
      "needs_background": "light"
     },
     "output_type": "display_data"
    }
   ],
   "source": [
    "ells = np.arange(len(cls_hp[0]))\n",
    "plt.loglog(b_1024.get_effective_ells(), cls[0])\n",
    "# plt.loglog(ells, ells*(ells+1)/2/np.pi*cls_hp[1])\n",
    "# plt.xlim(0, 600)"
   ]
  },
  {
   "cell_type": "code",
   "execution_count": null,
   "metadata": {},
   "outputs": [],
   "source": []
  }
 ],
 "metadata": {
  "kernelspec": {
   "display_name": "Python 3",
   "language": "python",
   "name": "python3"
  },
  "language_info": {
   "codemirror_mode": {
    "name": "ipython",
    "version": 3
   },
   "file_extension": ".py",
   "mimetype": "text/x-python",
   "name": "python",
   "nbconvert_exporter": "python",
   "pygments_lexer": "ipython3",
   "version": "3.7.3"
  },
  "toc": {
   "base_numbering": 1,
   "nav_menu": {},
   "number_sections": true,
   "sideBar": true,
   "skip_h1_title": false,
   "title_cell": "Table of Contents",
   "title_sidebar": "Contents",
   "toc_cell": false,
   "toc_position": {},
   "toc_section_display": true,
   "toc_window_display": false
  },
  "varInspector": {
   "cols": {
    "lenName": 16,
    "lenType": 16,
    "lenVar": 40
   },
   "kernels_config": {
    "python": {
     "delete_cmd_postfix": "",
     "delete_cmd_prefix": "del ",
     "library": "var_list.py",
     "varRefreshCmd": "print(var_dic_list())"
    },
    "r": {
     "delete_cmd_postfix": ") ",
     "delete_cmd_prefix": "rm(",
     "library": "var_list.r",
     "varRefreshCmd": "cat(var_dic_list()) "
    }
   },
   "types_to_exclude": [
    "module",
    "function",
    "builtin_function_or_method",
    "instance",
    "_Feature"
   ],
   "window_display": false
  }
 },
 "nbformat": 4,
 "nbformat_minor": 2
}
